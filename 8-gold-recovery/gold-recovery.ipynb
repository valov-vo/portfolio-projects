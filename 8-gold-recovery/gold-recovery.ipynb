{
 "cells": [
  {
   "cell_type": "markdown",
   "metadata": {
    "toc": true
   },
   "source": [
    "<h1>Содержание<span class=\"tocSkip\"></span></h1>\n",
    "<div class=\"toc\"><ul class=\"toc-item\"><li><span><a href=\"#Импорт-библиотек\" data-toc-modified-id=\"Импорт-библиотек-1\"><span class=\"toc-item-num\">1&nbsp;&nbsp;</span>Импорт библиотек</a></span></li><li><span><a href=\"#Подготовка-данных\" data-toc-modified-id=\"Подготовка-данных-2\"><span class=\"toc-item-num\">2&nbsp;&nbsp;</span>Подготовка данных</a></span><ul class=\"toc-item\"><li><span><a href=\"#Загрузка-и-знакомство-с-данными\" data-toc-modified-id=\"Загрузка-и-знакомство-с-данными-2.1\"><span class=\"toc-item-num\">2.1&nbsp;&nbsp;</span>Загрузка и знакомство с данными</a></span></li><li><span><a href=\"#-Комментарий-ревьюера-v1\" data-toc-modified-id=\"-Комментарий-ревьюера-v1-2.2\"><span class=\"toc-item-num\">2.2&nbsp;&nbsp;</span> Комментарий ревьюера v1</a></span></li><li><span><a href=\"#Проверка-правильности-расчёта-эффективности-обогащения\" data-toc-modified-id=\"Проверка-правильности-расчёта-эффективности-обогащения-2.3\"><span class=\"toc-item-num\">2.3&nbsp;&nbsp;</span>Проверка правильности расчёта эффективности обогащения</a></span></li><li><span><a href=\"#-Комментарий-ревьюера-v1\" data-toc-modified-id=\"-Комментарий-ревьюера-v1-2.4\"><span class=\"toc-item-num\">2.4&nbsp;&nbsp;</span> Комментарий ревьюера v1</a></span></li><li><span><a href=\"#Отсутствующие-столбцы-в-тестовой-выборке\" data-toc-modified-id=\"Отсутствующие-столбцы-в-тестовой-выборке-2.5\"><span class=\"toc-item-num\">2.5&nbsp;&nbsp;</span>Отсутствующие столбцы в тестовой выборке</a></span></li><li><span><a href=\"#-Комментарий-ревьюера-v1\" data-toc-modified-id=\"-Комментарий-ревьюера-v1-2.6\"><span class=\"toc-item-num\">2.6&nbsp;&nbsp;</span> Комментарий ревьюера v1</a></span></li><li><span><a href=\"#Предобработка-данных\" data-toc-modified-id=\"Предобработка-данных-2.7\"><span class=\"toc-item-num\">2.7&nbsp;&nbsp;</span>Предобработка данных</a></span></li><li><span><a href=\"#-Комментарий-ревьюера-v1\" data-toc-modified-id=\"-Комментарий-ревьюера-v1-2.8\"><span class=\"toc-item-num\">2.8&nbsp;&nbsp;</span> Комментарий ревьюера v1</a></span></li><li><span><a href=\"#Итоги-подготовки-данных\" data-toc-modified-id=\"Итоги-подготовки-данных-2.9\"><span class=\"toc-item-num\">2.9&nbsp;&nbsp;</span>Итоги подготовки данных</a></span></li><li><span><a href=\"#-Комментарий-ревьюера-v1\" data-toc-modified-id=\"-Комментарий-ревьюера-v1-2.10\"><span class=\"toc-item-num\">2.10&nbsp;&nbsp;</span> Комментарий ревьюера v1</a></span></li></ul></li><li><span><a href=\"#Анализ-данных\" data-toc-modified-id=\"Анализ-данных-3\"><span class=\"toc-item-num\">3&nbsp;&nbsp;</span>Анализ данных</a></span><ul class=\"toc-item\"><li><span><a href=\"#Концентрация-металлов-в-продукте-этапов\" data-toc-modified-id=\"Концентрация-металлов-в-продукте-этапов-3.1\"><span class=\"toc-item-num\">3.1&nbsp;&nbsp;</span>Концентрация металлов в продукте этапов</a></span></li><li><span><a href=\"#-Комментарий-ревьюера-v1\" data-toc-modified-id=\"-Комментарий-ревьюера-v1-3.2\"><span class=\"toc-item-num\">3.2&nbsp;&nbsp;</span> Комментарий ревьюера v1</a></span></li><li><span><a href=\"#Концентрация-металлов-в-отвальных-хвостах\" data-toc-modified-id=\"Концентрация-металлов-в-отвальных-хвостах-3.3\"><span class=\"toc-item-num\">3.3&nbsp;&nbsp;</span>Концентрация металлов в отвальных хвостах</a></span></li><li><span><a href=\"#Сравнение-распределений-размеров-гранул\" data-toc-modified-id=\"Сравнение-распределений-размеров-гранул-3.4\"><span class=\"toc-item-num\">3.4&nbsp;&nbsp;</span>Сравнение распределений размеров гранул</a></span></li><li><span><a href=\"#-Комментарий-ревьюера-v1\" data-toc-modified-id=\"-Комментарий-ревьюера-v1-3.5\"><span class=\"toc-item-num\">3.5&nbsp;&nbsp;</span> Комментарий ревьюера v1</a></span></li><li><span><a href=\"#Суммарная-концентрация-всех-веществ-на-разных-этапах\" data-toc-modified-id=\"Суммарная-концентрация-всех-веществ-на-разных-этапах-3.6\"><span class=\"toc-item-num\">3.6&nbsp;&nbsp;</span>Суммарная концентрация всех веществ на разных этапах</a></span></li><li><span><a href=\"#-Комментарий-ревьюера-v1\" data-toc-modified-id=\"-Комментарий-ревьюера-v1-3.7\"><span class=\"toc-item-num\">3.7&nbsp;&nbsp;</span> Комментарий ревьюера v1</a></span></li><li><span><a href=\"#Итоги-анализа-данных\" data-toc-modified-id=\"Итоги-анализа-данных-3.8\"><span class=\"toc-item-num\">3.8&nbsp;&nbsp;</span>Итоги анализа данных</a></span></li><li><span><a href=\"#-Комментарий-ревьюера-v1\" data-toc-modified-id=\"-Комментарий-ревьюера-v1-3.9\"><span class=\"toc-item-num\">3.9&nbsp;&nbsp;</span> Комментарий ревьюера v1</a></span></li></ul></li><li><span><a href=\"#Модель\" data-toc-modified-id=\"Модель-4\"><span class=\"toc-item-num\">4&nbsp;&nbsp;</span>Модель</a></span><ul class=\"toc-item\"><li><span><a href=\"#Функция-расчёта-метрики\" data-toc-modified-id=\"Функция-расчёта-метрики-4.1\"><span class=\"toc-item-num\">4.1&nbsp;&nbsp;</span>Функция расчёта метрики</a></span></li><li><span><a href=\"#-Комментарий-ревьюера-v1\" data-toc-modified-id=\"-Комментарий-ревьюера-v1-4.2\"><span class=\"toc-item-num\">4.2&nbsp;&nbsp;</span> Комментарий ревьюера v1</a></span></li><li><span><a href=\"#-Комментарий-ревьюера-v1\" data-toc-modified-id=\"-Комментарий-ревьюера-v1-4.3\"><span class=\"toc-item-num\">4.3&nbsp;&nbsp;</span> Комментарий ревьюера v1</a></span></li><li><span><a href=\"#-Комментарий-ревьюера-v1\" data-toc-modified-id=\"-Комментарий-ревьюера-v1-4.4\"><span class=\"toc-item-num\">4.4&nbsp;&nbsp;</span> Комментарий ревьюера v1</a></span></li><li><span><a href=\"#Подготовка-к-обучению-моделей\" data-toc-modified-id=\"Подготовка-к-обучению-моделей-4.5\"><span class=\"toc-item-num\">4.5&nbsp;&nbsp;</span>Подготовка к обучению моделей</a></span></li><li><span><a href=\"#-Комментарий-ревьюера-v1\" data-toc-modified-id=\"-Комментарий-ревьюера-v1-4.6\"><span class=\"toc-item-num\">4.6&nbsp;&nbsp;</span> Комментарий ревьюера v1</a></span></li><li><span><a href=\"#-Комментарий-ревьюера-v2\" data-toc-modified-id=\"-Комментарий-ревьюера-v2-4.7\"><span class=\"toc-item-num\">4.7&nbsp;&nbsp;</span> Комментарий ревьюера v2</a></span></li><li><span><a href=\"#Линейная-регрессия\" data-toc-modified-id=\"Линейная-регрессия-4.8\"><span class=\"toc-item-num\">4.8&nbsp;&nbsp;</span>Линейная регрессия</a></span></li><li><span><a href=\"#Случайный-лес\" data-toc-modified-id=\"Случайный-лес-4.9\"><span class=\"toc-item-num\">4.9&nbsp;&nbsp;</span>Случайный лес</a></span></li><li><span><a href=\"#-Комментарий-ревьюера-v1\" data-toc-modified-id=\"-Комментарий-ревьюера-v1-4.10\"><span class=\"toc-item-num\">4.10&nbsp;&nbsp;</span> Комментарий ревьюера v1</a></span></li><li><span><a href=\"#-Комментарий-ревьюера-v1\" data-toc-modified-id=\"-Комментарий-ревьюера-v1-4.11\"><span class=\"toc-item-num\">4.11&nbsp;&nbsp;</span> Комментарий ревьюера v1</a></span></li><li><span><a href=\"#-Комментарий-ревьюера-v2\" data-toc-modified-id=\"-Комментарий-ревьюера-v2-4.12\"><span class=\"toc-item-num\">4.12&nbsp;&nbsp;</span> Комментарий ревьюера v2</a></span></li><li><span><a href=\"#Проверка-лучшей-модели-на-тестовой-выборке\" data-toc-modified-id=\"Проверка-лучшей-модели-на-тестовой-выборке-4.13\"><span class=\"toc-item-num\">4.13&nbsp;&nbsp;</span>Проверка лучшей модели на тестовой выборке</a></span></li><li><span><a href=\"#Проверка-на-адекватность\" data-toc-modified-id=\"Проверка-на-адекватность-4.14\"><span class=\"toc-item-num\">4.14&nbsp;&nbsp;</span>Проверка на адекватность</a></span></li><li><span><a href=\"#-Комментарий-ревьюера-v1\" data-toc-modified-id=\"-Комментарий-ревьюера-v1-4.15\"><span class=\"toc-item-num\">4.15&nbsp;&nbsp;</span> Комментарий ревьюера v1</a></span></li></ul></li><li><span><a href=\"#Итоговый-вывод\" data-toc-modified-id=\"Итоговый-вывод-5\"><span class=\"toc-item-num\">5&nbsp;&nbsp;</span>Итоговый вывод</a></span></li><li><span><a href=\"#Чек-лист-готовности-проекта\" data-toc-modified-id=\"Чек-лист-готовности-проекта-6\"><span class=\"toc-item-num\">6&nbsp;&nbsp;</span>Чек-лист готовности проекта</a></span><ul class=\"toc-item\"><li><span><a href=\"#-Итоговый-комментарий\" data-toc-modified-id=\"-Итоговый-комментарий-6.1\"><span class=\"toc-item-num\">6.1&nbsp;&nbsp;</span> Итоговый комментарий</a></span></li><li><span><a href=\"#-Комментарий-ревьюера-v2\" data-toc-modified-id=\"-Комментарий-ревьюера-v2-6.2\"><span class=\"toc-item-num\">6.2&nbsp;&nbsp;</span> Комментарий ревьюера v2</a></span></li></ul></li></ul></div>"
   ]
  },
  {
   "cell_type": "markdown",
   "metadata": {},
   "source": [
    "# Восстановление золота из руды"
   ]
  },
  {
   "cell_type": "markdown",
   "metadata": {},
   "source": [
    "Необходимо подготовить прототип модели машинного обучения для «Цифры». Компания разрабатывает решения для эффективной работы промышленных предприятий.\n",
    "\n",
    "Модель должна предсказать коэффициент восстановления золота из золотосодержащей руды. Нужно использовать данные с параметрами добычи и очистки. \n",
    "\n",
    "Модель поможет оптимизировать производство, чтобы не запускать предприятие с убыточными характеристиками."
   ]
  },
  {
   "cell_type": "markdown",
   "metadata": {},
   "source": [
    "# Описание данных"
   ]
  },
  {
   "cell_type": "markdown",
   "metadata": {},
   "source": [
    "**Технологический процесс:**\n",
    "- `Rougher feed` — исходное сырье\n",
    "- `Rougher additions` (или reagent additions) — флотационные реагенты: Xanthate, Sulphate, Depressant\n",
    "    - Xanthate **— ксантогенат (промотер, или активатор флотации);\n",
    "    - Sulphate — сульфат (на данном производстве сульфид натрия);\n",
    "    - Depressant — депрессант (силикат натрия).\n",
    "- `Rougher process` (англ. «грубый процесс») — флотация\n",
    "- `Rougher tails` — отвальные хвосты\n",
    "- `Float banks` — флотационная установка\n",
    "- `Cleaner process` — очистка\n",
    "- `Rougher Au` — черновой концентрат золота\n",
    "- `Final Au` — финальный концентрат золота\n",
    "\n",
    "**Параметры этапов:**\n",
    "- `air amount` — объём воздуха\n",
    "- `fluid levels` — уровень жидкости\n",
    "- `feed size` — размер гранул сырья\n",
    "- `feed rate` — скорость подачи\n",
    "\n",
    "**Наименование признаков**\n",
    "\n",
    "Наименование признаков должно быть такое:\n",
    "[этап].[тип_параметра].[название_параметра]\n",
    "\n",
    "Пример: `rougher.input.feed_ag`\n",
    "\n",
    "*Возможные значения для блока [этап]:*\n",
    "- `rougher` — флотация\n",
    "- `primary_cleaner` — первичная очистка\n",
    "- `secondary_cleaner` — вторичная очистка\n",
    "- `final` — финальные характеристики\n",
    "\n",
    "*Возможные значения для блока [тип_параметра]:*\n",
    "- `input` — параметры сырья\n",
    "- `output` — параметры продукта\n",
    "- `state` — параметры, характеризующие текущее состояние этапа\n",
    "- `calculation` — расчётные характеристики"
   ]
  },
  {
   "cell_type": "markdown",
   "metadata": {},
   "source": [
    "## Импорт библиотек"
   ]
  },
  {
   "cell_type": "markdown",
   "metadata": {},
   "source": [
    "Импортируем необходимые библиотеки:"
   ]
  },
  {
   "cell_type": "code",
   "execution_count": 1,
   "metadata": {},
   "outputs": [],
   "source": [
    "import pandas as pd\n",
    "import numpy as np\n",
    "import matplotlib.pyplot as plt\n",
    "from sklearn.model_selection import train_test_split, cross_val_score, RandomizedSearchCV\n",
    "from sklearn.linear_model import LinearRegression\n",
    "from sklearn.ensemble import RandomForestRegressor\n",
    "from catboost import CatBoostRegressor\n",
    "from sklearn.dummy import DummyRegressor\n",
    "from sklearn.metrics import mean_squared_error, mean_absolute_error, make_scorer\n",
    "from sklearn.utils import shuffle\n",
    "from sklearn.preprocessing import StandardScaler"
   ]
  },
  {
   "cell_type": "markdown",
   "metadata": {},
   "source": [
    "Введём константы:"
   ]
  },
  {
   "cell_type": "code",
   "execution_count": 2,
   "metadata": {},
   "outputs": [],
   "source": [
    "RANDOM_STATE = 12345"
   ]
  },
  {
   "cell_type": "markdown",
   "metadata": {},
   "source": [
    "## Подготовка данных"
   ]
  },
  {
   "cell_type": "markdown",
   "metadata": {},
   "source": [
    "### Загрузка и знакомство с данными"
   ]
  },
  {
   "cell_type": "markdown",
   "metadata": {},
   "source": [
    "Начнём с загрузки данных из файлов:"
   ]
  },
  {
   "cell_type": "code",
   "execution_count": 3,
   "metadata": {},
   "outputs": [],
   "source": [
    "try:\n",
    "    train = pd.read_csv('/datasets/gold_recovery_train_new.csv')\n",
    "    test = pd.read_csv('/datasets/gold_recovery_test_new.csv')\n",
    "    full = pd.read_csv('/datasets/gold_recovery_full_new.csv')\n",
    "except:\n",
    "    train = pd.read_csv('gold_recovery_train_new.csv')\n",
    "    test = pd.read_csv('gold_recovery_test_new.csv')\n",
    "    full = pd.read_csv('gold_recovery_full_new.csv')"
   ]
  },
  {
   "cell_type": "markdown",
   "metadata": {},
   "source": [
    "Рассмотрим первично получившиеся датафреймы. Объём выводимых данных большой, но для первых выводов пойдёт. Вдальнейшем будем выводить информацию более наглядно и коротко:"
   ]
  },
  {
   "cell_type": "code",
   "execution_count": 4,
   "metadata": {},
   "outputs": [
    {
     "name": "stdout",
     "output_type": "stream",
     "text": [
      "<class 'pandas.core.frame.DataFrame'>\n",
      "RangeIndex: 14149 entries, 0 to 14148\n",
      "Data columns (total 87 columns):\n",
      " #   Column                                              Non-Null Count  Dtype  \n",
      "---  ------                                              --------------  -----  \n",
      " 0   date                                                14149 non-null  object \n",
      " 1   final.output.concentrate_ag                         14148 non-null  float64\n",
      " 2   final.output.concentrate_pb                         14148 non-null  float64\n",
      " 3   final.output.concentrate_sol                        13938 non-null  float64\n",
      " 4   final.output.concentrate_au                         14149 non-null  float64\n",
      " 5   final.output.recovery                               14149 non-null  float64\n",
      " 6   final.output.tail_ag                                14149 non-null  float64\n",
      " 7   final.output.tail_pb                                14049 non-null  float64\n",
      " 8   final.output.tail_sol                               14144 non-null  float64\n",
      " 9   final.output.tail_au                                14149 non-null  float64\n",
      " 10  primary_cleaner.input.sulfate                       14129 non-null  float64\n",
      " 11  primary_cleaner.input.depressant                    14117 non-null  float64\n",
      " 12  primary_cleaner.input.feed_size                     14149 non-null  float64\n",
      " 13  primary_cleaner.input.xanthate                      14049 non-null  float64\n",
      " 14  primary_cleaner.output.concentrate_ag               14149 non-null  float64\n",
      " 15  primary_cleaner.output.concentrate_pb               14063 non-null  float64\n",
      " 16  primary_cleaner.output.concentrate_sol              13863 non-null  float64\n",
      " 17  primary_cleaner.output.concentrate_au               14149 non-null  float64\n",
      " 18  primary_cleaner.output.tail_ag                      14148 non-null  float64\n",
      " 19  primary_cleaner.output.tail_pb                      14134 non-null  float64\n",
      " 20  primary_cleaner.output.tail_sol                     14103 non-null  float64\n",
      " 21  primary_cleaner.output.tail_au                      14149 non-null  float64\n",
      " 22  primary_cleaner.state.floatbank8_a_air              14145 non-null  float64\n",
      " 23  primary_cleaner.state.floatbank8_a_level            14148 non-null  float64\n",
      " 24  primary_cleaner.state.floatbank8_b_air              14145 non-null  float64\n",
      " 25  primary_cleaner.state.floatbank8_b_level            14148 non-null  float64\n",
      " 26  primary_cleaner.state.floatbank8_c_air              14147 non-null  float64\n",
      " 27  primary_cleaner.state.floatbank8_c_level            14148 non-null  float64\n",
      " 28  primary_cleaner.state.floatbank8_d_air              14146 non-null  float64\n",
      " 29  primary_cleaner.state.floatbank8_d_level            14148 non-null  float64\n",
      " 30  rougher.calculation.sulfate_to_au_concentrate       14148 non-null  float64\n",
      " 31  rougher.calculation.floatbank10_sulfate_to_au_feed  14148 non-null  float64\n",
      " 32  rougher.calculation.floatbank11_sulfate_to_au_feed  14148 non-null  float64\n",
      " 33  rougher.calculation.au_pb_ratio                     14149 non-null  float64\n",
      " 34  rougher.input.feed_ag                               14149 non-null  float64\n",
      " 35  rougher.input.feed_pb                               14049 non-null  float64\n",
      " 36  rougher.input.feed_rate                             14141 non-null  float64\n",
      " 37  rougher.input.feed_size                             14005 non-null  float64\n",
      " 38  rougher.input.feed_sol                              14071 non-null  float64\n",
      " 39  rougher.input.feed_au                               14149 non-null  float64\n",
      " 40  rougher.input.floatbank10_sulfate                   14120 non-null  float64\n",
      " 41  rougher.input.floatbank10_xanthate                  14141 non-null  float64\n",
      " 42  rougher.input.floatbank11_sulfate                   14113 non-null  float64\n",
      " 43  rougher.input.floatbank11_xanthate                  13721 non-null  float64\n",
      " 44  rougher.output.concentrate_ag                       14149 non-null  float64\n",
      " 45  rougher.output.concentrate_pb                       14149 non-null  float64\n",
      " 46  rougher.output.concentrate_sol                      14127 non-null  float64\n",
      " 47  rougher.output.concentrate_au                       14149 non-null  float64\n",
      " 48  rougher.output.recovery                             14149 non-null  float64\n",
      " 49  rougher.output.tail_ag                              14148 non-null  float64\n",
      " 50  rougher.output.tail_pb                              14149 non-null  float64\n",
      " 51  rougher.output.tail_sol                             14149 non-null  float64\n",
      " 52  rougher.output.tail_au                              14149 non-null  float64\n",
      " 53  rougher.state.floatbank10_a_air                     14148 non-null  float64\n",
      " 54  rougher.state.floatbank10_a_level                   14148 non-null  float64\n",
      " 55  rougher.state.floatbank10_b_air                     14148 non-null  float64\n",
      " 56  rougher.state.floatbank10_b_level                   14148 non-null  float64\n",
      " 57  rougher.state.floatbank10_c_air                     14148 non-null  float64\n",
      " 58  rougher.state.floatbank10_c_level                   14148 non-null  float64\n",
      " 59  rougher.state.floatbank10_d_air                     14149 non-null  float64\n",
      " 60  rougher.state.floatbank10_d_level                   14149 non-null  float64\n",
      " 61  rougher.state.floatbank10_e_air                     13713 non-null  float64\n",
      " 62  rougher.state.floatbank10_e_level                   14149 non-null  float64\n",
      " 63  rougher.state.floatbank10_f_air                     14149 non-null  float64\n",
      " 64  rougher.state.floatbank10_f_level                   14149 non-null  float64\n",
      " 65  secondary_cleaner.output.tail_ag                    14147 non-null  float64\n",
      " 66  secondary_cleaner.output.tail_pb                    14139 non-null  float64\n",
      " 67  secondary_cleaner.output.tail_sol                   12544 non-null  float64\n",
      " 68  secondary_cleaner.output.tail_au                    14149 non-null  float64\n",
      " 69  secondary_cleaner.state.floatbank2_a_air            13932 non-null  float64\n",
      " 70  secondary_cleaner.state.floatbank2_a_level          14148 non-null  float64\n",
      " 71  secondary_cleaner.state.floatbank2_b_air            14128 non-null  float64\n",
      " 72  secondary_cleaner.state.floatbank2_b_level          14148 non-null  float64\n",
      " 73  secondary_cleaner.state.floatbank3_a_air            14145 non-null  float64\n",
      " 74  secondary_cleaner.state.floatbank3_a_level          14148 non-null  float64\n",
      " 75  secondary_cleaner.state.floatbank3_b_air            14148 non-null  float64\n",
      " 76  secondary_cleaner.state.floatbank3_b_level          14148 non-null  float64\n",
      " 77  secondary_cleaner.state.floatbank4_a_air            14143 non-null  float64\n",
      " 78  secondary_cleaner.state.floatbank4_a_level          14148 non-null  float64\n",
      " 79  secondary_cleaner.state.floatbank4_b_air            14148 non-null  float64\n",
      " 80  secondary_cleaner.state.floatbank4_b_level          14148 non-null  float64\n",
      " 81  secondary_cleaner.state.floatbank5_a_air            14148 non-null  float64\n",
      " 82  secondary_cleaner.state.floatbank5_a_level          14148 non-null  float64\n",
      " 83  secondary_cleaner.state.floatbank5_b_air            14148 non-null  float64\n",
      " 84  secondary_cleaner.state.floatbank5_b_level          14148 non-null  float64\n",
      " 85  secondary_cleaner.state.floatbank6_a_air            14147 non-null  float64\n",
      " 86  secondary_cleaner.state.floatbank6_a_level          14148 non-null  float64\n",
      "dtypes: float64(86), object(1)\n",
      "memory usage: 9.4+ MB\n",
      "<class 'pandas.core.frame.DataFrame'>\n",
      "RangeIndex: 5290 entries, 0 to 5289\n",
      "Data columns (total 53 columns):\n",
      " #   Column                                      Non-Null Count  Dtype  \n",
      "---  ------                                      --------------  -----  \n",
      " 0   date                                        5290 non-null   object \n",
      " 1   primary_cleaner.input.sulfate               5286 non-null   float64\n",
      " 2   primary_cleaner.input.depressant            5285 non-null   float64\n",
      " 3   primary_cleaner.input.feed_size             5290 non-null   float64\n",
      " 4   primary_cleaner.input.xanthate              5286 non-null   float64\n",
      " 5   primary_cleaner.state.floatbank8_a_air      5290 non-null   float64\n",
      " 6   primary_cleaner.state.floatbank8_a_level    5290 non-null   float64\n",
      " 7   primary_cleaner.state.floatbank8_b_air      5290 non-null   float64\n",
      " 8   primary_cleaner.state.floatbank8_b_level    5290 non-null   float64\n",
      " 9   primary_cleaner.state.floatbank8_c_air      5290 non-null   float64\n",
      " 10  primary_cleaner.state.floatbank8_c_level    5290 non-null   float64\n",
      " 11  primary_cleaner.state.floatbank8_d_air      5290 non-null   float64\n",
      " 12  primary_cleaner.state.floatbank8_d_level    5290 non-null   float64\n",
      " 13  rougher.input.feed_ag                       5290 non-null   float64\n",
      " 14  rougher.input.feed_pb                       5290 non-null   float64\n",
      " 15  rougher.input.feed_rate                     5287 non-null   float64\n",
      " 16  rougher.input.feed_size                     5289 non-null   float64\n",
      " 17  rougher.input.feed_sol                      5269 non-null   float64\n",
      " 18  rougher.input.feed_au                       5290 non-null   float64\n",
      " 19  rougher.input.floatbank10_sulfate           5285 non-null   float64\n",
      " 20  rougher.input.floatbank10_xanthate          5290 non-null   float64\n",
      " 21  rougher.input.floatbank11_sulfate           5282 non-null   float64\n",
      " 22  rougher.input.floatbank11_xanthate          5265 non-null   float64\n",
      " 23  rougher.state.floatbank10_a_air             5290 non-null   float64\n",
      " 24  rougher.state.floatbank10_a_level           5290 non-null   float64\n",
      " 25  rougher.state.floatbank10_b_air             5290 non-null   float64\n",
      " 26  rougher.state.floatbank10_b_level           5290 non-null   float64\n",
      " 27  rougher.state.floatbank10_c_air             5290 non-null   float64\n",
      " 28  rougher.state.floatbank10_c_level           5290 non-null   float64\n",
      " 29  rougher.state.floatbank10_d_air             5290 non-null   float64\n",
      " 30  rougher.state.floatbank10_d_level           5290 non-null   float64\n",
      " 31  rougher.state.floatbank10_e_air             5290 non-null   float64\n",
      " 32  rougher.state.floatbank10_e_level           5290 non-null   float64\n",
      " 33  rougher.state.floatbank10_f_air             5290 non-null   float64\n",
      " 34  rougher.state.floatbank10_f_level           5290 non-null   float64\n",
      " 35  secondary_cleaner.state.floatbank2_a_air    5287 non-null   float64\n",
      " 36  secondary_cleaner.state.floatbank2_a_level  5290 non-null   float64\n",
      " 37  secondary_cleaner.state.floatbank2_b_air    5288 non-null   float64\n",
      " 38  secondary_cleaner.state.floatbank2_b_level  5290 non-null   float64\n",
      " 39  secondary_cleaner.state.floatbank3_a_air    5281 non-null   float64\n",
      " 40  secondary_cleaner.state.floatbank3_a_level  5290 non-null   float64\n",
      " 41  secondary_cleaner.state.floatbank3_b_air    5290 non-null   float64\n",
      " 42  secondary_cleaner.state.floatbank3_b_level  5290 non-null   float64\n",
      " 43  secondary_cleaner.state.floatbank4_a_air    5290 non-null   float64\n",
      " 44  secondary_cleaner.state.floatbank4_a_level  5290 non-null   float64\n",
      " 45  secondary_cleaner.state.floatbank4_b_air    5290 non-null   float64\n",
      " 46  secondary_cleaner.state.floatbank4_b_level  5290 non-null   float64\n",
      " 47  secondary_cleaner.state.floatbank5_a_air    5290 non-null   float64\n",
      " 48  secondary_cleaner.state.floatbank5_a_level  5290 non-null   float64\n",
      " 49  secondary_cleaner.state.floatbank5_b_air    5290 non-null   float64\n",
      " 50  secondary_cleaner.state.floatbank5_b_level  5290 non-null   float64\n",
      " 51  secondary_cleaner.state.floatbank6_a_air    5290 non-null   float64\n",
      " 52  secondary_cleaner.state.floatbank6_a_level  5290 non-null   float64\n",
      "dtypes: float64(52), object(1)\n",
      "memory usage: 2.1+ MB\n",
      "<class 'pandas.core.frame.DataFrame'>\n",
      "RangeIndex: 19439 entries, 0 to 19438\n",
      "Data columns (total 87 columns):\n",
      " #   Column                                              Non-Null Count  Dtype  \n",
      "---  ------                                              --------------  -----  \n",
      " 0   date                                                19439 non-null  object \n",
      " 1   final.output.concentrate_ag                         19438 non-null  float64\n",
      " 2   final.output.concentrate_pb                         19438 non-null  float64\n",
      " 3   final.output.concentrate_sol                        19228 non-null  float64\n",
      " 4   final.output.concentrate_au                         19439 non-null  float64\n",
      " 5   final.output.recovery                               19439 non-null  float64\n",
      " 6   final.output.tail_ag                                19438 non-null  float64\n",
      " 7   final.output.tail_pb                                19338 non-null  float64\n",
      " 8   final.output.tail_sol                               19433 non-null  float64\n",
      " 9   final.output.tail_au                                19439 non-null  float64\n",
      " 10  primary_cleaner.input.sulfate                       19415 non-null  float64\n",
      " 11  primary_cleaner.input.depressant                    19402 non-null  float64\n",
      " 12  primary_cleaner.input.feed_size                     19439 non-null  float64\n",
      " 13  primary_cleaner.input.xanthate                      19335 non-null  float64\n",
      " 14  primary_cleaner.output.concentrate_ag               19439 non-null  float64\n",
      " 15  primary_cleaner.output.concentrate_pb               19323 non-null  float64\n",
      " 16  primary_cleaner.output.concentrate_sol              19069 non-null  float64\n",
      " 17  primary_cleaner.output.concentrate_au               19439 non-null  float64\n",
      " 18  primary_cleaner.output.tail_ag                      19435 non-null  float64\n",
      " 19  primary_cleaner.output.tail_pb                      19418 non-null  float64\n",
      " 20  primary_cleaner.output.tail_sol                     19377 non-null  float64\n",
      " 21  primary_cleaner.output.tail_au                      19439 non-null  float64\n",
      " 22  primary_cleaner.state.floatbank8_a_air              19435 non-null  float64\n",
      " 23  primary_cleaner.state.floatbank8_a_level            19438 non-null  float64\n",
      " 24  primary_cleaner.state.floatbank8_b_air              19435 non-null  float64\n",
      " 25  primary_cleaner.state.floatbank8_b_level            19438 non-null  float64\n",
      " 26  primary_cleaner.state.floatbank8_c_air              19437 non-null  float64\n",
      " 27  primary_cleaner.state.floatbank8_c_level            19438 non-null  float64\n",
      " 28  primary_cleaner.state.floatbank8_d_air              19436 non-null  float64\n",
      " 29  primary_cleaner.state.floatbank8_d_level            19438 non-null  float64\n",
      " 30  rougher.calculation.sulfate_to_au_concentrate       19437 non-null  float64\n",
      " 31  rougher.calculation.floatbank10_sulfate_to_au_feed  19437 non-null  float64\n",
      " 32  rougher.calculation.floatbank11_sulfate_to_au_feed  19437 non-null  float64\n",
      " 33  rougher.calculation.au_pb_ratio                     19439 non-null  float64\n",
      " 34  rougher.input.feed_ag                               19439 non-null  float64\n",
      " 35  rougher.input.feed_pb                               19339 non-null  float64\n",
      " 36  rougher.input.feed_rate                             19428 non-null  float64\n",
      " 37  rougher.input.feed_size                             19294 non-null  float64\n",
      " 38  rougher.input.feed_sol                              19340 non-null  float64\n",
      " 39  rougher.input.feed_au                               19439 non-null  float64\n",
      " 40  rougher.input.floatbank10_sulfate                   19405 non-null  float64\n",
      " 41  rougher.input.floatbank10_xanthate                  19431 non-null  float64\n",
      " 42  rougher.input.floatbank11_sulfate                   19395 non-null  float64\n",
      " 43  rougher.input.floatbank11_xanthate                  18986 non-null  float64\n",
      " 44  rougher.output.concentrate_ag                       19439 non-null  float64\n",
      " 45  rougher.output.concentrate_pb                       19439 non-null  float64\n",
      " 46  rougher.output.concentrate_sol                      19416 non-null  float64\n",
      " 47  rougher.output.concentrate_au                       19439 non-null  float64\n",
      " 48  rougher.output.recovery                             19439 non-null  float64\n",
      " 49  rougher.output.tail_ag                              19438 non-null  float64\n",
      " 50  rougher.output.tail_pb                              19439 non-null  float64\n",
      " 51  rougher.output.tail_sol                             19439 non-null  float64\n",
      " 52  rougher.output.tail_au                              19439 non-null  float64\n",
      " 53  rougher.state.floatbank10_a_air                     19438 non-null  float64\n",
      " 54  rougher.state.floatbank10_a_level                   19438 non-null  float64\n",
      " 55  rougher.state.floatbank10_b_air                     19438 non-null  float64\n",
      " 56  rougher.state.floatbank10_b_level                   19438 non-null  float64\n",
      " 57  rougher.state.floatbank10_c_air                     19438 non-null  float64\n",
      " 58  rougher.state.floatbank10_c_level                   19438 non-null  float64\n",
      " 59  rougher.state.floatbank10_d_air                     19439 non-null  float64\n",
      " 60  rougher.state.floatbank10_d_level                   19439 non-null  float64\n",
      " 61  rougher.state.floatbank10_e_air                     19003 non-null  float64\n",
      " 62  rougher.state.floatbank10_e_level                   19439 non-null  float64\n",
      " 63  rougher.state.floatbank10_f_air                     19439 non-null  float64\n",
      " 64  rougher.state.floatbank10_f_level                   19439 non-null  float64\n",
      " 65  secondary_cleaner.output.tail_ag                    19437 non-null  float64\n",
      " 66  secondary_cleaner.output.tail_pb                    19427 non-null  float64\n",
      " 67  secondary_cleaner.output.tail_sol                   17691 non-null  float64\n",
      " 68  secondary_cleaner.output.tail_au                    19439 non-null  float64\n",
      " 69  secondary_cleaner.state.floatbank2_a_air            19219 non-null  float64\n",
      " 70  secondary_cleaner.state.floatbank2_a_level          19438 non-null  float64\n",
      " 71  secondary_cleaner.state.floatbank2_b_air            19416 non-null  float64\n",
      " 72  secondary_cleaner.state.floatbank2_b_level          19438 non-null  float64\n",
      " 73  secondary_cleaner.state.floatbank3_a_air            19426 non-null  float64\n",
      " 74  secondary_cleaner.state.floatbank3_a_level          19438 non-null  float64\n",
      " 75  secondary_cleaner.state.floatbank3_b_air            19438 non-null  float64\n",
      " 76  secondary_cleaner.state.floatbank3_b_level          19438 non-null  float64\n",
      " 77  secondary_cleaner.state.floatbank4_a_air            19433 non-null  float64\n",
      " 78  secondary_cleaner.state.floatbank4_a_level          19438 non-null  float64\n",
      " 79  secondary_cleaner.state.floatbank4_b_air            19438 non-null  float64\n",
      " 80  secondary_cleaner.state.floatbank4_b_level          19438 non-null  float64\n",
      " 81  secondary_cleaner.state.floatbank5_a_air            19438 non-null  float64\n",
      " 82  secondary_cleaner.state.floatbank5_a_level          19438 non-null  float64\n",
      " 83  secondary_cleaner.state.floatbank5_b_air            19438 non-null  float64\n",
      " 84  secondary_cleaner.state.floatbank5_b_level          19438 non-null  float64\n",
      " 85  secondary_cleaner.state.floatbank6_a_air            19437 non-null  float64\n",
      " 86  secondary_cleaner.state.floatbank6_a_level          19438 non-null  float64\n",
      "dtypes: float64(86), object(1)\n",
      "memory usage: 12.9+ MB\n"
     ]
    }
   ],
   "source": [
    "train.info()\n",
    "test.info()\n",
    "full.info()"
   ]
  },
  {
   "cell_type": "markdown",
   "metadata": {},
   "source": [
    "Как видно, во всех трёх датафреймах есть пропуски, с которыми предстоит работать, а также не помешало бы сменить тип столбца с датой на более подходящий"
   ]
  },
  {
   "cell_type": "markdown",
   "metadata": {},
   "source": [
    "### Проверка правильности расчёта эффективности обогащения"
   ]
  },
  {
   "cell_type": "markdown",
   "metadata": {},
   "source": [
    "Проверим правильность предоставленных значений эффективности обогащения в тренировочной выборке ручными расчётами:"
   ]
  },
  {
   "cell_type": "code",
   "execution_count": 5,
   "metadata": {},
   "outputs": [
    {
     "data": {
      "text/html": [
       "<div>\n",
       "<style scoped>\n",
       "    .dataframe tbody tr th:only-of-type {\n",
       "        vertical-align: middle;\n",
       "    }\n",
       "\n",
       "    .dataframe tbody tr th {\n",
       "        vertical-align: top;\n",
       "    }\n",
       "\n",
       "    .dataframe thead th {\n",
       "        text-align: right;\n",
       "    }\n",
       "</style>\n",
       "<table border=\"1\" class=\"dataframe\">\n",
       "  <thead>\n",
       "    <tr style=\"text-align: right;\">\n",
       "      <th></th>\n",
       "      <th>rougher.output.recovery</th>\n",
       "      <th>rougher.output.recovery.manual</th>\n",
       "    </tr>\n",
       "  </thead>\n",
       "  <tbody>\n",
       "    <tr>\n",
       "      <th>1903</th>\n",
       "      <td>79.874473</td>\n",
       "      <td>79.874473</td>\n",
       "    </tr>\n",
       "    <tr>\n",
       "      <th>10962</th>\n",
       "      <td>92.954361</td>\n",
       "      <td>92.954361</td>\n",
       "    </tr>\n",
       "    <tr>\n",
       "      <th>12881</th>\n",
       "      <td>91.493572</td>\n",
       "      <td>91.493572</td>\n",
       "    </tr>\n",
       "  </tbody>\n",
       "</table>\n",
       "</div>"
      ],
      "text/plain": [
       "       rougher.output.recovery  rougher.output.recovery.manual\n",
       "1903                 79.874473                       79.874473\n",
       "10962                92.954361                       92.954361\n",
       "12881                91.493572                       91.493572"
      ]
     },
     "metadata": {},
     "output_type": "display_data"
    }
   ],
   "source": [
    "# для удобства записи формулы создаём константы, как в справочном материале\n",
    "c = train['rougher.output.concentrate_au'] \n",
    "f = train['rougher.input.feed_au']\n",
    "t = train['rougher.output.tail_au']\n",
    "\n",
    "# расчитываем эффективность по формуле\n",
    "train['rougher.output.recovery.manual'] = 100 * (c * (f - t)) / (f * (c - t))\n",
    "# визуально проверяем результат\n",
    "display(train[['rougher.output.recovery', 'rougher.output.recovery.manual']].sample(3))"
   ]
  },
  {
   "cell_type": "markdown",
   "metadata": {},
   "source": [
    "Вроде бы всё в порядке - предоставленные данные полностью совпадают с расчитанными вручную. Но убедимся расчитав среднее абсолютное отклонение:"
   ]
  },
  {
   "cell_type": "code",
   "execution_count": 6,
   "metadata": {},
   "outputs": [
    {
     "name": "stdout",
     "output_type": "stream",
     "text": [
      "Средняя абсолютная ошибка между ручным и предоставленным\n",
      "расчётом эффективности обогащения: 1.1131451184435918e-14\n"
     ]
    }
   ],
   "source": [
    "mae_rougher_recovery = mean_absolute_error(train['rougher.output.recovery.manual'], train['rougher.output.recovery'])\n",
    "print(f'Средняя абсолютная ошибка между ручным и предоставленным')\n",
    "print(f'расчётом эффективности обогащения: {mae_rougher_recovery}')"
   ]
  },
  {
   "cell_type": "markdown",
   "metadata": {},
   "source": [
    "MAE мизерная. Данные предоставлены корректные. Удалим технический столбец из тренировочной выборки и двигаем дальше:"
   ]
  },
  {
   "cell_type": "code",
   "execution_count": 7,
   "metadata": {},
   "outputs": [],
   "source": [
    "train = train.drop(['rougher.output.recovery.manual'], axis=1)"
   ]
  },
  {
   "cell_type": "markdown",
   "metadata": {},
   "source": [
    "### Отсутствующие столбцы в тестовой выборке"
   ]
  },
  {
   "cell_type": "markdown",
   "metadata": {},
   "source": [
    "Пробежимся циклом по столбцам обучающей выборки, проверяя наличие такого столбца в тестовой выборке. Если нет - добавляем название столбца в специально созданный список:"
   ]
  },
  {
   "cell_type": "code",
   "execution_count": 8,
   "metadata": {},
   "outputs": [
    {
     "name": "stdout",
     "output_type": "stream",
     "text": [
      "0                           final.output.concentrate_ag\n",
      "1                           final.output.concentrate_pb\n",
      "2                          final.output.concentrate_sol\n",
      "3                           final.output.concentrate_au\n",
      "4                                 final.output.recovery\n",
      "5                                  final.output.tail_ag\n",
      "6                                  final.output.tail_pb\n",
      "7                                 final.output.tail_sol\n",
      "8                                  final.output.tail_au\n",
      "9                 primary_cleaner.output.concentrate_ag\n",
      "10                primary_cleaner.output.concentrate_pb\n",
      "11               primary_cleaner.output.concentrate_sol\n",
      "12                primary_cleaner.output.concentrate_au\n",
      "13                       primary_cleaner.output.tail_ag\n",
      "14                       primary_cleaner.output.tail_pb\n",
      "15                      primary_cleaner.output.tail_sol\n",
      "16                       primary_cleaner.output.tail_au\n",
      "17        rougher.calculation.sulfate_to_au_concentrate\n",
      "18    rougher.calculation.floatbank10_sulfate_to_au_...\n",
      "19    rougher.calculation.floatbank11_sulfate_to_au_...\n",
      "20                      rougher.calculation.au_pb_ratio\n",
      "21                        rougher.output.concentrate_ag\n",
      "22                        rougher.output.concentrate_pb\n",
      "23                       rougher.output.concentrate_sol\n",
      "24                        rougher.output.concentrate_au\n",
      "25                              rougher.output.recovery\n",
      "26                               rougher.output.tail_ag\n",
      "27                               rougher.output.tail_pb\n",
      "28                              rougher.output.tail_sol\n",
      "29                               rougher.output.tail_au\n",
      "30                     secondary_cleaner.output.tail_ag\n",
      "31                     secondary_cleaner.output.tail_pb\n",
      "32                    secondary_cleaner.output.tail_sol\n",
      "33                     secondary_cleaner.output.tail_au\n",
      "dtype: object\n"
     ]
    }
   ],
   "source": [
    "missing_test_columns = []\n",
    "\n",
    "for column in train.columns:\n",
    "    if column not in test.columns:\n",
    "        missing_test_columns.append(column)\n",
    "\n",
    "missing_test_columns = pd.Series(missing_test_columns)\n",
    "print(missing_test_columns)"
   ]
  },
  {
   "cell_type": "markdown",
   "metadata": {},
   "source": [
    "Как видим, в тестовой выборке отсутствуют данные связанные с результатом определённого этапа технологического процесса. А также целевых признаков (эффективности обогащения) нет."
   ]
  },
  {
   "cell_type": "markdown",
   "metadata": {},
   "source": [
    "### Предобработка данных"
   ]
  },
  {
   "cell_type": "markdown",
   "metadata": {},
   "source": [
    "Основная проблема наших датафреймов - пропуски. Хоть они и малочисленны, в сумме может быть ощутимо. Облегчает задачу тот факт, что признако все количественные, поэтому стратегией заполнения пропусков может быть замена их средним значением. Взглянем визуально на данные в столбцах с относительно большим количеством пропусков:"
   ]
  },
  {
   "cell_type": "code",
   "execution_count": 9,
   "metadata": {},
   "outputs": [
    {
     "data": {
      "text/html": [
       "<div>\n",
       "<style scoped>\n",
       "    .dataframe tbody tr th:only-of-type {\n",
       "        vertical-align: middle;\n",
       "    }\n",
       "\n",
       "    .dataframe tbody tr th {\n",
       "        vertical-align: top;\n",
       "    }\n",
       "\n",
       "    .dataframe thead th {\n",
       "        text-align: right;\n",
       "    }\n",
       "</style>\n",
       "<table border=\"1\" class=\"dataframe\">\n",
       "  <thead>\n",
       "    <tr style=\"text-align: right;\">\n",
       "      <th></th>\n",
       "      <th>final.output.concentrate_sol</th>\n",
       "      <th>rougher.input.floatbank11_xanthate</th>\n",
       "    </tr>\n",
       "  </thead>\n",
       "  <tbody>\n",
       "    <tr>\n",
       "      <th>count</th>\n",
       "      <td>13938.000000</td>\n",
       "      <td>13721.000000</td>\n",
       "    </tr>\n",
       "    <tr>\n",
       "      <th>mean</th>\n",
       "      <td>9.202849</td>\n",
       "      <td>5.894176</td>\n",
       "    </tr>\n",
       "    <tr>\n",
       "      <th>std</th>\n",
       "      <td>2.790516</td>\n",
       "      <td>1.124233</td>\n",
       "    </tr>\n",
       "    <tr>\n",
       "      <th>min</th>\n",
       "      <td>0.000000</td>\n",
       "      <td>0.000290</td>\n",
       "    </tr>\n",
       "    <tr>\n",
       "      <th>25%</th>\n",
       "      <td>7.484645</td>\n",
       "      <td>5.199168</td>\n",
       "    </tr>\n",
       "    <tr>\n",
       "      <th>50%</th>\n",
       "      <td>8.845462</td>\n",
       "      <td>5.998460</td>\n",
       "    </tr>\n",
       "    <tr>\n",
       "      <th>75%</th>\n",
       "      <td>10.487508</td>\n",
       "      <td>6.699006</td>\n",
       "    </tr>\n",
       "    <tr>\n",
       "      <th>max</th>\n",
       "      <td>18.124851</td>\n",
       "      <td>9.698407</td>\n",
       "    </tr>\n",
       "  </tbody>\n",
       "</table>\n",
       "</div>"
      ],
      "text/plain": [
       "       final.output.concentrate_sol  rougher.input.floatbank11_xanthate\n",
       "count                  13938.000000                        13721.000000\n",
       "mean                       9.202849                            5.894176\n",
       "std                        2.790516                            1.124233\n",
       "min                        0.000000                            0.000290\n",
       "25%                        7.484645                            5.199168\n",
       "50%                        8.845462                            5.998460\n",
       "75%                       10.487508                            6.699006\n",
       "max                       18.124851                            9.698407"
      ]
     },
     "execution_count": 9,
     "metadata": {},
     "output_type": "execute_result"
    }
   ],
   "source": [
    "train[['final.output.concentrate_sol', 'rougher.input.floatbank11_xanthate']].describe()"
   ]
  },
  {
   "cell_type": "markdown",
   "metadata": {},
   "source": [
    "Видим, что стандартные отклонения относительно средних небольшие - порядка 20-30%. Поэтому думаю, что замена пропусков средним статистическую картину существенно не исказит."
   ]
  },
  {
   "cell_type": "markdown",
   "metadata": {},
   "source": [
    "Проведем предобработку с помощью циклов. Пробежимся по датафреймам, в каждом из которых во всех столбцах, кроме столбца с датой, заменим пропуски средним. А столбец с датой поменяет тип:"
   ]
  },
  {
   "cell_type": "code",
   "execution_count": 10,
   "metadata": {},
   "outputs": [],
   "source": [
    "for data in [train, test, full]:\n",
    "    for column in data.columns:\n",
    "        if column == 'date':\n",
    "            data[column] = pd.to_datetime(data[column])\n",
    "        elif data[column].isna().sum() > 0:\n",
    "            data[column] = data[column].fillna(method='ffill')"
   ]
  },
  {
   "cell_type": "markdown",
   "metadata": {},
   "source": [
    "Проверим, сколько пропусков осталось в датасетах:"
   ]
  },
  {
   "cell_type": "code",
   "execution_count": 11,
   "metadata": {},
   "outputs": [
    {
     "name": "stdout",
     "output_type": "stream",
     "text": [
      "Количество пропусков в тренировочной выборке: 0\n",
      "Количество пропусков в тестовой выборке: 0\n",
      "Количество пропусков в 'полной' выборке: 0\n"
     ]
    }
   ],
   "source": [
    "print(f'Количество пропусков в тренировочной выборке: {train.isna().sum().sum()}')\n",
    "print(f'Количество пропусков в тестовой выборке: {test.isna().sum().sum()}')\n",
    "print(f'Количество пропусков в \\'полной\\' выборке: {full.isna().sum().sum()}')"
   ]
  },
  {
   "cell_type": "markdown",
   "metadata": {},
   "source": [
    "Прекрасно. Теперь проверим уникальные типы данных в датасетах:"
   ]
  },
  {
   "cell_type": "code",
   "execution_count": 12,
   "metadata": {},
   "outputs": [
    {
     "name": "stdout",
     "output_type": "stream",
     "text": [
      "Типы данных в тренировочной выборке: [dtype('<M8[ns]') dtype('float64')]\n",
      "Типы данных в тестовой выборке: [dtype('<M8[ns]') dtype('float64')]\n",
      "Типы данных в полной выборке: [dtype('<M8[ns]') dtype('float64')]\n"
     ]
    }
   ],
   "source": [
    "print(f'Типы данных в тренировочной выборке: {pd.Series(train.dtypes.values).unique()}')\n",
    "print(f'Типы данных в тестовой выборке: {pd.Series(test.dtypes.values).unique()}')\n",
    "print(f'Типы данных в полной выборке: {pd.Series(full.dtypes.values).unique()}')"
   ]
  },
  {
   "cell_type": "markdown",
   "metadata": {},
   "source": [
    "Первый тип в списке, как раз тип datetime. Но на всякий случай взглянем визуально:"
   ]
  },
  {
   "cell_type": "code",
   "execution_count": 13,
   "metadata": {},
   "outputs": [
    {
     "data": {
      "text/plain": [
       "0   2016-01-15 00:00:00\n",
       "1   2016-01-15 01:00:00\n",
       "2   2016-01-15 02:00:00\n",
       "Name: date, dtype: datetime64[ns]"
      ]
     },
     "execution_count": 13,
     "metadata": {},
     "output_type": "execute_result"
    }
   ],
   "source": [
    "train['date'].head(3)"
   ]
  },
  {
   "cell_type": "markdown",
   "metadata": {},
   "source": [
    "С датой и временем порядок, но что со статистическими показателями \"контрольных\" столбцов?"
   ]
  },
  {
   "cell_type": "code",
   "execution_count": 14,
   "metadata": {},
   "outputs": [
    {
     "data": {
      "text/html": [
       "<div>\n",
       "<style scoped>\n",
       "    .dataframe tbody tr th:only-of-type {\n",
       "        vertical-align: middle;\n",
       "    }\n",
       "\n",
       "    .dataframe tbody tr th {\n",
       "        vertical-align: top;\n",
       "    }\n",
       "\n",
       "    .dataframe thead th {\n",
       "        text-align: right;\n",
       "    }\n",
       "</style>\n",
       "<table border=\"1\" class=\"dataframe\">\n",
       "  <thead>\n",
       "    <tr style=\"text-align: right;\">\n",
       "      <th></th>\n",
       "      <th>final.output.concentrate_sol</th>\n",
       "      <th>rougher.input.floatbank11_xanthate</th>\n",
       "    </tr>\n",
       "  </thead>\n",
       "  <tbody>\n",
       "    <tr>\n",
       "      <th>count</th>\n",
       "      <td>14149.000000</td>\n",
       "      <td>14149.000000</td>\n",
       "    </tr>\n",
       "    <tr>\n",
       "      <th>mean</th>\n",
       "      <td>9.109311</td>\n",
       "      <td>5.803930</td>\n",
       "    </tr>\n",
       "    <tr>\n",
       "      <th>std</th>\n",
       "      <td>2.886929</td>\n",
       "      <td>1.239005</td>\n",
       "    </tr>\n",
       "    <tr>\n",
       "      <th>min</th>\n",
       "      <td>0.000000</td>\n",
       "      <td>0.000290</td>\n",
       "    </tr>\n",
       "    <tr>\n",
       "      <th>25%</th>\n",
       "      <td>7.422466</td>\n",
       "      <td>5.096661</td>\n",
       "    </tr>\n",
       "    <tr>\n",
       "      <th>50%</th>\n",
       "      <td>8.801909</td>\n",
       "      <td>5.992219</td>\n",
       "    </tr>\n",
       "    <tr>\n",
       "      <th>75%</th>\n",
       "      <td>10.452148</td>\n",
       "      <td>6.642274</td>\n",
       "    </tr>\n",
       "    <tr>\n",
       "      <th>max</th>\n",
       "      <td>18.124851</td>\n",
       "      <td>9.698407</td>\n",
       "    </tr>\n",
       "  </tbody>\n",
       "</table>\n",
       "</div>"
      ],
      "text/plain": [
       "       final.output.concentrate_sol  rougher.input.floatbank11_xanthate\n",
       "count                  14149.000000                        14149.000000\n",
       "mean                       9.109311                            5.803930\n",
       "std                        2.886929                            1.239005\n",
       "min                        0.000000                            0.000290\n",
       "25%                        7.422466                            5.096661\n",
       "50%                        8.801909                            5.992219\n",
       "75%                       10.452148                            6.642274\n",
       "max                       18.124851                            9.698407"
      ]
     },
     "execution_count": 14,
     "metadata": {},
     "output_type": "execute_result"
    }
   ],
   "source": [
    "train[['final.output.concentrate_sol', 'rougher.input.floatbank11_xanthate']].describe()"
   ]
  },
  {
   "cell_type": "markdown",
   "metadata": {},
   "source": [
    "Стандартное отклонение и медианы после замены изменились на сотые доли. Статистической картины такой заменой не испортили."
   ]
  },
  {
   "cell_type": "markdown",
   "metadata": {},
   "source": [
    "### Итоги подготовки данных"
   ]
  },
  {
   "cell_type": "markdown",
   "metadata": {},
   "source": [
    "Загрузив и посмотрев общую информацию о трех датасетах увидели, что есть пропуски и необходимость сменить тип столбца с датой. Парой циклов заполнили пропуски средним значением по столбцу и сменили тип данных столбца с датой. Проверка показала, что статистической картины такой заменой значительно не исказили.\n",
    "\n",
    "Кроме того, обнаружили, что в тестовой выборке недостаёт столбцов (их выявили и сохранили в переменную). \n",
    "\n",
    "Далее проверили корректность предоставленных данных об эффективности обогащения ручным расчётом и проверили MAE:"
   ]
  },
  {
   "cell_type": "code",
   "execution_count": 15,
   "metadata": {},
   "outputs": [
    {
     "name": "stdout",
     "output_type": "stream",
     "text": [
      "Средняя абсолютная ошибка между ручным и предоставленным\n",
      "расчётом эффективности обогащения: 1.1131451184435918e-14\n"
     ]
    }
   ],
   "source": [
    "print(f'Средняя абсолютная ошибка между ручным и предоставленным')\n",
    "print(f'расчётом эффективности обогащения: {mae_rougher_recovery}')"
   ]
  },
  {
   "cell_type": "markdown",
   "metadata": {},
   "source": [
    "Что подтверждает корректность предоставленных данных.\n",
    "\n",
    "Вцелом можно сказать, что предоставленные данные высокого качества."
   ]
  },
  {
   "cell_type": "markdown",
   "metadata": {},
   "source": [
    "## Анализ данных"
   ]
  },
  {
   "cell_type": "markdown",
   "metadata": {},
   "source": [
    "### Концентрация металлов в продукте этапов"
   ]
  },
  {
   "cell_type": "markdown",
   "metadata": {},
   "source": [
    "Стратегия анализа предлагается такая: будем строить гистограммы для каждого металла в разбивке по этапам, а также сравнивать основные статистические показатели с помощью `describe`"
   ]
  },
  {
   "cell_type": "code",
   "execution_count": 16,
   "metadata": {
    "scrolled": false
   },
   "outputs": [
    {
     "data": {
      "image/png": "[encoded data removed]",
      "text/plain": [
       "<Figure size 576x432 with 1 Axes>"
      ]
     },
     "metadata": {
      "needs_background": "light"
     },
     "output_type": "display_data"
    },
    {
     "data": {
      "text/html": [
       "<div>\n",
       "<style scoped>\n",
       "    .dataframe tbody tr th:only-of-type {\n",
       "        vertical-align: middle;\n",
       "    }\n",
       "\n",
       "    .dataframe tbody tr th {\n",
       "        vertical-align: top;\n",
       "    }\n",
       "\n",
       "    .dataframe thead th {\n",
       "        text-align: right;\n",
       "    }\n",
       "</style>\n",
       "<table border=\"1\" class=\"dataframe\">\n",
       "  <thead>\n",
       "    <tr style=\"text-align: right;\">\n",
       "      <th></th>\n",
       "      <th>rougher.output.concentrate_au</th>\n",
       "      <th>primary_cleaner.output.concentrate_au</th>\n",
       "      <th>final.output.concentrate_au</th>\n",
       "    </tr>\n",
       "  </thead>\n",
       "  <tbody>\n",
       "    <tr>\n",
       "      <th>count</th>\n",
       "      <td>14149.000000</td>\n",
       "      <td>14149.000000</td>\n",
       "      <td>14149.000000</td>\n",
       "    </tr>\n",
       "    <tr>\n",
       "      <th>mean</th>\n",
       "      <td>19.439958</td>\n",
       "      <td>32.386836</td>\n",
       "      <td>44.003792</td>\n",
       "    </tr>\n",
       "    <tr>\n",
       "      <th>std</th>\n",
       "      <td>3.765192</td>\n",
       "      <td>5.798843</td>\n",
       "      <td>4.905261</td>\n",
       "    </tr>\n",
       "    <tr>\n",
       "      <th>min</th>\n",
       "      <td>0.000000</td>\n",
       "      <td>0.000000</td>\n",
       "      <td>0.000000</td>\n",
       "    </tr>\n",
       "    <tr>\n",
       "      <th>25%</th>\n",
       "      <td>18.432161</td>\n",
       "      <td>30.857764</td>\n",
       "      <td>43.276111</td>\n",
       "    </tr>\n",
       "    <tr>\n",
       "      <th>50%</th>\n",
       "      <td>19.947312</td>\n",
       "      <td>33.225835</td>\n",
       "      <td>44.872436</td>\n",
       "    </tr>\n",
       "    <tr>\n",
       "      <th>75%</th>\n",
       "      <td>21.392714</td>\n",
       "      <td>35.330145</td>\n",
       "      <td>46.166425</td>\n",
       "    </tr>\n",
       "    <tr>\n",
       "      <th>max</th>\n",
       "      <td>28.146838</td>\n",
       "      <td>45.933934</td>\n",
       "      <td>52.756638</td>\n",
       "    </tr>\n",
       "  </tbody>\n",
       "</table>\n",
       "</div>"
      ],
      "text/plain": [
       "       rougher.output.concentrate_au  primary_cleaner.output.concentrate_au  \\\n",
       "count                   14149.000000                           14149.000000   \n",
       "mean                       19.439958                              32.386836   \n",
       "std                         3.765192                               5.798843   \n",
       "min                         0.000000                               0.000000   \n",
       "25%                        18.432161                              30.857764   \n",
       "50%                        19.947312                              33.225835   \n",
       "75%                        21.392714                              35.330145   \n",
       "max                        28.146838                              45.933934   \n",
       "\n",
       "       final.output.concentrate_au  \n",
       "count                 14149.000000  \n",
       "mean                     44.003792  \n",
       "std                       4.905261  \n",
       "min                       0.000000  \n",
       "25%                      43.276111  \n",
       "50%                      44.872436  \n",
       "75%                      46.166425  \n",
       "max                      52.756638  "
      ]
     },
     "metadata": {},
     "output_type": "display_data"
    },
    {
     "data": {
      "image/png": "[encoded data removed]",
      "text/plain": [
       "<Figure size 576x432 with 1 Axes>"
      ]
     },
     "metadata": {
      "needs_background": "light"
     },
     "output_type": "display_data"
    },
    {
     "data": {
      "text/html": [
       "<div>\n",
       "<style scoped>\n",
       "    .dataframe tbody tr th:only-of-type {\n",
       "        vertical-align: middle;\n",
       "    }\n",
       "\n",
       "    .dataframe tbody tr th {\n",
       "        vertical-align: top;\n",
       "    }\n",
       "\n",
       "    .dataframe thead th {\n",
       "        text-align: right;\n",
       "    }\n",
       "</style>\n",
       "<table border=\"1\" class=\"dataframe\">\n",
       "  <thead>\n",
       "    <tr style=\"text-align: right;\">\n",
       "      <th></th>\n",
       "      <th>rougher.output.concentrate_ag</th>\n",
       "      <th>primary_cleaner.output.concentrate_ag</th>\n",
       "      <th>final.output.concentrate_ag</th>\n",
       "    </tr>\n",
       "  </thead>\n",
       "  <tbody>\n",
       "    <tr>\n",
       "      <th>count</th>\n",
       "      <td>14149.000000</td>\n",
       "      <td>14149.000000</td>\n",
       "      <td>14149.000000</td>\n",
       "    </tr>\n",
       "    <tr>\n",
       "      <th>mean</th>\n",
       "      <td>11.775812</td>\n",
       "      <td>8.200916</td>\n",
       "      <td>5.141921</td>\n",
       "    </tr>\n",
       "    <tr>\n",
       "      <th>std</th>\n",
       "      <td>2.731747</td>\n",
       "      <td>2.005185</td>\n",
       "      <td>1.369603</td>\n",
       "    </tr>\n",
       "    <tr>\n",
       "      <th>min</th>\n",
       "      <td>0.000000</td>\n",
       "      <td>0.000000</td>\n",
       "      <td>0.000000</td>\n",
       "    </tr>\n",
       "    <tr>\n",
       "      <th>25%</th>\n",
       "      <td>10.486871</td>\n",
       "      <td>7.107126</td>\n",
       "      <td>4.211500</td>\n",
       "    </tr>\n",
       "    <tr>\n",
       "      <th>50%</th>\n",
       "      <td>11.747362</td>\n",
       "      <td>8.226247</td>\n",
       "      <td>4.994607</td>\n",
       "    </tr>\n",
       "    <tr>\n",
       "      <th>75%</th>\n",
       "      <td>13.426419</td>\n",
       "      <td>9.504924</td>\n",
       "      <td>5.859495</td>\n",
       "    </tr>\n",
       "    <tr>\n",
       "      <th>max</th>\n",
       "      <td>24.480271</td>\n",
       "      <td>16.081632</td>\n",
       "      <td>16.001945</td>\n",
       "    </tr>\n",
       "  </tbody>\n",
       "</table>\n",
       "</div>"
      ],
      "text/plain": [
       "       rougher.output.concentrate_ag  primary_cleaner.output.concentrate_ag  \\\n",
       "count                   14149.000000                           14149.000000   \n",
       "mean                       11.775812                               8.200916   \n",
       "std                         2.731747                               2.005185   \n",
       "min                         0.000000                               0.000000   \n",
       "25%                        10.486871                               7.107126   \n",
       "50%                        11.747362                               8.226247   \n",
       "75%                        13.426419                               9.504924   \n",
       "max                        24.480271                              16.081632   \n",
       "\n",
       "       final.output.concentrate_ag  \n",
       "count                 14149.000000  \n",
       "mean                      5.141921  \n",
       "std                       1.369603  \n",
       "min                       0.000000  \n",
       "25%                       4.211500  \n",
       "50%                       4.994607  \n",
       "75%                       5.859495  \n",
       "max                      16.001945  "
      ]
     },
     "metadata": {},
     "output_type": "display_data"
    },
    {
     "data": {
      "image/png": "[encoded data removed]",
      "text/plain": [
       "<Figure size 576x432 with 1 Axes>"
      ]
     },
     "metadata": {
      "needs_background": "light"
     },
     "output_type": "display_data"
    },
    {
     "data": {
      "text/html": [
       "<div>\n",
       "<style scoped>\n",
       "    .dataframe tbody tr th:only-of-type {\n",
       "        vertical-align: middle;\n",
       "    }\n",
       "\n",
       "    .dataframe tbody tr th {\n",
       "        vertical-align: top;\n",
       "    }\n",
       "\n",
       "    .dataframe thead th {\n",
       "        text-align: right;\n",
       "    }\n",
       "</style>\n",
       "<table border=\"1\" class=\"dataframe\">\n",
       "  <thead>\n",
       "    <tr style=\"text-align: right;\">\n",
       "      <th></th>\n",
       "      <th>rougher.output.concentrate_pb</th>\n",
       "      <th>primary_cleaner.output.concentrate_pb</th>\n",
       "      <th>final.output.concentrate_pb</th>\n",
       "    </tr>\n",
       "  </thead>\n",
       "  <tbody>\n",
       "    <tr>\n",
       "      <th>count</th>\n",
       "      <td>14149.000000</td>\n",
       "      <td>14149.000000</td>\n",
       "      <td>14149.000000</td>\n",
       "    </tr>\n",
       "    <tr>\n",
       "      <th>mean</th>\n",
       "      <td>7.664555</td>\n",
       "      <td>9.568544</td>\n",
       "      <td>10.132848</td>\n",
       "    </tr>\n",
       "    <tr>\n",
       "      <th>std</th>\n",
       "      <td>1.856279</td>\n",
       "      <td>2.709330</td>\n",
       "      <td>1.654925</td>\n",
       "    </tr>\n",
       "    <tr>\n",
       "      <th>min</th>\n",
       "      <td>0.000000</td>\n",
       "      <td>0.000000</td>\n",
       "      <td>0.000000</td>\n",
       "    </tr>\n",
       "    <tr>\n",
       "      <th>25%</th>\n",
       "      <td>6.850501</td>\n",
       "      <td>8.315997</td>\n",
       "      <td>9.296833</td>\n",
       "    </tr>\n",
       "    <tr>\n",
       "      <th>50%</th>\n",
       "      <td>7.760435</td>\n",
       "      <td>9.920598</td>\n",
       "      <td>10.297013</td>\n",
       "    </tr>\n",
       "    <tr>\n",
       "      <th>75%</th>\n",
       "      <td>8.601927</td>\n",
       "      <td>11.298487</td>\n",
       "      <td>11.170578</td>\n",
       "    </tr>\n",
       "    <tr>\n",
       "      <th>max</th>\n",
       "      <td>13.617072</td>\n",
       "      <td>17.081278</td>\n",
       "      <td>17.031899</td>\n",
       "    </tr>\n",
       "  </tbody>\n",
       "</table>\n",
       "</div>"
      ],
      "text/plain": [
       "       rougher.output.concentrate_pb  primary_cleaner.output.concentrate_pb  \\\n",
       "count                   14149.000000                           14149.000000   \n",
       "mean                        7.664555                               9.568544   \n",
       "std                         1.856279                               2.709330   \n",
       "min                         0.000000                               0.000000   \n",
       "25%                         6.850501                               8.315997   \n",
       "50%                         7.760435                               9.920598   \n",
       "75%                         8.601927                              11.298487   \n",
       "max                        13.617072                              17.081278   \n",
       "\n",
       "       final.output.concentrate_pb  \n",
       "count                 14149.000000  \n",
       "mean                     10.132848  \n",
       "std                       1.654925  \n",
       "min                       0.000000  \n",
       "25%                       9.296833  \n",
       "50%                      10.297013  \n",
       "75%                      11.170578  \n",
       "max                      17.031899  "
      ]
     },
     "metadata": {},
     "output_type": "display_data"
    }
   ],
   "source": [
    "metals = ['_au', '_ag', '_pb']\n",
    "columns_concentrate = ['rougher.output.concentrate', 'primary_cleaner.output.concentrate', 'final.output.concentrate']\n",
    "columns_tail = ['rougher.output.tail', 'primary_cleaner.output.tail', 'secondary_cleaner.output.tail', 'final.output.tail']\n",
    "\n",
    "for metal in metals:\n",
    "    metal_columns_list = []\n",
    "    for column in columns_concentrate:\n",
    "        metal_columns_list.append(column+metal)\n",
    "        train[column+metal].plot(kind='hist', label=column.split('.')[0], alpha=0.8, bins=20, figsize=(8,6))\n",
    "    \n",
    "    plt.legend()\n",
    "    plt.xlabel('Концентрация')\n",
    "    plt.title('Распределения концентрации'+metal+' в продукте по этапам очистки')\n",
    "    plt.show()\n",
    "    display(train[metal_columns_list].describe())"
   ]
  },
  {
   "cell_type": "markdown",
   "metadata": {},
   "source": [
    "**Что с концентрацией металлов по ходу технологического процесса:**\n",
    "- Концентрация золота растёт в два раза - **с 19 до 44**\n",
    "- Концентрация серебра падает в два раза - **с 12 до 5**\n",
    "- Концентрация свинца относительно слабо растёт - **с 8 до 10**\n",
    "\n",
    "В итоге видим \"отсечение\" серебра, при относительно неизменном количестве свинца и резко выросшем количестве золота.\n",
    "\n",
    "Стандартное отклонение по концентрации золота всреднем явно наименьшее - порядка 10%. Видно, что целятся именно в увеличение концентрации этого металла. Да и гистограммы по этапам, как на подбор."
   ]
  },
  {
   "cell_type": "markdown",
   "metadata": {},
   "source": [
    "### Концентрация металлов в отвальных хвостах"
   ]
  },
  {
   "cell_type": "markdown",
   "metadata": {},
   "source": [
    "Поступаем аналогично, но берем столбцы, относящиеся к концентрации в отвальных хвостах:"
   ]
  },
  {
   "cell_type": "code",
   "execution_count": 17,
   "metadata": {
    "scrolled": false
   },
   "outputs": [
    {
     "data": {
      "image/png": "[encoded data removed]",
      "text/plain": [
       "<Figure size 576x432 with 1 Axes>"
      ]
     },
     "metadata": {
      "needs_background": "light"
     },
     "output_type": "display_data"
    },
    {
     "data": {
      "text/html": [
       "<div>\n",
       "<style scoped>\n",
       "    .dataframe tbody tr th:only-of-type {\n",
       "        vertical-align: middle;\n",
       "    }\n",
       "\n",
       "    .dataframe tbody tr th {\n",
       "        vertical-align: top;\n",
       "    }\n",
       "\n",
       "    .dataframe thead th {\n",
       "        text-align: right;\n",
       "    }\n",
       "</style>\n",
       "<table border=\"1\" class=\"dataframe\">\n",
       "  <thead>\n",
       "    <tr style=\"text-align: right;\">\n",
       "      <th></th>\n",
       "      <th>rougher.output.tail_au</th>\n",
       "      <th>primary_cleaner.output.tail_au</th>\n",
       "      <th>secondary_cleaner.output.tail_au</th>\n",
       "      <th>final.output.tail_au</th>\n",
       "    </tr>\n",
       "  </thead>\n",
       "  <tbody>\n",
       "    <tr>\n",
       "      <th>count</th>\n",
       "      <td>14149.000000</td>\n",
       "      <td>14149.000000</td>\n",
       "      <td>14149.000000</td>\n",
       "      <td>14149.000000</td>\n",
       "    </tr>\n",
       "    <tr>\n",
       "      <th>mean</th>\n",
       "      <td>1.757473</td>\n",
       "      <td>3.839637</td>\n",
       "      <td>4.246961</td>\n",
       "      <td>2.918421</td>\n",
       "    </tr>\n",
       "    <tr>\n",
       "      <th>std</th>\n",
       "      <td>0.713187</td>\n",
       "      <td>1.603544</td>\n",
       "      <td>2.389060</td>\n",
       "      <td>0.903712</td>\n",
       "    </tr>\n",
       "    <tr>\n",
       "      <th>min</th>\n",
       "      <td>0.020676</td>\n",
       "      <td>0.000000</td>\n",
       "      <td>0.000000</td>\n",
       "      <td>0.000000</td>\n",
       "    </tr>\n",
       "    <tr>\n",
       "      <th>25%</th>\n",
       "      <td>1.310800</td>\n",
       "      <td>2.867957</td>\n",
       "      <td>3.153122</td>\n",
       "      <td>2.368607</td>\n",
       "    </tr>\n",
       "    <tr>\n",
       "      <th>50%</th>\n",
       "      <td>1.745513</td>\n",
       "      <td>3.510337</td>\n",
       "      <td>3.980210</td>\n",
       "      <td>2.851025</td>\n",
       "    </tr>\n",
       "    <tr>\n",
       "      <th>75%</th>\n",
       "      <td>2.186790</td>\n",
       "      <td>4.492470</td>\n",
       "      <td>4.883943</td>\n",
       "      <td>3.434764</td>\n",
       "    </tr>\n",
       "    <tr>\n",
       "      <th>max</th>\n",
       "      <td>9.688980</td>\n",
       "      <td>17.788925</td>\n",
       "      <td>26.811643</td>\n",
       "      <td>8.197408</td>\n",
       "    </tr>\n",
       "  </tbody>\n",
       "</table>\n",
       "</div>"
      ],
      "text/plain": [
       "       rougher.output.tail_au  primary_cleaner.output.tail_au  \\\n",
       "count            14149.000000                    14149.000000   \n",
       "mean                 1.757473                        3.839637   \n",
       "std                  0.713187                        1.603544   \n",
       "min                  0.020676                        0.000000   \n",
       "25%                  1.310800                        2.867957   \n",
       "50%                  1.745513                        3.510337   \n",
       "75%                  2.186790                        4.492470   \n",
       "max                  9.688980                       17.788925   \n",
       "\n",
       "       secondary_cleaner.output.tail_au  final.output.tail_au  \n",
       "count                      14149.000000          14149.000000  \n",
       "mean                           4.246961              2.918421  \n",
       "std                            2.389060              0.903712  \n",
       "min                            0.000000              0.000000  \n",
       "25%                            3.153122              2.368607  \n",
       "50%                            3.980210              2.851025  \n",
       "75%                            4.883943              3.434764  \n",
       "max                           26.811643              8.197408  "
      ]
     },
     "metadata": {},
     "output_type": "display_data"
    },
    {
     "data": {
      "image/png": "[encoded data removed]",
      "text/plain": [
       "<Figure size 576x432 with 1 Axes>"
      ]
     },
     "metadata": {
      "needs_background": "light"
     },
     "output_type": "display_data"
    },
    {
     "data": {
      "text/html": [
       "<div>\n",
       "<style scoped>\n",
       "    .dataframe tbody tr th:only-of-type {\n",
       "        vertical-align: middle;\n",
       "    }\n",
       "\n",
       "    .dataframe tbody tr th {\n",
       "        vertical-align: top;\n",
       "    }\n",
       "\n",
       "    .dataframe thead th {\n",
       "        text-align: right;\n",
       "    }\n",
       "</style>\n",
       "<table border=\"1\" class=\"dataframe\">\n",
       "  <thead>\n",
       "    <tr style=\"text-align: right;\">\n",
       "      <th></th>\n",
       "      <th>rougher.output.tail_ag</th>\n",
       "      <th>primary_cleaner.output.tail_ag</th>\n",
       "      <th>secondary_cleaner.output.tail_ag</th>\n",
       "      <th>final.output.tail_ag</th>\n",
       "    </tr>\n",
       "  </thead>\n",
       "  <tbody>\n",
       "    <tr>\n",
       "      <th>count</th>\n",
       "      <td>14149.000000</td>\n",
       "      <td>14149.000000</td>\n",
       "      <td>14149.000000</td>\n",
       "      <td>14149.000000</td>\n",
       "    </tr>\n",
       "    <tr>\n",
       "      <th>mean</th>\n",
       "      <td>5.567238</td>\n",
       "      <td>16.303752</td>\n",
       "      <td>14.281516</td>\n",
       "      <td>9.607035</td>\n",
       "    </tr>\n",
       "    <tr>\n",
       "      <th>std</th>\n",
       "      <td>1.039188</td>\n",
       "      <td>3.739771</td>\n",
       "      <td>4.476820</td>\n",
       "      <td>2.319069</td>\n",
       "    </tr>\n",
       "    <tr>\n",
       "      <th>min</th>\n",
       "      <td>0.594562</td>\n",
       "      <td>0.000000</td>\n",
       "      <td>0.000000</td>\n",
       "      <td>0.000000</td>\n",
       "    </tr>\n",
       "    <tr>\n",
       "      <th>25%</th>\n",
       "      <td>4.921773</td>\n",
       "      <td>13.872984</td>\n",
       "      <td>12.177541</td>\n",
       "      <td>7.997429</td>\n",
       "    </tr>\n",
       "    <tr>\n",
       "      <th>50%</th>\n",
       "      <td>5.722161</td>\n",
       "      <td>15.800433</td>\n",
       "      <td>15.356812</td>\n",
       "      <td>9.480270</td>\n",
       "    </tr>\n",
       "    <tr>\n",
       "      <th>75%</th>\n",
       "      <td>6.310738</td>\n",
       "      <td>18.450107</td>\n",
       "      <td>17.230072</td>\n",
       "      <td>11.003707</td>\n",
       "    </tr>\n",
       "    <tr>\n",
       "      <th>max</th>\n",
       "      <td>12.719177</td>\n",
       "      <td>29.459575</td>\n",
       "      <td>23.264738</td>\n",
       "      <td>19.552149</td>\n",
       "    </tr>\n",
       "  </tbody>\n",
       "</table>\n",
       "</div>"
      ],
      "text/plain": [
       "       rougher.output.tail_ag  primary_cleaner.output.tail_ag  \\\n",
       "count            14149.000000                    14149.000000   \n",
       "mean                 5.567238                       16.303752   \n",
       "std                  1.039188                        3.739771   \n",
       "min                  0.594562                        0.000000   \n",
       "25%                  4.921773                       13.872984   \n",
       "50%                  5.722161                       15.800433   \n",
       "75%                  6.310738                       18.450107   \n",
       "max                 12.719177                       29.459575   \n",
       "\n",
       "       secondary_cleaner.output.tail_ag  final.output.tail_ag  \n",
       "count                      14149.000000          14149.000000  \n",
       "mean                          14.281516              9.607035  \n",
       "std                            4.476820              2.319069  \n",
       "min                            0.000000              0.000000  \n",
       "25%                           12.177541              7.997429  \n",
       "50%                           15.356812              9.480270  \n",
       "75%                           17.230072             11.003707  \n",
       "max                           23.264738             19.552149  "
      ]
     },
     "metadata": {},
     "output_type": "display_data"
    },
    {
     "data": {
      "image/png": "[encoded data removed]",
      "text/plain": [
       "<Figure size 576x432 with 1 Axes>"
      ]
     },
     "metadata": {
      "needs_background": "light"
     },
     "output_type": "display_data"
    },
    {
     "data": {
      "text/html": [
       "<div>\n",
       "<style scoped>\n",
       "    .dataframe tbody tr th:only-of-type {\n",
       "        vertical-align: middle;\n",
       "    }\n",
       "\n",
       "    .dataframe tbody tr th {\n",
       "        vertical-align: top;\n",
       "    }\n",
       "\n",
       "    .dataframe thead th {\n",
       "        text-align: right;\n",
       "    }\n",
       "</style>\n",
       "<table border=\"1\" class=\"dataframe\">\n",
       "  <thead>\n",
       "    <tr style=\"text-align: right;\">\n",
       "      <th></th>\n",
       "      <th>rougher.output.tail_pb</th>\n",
       "      <th>primary_cleaner.output.tail_pb</th>\n",
       "      <th>secondary_cleaner.output.tail_pb</th>\n",
       "      <th>final.output.tail_pb</th>\n",
       "    </tr>\n",
       "  </thead>\n",
       "  <tbody>\n",
       "    <tr>\n",
       "      <th>count</th>\n",
       "      <td>14149.000000</td>\n",
       "      <td>14149.000000</td>\n",
       "      <td>14149.000000</td>\n",
       "      <td>14149.000000</td>\n",
       "    </tr>\n",
       "    <tr>\n",
       "      <th>mean</th>\n",
       "      <td>0.653277</td>\n",
       "      <td>3.440612</td>\n",
       "      <td>5.846963</td>\n",
       "      <td>2.583179</td>\n",
       "    </tr>\n",
       "    <tr>\n",
       "      <th>std</th>\n",
       "      <td>0.263766</td>\n",
       "      <td>1.491948</td>\n",
       "      <td>2.862382</td>\n",
       "      <td>0.983118</td>\n",
       "    </tr>\n",
       "    <tr>\n",
       "      <th>min</th>\n",
       "      <td>0.007566</td>\n",
       "      <td>0.000000</td>\n",
       "      <td>0.000000</td>\n",
       "      <td>0.000000</td>\n",
       "    </tr>\n",
       "    <tr>\n",
       "      <th>25%</th>\n",
       "      <td>0.474047</td>\n",
       "      <td>2.418536</td>\n",
       "      <td>3.979249</td>\n",
       "      <td>1.889827</td>\n",
       "    </tr>\n",
       "    <tr>\n",
       "      <th>50%</th>\n",
       "      <td>0.625805</td>\n",
       "      <td>3.217161</td>\n",
       "      <td>5.440583</td>\n",
       "      <td>2.581476</td>\n",
       "    </tr>\n",
       "    <tr>\n",
       "      <th>75%</th>\n",
       "      <td>0.794326</td>\n",
       "      <td>4.250882</td>\n",
       "      <td>7.797396</td>\n",
       "      <td>3.237211</td>\n",
       "    </tr>\n",
       "    <tr>\n",
       "      <th>max</th>\n",
       "      <td>3.778064</td>\n",
       "      <td>9.634565</td>\n",
       "      <td>17.042505</td>\n",
       "      <td>5.639565</td>\n",
       "    </tr>\n",
       "  </tbody>\n",
       "</table>\n",
       "</div>"
      ],
      "text/plain": [
       "       rougher.output.tail_pb  primary_cleaner.output.tail_pb  \\\n",
       "count            14149.000000                    14149.000000   \n",
       "mean                 0.653277                        3.440612   \n",
       "std                  0.263766                        1.491948   \n",
       "min                  0.007566                        0.000000   \n",
       "25%                  0.474047                        2.418536   \n",
       "50%                  0.625805                        3.217161   \n",
       "75%                  0.794326                        4.250882   \n",
       "max                  3.778064                        9.634565   \n",
       "\n",
       "       secondary_cleaner.output.tail_pb  final.output.tail_pb  \n",
       "count                      14149.000000          14149.000000  \n",
       "mean                           5.846963              2.583179  \n",
       "std                            2.862382              0.983118  \n",
       "min                            0.000000              0.000000  \n",
       "25%                            3.979249              1.889827  \n",
       "50%                            5.440583              2.581476  \n",
       "75%                            7.797396              3.237211  \n",
       "max                           17.042505              5.639565  "
      ]
     },
     "metadata": {},
     "output_type": "display_data"
    }
   ],
   "source": [
    "for metal in metals:\n",
    "    metal_columns_list = []\n",
    "    for column in columns_tail:\n",
    "        metal_columns_list.append(column+metal)\n",
    "        train[column+metal].plot(kind='hist', label=column.split('.')[0], alpha=0.8, bins=20, figsize=(8,6))\n",
    "    \n",
    "    plt.legend()\n",
    "    plt.xlabel('Концентрация')\n",
    "    plt.title('Распределения концентрации'+metal+' в отвальных хвостах по этапам очистки')\n",
    "    plt.show()\n",
    "    display(train[metal_columns_list].describe())"
   ]
  },
  {
   "cell_type": "markdown",
   "metadata": {},
   "source": [
    "**Концентрация металлов в отвальных хвостах по ходу технологического процесса:**\n",
    "- **Золото**: растёт от 1,8 до 4,2, а затем падает до 2,9\n",
    "- **Серебро**: растёт от 5,6 до 16,3, а затем падает до 9,6\n",
    "- **Свинец**: растёт от 0,7 до 5,8, а затем падает до 2,6\n",
    "\n",
    "В итоге видим, что больше всего в отвальных хвостах серебра. Золота и свинца поровну.\n",
    "Стандартное отклонение для всех металлов держится в районе 20-30% от среднего и сначала растёт, а потом падает. То есть на производстве по концентрации металлов в отвальных хвостах самые стабильные этапы это флотация и финальный этап очистки"
   ]
  },
  {
   "cell_type": "markdown",
   "metadata": {},
   "source": [
    "### Сравнение распределений размеров гранул"
   ]
  },
  {
   "cell_type": "markdown",
   "metadata": {},
   "source": [
    "Поступим аналогично предыдущему исследованию - построим гистограмму и глянем `describe`"
   ]
  },
  {
   "cell_type": "code",
   "execution_count": 18,
   "metadata": {},
   "outputs": [
    {
     "data": {
      "image/png": "[encoded data removed]",
      "text/plain": [
       "<Figure size 576x432 with 1 Axes>"
      ]
     },
     "metadata": {
      "needs_background": "light"
     },
     "output_type": "display_data"
    }
   ],
   "source": [
    "train['rougher.input.feed_size'].plot(kind='hist',\n",
    "                                      label='Тренировочная', alpha=0.8, bins=30, range=(0, 200), figsize=(8,6), density=True)\n",
    "test['rougher.input.feed_size'].plot(kind='hist',\n",
    "                                     label='Тестовая', alpha=0.8, bins=30, range=(0, 200), figsize=(8,6), density=True)\n",
    "\n",
    "plt.legend()\n",
    "plt.xlabel('Размер гранул')\n",
    "plt.title('Распределения размеров гранул в выборках')\n",
    "plt.show()"
   ]
  },
  {
   "cell_type": "markdown",
   "metadata": {},
   "source": [
    "Даже по внешнему виду распределения размеров гранул в тестовой и тренировочной выборках очень похожи. Что скажет `describe`?"
   ]
  },
  {
   "cell_type": "code",
   "execution_count": 19,
   "metadata": {},
   "outputs": [
    {
     "data": {
      "text/plain": [
       "count    14149.000000\n",
       "mean        60.239856\n",
       "std         23.005310\n",
       "min          9.659576\n",
       "25%         48.966751\n",
       "50%         55.269784\n",
       "75%         66.007526\n",
       "max        484.967466\n",
       "Name: rougher.input.feed_size, dtype: float64"
      ]
     },
     "execution_count": 19,
     "metadata": {},
     "output_type": "execute_result"
    }
   ],
   "source": [
    "train['rougher.input.feed_size'].describe()"
   ]
  },
  {
   "cell_type": "code",
   "execution_count": 20,
   "metadata": {},
   "outputs": [
    {
     "data": {
      "text/plain": [
       "count    5290.000000\n",
       "mean       55.952754\n",
       "std        19.080334\n",
       "min         0.046369\n",
       "25%        43.906504\n",
       "50%        50.846843\n",
       "75%        62.451165\n",
       "max       392.494040\n",
       "Name: rougher.input.feed_size, dtype: float64"
      ]
     },
     "execution_count": 20,
     "metadata": {},
     "output_type": "execute_result"
    }
   ],
   "source": [
    "test['rougher.input.feed_size'].describe()"
   ]
  },
  {
   "cell_type": "markdown",
   "metadata": {},
   "source": [
    "Средние, медианы и стандартные отклонения в этих выборках отличаются примерно на 10%. Думаю вполне допустимое различие для корректной оценки модели."
   ]
  },
  {
   "cell_type": "markdown",
   "metadata": {},
   "source": [
    "### Суммарная концентрация всех веществ на разных этапах"
   ]
  },
  {
   "cell_type": "markdown",
   "metadata": {},
   "source": [
    "Для начала сформируем столбцы с расчётом суммарной концентрацией и заодно создадим список этих столбцов для дальнейшего удобного применения `describe`"
   ]
  },
  {
   "cell_type": "code",
   "execution_count": 21,
   "metadata": {},
   "outputs": [],
   "source": [
    "stages = ['rougher.input.feed', 'rougher.output.concentrate', 'primary_cleaner.output.concentrate', 'final.output.concentrate']\n",
    "substances = ['_au', '_ag', '_pb', '_sol']\n",
    "sum_conc_columns = []\n",
    "\n",
    "for stage in stages:\n",
    "    sum_conc_columns.append('sum_conc.'+stage)\n",
    "    train['sum_conc.'+stage] = 0\n",
    "    for substance in substances:\n",
    "        train['sum_conc.'+stage] += train[stage+substance]"
   ]
  },
  {
   "cell_type": "markdown",
   "metadata": {},
   "source": [
    "А затем построим гистограммы распределения суммарной концентрации в разбивке по этапам:"
   ]
  },
  {
   "cell_type": "code",
   "execution_count": 22,
   "metadata": {},
   "outputs": [
    {
     "data": {
      "image/png": "[encoded data removed]",
      "text/plain": [
       "<Figure size 576x432 with 1 Axes>"
      ]
     },
     "metadata": {
      "needs_background": "light"
     },
     "output_type": "display_data"
    },
    {
     "data": {
      "text/html": [
       "<div>\n",
       "<style scoped>\n",
       "    .dataframe tbody tr th:only-of-type {\n",
       "        vertical-align: middle;\n",
       "    }\n",
       "\n",
       "    .dataframe tbody tr th {\n",
       "        vertical-align: top;\n",
       "    }\n",
       "\n",
       "    .dataframe thead th {\n",
       "        text-align: right;\n",
       "    }\n",
       "</style>\n",
       "<table border=\"1\" class=\"dataframe\">\n",
       "  <thead>\n",
       "    <tr style=\"text-align: right;\">\n",
       "      <th></th>\n",
       "      <th>sum_conc.rougher.input.feed</th>\n",
       "      <th>sum_conc.rougher.output.concentrate</th>\n",
       "      <th>sum_conc.primary_cleaner.output.concentrate</th>\n",
       "      <th>sum_conc.final.output.concentrate</th>\n",
       "    </tr>\n",
       "  </thead>\n",
       "  <tbody>\n",
       "    <tr>\n",
       "      <th>count</th>\n",
       "      <td>14149.000000</td>\n",
       "      <td>14149.000000</td>\n",
       "      <td>14149.000000</td>\n",
       "      <td>14149.000000</td>\n",
       "    </tr>\n",
       "    <tr>\n",
       "      <th>mean</th>\n",
       "      <td>56.242170</td>\n",
       "      <td>67.173145</td>\n",
       "      <td>60.172546</td>\n",
       "      <td>68.387872</td>\n",
       "    </tr>\n",
       "    <tr>\n",
       "      <th>std</th>\n",
       "      <td>7.029808</td>\n",
       "      <td>12.713129</td>\n",
       "      <td>10.448165</td>\n",
       "      <td>7.023723</td>\n",
       "    </tr>\n",
       "    <tr>\n",
       "      <th>min</th>\n",
       "      <td>0.040000</td>\n",
       "      <td>0.000000</td>\n",
       "      <td>0.000000</td>\n",
       "      <td>0.000000</td>\n",
       "    </tr>\n",
       "    <tr>\n",
       "      <th>25%</th>\n",
       "      <td>52.573579</td>\n",
       "      <td>64.914390</td>\n",
       "      <td>58.046816</td>\n",
       "      <td>67.559819</td>\n",
       "    </tr>\n",
       "    <tr>\n",
       "      <th>50%</th>\n",
       "      <td>56.627635</td>\n",
       "      <td>69.175663</td>\n",
       "      <td>61.786946</td>\n",
       "      <td>69.141502</td>\n",
       "    </tr>\n",
       "    <tr>\n",
       "      <th>75%</th>\n",
       "      <td>60.763234</td>\n",
       "      <td>73.429261</td>\n",
       "      <td>65.355951</td>\n",
       "      <td>70.974661</td>\n",
       "    </tr>\n",
       "    <tr>\n",
       "      <th>max</th>\n",
       "      <td>74.458253</td>\n",
       "      <td>88.140119</td>\n",
       "      <td>76.918076</td>\n",
       "      <td>80.210644</td>\n",
       "    </tr>\n",
       "  </tbody>\n",
       "</table>\n",
       "</div>"
      ],
      "text/plain": [
       "       sum_conc.rougher.input.feed  sum_conc.rougher.output.concentrate  \\\n",
       "count                 14149.000000                         14149.000000   \n",
       "mean                     56.242170                            67.173145   \n",
       "std                       7.029808                            12.713129   \n",
       "min                       0.040000                             0.000000   \n",
       "25%                      52.573579                            64.914390   \n",
       "50%                      56.627635                            69.175663   \n",
       "75%                      60.763234                            73.429261   \n",
       "max                      74.458253                            88.140119   \n",
       "\n",
       "       sum_conc.primary_cleaner.output.concentrate  \\\n",
       "count                                 14149.000000   \n",
       "mean                                     60.172546   \n",
       "std                                      10.448165   \n",
       "min                                       0.000000   \n",
       "25%                                      58.046816   \n",
       "50%                                      61.786946   \n",
       "75%                                      65.355951   \n",
       "max                                      76.918076   \n",
       "\n",
       "       sum_conc.final.output.concentrate  \n",
       "count                       14149.000000  \n",
       "mean                           68.387872  \n",
       "std                             7.023723  \n",
       "min                             0.000000  \n",
       "25%                            67.559819  \n",
       "50%                            69.141502  \n",
       "75%                            70.974661  \n",
       "max                            80.210644  "
      ]
     },
     "execution_count": 22,
     "metadata": {},
     "output_type": "execute_result"
    }
   ],
   "source": [
    "for stage in stages:\n",
    "    train['sum_conc.'+stage].plot(kind='hist', label=stage.rsplit('.', 1)[0], alpha=0.8, bins=20, figsize=(8,6))\n",
    "    \n",
    "plt.legend()\n",
    "plt.xlabel('Концентрация')\n",
    "plt.title('Распределения концентрации всех веществ по этапам очистки')\n",
    "plt.show()\n",
    "\n",
    "train[sum_conc_columns].describe()"
   ]
  },
  {
   "cell_type": "markdown",
   "metadata": {},
   "source": [
    "Суммарная концентрация всех веществ в концентрате по ходу технологического процесса растёт с 56 до 68, с провалом на первом этапе очистки (до 60). Стандартное отклонение как видим наименьшее на первом и последнем этапах, что говорит нам о повышенной стабильности сырья и результатов обогащения.\n",
    "\n",
    "Видны аномальные нулевые значения суммарной концентрации веществ. Такая ситуация маловероятна. Думаю, что можно удалить эти наблюдения, т.к. даже по гистограмме видно их небольшое количество."
   ]
  },
  {
   "cell_type": "code",
   "execution_count": 23,
   "metadata": {},
   "outputs": [
    {
     "data": {
      "text/html": [
       "<div>\n",
       "<style scoped>\n",
       "    .dataframe tbody tr th:only-of-type {\n",
       "        vertical-align: middle;\n",
       "    }\n",
       "\n",
       "    .dataframe tbody tr th {\n",
       "        vertical-align: top;\n",
       "    }\n",
       "\n",
       "    .dataframe thead th {\n",
       "        text-align: right;\n",
       "    }\n",
       "</style>\n",
       "<table border=\"1\" class=\"dataframe\">\n",
       "  <thead>\n",
       "    <tr style=\"text-align: right;\">\n",
       "      <th></th>\n",
       "      <th>sum_conc.rougher.input.feed</th>\n",
       "      <th>sum_conc.rougher.output.concentrate</th>\n",
       "      <th>sum_conc.primary_cleaner.output.concentrate</th>\n",
       "      <th>sum_conc.final.output.concentrate</th>\n",
       "    </tr>\n",
       "  </thead>\n",
       "  <tbody>\n",
       "    <tr>\n",
       "      <th>count</th>\n",
       "      <td>13725.000000</td>\n",
       "      <td>13725.000000</td>\n",
       "      <td>13725.000000</td>\n",
       "      <td>13725.000000</td>\n",
       "    </tr>\n",
       "    <tr>\n",
       "      <th>mean</th>\n",
       "      <td>56.220948</td>\n",
       "      <td>68.635086</td>\n",
       "      <td>60.427427</td>\n",
       "      <td>68.678100</td>\n",
       "    </tr>\n",
       "    <tr>\n",
       "      <th>std</th>\n",
       "      <td>6.993292</td>\n",
       "      <td>8.078062</td>\n",
       "      <td>9.490853</td>\n",
       "      <td>5.385878</td>\n",
       "    </tr>\n",
       "    <tr>\n",
       "      <th>min</th>\n",
       "      <td>0.040000</td>\n",
       "      <td>0.040000</td>\n",
       "      <td>0.040000</td>\n",
       "      <td>0.040000</td>\n",
       "    </tr>\n",
       "    <tr>\n",
       "      <th>25%</th>\n",
       "      <td>52.537171</td>\n",
       "      <td>65.274322</td>\n",
       "      <td>58.122781</td>\n",
       "      <td>67.567282</td>\n",
       "    </tr>\n",
       "    <tr>\n",
       "      <th>50%</th>\n",
       "      <td>56.614418</td>\n",
       "      <td>69.312323</td>\n",
       "      <td>61.774557</td>\n",
       "      <td>69.136319</td>\n",
       "    </tr>\n",
       "    <tr>\n",
       "      <th>75%</th>\n",
       "      <td>60.774528</td>\n",
       "      <td>73.515378</td>\n",
       "      <td>65.320661</td>\n",
       "      <td>70.950413</td>\n",
       "    </tr>\n",
       "    <tr>\n",
       "      <th>max</th>\n",
       "      <td>74.458253</td>\n",
       "      <td>88.140119</td>\n",
       "      <td>76.918076</td>\n",
       "      <td>80.210644</td>\n",
       "    </tr>\n",
       "  </tbody>\n",
       "</table>\n",
       "</div>"
      ],
      "text/plain": [
       "       sum_conc.rougher.input.feed  sum_conc.rougher.output.concentrate  \\\n",
       "count                 13725.000000                         13725.000000   \n",
       "mean                     56.220948                            68.635086   \n",
       "std                       6.993292                             8.078062   \n",
       "min                       0.040000                             0.040000   \n",
       "25%                      52.537171                            65.274322   \n",
       "50%                      56.614418                            69.312323   \n",
       "75%                      60.774528                            73.515378   \n",
       "max                      74.458253                            88.140119   \n",
       "\n",
       "       sum_conc.primary_cleaner.output.concentrate  \\\n",
       "count                                 13725.000000   \n",
       "mean                                     60.427427   \n",
       "std                                       9.490853   \n",
       "min                                       0.040000   \n",
       "25%                                      58.122781   \n",
       "50%                                      61.774557   \n",
       "75%                                      65.320661   \n",
       "max                                      76.918076   \n",
       "\n",
       "       sum_conc.final.output.concentrate  \n",
       "count                       13725.000000  \n",
       "mean                           68.678100  \n",
       "std                             5.385878  \n",
       "min                             0.040000  \n",
       "25%                            67.567282  \n",
       "50%                            69.136319  \n",
       "75%                            70.950413  \n",
       "max                            80.210644  "
      ]
     },
     "execution_count": 23,
     "metadata": {},
     "output_type": "execute_result"
    }
   ],
   "source": [
    "for column in sum_conc_columns:\n",
    "    train = train[train[column] > 0]\n",
    "    \n",
    "train[sum_conc_columns].describe()"
   ]
  },
  {
   "cell_type": "markdown",
   "metadata": {},
   "source": [
    "Нулевые значения удалены.\n",
    "\n",
    "Теперь удалим \"технические\" столбцы и приступим к выводам."
   ]
  },
  {
   "cell_type": "code",
   "execution_count": 24,
   "metadata": {},
   "outputs": [],
   "source": [
    "train = train.drop(sum_conc_columns, axis=1)"
   ]
  },
  {
   "cell_type": "markdown",
   "metadata": {},
   "source": [
    "### Итоги анализа данных"
   ]
  },
  {
   "cell_type": "markdown",
   "metadata": {},
   "source": [
    "**По ходу технологического процесса обогащения:**\n",
    "\n",
    "- Концентрация золота растёт в два раза - **с 19 до 44**\n",
    "- Концентрация серебра падает в два раза - **с 12 до 5**\n",
    "- Концентрация свинца относительно слабо растёт - **с 8 до 10**\n",
    "\n",
    "**в отвальных хвостах:**\n",
    "\n",
    "- **Золото**: растёт от 1,8 до 4,2, а затем падает до 2,9\n",
    "- **Серебро**: растёт от 5,6 до 16,3, а затем падает до 9,6\n",
    "- **Свинец**: растёт от 0,7 до 5,8, а затем падает до 2,6\n",
    "\n",
    "**Суммарная концентрация всех веществ** в концентрате по ходу технологического процесса растёт **с 56 до 68**, с провалом на первом этапе очистки (до 60).\n",
    "\n",
    "**Стандартные отклонения** исследуемых параметров ведут себя похожим образом - **минимальны на входе и выходе**, что говорит нам о повышенной стабильности сырья и получаемого концентрата по сравнению с промежуточными этапами.\n",
    "\n",
    "Кроме того, проверили **распределения размеров гранул** в тестовой и тренировочной выборках. Визуально гистограммы распределений выглядят **очень похоже**. **Смещены** относительно друг друга по статистическим показателям **на 10%**. Думаю, что это допустимое отклонение для корректной оценки модели."
   ]
  },
  {
   "cell_type": "markdown",
   "metadata": {},
   "source": [
    "## Модель"
   ]
  },
  {
   "cell_type": "markdown",
   "metadata": {},
   "source": [
    "### Функция расчёта метрики"
   ]
  },
  {
   "cell_type": "markdown",
   "metadata": {},
   "source": [
    "Тут, откровенно говоря, после часа самостоятельных мучений подглядел в слаке. Понял, что при предсказании двух признаков нужно сначала просто расчитать smape, не обращая внимания на то, что два признака. Получить таким образом опять же пару столбцов результатов и уже оттуда брать данные для расчёта финального smape."
   ]
  },
  {
   "cell_type": "code",
   "execution_count": 25,
   "metadata": {},
   "outputs": [
    {
     "name": "stdout",
     "output_type": "stream",
     "text": [
      "Функция написана, скорер для кроссвалидации подготовлен\n"
     ]
    }
   ],
   "source": [
    "# пишем функцию по формуле из справочных материалов\n",
    "def total_smape(y_true,y_pred):\n",
    "    numerator = abs(y_true - y_pred)\n",
    "    denominator = (abs(y_true) + abs(y_pred))/2\n",
    "    smape = ((numerator/denominator)*100).sum() / len(y_pred)\n",
    "    return 0.25*smape[0] + 0.75*smape[1]\n",
    "\n",
    "# создаём скорер для кроссвалидации\n",
    "smape_scorer = make_scorer(total_smape, greater_is_better=False)\n",
    "print('Функция написана, скорер для кроссвалидации подготовлен')"
   ]
  },
  {
   "cell_type": "markdown",
   "metadata": {},
   "source": [
    "### Подготовка к обучению моделей"
   ]
  },
  {
   "cell_type": "markdown",
   "metadata": {},
   "source": [
    "Подготовим датафреймы со свойствами и целевыми признаками:"
   ]
  },
  {
   "cell_type": "code",
   "execution_count": 26,
   "metadata": {},
   "outputs": [
    {
     "name": "stdout",
     "output_type": "stream",
     "text": [
      "(13725, 52)\n",
      "(13725, 2)\n"
     ]
    }
   ],
   "source": [
    "features = train[test.columns].drop(['date'], axis=1) # формируем датафрейм с признаками\n",
    "target = train[['rougher.output.recovery', 'final.output.recovery']] # целевые признаки\n",
    "    \n",
    "for data in [features, target]:\n",
    "    print(data.shape)"
   ]
  },
  {
   "cell_type": "markdown",
   "metadata": {},
   "source": [
    "Судя по размерностям, у нас 52 свойства и два целевых признака.\n",
    "\n",
    "Так как перед нами стоит задача регрессии и подразумевается применение линейной модели, не лишним будет отмасштабировать признаки."
   ]
  },
  {
   "cell_type": "code",
   "execution_count": 27,
   "metadata": {},
   "outputs": [],
   "source": [
    "# создаём \"масштабатор\"\n",
    "scaler = StandardScaler()\n",
    "# тренируем \"масштабатор\" на обучающей выборке\n",
    "scaler.fit(features)\n",
    "# масштабируем свойства тренированным \"масштабатором\"\n",
    "features = scaler.transform(features)"
   ]
  },
  {
   "cell_type": "markdown",
   "metadata": {},
   "source": [
    "### Линейная регрессия"
   ]
  },
  {
   "cell_type": "code",
   "execution_count": 28,
   "metadata": {},
   "outputs": [
    {
     "name": "stdout",
     "output_type": "stream",
     "text": [
      "Средний показатель sMAPE линейной регрессии (кросс-валидация): -10.03 %\n"
     ]
    }
   ],
   "source": [
    "# создаём линейную регрессию\n",
    "model_lr = LinearRegression()\n",
    "# оцениваем модель кросс-валидацией с оценкой по final_smape\n",
    "smape_cross_val = cross_val_score(model_lr, features, target, cv=5, scoring=smape_scorer)\n",
    "# считаем среднюю оценку\n",
    "mean_smape_lr = round(smape_cross_val.mean(), 2)\n",
    "print(f'Средний показатель sMAPE линейной регрессии (кросс-валидация): {mean_smape_lr} %')"
   ]
  },
  {
   "cell_type": "markdown",
   "metadata": {},
   "source": [
    "Отклонение в 10%. Выглядит неплохо. Посмотрим модель случайного леса с подбором параметров:"
   ]
  },
  {
   "cell_type": "markdown",
   "metadata": {},
   "source": [
    "### Случайный лес"
   ]
  },
  {
   "cell_type": "code",
   "execution_count": 29,
   "metadata": {},
   "outputs": [
    {
     "name": "stdout",
     "output_type": "stream",
     "text": [
      "Лучший средний показатель sMAPE случайного леса: -8.69\n",
      "Параметры лучшей модели случайного леса:\n",
      "n_estimators: 40\n",
      "max_depth: 4\n"
     ]
    }
   ],
   "source": [
    "# вводим переменные для хранения параметров лучшей модели\n",
    "best_rf_model = None\n",
    "best_rf_estimators = 0\n",
    "best_rf_depth = 0\n",
    "best_rf_smape = mean_smape_lr # опираемся на результаты линейной регрессии, модель случайного леса с худшими показателями нам не нужны\n",
    "\n",
    "for est in range(10, 41, 10):\n",
    "    for depth in range(1, 5):\n",
    "        model_rf = RandomForestRegressor(n_estimators=est, max_depth=depth, random_state=RANDOM_STATE)\n",
    "        smape_cross_val = cross_val_score(model_rf, features, target, cv=5, scoring=smape_scorer)\n",
    "        mean_smape_rf = smape_cross_val.mean()\n",
    "        if abs(mean_smape_rf) < abs(best_rf_smape):\n",
    "            best_rf_smape = mean_smape_rf\n",
    "            best_rf_model = model_rf\n",
    "            best_rf_estimators = est\n",
    "            best_rf_depth = depth\n",
    "                    \n",
    "if best_rf_estimators == 0:\n",
    "    print('Ни одной модели случайного леса из перебранных не оказалось точнее линейной регрессии.')\n",
    "else:\n",
    "    print(f'Лучший средний показатель sMAPE случайного леса: {round(best_rf_smape, 2)}')\n",
    "    print('Параметры лучшей модели случайного леса:')\n",
    "    print(f'n_estimators: {best_rf_estimators}')\n",
    "    print(f'max_depth: {best_rf_depth}')"
   ]
  },
  {
   "cell_type": "markdown",
   "metadata": {},
   "source": [
    "### Проверка лучшей модели на тестовой выборке"
   ]
  },
  {
   "cell_type": "markdown",
   "metadata": {},
   "source": [
    "Лучшей моделью оказался случайный лес, его и будем проверять на тестовой выборке. Но мы помним, что нужно посчитать суммарные концентрации на этапе входа сырья (остальные концентрации в тест не входят) в тестовой выборке и удалить нулевые строки."
   ]
  },
  {
   "cell_type": "code",
   "execution_count": 30,
   "metadata": {},
   "outputs": [
    {
     "data": {
      "text/plain": [
       "count    5290.000000\n",
       "mean       60.205741\n",
       "std         6.896581\n",
       "min         4.501868\n",
       "25%        56.458730\n",
       "50%        59.999831\n",
       "75%        65.099348\n",
       "max        76.978947\n",
       "Name: sum_conc.rougher.input.feed, dtype: float64"
      ]
     },
     "execution_count": 30,
     "metadata": {},
     "output_type": "execute_result"
    }
   ],
   "source": [
    "# создаём столбец для суммарной концентрации на входе\n",
    "test['sum_conc.rougher.input.feed'] = 0\n",
    "# прибавляем концентрации веществ\n",
    "for substance in substances:\n",
    "    test['sum_conc.rougher.input.feed'] += test['rougher.input.feed'+substance]\n",
    "    \n",
    "test['sum_conc.rougher.input.feed'].describe()"
   ]
  },
  {
   "cell_type": "markdown",
   "metadata": {},
   "source": [
    "Как видим, в тестовой выборке нулевых значений суммарных концентраций нет. Удаляем \"технический столбец\" и приступаем к проверке"
   ]
  },
  {
   "cell_type": "code",
   "execution_count": 31,
   "metadata": {},
   "outputs": [],
   "source": [
    "test = test.drop(['sum_conc.rougher.input.feed'], axis=1)"
   ]
  },
  {
   "cell_type": "code",
   "execution_count": 32,
   "metadata": {},
   "outputs": [
    {
     "name": "stdout",
     "output_type": "stream",
     "text": [
      "(5290, 52)\n",
      "(5290, 2)\n"
     ]
    }
   ],
   "source": [
    "# добавляем к тестовой выборке целевые признаки\n",
    "test = test.merge(full[['date', 'rougher.output.recovery', 'final.output.recovery']], on='date', how='left')\n",
    "# формируем датасеты со свойствами и целевыми признаками\n",
    "features_test = test.drop(['date', 'rougher.output.recovery', 'final.output.recovery'], axis=1)\n",
    "target_test = test[['rougher.output.recovery', 'final.output.recovery']]\n",
    "\n",
    "print(features_test.shape)\n",
    "print(target_test.shape)"
   ]
  },
  {
   "cell_type": "markdown",
   "metadata": {},
   "source": [
    "52 свойства, два целевых признака - всё как на тренировке. Меняем порядок столбцов, масштабируем свойства и находим средний final_smape кроссвалидацией."
   ]
  },
  {
   "cell_type": "code",
   "execution_count": 33,
   "metadata": {},
   "outputs": [
    {
     "name": "stdout",
     "output_type": "stream",
     "text": [
      "Средний показатель sMAPE лучшей модели случайного леса (тестовая выборка): -10.33 %\n"
     ]
    }
   ],
   "source": [
    "features_test = scaler.transform(features_test)\n",
    "\n",
    "test_smape = cross_val_score(best_rf_model, features_test, target_test, cv=5, scoring=smape_scorer)\n",
    "mean_test_smape = round(test_smape.mean(), 2)\n",
    "print(f'Средний показатель sMAPE лучшей модели случайного леса (тестовая выборка): {mean_test_smape} %')"
   ]
  },
  {
   "cell_type": "markdown",
   "metadata": {},
   "source": [
    "Точность хуже, чем на тренировке, но всё равно вроде бы неплохо. Сейчас проверим на адекватность и будем точно знать полезность нашей модели."
   ]
  },
  {
   "cell_type": "markdown",
   "metadata": {},
   "source": [
    "### Проверка на адекватность"
   ]
  },
  {
   "cell_type": "markdown",
   "metadata": {},
   "source": [
    "Проверим, какой средний final_smape будет, если модель всегда будет предсказывать среднее или медианное значение:"
   ]
  },
  {
   "cell_type": "code",
   "execution_count": 34,
   "metadata": {},
   "outputs": [
    {
     "name": "stdout",
     "output_type": "stream",
     "text": [
      "Средний показатель sMAPE по dummy-стратегии mean: -9.44 %\n",
      "Средний показатель sMAPE по dummy-стратегии median: -9.15 %\n"
     ]
    }
   ],
   "source": [
    "for strat in ['mean', 'median']:\n",
    "    dummy_model = DummyRegressor(strategy=strat)\n",
    "    dummy_smape = cross_val_score(dummy_model, features_test, target_test, cv=5, scoring=smape_scorer)\n",
    "    mean_dummy_smape = round(dummy_smape.mean(), 2)\n",
    "    print(f'Средний показатель sMAPE по dummy-стратегии {strat}: {mean_dummy_smape} %')"
   ]
  },
  {
   "cell_type": "markdown",
   "metadata": {},
   "source": [
    "Чтож, проверка на адекватность показывает, что наша модель оказалась хуже константной. Это говорит нам о том, что нужно пробовать ещё модели и подбирать их гиперпараметры, а также искать дополнительные признаки для использования в прогнозе."
   ]
  },
  {
   "cell_type": "markdown",
   "metadata": {},
   "source": [
    "## Итоговый вывод"
   ]
  },
  {
   "cell_type": "markdown",
   "metadata": {},
   "source": [
    "Загрузив и посмотрев общую информацию о трех датасетах увидели, что есть пропуски и необходимость сменить тип столбца с датой. Парой циклов заполнили пропуски средним значением по столбцу и сменили тип данных столбца с датой. Проверка показала, что статистической картины такой заменой значительно не исказили.\n",
    "\n",
    "Кроме того, обнаружили, что в тестовой выборке недостаёт столбцов (их выявили и сохранили в переменную). \n",
    "\n",
    "Далее проверили корректность предоставленных данных об эффективности обогащения ручным расчётом и проверили MAE:"
   ]
  },
  {
   "cell_type": "code",
   "execution_count": 35,
   "metadata": {},
   "outputs": [
    {
     "name": "stdout",
     "output_type": "stream",
     "text": [
      "Средняя абсолютная ошибка между ручным и предоставленным\n",
      "расчётом эффективности обогащения: 1.1131451184435918e-14\n"
     ]
    }
   ],
   "source": [
    "print(f'Средняя абсолютная ошибка между ручным и предоставленным')\n",
    "print(f'расчётом эффективности обогащения: {mae_rougher_recovery}')"
   ]
  },
  {
   "cell_type": "markdown",
   "metadata": {},
   "source": [
    "Что подтверждает корректность предоставленных данных.\n",
    "\n",
    "Вцелом можно сказать, что предоставленные данные высокого качества."
   ]
  },
  {
   "cell_type": "markdown",
   "metadata": {},
   "source": [
    "В ходе анализа данных получили следующую информацию:\n",
    "\n",
    "**По ходу технологического процесса обогащения:**\n",
    "\n",
    "- Концентрация золота растёт в два раза - **с 19 до 44**\n",
    "- Концентрация серебра падает в два раза - **с 12 до 5**\n",
    "- Концентрация свинца относительно слабо растёт - **с 8 до 10**\n",
    "\n",
    "**в отвальных хвостах:**\n",
    "\n",
    "- **Золото**: растёт от 1,8 до 4,2, а затем падает до 2,9\n",
    "- **Серебро**: растёт от 5,6 до 16,3, а затем падает до 9,6\n",
    "- **Свинец**: растёт от 0,7 до 5,8, а затем падает до 2,6\n",
    "\n",
    "**Суммарная концентрация всех веществ** в концентрате по ходу технологического процесса растёт **с 56 до 68**, с провалом на первом этапе очистки (до 60).\n",
    "\n",
    "**Стандартные отклонения** исследуемых параметров ведут себя похожим образом - **минимальны на входе и выходе**, что говорит нам о повышенной стабильности сырья и получаемого концентрата по сравнению с промежуточными этапами.\n",
    "\n",
    "Кроме того, проверили **распределения размеров гранул** в тестовой и тренировочной выборках. Визуально гистограммы распределений выглядят **очень похоже**. **Смещены** относительно друг друга по статистическим показателям **на 10%**. Думаю, что это допустимое отклонение для корректной оценки модели."
   ]
  },
  {
   "cell_type": "markdown",
   "metadata": {},
   "source": [
    "Для обучения было выбрано две модели - **линейная регрессия и случайный лес**. У второй модели подбирались параметры: количество деревьев и глубина.\n",
    "\n",
    "В результате обучения и проверки качества моделей с помощью кросс-валидации выяснилось, что **лучший показатель final_smape** (**8,59%**) имеет модель случайного леса.\n",
    "\n",
    "В результате проверки этой модели **на тестовой выборке получили final_smape 10,53%**, что оказалось хуже, чем ошибки **dummy-моделей в 9,44% и 9,15%**\n",
    "\n",
    "Таким образом можно сделать вывод, что мы подготовили модель, непригодную для оценки эффективности обогащения сырья. Нужно пробовать ещё модели и подбирать их гиперпараметры, а также искать дополнительные признаки для использования в прогнозе."
   ]
  }
 ],
 "metadata": {
  "ExecuteTimeLog": [
   {
    "duration": 1603,
    "start_time": "2022-08-19T08:11:03.860Z"
   },
   {
    "duration": 3,
    "start_time": "2022-08-19T08:11:05.465Z"
   },
   {
    "duration": 2855,
    "start_time": "2022-08-19T08:11:05.469Z"
   },
   {
    "duration": 38,
    "start_time": "2022-08-19T08:11:08.326Z"
   },
   {
    "duration": 20,
    "start_time": "2022-08-19T08:11:08.366Z"
   },
   {
    "duration": 4,
    "start_time": "2022-08-19T08:11:08.388Z"
   },
   {
    "duration": 18,
    "start_time": "2022-08-19T08:11:08.394Z"
   },
   {
    "duration": 9,
    "start_time": "2022-08-19T08:11:08.414Z"
   },
   {
    "duration": 19,
    "start_time": "2022-08-19T08:11:08.424Z"
   },
   {
    "duration": 97,
    "start_time": "2022-08-19T08:11:08.446Z"
   },
   {
    "duration": 12,
    "start_time": "2022-08-19T08:11:08.544Z"
   },
   {
    "duration": 5,
    "start_time": "2022-08-19T08:11:08.557Z"
   },
   {
    "duration": 8,
    "start_time": "2022-08-19T08:11:08.563Z"
   },
   {
    "duration": 19,
    "start_time": "2022-08-19T08:11:08.572Z"
   },
   {
    "duration": 4,
    "start_time": "2022-08-19T08:11:08.611Z"
   },
   {
    "duration": 888,
    "start_time": "2022-08-19T08:11:08.616Z"
   },
   {
    "duration": 941,
    "start_time": "2022-08-19T08:11:09.511Z"
   },
   {
    "duration": 254,
    "start_time": "2022-08-19T08:11:10.454Z"
   },
   {
    "duration": 7,
    "start_time": "2022-08-19T08:11:10.709Z"
   },
   {
    "duration": 21,
    "start_time": "2022-08-19T08:11:10.718Z"
   },
   {
    "duration": 12,
    "start_time": "2022-08-19T08:11:10.741Z"
   },
   {
    "duration": 317,
    "start_time": "2022-08-19T08:11:10.754Z"
   },
   {
    "duration": 201,
    "start_time": "2022-08-19T08:11:22.092Z"
   },
   {
    "duration": 30,
    "start_time": "2022-08-19T08:11:49.388Z"
   },
   {
    "duration": 32,
    "start_time": "2022-08-19T08:17:11.257Z"
   },
   {
    "duration": 5,
    "start_time": "2022-08-19T08:18:03.101Z"
   },
   {
    "duration": 3,
    "start_time": "2022-08-19T08:19:52.893Z"
   },
   {
    "duration": 5,
    "start_time": "2022-08-19T08:19:52.899Z"
   },
   {
    "duration": 662,
    "start_time": "2022-08-19T08:19:52.905Z"
   },
   {
    "duration": 47,
    "start_time": "2022-08-19T08:19:53.569Z"
   },
   {
    "duration": 17,
    "start_time": "2022-08-19T08:19:53.617Z"
   },
   {
    "duration": 5,
    "start_time": "2022-08-19T08:19:53.636Z"
   },
   {
    "duration": 27,
    "start_time": "2022-08-19T08:19:53.643Z"
   },
   {
    "duration": 9,
    "start_time": "2022-08-19T08:19:53.671Z"
   },
   {
    "duration": 25,
    "start_time": "2022-08-19T08:19:53.682Z"
   },
   {
    "duration": 97,
    "start_time": "2022-08-19T08:19:53.709Z"
   },
   {
    "duration": 12,
    "start_time": "2022-08-19T08:19:53.808Z"
   },
   {
    "duration": 5,
    "start_time": "2022-08-19T08:19:53.822Z"
   },
   {
    "duration": 25,
    "start_time": "2022-08-19T08:19:53.828Z"
   },
   {
    "duration": 15,
    "start_time": "2022-08-19T08:19:53.855Z"
   },
   {
    "duration": 6,
    "start_time": "2022-08-19T08:19:53.871Z"
   },
   {
    "duration": 761,
    "start_time": "2022-08-19T08:19:53.878Z"
   },
   {
    "duration": 997,
    "start_time": "2022-08-19T08:19:54.641Z"
   },
   {
    "duration": 237,
    "start_time": "2022-08-19T08:19:55.639Z"
   },
   {
    "duration": 3,
    "start_time": "2022-08-19T08:25:41.628Z"
   },
   {
    "duration": 5,
    "start_time": "2022-08-19T08:25:41.633Z"
   },
   {
    "duration": 622,
    "start_time": "2022-08-19T08:25:41.698Z"
   },
   {
    "duration": 39,
    "start_time": "2022-08-19T08:25:42.322Z"
   },
   {
    "duration": 17,
    "start_time": "2022-08-19T08:25:42.362Z"
   },
   {
    "duration": 4,
    "start_time": "2022-08-19T08:25:42.381Z"
   },
   {
    "duration": 28,
    "start_time": "2022-08-19T08:25:42.387Z"
   },
   {
    "duration": 7,
    "start_time": "2022-08-19T08:25:42.417Z"
   },
   {
    "duration": 19,
    "start_time": "2022-08-19T08:25:42.425Z"
   },
   {
    "duration": 128,
    "start_time": "2022-08-19T08:25:42.446Z"
   },
   {
    "duration": 15,
    "start_time": "2022-08-19T08:25:42.577Z"
   },
   {
    "duration": 19,
    "start_time": "2022-08-19T08:25:42.594Z"
   },
   {
    "duration": 9,
    "start_time": "2022-08-19T08:25:42.615Z"
   },
   {
    "duration": 25,
    "start_time": "2022-08-19T08:25:42.626Z"
   },
   {
    "duration": 4,
    "start_time": "2022-08-19T08:25:42.653Z"
   },
   {
    "duration": 818,
    "start_time": "2022-08-19T08:25:42.660Z"
   },
   {
    "duration": 1016,
    "start_time": "2022-08-19T08:25:43.480Z"
   },
   {
    "duration": 244,
    "start_time": "2022-08-19T08:25:44.498Z"
   },
   {
    "duration": 7,
    "start_time": "2022-08-19T08:25:44.743Z"
   },
   {
    "duration": 7,
    "start_time": "2022-08-19T08:25:44.752Z"
   },
   {
    "duration": 11,
    "start_time": "2022-08-19T08:25:44.761Z"
   },
   {
    "duration": 330,
    "start_time": "2022-08-19T08:25:44.774Z"
   },
   {
    "duration": 28,
    "start_time": "2022-08-19T08:25:45.110Z"
   },
   {
    "duration": 5,
    "start_time": "2022-08-19T08:25:45.139Z"
   },
   {
    "duration": 3,
    "start_time": "2022-08-19T08:29:27.508Z"
   },
   {
    "duration": 5,
    "start_time": "2022-08-19T08:29:27.515Z"
   },
   {
    "duration": 650,
    "start_time": "2022-08-19T08:29:27.523Z"
   },
   {
    "duration": 47,
    "start_time": "2022-08-19T08:29:28.174Z"
   },
   {
    "duration": 14,
    "start_time": "2022-08-19T08:29:28.222Z"
   },
   {
    "duration": 6,
    "start_time": "2022-08-19T08:29:28.237Z"
   },
   {
    "duration": 11,
    "start_time": "2022-08-19T08:29:28.245Z"
   },
   {
    "duration": 6,
    "start_time": "2022-08-19T08:29:28.257Z"
   },
   {
    "duration": 17,
    "start_time": "2022-08-19T08:29:28.264Z"
   },
   {
    "duration": 106,
    "start_time": "2022-08-19T08:29:28.312Z"
   },
   {
    "duration": 13,
    "start_time": "2022-08-19T08:29:28.420Z"
   },
   {
    "duration": 4,
    "start_time": "2022-08-19T08:29:28.435Z"
   },
   {
    "duration": 11,
    "start_time": "2022-08-19T08:29:28.441Z"
   },
   {
    "duration": 17,
    "start_time": "2022-08-19T08:29:28.454Z"
   },
   {
    "duration": 4,
    "start_time": "2022-08-19T08:29:28.472Z"
   },
   {
    "duration": 890,
    "start_time": "2022-08-19T08:29:28.510Z"
   },
   {
    "duration": 935,
    "start_time": "2022-08-19T08:29:29.402Z"
   },
   {
    "duration": 241,
    "start_time": "2022-08-19T08:29:30.339Z"
   },
   {
    "duration": 8,
    "start_time": "2022-08-19T08:29:30.582Z"
   },
   {
    "duration": 28,
    "start_time": "2022-08-19T08:29:30.591Z"
   },
   {
    "duration": 12,
    "start_time": "2022-08-19T08:29:30.621Z"
   },
   {
    "duration": 387,
    "start_time": "2022-08-19T08:29:30.635Z"
   },
   {
    "duration": 29,
    "start_time": "2022-08-19T08:29:31.024Z"
   },
   {
    "duration": 5,
    "start_time": "2022-08-19T08:29:31.055Z"
   },
   {
    "duration": 20,
    "start_time": "2022-08-19T08:29:31.062Z"
   },
   {
    "duration": 8,
    "start_time": "2022-08-19T08:30:14.068Z"
   },
   {
    "duration": 9,
    "start_time": "2022-08-19T08:32:52.929Z"
   },
   {
    "duration": 21,
    "start_time": "2022-08-19T08:34:12.777Z"
   },
   {
    "duration": 12,
    "start_time": "2022-08-19T08:34:29.958Z"
   },
   {
    "duration": 1452,
    "start_time": "2022-08-19T08:34:37.660Z"
   },
   {
    "duration": 207248,
    "start_time": "2022-08-19T08:35:46.877Z"
   },
   {
    "duration": 46,
    "start_time": "2022-08-19T08:45:33.371Z"
   },
   {
    "duration": 4,
    "start_time": "2022-08-19T08:45:58.378Z"
   },
   {
    "duration": 12,
    "start_time": "2022-08-19T08:57:25.310Z"
   },
   {
    "duration": 11,
    "start_time": "2022-08-19T08:57:32.751Z"
   },
   {
    "duration": 9,
    "start_time": "2022-08-19T08:59:26.649Z"
   },
   {
    "duration": 20286,
    "start_time": "2022-08-19T09:03:18.100Z"
   },
   {
    "duration": 6,
    "start_time": "2022-08-19T09:12:20.307Z"
   },
   {
    "duration": 21795,
    "start_time": "2022-08-19T09:12:29.111Z"
   },
   {
    "duration": 26707,
    "start_time": "2022-08-19T09:14:57.210Z"
   },
   {
    "duration": 24183,
    "start_time": "2022-08-19T09:15:31.250Z"
   },
   {
    "duration": 653,
    "start_time": "2022-08-19T09:21:14.303Z"
   },
   {
    "duration": 2172,
    "start_time": "2022-08-19T09:26:56.415Z"
   },
   {
    "duration": 1192,
    "start_time": "2022-08-19T09:27:53.912Z"
   },
   {
    "duration": 411700,
    "start_time": "2022-08-19T09:28:25.360Z"
   },
   {
    "duration": 10,
    "start_time": "2022-08-19T09:50:40.967Z"
   },
   {
    "duration": 4,
    "start_time": "2022-08-19T09:53:36.992Z"
   },
   {
    "duration": 13,
    "start_time": "2022-08-19T09:54:59.136Z"
   },
   {
    "duration": 10,
    "start_time": "2022-08-19T09:56:09.736Z"
   },
   {
    "duration": 11,
    "start_time": "2022-08-19T09:56:33.161Z"
   },
   {
    "duration": 2978,
    "start_time": "2022-08-19T09:56:48.477Z"
   },
   {
    "duration": 52,
    "start_time": "2022-08-19T09:57:55.423Z"
   },
   {
    "duration": 1304,
    "start_time": "2022-08-19T10:13:23.599Z"
   },
   {
    "duration": 6,
    "start_time": "2022-08-19T10:13:24.905Z"
   },
   {
    "duration": 624,
    "start_time": "2022-08-19T10:13:24.913Z"
   },
   {
    "duration": 41,
    "start_time": "2022-08-19T10:13:25.539Z"
   },
   {
    "duration": 34,
    "start_time": "2022-08-19T10:13:25.582Z"
   },
   {
    "duration": 5,
    "start_time": "2022-08-19T10:13:25.617Z"
   },
   {
    "duration": 10,
    "start_time": "2022-08-19T10:13:25.623Z"
   },
   {
    "duration": 5,
    "start_time": "2022-08-19T10:13:25.635Z"
   },
   {
    "duration": 14,
    "start_time": "2022-08-19T10:13:25.642Z"
   },
   {
    "duration": 98,
    "start_time": "2022-08-19T10:13:25.659Z"
   },
   {
    "duration": 11,
    "start_time": "2022-08-19T10:13:25.759Z"
   },
   {
    "duration": 4,
    "start_time": "2022-08-19T10:13:25.772Z"
   },
   {
    "duration": 7,
    "start_time": "2022-08-19T10:13:25.777Z"
   },
   {
    "duration": 27,
    "start_time": "2022-08-19T10:13:25.785Z"
   },
   {
    "duration": 2,
    "start_time": "2022-08-19T10:13:25.814Z"
   },
   {
    "duration": 853,
    "start_time": "2022-08-19T10:13:25.817Z"
   },
   {
    "duration": 912,
    "start_time": "2022-08-19T10:13:26.672Z"
   },
   {
    "duration": 240,
    "start_time": "2022-08-19T10:13:27.585Z"
   },
   {
    "duration": 7,
    "start_time": "2022-08-19T10:13:27.827Z"
   },
   {
    "duration": 7,
    "start_time": "2022-08-19T10:13:27.835Z"
   },
   {
    "duration": 11,
    "start_time": "2022-08-19T10:13:27.843Z"
   },
   {
    "duration": 416,
    "start_time": "2022-08-19T10:13:27.855Z"
   },
   {
    "duration": 41,
    "start_time": "2022-08-19T10:13:28.273Z"
   },
   {
    "duration": 5,
    "start_time": "2022-08-19T10:13:28.316Z"
   },
   {
    "duration": 10,
    "start_time": "2022-08-19T10:13:28.323Z"
   },
   {
    "duration": 15,
    "start_time": "2022-08-19T10:13:28.335Z"
   },
   {
    "duration": 17,
    "start_time": "2022-08-19T10:13:28.352Z"
   },
   {
    "duration": 1043,
    "start_time": "2022-08-19T10:13:28.373Z"
   },
   {
    "duration": 205681,
    "start_time": "2022-08-19T10:13:29.418Z"
   },
   {
    "duration": 15,
    "start_time": "2022-08-19T10:16:55.100Z"
   },
   {
    "duration": 29,
    "start_time": "2022-08-19T10:16:55.116Z"
   },
   {
    "duration": 30,
    "start_time": "2022-08-19T10:16:55.146Z"
   },
   {
    "duration": 11861,
    "start_time": "2022-08-19T10:16:55.178Z"
   },
   {
    "duration": 44,
    "start_time": "2022-08-19T10:17:07.040Z"
   },
   {
    "duration": 4,
    "start_time": "2022-08-19T10:17:07.085Z"
   }
  ],
  "kernelspec": {
   "display_name": "Python 3 (ipykernel)",
   "language": "python",
   "name": "python3"
  },
  "language_info": {
   "codemirror_mode": {
    "name": "ipython",
    "version": 3
   },
   "file_extension": ".py",
   "mimetype": "text/x-python",
   "name": "python",
   "nbconvert_exporter": "python",
   "pygments_lexer": "ipython3",
   "version": "3.9.13"
  },
  "toc": {
   "base_numbering": 1,
   "nav_menu": {},
   "number_sections": true,
   "sideBar": true,
   "skip_h1_title": true,
   "title_cell": "Содержание",
   "title_sidebar": "Contents",
   "toc_cell": true,
   "toc_position": {
    "height": "calc(100% - 180px)",
    "left": "10px",
    "top": "150px",
    "width": "384px"
   },
   "toc_section_display": true,
   "toc_window_display": true
  }
 },
 "nbformat": 4,
 "nbformat_minor": 2
}
