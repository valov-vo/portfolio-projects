{
 "cells": [
  {
   "cell_type": "markdown",
   "metadata": {},
   "source": [
    "# Определение стоимости автомобилей"
   ]
  },
  {
   "cell_type": "markdown",
   "metadata": {},
   "source": [
    "Сервис по продаже автомобилей с пробегом «Не бит, не крашен» разрабатывает приложение, чтобы привлечь новых клиентов. В нём можно будет узнать рыночную стоимость своего автомобиля.\n",
    "Построим модель, которая умеет её определять. В нашем распоряжении данные о технических характеристиках, комплектации и ценах других автомобилей.\n",
    "\n",
    "**Критерии, которые важны заказчику:**\n",
    "\n",
    "- метрика RMSE оценки качества предсказания менее 2500;\n",
    "- скорость предсказания;\n",
    "- время обучения.\n",
    "\n",
    "**Признаки**\n",
    "\n",
    "- `DateCrawled` — дата скачивания анкеты из базы\n",
    "- `VehicleType` — тип автомобильного кузова\n",
    "- `RegistrationYear` — год регистрации автомобиля\n",
    "- `Gearbox` — тип коробки передач\n",
    "- `Power` — мощность (л. с.)\n",
    "- `Model` — модель автомобиля\n",
    "- `Kilometer` — пробег (км)\n",
    "- `RegistrationMonth` — месяц регистрации автомобиля\n",
    "- `FuelType` — тип топлива\n",
    "- `Brand` — марка автомобиля\n",
    "- `NotRepaired` — была машина в ремонте или нет\n",
    "- `DateCreated` — дата создания анкеты\n",
    "- `NumberOfPictures` — количество фотографий автомобиля\n",
    "- `PostalCode` — почтовый индекс владельца анкеты (пользователя)\n",
    "- `LastSeen` — дата последней активности пользователя\n",
    "\n",
    "**Целевой признак**\n",
    "\n",
    "- `Price` — цена (евро)\n"
   ]
  },
  {
   "cell_type": "markdown",
   "metadata": {},
   "source": [
    "## Подготовка данных"
   ]
  },
  {
   "cell_type": "markdown",
   "metadata": {},
   "source": [
    "### Знакомство с данными"
   ]
  },
  {
   "cell_type": "markdown",
   "metadata": {},
   "source": [
    "Загружаем библиотеки для работы"
   ]
  },
  {
   "cell_type": "code",
   "execution_count": 1,
   "metadata": {},
   "outputs": [],
   "source": [
    "import matplotlib.pyplot as plt\n",
    "import time\n",
    "import numpy as np\n",
    "import pandas as pd\n",
    "from sklearn.model_selection import train_test_split\n",
    "from sklearn.preprocessing import StandardScaler\n",
    "from sklearn.metrics import mean_squared_error\n",
    "from sklearn.preprocessing import OneHotEncoder\n",
    "from sklearn.compose import make_column_transformer\n",
    "from sklearn.linear_model import LinearRegression\n",
    "from sklearn.tree import DecisionTreeRegressor\n",
    "from catboost import Pool, CatBoostRegressor, cv\n",
    "from lightgbm import LGBMRegressor\n",
    "from sklearn.model_selection import cross_val_score\n",
    "from sklearn.model_selection import GridSearchCV"
   ]
  },
  {
   "cell_type": "markdown",
   "metadata": {},
   "source": [
    "Создаём датафрейм из исходного файла"
   ]
  },
  {
   "cell_type": "code",
   "execution_count": 2,
   "metadata": {},
   "outputs": [],
   "source": [
    "try:\n",
    "    autos = pd.read_csv('autos.csv')\n",
    "except:\n",
    "    autos = pd.read_csv('/datasets/autos.csv')"
   ]
  },
  {
   "cell_type": "markdown",
   "metadata": {},
   "source": [
    "Ознакомимся с полученными данными"
   ]
  },
  {
   "cell_type": "code",
   "execution_count": 3,
   "metadata": {},
   "outputs": [
    {
     "name": "stdout",
     "output_type": "stream",
     "text": [
      "<class 'pandas.core.frame.DataFrame'>\n",
      "RangeIndex: 354369 entries, 0 to 354368\n",
      "Data columns (total 16 columns):\n",
      " #   Column             Non-Null Count   Dtype \n",
      "---  ------             --------------   ----- \n",
      " 0   DateCrawled        354369 non-null  object\n",
      " 1   Price              354369 non-null  int64 \n",
      " 2   VehicleType        316879 non-null  object\n",
      " 3   RegistrationYear   354369 non-null  int64 \n",
      " 4   Gearbox            334536 non-null  object\n",
      " 5   Power              354369 non-null  int64 \n",
      " 6   Model              334664 non-null  object\n",
      " 7   Kilometer          354369 non-null  int64 \n",
      " 8   RegistrationMonth  354369 non-null  int64 \n",
      " 9   FuelType           321474 non-null  object\n",
      " 10  Brand              354369 non-null  object\n",
      " 11  Repaired           283215 non-null  object\n",
      " 12  DateCreated        354369 non-null  object\n",
      " 13  NumberOfPictures   354369 non-null  int64 \n",
      " 14  PostalCode         354369 non-null  int64 \n",
      " 15  LastSeen           354369 non-null  object\n",
      "dtypes: int64(7), object(9)\n",
      "memory usage: 43.3+ MB\n"
     ]
    }
   ],
   "source": [
    "autos.info()"
   ]
  },
  {
   "cell_type": "markdown",
   "metadata": {},
   "source": [
    "Сразу же отсечем неважную для оценки стоимости автомобиля информацию: \n",
    "- дату скачивания анкеты\n",
    "- месяц регистрации автомобиля т.к. при определении цены используют год\n",
    "- дату создания анкеты\n",
    "- количество фотографий\n",
    "- индекс владельца анкеты\n",
    "- дату последней активности пользователя"
   ]
  },
  {
   "cell_type": "markdown",
   "metadata": {},
   "source": [
    "А также, взглянем на оставшиеся столбцы повнимательней"
   ]
  },
  {
   "cell_type": "code",
   "execution_count": 4,
   "metadata": {},
   "outputs": [
    {
     "name": "stdout",
     "output_type": "stream",
     "text": [
      "<class 'pandas.core.frame.DataFrame'>\n",
      "RangeIndex: 354369 entries, 0 to 354368\n",
      "Data columns (total 10 columns):\n",
      " #   Column            Non-Null Count   Dtype \n",
      "---  ------            --------------   ----- \n",
      " 0   Price             354369 non-null  int64 \n",
      " 1   VehicleType       316879 non-null  object\n",
      " 2   RegistrationYear  354369 non-null  int64 \n",
      " 3   Gearbox           334536 non-null  object\n",
      " 4   Power             354369 non-null  int64 \n",
      " 5   Model             334664 non-null  object\n",
      " 6   Kilometer         354369 non-null  int64 \n",
      " 7   FuelType          321474 non-null  object\n",
      " 8   Brand             354369 non-null  object\n",
      " 9   Repaired          283215 non-null  object\n",
      "dtypes: int64(4), object(6)\n",
      "memory usage: 27.0+ MB\n"
     ]
    }
   ],
   "source": [
    "autos = autos.drop(['DateCrawled', 'RegistrationMonth', 'DateCreated', 'NumberOfPictures', 'PostalCode', 'LastSeen'], axis=1)\n",
    "autos.info()"
   ]
  },
  {
   "cell_type": "markdown",
   "metadata": {},
   "source": [
    "Видно, что в столбцах `VehicleType`, `Gearbox`, `Model`, `FuelType`, `NotRepaired`, имеются пропуски. Оценим визуально 10 случайных строк датафрейма."
   ]
  },
  {
   "cell_type": "code",
   "execution_count": 5,
   "metadata": {},
   "outputs": [
    {
     "data": {
      "text/html": [
       "<div>\n",
       "<style scoped>\n",
       "    .dataframe tbody tr th:only-of-type {\n",
       "        vertical-align: middle;\n",
       "    }\n",
       "\n",
       "    .dataframe tbody tr th {\n",
       "        vertical-align: top;\n",
       "    }\n",
       "\n",
       "    .dataframe thead th {\n",
       "        text-align: right;\n",
       "    }\n",
       "</style>\n",
       "<table border=\"1\" class=\"dataframe\">\n",
       "  <thead>\n",
       "    <tr style=\"text-align: right;\">\n",
       "      <th></th>\n",
       "      <th>Price</th>\n",
       "      <th>VehicleType</th>\n",
       "      <th>RegistrationYear</th>\n",
       "      <th>Gearbox</th>\n",
       "      <th>Power</th>\n",
       "      <th>Model</th>\n",
       "      <th>Kilometer</th>\n",
       "      <th>FuelType</th>\n",
       "      <th>Brand</th>\n",
       "      <th>Repaired</th>\n",
       "    </tr>\n",
       "  </thead>\n",
       "  <tbody>\n",
       "    <tr>\n",
       "      <th>34131</th>\n",
       "      <td>8850</td>\n",
       "      <td>wagon</td>\n",
       "      <td>2005</td>\n",
       "      <td>auto</td>\n",
       "      <td>140</td>\n",
       "      <td>passat</td>\n",
       "      <td>150000</td>\n",
       "      <td>gasoline</td>\n",
       "      <td>volkswagen</td>\n",
       "      <td>no</td>\n",
       "    </tr>\n",
       "    <tr>\n",
       "      <th>121092</th>\n",
       "      <td>2450</td>\n",
       "      <td>small</td>\n",
       "      <td>2007</td>\n",
       "      <td>manual</td>\n",
       "      <td>58</td>\n",
       "      <td>clio</td>\n",
       "      <td>150000</td>\n",
       "      <td>petrol</td>\n",
       "      <td>renault</td>\n",
       "      <td>yes</td>\n",
       "    </tr>\n",
       "    <tr>\n",
       "      <th>133183</th>\n",
       "      <td>7250</td>\n",
       "      <td>sedan</td>\n",
       "      <td>2010</td>\n",
       "      <td>manual</td>\n",
       "      <td>125</td>\n",
       "      <td>leon</td>\n",
       "      <td>90000</td>\n",
       "      <td>petrol</td>\n",
       "      <td>seat</td>\n",
       "      <td>yes</td>\n",
       "    </tr>\n",
       "    <tr>\n",
       "      <th>205983</th>\n",
       "      <td>14950</td>\n",
       "      <td>suv</td>\n",
       "      <td>2009</td>\n",
       "      <td>auto</td>\n",
       "      <td>140</td>\n",
       "      <td>tiguan</td>\n",
       "      <td>150000</td>\n",
       "      <td>gasoline</td>\n",
       "      <td>volkswagen</td>\n",
       "      <td>no</td>\n",
       "    </tr>\n",
       "    <tr>\n",
       "      <th>162619</th>\n",
       "      <td>250</td>\n",
       "      <td>small</td>\n",
       "      <td>1996</td>\n",
       "      <td>manual</td>\n",
       "      <td>0</td>\n",
       "      <td>megane</td>\n",
       "      <td>150000</td>\n",
       "      <td>lpg</td>\n",
       "      <td>renault</td>\n",
       "      <td>NaN</td>\n",
       "    </tr>\n",
       "    <tr>\n",
       "      <th>135943</th>\n",
       "      <td>3500</td>\n",
       "      <td>bus</td>\n",
       "      <td>2006</td>\n",
       "      <td>manual</td>\n",
       "      <td>140</td>\n",
       "      <td>touran</td>\n",
       "      <td>150000</td>\n",
       "      <td>gasoline</td>\n",
       "      <td>volkswagen</td>\n",
       "      <td>yes</td>\n",
       "    </tr>\n",
       "    <tr>\n",
       "      <th>47049</th>\n",
       "      <td>5500</td>\n",
       "      <td>NaN</td>\n",
       "      <td>2017</td>\n",
       "      <td>auto</td>\n",
       "      <td>150</td>\n",
       "      <td>vectra</td>\n",
       "      <td>150000</td>\n",
       "      <td>NaN</td>\n",
       "      <td>opel</td>\n",
       "      <td>no</td>\n",
       "    </tr>\n",
       "    <tr>\n",
       "      <th>159644</th>\n",
       "      <td>4990</td>\n",
       "      <td>small</td>\n",
       "      <td>1975</td>\n",
       "      <td>manual</td>\n",
       "      <td>75</td>\n",
       "      <td>golf</td>\n",
       "      <td>150000</td>\n",
       "      <td>petrol</td>\n",
       "      <td>volkswagen</td>\n",
       "      <td>no</td>\n",
       "    </tr>\n",
       "    <tr>\n",
       "      <th>94018</th>\n",
       "      <td>4490</td>\n",
       "      <td>bus</td>\n",
       "      <td>2006</td>\n",
       "      <td>manual</td>\n",
       "      <td>140</td>\n",
       "      <td>touran</td>\n",
       "      <td>150000</td>\n",
       "      <td>gasoline</td>\n",
       "      <td>volkswagen</td>\n",
       "      <td>no</td>\n",
       "    </tr>\n",
       "    <tr>\n",
       "      <th>118525</th>\n",
       "      <td>19500</td>\n",
       "      <td>sedan</td>\n",
       "      <td>2012</td>\n",
       "      <td>manual</td>\n",
       "      <td>184</td>\n",
       "      <td>1er</td>\n",
       "      <td>80000</td>\n",
       "      <td>gasoline</td>\n",
       "      <td>bmw</td>\n",
       "      <td>no</td>\n",
       "    </tr>\n",
       "  </tbody>\n",
       "</table>\n",
       "</div>"
      ],
      "text/plain": [
       "        Price VehicleType  RegistrationYear Gearbox  Power   Model  Kilometer  \\\n",
       "34131    8850       wagon              2005    auto    140  passat     150000   \n",
       "121092   2450       small              2007  manual     58    clio     150000   \n",
       "133183   7250       sedan              2010  manual    125    leon      90000   \n",
       "205983  14950         suv              2009    auto    140  tiguan     150000   \n",
       "162619    250       small              1996  manual      0  megane     150000   \n",
       "135943   3500         bus              2006  manual    140  touran     150000   \n",
       "47049    5500         NaN              2017    auto    150  vectra     150000   \n",
       "159644   4990       small              1975  manual     75    golf     150000   \n",
       "94018    4490         bus              2006  manual    140  touran     150000   \n",
       "118525  19500       sedan              2012  manual    184     1er      80000   \n",
       "\n",
       "        FuelType       Brand Repaired  \n",
       "34131   gasoline  volkswagen       no  \n",
       "121092    petrol     renault      yes  \n",
       "133183    petrol        seat      yes  \n",
       "205983  gasoline  volkswagen       no  \n",
       "162619       lpg     renault      NaN  \n",
       "135943  gasoline  volkswagen      yes  \n",
       "47049        NaN        opel       no  \n",
       "159644    petrol  volkswagen       no  \n",
       "94018   gasoline  volkswagen       no  \n",
       "118525  gasoline         bmw       no  "
      ]
     },
     "execution_count": 5,
     "metadata": {},
     "output_type": "execute_result"
    }
   ],
   "source": [
    "autos.sample(10)"
   ]
  },
  {
   "cell_type": "markdown",
   "metadata": {},
   "source": [
    "Бросается в глаза только нули в столбце с мощностью двигателя. Может быть статистические параметры дадут нам больше информации"
   ]
  },
  {
   "cell_type": "code",
   "execution_count": 6,
   "metadata": {
    "scrolled": true
   },
   "outputs": [
    {
     "data": {
      "text/html": [
       "<div>\n",
       "<style scoped>\n",
       "    .dataframe tbody tr th:only-of-type {\n",
       "        vertical-align: middle;\n",
       "    }\n",
       "\n",
       "    .dataframe tbody tr th {\n",
       "        vertical-align: top;\n",
       "    }\n",
       "\n",
       "    .dataframe thead th {\n",
       "        text-align: right;\n",
       "    }\n",
       "</style>\n",
       "<table border=\"1\" class=\"dataframe\">\n",
       "  <thead>\n",
       "    <tr style=\"text-align: right;\">\n",
       "      <th></th>\n",
       "      <th>Price</th>\n",
       "      <th>RegistrationYear</th>\n",
       "      <th>Power</th>\n",
       "      <th>Kilometer</th>\n",
       "    </tr>\n",
       "  </thead>\n",
       "  <tbody>\n",
       "    <tr>\n",
       "      <th>count</th>\n",
       "      <td>354369.000000</td>\n",
       "      <td>354369.000000</td>\n",
       "      <td>354369.000000</td>\n",
       "      <td>354369.000000</td>\n",
       "    </tr>\n",
       "    <tr>\n",
       "      <th>mean</th>\n",
       "      <td>4416.656776</td>\n",
       "      <td>2004.234448</td>\n",
       "      <td>110.094337</td>\n",
       "      <td>128211.172535</td>\n",
       "    </tr>\n",
       "    <tr>\n",
       "      <th>std</th>\n",
       "      <td>4514.158514</td>\n",
       "      <td>90.227958</td>\n",
       "      <td>189.850405</td>\n",
       "      <td>37905.341530</td>\n",
       "    </tr>\n",
       "    <tr>\n",
       "      <th>min</th>\n",
       "      <td>0.000000</td>\n",
       "      <td>1000.000000</td>\n",
       "      <td>0.000000</td>\n",
       "      <td>5000.000000</td>\n",
       "    </tr>\n",
       "    <tr>\n",
       "      <th>25%</th>\n",
       "      <td>1050.000000</td>\n",
       "      <td>1999.000000</td>\n",
       "      <td>69.000000</td>\n",
       "      <td>125000.000000</td>\n",
       "    </tr>\n",
       "    <tr>\n",
       "      <th>50%</th>\n",
       "      <td>2700.000000</td>\n",
       "      <td>2003.000000</td>\n",
       "      <td>105.000000</td>\n",
       "      <td>150000.000000</td>\n",
       "    </tr>\n",
       "    <tr>\n",
       "      <th>75%</th>\n",
       "      <td>6400.000000</td>\n",
       "      <td>2008.000000</td>\n",
       "      <td>143.000000</td>\n",
       "      <td>150000.000000</td>\n",
       "    </tr>\n",
       "    <tr>\n",
       "      <th>max</th>\n",
       "      <td>20000.000000</td>\n",
       "      <td>9999.000000</td>\n",
       "      <td>20000.000000</td>\n",
       "      <td>150000.000000</td>\n",
       "    </tr>\n",
       "  </tbody>\n",
       "</table>\n",
       "</div>"
      ],
      "text/plain": [
       "               Price  RegistrationYear          Power      Kilometer\n",
       "count  354369.000000     354369.000000  354369.000000  354369.000000\n",
       "mean     4416.656776       2004.234448     110.094337  128211.172535\n",
       "std      4514.158514         90.227958     189.850405   37905.341530\n",
       "min         0.000000       1000.000000       0.000000    5000.000000\n",
       "25%      1050.000000       1999.000000      69.000000  125000.000000\n",
       "50%      2700.000000       2003.000000     105.000000  150000.000000\n",
       "75%      6400.000000       2008.000000     143.000000  150000.000000\n",
       "max     20000.000000       9999.000000   20000.000000  150000.000000"
      ]
     },
     "execution_count": 6,
     "metadata": {},
     "output_type": "execute_result"
    }
   ],
   "source": [
    "autos.describe()"
   ]
  },
  {
   "cell_type": "markdown",
   "metadata": {},
   "source": [
    "В столбцах с ценой, годом регистрации и уже упомянутой мощностью явно есть аномальные данные. Бесплатные автомобили возрастом более 1000 лет и нулевой мощностью вряд ли существуют. Значит понадобится работа с выбросами."
   ]
  },
  {
   "cell_type": "markdown",
   "metadata": {},
   "source": [
    "### Итоги знакомства с данными"
   ]
  },
  {
   "cell_type": "markdown",
   "metadata": {},
   "source": [
    "Удалены неважные для оценки стоимости автомобиля столбцы: `DateCrawled`, `RegistrationMonth`, `DateCreated`, `NumberOfPictures`, `PostalCode`, `LastSeen`\n",
    "\n",
    "Обнаружены пропуски в столбцах в пяти столбцах.\n",
    "\n",
    "Обнаружены аномальные значения в столбцах `Price`, `RegistrationYear`, `Power`\n",
    "\n",
    "Итоговый план предобработки таков:\n",
    "1. Заполняем пропуски в столбцах `VehicleType`, `Gearbox`, `Model`, `FuelType`, `Repaired`\n",
    "2. Удаляем аномальные данные, судя по квантилям их не так много. При удалении обратимся к здравому смыслу, чтобы избавиться лишь от явной белиберды."
   ]
  },
  {
   "cell_type": "markdown",
   "metadata": {},
   "source": [
    "### Работа с пропусками"
   ]
  },
  {
   "cell_type": "markdown",
   "metadata": {},
   "source": [
    "Думаю, что оптимальной тактикой для нашего датасета станет заполнение пропусков наиболее частовстречающимся значением. С типом кузова и типом топлива будем ориентироваться на бренд - для разных брендов возможны разные популярные значения."
   ]
  },
  {
   "cell_type": "markdown",
   "metadata": {},
   "source": [
    "#### Работа со столбцом `VehicleType`"
   ]
  },
  {
   "cell_type": "markdown",
   "metadata": {},
   "source": [
    "Посмотрим сколько пропусков и разных значений в столбце."
   ]
  },
  {
   "cell_type": "code",
   "execution_count": 7,
   "metadata": {},
   "outputs": [
    {
     "data": {
      "text/plain": [
       "sedan          91457\n",
       "small          79831\n",
       "wagon          65166\n",
       "NaN            37490\n",
       "bus            28775\n",
       "convertible    20203\n",
       "coupe          16163\n",
       "suv            11996\n",
       "other           3288\n",
       "Name: VehicleType, dtype: int64"
      ]
     },
     "execution_count": 7,
     "metadata": {},
     "output_type": "execute_result"
    }
   ],
   "source": [
    "autos['VehicleType'].value_counts(dropna=False)"
   ]
  },
  {
   "cell_type": "markdown",
   "metadata": {},
   "source": [
    "Пропусков более 10% удалять нельзя. При этом уникальных значений не так уж и много. Создадим сводную таблицу с количеством каждого типа кузова для каждого бренда"
   ]
  },
  {
   "cell_type": "code",
   "execution_count": 8,
   "metadata": {},
   "outputs": [
    {
     "data": {
      "text/html": [
       "<div>\n",
       "<style scoped>\n",
       "    .dataframe tbody tr th:only-of-type {\n",
       "        vertical-align: middle;\n",
       "    }\n",
       "\n",
       "    .dataframe tbody tr th {\n",
       "        vertical-align: top;\n",
       "    }\n",
       "\n",
       "    .dataframe thead tr th {\n",
       "        text-align: left;\n",
       "    }\n",
       "\n",
       "    .dataframe thead tr:last-of-type th {\n",
       "        text-align: right;\n",
       "    }\n",
       "</style>\n",
       "<table border=\"1\" class=\"dataframe\">\n",
       "  <thead>\n",
       "    <tr>\n",
       "      <th></th>\n",
       "      <th colspan=\"21\" halign=\"left\">count</th>\n",
       "    </tr>\n",
       "    <tr>\n",
       "      <th></th>\n",
       "      <th colspan=\"21\" halign=\"left\">Price</th>\n",
       "    </tr>\n",
       "    <tr>\n",
       "      <th>Brand</th>\n",
       "      <th>alfa_romeo</th>\n",
       "      <th>audi</th>\n",
       "      <th>bmw</th>\n",
       "      <th>chevrolet</th>\n",
       "      <th>chrysler</th>\n",
       "      <th>citroen</th>\n",
       "      <th>dacia</th>\n",
       "      <th>daewoo</th>\n",
       "      <th>daihatsu</th>\n",
       "      <th>fiat</th>\n",
       "      <th>...</th>\n",
       "      <th>seat</th>\n",
       "      <th>skoda</th>\n",
       "      <th>smart</th>\n",
       "      <th>sonstige_autos</th>\n",
       "      <th>subaru</th>\n",
       "      <th>suzuki</th>\n",
       "      <th>toyota</th>\n",
       "      <th>trabant</th>\n",
       "      <th>volkswagen</th>\n",
       "      <th>volvo</th>\n",
       "    </tr>\n",
       "    <tr>\n",
       "      <th>VehicleType</th>\n",
       "      <th></th>\n",
       "      <th></th>\n",
       "      <th></th>\n",
       "      <th></th>\n",
       "      <th></th>\n",
       "      <th></th>\n",
       "      <th></th>\n",
       "      <th></th>\n",
       "      <th></th>\n",
       "      <th></th>\n",
       "      <th></th>\n",
       "      <th></th>\n",
       "      <th></th>\n",
       "      <th></th>\n",
       "      <th></th>\n",
       "      <th></th>\n",
       "      <th></th>\n",
       "      <th></th>\n",
       "      <th></th>\n",
       "      <th></th>\n",
       "      <th></th>\n",
       "    </tr>\n",
       "  </thead>\n",
       "  <tbody>\n",
       "    <tr>\n",
       "      <th>bus</th>\n",
       "      <td>NaN</td>\n",
       "      <td>10.0</td>\n",
       "      <td>7.0</td>\n",
       "      <td>159.0</td>\n",
       "      <td>436.0</td>\n",
       "      <td>1262.0</td>\n",
       "      <td>50.0</td>\n",
       "      <td>27.0</td>\n",
       "      <td>36.0</td>\n",
       "      <td>833.0</td>\n",
       "      <td>...</td>\n",
       "      <td>614.0</td>\n",
       "      <td>231.0</td>\n",
       "      <td>1.0</td>\n",
       "      <td>202.0</td>\n",
       "      <td>17.0</td>\n",
       "      <td>28.0</td>\n",
       "      <td>447.0</td>\n",
       "      <td>NaN</td>\n",
       "      <td>9536.0</td>\n",
       "      <td>NaN</td>\n",
       "    </tr>\n",
       "    <tr>\n",
       "      <th>convertible</th>\n",
       "      <td>180.0</td>\n",
       "      <td>1627.0</td>\n",
       "      <td>3266.0</td>\n",
       "      <td>17.0</td>\n",
       "      <td>238.0</td>\n",
       "      <td>114.0</td>\n",
       "      <td>NaN</td>\n",
       "      <td>1.0</td>\n",
       "      <td>17.0</td>\n",
       "      <td>520.0</td>\n",
       "      <td>...</td>\n",
       "      <td>NaN</td>\n",
       "      <td>4.0</td>\n",
       "      <td>1132.0</td>\n",
       "      <td>330.0</td>\n",
       "      <td>1.0</td>\n",
       "      <td>36.0</td>\n",
       "      <td>65.0</td>\n",
       "      <td>37.0</td>\n",
       "      <td>2963.0</td>\n",
       "      <td>75.0</td>\n",
       "    </tr>\n",
       "    <tr>\n",
       "      <th>coupe</th>\n",
       "      <td>229.0</td>\n",
       "      <td>1499.0</td>\n",
       "      <td>3809.0</td>\n",
       "      <td>90.0</td>\n",
       "      <td>48.0</td>\n",
       "      <td>152.0</td>\n",
       "      <td>NaN</td>\n",
       "      <td>8.0</td>\n",
       "      <td>NaN</td>\n",
       "      <td>177.0</td>\n",
       "      <td>...</td>\n",
       "      <td>87.0</td>\n",
       "      <td>10.0</td>\n",
       "      <td>341.0</td>\n",
       "      <td>230.0</td>\n",
       "      <td>8.0</td>\n",
       "      <td>8.0</td>\n",
       "      <td>232.0</td>\n",
       "      <td>4.0</td>\n",
       "      <td>1784.0</td>\n",
       "      <td>69.0</td>\n",
       "    </tr>\n",
       "    <tr>\n",
       "      <th>other</th>\n",
       "      <td>15.0</td>\n",
       "      <td>110.0</td>\n",
       "      <td>242.0</td>\n",
       "      <td>46.0</td>\n",
       "      <td>10.0</td>\n",
       "      <td>121.0</td>\n",
       "      <td>6.0</td>\n",
       "      <td>5.0</td>\n",
       "      <td>12.0</td>\n",
       "      <td>184.0</td>\n",
       "      <td>...</td>\n",
       "      <td>74.0</td>\n",
       "      <td>26.0</td>\n",
       "      <td>9.0</td>\n",
       "      <td>256.0</td>\n",
       "      <td>6.0</td>\n",
       "      <td>14.0</td>\n",
       "      <td>21.0</td>\n",
       "      <td>7.0</td>\n",
       "      <td>760.0</td>\n",
       "      <td>5.0</td>\n",
       "    </tr>\n",
       "    <tr>\n",
       "      <th>sedan</th>\n",
       "      <td>945.0</td>\n",
       "      <td>10965.0</td>\n",
       "      <td>17585.0</td>\n",
       "      <td>231.0</td>\n",
       "      <td>295.0</td>\n",
       "      <td>714.0</td>\n",
       "      <td>103.0</td>\n",
       "      <td>107.0</td>\n",
       "      <td>47.0</td>\n",
       "      <td>904.0</td>\n",
       "      <td>...</td>\n",
       "      <td>1781.0</td>\n",
       "      <td>911.0</td>\n",
       "      <td>29.0</td>\n",
       "      <td>486.0</td>\n",
       "      <td>168.0</td>\n",
       "      <td>183.0</td>\n",
       "      <td>895.0</td>\n",
       "      <td>230.0</td>\n",
       "      <td>19738.0</td>\n",
       "      <td>643.0</td>\n",
       "    </tr>\n",
       "    <tr>\n",
       "      <th>small</th>\n",
       "      <td>239.0</td>\n",
       "      <td>1571.0</td>\n",
       "      <td>448.0</td>\n",
       "      <td>582.0</td>\n",
       "      <td>12.0</td>\n",
       "      <td>1590.0</td>\n",
       "      <td>223.0</td>\n",
       "      <td>268.0</td>\n",
       "      <td>527.0</td>\n",
       "      <td>5308.0</td>\n",
       "      <td>...</td>\n",
       "      <td>3119.0</td>\n",
       "      <td>1124.0</td>\n",
       "      <td>3267.0</td>\n",
       "      <td>261.0</td>\n",
       "      <td>119.0</td>\n",
       "      <td>985.0</td>\n",
       "      <td>1588.0</td>\n",
       "      <td>58.0</td>\n",
       "      <td>18531.0</td>\n",
       "      <td>7.0</td>\n",
       "    </tr>\n",
       "    <tr>\n",
       "      <th>suv</th>\n",
       "      <td>1.0</td>\n",
       "      <td>180.0</td>\n",
       "      <td>818.0</td>\n",
       "      <td>384.0</td>\n",
       "      <td>23.0</td>\n",
       "      <td>36.0</td>\n",
       "      <td>215.0</td>\n",
       "      <td>1.0</td>\n",
       "      <td>49.0</td>\n",
       "      <td>24.0</td>\n",
       "      <td>...</td>\n",
       "      <td>4.0</td>\n",
       "      <td>173.0</td>\n",
       "      <td>NaN</td>\n",
       "      <td>429.0</td>\n",
       "      <td>62.0</td>\n",
       "      <td>749.0</td>\n",
       "      <td>445.0</td>\n",
       "      <td>1.0</td>\n",
       "      <td>1331.0</td>\n",
       "      <td>221.0</td>\n",
       "    </tr>\n",
       "    <tr>\n",
       "      <th>wagon</th>\n",
       "      <td>457.0</td>\n",
       "      <td>11081.0</td>\n",
       "      <td>7929.0</td>\n",
       "      <td>110.0</td>\n",
       "      <td>244.0</td>\n",
       "      <td>629.0</td>\n",
       "      <td>252.0</td>\n",
       "      <td>47.0</td>\n",
       "      <td>17.0</td>\n",
       "      <td>455.0</td>\n",
       "      <td>...</td>\n",
       "      <td>399.0</td>\n",
       "      <td>2709.0</td>\n",
       "      <td>9.0</td>\n",
       "      <td>139.0</td>\n",
       "      <td>300.0</td>\n",
       "      <td>89.0</td>\n",
       "      <td>572.0</td>\n",
       "      <td>79.0</td>\n",
       "      <td>12660.0</td>\n",
       "      <td>1989.0</td>\n",
       "    </tr>\n",
       "  </tbody>\n",
       "</table>\n",
       "<p>8 rows × 40 columns</p>\n",
       "</div>"
      ],
      "text/plain": [
       "                 count                                                      \\\n",
       "                 Price                                                       \n",
       "Brand       alfa_romeo     audi      bmw chevrolet chrysler citroen  dacia   \n",
       "VehicleType                                                                  \n",
       "bus                NaN     10.0      7.0     159.0    436.0  1262.0   50.0   \n",
       "convertible      180.0   1627.0   3266.0      17.0    238.0   114.0    NaN   \n",
       "coupe            229.0   1499.0   3809.0      90.0     48.0   152.0    NaN   \n",
       "other             15.0    110.0    242.0      46.0     10.0   121.0    6.0   \n",
       "sedan            945.0  10965.0  17585.0     231.0    295.0   714.0  103.0   \n",
       "small            239.0   1571.0    448.0     582.0     12.0  1590.0  223.0   \n",
       "suv                1.0    180.0    818.0     384.0     23.0    36.0  215.0   \n",
       "wagon            457.0  11081.0   7929.0     110.0    244.0   629.0  252.0   \n",
       "\n",
       "                                     ...                          \\\n",
       "                                     ...                           \n",
       "Brand       daewoo daihatsu    fiat  ...    seat   skoda   smart   \n",
       "VehicleType                          ...                           \n",
       "bus           27.0     36.0   833.0  ...   614.0   231.0     1.0   \n",
       "convertible    1.0     17.0   520.0  ...     NaN     4.0  1132.0   \n",
       "coupe          8.0      NaN   177.0  ...    87.0    10.0   341.0   \n",
       "other          5.0     12.0   184.0  ...    74.0    26.0     9.0   \n",
       "sedan        107.0     47.0   904.0  ...  1781.0   911.0    29.0   \n",
       "small        268.0    527.0  5308.0  ...  3119.0  1124.0  3267.0   \n",
       "suv            1.0     49.0    24.0  ...     4.0   173.0     NaN   \n",
       "wagon         47.0     17.0   455.0  ...   399.0  2709.0     9.0   \n",
       "\n",
       "                                                                             \n",
       "                                                                             \n",
       "Brand       sonstige_autos subaru suzuki  toyota trabant volkswagen   volvo  \n",
       "VehicleType                                                                  \n",
       "bus                  202.0   17.0   28.0   447.0     NaN     9536.0     NaN  \n",
       "convertible          330.0    1.0   36.0    65.0    37.0     2963.0    75.0  \n",
       "coupe                230.0    8.0    8.0   232.0     4.0     1784.0    69.0  \n",
       "other                256.0    6.0   14.0    21.0     7.0      760.0     5.0  \n",
       "sedan                486.0  168.0  183.0   895.0   230.0    19738.0   643.0  \n",
       "small                261.0  119.0  985.0  1588.0    58.0    18531.0     7.0  \n",
       "suv                  429.0   62.0  749.0   445.0     1.0     1331.0   221.0  \n",
       "wagon                139.0  300.0   89.0   572.0    79.0    12660.0  1989.0  \n",
       "\n",
       "[8 rows x 40 columns]"
      ]
     },
     "metadata": {},
     "output_type": "display_data"
    }
   ],
   "source": [
    "vehicle_type_table = autos.pivot_table(index=['VehicleType'], \n",
    "                                       columns=['Brand'],\n",
    "                                       values=['Price'],\n",
    "                                       aggfunc=['count'])\n",
    "\n",
    "display(vehicle_type_table)"
   ]
  },
  {
   "cell_type": "markdown",
   "metadata": {},
   "source": [
    "В результате получили мультииндекс. Избавимся от него и проконтролируем результат"
   ]
  },
  {
   "cell_type": "code",
   "execution_count": 9,
   "metadata": {},
   "outputs": [
    {
     "data": {
      "text/plain": [
       "Index(['alfa_romeo', 'audi', 'bmw', 'chevrolet', 'chrysler', 'citroen',\n",
       "       'dacia', 'daewoo', 'daihatsu', 'fiat', 'ford', 'honda', 'hyundai',\n",
       "       'jaguar', 'jeep', 'kia', 'lada', 'lancia', 'land_rover', 'mazda',\n",
       "       'mercedes_benz', 'mini', 'mitsubishi', 'nissan', 'opel', 'peugeot',\n",
       "       'porsche', 'renault', 'rover', 'saab', 'seat', 'skoda', 'smart',\n",
       "       'sonstige_autos', 'subaru', 'suzuki', 'toyota', 'trabant', 'volkswagen',\n",
       "       'volvo'],\n",
       "      dtype='object', name='Brand')"
      ]
     },
     "metadata": {},
     "output_type": "display_data"
    }
   ],
   "source": [
    "vehicle_type_table.columns = vehicle_type_table.columns.droplevel([0,1])\n",
    "display(vehicle_type_table.columns)"
   ]
  },
  {
   "cell_type": "markdown",
   "metadata": {},
   "source": [
    "От мультииндекса избавились. Напишем функцию для заполнения пропусков: на вход она принимает строку датафрейма, индекс столбца с типом кузова и таблицу с популярными типами кузова для каждого бренда"
   ]
  },
  {
   "cell_type": "code",
   "execution_count": 10,
   "metadata": {},
   "outputs": [],
   "source": [
    "autos.fillna({'VehicleType':0},inplace=True)\n",
    "\n",
    "def fillna_by_brand(row, row_number, vehicle_type_table):\n",
    "    # запишем в переменную бренд из обрабатываемой строки\n",
    "    # 8 - индекс столбца датафрейма autos\n",
    "    brand = row[8] \n",
    "    # запишем в переменную тип кузова из обраб. строки\n",
    "    fill_value = row[row_number]\n",
    "    # если тип кузова 0, то присваеваем ему значение найденное в таблице\n",
    "    # с популярными типами кузова по брендам\n",
    "    if row[row_number] == 0:\n",
    "        fill_value = vehicle_type_table[brand].idxmax()\n",
    "    return fill_value"
   ]
  },
  {
   "cell_type": "markdown",
   "metadata": {},
   "source": [
    "Произведем замену и оценим результат"
   ]
  },
  {
   "cell_type": "code",
   "execution_count": 11,
   "metadata": {},
   "outputs": [
    {
     "data": {
      "text/plain": [
       "sedan          109309\n",
       "small           95881\n",
       "wagon           68224\n",
       "bus             28908\n",
       "convertible     20283\n",
       "coupe           16163\n",
       "suv             12313\n",
       "other            3288\n",
       "Name: VehicleType, dtype: int64"
      ]
     },
     "execution_count": 11,
     "metadata": {},
     "output_type": "execute_result"
    }
   ],
   "source": [
    "autos['VehicleType'] = autos.apply(fillna_by_brand, \n",
    "                                   args=[1, vehicle_type_table], # 1 - индекс столбца с типом кузова\n",
    "                                   axis=1)\n",
    "\n",
    "autos['VehicleType'].value_counts(dropna=False)"
   ]
  },
  {
   "cell_type": "markdown",
   "metadata": {},
   "source": [
    "Добавилось порядка 18 тыс. седанов и 16 тыс. малолитражек, а также по мелочам в остальные группы."
   ]
  },
  {
   "cell_type": "markdown",
   "metadata": {},
   "source": [
    "#### Работа со столбцом `Gearbox`"
   ]
  },
  {
   "cell_type": "markdown",
   "metadata": {},
   "source": [
    "Посмотрим на значения столбца с типом коробки передач"
   ]
  },
  {
   "cell_type": "code",
   "execution_count": 12,
   "metadata": {},
   "outputs": [
    {
     "data": {
      "text/plain": [
       "manual    268251\n",
       "auto       66285\n",
       "NaN        19833\n",
       "Name: Gearbox, dtype: int64"
      ]
     },
     "execution_count": 12,
     "metadata": {},
     "output_type": "execute_result"
    }
   ],
   "source": [
    "autos['Gearbox'].value_counts(dropna=False)"
   ]
  },
  {
   "cell_type": "markdown",
   "metadata": {},
   "source": [
    "Пропусков чуть более 5%. Заменим самым популярным значением и проконтролируем результат."
   ]
  },
  {
   "cell_type": "code",
   "execution_count": 13,
   "metadata": {},
   "outputs": [
    {
     "data": {
      "text/plain": [
       "manual    288084\n",
       "auto       66285\n",
       "Name: Gearbox, dtype: int64"
      ]
     },
     "execution_count": 13,
     "metadata": {},
     "output_type": "execute_result"
    }
   ],
   "source": [
    "autos['Gearbox'] = autos['Gearbox'].fillna('manual')\n",
    "autos['Gearbox'].value_counts(dropna=False)"
   ]
  },
  {
   "cell_type": "markdown",
   "metadata": {},
   "source": [
    "Порядок. Пропусков нет."
   ]
  },
  {
   "cell_type": "markdown",
   "metadata": {},
   "source": [
    "#### Работа со столбцом `Model`"
   ]
  },
  {
   "cell_type": "markdown",
   "metadata": {},
   "source": [
    "Посмотрим уникальные значения"
   ]
  },
  {
   "cell_type": "code",
   "execution_count": 14,
   "metadata": {},
   "outputs": [
    {
     "data": {
      "text/plain": [
       "golf                  29232\n",
       "other                 24421\n",
       "3er                   19761\n",
       "NaN                   19705\n",
       "polo                  13066\n",
       "                      ...  \n",
       "i3                        8\n",
       "serie_3                   4\n",
       "rangerover                4\n",
       "range_rover_evoque        2\n",
       "serie_1                   2\n",
       "Name: Model, Length: 251, dtype: int64"
      ]
     },
     "execution_count": 14,
     "metadata": {},
     "output_type": "execute_result"
    }
   ],
   "source": [
    "autos['Model'].value_counts(dropna=False)"
   ]
  },
  {
   "cell_type": "markdown",
   "metadata": {},
   "source": [
    "Даже визуально видно, что различных моделей много, а пропусков в чуть более 5% строк встречаются. В такой ситуации, думаю, можно спокойно заменить это количество просто словом *unknown*"
   ]
  },
  {
   "cell_type": "code",
   "execution_count": 15,
   "metadata": {},
   "outputs": [
    {
     "data": {
      "text/plain": [
       "golf                  29232\n",
       "other                 24421\n",
       "3er                   19761\n",
       "unknown               19705\n",
       "polo                  13066\n",
       "                      ...  \n",
       "i3                        8\n",
       "rangerover                4\n",
       "serie_3                   4\n",
       "serie_1                   2\n",
       "range_rover_evoque        2\n",
       "Name: Model, Length: 251, dtype: int64"
      ]
     },
     "execution_count": 15,
     "metadata": {},
     "output_type": "execute_result"
    }
   ],
   "source": [
    "autos['Model'] = autos['Model'].fillna('unknown')\n",
    "autos['Model'].value_counts(dropna=False)"
   ]
  },
  {
   "cell_type": "markdown",
   "metadata": {},
   "source": [
    "Успешно. Двигаемся дальше"
   ]
  },
  {
   "cell_type": "markdown",
   "metadata": {},
   "source": [
    "#### Работа со столбцом `FuelType`"
   ]
  },
  {
   "cell_type": "markdown",
   "metadata": {},
   "source": [
    "Взглянем на уникальные значения"
   ]
  },
  {
   "cell_type": "code",
   "execution_count": 16,
   "metadata": {},
   "outputs": [
    {
     "data": {
      "text/plain": [
       "petrol      216352\n",
       "gasoline     98720\n",
       "NaN          32895\n",
       "lpg           5310\n",
       "cng            565\n",
       "hybrid         233\n",
       "other          204\n",
       "electric        90\n",
       "Name: FuelType, dtype: int64"
      ]
     },
     "execution_count": 16,
     "metadata": {},
     "output_type": "execute_result"
    }
   ],
   "source": [
    "autos['FuelType'].value_counts(dropna=False)"
   ]
  },
  {
   "cell_type": "markdown",
   "metadata": {},
   "source": [
    "Здесь тактика та же, что и с типом кузова, т.к. пропусков порядка 10%. Заполним популярным значением по модели."
   ]
  },
  {
   "cell_type": "markdown",
   "metadata": {},
   "source": [
    "Создаём таблицу с популярными типами топлива по брендам, избавляемся от мультииндекса, контролируем результат."
   ]
  },
  {
   "cell_type": "code",
   "execution_count": 17,
   "metadata": {},
   "outputs": [
    {
     "data": {
      "text/plain": [
       "Index(['alfa_romeo', 'audi', 'bmw', 'chevrolet', 'chrysler', 'citroen',\n",
       "       'dacia', 'daewoo', 'daihatsu', 'fiat', 'ford', 'honda', 'hyundai',\n",
       "       'jaguar', 'jeep', 'kia', 'lada', 'lancia', 'land_rover', 'mazda',\n",
       "       'mercedes_benz', 'mini', 'mitsubishi', 'nissan', 'opel', 'peugeot',\n",
       "       'porsche', 'renault', 'rover', 'saab', 'seat', 'skoda', 'smart',\n",
       "       'sonstige_autos', 'subaru', 'suzuki', 'toyota', 'trabant', 'volkswagen',\n",
       "       'volvo'],\n",
       "      dtype='object', name='Brand')"
      ]
     },
     "metadata": {},
     "output_type": "display_data"
    }
   ],
   "source": [
    "fuel_type_table = autos.pivot_table(index=['FuelType'], \n",
    "                                       columns=['Brand'],\n",
    "                                       values=['Price'],\n",
    "                                       aggfunc=['count'])\n",
    "\n",
    "fuel_type_table.columns = fuel_type_table.columns.droplevel([0,1])\n",
    "display(vehicle_type_table.columns)"
   ]
  },
  {
   "cell_type": "markdown",
   "metadata": {},
   "source": [
    "Порядок. Приступаем к заполнению."
   ]
  },
  {
   "cell_type": "code",
   "execution_count": 18,
   "metadata": {},
   "outputs": [
    {
     "data": {
      "text/plain": [
       "petrol      249220\n",
       "gasoline     98747\n",
       "lpg           5310\n",
       "cng            565\n",
       "hybrid         233\n",
       "other          204\n",
       "electric        90\n",
       "Name: FuelType, dtype: int64"
      ]
     },
     "execution_count": 18,
     "metadata": {},
     "output_type": "execute_result"
    }
   ],
   "source": [
    "autos.fillna({'FuelType':0},inplace=True)\n",
    "\n",
    "autos['FuelType'] = autos.apply(\n",
    "                                fillna_by_brand, \n",
    "                                args=[7, fuel_type_table],\n",
    "                                axis=1)\n",
    "\n",
    "autos['FuelType'].value_counts(dropna=False)"
   ]
  },
  {
   "cell_type": "markdown",
   "metadata": {},
   "source": [
    "Похоже, можно было не заморачиваться, 27 пропусков заполнено значением gasoline, а остальные 32 868 - petrol. Но что сделано, то сделано :-)"
   ]
  },
  {
   "cell_type": "markdown",
   "metadata": {},
   "source": [
    "#### Работа со столбцом `Repaired`"
   ]
  },
  {
   "cell_type": "code",
   "execution_count": 19,
   "metadata": {},
   "outputs": [
    {
     "name": "stdout",
     "output_type": "stream",
     "text": [
      "<class 'pandas.core.frame.DataFrame'>\n",
      "RangeIndex: 354369 entries, 0 to 354368\n",
      "Data columns (total 10 columns):\n",
      " #   Column            Non-Null Count   Dtype \n",
      "---  ------            --------------   ----- \n",
      " 0   Price             354369 non-null  int64 \n",
      " 1   VehicleType       354369 non-null  object\n",
      " 2   RegistrationYear  354369 non-null  int64 \n",
      " 3   Gearbox           354369 non-null  object\n",
      " 4   Power             354369 non-null  int64 \n",
      " 5   Model             354369 non-null  object\n",
      " 6   Kilometer         354369 non-null  int64 \n",
      " 7   FuelType          354369 non-null  object\n",
      " 8   Brand             354369 non-null  object\n",
      " 9   Repaired          283215 non-null  object\n",
      "dtypes: int64(4), object(6)\n",
      "memory usage: 27.0+ MB\n"
     ]
    }
   ],
   "source": [
    "autos.info()"
   ]
  },
  {
   "cell_type": "code",
   "execution_count": 20,
   "metadata": {},
   "outputs": [
    {
     "data": {
      "text/plain": [
       "no     247161\n",
       "NaN     71154\n",
       "yes     36054\n",
       "Name: Repaired, dtype: int64"
      ]
     },
     "execution_count": 20,
     "metadata": {},
     "output_type": "execute_result"
    }
   ],
   "source": [
    "autos['Repaired'].value_counts(dropna=False)"
   ]
  },
  {
   "cell_type": "markdown",
   "metadata": {},
   "source": [
    "Вряд ли есть какая-то дикая зависимость между \"был в ремонте\" и брендом, поэтому заполним пропуски значением *no*"
   ]
  },
  {
   "cell_type": "code",
   "execution_count": 21,
   "metadata": {},
   "outputs": [
    {
     "data": {
      "text/plain": [
       "no     318315\n",
       "yes     36054\n",
       "Name: Repaired, dtype: int64"
      ]
     },
     "execution_count": 21,
     "metadata": {},
     "output_type": "execute_result"
    }
   ],
   "source": [
    "autos.fillna({'Repaired':'no'},inplace=True)\n",
    "autos['Repaired'].value_counts(dropna=False)"
   ]
  },
  {
   "cell_type": "markdown",
   "metadata": {},
   "source": [
    "Готово!"
   ]
  },
  {
   "cell_type": "markdown",
   "metadata": {},
   "source": [
    "#### Итоги работы с пропусками"
   ]
  },
  {
   "cell_type": "code",
   "execution_count": 22,
   "metadata": {},
   "outputs": [
    {
     "name": "stdout",
     "output_type": "stream",
     "text": [
      "<class 'pandas.core.frame.DataFrame'>\n",
      "RangeIndex: 354369 entries, 0 to 354368\n",
      "Data columns (total 10 columns):\n",
      " #   Column            Non-Null Count   Dtype \n",
      "---  ------            --------------   ----- \n",
      " 0   Price             354369 non-null  int64 \n",
      " 1   VehicleType       354369 non-null  object\n",
      " 2   RegistrationYear  354369 non-null  int64 \n",
      " 3   Gearbox           354369 non-null  object\n",
      " 4   Power             354369 non-null  int64 \n",
      " 5   Model             354369 non-null  object\n",
      " 6   Kilometer         354369 non-null  int64 \n",
      " 7   FuelType          354369 non-null  object\n",
      " 8   Brand             354369 non-null  object\n",
      " 9   Repaired          354369 non-null  object\n",
      "dtypes: int64(4), object(6)\n",
      "memory usage: 27.0+ MB\n"
     ]
    }
   ],
   "source": [
    "autos.info()"
   ]
  },
  {
   "cell_type": "markdown",
   "metadata": {},
   "source": [
    "Как видим, пропуски в столбцах `VehicleType`, `Gearbox`, `Model`, `FuelType`, `NotRepaired` заполнены.\n",
    "\n",
    "В ходе этой работы успешно применена тактика заполнения пропусков самым популярным значением, а в столбцах `VehicleType`, `FuelType` это сделано с учетом бренда"
   ]
  },
  {
   "cell_type": "markdown",
   "metadata": {},
   "source": [
    "### Работа с выбросами"
   ]
  },
  {
   "cell_type": "markdown",
   "metadata": {},
   "source": [
    "Рассмотрим столбцы с количественными переменными"
   ]
  },
  {
   "cell_type": "markdown",
   "metadata": {},
   "source": [
    "#### Столбец `Price`"
   ]
  },
  {
   "cell_type": "markdown",
   "metadata": {},
   "source": [
    "Построим гистограмму"
   ]
  },
  {
   "cell_type": "code",
   "execution_count": 23,
   "metadata": {},
   "outputs": [
    {
     "data": {
      "image/png": "[encoded data removed]",
      "text/plain": [
       "<Figure size 864x648 with 1 Axes>"
      ]
     },
     "metadata": {
      "needs_background": "light"
     },
     "output_type": "display_data"
    }
   ],
   "source": [
    "autos.query('Price > 0')['Price'].hist(bins=100, figsize=(12,9))\n",
    "\n",
    "plt.xlabel('Цена')\n",
    "plt.title('Гистограмма распределения цен')\n",
    "plt.show()"
   ]
  },
  {
   "cell_type": "markdown",
   "metadata": {},
   "source": [
    "Видим достаточное количество записей с ценой около нуля. Взглянем поближе на гистограмму распределения цен в диапазоне от 0 до 1000."
   ]
  },
  {
   "cell_type": "code",
   "execution_count": 24,
   "metadata": {},
   "outputs": [
    {
     "data": {
      "text/plain": [
       "<AxesSubplot:>"
      ]
     },
     "execution_count": 24,
     "metadata": {},
     "output_type": "execute_result"
    },
    {
     "data": {
      "image/png": "[encoded data removed]",
      "text/plain": [
       "<Figure size 864x648 with 1 Axes>"
      ]
     },
     "metadata": {
      "needs_background": "light"
     },
     "output_type": "display_data"
    }
   ],
   "source": [
    "autos.query('2000 > Price')['Price'].hist(bins=40, figsize=(12,9))"
   ]
  },
  {
   "cell_type": "markdown",
   "metadata": {},
   "source": [
    "Относительно резко количество предложений растет до 250 (ноль не учитываем - явная аномалия), после этой границы рост гораздо менее выраженный, а где-то вообще понижение количества предложений. Поэтому цена 250 видится мне нижней границей бюджетного сегмента автомобилей. Отсечем аномалии и движемся дальше."
   ]
  },
  {
   "cell_type": "code",
   "execution_count": 25,
   "metadata": {},
   "outputs": [],
   "source": [
    "autos = autos.query('Price > 249')"
   ]
  },
  {
   "cell_type": "code",
   "execution_count": 26,
   "metadata": {},
   "outputs": [
    {
     "data": {
      "text/plain": [
       "334378"
      ]
     },
     "execution_count": 26,
     "metadata": {},
     "output_type": "execute_result"
    }
   ],
   "source": [
    "autos['Price'].count()"
   ]
  },
  {
   "cell_type": "markdown",
   "metadata": {},
   "source": [
    "Порядка 6% записей удалено."
   ]
  },
  {
   "cell_type": "markdown",
   "metadata": {},
   "source": [
    "#### Столбец `RegistrationYear`"
   ]
  },
  {
   "cell_type": "markdown",
   "metadata": {},
   "source": [
    "Взглянем на гистограмму"
   ]
  },
  {
   "cell_type": "code",
   "execution_count": 27,
   "metadata": {},
   "outputs": [
    {
     "data": {
      "image/png": "[encoded data removed]",
      "text/plain": [
       "<Figure size 864x648 with 1 Axes>"
      ]
     },
     "metadata": {
      "needs_background": "light"
     },
     "output_type": "display_data"
    }
   ],
   "source": [
    "autos['RegistrationYear'].hist(bins=100, figsize=(12,9))\n",
    "\n",
    "plt.xlabel('Год регистрации')\n",
    "plt.title('Гистограмма распределения лет регистрации')\n",
    "plt.show()"
   ]
  },
  {
   "cell_type": "markdown",
   "metadata": {},
   "source": [
    "Похоже есть совсем уж нереалистичные выбросы как в большую, так и в меньшую сторону, поэтому явно нужно подобрать адекватные рамки. \n",
    "\n",
    "Думаю, что резонно оставить года с 1970 (раритетные и дорогие авто таких годов вполне возможно найти на рынке) по 2016 (год выгрузки базы). "
   ]
  },
  {
   "cell_type": "code",
   "execution_count": 28,
   "metadata": {},
   "outputs": [
    {
     "data": {
      "image/png": "[encoded data removed]",
      "text/plain": [
       "<Figure size 864x648 with 1 Axes>"
      ]
     },
     "metadata": {
      "needs_background": "light"
     },
     "output_type": "display_data"
    }
   ],
   "source": [
    "autos.query('2017 > RegistrationYear > 1969')['RegistrationYear'].hist(bins=100, figsize=(12,9))\n",
    "\n",
    "plt.xlabel('Год регистрации')\n",
    "plt.title('Гистограмма распределения лет регистрации')\n",
    "plt.show()"
   ]
  },
  {
   "cell_type": "markdown",
   "metadata": {},
   "source": [
    "Гистограмма с нашими ограничениями выглядит вполне адекватно, кроме всплеска 2016 года регистрации. Возможно это связано с большим количеством объявлений с новыми автомобилями от автосалонов. Как-то править это, думаю, не стоит.\n",
    "\n",
    "Отсечем выбросы"
   ]
  },
  {
   "cell_type": "code",
   "execution_count": 29,
   "metadata": {},
   "outputs": [],
   "source": [
    "autos = autos.query('2017 > RegistrationYear > 1969')"
   ]
  },
  {
   "cell_type": "code",
   "execution_count": 30,
   "metadata": {},
   "outputs": [
    {
     "data": {
      "text/plain": [
       "319727"
      ]
     },
     "execution_count": 30,
     "metadata": {},
     "output_type": "execute_result"
    }
   ],
   "source": [
    "autos['RegistrationYear'].count()"
   ]
  },
  {
   "cell_type": "markdown",
   "metadata": {},
   "source": [
    "Осталось порядка 90% изначальной выборки"
   ]
  },
  {
   "cell_type": "markdown",
   "metadata": {},
   "source": [
    "#### Столбец `Power`"
   ]
  },
  {
   "cell_type": "code",
   "execution_count": 31,
   "metadata": {},
   "outputs": [
    {
     "data": {
      "image/png": "[encoded data removed]",
      "text/plain": [
       "<Figure size 864x648 with 1 Axes>"
      ]
     },
     "metadata": {
      "needs_background": "light"
     },
     "output_type": "display_data"
    }
   ],
   "source": [
    "autos['Power'].hist(bins=100, figsize=(12,9))\n",
    "\n",
    "plt.xlabel('Мощность двигателя')\n",
    "plt.title('Гистограмма распределения мощности двигателя')\n",
    "plt.show()"
   ]
  },
  {
   "cell_type": "markdown",
   "metadata": {},
   "source": [
    "Видим огромные выбросы в большую сторону. Вроде бы при анализе не были замечены космические ракеты, поэтому отсечём выбросы адекватными рамками: 5 л.с. самый маломощный более менее современный автомобиль, 700 л.с. самый мощный, который можно встретить на дорогах общего пользования."
   ]
  },
  {
   "cell_type": "code",
   "execution_count": 32,
   "metadata": {},
   "outputs": [
    {
     "data": {
      "image/png": "[encoded data removed]",
      "text/plain": [
       "<Figure size 864x648 with 1 Axes>"
      ]
     },
     "metadata": {
      "needs_background": "light"
     },
     "output_type": "display_data"
    }
   ],
   "source": [
    "autos.query('701 > Power > 4')['Power'].hist(bins=100, figsize=(12,9))\n",
    "\n",
    "plt.xlabel('Мощность двигателя')\n",
    "plt.title('Гистограмма распределения мощности двигателя')\n",
    "plt.show()"
   ]
  },
  {
   "cell_type": "markdown",
   "metadata": {},
   "source": [
    "Видим всплески около 60 л.с. и 80 л.с., что неудивительно, малолитражки достаточно популярны из-за доступности покупки и стоимости эксплуатации. Отсечём и оценим потери."
   ]
  },
  {
   "cell_type": "code",
   "execution_count": 33,
   "metadata": {},
   "outputs": [],
   "source": [
    "autos = autos.query('700 > Power > 5')"
   ]
  },
  {
   "cell_type": "code",
   "execution_count": 34,
   "metadata": {},
   "outputs": [
    {
     "data": {
      "text/plain": [
       "290141"
      ]
     },
     "execution_count": 34,
     "metadata": {},
     "output_type": "execute_result"
    }
   ],
   "source": [
    "autos['Power'].count()"
   ]
  },
  {
   "cell_type": "markdown",
   "metadata": {},
   "source": [
    "82% выборки осталось. Многовато, конечно, исключили, но оставшихся почти 300 тыс. адекватных экземпляров будет вполне достаточно, чтобы построить модель."
   ]
  },
  {
   "cell_type": "markdown",
   "metadata": {},
   "source": [
    "#### Столбец `Kilometer`"
   ]
  },
  {
   "cell_type": "code",
   "execution_count": 35,
   "metadata": {},
   "outputs": [
    {
     "data": {
      "image/png": "[encoded data removed]",
      "text/plain": [
       "<Figure size 864x648 with 1 Axes>"
      ]
     },
     "metadata": {
      "needs_background": "light"
     },
     "output_type": "display_data"
    }
   ],
   "source": [
    "autos['Kilometer'].hist(bins=100, figsize=(12,9))\n",
    "\n",
    "plt.xlabel('Пробег')\n",
    "plt.title('Гистограмма распределения пробега автомобиля')\n",
    "plt.show()"
   ]
  },
  {
   "cell_type": "markdown",
   "metadata": {},
   "source": [
    "Судя по гистограмме, большая часть продаваемых автомобилей с пробегом в 150 000 км., что вполне согласуется с реальностью."
   ]
  },
  {
   "cell_type": "markdown",
   "metadata": {},
   "source": [
    "#### Итоги работы с выбросами"
   ]
  },
  {
   "cell_type": "markdown",
   "metadata": {},
   "source": [
    "После удаления записей возникают проблемы с пропавшими индексами. Исправим это и посмотрим, что получилось в итоге."
   ]
  },
  {
   "cell_type": "code",
   "execution_count": 36,
   "metadata": {},
   "outputs": [
    {
     "name": "stdout",
     "output_type": "stream",
     "text": [
      "<class 'pandas.core.frame.DataFrame'>\n",
      "RangeIndex: 290141 entries, 0 to 290140\n",
      "Data columns (total 10 columns):\n",
      " #   Column            Non-Null Count   Dtype \n",
      "---  ------            --------------   ----- \n",
      " 0   Price             290141 non-null  int64 \n",
      " 1   VehicleType       290141 non-null  object\n",
      " 2   RegistrationYear  290141 non-null  int64 \n",
      " 3   Gearbox           290141 non-null  object\n",
      " 4   Power             290141 non-null  int64 \n",
      " 5   Model             290141 non-null  object\n",
      " 6   Kilometer         290141 non-null  int64 \n",
      " 7   FuelType          290141 non-null  object\n",
      " 8   Brand             290141 non-null  object\n",
      " 9   Repaired          290141 non-null  object\n",
      "dtypes: int64(4), object(6)\n",
      "memory usage: 22.1+ MB\n"
     ]
    }
   ],
   "source": [
    "autos = autos.reset_index(drop=True)\n",
    "autos.info()"
   ]
  },
  {
   "cell_type": "markdown",
   "metadata": {},
   "source": [
    "Итого, после удаления выбросов в столбцах `Price`, `RegistrationYear`, `Power`, мы оставили в датасете 82% исходных данных."
   ]
  },
  {
   "cell_type": "markdown",
   "metadata": {},
   "source": [
    "### Подготовка признаков"
   ]
  },
  {
   "cell_type": "markdown",
   "metadata": {},
   "source": [
    "Подготовим признаки для обучения. Так как будем тестировать несколько моделей регрессии (а у нас задача регрессии), которые могут быть чувствительны к типам данных, то предварительно подготовим три датасета с признаками:\n",
    "\n",
    "- признаки без изменений (catboost переварит точно)\n",
    "- признаки с ohe-кодированием \n",
    "- масштабированные ohe-признаки"
   ]
  },
  {
   "cell_type": "code",
   "execution_count": 38,
   "metadata": {},
   "outputs": [
    {
     "name": "stdout",
     "output_type": "stream",
     "text": [
      "(217605, 9)\n",
      "(72536, 9)\n",
      "(217605,)\n",
      "(72536,)\n"
     ]
    }
   ],
   "source": [
    "features = autos.drop(['Price'], axis=1) #признаки\n",
    "target = autos['Price'] # целевой признак\n",
    "\n",
    "# делим на тренировочную и тестовую выборки\n",
    "features_train, features_test, target_train, target_test = train_test_split(features, target, \n",
    "                                                                            test_size=0.25, \n",
    "                                                                            random_state=12345)\n",
    "\n",
    "# проверяем размеры выборок\n",
    "for data in [features_train, features_test, target_train, target_test]:\n",
    "    print(data.shape)"
   ]
  },
  {
   "cell_type": "markdown",
   "metadata": {},
   "source": [
    "Разделение произошло корректно. Произведем кодирование признаков тренировочной и тестовой выборок."
   ]
  },
  {
   "cell_type": "code",
   "execution_count": 39,
   "metadata": {
    "scrolled": false
   },
   "outputs": [
    {
     "name": "stdout",
     "output_type": "stream",
     "text": [
      "(217605, 306)\n",
      "(72536, 306)\n"
     ]
    },
    {
     "data": {
      "text/html": [
       "<div>\n",
       "<style scoped>\n",
       "    .dataframe tbody tr th:only-of-type {\n",
       "        vertical-align: middle;\n",
       "    }\n",
       "\n",
       "    .dataframe tbody tr th {\n",
       "        vertical-align: top;\n",
       "    }\n",
       "\n",
       "    .dataframe thead th {\n",
       "        text-align: right;\n",
       "    }\n",
       "</style>\n",
       "<table border=\"1\" class=\"dataframe\">\n",
       "  <thead>\n",
       "    <tr style=\"text-align: right;\">\n",
       "      <th></th>\n",
       "      <th>onehotencoder__x0_convertible</th>\n",
       "      <th>onehotencoder__x0_coupe</th>\n",
       "      <th>onehotencoder__x0_other</th>\n",
       "      <th>onehotencoder__x0_sedan</th>\n",
       "      <th>onehotencoder__x0_small</th>\n",
       "      <th>onehotencoder__x0_suv</th>\n",
       "      <th>onehotencoder__x0_wagon</th>\n",
       "      <th>onehotencoder__x1_manual</th>\n",
       "      <th>onehotencoder__x2_145</th>\n",
       "      <th>onehotencoder__x2_147</th>\n",
       "      <th>...</th>\n",
       "      <th>onehotencoder__x4_subaru</th>\n",
       "      <th>onehotencoder__x4_suzuki</th>\n",
       "      <th>onehotencoder__x4_toyota</th>\n",
       "      <th>onehotencoder__x4_trabant</th>\n",
       "      <th>onehotencoder__x4_volkswagen</th>\n",
       "      <th>onehotencoder__x4_volvo</th>\n",
       "      <th>onehotencoder__x5_yes</th>\n",
       "      <th>RegistrationYear</th>\n",
       "      <th>Power</th>\n",
       "      <th>Kilometer</th>\n",
       "    </tr>\n",
       "  </thead>\n",
       "  <tbody>\n",
       "    <tr>\n",
       "      <th>0</th>\n",
       "      <td>0</td>\n",
       "      <td>0</td>\n",
       "      <td>0</td>\n",
       "      <td>0</td>\n",
       "      <td>0</td>\n",
       "      <td>0</td>\n",
       "      <td>1</td>\n",
       "      <td>1</td>\n",
       "      <td>0</td>\n",
       "      <td>0</td>\n",
       "      <td>...</td>\n",
       "      <td>0</td>\n",
       "      <td>0</td>\n",
       "      <td>0</td>\n",
       "      <td>0</td>\n",
       "      <td>0</td>\n",
       "      <td>0</td>\n",
       "      <td>0</td>\n",
       "      <td>1997</td>\n",
       "      <td>90</td>\n",
       "      <td>150000</td>\n",
       "    </tr>\n",
       "    <tr>\n",
       "      <th>1</th>\n",
       "      <td>0</td>\n",
       "      <td>0</td>\n",
       "      <td>0</td>\n",
       "      <td>0</td>\n",
       "      <td>0</td>\n",
       "      <td>0</td>\n",
       "      <td>1</td>\n",
       "      <td>1</td>\n",
       "      <td>0</td>\n",
       "      <td>0</td>\n",
       "      <td>...</td>\n",
       "      <td>0</td>\n",
       "      <td>0</td>\n",
       "      <td>0</td>\n",
       "      <td>0</td>\n",
       "      <td>1</td>\n",
       "      <td>0</td>\n",
       "      <td>0</td>\n",
       "      <td>2013</td>\n",
       "      <td>184</td>\n",
       "      <td>60000</td>\n",
       "    </tr>\n",
       "    <tr>\n",
       "      <th>2</th>\n",
       "      <td>0</td>\n",
       "      <td>0</td>\n",
       "      <td>0</td>\n",
       "      <td>0</td>\n",
       "      <td>1</td>\n",
       "      <td>0</td>\n",
       "      <td>0</td>\n",
       "      <td>1</td>\n",
       "      <td>0</td>\n",
       "      <td>0</td>\n",
       "      <td>...</td>\n",
       "      <td>0</td>\n",
       "      <td>0</td>\n",
       "      <td>0</td>\n",
       "      <td>0</td>\n",
       "      <td>0</td>\n",
       "      <td>0</td>\n",
       "      <td>0</td>\n",
       "      <td>1997</td>\n",
       "      <td>45</td>\n",
       "      <td>150000</td>\n",
       "    </tr>\n",
       "    <tr>\n",
       "      <th>3</th>\n",
       "      <td>0</td>\n",
       "      <td>0</td>\n",
       "      <td>0</td>\n",
       "      <td>0</td>\n",
       "      <td>1</td>\n",
       "      <td>0</td>\n",
       "      <td>0</td>\n",
       "      <td>1</td>\n",
       "      <td>0</td>\n",
       "      <td>0</td>\n",
       "      <td>...</td>\n",
       "      <td>0</td>\n",
       "      <td>0</td>\n",
       "      <td>0</td>\n",
       "      <td>0</td>\n",
       "      <td>0</td>\n",
       "      <td>0</td>\n",
       "      <td>0</td>\n",
       "      <td>2011</td>\n",
       "      <td>101</td>\n",
       "      <td>10000</td>\n",
       "    </tr>\n",
       "    <tr>\n",
       "      <th>4</th>\n",
       "      <td>0</td>\n",
       "      <td>0</td>\n",
       "      <td>0</td>\n",
       "      <td>0</td>\n",
       "      <td>0</td>\n",
       "      <td>1</td>\n",
       "      <td>0</td>\n",
       "      <td>0</td>\n",
       "      <td>0</td>\n",
       "      <td>0</td>\n",
       "      <td>...</td>\n",
       "      <td>0</td>\n",
       "      <td>0</td>\n",
       "      <td>0</td>\n",
       "      <td>0</td>\n",
       "      <td>0</td>\n",
       "      <td>0</td>\n",
       "      <td>0</td>\n",
       "      <td>2005</td>\n",
       "      <td>160</td>\n",
       "      <td>150000</td>\n",
       "    </tr>\n",
       "  </tbody>\n",
       "</table>\n",
       "<p>5 rows × 306 columns</p>\n",
       "</div>"
      ],
      "text/plain": [
       "   onehotencoder__x0_convertible  onehotencoder__x0_coupe  \\\n",
       "0                              0                        0   \n",
       "1                              0                        0   \n",
       "2                              0                        0   \n",
       "3                              0                        0   \n",
       "4                              0                        0   \n",
       "\n",
       "   onehotencoder__x0_other  onehotencoder__x0_sedan  onehotencoder__x0_small  \\\n",
       "0                        0                        0                        0   \n",
       "1                        0                        0                        0   \n",
       "2                        0                        0                        1   \n",
       "3                        0                        0                        1   \n",
       "4                        0                        0                        0   \n",
       "\n",
       "   onehotencoder__x0_suv  onehotencoder__x0_wagon  onehotencoder__x1_manual  \\\n",
       "0                      0                        1                         1   \n",
       "1                      0                        1                         1   \n",
       "2                      0                        0                         1   \n",
       "3                      0                        0                         1   \n",
       "4                      1                        0                         0   \n",
       "\n",
       "   onehotencoder__x2_145  onehotencoder__x2_147  ...  \\\n",
       "0                      0                      0  ...   \n",
       "1                      0                      0  ...   \n",
       "2                      0                      0  ...   \n",
       "3                      0                      0  ...   \n",
       "4                      0                      0  ...   \n",
       "\n",
       "   onehotencoder__x4_subaru  onehotencoder__x4_suzuki  \\\n",
       "0                         0                         0   \n",
       "1                         0                         0   \n",
       "2                         0                         0   \n",
       "3                         0                         0   \n",
       "4                         0                         0   \n",
       "\n",
       "   onehotencoder__x4_toyota  onehotencoder__x4_trabant  \\\n",
       "0                         0                          0   \n",
       "1                         0                          0   \n",
       "2                         0                          0   \n",
       "3                         0                          0   \n",
       "4                         0                          0   \n",
       "\n",
       "   onehotencoder__x4_volkswagen  onehotencoder__x4_volvo  \\\n",
       "0                             0                        0   \n",
       "1                             1                        0   \n",
       "2                             0                        0   \n",
       "3                             0                        0   \n",
       "4                             0                        0   \n",
       "\n",
       "   onehotencoder__x5_yes  RegistrationYear  Power  Kilometer  \n",
       "0                      0              1997     90     150000  \n",
       "1                      0              2013    184      60000  \n",
       "2                      0              1997     45     150000  \n",
       "3                      0              2011    101      10000  \n",
       "4                      0              2005    160     150000  \n",
       "\n",
       "[5 rows x 306 columns]"
      ]
     },
     "metadata": {},
     "output_type": "display_data"
    }
   ],
   "source": [
    "cat_columns = ['VehicleType', 'Gearbox', 'Model', 'FuelType', 'Brand', 'Repaired']\n",
    "\n",
    "transformer = make_column_transformer((OneHotEncoder(drop='first'), cat_columns), remainder='passthrough')\n",
    "\n",
    "ohe_features = transformer.fit_transform(features_train).toarray()\n",
    "ohe_features_train = pd.DataFrame(ohe_features, columns=transformer.get_feature_names())\n",
    "\n",
    "ohe_features = transformer.transform(features_test).toarray()\n",
    "ohe_features_test = pd.DataFrame(ohe_features, columns=transformer.get_feature_names())\n",
    "\n",
    "for column in transformer.get_feature_names():\n",
    "    ohe_features_train[column] = ohe_features_train[column].astype('int')\n",
    "    ohe_features_test[column] = ohe_features_test[column].astype('int')\n",
    "    \n",
    "print(ohe_features_train.shape)\n",
    "print(ohe_features_test.shape)\n",
    "display(ohe_features_train.head())"
   ]
  },
  {
   "cell_type": "markdown",
   "metadata": {},
   "source": [
    "Судя по размерам выборок и чисто визуально, кодирование прошло успешно."
   ]
  },
  {
   "cell_type": "markdown",
   "metadata": {},
   "source": [
    "Приступаем к масштабированию ohe-признаков тестовой и тренировочной выборок."
   ]
  },
  {
   "cell_type": "code",
   "execution_count": 40,
   "metadata": {},
   "outputs": [
    {
     "data": {
      "text/plain": [
       "array([[-0.26115985, -0.22795544, -0.09112346, ..., -0.96648921,\n",
       "        -0.58491495,  0.59274839],\n",
       "       [-0.26115985, -0.22795544, -0.09112346, ...,  1.61406072,\n",
       "         1.16066485, -1.86342803],\n",
       "       [-0.26115985, -0.22795544, -0.09112346, ..., -0.96648921,\n",
       "        -1.42056485,  0.59274839],\n",
       "       ...,\n",
       "       [-0.26115985,  4.38682217, -0.09112346, ..., -0.16006735,\n",
       "         3.42620458, -0.77179407],\n",
       "       [-0.26115985, -0.22795544, -0.09112346, ..., -0.32135172,\n",
       "         1.45778481,  0.59274839],\n",
       "       [-0.26115985, -0.22795544, -0.09112346, ...,  0.32378576,\n",
       "         0.34358494,  0.59274839]])"
      ]
     },
     "metadata": {},
     "output_type": "display_data"
    }
   ],
   "source": [
    "scaled_features_train = ohe_features_train.copy()\n",
    "scaled_features_test = ohe_features_test.copy()\n",
    "\n",
    "# создаём \"масштабатор\"\n",
    "scaler = StandardScaler()\n",
    "# тренируем \"масштабатор\"\n",
    "scaled_features_train = scaler.fit_transform(scaled_features_train)\n",
    "scaled_features_test = scaler.transform(scaled_features_test)\n",
    "\n",
    "display(scaled_features_train)"
   ]
  },
  {
   "cell_type": "markdown",
   "metadata": {},
   "source": [
    "Признаки отмасштабированы. "
   ]
  },
  {
   "cell_type": "markdown",
   "metadata": {},
   "source": [
    "### Итоги подготовки данных"
   ]
  },
  {
   "cell_type": "markdown",
   "metadata": {},
   "source": [
    "Удалены неважные для оценки стоимости автомобиля столбцы: `DateCrawled`, `RegistrationMonth`, `DateCreated`, `NumberOfPictures`, `PostalCode`, `LastSeen`\n",
    "\n",
    "Пропуски в столбцах `VehicleType`, `Gearbox`, `Model`, `FuelType`, `Repaired` заполнены самым популярным значением, причём в столбцах `VehicleType`, `FuelType` это сделано с учетом бренда\n",
    "\n",
    "Удалили выбросы в столбцах `Price`, `RegistrationYear`, `Power`, и оставили в датасете 82% исходных адекватных данных.\n",
    "\n",
    "Подготовили выборки для подбора параметров и тестирования моделей.\n",
    "\n",
    "Подготовили признаки для обучения, сформировав три датасета: исходный, кодированный OHE и масштабированный OHE"
   ]
  },
  {
   "cell_type": "markdown",
   "metadata": {},
   "source": [
    "## Подбор гиперпараметров моделей"
   ]
  },
  {
   "cell_type": "markdown",
   "metadata": {},
   "source": [
    "Используем следующие модели для прогнозирования:\n",
    "1. LinearRegression\n",
    "2. DecisionTreeRegressor\n",
    "3. CatBoostRegressor\n",
    "4. LGBMRegressor\n",
    "\n",
    "Для оценки качества моделей подготовим функцию расчёта метрики RMSE"
   ]
  },
  {
   "cell_type": "markdown",
   "metadata": {},
   "source": [
    "### LinearRegression"
   ]
  },
  {
   "cell_type": "markdown",
   "metadata": {},
   "source": [
    "Рассмотрим классическую линейную регрессию на закодированных признаках"
   ]
  },
  {
   "cell_type": "code",
   "execution_count": 41,
   "metadata": {},
   "outputs": [
    {
     "name": "stdout",
     "output_type": "stream",
     "text": [
      "Средний показатель RMSE линейной регрессии (кросс-валидация): -2566.03\n"
     ]
    }
   ],
   "source": [
    "model_lr = LinearRegression()\n",
    "lr_crossval_rmse = cross_val_score(model_lr, ohe_features_train, target_train, cv=5, scoring='neg_root_mean_squared_error')\n",
    "lr_ohe_rmse = round(lr_crossval_rmse.mean(), 2)\n",
    "print(f'Средний показатель RMSE линейной регрессии (кросс-валидация): {lr_ohe_rmse}')"
   ]
  },
  {
   "cell_type": "markdown",
   "metadata": {},
   "source": [
    "А также проверим, как она сработает на масштабированных признаках"
   ]
  },
  {
   "cell_type": "code",
   "execution_count": 42,
   "metadata": {},
   "outputs": [
    {
     "name": "stdout",
     "output_type": "stream",
     "text": [
      "Средний показатель RMSE линейной регрессии (кросс-валидация): -2566.03\n"
     ]
    }
   ],
   "source": [
    "model_lr = LinearRegression()\n",
    "lr_crossval_rmse = cross_val_score(model_lr, scaled_features_train, target_train, cv=5, scoring='neg_root_mean_squared_error')\n",
    "lr_scaled_rmse = round(lr_crossval_rmse.mean(), 2)\n",
    "print(f'Средний показатель RMSE линейной регрессии (кросс-валидация): {lr_scaled_rmse}')"
   ]
  },
  {
   "cell_type": "markdown",
   "metadata": {},
   "source": [
    "Как видим, линейная регрессия с базовыми настройками даёт результат по RMSE больше 2500, поэтому вряд ли она подойдёт для заказчика"
   ]
  },
  {
   "cell_type": "markdown",
   "metadata": {},
   "source": [
    "### DecisionTreeRegressor"
   ]
  },
  {
   "cell_type": "markdown",
   "metadata": {},
   "source": [
    "Регрессия \"Дерево решений\" должна дать результат повыше. Проверим аналогично линейной регрессии, но поподбираем гиперпараметр max_depth с помощью GridSearchCV"
   ]
  },
  {
   "cell_type": "markdown",
   "metadata": {},
   "source": [
    "#### DTR на OHE-признаках"
   ]
  },
  {
   "cell_type": "code",
   "execution_count": 43,
   "metadata": {},
   "outputs": [
    {
     "name": "stdout",
     "output_type": "stream",
     "text": [
      "Лучшая модель DecisionTreeRegressor\n",
      "DecisionTreeRegressor(max_depth=18, random_state=12345)\n",
      "\n",
      "Лучший показатель RMSE DecisionTreeRegressor (кросс-валидация): -1818.5430698704563\n"
     ]
    }
   ],
   "source": [
    "model_dtr = DecisionTreeRegressor(random_state=12345)\n",
    "hyperparams = {'max_depth':[x for x in range(5, 20)]}\n",
    "\n",
    "clf = GridSearchCV(model_dtr, hyperparams, scoring='neg_root_mean_squared_error')\n",
    "clf.fit(ohe_features_train, target_train)\n",
    "\n",
    "dtr_ohe_model = clf.best_estimator_\n",
    "dtr_ohe_rmse = clf.best_score_\n",
    "\n",
    "print(f'Лучшая модель DecisionTreeRegressor')\n",
    "print(dtr_ohe_model)\n",
    "print()\n",
    "print(f'Лучший показатель RMSE DecisionTreeRegressor (кросс-валидация): {dtr_ohe_rmse}')"
   ]
  },
  {
   "cell_type": "markdown",
   "metadata": {},
   "source": [
    "Гораздо лучше линейной регрессии в базе, посмотрим, как влияет масштабирование."
   ]
  },
  {
   "cell_type": "markdown",
   "metadata": {},
   "source": [
    "#### DTR на масштабированных OHE-признаках"
   ]
  },
  {
   "cell_type": "code",
   "execution_count": 44,
   "metadata": {},
   "outputs": [
    {
     "name": "stdout",
     "output_type": "stream",
     "text": [
      "Лучшая модель DecisionTreeRegressor\n",
      "DecisionTreeRegressor(max_depth=18, random_state=12345)\n",
      "\n",
      "Лучший показатель RMSE DecisionTreeRegressor (кросс-валидация): -1817.452557756431\n"
     ]
    }
   ],
   "source": [
    "model_dtr = DecisionTreeRegressor(random_state=12345)\n",
    "hyperparams = {'max_depth':[x for x in range(5, 20)]}\n",
    "\n",
    "clf = GridSearchCV(model_dtr, hyperparams, scoring='neg_root_mean_squared_error')\n",
    "clf.fit(scaled_features_train, target_train)\n",
    "\n",
    "dtr_scaled_model = clf.best_estimator_\n",
    "dtr_scaled_rmse = clf.best_score_\n",
    "\n",
    "print(f'Лучшая модель DecisionTreeRegressor')\n",
    "print(dtr_scaled_model)\n",
    "print()\n",
    "print(f'Лучший показатель RMSE DecisionTreeRegressor (кросс-валидация): {dtr_scaled_rmse}')"
   ]
  },
  {
   "cell_type": "markdown",
   "metadata": {},
   "source": [
    "Масштабирование незначительно улучшило результат. Я бы сказал, статистически незначимо."
   ]
  },
  {
   "cell_type": "markdown",
   "metadata": {},
   "source": [
    "### CatBoostRegressor"
   ]
  },
  {
   "cell_type": "markdown",
   "metadata": {},
   "source": [
    "Данная модель позволяет использовать некодированные признаки, поэтому попробуем подобрать гиперпараметры на ohe-признаках и на масштабированных ohe-признаках и применить лучшую из них для оценки работы модели на некодированных признаках."
   ]
  },
  {
   "cell_type": "markdown",
   "metadata": {},
   "source": [
    "#### CatBoostRegressor на OHE-признаках"
   ]
  },
  {
   "cell_type": "code",
   "execution_count": 45,
   "metadata": {},
   "outputs": [
    {
     "name": "stdout",
     "output_type": "stream",
     "text": [
      "Лучшая модель CatBoostRegressor\n",
      "{'learning_rate': 0.5, 'verbose': False}\n",
      "\n",
      "Лучший показатель RMSE CatBoostRegressor (кросс-валидация): -1534.667656601618\n"
     ]
    }
   ],
   "source": [
    "cbr_model = CatBoostRegressor(random_state=12345) \n",
    "hyperparams = [{'learning_rate':[0.1, 0.5, 0.8],\n",
    "                'verbose':[False]}]\n",
    "\n",
    "clf = GridSearchCV(cbr_model, hyperparams, scoring='neg_root_mean_squared_error')\n",
    "clf.fit(ohe_features_train, target_train)\n",
    "\n",
    "cbr_ohe_model = clf.best_estimator_\n",
    "cbr_ohe_params = clf.best_params_\n",
    "cbr_ohe_rmse = clf.best_score_\n",
    "\n",
    "print(f'Лучшая модель CatBoostRegressor')\n",
    "print(cbr_ohe_params)\n",
    "print()\n",
    "print(f'Лучший показатель RMSE CatBoostRegressor (кросс-валидация): {cbr_ohe_rmse}')"
   ]
  },
  {
   "cell_type": "markdown",
   "metadata": {},
   "source": [
    "Получили ещё большее улучшение показателя RMSE. А как повлияет масштабирование?"
   ]
  },
  {
   "cell_type": "markdown",
   "metadata": {},
   "source": [
    "#### CatBoostRegressor на масштабированных OHE-признаках"
   ]
  },
  {
   "cell_type": "code",
   "execution_count": 46,
   "metadata": {},
   "outputs": [
    {
     "name": "stdout",
     "output_type": "stream",
     "text": [
      "Лучшая модель CatBoostRegressor\n",
      "{'learning_rate': 0.5, 'verbose': False}\n",
      "\n",
      "Лучший показатель RMSE CatBoostRegressor (кросс-валидация): -1534.667656601618\n"
     ]
    }
   ],
   "source": [
    "cbr_model = CatBoostRegressor(random_state=12345) \n",
    "hyperparams = [{'learning_rate':[0.1, 0.5, 0.8],\n",
    "                'verbose':[False]}]\n",
    "\n",
    "clf = GridSearchCV(cbr_model, hyperparams, scoring='neg_root_mean_squared_error')\n",
    "clf.fit(scaled_features_train, target_train)\n",
    "\n",
    "cbr_scaled_model = clf.best_estimator_\n",
    "cbr_scaled_params = clf.best_params_\n",
    "cbr_scaled_rmse = clf.best_score_\n",
    "\n",
    "print(f'Лучшая модель CatBoostRegressor')\n",
    "print(cbr_scaled_params)\n",
    "print()\n",
    "print(f'Лучший показатель RMSE CatBoostRegressor (кросс-валидация): {cbr_scaled_rmse}')"
   ]
  },
  {
   "cell_type": "markdown",
   "metadata": {},
   "source": [
    "RMSE осталось прежней, масштабирование не влияет на эту метрику. Поработаем на некодированных признаках."
   ]
  },
  {
   "cell_type": "markdown",
   "metadata": {},
   "source": [
    "#### CatBoostRegressor на некодированных признаках"
   ]
  },
  {
   "cell_type": "markdown",
   "metadata": {},
   "source": [
    "Изменим тип столбцов с категориальными признаками на *category*"
   ]
  },
  {
   "cell_type": "code",
   "execution_count": 47,
   "metadata": {},
   "outputs": [
    {
     "name": "stdout",
     "output_type": "stream",
     "text": [
      "<class 'pandas.core.frame.DataFrame'>\n",
      "RangeIndex: 217605 entries, 0 to 217604\n",
      "Data columns (total 9 columns):\n",
      " #   Column            Non-Null Count   Dtype   \n",
      "---  ------            --------------   -----   \n",
      " 0   VehicleType       217605 non-null  category\n",
      " 1   RegistrationYear  217605 non-null  int64   \n",
      " 2   Gearbox           217605 non-null  category\n",
      " 3   Power             217605 non-null  int64   \n",
      " 4   Model             217605 non-null  category\n",
      " 5   Kilometer         217605 non-null  int64   \n",
      " 6   FuelType          217605 non-null  category\n",
      " 7   Brand             217605 non-null  category\n",
      " 8   Repaired          217605 non-null  category\n",
      "dtypes: category(6), int64(3)\n",
      "memory usage: 6.4 MB\n"
     ]
    }
   ],
   "source": [
    "features_cat_train = features_train.copy()\n",
    "\n",
    "for column in cat_columns:\n",
    "    features_cat_train[column] = features_cat_train[column].astype('category')\n",
    "    \n",
    "features_cat_train = features_cat_train.reset_index(drop=True)\n",
    "features_cat_train.info()"
   ]
  },
  {
   "cell_type": "code",
   "execution_count": 48,
   "metadata": {},
   "outputs": [
    {
     "name": "stdout",
     "output_type": "stream",
     "text": [
      "<class 'pandas.core.frame.DataFrame'>\n",
      "RangeIndex: 72536 entries, 0 to 72535\n",
      "Data columns (total 9 columns):\n",
      " #   Column            Non-Null Count  Dtype   \n",
      "---  ------            --------------  -----   \n",
      " 0   VehicleType       72536 non-null  category\n",
      " 1   RegistrationYear  72536 non-null  int64   \n",
      " 2   Gearbox           72536 non-null  category\n",
      " 3   Power             72536 non-null  int64   \n",
      " 4   Model             72536 non-null  category\n",
      " 5   Kilometer         72536 non-null  int64   \n",
      " 6   FuelType          72536 non-null  category\n",
      " 7   Brand             72536 non-null  category\n",
      " 8   Repaired          72536 non-null  category\n",
      "dtypes: category(6), int64(3)\n",
      "memory usage: 2.2 MB\n"
     ]
    }
   ],
   "source": [
    "features_cat_test = features_test.copy()\n",
    "\n",
    "for column in cat_columns:\n",
    "    features_cat_test[column] = features_cat_test[column].astype('category')\n",
    "    \n",
    "features_cat_test = features_cat_test.reset_index(drop=True)\n",
    "features_cat_test.info()"
   ]
  },
  {
   "cell_type": "markdown",
   "metadata": {},
   "source": [
    "Помним, что модели нужно указать столбцы с категориальными признаками."
   ]
  },
  {
   "cell_type": "code",
   "execution_count": 49,
   "metadata": {},
   "outputs": [
    {
     "name": "stdout",
     "output_type": "stream",
     "text": [
      "Лучшая модель CatBoostRegressor\n",
      "{'learning_rate': 0.5, 'verbose': False}\n",
      "\n",
      "Лучший показатель RMSE CatBoostRegressor (кросс-валидация): -1556.4673235352602\n"
     ]
    }
   ],
   "source": [
    "cbr_model = CatBoostRegressor(cat_features=cat_columns, random_state=12345) \n",
    "hyperparams = [{'learning_rate':[0.1, 0.5, 0.8],\n",
    "                'verbose':[False]}]\n",
    "\n",
    "clf = GridSearchCV(cbr_model, hyperparams, scoring='neg_root_mean_squared_error')\n",
    "clf.fit(features_train, target_train)\n",
    "\n",
    "cbr_nocode_model = clf.best_estimator_\n",
    "cbr_nocode_params = clf.best_params_\n",
    "cbr_nocode_rmse = clf.best_score_\n",
    "\n",
    "print(f'Лучшая модель CatBoostRegressor')\n",
    "print(cbr_nocode_params)\n",
    "print()\n",
    "print(f'Лучший показатель RMSE CatBoostRegressor (кросс-валидация): {cbr_nocode_rmse}')"
   ]
  },
  {
   "cell_type": "markdown",
   "metadata": {},
   "source": [
    "Как видим, точность незначительно ухудшилась. CatBoostRegressor отлично работает и на некодированных признаках"
   ]
  },
  {
   "cell_type": "markdown",
   "metadata": {},
   "source": [
    "### LGBMRegressor"
   ]
  },
  {
   "cell_type": "markdown",
   "metadata": {},
   "source": [
    "#### LGBMRegressor на OHE-признаках"
   ]
  },
  {
   "cell_type": "code",
   "execution_count": 50,
   "metadata": {},
   "outputs": [
    {
     "name": "stdout",
     "output_type": "stream",
     "text": [
      "Лучшая модель LGBMRegressor\n",
      "LGBMRegressor(learning_rate=0.3, num_leaves=200, random_state=12345)\n",
      "\n",
      "Лучший показатель RMSE LGBMRegressor (кросс-валидация): -1531.3584733738778\n"
     ]
    }
   ],
   "source": [
    "lgbmr_model = LGBMRegressor(random_state=12345)\n",
    "hyperparams = [{'num_leaves':[31, 100, 200], \n",
    "                'learning_rate':[0.1, 0.3, 0.5]}]\n",
    "\n",
    "clf = GridSearchCV(lgbmr_model, hyperparams, scoring='neg_root_mean_squared_error')\n",
    "clf.fit(ohe_features_train, target_train)\n",
    "\n",
    "lgbmr_ohe_model = clf.best_estimator_\n",
    "lgbmr_ohe_rmse = clf.best_score_\n",
    "\n",
    "print(f'Лучшая модель LGBMRegressor')\n",
    "print(lgbmr_ohe_model)\n",
    "print()\n",
    "print(f'Лучший показатель RMSE LGBMRegressor (кросс-валидация): {lgbmr_ohe_rmse}')"
   ]
  },
  {
   "cell_type": "markdown",
   "metadata": {},
   "source": [
    "Пока лучший результат. Как с нормализацией?"
   ]
  },
  {
   "cell_type": "markdown",
   "metadata": {},
   "source": [
    "#### LGBMRegressor на масштабированных признаках"
   ]
  },
  {
   "cell_type": "code",
   "execution_count": 51,
   "metadata": {
    "scrolled": true
   },
   "outputs": [
    {
     "name": "stdout",
     "output_type": "stream",
     "text": [
      "Лучшая модель LGBMRegressor\n",
      "LGBMRegressor(learning_rate=0.3, num_leaves=200, random_state=12345)\n",
      "\n",
      "Лучший показатель RMSE LGBMRegressor (кросс-валидация): -1533.326790780193\n"
     ]
    }
   ],
   "source": [
    "lgbmr_model = LGBMRegressor(random_state=12345)\n",
    "hyperparams = [{'num_leaves':[31, 100, 200], \n",
    "                'learning_rate':[0.1, 0.3, 0.5]}]\n",
    "\n",
    "clf = GridSearchCV(lgbmr_model, hyperparams, scoring='neg_root_mean_squared_error')\n",
    "clf.fit(scaled_features_train, target_train)\n",
    "\n",
    "lgbmr_scaled_model = clf.best_estimator_\n",
    "lgbmr_scaled_rmse = clf.best_score_\n",
    "\n",
    "print(f'Лучшая модель LGBMRegressor')\n",
    "print(lgbmr_scaled_model)\n",
    "print()\n",
    "print(f'Лучший показатель RMSE LGBMRegressor (кросс-валидация): {lgbmr_scaled_rmse}')"
   ]
  },
  {
   "cell_type": "markdown",
   "metadata": {},
   "source": [
    "Масштабирование кардинально не повлияло на результат. Он стал чуть хуже, но очень незначительно."
   ]
  },
  {
   "cell_type": "markdown",
   "metadata": {},
   "source": [
    "#### LGBMRegressor на некодированных признаках"
   ]
  },
  {
   "cell_type": "code",
   "execution_count": 52,
   "metadata": {},
   "outputs": [
    {
     "name": "stdout",
     "output_type": "stream",
     "text": [
      "Лучшая модель LGBMRegressor\n",
      "LGBMRegressor(num_leaves=200, random_state=12345)\n",
      "\n",
      "Лучший показатель RMSE LGBMRegressor (кросс-валидация): -1517.6441155407006\n"
     ]
    }
   ],
   "source": [
    "lgbmr_model = LGBMRegressor(random_state=12345)\n",
    "hyperparams = [{'num_leaves':[31, 100, 200], \n",
    "                'learning_rate':[0.1, 0.3, 0.5]}]\n",
    "\n",
    "clf = GridSearchCV(lgbmr_model, hyperparams, scoring='neg_root_mean_squared_error')\n",
    "clf.fit(features_cat_train, target_train)\n",
    "\n",
    "lgbmr_nocode_model = clf.best_estimator_\n",
    "lgbmr_nocode_rmse = clf.best_score_\n",
    "\n",
    "print(f'Лучшая модель LGBMRegressor')\n",
    "print(lgbmr_nocode_model)\n",
    "print()\n",
    "print(f'Лучший показатель RMSE LGBMRegressor (кросс-валидация): {lgbmr_nocode_rmse}')"
   ]
  },
  {
   "cell_type": "markdown",
   "metadata": {},
   "source": [
    "#### Итоги подбора гиперпараметров моделей"
   ]
  },
  {
   "cell_type": "markdown",
   "metadata": {},
   "source": [
    "Соберем RMSE в таблицу для удобства сравнения"
   ]
  },
  {
   "cell_type": "code",
   "execution_count": 53,
   "metadata": {},
   "outputs": [
    {
     "data": {
      "text/html": [
       "<div>\n",
       "<style scoped>\n",
       "    .dataframe tbody tr th:only-of-type {\n",
       "        vertical-align: middle;\n",
       "    }\n",
       "\n",
       "    .dataframe tbody tr th {\n",
       "        vertical-align: top;\n",
       "    }\n",
       "\n",
       "    .dataframe thead th {\n",
       "        text-align: right;\n",
       "    }\n",
       "</style>\n",
       "<table border=\"1\" class=\"dataframe\">\n",
       "  <thead>\n",
       "    <tr style=\"text-align: right;\">\n",
       "      <th></th>\n",
       "      <th>Модель</th>\n",
       "      <th>NoCode</th>\n",
       "      <th>OHE</th>\n",
       "      <th>OHE norm</th>\n",
       "    </tr>\n",
       "  </thead>\n",
       "  <tbody>\n",
       "    <tr>\n",
       "      <th>0</th>\n",
       "      <td>LinearRegression</td>\n",
       "      <td>-</td>\n",
       "      <td>-2566.030000</td>\n",
       "      <td>-2566.030000</td>\n",
       "    </tr>\n",
       "    <tr>\n",
       "      <th>1</th>\n",
       "      <td>DecisionTreeRegressor</td>\n",
       "      <td>-</td>\n",
       "      <td>-1818.543070</td>\n",
       "      <td>-1817.452558</td>\n",
       "    </tr>\n",
       "    <tr>\n",
       "      <th>2</th>\n",
       "      <td>CatBoostRegressor</td>\n",
       "      <td>-1556.467324</td>\n",
       "      <td>-1534.667657</td>\n",
       "      <td>-1534.667657</td>\n",
       "    </tr>\n",
       "    <tr>\n",
       "      <th>3</th>\n",
       "      <td>LGBMRegressor</td>\n",
       "      <td>-1517.644116</td>\n",
       "      <td>-1531.358473</td>\n",
       "      <td>-1533.326791</td>\n",
       "    </tr>\n",
       "  </tbody>\n",
       "</table>\n",
       "</div>"
      ],
      "text/plain": [
       "                  Модель       NoCode          OHE     OHE norm\n",
       "0       LinearRegression            - -2566.030000 -2566.030000\n",
       "1  DecisionTreeRegressor            - -1818.543070 -1817.452558\n",
       "2      CatBoostRegressor -1556.467324 -1534.667657 -1534.667657\n",
       "3          LGBMRegressor -1517.644116 -1531.358473 -1533.326791"
      ]
     },
     "metadata": {},
     "output_type": "display_data"
    }
   ],
   "source": [
    "model_choose = pd.DataFrame({'Модель':['LinearRegression', 'DecisionTreeRegressor', 'CatBoostRegressor', 'LGBMRegressor'],\n",
    "                             'NoCode':['-', '-', cbr_nocode_rmse, lgbmr_nocode_rmse],\n",
    "                            'OHE':[lr_ohe_rmse, dtr_ohe_rmse, cbr_ohe_rmse, lgbmr_ohe_rmse],\n",
    "                            'OHE norm':[lr_scaled_rmse, dtr_scaled_rmse, cbr_scaled_rmse, lgbmr_scaled_rmse]})\n",
    "\n",
    "display(model_choose)"
   ]
  },
  {
   "cell_type": "markdown",
   "metadata": {},
   "source": [
    "На этапе выбора наилучшей модели видим, что линейная регрессия не попадает под заданные параметры по RMSE, а вот решающее дерево и особенно модели градиентного бустинга дают качество с запасом. Более того, выявили, что нормализация значимого выигрыша в точности не даёт, поэтому анализировать время работы моделей будем только на OHE-признаках для DTR и CBR, и на некодированных признаках для LGBMR, т.к. при подборе параметров на этих данных получено лучшее значение RMSE."
   ]
  },
  {
   "cell_type": "markdown",
   "metadata": {},
   "source": [
    "## Анализ времени работы моделей"
   ]
  },
  {
   "cell_type": "markdown",
   "metadata": {},
   "source": [
    "Проанализируем три модели DecisionTreeRegressor, CatBoostRegressor, LGBMRegressor, измерив время обучения и предсказания.\n",
    "\n",
    "Для этого напишем функцию, принимающую на вход используемую модель и выборки для обучения и предсказания. На её выходе получим время этих операций."
   ]
  },
  {
   "cell_type": "code",
   "execution_count": 54,
   "metadata": {},
   "outputs": [],
   "source": [
    "def time_test(model, features_train, target_train):\n",
    "    print('Начинаем обучение')\n",
    "    start_fit = time.time() # начинаем измерять время\n",
    "    \n",
    "    model.fit(features_train, target_train)\n",
    "\n",
    "    end_fit = time.time() # заканчиваем измерять время\n",
    "    fit_time = end_fit - start_fit # считаем длительность\n",
    "\n",
    "    print(f'Обучение завершено. Время обучения: {fit_time}')\n",
    "\n",
    "    print('Начинаем предсказывать')\n",
    "    start_pred = time.time()\n",
    "\n",
    "    prediction = model.predict(features_train)\n",
    "\n",
    "    end_pred = time.time()\n",
    "    pred_time = end_pred - start_pred\n",
    "\n",
    "    print(f'Завершили предсказывать. Время предсказания: {pred_time}')\n",
    "\n",
    "    return fit_time, pred_time"
   ]
  },
  {
   "cell_type": "markdown",
   "metadata": {},
   "source": [
    "### DecisionTreeRegressor"
   ]
  },
  {
   "cell_type": "code",
   "execution_count": 63,
   "metadata": {},
   "outputs": [
    {
     "name": "stdout",
     "output_type": "stream",
     "text": [
      "Начинаем обучение\n",
      "Обучение завершено. Время обучения: 5.756059885025024\n",
      "Начинаем предсказывать\n",
      "Завершили предсказывать. Время предсказания: 0.24727797508239746\n"
     ]
    }
   ],
   "source": [
    "dtr_ohe_fit_time, dtr_ohe_pred_time = time_test(dtr_ohe_model, \n",
    "                                                ohe_features_train, \n",
    "                                                target_train)"
   ]
  },
  {
   "cell_type": "markdown",
   "metadata": {},
   "source": [
    "### CatBoostRegressor"
   ]
  },
  {
   "cell_type": "code",
   "execution_count": 56,
   "metadata": {},
   "outputs": [
    {
     "name": "stdout",
     "output_type": "stream",
     "text": [
      "Начинаем обучение\n",
      "Обучение завершено. Время обучения: 30.11642360687256\n",
      "Начинаем предсказывать\n",
      "Завершили предсказывать. Время предсказания: 0.48131585121154785\n"
     ]
    }
   ],
   "source": [
    "cbr_ohe_fit_time, cbr_ohe_pred_time = time_test(cbr_ohe_model, \n",
    "                                                ohe_features_train, \n",
    "                                                target_train)"
   ]
  },
  {
   "cell_type": "markdown",
   "metadata": {},
   "source": [
    "### LGBMRegressor"
   ]
  },
  {
   "cell_type": "code",
   "execution_count": 57,
   "metadata": {},
   "outputs": [
    {
     "name": "stdout",
     "output_type": "stream",
     "text": [
      "Начинаем обучение\n",
      "Обучение завершено. Время обучения: 24.8082172870636\n",
      "Начинаем предсказывать\n",
      "Завершили предсказывать. Время предсказания: 4.322117328643799\n"
     ]
    }
   ],
   "source": [
    "lgbmr_ohe_fit_time, lgbmr_ohe_pred_time = time_test(lgbmr_nocode_model, \n",
    "                                                    features_cat_train, \n",
    "                                                    target_train)"
   ]
  },
  {
   "cell_type": "markdown",
   "metadata": {},
   "source": [
    "### Итоги анализа времени работы"
   ]
  },
  {
   "cell_type": "markdown",
   "metadata": {},
   "source": [
    "Составим таблицу с результатами замеров времени"
   ]
  },
  {
   "cell_type": "code",
   "execution_count": 64,
   "metadata": {},
   "outputs": [
    {
     "data": {
      "text/html": [
       "<div>\n",
       "<style scoped>\n",
       "    .dataframe tbody tr th:only-of-type {\n",
       "        vertical-align: middle;\n",
       "    }\n",
       "\n",
       "    .dataframe tbody tr th {\n",
       "        vertical-align: top;\n",
       "    }\n",
       "\n",
       "    .dataframe thead th {\n",
       "        text-align: right;\n",
       "    }\n",
       "</style>\n",
       "<table border=\"1\" class=\"dataframe\">\n",
       "  <thead>\n",
       "    <tr style=\"text-align: right;\">\n",
       "      <th></th>\n",
       "      <th>Модель</th>\n",
       "      <th>Время обучения</th>\n",
       "      <th>Время предсказания</th>\n",
       "      <th>RMSE при подборе</th>\n",
       "    </tr>\n",
       "  </thead>\n",
       "  <tbody>\n",
       "    <tr>\n",
       "      <th>0</th>\n",
       "      <td>DecisionTreeRegressor</td>\n",
       "      <td>5.756060</td>\n",
       "      <td>0.247278</td>\n",
       "      <td>-1817.452558</td>\n",
       "    </tr>\n",
       "    <tr>\n",
       "      <th>1</th>\n",
       "      <td>CatBoostRegressor</td>\n",
       "      <td>30.116424</td>\n",
       "      <td>0.481316</td>\n",
       "      <td>-1534.667657</td>\n",
       "    </tr>\n",
       "    <tr>\n",
       "      <th>2</th>\n",
       "      <td>LGBMRegressor</td>\n",
       "      <td>24.808217</td>\n",
       "      <td>4.322117</td>\n",
       "      <td>-1517.644116</td>\n",
       "    </tr>\n",
       "  </tbody>\n",
       "</table>\n",
       "</div>"
      ],
      "text/plain": [
       "                  Модель  Время обучения  Время предсказания  RMSE при подборе\n",
       "0  DecisionTreeRegressor        5.756060            0.247278      -1817.452558\n",
       "1      CatBoostRegressor       30.116424            0.481316      -1534.667657\n",
       "2          LGBMRegressor       24.808217            4.322117      -1517.644116"
      ]
     },
     "metadata": {},
     "output_type": "display_data"
    }
   ],
   "source": [
    "model_conclusion = pd.DataFrame({'Модель':['DecisionTreeRegressor', 'CatBoostRegressor', 'LGBMRegressor'],\n",
    "                                'Время обучения':[dtr_ohe_fit_time, cbr_ohe_fit_time, lgbmr_ohe_fit_time],\n",
    "                                'Время предсказания':[dtr_ohe_pred_time, cbr_ohe_pred_time, lgbmr_ohe_pred_time],\n",
    "                                'RMSE при подборе':[dtr_scaled_rmse, cbr_ohe_rmse, lgbmr_nocode_rmse]})\n",
    "\n",
    "display(model_conclusion)"
   ]
  },
  {
   "cell_type": "markdown",
   "metadata": {},
   "source": [
    "- **Самая быстрообучающаяся модель:**  DecisionTreeRegressor\n",
    "- **Самая быстропредсказывающая модель:**  DecisionTreeRegressor\n",
    "- **Самая точная модель:**  LGBMRegressor\n",
    "\n",
    "- **Самая медленнообучающаяся модель:**  CatBoostRegressor\n",
    "- **Самая медленнопредсказывающая модель:**  LGBMRegressor\n",
    "- **Самая точная модель:**  LGBMRegressor\n",
    "\n",
    "В плане точности все три модели подходят под изначально заданный **критерий по RMSE - ниже 2500**\n",
    "\n",
    "**Рекомендовал бы** заказчику использовать **CatBoostRegressor** на ohe признаках, т.к. при подборе параметров и анализе она показала **скорость предсказания и точность на уровне максимальных**, а время обучения не так уж и важно для пользователя приложения, ему важен мгновенный ответ. У LGBMRegressor время предсказания сильно хромает, поэтому выбор не в пользу этой модели."
   ]
  },
  {
   "cell_type": "markdown",
   "metadata": {},
   "source": [
    "## Тест точности лучшей модели"
   ]
  },
  {
   "cell_type": "code",
   "execution_count": 66,
   "metadata": {},
   "outputs": [
    {
     "name": "stdout",
     "output_type": "stream",
     "text": [
      "RMSE лучшей модели CatBoostRegressor на тесте: 1516.2665056064177\n"
     ]
    }
   ],
   "source": [
    "prediction = cbr_ohe_model.predict(ohe_features_test)\n",
    "rmse_test = mean_squared_error(target_test, prediction, squared=False)\n",
    "\n",
    "print(f'RMSE лучшей модели CatBoostRegressor на тесте: {rmse_test}')"
   ]
  },
  {
   "cell_type": "markdown",
   "metadata": {},
   "source": [
    "## Общий итог"
   ]
  },
  {
   "cell_type": "markdown",
   "metadata": {},
   "source": [
    "**В ходе подготовки данных:**\n",
    "\n",
    "Удалены неважные для оценки стоимости автомобиля столбцы: `DateCrawled`, `RegistrationMonth`, `DateCreated`, `NumberOfPictures`, `PostalCode`, `LastSeen`\n",
    "\n",
    "Пропуски в столбцах `VehicleType`, `Gearbox`, `Model`, `FuelType`, `Repaired` заполнены самым популярным значением, причём в столбцах `VehicleType`, `FuelType` это сделано с учетом бренда\n",
    "\n",
    "Удалены выбросы в столбцах `Price`, `RegistrationYear`, `Power`, и оставили в датасете 82% исходных адекватных данных.\n",
    "\n",
    "Подготовилены признаки для обучения и анализа работы моделей, формированием трех датасетов: исходного, кодированного OHE и масштабированного OHE\n",
    "\n",
    "**В ходе подбора гиперпараметров:**\n",
    "\n",
    "Получили следующие результаты по точности:"
   ]
  },
  {
   "cell_type": "code",
   "execution_count": 60,
   "metadata": {},
   "outputs": [
    {
     "data": {
      "text/html": [
       "<div>\n",
       "<style scoped>\n",
       "    .dataframe tbody tr th:only-of-type {\n",
       "        vertical-align: middle;\n",
       "    }\n",
       "\n",
       "    .dataframe tbody tr th {\n",
       "        vertical-align: top;\n",
       "    }\n",
       "\n",
       "    .dataframe thead th {\n",
       "        text-align: right;\n",
       "    }\n",
       "</style>\n",
       "<table border=\"1\" class=\"dataframe\">\n",
       "  <thead>\n",
       "    <tr style=\"text-align: right;\">\n",
       "      <th></th>\n",
       "      <th>Модель</th>\n",
       "      <th>NoCode</th>\n",
       "      <th>OHE</th>\n",
       "      <th>OHE norm</th>\n",
       "    </tr>\n",
       "  </thead>\n",
       "  <tbody>\n",
       "    <tr>\n",
       "      <th>0</th>\n",
       "      <td>LinearRegression</td>\n",
       "      <td>-</td>\n",
       "      <td>-2566.030000</td>\n",
       "      <td>-2566.030000</td>\n",
       "    </tr>\n",
       "    <tr>\n",
       "      <th>1</th>\n",
       "      <td>DecisionTreeRegressor</td>\n",
       "      <td>-</td>\n",
       "      <td>-1818.543070</td>\n",
       "      <td>-1817.452558</td>\n",
       "    </tr>\n",
       "    <tr>\n",
       "      <th>2</th>\n",
       "      <td>CatBoostRegressor</td>\n",
       "      <td>-1556.467324</td>\n",
       "      <td>-1534.667657</td>\n",
       "      <td>-1534.667657</td>\n",
       "    </tr>\n",
       "    <tr>\n",
       "      <th>3</th>\n",
       "      <td>LGBMRegressor</td>\n",
       "      <td>-1517.644116</td>\n",
       "      <td>-1531.358473</td>\n",
       "      <td>-1533.326791</td>\n",
       "    </tr>\n",
       "  </tbody>\n",
       "</table>\n",
       "</div>"
      ],
      "text/plain": [
       "                  Модель       NoCode          OHE     OHE norm\n",
       "0       LinearRegression            - -2566.030000 -2566.030000\n",
       "1  DecisionTreeRegressor            - -1818.543070 -1817.452558\n",
       "2      CatBoostRegressor -1556.467324 -1534.667657 -1534.667657\n",
       "3          LGBMRegressor -1517.644116 -1531.358473 -1533.326791"
      ]
     },
     "metadata": {},
     "output_type": "display_data"
    }
   ],
   "source": [
    "display(model_choose)"
   ]
  },
  {
   "cell_type": "markdown",
   "metadata": {},
   "source": [
    "Выяснили, что линейная регрессия не попадает под заданные параметры по RMSE, а вот решающее дерево и особенно модели градиентного бустинга дают качество с запасом. Также выявили, что нормализация значимого выигрыша в точности не даёт, поэтому анализировали время работы моделей только на OHE-признаках для DTR и CBR, и на некодированных признаках для LGBMR, т.к. при подборе параметров на этих данных получено лучшее значение RMSE.\n",
    "\n",
    "В ходе **анализа времени обучения и предсказания** на тестовой выборке получены следующие результаты:"
   ]
  },
  {
   "cell_type": "code",
   "execution_count": 67,
   "metadata": {},
   "outputs": [
    {
     "data": {
      "text/html": [
       "<div>\n",
       "<style scoped>\n",
       "    .dataframe tbody tr th:only-of-type {\n",
       "        vertical-align: middle;\n",
       "    }\n",
       "\n",
       "    .dataframe tbody tr th {\n",
       "        vertical-align: top;\n",
       "    }\n",
       "\n",
       "    .dataframe thead th {\n",
       "        text-align: right;\n",
       "    }\n",
       "</style>\n",
       "<table border=\"1\" class=\"dataframe\">\n",
       "  <thead>\n",
       "    <tr style=\"text-align: right;\">\n",
       "      <th></th>\n",
       "      <th>Модель</th>\n",
       "      <th>Время обучения</th>\n",
       "      <th>Время предсказания</th>\n",
       "      <th>RMSE при подборе</th>\n",
       "    </tr>\n",
       "  </thead>\n",
       "  <tbody>\n",
       "    <tr>\n",
       "      <th>0</th>\n",
       "      <td>DecisionTreeRegressor</td>\n",
       "      <td>5.756060</td>\n",
       "      <td>0.247278</td>\n",
       "      <td>-1817.452558</td>\n",
       "    </tr>\n",
       "    <tr>\n",
       "      <th>1</th>\n",
       "      <td>CatBoostRegressor</td>\n",
       "      <td>30.116424</td>\n",
       "      <td>0.481316</td>\n",
       "      <td>-1534.667657</td>\n",
       "    </tr>\n",
       "    <tr>\n",
       "      <th>2</th>\n",
       "      <td>LGBMRegressor</td>\n",
       "      <td>24.808217</td>\n",
       "      <td>4.322117</td>\n",
       "      <td>-1517.644116</td>\n",
       "    </tr>\n",
       "  </tbody>\n",
       "</table>\n",
       "</div>"
      ],
      "text/plain": [
       "                  Модель  Время обучения  Время предсказания  RMSE при подборе\n",
       "0  DecisionTreeRegressor        5.756060            0.247278      -1817.452558\n",
       "1      CatBoostRegressor       30.116424            0.481316      -1534.667657\n",
       "2          LGBMRegressor       24.808217            4.322117      -1517.644116"
      ]
     },
     "metadata": {},
     "output_type": "display_data"
    },
    {
     "name": "stdout",
     "output_type": "stream",
     "text": [
      "RMSE лучшей модели CatBoostRegressor на тесте: 1516.2665056064177\n"
     ]
    }
   ],
   "source": [
    "display(model_conclusion)\n",
    "\n",
    "print(f'RMSE лучшей модели CatBoostRegressor на тесте: {rmse_test}')"
   ]
  },
  {
   "cell_type": "markdown",
   "metadata": {},
   "source": [
    "На основе этих данных, **рекомендовал бы** заказчику использовать **CatBoostRegressor** на ohe признаках, т.к. при подборе параметров и анализе она показала **скорость предсказания и точность на уровне максимальных**, а время обучения не так уж и важно для пользователя приложения, ему важен мгновенный ответ. У LGBMRegressor время предсказания сильно хромает, поэтому выбор не в пользу этой модели.\n",
    "\n",
    "**RMSE на тесте: 1516**\n",
    "\n",
    "**Цель достигнута**"
   ]
  },
  {
   "cell_type": "markdown",
   "metadata": {},
   "source": [
    "## Чек-лист проверки"
   ]
  },
  {
   "cell_type": "markdown",
   "metadata": {},
   "source": [
    "Поставьте 'x' в выполненных пунктах. Далее нажмите Shift+Enter."
   ]
  },
  {
   "cell_type": "markdown",
   "metadata": {},
   "source": [
    "- [x]  Jupyter Notebook открыт\n",
    "- [x]  Весь код выполняется без ошибок\n",
    "- [x]  Ячейки с кодом расположены в порядке исполнения\n",
    "- [x]  Выполнена загрузка и подготовка данных\n",
    "- [x]  Выполнено обучение моделей\n",
    "- [x]  Есть анализ скорости работы и качества моделей"
   ]
  }
 ],
 "metadata": {
  "ExecuteTimeLog": [
   {
    "duration": 1577,
    "start_time": "2022-11-23T03:03:19.547Z"
   },
   {
    "duration": 1066,
    "start_time": "2022-11-23T03:03:22.816Z"
   },
   {
    "duration": 4,
    "start_time": "2022-11-23T03:14:06.478Z"
   },
   {
    "duration": 1111,
    "start_time": "2022-11-23T03:14:06.815Z"
   },
   {
    "duration": 132,
    "start_time": "2022-11-23T03:14:07.928Z"
   },
   {
    "duration": 131,
    "start_time": "2022-11-23T03:14:08.062Z"
   },
   {
    "duration": 23,
    "start_time": "2022-11-23T03:14:08.258Z"
   },
   {
    "duration": 63,
    "start_time": "2022-11-23T03:14:08.570Z"
   },
   {
    "duration": 36,
    "start_time": "2022-11-23T03:14:11.048Z"
   },
   {
    "duration": 109,
    "start_time": "2022-11-23T03:14:11.349Z"
   },
   {
    "duration": 5,
    "start_time": "2022-11-23T03:14:11.736Z"
   },
   {
    "duration": 20,
    "start_time": "2022-11-23T03:14:12.059Z"
   },
   {
    "duration": 5299,
    "start_time": "2022-11-23T03:14:12.370Z"
   },
   {
    "duration": 33,
    "start_time": "2022-11-23T03:14:17.671Z"
   },
   {
    "duration": 66,
    "start_time": "2022-11-23T03:14:17.705Z"
   },
   {
    "duration": 34,
    "start_time": "2022-11-23T03:14:17.773Z"
   },
   {
    "duration": 69,
    "start_time": "2022-11-23T03:14:17.809Z"
   },
   {
    "duration": 34,
    "start_time": "2022-11-23T03:14:17.880Z"
   },
   {
    "duration": 100,
    "start_time": "2022-11-23T03:14:17.916Z"
   },
   {
    "duration": 5089,
    "start_time": "2022-11-23T03:14:18.018Z"
   },
   {
    "duration": 35,
    "start_time": "2022-11-23T03:14:23.110Z"
   },
   {
    "duration": 64,
    "start_time": "2022-11-23T03:14:23.146Z"
   },
   {
    "duration": 99,
    "start_time": "2022-11-23T03:14:23.212Z"
   },
   {
    "duration": 371,
    "start_time": "2022-11-23T03:14:23.313Z"
   },
   {
    "duration": 22,
    "start_time": "2022-11-23T03:14:23.686Z"
   },
   {
    "duration": 41,
    "start_time": "2022-11-23T03:14:23.709Z"
   },
   {
    "duration": 4,
    "start_time": "2022-11-23T03:14:23.752Z"
   },
   {
    "duration": 361,
    "start_time": "2022-11-23T03:14:23.758Z"
   },
   {
    "duration": 278,
    "start_time": "2022-11-23T03:14:24.121Z"
   },
   {
    "duration": 24,
    "start_time": "2022-11-23T03:14:24.469Z"
   },
   {
    "duration": 5,
    "start_time": "2022-11-23T03:14:24.618Z"
   },
   {
    "duration": 278,
    "start_time": "2022-11-23T03:14:25.099Z"
   },
   {
    "duration": 304,
    "start_time": "2022-11-23T03:14:25.415Z"
   },
   {
    "duration": 23,
    "start_time": "2022-11-23T03:14:25.748Z"
   },
   {
    "duration": 5,
    "start_time": "2022-11-23T03:14:25.897Z"
   },
   {
    "duration": 324,
    "start_time": "2022-11-23T03:14:26.392Z"
   },
   {
    "duration": 105,
    "start_time": "2022-11-23T03:14:30.318Z"
   },
   {
    "duration": 51,
    "start_time": "2022-11-23T03:14:31.143Z"
   },
   {
    "duration": 1856,
    "start_time": "2022-11-23T13:16:34.962Z"
   },
   {
    "duration": 1151,
    "start_time": "2022-11-23T13:16:36.821Z"
   },
   {
    "duration": 137,
    "start_time": "2022-11-23T13:16:37.974Z"
   },
   {
    "duration": 143,
    "start_time": "2022-11-23T13:16:38.113Z"
   },
   {
    "duration": 23,
    "start_time": "2022-11-23T13:16:38.259Z"
   },
   {
    "duration": 77,
    "start_time": "2022-11-23T13:16:38.284Z"
   },
   {
    "duration": 36,
    "start_time": "2022-11-23T13:16:38.363Z"
   },
   {
    "duration": 145,
    "start_time": "2022-11-23T13:16:38.402Z"
   },
   {
    "duration": 5,
    "start_time": "2022-11-23T13:16:38.549Z"
   },
   {
    "duration": 62,
    "start_time": "2022-11-23T13:16:38.556Z"
   },
   {
    "duration": 5221,
    "start_time": "2022-11-23T13:16:38.621Z"
   },
   {
    "duration": 34,
    "start_time": "2022-11-23T13:16:43.844Z"
   },
   {
    "duration": 69,
    "start_time": "2022-11-23T13:16:43.880Z"
   },
   {
    "duration": 35,
    "start_time": "2022-11-23T13:16:43.952Z"
   },
   {
    "duration": 70,
    "start_time": "2022-11-23T13:16:43.988Z"
   },
   {
    "duration": 33,
    "start_time": "2022-11-23T13:16:44.059Z"
   },
   {
    "duration": 105,
    "start_time": "2022-11-23T13:16:44.094Z"
   },
   {
    "duration": 4936,
    "start_time": "2022-11-23T13:16:44.200Z"
   },
   {
    "duration": 1007,
    "start_time": "2022-11-23T13:16:49.138Z"
   },
   {
    "duration": 0,
    "start_time": "2022-11-23T13:16:50.146Z"
   },
   {
    "duration": 0,
    "start_time": "2022-11-23T13:16:50.148Z"
   },
   {
    "duration": 0,
    "start_time": "2022-11-23T13:16:50.149Z"
   },
   {
    "duration": 87,
    "start_time": "2022-11-23T13:18:18.391Z"
   },
   {
    "duration": 32,
    "start_time": "2022-11-23T13:18:43.881Z"
   },
   {
    "duration": 933,
    "start_time": "2022-11-23T13:19:02.031Z"
   },
   {
    "duration": 49,
    "start_time": "2022-11-23T13:19:08.051Z"
   },
   {
    "duration": 85,
    "start_time": "2022-11-23T13:20:35.639Z"
   },
   {
    "duration": 404,
    "start_time": "2022-11-23T13:20:42.392Z"
   },
   {
    "duration": 351,
    "start_time": "2022-11-23T13:20:53.851Z"
   },
   {
    "duration": 200,
    "start_time": "2022-11-23T13:21:38.841Z"
   },
   {
    "duration": 220,
    "start_time": "2022-11-23T13:24:46.092Z"
   },
   {
    "duration": 224,
    "start_time": "2022-11-23T13:25:13.621Z"
   },
   {
    "duration": 174,
    "start_time": "2022-11-23T13:29:48.372Z"
   },
   {
    "duration": 171,
    "start_time": "2022-11-23T13:30:14.447Z"
   },
   {
    "duration": 205,
    "start_time": "2022-11-23T13:30:31.693Z"
   },
   {
    "duration": 209,
    "start_time": "2022-11-23T13:30:40.075Z"
   },
   {
    "duration": 26,
    "start_time": "2022-11-23T13:37:27.622Z"
   },
   {
    "duration": 5,
    "start_time": "2022-11-23T13:37:30.652Z"
   },
   {
    "duration": 291,
    "start_time": "2022-11-23T13:40:22.212Z"
   },
   {
    "duration": 380,
    "start_time": "2022-11-23T13:40:30.075Z"
   },
   {
    "duration": 24,
    "start_time": "2022-11-23T13:40:53.602Z"
   },
   {
    "duration": 5,
    "start_time": "2022-11-23T13:40:58.602Z"
   },
   {
    "duration": 284,
    "start_time": "2022-11-23T13:41:50.372Z"
   },
   {
    "duration": 329,
    "start_time": "2022-11-23T13:42:05.182Z"
   },
   {
    "duration": 27,
    "start_time": "2022-11-23T13:42:21.383Z"
   },
   {
    "duration": 5,
    "start_time": "2022-11-23T13:42:25.752Z"
   },
   {
    "duration": 287,
    "start_time": "2022-11-23T13:43:51.250Z"
   },
   {
    "duration": 81,
    "start_time": "2022-11-23T13:44:00.352Z"
   },
   {
    "duration": 49,
    "start_time": "2022-11-23T13:44:31.151Z"
   },
   {
    "duration": 4,
    "start_time": "2022-11-23T16:43:48.393Z"
   },
   {
    "duration": 74,
    "start_time": "2022-11-23T16:46:45.958Z"
   },
   {
    "duration": 20,
    "start_time": "2022-11-23T17:03:06.141Z"
   },
   {
    "duration": 15,
    "start_time": "2022-11-23T17:12:29.294Z"
   },
   {
    "duration": 393,
    "start_time": "2022-11-23T17:14:13.861Z"
   },
   {
    "duration": 1042,
    "start_time": "2022-11-23T17:14:41.801Z"
   },
   {
    "duration": 1040,
    "start_time": "2022-11-23T17:21:33.005Z"
   },
   {
    "duration": 14,
    "start_time": "2022-11-23T17:23:25.477Z"
   },
   {
    "duration": 156,
    "start_time": "2022-11-23T17:28:52.311Z"
   },
   {
    "duration": 18,
    "start_time": "2022-11-23T17:29:44.477Z"
   },
   {
    "duration": 4,
    "start_time": "2022-11-23T17:41:50.504Z"
   },
   {
    "duration": 36,
    "start_time": "2022-11-23T17:42:02.736Z"
   },
   {
    "duration": 48915,
    "start_time": "2022-11-23T17:42:40.010Z"
   },
   {
    "duration": 431,
    "start_time": "2022-11-23T17:45:12.007Z"
   },
   {
    "duration": 465,
    "start_time": "2022-11-23T17:45:49.206Z"
   },
   {
    "duration": 56,
    "start_time": "2022-11-23T17:46:12.177Z"
   },
   {
    "duration": 1534,
    "start_time": "2022-11-23T17:46:19.449Z"
   },
   {
    "duration": 1216,
    "start_time": "2022-11-23T17:46:20.986Z"
   },
   {
    "duration": 140,
    "start_time": "2022-11-23T17:46:22.204Z"
   },
   {
    "duration": 183,
    "start_time": "2022-11-23T17:46:22.347Z"
   },
   {
    "duration": 27,
    "start_time": "2022-11-23T17:46:22.536Z"
   },
   {
    "duration": 82,
    "start_time": "2022-11-23T17:46:22.565Z"
   },
   {
    "duration": 49,
    "start_time": "2022-11-23T17:46:22.650Z"
   },
   {
    "duration": 180,
    "start_time": "2022-11-23T17:46:22.704Z"
   },
   {
    "duration": 6,
    "start_time": "2022-11-23T17:46:22.885Z"
   },
   {
    "duration": 50,
    "start_time": "2022-11-23T17:46:22.893Z"
   },
   {
    "duration": 5130,
    "start_time": "2022-11-23T17:46:22.945Z"
   },
   {
    "duration": 35,
    "start_time": "2022-11-23T17:46:28.077Z"
   },
   {
    "duration": 69,
    "start_time": "2022-11-23T17:46:28.113Z"
   },
   {
    "duration": 38,
    "start_time": "2022-11-23T17:46:28.184Z"
   },
   {
    "duration": 56,
    "start_time": "2022-11-23T17:46:28.236Z"
   },
   {
    "duration": 50,
    "start_time": "2022-11-23T17:46:28.294Z"
   },
   {
    "duration": 89,
    "start_time": "2022-11-23T17:46:28.349Z"
   },
   {
    "duration": 5818,
    "start_time": "2022-11-23T17:46:28.440Z"
   },
   {
    "duration": 108,
    "start_time": "2022-11-23T17:46:34.260Z"
   },
   {
    "duration": 246,
    "start_time": "2022-11-23T17:46:34.370Z"
   },
   {
    "duration": 81,
    "start_time": "2022-11-23T17:46:34.618Z"
   },
   {
    "duration": 85,
    "start_time": "2022-11-23T17:46:34.701Z"
   },
   {
    "duration": 367,
    "start_time": "2022-11-23T17:46:34.787Z"
   },
   {
    "duration": 237,
    "start_time": "2022-11-23T17:46:35.156Z"
   },
   {
    "duration": 40,
    "start_time": "2022-11-23T17:46:35.395Z"
   },
   {
    "duration": 5,
    "start_time": "2022-11-23T17:46:35.437Z"
   },
   {
    "duration": 391,
    "start_time": "2022-11-23T17:46:35.444Z"
   },
   {
    "duration": 324,
    "start_time": "2022-11-23T17:46:35.839Z"
   },
   {
    "duration": 31,
    "start_time": "2022-11-23T17:46:36.165Z"
   },
   {
    "duration": 19,
    "start_time": "2022-11-23T17:46:36.198Z"
   },
   {
    "duration": 298,
    "start_time": "2022-11-23T17:46:36.218Z"
   },
   {
    "duration": 323,
    "start_time": "2022-11-23T17:46:36.517Z"
   },
   {
    "duration": 24,
    "start_time": "2022-11-23T17:46:36.841Z"
   },
   {
    "duration": 5,
    "start_time": "2022-11-23T17:46:36.867Z"
   },
   {
    "duration": 315,
    "start_time": "2022-11-23T17:46:36.874Z"
   },
   {
    "duration": 102,
    "start_time": "2022-11-23T17:46:37.192Z"
   },
   {
    "duration": 58,
    "start_time": "2022-11-23T17:46:37.296Z"
   },
   {
    "duration": 94,
    "start_time": "2022-11-23T17:46:37.356Z"
   },
   {
    "duration": 107,
    "start_time": "2022-11-23T17:46:37.452Z"
   },
   {
    "duration": 4034,
    "start_time": "2022-11-23T17:46:37.561Z"
   },
   {
    "duration": 74,
    "start_time": "2022-11-23T17:47:12.277Z"
   },
   {
    "duration": 1836,
    "start_time": "2022-11-23T17:47:17.638Z"
   },
   {
    "duration": 1474,
    "start_time": "2022-11-23T17:47:19.477Z"
   },
   {
    "duration": 155,
    "start_time": "2022-11-23T17:47:20.952Z"
   },
   {
    "duration": 161,
    "start_time": "2022-11-23T17:47:21.109Z"
   },
   {
    "duration": 33,
    "start_time": "2022-11-23T17:47:21.273Z"
   },
   {
    "duration": 90,
    "start_time": "2022-11-23T17:47:21.308Z"
   },
   {
    "duration": 67,
    "start_time": "2022-11-23T17:47:21.400Z"
   },
   {
    "duration": 195,
    "start_time": "2022-11-23T17:47:21.470Z"
   },
   {
    "duration": 10,
    "start_time": "2022-11-23T17:47:21.667Z"
   },
   {
    "duration": 36,
    "start_time": "2022-11-23T17:47:21.679Z"
   },
   {
    "duration": 8067,
    "start_time": "2022-11-23T17:47:21.717Z"
   },
   {
    "duration": 69,
    "start_time": "2022-11-23T17:47:29.787Z"
   },
   {
    "duration": 113,
    "start_time": "2022-11-23T17:47:29.859Z"
   },
   {
    "duration": 68,
    "start_time": "2022-11-23T17:47:29.976Z"
   },
   {
    "duration": 110,
    "start_time": "2022-11-23T17:47:30.046Z"
   },
   {
    "duration": 62,
    "start_time": "2022-11-23T17:47:30.158Z"
   },
   {
    "duration": 151,
    "start_time": "2022-11-23T17:47:30.222Z"
   },
   {
    "duration": 5814,
    "start_time": "2022-11-23T17:47:30.374Z"
   },
   {
    "duration": 99,
    "start_time": "2022-11-23T17:47:36.190Z"
   },
   {
    "duration": 46,
    "start_time": "2022-11-23T17:47:36.291Z"
   },
   {
    "duration": 53,
    "start_time": "2022-11-23T17:47:36.339Z"
   },
   {
    "duration": 111,
    "start_time": "2022-11-23T17:47:36.393Z"
   },
   {
    "duration": 436,
    "start_time": "2022-11-23T17:47:36.506Z"
   },
   {
    "duration": 265,
    "start_time": "2022-11-23T17:47:36.944Z"
   },
   {
    "duration": 42,
    "start_time": "2022-11-23T17:47:37.211Z"
   },
   {
    "duration": 6,
    "start_time": "2022-11-23T17:47:37.255Z"
   },
   {
    "duration": 388,
    "start_time": "2022-11-23T17:47:37.263Z"
   },
   {
    "duration": 437,
    "start_time": "2022-11-23T17:47:37.653Z"
   },
   {
    "duration": 46,
    "start_time": "2022-11-23T17:47:38.092Z"
   },
   {
    "duration": 6,
    "start_time": "2022-11-23T17:47:38.141Z"
   },
   {
    "duration": 440,
    "start_time": "2022-11-23T17:47:38.149Z"
   },
   {
    "duration": 454,
    "start_time": "2022-11-23T17:47:38.592Z"
   },
   {
    "duration": 29,
    "start_time": "2022-11-23T17:47:39.049Z"
   },
   {
    "duration": 5,
    "start_time": "2022-11-23T17:47:39.080Z"
   },
   {
    "duration": 450,
    "start_time": "2022-11-23T17:47:39.088Z"
   },
   {
    "duration": 156,
    "start_time": "2022-11-23T17:47:39.540Z"
   },
   {
    "duration": 76,
    "start_time": "2022-11-23T17:47:39.698Z"
   },
   {
    "duration": 115,
    "start_time": "2022-11-23T17:47:39.777Z"
   },
   {
    "duration": 171,
    "start_time": "2022-11-23T17:47:39.894Z"
   },
   {
    "duration": 5488,
    "start_time": "2022-11-23T17:47:40.069Z"
   },
   {
    "duration": 1275,
    "start_time": "2022-11-23T17:48:39.397Z"
   },
   {
    "duration": 4149,
    "start_time": "2022-11-23T17:49:16.598Z"
   },
   {
    "duration": 57,
    "start_time": "2022-11-23T17:50:16.347Z"
   },
   {
    "duration": 4223,
    "start_time": "2022-11-23T17:50:29.838Z"
   },
   {
    "duration": 4734,
    "start_time": "2022-11-23T17:50:54.442Z"
   },
   {
    "duration": 1079,
    "start_time": "2022-11-23T17:57:58.717Z"
   },
   {
    "duration": 10521,
    "start_time": "2022-11-23T17:59:10.787Z"
   },
   {
    "duration": 36,
    "start_time": "2022-11-23T18:00:22.040Z"
   },
   {
    "duration": 1793,
    "start_time": "2022-11-23T18:00:48.390Z"
   },
   {
    "duration": 24,
    "start_time": "2022-11-23T18:02:32.626Z"
   },
   {
    "duration": 9132,
    "start_time": "2022-11-23T18:02:42.506Z"
   },
   {
    "duration": 9105,
    "start_time": "2022-11-23T18:03:05.917Z"
   },
   {
    "duration": 15,
    "start_time": "2022-11-23T18:04:22.837Z"
   },
   {
    "duration": 16,
    "start_time": "2022-11-23T18:10:15.727Z"
   },
   {
    "duration": 575,
    "start_time": "2022-11-23T18:14:13.276Z"
   },
   {
    "duration": 5,
    "start_time": "2022-11-23T18:14:35.208Z"
   },
   {
    "duration": 914,
    "start_time": "2022-11-23T18:14:35.215Z"
   },
   {
    "duration": 146,
    "start_time": "2022-11-23T18:14:36.132Z"
   },
   {
    "duration": 139,
    "start_time": "2022-11-23T18:14:36.281Z"
   },
   {
    "duration": 33,
    "start_time": "2022-11-23T18:14:36.422Z"
   },
   {
    "duration": 57,
    "start_time": "2022-11-23T18:14:36.456Z"
   },
   {
    "duration": 49,
    "start_time": "2022-11-23T18:14:36.515Z"
   },
   {
    "duration": 128,
    "start_time": "2022-11-23T18:14:36.566Z"
   },
   {
    "duration": 9,
    "start_time": "2022-11-23T18:14:36.697Z"
   },
   {
    "duration": 66,
    "start_time": "2022-11-23T18:14:36.708Z"
   },
   {
    "duration": 5573,
    "start_time": "2022-11-23T18:14:36.776Z"
   },
   {
    "duration": 34,
    "start_time": "2022-11-23T18:14:42.351Z"
   },
   {
    "duration": 132,
    "start_time": "2022-11-23T18:14:42.388Z"
   },
   {
    "duration": 119,
    "start_time": "2022-11-23T18:14:42.523Z"
   },
   {
    "duration": 152,
    "start_time": "2022-11-23T18:14:42.644Z"
   },
   {
    "duration": 45,
    "start_time": "2022-11-23T18:14:42.799Z"
   },
   {
    "duration": 97,
    "start_time": "2022-11-23T18:14:42.846Z"
   },
   {
    "duration": 5201,
    "start_time": "2022-11-23T18:14:42.944Z"
   },
   {
    "duration": 100,
    "start_time": "2022-11-23T18:14:48.146Z"
   },
   {
    "duration": 37,
    "start_time": "2022-11-23T18:14:48.248Z"
   },
   {
    "duration": 60,
    "start_time": "2022-11-23T18:14:48.287Z"
   },
   {
    "duration": 129,
    "start_time": "2022-11-23T18:14:48.348Z"
   },
   {
    "duration": 378,
    "start_time": "2022-11-23T18:14:48.478Z"
   },
   {
    "duration": 316,
    "start_time": "2022-11-23T18:14:48.861Z"
   },
   {
    "duration": 30,
    "start_time": "2022-11-23T18:14:49.183Z"
   },
   {
    "duration": 23,
    "start_time": "2022-11-23T18:14:49.215Z"
   },
   {
    "duration": 387,
    "start_time": "2022-11-23T18:14:49.240Z"
   },
   {
    "duration": 298,
    "start_time": "2022-11-23T18:14:49.634Z"
   },
   {
    "duration": 28,
    "start_time": "2022-11-23T18:14:49.934Z"
   },
   {
    "duration": 7,
    "start_time": "2022-11-23T18:14:49.965Z"
   },
   {
    "duration": 424,
    "start_time": "2022-11-23T18:14:49.974Z"
   },
   {
    "duration": 501,
    "start_time": "2022-11-23T18:14:50.403Z"
   },
   {
    "duration": 31,
    "start_time": "2022-11-23T18:14:50.906Z"
   },
   {
    "duration": 6,
    "start_time": "2022-11-23T18:14:50.938Z"
   },
   {
    "duration": 379,
    "start_time": "2022-11-23T18:14:50.946Z"
   },
   {
    "duration": 85,
    "start_time": "2022-11-23T18:14:51.336Z"
   },
   {
    "duration": 53,
    "start_time": "2022-11-23T18:14:51.423Z"
   },
   {
    "duration": 85,
    "start_time": "2022-11-23T18:14:51.478Z"
   },
   {
    "duration": 97,
    "start_time": "2022-11-23T18:14:51.565Z"
   },
   {
    "duration": 626,
    "start_time": "2022-11-23T18:14:51.664Z"
   },
   {
    "duration": 591,
    "start_time": "2022-11-23T18:15:33.816Z"
   },
   {
    "duration": 540,
    "start_time": "2022-11-23T18:16:55.985Z"
   },
   {
    "duration": 506,
    "start_time": "2022-11-23T18:21:09.339Z"
   },
   {
    "duration": 8279,
    "start_time": "2022-11-23T18:21:51.908Z"
   },
   {
    "duration": 8474,
    "start_time": "2022-11-23T18:22:42.800Z"
   },
   {
    "duration": 379,
    "start_time": "2022-11-23T18:24:47.134Z"
   },
   {
    "duration": 373,
    "start_time": "2022-11-23T18:25:12.117Z"
   },
   {
    "duration": 1052,
    "start_time": "2022-11-23T18:25:18.837Z"
   },
   {
    "duration": 1146,
    "start_time": "2022-11-23T18:25:40.597Z"
   },
   {
    "duration": 1211,
    "start_time": "2022-11-23T18:25:57.997Z"
   },
   {
    "duration": 1132,
    "start_time": "2022-11-23T18:28:02.588Z"
   },
   {
    "duration": 977,
    "start_time": "2022-11-23T18:28:24.028Z"
   },
   {
    "duration": 3507,
    "start_time": "2022-11-23T18:28:45.648Z"
   },
   {
    "duration": 35901,
    "start_time": "2022-11-23T18:29:03.096Z"
   },
   {
    "duration": 35397,
    "start_time": "2022-11-23T18:30:07.957Z"
   },
   {
    "duration": 34797,
    "start_time": "2022-11-23T18:32:13.428Z"
   },
   {
    "duration": 44999,
    "start_time": "2022-11-23T18:35:53.417Z"
   },
   {
    "duration": 45893,
    "start_time": "2022-11-23T18:36:52.668Z"
   },
   {
    "duration": 37105,
    "start_time": "2022-11-23T18:37:59.137Z"
   },
   {
    "duration": 36,
    "start_time": "2022-11-23T18:39:09.317Z"
   },
   {
    "duration": 26,
    "start_time": "2022-11-23T18:39:20.256Z"
   },
   {
    "duration": 1481,
    "start_time": "2022-11-23T18:40:53.237Z"
   },
   {
    "duration": 39,
    "start_time": "2022-11-23T18:41:00.478Z"
   },
   {
    "duration": 46603,
    "start_time": "2022-11-23T18:42:56.575Z"
   },
   {
    "duration": 51,
    "start_time": "2022-11-23T18:45:43.765Z"
   },
   {
    "duration": 53,
    "start_time": "2022-11-23T18:45:55.039Z"
   },
   {
    "duration": 44,
    "start_time": "2022-11-23T18:46:22.336Z"
   },
   {
    "duration": 43,
    "start_time": "2022-11-23T18:47:00.808Z"
   },
   {
    "duration": 10,
    "start_time": "2022-11-23T18:55:53.891Z"
   },
   {
    "duration": 1446,
    "start_time": "2022-11-23T18:56:53.507Z"
   },
   {
    "duration": 1082,
    "start_time": "2022-11-23T18:56:54.954Z"
   },
   {
    "duration": 140,
    "start_time": "2022-11-23T18:56:56.037Z"
   },
   {
    "duration": 143,
    "start_time": "2022-11-23T18:56:56.179Z"
   },
   {
    "duration": 30,
    "start_time": "2022-11-23T18:56:56.323Z"
   },
   {
    "duration": 60,
    "start_time": "2022-11-23T18:56:56.355Z"
   },
   {
    "duration": 50,
    "start_time": "2022-11-23T18:56:56.417Z"
   },
   {
    "duration": 139,
    "start_time": "2022-11-23T18:56:56.469Z"
   },
   {
    "duration": 5,
    "start_time": "2022-11-23T18:56:56.610Z"
   },
   {
    "duration": 33,
    "start_time": "2022-11-23T18:56:56.634Z"
   },
   {
    "duration": 5119,
    "start_time": "2022-11-23T18:56:56.669Z"
   },
   {
    "duration": 34,
    "start_time": "2022-11-23T18:57:01.790Z"
   },
   {
    "duration": 56,
    "start_time": "2022-11-23T18:57:01.836Z"
   },
   {
    "duration": 47,
    "start_time": "2022-11-23T18:57:01.893Z"
   },
   {
    "duration": 59,
    "start_time": "2022-11-23T18:57:01.941Z"
   },
   {
    "duration": 47,
    "start_time": "2022-11-23T18:57:02.002Z"
   },
   {
    "duration": 103,
    "start_time": "2022-11-23T18:57:02.050Z"
   },
   {
    "duration": 4871,
    "start_time": "2022-11-23T18:57:02.154Z"
   },
   {
    "duration": 96,
    "start_time": "2022-11-23T18:57:07.027Z"
   },
   {
    "duration": 58,
    "start_time": "2022-11-23T18:57:07.124Z"
   },
   {
    "duration": 63,
    "start_time": "2022-11-23T18:57:07.184Z"
   },
   {
    "duration": 91,
    "start_time": "2022-11-23T18:57:07.248Z"
   },
   {
    "duration": 335,
    "start_time": "2022-11-23T18:57:07.341Z"
   },
   {
    "duration": 220,
    "start_time": "2022-11-23T18:57:07.678Z"
   },
   {
    "duration": 36,
    "start_time": "2022-11-23T18:57:07.899Z"
   },
   {
    "duration": 4,
    "start_time": "2022-11-23T18:57:07.937Z"
   },
   {
    "duration": 386,
    "start_time": "2022-11-23T18:57:07.942Z"
   },
   {
    "duration": 320,
    "start_time": "2022-11-23T18:57:08.334Z"
   },
   {
    "duration": 27,
    "start_time": "2022-11-23T18:57:08.655Z"
   },
   {
    "duration": 18,
    "start_time": "2022-11-23T18:57:08.684Z"
   },
   {
    "duration": 389,
    "start_time": "2022-11-23T18:57:08.736Z"
   },
   {
    "duration": 302,
    "start_time": "2022-11-23T18:57:09.126Z"
   },
   {
    "duration": 30,
    "start_time": "2022-11-23T18:57:09.435Z"
   },
   {
    "duration": 6,
    "start_time": "2022-11-23T18:57:09.466Z"
   },
   {
    "duration": 321,
    "start_time": "2022-11-23T18:57:09.473Z"
   },
   {
    "duration": 109,
    "start_time": "2022-11-23T18:57:09.796Z"
   },
   {
    "duration": 57,
    "start_time": "2022-11-23T18:57:09.907Z"
   },
   {
    "duration": 91,
    "start_time": "2022-11-23T18:57:09.966Z"
   },
   {
    "duration": 46041,
    "start_time": "2022-11-23T18:57:10.059Z"
   },
   {
    "duration": 2758,
    "start_time": "2022-11-23T18:57:56.102Z"
   },
   {
    "duration": 108,
    "start_time": "2022-11-23T19:04:29.990Z"
   },
   {
    "duration": 86115,
    "start_time": "2022-11-23T19:04:55.529Z"
   },
   {
    "duration": 262392,
    "start_time": "2022-11-23T19:09:30.156Z"
   },
   {
    "duration": 11,
    "start_time": "2022-11-23T19:14:53.337Z"
   },
   {
    "duration": 466959,
    "start_time": "2022-11-23T19:15:03.835Z"
   },
   {
    "duration": 386310,
    "start_time": "2022-11-23T19:23:43.930Z"
   },
   {
    "duration": 612926,
    "start_time": "2022-11-23T19:32:14.127Z"
   },
   {
    "duration": 114,
    "start_time": "2022-11-23T19:43:59.273Z"
   },
   {
    "duration": 2734,
    "start_time": "2022-11-23T19:44:26.630Z"
   },
   {
    "duration": 2020212,
    "start_time": "2022-11-23T19:45:26.680Z"
   },
   {
    "duration": 73,
    "start_time": "2022-11-23T20:21:15.005Z"
   },
   {
    "duration": 34,
    "start_time": "2022-11-23T20:21:46.723Z"
   },
   {
    "duration": 29,
    "start_time": "2022-11-23T20:21:55.705Z"
   },
   {
    "duration": 1775504,
    "start_time": "2022-11-23T20:22:19.975Z"
   },
   {
    "duration": 6,
    "start_time": "2022-11-23T20:53:10.044Z"
   },
   {
    "duration": 1043,
    "start_time": "2022-11-23T20:53:10.054Z"
   },
   {
    "duration": 142,
    "start_time": "2022-11-23T20:53:11.099Z"
   },
   {
    "duration": 139,
    "start_time": "2022-11-23T20:53:11.243Z"
   },
   {
    "duration": 37,
    "start_time": "2022-11-23T20:53:11.384Z"
   },
   {
    "duration": 63,
    "start_time": "2022-11-23T20:53:11.434Z"
   },
   {
    "duration": 47,
    "start_time": "2022-11-23T20:53:11.499Z"
   },
   {
    "duration": 111,
    "start_time": "2022-11-23T20:53:11.548Z"
   },
   {
    "duration": 6,
    "start_time": "2022-11-23T20:53:11.666Z"
   },
   {
    "duration": 28,
    "start_time": "2022-11-23T20:53:11.674Z"
   },
   {
    "duration": 5596,
    "start_time": "2022-11-23T20:53:11.705Z"
   },
   {
    "duration": 42,
    "start_time": "2022-11-23T20:53:17.303Z"
   },
   {
    "duration": 63,
    "start_time": "2022-11-23T20:53:17.347Z"
   },
   {
    "duration": 46,
    "start_time": "2022-11-23T20:53:17.412Z"
   },
   {
    "duration": 87,
    "start_time": "2022-11-23T20:53:17.461Z"
   },
   {
    "duration": 36,
    "start_time": "2022-11-23T20:53:17.551Z"
   },
   {
    "duration": 90,
    "start_time": "2022-11-23T20:53:17.589Z"
   },
   {
    "duration": 6032,
    "start_time": "2022-11-23T20:53:17.681Z"
   },
   {
    "duration": 96,
    "start_time": "2022-11-23T20:53:23.715Z"
   },
   {
    "duration": 49,
    "start_time": "2022-11-23T20:53:23.813Z"
   },
   {
    "duration": 62,
    "start_time": "2022-11-23T20:53:23.863Z"
   },
   {
    "duration": 107,
    "start_time": "2022-11-23T20:53:23.936Z"
   },
   {
    "duration": 327,
    "start_time": "2022-11-23T20:53:24.045Z"
   },
   {
    "duration": 230,
    "start_time": "2022-11-23T20:53:24.375Z"
   },
   {
    "duration": 35,
    "start_time": "2022-11-23T20:53:24.607Z"
   },
   {
    "duration": 7,
    "start_time": "2022-11-23T20:53:24.644Z"
   },
   {
    "duration": 352,
    "start_time": "2022-11-23T20:53:24.653Z"
   },
   {
    "duration": 287,
    "start_time": "2022-11-23T20:53:25.010Z"
   },
   {
    "duration": 24,
    "start_time": "2022-11-23T20:53:25.298Z"
   },
   {
    "duration": 7,
    "start_time": "2022-11-23T20:53:25.334Z"
   },
   {
    "duration": 363,
    "start_time": "2022-11-23T20:53:25.343Z"
   },
   {
    "duration": 385,
    "start_time": "2022-11-23T20:53:25.708Z"
   },
   {
    "duration": 27,
    "start_time": "2022-11-23T20:53:26.095Z"
   },
   {
    "duration": 6,
    "start_time": "2022-11-23T20:53:26.135Z"
   },
   {
    "duration": 417,
    "start_time": "2022-11-23T20:53:26.143Z"
   },
   {
    "duration": 117,
    "start_time": "2022-11-23T20:53:26.562Z"
   },
   {
    "duration": 59,
    "start_time": "2022-11-23T20:53:26.681Z"
   },
   {
    "duration": 102,
    "start_time": "2022-11-23T20:53:26.742Z"
   },
   {
    "duration": 1625,
    "start_time": "2022-11-23T20:53:53.832Z"
   },
   {
    "duration": 1319,
    "start_time": "2022-11-23T20:53:55.459Z"
   },
   {
    "duration": 163,
    "start_time": "2022-11-23T20:53:56.780Z"
   },
   {
    "duration": 196,
    "start_time": "2022-11-23T20:53:56.945Z"
   },
   {
    "duration": 34,
    "start_time": "2022-11-23T20:53:57.143Z"
   },
   {
    "duration": 86,
    "start_time": "2022-11-23T20:53:57.179Z"
   },
   {
    "duration": 36,
    "start_time": "2022-11-23T20:53:57.267Z"
   },
   {
    "duration": 157,
    "start_time": "2022-11-23T20:53:57.305Z"
   },
   {
    "duration": 5,
    "start_time": "2022-11-23T20:53:57.464Z"
   },
   {
    "duration": 32,
    "start_time": "2022-11-23T20:53:57.471Z"
   },
   {
    "duration": 5189,
    "start_time": "2022-11-23T20:53:57.506Z"
   },
   {
    "duration": 53,
    "start_time": "2022-11-23T20:54:02.697Z"
   },
   {
    "duration": 96,
    "start_time": "2022-11-23T20:54:02.752Z"
   },
   {
    "duration": 36,
    "start_time": "2022-11-23T20:54:02.853Z"
   },
   {
    "duration": 79,
    "start_time": "2022-11-23T20:54:02.891Z"
   },
   {
    "duration": 66,
    "start_time": "2022-11-23T20:54:02.972Z"
   },
   {
    "duration": 124,
    "start_time": "2022-11-23T20:54:03.040Z"
   },
   {
    "duration": 5121,
    "start_time": "2022-11-23T20:54:03.166Z"
   },
   {
    "duration": 99,
    "start_time": "2022-11-23T20:54:08.289Z"
   },
   {
    "duration": 47,
    "start_time": "2022-11-23T20:54:08.390Z"
   },
   {
    "duration": 51,
    "start_time": "2022-11-23T20:54:08.439Z"
   },
   {
    "duration": 106,
    "start_time": "2022-11-23T20:54:08.492Z"
   },
   {
    "duration": 410,
    "start_time": "2022-11-23T20:54:08.600Z"
   },
   {
    "duration": 237,
    "start_time": "2022-11-23T20:54:09.012Z"
   },
   {
    "duration": 35,
    "start_time": "2022-11-23T20:54:09.251Z"
   },
   {
    "duration": 6,
    "start_time": "2022-11-23T20:54:09.288Z"
   },
   {
    "duration": 392,
    "start_time": "2022-11-23T20:54:09.296Z"
   },
   {
    "duration": 310,
    "start_time": "2022-11-23T20:54:09.690Z"
   },
   {
    "duration": 36,
    "start_time": "2022-11-23T20:54:10.001Z"
   },
   {
    "duration": 5,
    "start_time": "2022-11-23T20:54:10.040Z"
   },
   {
    "duration": 313,
    "start_time": "2022-11-23T20:54:10.047Z"
   },
   {
    "duration": 307,
    "start_time": "2022-11-23T20:54:10.362Z"
   },
   {
    "duration": 30,
    "start_time": "2022-11-23T20:54:10.671Z"
   },
   {
    "duration": 5,
    "start_time": "2022-11-23T20:54:10.703Z"
   },
   {
    "duration": 325,
    "start_time": "2022-11-23T20:54:10.710Z"
   },
   {
    "duration": 85,
    "start_time": "2022-11-23T20:54:11.037Z"
   },
   {
    "duration": 56,
    "start_time": "2022-11-23T20:54:11.136Z"
   },
   {
    "duration": 88,
    "start_time": "2022-11-23T20:54:11.194Z"
   },
   {
    "duration": 46841,
    "start_time": "2022-11-23T20:54:11.284Z"
   },
   {
    "duration": 2991,
    "start_time": "2022-11-23T20:54:58.136Z"
   },
   {
    "duration": 332,
    "start_time": "2022-11-23T20:56:19.672Z"
   },
   {
    "duration": 200,
    "start_time": "2022-11-23T20:56:58.208Z"
   },
   {
    "duration": 57922,
    "start_time": "2022-11-23T20:57:42.070Z"
   },
   {
    "duration": 1819,
    "start_time": "2022-11-23T20:58:56.785Z"
   },
   {
    "duration": 1258,
    "start_time": "2022-11-23T20:58:58.607Z"
   },
   {
    "duration": 258,
    "start_time": "2022-11-23T20:58:59.867Z"
   },
   {
    "duration": 223,
    "start_time": "2022-11-23T20:59:00.136Z"
   },
   {
    "duration": 38,
    "start_time": "2022-11-23T20:59:00.362Z"
   },
   {
    "duration": 105,
    "start_time": "2022-11-23T20:59:00.403Z"
   },
   {
    "duration": 73,
    "start_time": "2022-11-23T20:59:00.510Z"
   },
   {
    "duration": 221,
    "start_time": "2022-11-23T20:59:00.586Z"
   },
   {
    "duration": 9,
    "start_time": "2022-11-23T20:59:00.809Z"
   },
   {
    "duration": 62,
    "start_time": "2022-11-23T20:59:00.820Z"
   },
   {
    "duration": 8310,
    "start_time": "2022-11-23T20:59:00.884Z"
   },
   {
    "duration": 72,
    "start_time": "2022-11-23T20:59:09.196Z"
   },
   {
    "duration": 111,
    "start_time": "2022-11-23T20:59:09.270Z"
   },
   {
    "duration": 74,
    "start_time": "2022-11-23T20:59:09.387Z"
   },
   {
    "duration": 111,
    "start_time": "2022-11-23T20:59:09.463Z"
   },
   {
    "duration": 67,
    "start_time": "2022-11-23T20:59:09.577Z"
   },
   {
    "duration": 191,
    "start_time": "2022-11-23T20:59:09.647Z"
   },
   {
    "duration": 6316,
    "start_time": "2022-11-23T20:59:09.840Z"
   },
   {
    "duration": 104,
    "start_time": "2022-11-23T20:59:16.158Z"
   },
   {
    "duration": 77,
    "start_time": "2022-11-23T20:59:16.264Z"
   },
   {
    "duration": 54,
    "start_time": "2022-11-23T20:59:16.343Z"
   },
   {
    "duration": 184,
    "start_time": "2022-11-23T20:59:16.400Z"
   },
   {
    "duration": 575,
    "start_time": "2022-11-23T20:59:16.586Z"
   },
   {
    "duration": 238,
    "start_time": "2022-11-23T20:59:17.166Z"
   },
   {
    "duration": 36,
    "start_time": "2022-11-23T20:59:17.406Z"
   },
   {
    "duration": 5,
    "start_time": "2022-11-23T20:59:17.444Z"
   },
   {
    "duration": 442,
    "start_time": "2022-11-23T20:59:17.450Z"
   },
   {
    "duration": 339,
    "start_time": "2022-11-23T20:59:17.893Z"
   },
   {
    "duration": 31,
    "start_time": "2022-11-23T20:59:18.235Z"
   },
   {
    "duration": 10,
    "start_time": "2022-11-23T20:59:18.271Z"
   },
   {
    "duration": 399,
    "start_time": "2022-11-23T20:59:18.283Z"
   },
   {
    "duration": 495,
    "start_time": "2022-11-23T20:59:18.685Z"
   },
   {
    "duration": 33,
    "start_time": "2022-11-23T20:59:19.182Z"
   },
   {
    "duration": 20,
    "start_time": "2022-11-23T20:59:19.218Z"
   },
   {
    "duration": 458,
    "start_time": "2022-11-23T20:59:19.240Z"
   },
   {
    "duration": 160,
    "start_time": "2022-11-23T20:59:19.702Z"
   },
   {
    "duration": 72,
    "start_time": "2022-11-23T20:59:19.864Z"
   },
   {
    "duration": 131,
    "start_time": "2022-11-23T20:59:19.938Z"
   },
   {
    "duration": 49257,
    "start_time": "2022-11-23T20:59:20.071Z"
   },
   {
    "duration": 2766,
    "start_time": "2022-11-23T21:00:09.336Z"
   },
   {
    "duration": 115737,
    "start_time": "2022-11-23T21:00:12.107Z"
   },
   {
    "duration": 103190,
    "start_time": "2022-11-23T21:02:07.847Z"
   },
   {
    "duration": 265987,
    "start_time": "2022-11-23T21:03:51.039Z"
   },
   {
    "duration": 483414,
    "start_time": "2022-11-23T21:08:17.028Z"
   },
   {
    "duration": 384867,
    "start_time": "2022-11-23T21:16:20.444Z"
   },
   {
    "duration": 611780,
    "start_time": "2022-11-23T21:22:45.313Z"
   },
   {
    "duration": 145,
    "start_time": "2022-11-23T21:32:57.096Z"
   },
   {
    "duration": 2089542,
    "start_time": "2022-11-23T21:32:57.242Z"
   },
   {
    "duration": 1110866,
    "start_time": "2022-11-23T22:07:46.786Z"
   },
   {
    "duration": 1171590,
    "start_time": "2022-11-23T22:26:17.653Z"
   },
   {
    "duration": 471897,
    "start_time": "2022-11-23T22:45:49.245Z"
   },
   {
    "duration": 9,
    "start_time": "2022-11-23T22:53:41.144Z"
   },
   {
    "duration": 14,
    "start_time": "2022-11-23T22:53:41.155Z"
   },
   {
    "duration": 161,
    "start_time": "2022-11-23T22:53:41.171Z"
   },
   {
    "duration": 0,
    "start_time": "2022-11-23T22:53:41.335Z"
   },
   {
    "duration": 0,
    "start_time": "2022-11-23T22:53:41.335Z"
   },
   {
    "duration": 0,
    "start_time": "2022-11-23T22:53:41.337Z"
   },
   {
    "duration": 0,
    "start_time": "2022-11-23T22:53:41.338Z"
   },
   {
    "duration": 0,
    "start_time": "2022-11-23T22:53:41.339Z"
   },
   {
    "duration": 0,
    "start_time": "2022-11-23T22:53:41.340Z"
   },
   {
    "duration": 5544,
    "start_time": "2022-11-24T02:53:37.938Z"
   },
   {
    "duration": 28782,
    "start_time": "2022-11-24T02:53:53.121Z"
   },
   {
    "duration": 26,
    "start_time": "2022-11-24T02:54:50.340Z"
   },
   {
    "duration": 30,
    "start_time": "2022-11-24T02:55:41.612Z"
   },
   {
    "duration": 17265,
    "start_time": "2022-11-24T02:55:51.884Z"
   },
   {
    "duration": 37,
    "start_time": "2022-11-24T03:26:37.040Z"
   },
   {
    "duration": 48,
    "start_time": "2022-11-24T06:46:23.449Z"
   },
   {
    "duration": 1700,
    "start_time": "2022-11-24T06:46:48.415Z"
   },
   {
    "duration": 1152,
    "start_time": "2022-11-24T06:46:50.117Z"
   },
   {
    "duration": 155,
    "start_time": "2022-11-24T06:46:51.271Z"
   },
   {
    "duration": 154,
    "start_time": "2022-11-24T06:46:51.428Z"
   },
   {
    "duration": 23,
    "start_time": "2022-11-24T06:46:51.583Z"
   },
   {
    "duration": 76,
    "start_time": "2022-11-24T06:46:51.608Z"
   },
   {
    "duration": 35,
    "start_time": "2022-11-24T06:46:51.686Z"
   },
   {
    "duration": 126,
    "start_time": "2022-11-24T06:46:51.723Z"
   },
   {
    "duration": 5,
    "start_time": "2022-11-24T06:46:51.854Z"
   },
   {
    "duration": 33,
    "start_time": "2022-11-24T06:46:51.862Z"
   },
   {
    "duration": 5378,
    "start_time": "2022-11-24T06:46:51.896Z"
   },
   {
    "duration": 33,
    "start_time": "2022-11-24T06:46:57.276Z"
   },
   {
    "duration": 70,
    "start_time": "2022-11-24T06:46:57.311Z"
   },
   {
    "duration": 273,
    "start_time": "2022-11-24T06:46:57.382Z"
   },
   {
    "duration": 80,
    "start_time": "2022-11-24T06:46:57.657Z"
   },
   {
    "duration": 50,
    "start_time": "2022-11-24T06:46:57.738Z"
   },
   {
    "duration": 101,
    "start_time": "2022-11-24T06:46:57.790Z"
   },
   {
    "duration": 5231,
    "start_time": "2022-11-24T06:46:57.893Z"
   },
   {
    "duration": 105,
    "start_time": "2022-11-24T06:47:03.126Z"
   },
   {
    "duration": 45,
    "start_time": "2022-11-24T06:47:03.232Z"
   },
   {
    "duration": 53,
    "start_time": "2022-11-24T06:47:03.279Z"
   },
   {
    "duration": 104,
    "start_time": "2022-11-24T06:47:03.334Z"
   },
   {
    "duration": 423,
    "start_time": "2022-11-24T06:47:03.440Z"
   },
   {
    "duration": 246,
    "start_time": "2022-11-24T06:47:03.866Z"
   },
   {
    "duration": 27,
    "start_time": "2022-11-24T06:47:04.113Z"
   },
   {
    "duration": 14,
    "start_time": "2022-11-24T06:47:04.142Z"
   },
   {
    "duration": 432,
    "start_time": "2022-11-24T06:47:04.159Z"
   },
   {
    "duration": 390,
    "start_time": "2022-11-24T06:47:04.594Z"
   },
   {
    "duration": 31,
    "start_time": "2022-11-24T06:47:04.986Z"
   },
   {
    "duration": 5,
    "start_time": "2022-11-24T06:47:05.019Z"
   },
   {
    "duration": 358,
    "start_time": "2022-11-24T06:47:05.026Z"
   },
   {
    "duration": 340,
    "start_time": "2022-11-24T06:47:05.386Z"
   },
   {
    "duration": 30,
    "start_time": "2022-11-24T06:47:05.728Z"
   },
   {
    "duration": 7,
    "start_time": "2022-11-24T06:47:05.760Z"
   },
   {
    "duration": 351,
    "start_time": "2022-11-24T06:47:05.770Z"
   },
   {
    "duration": 109,
    "start_time": "2022-11-24T06:47:06.123Z"
   },
   {
    "duration": 68,
    "start_time": "2022-11-24T06:47:06.234Z"
   },
   {
    "duration": 96,
    "start_time": "2022-11-24T06:47:06.304Z"
   },
   {
    "duration": 46529,
    "start_time": "2022-11-24T06:47:06.402Z"
   },
   {
    "duration": 2882,
    "start_time": "2022-11-24T06:47:52.933Z"
   },
   {
    "duration": 137,
    "start_time": "2022-11-24T06:48:15.189Z"
   },
   {
    "duration": 832625,
    "start_time": "2022-11-24T06:48:31.441Z"
   },
   {
    "duration": 64,
    "start_time": "2022-11-24T07:06:00.817Z"
   },
   {
    "duration": 4,
    "start_time": "2022-11-24T07:06:11.511Z"
   },
   {
    "duration": 97,
    "start_time": "2022-11-24T07:06:20.798Z"
   },
   {
    "duration": 18294,
    "start_time": "2022-11-24T07:07:21.260Z"
   },
   {
    "duration": 17859,
    "start_time": "2022-11-24T07:08:32.213Z"
   },
   {
    "duration": 5,
    "start_time": "2022-11-24T07:09:19.930Z"
   },
   {
    "duration": 18453,
    "start_time": "2022-11-24T07:09:25.610Z"
   },
   {
    "duration": 59,
    "start_time": "2022-11-24T07:13:17.910Z"
   },
   {
    "duration": 10,
    "start_time": "2022-11-24T07:14:06.525Z"
   },
   {
    "duration": 1335,
    "start_time": "2022-11-24T07:14:17.934Z"
   },
   {
    "duration": 1591,
    "start_time": "2022-11-24T07:15:18.190Z"
   },
   {
    "duration": 941,
    "start_time": "2022-11-24T07:15:19.783Z"
   },
   {
    "duration": 155,
    "start_time": "2022-11-24T07:15:20.726Z"
   },
   {
    "duration": 159,
    "start_time": "2022-11-24T07:15:20.883Z"
   },
   {
    "duration": 26,
    "start_time": "2022-11-24T07:15:21.044Z"
   },
   {
    "duration": 63,
    "start_time": "2022-11-24T07:15:21.071Z"
   },
   {
    "duration": 51,
    "start_time": "2022-11-24T07:15:21.135Z"
   },
   {
    "duration": 133,
    "start_time": "2022-11-24T07:15:21.187Z"
   },
   {
    "duration": 5,
    "start_time": "2022-11-24T07:15:21.322Z"
   },
   {
    "duration": 34,
    "start_time": "2022-11-24T07:15:21.331Z"
   },
   {
    "duration": 5312,
    "start_time": "2022-11-24T07:15:21.367Z"
   },
   {
    "duration": 37,
    "start_time": "2022-11-24T07:15:26.681Z"
   },
   {
    "duration": 85,
    "start_time": "2022-11-24T07:15:26.719Z"
   },
   {
    "duration": 35,
    "start_time": "2022-11-24T07:15:26.806Z"
   },
   {
    "duration": 57,
    "start_time": "2022-11-24T07:15:26.843Z"
   },
   {
    "duration": 40,
    "start_time": "2022-11-24T07:15:26.901Z"
   },
   {
    "duration": 88,
    "start_time": "2022-11-24T07:15:26.956Z"
   },
   {
    "duration": 4996,
    "start_time": "2022-11-24T07:15:27.045Z"
   },
   {
    "duration": 99,
    "start_time": "2022-11-24T07:15:32.043Z"
   },
   {
    "duration": 50,
    "start_time": "2022-11-24T07:15:32.143Z"
   },
   {
    "duration": 89,
    "start_time": "2022-11-24T07:15:32.194Z"
   },
   {
    "duration": 99,
    "start_time": "2022-11-24T07:15:32.285Z"
   },
   {
    "duration": 366,
    "start_time": "2022-11-24T07:15:32.386Z"
   },
   {
    "duration": 216,
    "start_time": "2022-11-24T07:15:32.754Z"
   },
   {
    "duration": 28,
    "start_time": "2022-11-24T07:15:32.972Z"
   },
   {
    "duration": 5,
    "start_time": "2022-11-24T07:15:33.001Z"
   },
   {
    "duration": 360,
    "start_time": "2022-11-24T07:15:33.007Z"
   },
   {
    "duration": 317,
    "start_time": "2022-11-24T07:15:33.371Z"
   },
   {
    "duration": 34,
    "start_time": "2022-11-24T07:15:33.691Z"
   },
   {
    "duration": 6,
    "start_time": "2022-11-24T07:15:33.728Z"
   },
   {
    "duration": 335,
    "start_time": "2022-11-24T07:15:33.736Z"
   },
   {
    "duration": 303,
    "start_time": "2022-11-24T07:15:34.073Z"
   },
   {
    "duration": 30,
    "start_time": "2022-11-24T07:15:34.377Z"
   },
   {
    "duration": 5,
    "start_time": "2022-11-24T07:15:34.408Z"
   },
   {
    "duration": 377,
    "start_time": "2022-11-24T07:15:34.414Z"
   },
   {
    "duration": 87,
    "start_time": "2022-11-24T07:15:34.792Z"
   },
   {
    "duration": 50,
    "start_time": "2022-11-24T07:15:34.881Z"
   },
   {
    "duration": 95,
    "start_time": "2022-11-24T07:15:34.933Z"
   },
   {
    "duration": 45374,
    "start_time": "2022-11-24T07:15:35.030Z"
   },
   {
    "duration": 2706,
    "start_time": "2022-11-24T07:16:20.406Z"
   },
   {
    "duration": 87743,
    "start_time": "2022-11-24T07:16:23.114Z"
   },
   {
    "duration": 115998,
    "start_time": "2022-11-24T07:17:50.859Z"
   },
   {
    "duration": 275503,
    "start_time": "2022-11-24T07:19:46.859Z"
   },
   {
    "duration": 505459,
    "start_time": "2022-11-24T07:24:22.364Z"
   },
   {
    "duration": 395308,
    "start_time": "2022-11-24T07:32:47.825Z"
   },
   {
    "duration": 633997,
    "start_time": "2022-11-24T07:39:23.135Z"
   },
   {
    "duration": 154,
    "start_time": "2022-11-24T07:49:57.134Z"
   },
   {
    "duration": 67,
    "start_time": "2022-11-24T07:49:57.291Z"
   },
   {
    "duration": 2087046,
    "start_time": "2022-11-24T07:49:57.359Z"
   },
   {
    "duration": 1006960,
    "start_time": "2022-11-24T08:24:44.407Z"
   },
   {
    "duration": 1155492,
    "start_time": "2022-11-24T08:41:31.369Z"
   },
   {
    "duration": 1226002,
    "start_time": "2022-11-24T09:00:46.863Z"
   },
   {
    "duration": 10,
    "start_time": "2022-11-24T09:21:12.867Z"
   },
   {
    "duration": 6,
    "start_time": "2022-11-24T09:21:12.879Z"
   },
   {
    "duration": 5868,
    "start_time": "2022-11-24T09:21:12.887Z"
   },
   {
    "duration": 30602,
    "start_time": "2022-11-24T09:21:18.757Z"
   },
   {
    "duration": 29134,
    "start_time": "2022-11-24T09:21:49.361Z"
   },
   {
    "duration": 11,
    "start_time": "2022-11-24T09:22:18.556Z"
   },
   {
    "duration": 1588,
    "start_time": "2022-11-24T09:22:18.568Z"
   },
   {
    "duration": 8,
    "start_time": "2022-11-24T09:22:20.158Z"
   },
   {
    "duration": 12,
    "start_time": "2022-11-24T09:22:20.168Z"
   },
   {
    "duration": 10,
    "start_time": "2022-11-24T09:55:02.530Z"
   },
   {
    "duration": 6007,
    "start_time": "2022-11-24T10:05:35.373Z"
   },
   {
    "duration": 11,
    "start_time": "2022-11-24T10:05:49.581Z"
   },
   {
    "duration": 131,
    "start_time": "2022-11-24T10:22:33.656Z"
   },
   {
    "duration": 176,
    "start_time": "2022-11-24T10:23:09.631Z"
   },
   {
    "duration": 10,
    "start_time": "2022-11-24T10:23:38.103Z"
   }
  ],
  "kernelspec": {
   "display_name": "Python 3 (ipykernel)",
   "language": "python",
   "name": "python3"
  },
  "language_info": {
   "codemirror_mode": {
    "name": "ipython",
    "version": 3
   },
   "file_extension": ".py",
   "mimetype": "text/x-python",
   "name": "python",
   "nbconvert_exporter": "python",
   "pygments_lexer": "ipython3",
   "version": "3.9.13"
  },
  "toc": {
   "base_numbering": 1,
   "nav_menu": {},
   "number_sections": true,
   "sideBar": true,
   "skip_h1_title": true,
   "title_cell": "Table of Contents",
   "title_sidebar": "Contents",
   "toc_cell": false,
   "toc_position": {
    "height": "calc(100% - 180px)",
    "left": "10px",
    "top": "150px",
    "width": "243.395px"
   },
   "toc_section_display": true,
   "toc_window_display": true
  }
 },
 "nbformat": 4,
 "nbformat_minor": 2
}
