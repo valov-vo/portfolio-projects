{
 "cells": [
  {
   "cell_type": "markdown",
   "metadata": {
    "toc": true
   },
   "source": [
    "<h1>Содержание<span class=\"tocSkip\"></span></h1>\n",
    "<div class=\"toc\"><ul class=\"toc-item\"><li><span><a href=\"#Загрузка-данных\" data-toc-modified-id=\"Загрузка-данных-1\"><span class=\"toc-item-num\">1&nbsp;&nbsp;</span>Загрузка данных</a></span><ul class=\"toc-item\"><li><span><a href=\"#Вывод\" data-toc-modified-id=\"Вывод-1.1\"><span class=\"toc-item-num\">1.1&nbsp;&nbsp;</span>Вывод</a></span></li></ul></li><li><span><a href=\"#Умножение-матриц\" data-toc-modified-id=\"Умножение-матриц-2\"><span class=\"toc-item-num\">2&nbsp;&nbsp;</span>Умножение матриц</a></span><ul class=\"toc-item\"><li><span><a href=\"#Вывод\" data-toc-modified-id=\"Вывод-2.1\"><span class=\"toc-item-num\">2.1&nbsp;&nbsp;</span>Вывод</a></span></li></ul></li><li><span><a href=\"#Алгоритм-преобразования\" data-toc-modified-id=\"Алгоритм-преобразования-3\"><span class=\"toc-item-num\">3&nbsp;&nbsp;</span>Алгоритм преобразования</a></span></li><li><span><a href=\"#Проверка-алгоритма\" data-toc-modified-id=\"Проверка-алгоритма-4\"><span class=\"toc-item-num\">4&nbsp;&nbsp;</span>Проверка алгоритма</a></span></li><li><span><a href=\"#Общий-итог\" data-toc-modified-id=\"Общий-итог-5\"><span class=\"toc-item-num\">5&nbsp;&nbsp;</span>Общий итог</a></span></li><li><span><a href=\"#Чек-лист-проверки\" data-toc-modified-id=\"Чек-лист-проверки-6\"><span class=\"toc-item-num\">6&nbsp;&nbsp;</span>Чек-лист проверки</a></span></li></ul></div>"
   ]
  },
  {
   "cell_type": "markdown",
   "metadata": {},
   "source": [
    "# Защита персональных данных клиентов"
   ]
  },
  {
   "cell_type": "markdown",
   "metadata": {},
   "source": [
    "Нам нужно защитить данные клиентов страховой компании «Хоть потоп». Необходимо разработать такой метод преобразования данных, чтобы по ним было сложно восстановить персональную информацию.\n",
    "\n",
    "Нужно защитить данные так, чтобы при преобразовании качество моделей машинного обучения не ухудшилось."
   ]
  },
  {
   "cell_type": "markdown",
   "metadata": {},
   "source": [
    "**Описание данных:**\n",
    "- Признаки: `пол`, `возраст` и `зарплата` застрахованного, `количество членов семьи`.\n",
    "- Целевой признак: `количество страховых выплат` клиенту за последние 5 лет"
   ]
  },
  {
   "cell_type": "markdown",
   "metadata": {},
   "source": [
    "## Загрузка данных"
   ]
  },
  {
   "cell_type": "markdown",
   "metadata": {},
   "source": [
    "Загрузим необходимые для работы библиотеки:"
   ]
  },
  {
   "cell_type": "code",
   "execution_count": 1,
   "metadata": {},
   "outputs": [],
   "source": [
    "import pandas as pd\n",
    "import numpy as np\n",
    "from sklearn.model_selection import cross_val_score\n",
    "from sklearn.linear_model import LinearRegression\n",
    "from sklearn.metrics import make_scorer, r2_score"
   ]
  },
  {
   "cell_type": "markdown",
   "metadata": {},
   "source": [
    "Загрузим данные и посмотрим общую информацию о датафрейме:"
   ]
  },
  {
   "cell_type": "code",
   "execution_count": 2,
   "metadata": {},
   "outputs": [
    {
     "name": "stdout",
     "output_type": "stream",
     "text": [
      "<class 'pandas.core.frame.DataFrame'>\n",
      "RangeIndex: 5000 entries, 0 to 4999\n",
      "Data columns (total 5 columns):\n",
      " #   Column             Non-Null Count  Dtype  \n",
      "---  ------             --------------  -----  \n",
      " 0   Пол                5000 non-null   int64  \n",
      " 1   Возраст            5000 non-null   float64\n",
      " 2   Зарплата           5000 non-null   float64\n",
      " 3   Члены семьи        5000 non-null   int64  \n",
      " 4   Страховые выплаты  5000 non-null   int64  \n",
      "dtypes: float64(2), int64(3)\n",
      "memory usage: 195.4 KB\n"
     ]
    }
   ],
   "source": [
    "try:\n",
    "    data = pd.read_csv('/datasets/insurance.csv')\n",
    "except:\n",
    "    data = pd.read_csv('insurance.csv')\n",
    "    \n",
    "data.info()"
   ]
  },
  {
   "cell_type": "markdown",
   "metadata": {},
   "source": [
    "Красота - пропусков нет. Глянем визуально:"
   ]
  },
  {
   "cell_type": "code",
   "execution_count": 3,
   "metadata": {},
   "outputs": [
    {
     "data": {
      "text/html": [
       "<div>\n",
       "<style scoped>\n",
       "    .dataframe tbody tr th:only-of-type {\n",
       "        vertical-align: middle;\n",
       "    }\n",
       "\n",
       "    .dataframe tbody tr th {\n",
       "        vertical-align: top;\n",
       "    }\n",
       "\n",
       "    .dataframe thead th {\n",
       "        text-align: right;\n",
       "    }\n",
       "</style>\n",
       "<table border=\"1\" class=\"dataframe\">\n",
       "  <thead>\n",
       "    <tr style=\"text-align: right;\">\n",
       "      <th></th>\n",
       "      <th>Пол</th>\n",
       "      <th>Возраст</th>\n",
       "      <th>Зарплата</th>\n",
       "      <th>Члены семьи</th>\n",
       "      <th>Страховые выплаты</th>\n",
       "    </tr>\n",
       "  </thead>\n",
       "  <tbody>\n",
       "    <tr>\n",
       "      <th>3613</th>\n",
       "      <td>1</td>\n",
       "      <td>29.0</td>\n",
       "      <td>62600.0</td>\n",
       "      <td>0</td>\n",
       "      <td>0</td>\n",
       "    </tr>\n",
       "    <tr>\n",
       "      <th>1056</th>\n",
       "      <td>1</td>\n",
       "      <td>25.0</td>\n",
       "      <td>46700.0</td>\n",
       "      <td>3</td>\n",
       "      <td>0</td>\n",
       "    </tr>\n",
       "    <tr>\n",
       "      <th>2733</th>\n",
       "      <td>1</td>\n",
       "      <td>43.0</td>\n",
       "      <td>36800.0</td>\n",
       "      <td>0</td>\n",
       "      <td>1</td>\n",
       "    </tr>\n",
       "    <tr>\n",
       "      <th>1239</th>\n",
       "      <td>1</td>\n",
       "      <td>24.0</td>\n",
       "      <td>33300.0</td>\n",
       "      <td>2</td>\n",
       "      <td>0</td>\n",
       "    </tr>\n",
       "    <tr>\n",
       "      <th>138</th>\n",
       "      <td>1</td>\n",
       "      <td>25.0</td>\n",
       "      <td>44900.0</td>\n",
       "      <td>0</td>\n",
       "      <td>0</td>\n",
       "    </tr>\n",
       "  </tbody>\n",
       "</table>\n",
       "</div>"
      ],
      "text/plain": [
       "      Пол  Возраст  Зарплата  Члены семьи  Страховые выплаты\n",
       "3613    1     29.0   62600.0            0                  0\n",
       "1056    1     25.0   46700.0            3                  0\n",
       "2733    1     43.0   36800.0            0                  1\n",
       "1239    1     24.0   33300.0            2                  0\n",
       "138     1     25.0   44900.0            0                  0"
      ]
     },
     "execution_count": 3,
     "metadata": {},
     "output_type": "execute_result"
    }
   ],
   "source": [
    "data.sample(5)"
   ]
  },
  {
   "cell_type": "markdown",
   "metadata": {},
   "source": [
    "Настораживает столбец с полом (это единственный категориальный признак). А друг есть какой-либо третий пол. Проверим на всякий случай:"
   ]
  },
  {
   "cell_type": "code",
   "execution_count": 4,
   "metadata": {},
   "outputs": [
    {
     "data": {
      "text/plain": [
       "0    2505\n",
       "1    2495\n",
       "Name: Пол, dtype: int64"
      ]
     },
     "execution_count": 4,
     "metadata": {},
     "output_type": "execute_result"
    }
   ],
   "source": [
    "data['Пол'].value_counts()"
   ]
  },
  {
   "cell_type": "markdown",
   "metadata": {},
   "source": [
    "Есть только девочки и мальчики, а данные подготовлены к обучению модели. Правда, мы не проверяли ещё на дубликаты. Посмотрим:"
   ]
  },
  {
   "cell_type": "code",
   "execution_count": 5,
   "metadata": {},
   "outputs": [
    {
     "name": "stdout",
     "output_type": "stream",
     "text": [
      "Количество явных дубликатов:  153\n"
     ]
    }
   ],
   "source": [
    "print('Количество явных дубликатов: ', data[data.duplicated() == True]['Пол'].count())"
   ]
  },
  {
   "cell_type": "markdown",
   "metadata": {},
   "source": [
    "Около 3% дубликатов. Думаю можно удалить, но сперва взглянем на них поближе, чтобы убедиться в маловероятности совпадений:"
   ]
  },
  {
   "cell_type": "code",
   "execution_count": 6,
   "metadata": {},
   "outputs": [
    {
     "data": {
      "text/html": [
       "<div>\n",
       "<style scoped>\n",
       "    .dataframe tbody tr th:only-of-type {\n",
       "        vertical-align: middle;\n",
       "    }\n",
       "\n",
       "    .dataframe tbody tr th {\n",
       "        vertical-align: top;\n",
       "    }\n",
       "\n",
       "    .dataframe thead th {\n",
       "        text-align: right;\n",
       "    }\n",
       "</style>\n",
       "<table border=\"1\" class=\"dataframe\">\n",
       "  <thead>\n",
       "    <tr style=\"text-align: right;\">\n",
       "      <th></th>\n",
       "      <th>Пол</th>\n",
       "      <th>Возраст</th>\n",
       "      <th>Зарплата</th>\n",
       "      <th>Члены семьи</th>\n",
       "      <th>Страховые выплаты</th>\n",
       "    </tr>\n",
       "  </thead>\n",
       "  <tbody>\n",
       "    <tr>\n",
       "      <th>2955</th>\n",
       "      <td>1</td>\n",
       "      <td>32.0</td>\n",
       "      <td>21600.0</td>\n",
       "      <td>0</td>\n",
       "      <td>0</td>\n",
       "    </tr>\n",
       "    <tr>\n",
       "      <th>2988</th>\n",
       "      <td>1</td>\n",
       "      <td>32.0</td>\n",
       "      <td>21600.0</td>\n",
       "      <td>0</td>\n",
       "      <td>0</td>\n",
       "    </tr>\n",
       "    <tr>\n",
       "      <th>361</th>\n",
       "      <td>0</td>\n",
       "      <td>50.0</td>\n",
       "      <td>24700.0</td>\n",
       "      <td>1</td>\n",
       "      <td>2</td>\n",
       "    </tr>\n",
       "    <tr>\n",
       "      <th>2869</th>\n",
       "      <td>0</td>\n",
       "      <td>50.0</td>\n",
       "      <td>24700.0</td>\n",
       "      <td>1</td>\n",
       "      <td>2</td>\n",
       "    </tr>\n",
       "    <tr>\n",
       "      <th>333</th>\n",
       "      <td>0</td>\n",
       "      <td>32.0</td>\n",
       "      <td>25600.0</td>\n",
       "      <td>1</td>\n",
       "      <td>0</td>\n",
       "    </tr>\n",
       "    <tr>\n",
       "      <th>4230</th>\n",
       "      <td>0</td>\n",
       "      <td>32.0</td>\n",
       "      <td>25600.0</td>\n",
       "      <td>1</td>\n",
       "      <td>0</td>\n",
       "    </tr>\n",
       "    <tr>\n",
       "      <th>1378</th>\n",
       "      <td>0</td>\n",
       "      <td>36.0</td>\n",
       "      <td>26400.0</td>\n",
       "      <td>0</td>\n",
       "      <td>0</td>\n",
       "    </tr>\n",
       "    <tr>\n",
       "      <th>2723</th>\n",
       "      <td>0</td>\n",
       "      <td>36.0</td>\n",
       "      <td>26400.0</td>\n",
       "      <td>0</td>\n",
       "      <td>0</td>\n",
       "    </tr>\n",
       "    <tr>\n",
       "      <th>1002</th>\n",
       "      <td>1</td>\n",
       "      <td>34.0</td>\n",
       "      <td>26900.0</td>\n",
       "      <td>0</td>\n",
       "      <td>0</td>\n",
       "    </tr>\n",
       "    <tr>\n",
       "      <th>1140</th>\n",
       "      <td>1</td>\n",
       "      <td>34.0</td>\n",
       "      <td>26900.0</td>\n",
       "      <td>0</td>\n",
       "      <td>0</td>\n",
       "    </tr>\n",
       "  </tbody>\n",
       "</table>\n",
       "</div>"
      ],
      "text/plain": [
       "      Пол  Возраст  Зарплата  Члены семьи  Страховые выплаты\n",
       "2955    1     32.0   21600.0            0                  0\n",
       "2988    1     32.0   21600.0            0                  0\n",
       "361     0     50.0   24700.0            1                  2\n",
       "2869    0     50.0   24700.0            1                  2\n",
       "333     0     32.0   25600.0            1                  0\n",
       "4230    0     32.0   25600.0            1                  0\n",
       "1378    0     36.0   26400.0            0                  0\n",
       "2723    0     36.0   26400.0            0                  0\n",
       "1002    1     34.0   26900.0            0                  0\n",
       "1140    1     34.0   26900.0            0                  0"
      ]
     },
     "metadata": {},
     "output_type": "display_data"
    }
   ],
   "source": [
    "display(data[data.duplicated(keep=False) == True].sort_values('Зарплата').head(10))"
   ]
  },
  {
   "cell_type": "markdown",
   "metadata": {},
   "source": [
    "Действительно. Главный признак - совпадение зарплат. Видно, что они не повторяются более двух раз. И при таком повторении дополнительно и пол, и возраст, и члены семьи совпадают. Крайне маловероятно, что это разные люди. Удалим дубликаты."
   ]
  },
  {
   "cell_type": "code",
   "execution_count": 7,
   "metadata": {},
   "outputs": [
    {
     "name": "stdout",
     "output_type": "stream",
     "text": [
      "Количество явных дубликатов:  0\n",
      "\n",
      "<class 'pandas.core.frame.DataFrame'>\n",
      "RangeIndex: 4847 entries, 0 to 4846\n",
      "Data columns (total 5 columns):\n",
      " #   Column             Non-Null Count  Dtype  \n",
      "---  ------             --------------  -----  \n",
      " 0   Пол                4847 non-null   int64  \n",
      " 1   Возраст            4847 non-null   float64\n",
      " 2   Зарплата           4847 non-null   float64\n",
      " 3   Члены семьи        4847 non-null   int64  \n",
      " 4   Страховые выплаты  4847 non-null   int64  \n",
      "dtypes: float64(2), int64(3)\n",
      "memory usage: 189.5 KB\n"
     ]
    }
   ],
   "source": [
    "data = data.drop_duplicates().reset_index(drop=True)\n",
    "\n",
    "print('Количество явных дубликатов: ', data[data.duplicated() == True]['Пол'].count())\n",
    "print()\n",
    "data.info()"
   ]
  },
  {
   "cell_type": "markdown",
   "metadata": {},
   "source": [
    "Всё прекрасно. Пропусков нет, повторов тоже. Не данные, а сказка."
   ]
  },
  {
   "cell_type": "markdown",
   "metadata": {},
   "source": [
    "### Вывод"
   ]
  },
  {
   "cell_type": "markdown",
   "metadata": {},
   "source": [
    "Мы получили хороший пул данных, потребовалось лишь удалить явные дубликаты в размере 3% от объёма выборки. В остальном информация предоставлена нужных типов и подготовленная для обучения линейной регрессии."
   ]
  },
  {
   "cell_type": "markdown",
   "metadata": {},
   "source": [
    "## Умножение матриц"
   ]
  },
  {
   "cell_type": "markdown",
   "metadata": {},
   "source": [
    "Ответим на вопрос:\n",
    "\n",
    "**Изменится ли качество линейной регрессии, если признаки умножить на обратимую матрицу?**"
   ]
  },
  {
   "cell_type": "markdown",
   "metadata": {},
   "source": [
    "Обозначения:\n",
    "\n",
    "- $X$ — матрица признаков (нулевой столбец состоит из единиц)\n",
    "\n",
    "- $y$ — вектор целевого признака\n",
    "\n",
    "- $P$ — матрица, на которую умножаются признаки\n",
    "\n",
    "- $w$ — вектор весов линейной регрессии (нулевой элемент равен сдвигу)"
   ]
  },
  {
   "cell_type": "markdown",
   "metadata": {},
   "source": [
    "Предсказания:\n",
    "\n",
    "$$\n",
    "a = Xw\n",
    "$$\n",
    "\n",
    "Задача обучения:\n",
    "\n",
    "$$\n",
    "w = \\arg\\min_w MSE(Xw, y)\n",
    "$$\n",
    "\n",
    "Формула обучения:\n",
    "\n",
    "$$\n",
    "w = (X^T X)^{-1} X^T y\n",
    "$$"
   ]
  },
  {
   "cell_type": "markdown",
   "metadata": {},
   "source": [
    "**Ответ:** Качество линейной регрессии **НЕ ИЗМЕНИТСЯ**.\n",
    "\n",
    "**Обоснование:**\n",
    "\n",
    "Рассмотрим с математической точки зрения, что произойдёт, если мы матрицу признаков умножим на обратимую (а значит, квадратную) матрицу. Введём необходимые обозначения:\n",
    "\n",
    "- $w_i$ - вектор весов линейной регрессии после умножения признаков на матрицу $P$\n",
    "- $a_i$ - предсказания после кодирования\n",
    "\n",
    "Формула обучения примет вид:\n",
    "\n",
    "$$\n",
    "w_i = ((X P)^T X P)^{-1} (X P)^T y\n",
    "$$\n",
    "\n",
    "Выполним преобразования с использованием свойств обратных и транспонированных матриц:\n",
    "- Транспонированное произведение матриц равно произведению транспонированных матриц, взятых в обратном порядке.\n",
    "- Обратное произведение квадратных матриц равно произведению обратных матриц, взятых в обратном порядке.\n",
    "- Сочетательное свойство произведения матриц\n",
    "\n",
    "Действие №1. $(X P)^T = P^T X^T$. Результат:\n",
    "$$\n",
    "w_i = (P^T X^T X P)^{-1} P^T X^T y\n",
    "$$\n",
    "\n",
    "Действие №2. Выделим скобками произведения матриц, которые входят в стандартную формулу обучения. Получаем:\n",
    "\n",
    "$$\n",
    "w_i = (P^T (X^T X) P)^{-1} P^T (X^T y)\n",
    "$$\n",
    "\n",
    "Действие №3. $(P^T (X^T X) P)^{-1} = (X^T X) P)^{-1} (P^T)^{-1}$. В итоге:\n",
    "\n",
    "$$\n",
    "w_i = (X^T X) P)^{-1} (P^T)^{-1} P^T (X^T y)\n",
    "$$\n",
    "\n",
    "Действие №4. $(X^T X) P)^{-1} = P^{-1} (X^T X)^{-1}$ и $(P^T)^{-1} P^T = E$. В результате:\n",
    "\n",
    "$$\n",
    "w_i = P^{-1} (X^T X)^{-1} E (X^T y)\n",
    "$$\n",
    "\n",
    "Действие №5. Выделим скобками произведения матриц, которые входят в стандартную формулу обучения. Получаем:\n",
    "\n",
    "$$\n",
    "w_i = P^{-1} (X^T X)^{-1} (E X^T) y\n",
    "$$\n",
    "\n",
    "Действие №6. $(E X^T) = X^T$ Формула ещё упрощается:\n",
    "\n",
    "$$\n",
    "w_i = P^{-1} (X^T X)^{-1} X^T y\n",
    "$$\n",
    "\n",
    "Действие №7. И о чудо! $(X^T X)^{-1} X^T y = w$. А значит веса после кодирования будут равны произведению обратной матрицы P и вектора весов без кодирования:\n",
    "\n",
    "$$\n",
    "w_i = P^{-1} w\n",
    "$$\n",
    "\n",
    "Какие же предсказания будут после кодирования и обучения? Проверим математически, применяя те же свойства:\n",
    "\n",
    "\n",
    "Действие №1. Запишем формулу вектора предсказаний с учётом умножения матрицы признаков на обратимую матрицу:\n",
    "\n",
    "$$\n",
    "a_i = X P w_i\n",
    "$$\n",
    "\n",
    "Действие №2. Используем ранее полученную формулу $w_i = P^{-1} w$:\n",
    "\n",
    "$$\n",
    "a_i = X P P^{-1} w\n",
    "$$\n",
    "\n",
    "Действие №3. Видим $P P^{-1} = E$:\n",
    "\n",
    "$$\n",
    "a_i = X E w\n",
    "$$\n",
    "\n",
    "Действие №4. И $X E = X$:\n",
    "\n",
    "$$\n",
    "a_i = X w\n",
    "$$\n",
    "\n",
    "Действие №5. А $X w = a$:\n",
    "\n",
    "$$\n",
    "a_i = a\n",
    "$$"
   ]
  },
  {
   "cell_type": "markdown",
   "metadata": {},
   "source": [
    "### Вывод"
   ]
  },
  {
   "cell_type": "markdown",
   "metadata": {},
   "source": [
    "Таким образом видим, что даже после умножения признаков на обратную матрицу, предсказания после обучения модели по кодированным признакам должно быть таким же. **Значит задача обучения не претерпит изменений, а веса линейной регрессии после преобразования будут результатом умножения обратной матрицы P и весов до преобразования**. Осталось проверить на практике."
   ]
  },
  {
   "cell_type": "markdown",
   "metadata": {},
   "source": [
    "## Алгоритм преобразования"
   ]
  },
  {
   "cell_type": "markdown",
   "metadata": {},
   "source": [
    "**Алгоритм**\n",
    "\n",
    "1. Создание случайной квадратной матрицы размерностью равной количеству признаков.\n",
    "2. Проверка на обратимость матрицы\n",
    "3. Если матрица необратима, повторяем пункты 1-2. Если обратима, переходим к следующему шагу.\n",
    "4. Кодируем признаки умножением матрицы признаков на случайную обратимую матрицу и сохраняем результат в переменную в виде датафрейма.\n",
    "5. Обучаем линейную регрессию на исходных и на зашифрованных данных\n",
    "6. Сравниваем получившиеся метрики качества модели R2 на исходных и на зашифрованных данных."
   ]
  },
  {
   "cell_type": "markdown",
   "metadata": {},
   "source": [
    "**Обоснование**\n",
    "\n",
    "1. При таком условии в результате получим матрицу кодированных признаков той же размерности, что и исходная.\n",
    "2. Необходимая проверка, т.к. иначе математические преобразования описанные выше будут невозможны и получим ошибку обучения модели. Процесс проверки основан на применении np.linalg.inv() к сгенерированной матрице. Если она необратима, получим ошибку применения данной функции, а значит пригодится конструкция try - except. \n",
    "\n",
    "Остальное чистая техника.\n",
    "\n",
    "При таком алгоритме кодирования, необходимо знать конкретную \"кодирующую\" матрицу, чтобы расшифровать данные. Так как мы получаем её случайно, подобрать её не представляется возможным.\n",
    "\n",
    "При этом ключ к расшифровке нужно хранить за семью печатями, как и незашифрованные данные."
   ]
  },
  {
   "cell_type": "markdown",
   "metadata": {},
   "source": [
    "Запрограммируем алгоритм в преобразующую функцию:"
   ]
  },
  {
   "cell_type": "code",
   "execution_count": 9,
   "metadata": {},
   "outputs": [],
   "source": [
    "def coding(features):\n",
    "    # получаем матрицу из датафрейма\n",
    "    features_matrix = features.values\n",
    "    # получаем размерность кодирующей случайной матрицы\n",
    "    size = features_matrix.shape[1]\n",
    "    \n",
    "    # проверяем обратимость матрицы вызовом np.linalg.inv. Если выдаст ошибку - матрица необратима,\n",
    "    # тормозим функцию и выдаём соответствующее сообщение\n",
    "    try:\n",
    "        code_matrix = np.random.normal(size=(size, size))\n",
    "        code_inv_matrix = np.linalg.inv(code_matrix)        \n",
    "    except:\n",
    "        # так как получить случайным образом необратимую матрицу крайне маловероятно, \n",
    "        # думаю будет достаточно подобной \"заглушки\" на такой случай\n",
    "        print('Кодирующая матрица необратима, попробуйте ещё раз')\n",
    "        return \n",
    "    \n",
    "    # кодируем матрицу признаков\n",
    "    coded_features_matrix = features_matrix @ code_matrix\n",
    "    # преобразуем матрицу в датафрейм\n",
    "    coded_features = pd.DataFrame(coded_features_matrix, columns=features.columns)\n",
    "    \n",
    "    return coded_features, code_matrix"
   ]
  },
  {
   "cell_type": "markdown",
   "metadata": {},
   "source": [
    "## Проверка алгоритма"
   ]
  },
  {
   "cell_type": "markdown",
   "metadata": {},
   "source": [
    "Проверим алгоритм кодирования с помощью кросс-валидации. Качество будет определено точнее и делить на валидационную и обучающую выборку не нужно - сэкономим строки кода. Для определения качества модели будем использовать метрику R2, создав скорер для функции кросс-валидации."
   ]
  },
  {
   "cell_type": "code",
   "execution_count": 10,
   "metadata": {},
   "outputs": [
    {
     "name": "stdout",
     "output_type": "stream",
     "text": [
      "Среднее качество модели до кодирования (кросс-валидация):  0.42779425802804927\n"
     ]
    }
   ],
   "source": [
    "features = data.drop(['Страховые выплаты'], axis=1)\n",
    "target = data['Страховые выплаты']\n",
    "\n",
    "r2_scorer = make_scorer(r2_score)\n",
    "\n",
    "model = LinearRegression()\n",
    "cv_score_before = cross_val_score(model, features, target, cv=5, scoring=r2_scorer).mean()\n",
    "print('Среднее качество модели до кодирования (кросс-валидация): ', cv_score_before)"
   ]
  },
  {
   "cell_type": "markdown",
   "metadata": {},
   "source": [
    "Закодируем признаки и взглянем визуально на результат."
   ]
  },
  {
   "cell_type": "code",
   "execution_count": 11,
   "metadata": {},
   "outputs": [
    {
     "data": {
      "text/html": [
       "<div>\n",
       "<style scoped>\n",
       "    .dataframe tbody tr th:only-of-type {\n",
       "        vertical-align: middle;\n",
       "    }\n",
       "\n",
       "    .dataframe tbody tr th {\n",
       "        vertical-align: top;\n",
       "    }\n",
       "\n",
       "    .dataframe thead th {\n",
       "        text-align: right;\n",
       "    }\n",
       "</style>\n",
       "<table border=\"1\" class=\"dataframe\">\n",
       "  <thead>\n",
       "    <tr style=\"text-align: right;\">\n",
       "      <th></th>\n",
       "      <th>Пол</th>\n",
       "      <th>Возраст</th>\n",
       "      <th>Зарплата</th>\n",
       "      <th>Члены семьи</th>\n",
       "    </tr>\n",
       "  </thead>\n",
       "  <tbody>\n",
       "    <tr>\n",
       "      <th>1668</th>\n",
       "      <td>-22800.768466</td>\n",
       "      <td>-56804.916570</td>\n",
       "      <td>56724.860325</td>\n",
       "      <td>-58569.130567</td>\n",
       "    </tr>\n",
       "    <tr>\n",
       "      <th>2263</th>\n",
       "      <td>-19782.686828</td>\n",
       "      <td>-49186.357033</td>\n",
       "      <td>49092.934809</td>\n",
       "      <td>-50745.164118</td>\n",
       "    </tr>\n",
       "    <tr>\n",
       "      <th>4774</th>\n",
       "      <td>-24233.992060</td>\n",
       "      <td>-60376.965769</td>\n",
       "      <td>60291.539321</td>\n",
       "      <td>-62252.374830</td>\n",
       "    </tr>\n",
       "    <tr>\n",
       "      <th>2649</th>\n",
       "      <td>-16850.302676</td>\n",
       "      <td>-41919.932450</td>\n",
       "      <td>41846.615795</td>\n",
       "      <td>-43242.263847</td>\n",
       "    </tr>\n",
       "    <tr>\n",
       "      <th>4220</th>\n",
       "      <td>-20329.304615</td>\n",
       "      <td>-50613.346052</td>\n",
       "      <td>50533.929514</td>\n",
       "      <td>-52196.178165</td>\n",
       "    </tr>\n",
       "  </tbody>\n",
       "</table>\n",
       "</div>"
      ],
      "text/plain": [
       "               Пол       Возраст      Зарплата   Члены семьи\n",
       "1668 -22800.768466 -56804.916570  56724.860325 -58569.130567\n",
       "2263 -19782.686828 -49186.357033  49092.934809 -50745.164118\n",
       "4774 -24233.992060 -60376.965769  60291.539321 -62252.374830\n",
       "2649 -16850.302676 -41919.932450  41846.615795 -43242.263847\n",
       "4220 -20329.304615 -50613.346052  50533.929514 -52196.178165"
      ]
     },
     "metadata": {},
     "output_type": "display_data"
    },
    {
     "name": "stdout",
     "output_type": "stream",
     "text": [
      "\n",
      "Кодирующая матрица:\n",
      "[[-0.66962432 -0.83519782  0.66281501  0.18700574]\n",
      " [-1.74873282 -0.11275565 -0.88928051 -1.48560742]\n",
      " [-0.47696298 -1.19079506  1.18970854 -1.22699624]\n",
      " [ 0.4931994  -0.27371474 -0.00524881  0.90267234]]\n"
     ]
    }
   ],
   "source": [
    "coded_features, code_matrix = coding(features)\n",
    "\n",
    "display(coded_features.sample(5))\n",
    "print()\n",
    "print('Кодирующая матрица:')\n",
    "print(code_matrix)"
   ]
  },
  {
   "cell_type": "markdown",
   "metadata": {},
   "source": [
    "Кодирование прошло успешно. Столбец \"Пол\" об этом особенно громко заявляет. Возможных реальных значений всего два, а у нас в пяти случайных строках разные значения.\n",
    "\n",
    "Проверим качество модели на закодированных признаках и сравним с качеством на незакодированных."
   ]
  },
  {
   "cell_type": "code",
   "execution_count": 12,
   "metadata": {
    "scrolled": false
   },
   "outputs": [
    {
     "name": "stdout",
     "output_type": "stream",
     "text": [
      "Среднее качество модели до кодирования (кросс-валидация):  0.42779425802804927\n",
      "Среднее качество модели после кодирования (кросс-валидация):  0.4277942580281099\n",
      "Разница в качестве до и после кодирования:  6.061817714453355e-14\n"
     ]
    }
   ],
   "source": [
    "cv_score_after = cross_val_score(model, coded_features, target, cv=5, scoring=r2_scorer).mean()\n",
    "\n",
    "print('Среднее качество модели до кодирования (кросс-валидация): ', cv_score_before)\n",
    "print('Среднее качество модели после кодирования (кросс-валидация): ', cv_score_after)\n",
    "print('Разница в качестве до и после кодирования: ', abs(cv_score_after - cv_score_before))"
   ]
  },
  {
   "cell_type": "markdown",
   "metadata": {},
   "source": [
    "Плохие новости - качество разное. Хорошие новости - разница ооочень маленькая. Думаю, что она получается из-за неодинакового разделения на выборки при работе функции кросс-валидации до кодирования и после. А может и округление где-то сыграло роль."
   ]
  },
  {
   "cell_type": "markdown",
   "metadata": {},
   "source": [
    "## Общий итог"
   ]
  },
  {
   "cell_type": "markdown",
   "metadata": {},
   "source": [
    "Мы получили хороший пул данных, потребовалось лишь удалить явные дубликаты в размере 3% от объёма выборки. В остальном информация предоставлена нужных типов и подготовленная для обучения линейной регрессии."
   ]
  },
  {
   "cell_type": "markdown",
   "metadata": {},
   "source": [
    "Далее доказали, что даже после умножения признаков на обратную матрицу, предсказания после обучения модели по кодированным признакам должны быть такими же. **А значит задача обучения не претерпит изменений**.\n",
    "\n",
    "**При этом веса линейной регрессии после преобразования будут результатом умножения обратной матрицы P и весов до преобразования**\n",
    "\n",
    "$$\n",
    "w_i = P^{-1} w\n",
    "$$\n",
    "\n",
    "Далее написали алгоритм кодирования данных и проверили качество моделей до кодирования признаков и после. Результат проверки такой:"
   ]
  },
  {
   "cell_type": "code",
   "execution_count": 13,
   "metadata": {},
   "outputs": [
    {
     "name": "stdout",
     "output_type": "stream",
     "text": [
      "Среднее качество модели до кодирования (кросс-валидация):  0.42779425802804927\n",
      "Среднее качество модели после кодирования (кросс-валидация):  0.4277942580281099\n",
      "Разница в качестве до и после кодирования:  6.061817714453355e-14\n"
     ]
    }
   ],
   "source": [
    "print('Среднее качество модели до кодирования (кросс-валидация): ', cv_score_before)\n",
    "print('Среднее качество модели после кодирования (кросс-валидация): ', cv_score_after)\n",
    "print('Разница в качестве до и после кодирования: ', abs(cv_score_after - cv_score_before))"
   ]
  },
  {
   "cell_type": "markdown",
   "metadata": {},
   "source": [
    "Получившаяся разница метрик R2 до и после кодирования очень мала, а значит можно утверждать, что **кодирование прошло успешно и не навредило качеству модели.**"
   ]
  }
 ],
 "metadata": {
  "ExecuteTimeLog": [
   {
    "duration": 46,
    "start_time": "2022-08-25T12:58:11.227Z"
   },
   {
    "duration": 1199,
    "start_time": "2022-08-25T12:58:16.275Z"
   },
   {
    "duration": 99,
    "start_time": "2022-08-25T12:58:17.476Z"
   },
   {
    "duration": 16,
    "start_time": "2022-08-25T12:58:17.576Z"
   },
   {
    "duration": 5,
    "start_time": "2022-08-25T12:58:17.593Z"
   },
   {
    "duration": 9,
    "start_time": "2022-08-25T12:58:17.600Z"
   },
   {
    "duration": 10,
    "start_time": "2022-08-25T12:58:17.611Z"
   },
   {
    "duration": 12,
    "start_time": "2022-08-25T12:58:17.623Z"
   },
   {
    "duration": 6,
    "start_time": "2022-08-25T12:58:17.637Z"
   },
   {
    "duration": 8,
    "start_time": "2022-08-25T12:58:58.483Z"
   },
   {
    "duration": 8,
    "start_time": "2022-08-25T13:00:57.044Z"
   },
   {
    "duration": 7,
    "start_time": "2022-08-25T13:02:29.564Z"
   },
   {
    "duration": 6,
    "start_time": "2022-08-25T13:06:19.761Z"
   },
   {
    "duration": 9,
    "start_time": "2022-08-25T13:13:32.408Z"
   },
   {
    "duration": 9,
    "start_time": "2022-08-25T13:14:13.346Z"
   },
   {
    "duration": 8,
    "start_time": "2022-08-25T13:14:24.265Z"
   },
   {
    "duration": 11,
    "start_time": "2022-08-25T13:16:31.314Z"
   },
   {
    "duration": 13,
    "start_time": "2022-08-25T13:16:42.616Z"
   },
   {
    "duration": 8,
    "start_time": "2022-08-25T13:18:11.796Z"
   },
   {
    "duration": 1077,
    "start_time": "2022-08-25T13:22:23.256Z"
   },
   {
    "duration": 36,
    "start_time": "2022-08-25T13:22:24.335Z"
   },
   {
    "duration": 16,
    "start_time": "2022-08-25T13:22:24.372Z"
   },
   {
    "duration": 18,
    "start_time": "2022-08-25T13:22:24.391Z"
   },
   {
    "duration": 11,
    "start_time": "2022-08-25T13:22:24.413Z"
   },
   {
    "duration": 20,
    "start_time": "2022-08-25T13:22:24.426Z"
   },
   {
    "duration": 24,
    "start_time": "2022-08-25T13:22:24.448Z"
   },
   {
    "duration": 15,
    "start_time": "2022-08-25T13:22:24.474Z"
   },
   {
    "duration": 14,
    "start_time": "2022-08-25T13:22:24.491Z"
   },
   {
    "duration": 52,
    "start_time": "2022-08-25T13:22:24.507Z"
   },
   {
    "duration": 30,
    "start_time": "2022-08-25T13:22:24.562Z"
   },
   {
    "duration": 121,
    "start_time": "2022-08-25T13:22:24.593Z"
   },
   {
    "duration": 4,
    "start_time": "2022-08-25T13:22:24.715Z"
   }
  ],
  "kernelspec": {
   "display_name": "Python 3 (ipykernel)",
   "language": "python",
   "name": "python3"
  },
  "language_info": {
   "codemirror_mode": {
    "name": "ipython",
    "version": 3
   },
   "file_extension": ".py",
   "mimetype": "text/x-python",
   "name": "python",
   "nbconvert_exporter": "python",
   "pygments_lexer": "ipython3",
   "version": "3.9.13"
  },
  "toc": {
   "base_numbering": 1,
   "nav_menu": {},
   "number_sections": true,
   "sideBar": true,
   "skip_h1_title": true,
   "title_cell": "Содержание",
   "title_sidebar": "Contents",
   "toc_cell": true,
   "toc_position": {
    "height": "calc(100% - 180px)",
    "left": "10px",
    "top": "150px",
    "width": "280.594px"
   },
   "toc_section_display": true,
   "toc_window_display": true
  }
 },
 "nbformat": 4,
 "nbformat_minor": 2
}
