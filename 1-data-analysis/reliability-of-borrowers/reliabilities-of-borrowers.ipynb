{
 "cells": [
  {
   "cell_type": "markdown",
   "id": "f31bd5b7",
   "metadata": {},
   "source": [
    "# Исследование надежности заемщиков."
   ]
  },
  {
   "cell_type": "markdown",
   "id": "a96ea560",
   "metadata": {},
   "source": [
    "Заказчик — кредитный отдел банка. Нужно разобраться, влияет ли семейное положение и количество детей клиента на факт погашения кредита в срок. Входные данные от банка — статистика о платёжеспособности клиентов.\n",
    "Результаты исследования будут учтены при построении модели кредитного скоринга — специальной системы, которая оценивает способность потенциального заёмщика вернуть кредит банку.\n",
    "\n",
    "    \n",
    "<b>Описание данных</b>\n",
    "- children — количество детей в семье\n",
    "- days_employed — общий трудовой стаж в днях\n",
    "- dob_years — возраст клиента в годах\n",
    "- education — уровень образования клиента\n",
    "- education_id — идентификатор уровня образования\n",
    "- family_status — семейное положение\n",
    "- family_status_id — идентификатор семейного положения\n",
    "- gender — пол клиента\n",
    "- income_type — тип занятости\n",
    "- debt — имел ли задолженность по возврату кредитов\n",
    "- total_income — ежемесячный доход\n",
    "- purpose — цель получения кредита."
   ]
  },
  {
   "cell_type": "markdown",
   "id": "927eda30",
   "metadata": {},
   "source": [
    "## Обзор данных"
   ]
  },
  {
   "cell_type": "markdown",
   "id": "60151a7a",
   "metadata": {},
   "source": [
    "Обзор данных начнём с чтения файла и вывода общей информации о получившемся датафрейме, чтобы выявить возможные ошибки в названиях столбцов и получить представление о наличии пропусков:"
   ]
  },
  {
   "cell_type": "code",
   "execution_count": 21,
   "id": "3346808d",
   "metadata": {},
   "outputs": [
    {
     "name": "stdout",
     "output_type": "stream",
     "text": [
      "<class 'pandas.core.frame.DataFrame'>\n",
      "RangeIndex: 21525 entries, 0 to 21524\n",
      "Data columns (total 12 columns):\n",
      "children            21525 non-null int64\n",
      "days_employed       19351 non-null float64\n",
      "dob_years           21525 non-null int64\n",
      "education           21525 non-null object\n",
      "education_id        21525 non-null int64\n",
      "family_status       21525 non-null object\n",
      "family_status_id    21525 non-null int64\n",
      "gender              21525 non-null object\n",
      "income_type         21525 non-null object\n",
      "debt                21525 non-null int64\n",
      "total_income        19351 non-null float64\n",
      "purpose             21525 non-null object\n",
      "dtypes: float64(2), int64(5), object(5)\n",
      "memory usage: 2.0+ MB\n"
     ]
    }
   ],
   "source": [
    "import pandas as pd\n",
    "\n",
    "data = pd.read_csv('/datasets/data.csv')\n",
    "data.info()"
   ]
  },
  {
   "cell_type": "markdown",
   "id": "1bbdfc31",
   "metadata": {},
   "source": [
    "С названиями столбцов порядок, но есть **пропуски** в столбцах **total_income** и **days_employed**.\n",
    "Выведем первые 10 строк таблицы, чтобы поближе ознакомиться с данными:"
   ]
  },
  {
   "cell_type": "code",
   "execution_count": 22,
   "id": "9303f3b6",
   "metadata": {},
   "outputs": [
    {
     "data": {
      "text/html": [
       "<div>\n",
       "<style scoped>\n",
       "    .dataframe tbody tr th:only-of-type {\n",
       "        vertical-align: middle;\n",
       "    }\n",
       "\n",
       "    .dataframe tbody tr th {\n",
       "        vertical-align: top;\n",
       "    }\n",
       "\n",
       "    .dataframe thead th {\n",
       "        text-align: right;\n",
       "    }\n",
       "</style>\n",
       "<table border=\"1\" class=\"dataframe\">\n",
       "  <thead>\n",
       "    <tr style=\"text-align: right;\">\n",
       "      <th></th>\n",
       "      <th>children</th>\n",
       "      <th>days_employed</th>\n",
       "      <th>dob_years</th>\n",
       "      <th>education</th>\n",
       "      <th>education_id</th>\n",
       "      <th>family_status</th>\n",
       "      <th>family_status_id</th>\n",
       "      <th>gender</th>\n",
       "      <th>income_type</th>\n",
       "      <th>debt</th>\n",
       "      <th>total_income</th>\n",
       "      <th>purpose</th>\n",
       "    </tr>\n",
       "  </thead>\n",
       "  <tbody>\n",
       "    <tr>\n",
       "      <td>0</td>\n",
       "      <td>1</td>\n",
       "      <td>-8437.673028</td>\n",
       "      <td>42</td>\n",
       "      <td>высшее</td>\n",
       "      <td>0</td>\n",
       "      <td>женат / замужем</td>\n",
       "      <td>0</td>\n",
       "      <td>F</td>\n",
       "      <td>сотрудник</td>\n",
       "      <td>0</td>\n",
       "      <td>253875.639453</td>\n",
       "      <td>покупка жилья</td>\n",
       "    </tr>\n",
       "    <tr>\n",
       "      <td>1</td>\n",
       "      <td>1</td>\n",
       "      <td>-4024.803754</td>\n",
       "      <td>36</td>\n",
       "      <td>среднее</td>\n",
       "      <td>1</td>\n",
       "      <td>женат / замужем</td>\n",
       "      <td>0</td>\n",
       "      <td>F</td>\n",
       "      <td>сотрудник</td>\n",
       "      <td>0</td>\n",
       "      <td>112080.014102</td>\n",
       "      <td>приобретение автомобиля</td>\n",
       "    </tr>\n",
       "    <tr>\n",
       "      <td>2</td>\n",
       "      <td>0</td>\n",
       "      <td>-5623.422610</td>\n",
       "      <td>33</td>\n",
       "      <td>Среднее</td>\n",
       "      <td>1</td>\n",
       "      <td>женат / замужем</td>\n",
       "      <td>0</td>\n",
       "      <td>M</td>\n",
       "      <td>сотрудник</td>\n",
       "      <td>0</td>\n",
       "      <td>145885.952297</td>\n",
       "      <td>покупка жилья</td>\n",
       "    </tr>\n",
       "    <tr>\n",
       "      <td>3</td>\n",
       "      <td>3</td>\n",
       "      <td>-4124.747207</td>\n",
       "      <td>32</td>\n",
       "      <td>среднее</td>\n",
       "      <td>1</td>\n",
       "      <td>женат / замужем</td>\n",
       "      <td>0</td>\n",
       "      <td>M</td>\n",
       "      <td>сотрудник</td>\n",
       "      <td>0</td>\n",
       "      <td>267628.550329</td>\n",
       "      <td>дополнительное образование</td>\n",
       "    </tr>\n",
       "    <tr>\n",
       "      <td>4</td>\n",
       "      <td>0</td>\n",
       "      <td>340266.072047</td>\n",
       "      <td>53</td>\n",
       "      <td>среднее</td>\n",
       "      <td>1</td>\n",
       "      <td>гражданский брак</td>\n",
       "      <td>1</td>\n",
       "      <td>F</td>\n",
       "      <td>пенсионер</td>\n",
       "      <td>0</td>\n",
       "      <td>158616.077870</td>\n",
       "      <td>сыграть свадьбу</td>\n",
       "    </tr>\n",
       "    <tr>\n",
       "      <td>5</td>\n",
       "      <td>0</td>\n",
       "      <td>-926.185831</td>\n",
       "      <td>27</td>\n",
       "      <td>высшее</td>\n",
       "      <td>0</td>\n",
       "      <td>гражданский брак</td>\n",
       "      <td>1</td>\n",
       "      <td>M</td>\n",
       "      <td>компаньон</td>\n",
       "      <td>0</td>\n",
       "      <td>255763.565419</td>\n",
       "      <td>покупка жилья</td>\n",
       "    </tr>\n",
       "    <tr>\n",
       "      <td>6</td>\n",
       "      <td>0</td>\n",
       "      <td>-2879.202052</td>\n",
       "      <td>43</td>\n",
       "      <td>высшее</td>\n",
       "      <td>0</td>\n",
       "      <td>женат / замужем</td>\n",
       "      <td>0</td>\n",
       "      <td>F</td>\n",
       "      <td>компаньон</td>\n",
       "      <td>0</td>\n",
       "      <td>240525.971920</td>\n",
       "      <td>операции с жильем</td>\n",
       "    </tr>\n",
       "    <tr>\n",
       "      <td>7</td>\n",
       "      <td>0</td>\n",
       "      <td>-152.779569</td>\n",
       "      <td>50</td>\n",
       "      <td>СРЕДНЕЕ</td>\n",
       "      <td>1</td>\n",
       "      <td>женат / замужем</td>\n",
       "      <td>0</td>\n",
       "      <td>M</td>\n",
       "      <td>сотрудник</td>\n",
       "      <td>0</td>\n",
       "      <td>135823.934197</td>\n",
       "      <td>образование</td>\n",
       "    </tr>\n",
       "    <tr>\n",
       "      <td>8</td>\n",
       "      <td>2</td>\n",
       "      <td>-6929.865299</td>\n",
       "      <td>35</td>\n",
       "      <td>ВЫСШЕЕ</td>\n",
       "      <td>0</td>\n",
       "      <td>гражданский брак</td>\n",
       "      <td>1</td>\n",
       "      <td>F</td>\n",
       "      <td>сотрудник</td>\n",
       "      <td>0</td>\n",
       "      <td>95856.832424</td>\n",
       "      <td>на проведение свадьбы</td>\n",
       "    </tr>\n",
       "    <tr>\n",
       "      <td>9</td>\n",
       "      <td>0</td>\n",
       "      <td>-2188.756445</td>\n",
       "      <td>41</td>\n",
       "      <td>среднее</td>\n",
       "      <td>1</td>\n",
       "      <td>женат / замужем</td>\n",
       "      <td>0</td>\n",
       "      <td>M</td>\n",
       "      <td>сотрудник</td>\n",
       "      <td>0</td>\n",
       "      <td>144425.938277</td>\n",
       "      <td>покупка жилья для семьи</td>\n",
       "    </tr>\n",
       "  </tbody>\n",
       "</table>\n",
       "</div>"
      ],
      "text/plain": [
       "   children  days_employed  dob_years education  education_id  \\\n",
       "0         1   -8437.673028         42    высшее             0   \n",
       "1         1   -4024.803754         36   среднее             1   \n",
       "2         0   -5623.422610         33   Среднее             1   \n",
       "3         3   -4124.747207         32   среднее             1   \n",
       "4         0  340266.072047         53   среднее             1   \n",
       "5         0    -926.185831         27    высшее             0   \n",
       "6         0   -2879.202052         43    высшее             0   \n",
       "7         0    -152.779569         50   СРЕДНЕЕ             1   \n",
       "8         2   -6929.865299         35    ВЫСШЕЕ             0   \n",
       "9         0   -2188.756445         41   среднее             1   \n",
       "\n",
       "      family_status  family_status_id gender income_type  debt   total_income  \\\n",
       "0   женат / замужем                 0      F   сотрудник     0  253875.639453   \n",
       "1   женат / замужем                 0      F   сотрудник     0  112080.014102   \n",
       "2   женат / замужем                 0      M   сотрудник     0  145885.952297   \n",
       "3   женат / замужем                 0      M   сотрудник     0  267628.550329   \n",
       "4  гражданский брак                 1      F   пенсионер     0  158616.077870   \n",
       "5  гражданский брак                 1      M   компаньон     0  255763.565419   \n",
       "6   женат / замужем                 0      F   компаньон     0  240525.971920   \n",
       "7   женат / замужем                 0      M   сотрудник     0  135823.934197   \n",
       "8  гражданский брак                 1      F   сотрудник     0   95856.832424   \n",
       "9   женат / замужем                 0      M   сотрудник     0  144425.938277   \n",
       "\n",
       "                      purpose  \n",
       "0               покупка жилья  \n",
       "1     приобретение автомобиля  \n",
       "2               покупка жилья  \n",
       "3  дополнительное образование  \n",
       "4             сыграть свадьбу  \n",
       "5               покупка жилья  \n",
       "6           операции с жильем  \n",
       "7                 образование  \n",
       "8       на проведение свадьбы  \n",
       "9     покупка жилья для семьи  "
      ]
     },
     "metadata": {},
     "output_type": "display_data"
    }
   ],
   "source": [
    "display(data.head(10))"
   ]
  },
  {
   "cell_type": "markdown",
   "id": "069732fd",
   "metadata": {},
   "source": [
    "В глаза бросаются аномалии, с которыми предстоит разобаться:\n",
    "- столбец days_employed: отрицательные и нереально большое значение соответствующее порядку 1000 лет. \n",
    "- столбец education: значения записаны разным регистром\n",
    "\n",
    "Пропусков не замечено в первых строках таблицы, поэтому поищем их:"
   ]
  },
  {
   "cell_type": "code",
   "execution_count": 23,
   "id": "35d882f1",
   "metadata": {},
   "outputs": [
    {
     "data": {
      "text/html": [
       "<div>\n",
       "<style scoped>\n",
       "    .dataframe tbody tr th:only-of-type {\n",
       "        vertical-align: middle;\n",
       "    }\n",
       "\n",
       "    .dataframe tbody tr th {\n",
       "        vertical-align: top;\n",
       "    }\n",
       "\n",
       "    .dataframe thead th {\n",
       "        text-align: right;\n",
       "    }\n",
       "</style>\n",
       "<table border=\"1\" class=\"dataframe\">\n",
       "  <thead>\n",
       "    <tr style=\"text-align: right;\">\n",
       "      <th></th>\n",
       "      <th>children</th>\n",
       "      <th>days_employed</th>\n",
       "      <th>dob_years</th>\n",
       "      <th>education</th>\n",
       "      <th>education_id</th>\n",
       "      <th>family_status</th>\n",
       "      <th>family_status_id</th>\n",
       "      <th>gender</th>\n",
       "      <th>income_type</th>\n",
       "      <th>debt</th>\n",
       "      <th>total_income</th>\n",
       "      <th>purpose</th>\n",
       "    </tr>\n",
       "  </thead>\n",
       "  <tbody>\n",
       "    <tr>\n",
       "      <td>12</td>\n",
       "      <td>0</td>\n",
       "      <td>NaN</td>\n",
       "      <td>65</td>\n",
       "      <td>среднее</td>\n",
       "      <td>1</td>\n",
       "      <td>гражданский брак</td>\n",
       "      <td>1</td>\n",
       "      <td>M</td>\n",
       "      <td>пенсионер</td>\n",
       "      <td>0</td>\n",
       "      <td>NaN</td>\n",
       "      <td>сыграть свадьбу</td>\n",
       "    </tr>\n",
       "    <tr>\n",
       "      <td>26</td>\n",
       "      <td>0</td>\n",
       "      <td>NaN</td>\n",
       "      <td>41</td>\n",
       "      <td>среднее</td>\n",
       "      <td>1</td>\n",
       "      <td>женат / замужем</td>\n",
       "      <td>0</td>\n",
       "      <td>M</td>\n",
       "      <td>госслужащий</td>\n",
       "      <td>0</td>\n",
       "      <td>NaN</td>\n",
       "      <td>образование</td>\n",
       "    </tr>\n",
       "    <tr>\n",
       "      <td>29</td>\n",
       "      <td>0</td>\n",
       "      <td>NaN</td>\n",
       "      <td>63</td>\n",
       "      <td>среднее</td>\n",
       "      <td>1</td>\n",
       "      <td>Не женат / не замужем</td>\n",
       "      <td>4</td>\n",
       "      <td>F</td>\n",
       "      <td>пенсионер</td>\n",
       "      <td>0</td>\n",
       "      <td>NaN</td>\n",
       "      <td>строительство жилой недвижимости</td>\n",
       "    </tr>\n",
       "    <tr>\n",
       "      <td>41</td>\n",
       "      <td>0</td>\n",
       "      <td>NaN</td>\n",
       "      <td>50</td>\n",
       "      <td>среднее</td>\n",
       "      <td>1</td>\n",
       "      <td>женат / замужем</td>\n",
       "      <td>0</td>\n",
       "      <td>F</td>\n",
       "      <td>госслужащий</td>\n",
       "      <td>0</td>\n",
       "      <td>NaN</td>\n",
       "      <td>сделка с подержанным автомобилем</td>\n",
       "    </tr>\n",
       "    <tr>\n",
       "      <td>55</td>\n",
       "      <td>0</td>\n",
       "      <td>NaN</td>\n",
       "      <td>54</td>\n",
       "      <td>среднее</td>\n",
       "      <td>1</td>\n",
       "      <td>гражданский брак</td>\n",
       "      <td>1</td>\n",
       "      <td>F</td>\n",
       "      <td>пенсионер</td>\n",
       "      <td>1</td>\n",
       "      <td>NaN</td>\n",
       "      <td>сыграть свадьбу</td>\n",
       "    </tr>\n",
       "    <tr>\n",
       "      <td>65</td>\n",
       "      <td>0</td>\n",
       "      <td>NaN</td>\n",
       "      <td>21</td>\n",
       "      <td>среднее</td>\n",
       "      <td>1</td>\n",
       "      <td>Не женат / не замужем</td>\n",
       "      <td>4</td>\n",
       "      <td>M</td>\n",
       "      <td>компаньон</td>\n",
       "      <td>0</td>\n",
       "      <td>NaN</td>\n",
       "      <td>операции с коммерческой недвижимостью</td>\n",
       "    </tr>\n",
       "    <tr>\n",
       "      <td>67</td>\n",
       "      <td>0</td>\n",
       "      <td>NaN</td>\n",
       "      <td>52</td>\n",
       "      <td>высшее</td>\n",
       "      <td>0</td>\n",
       "      <td>женат / замужем</td>\n",
       "      <td>0</td>\n",
       "      <td>F</td>\n",
       "      <td>пенсионер</td>\n",
       "      <td>0</td>\n",
       "      <td>NaN</td>\n",
       "      <td>покупка жилья для семьи</td>\n",
       "    </tr>\n",
       "    <tr>\n",
       "      <td>72</td>\n",
       "      <td>1</td>\n",
       "      <td>NaN</td>\n",
       "      <td>32</td>\n",
       "      <td>высшее</td>\n",
       "      <td>0</td>\n",
       "      <td>женат / замужем</td>\n",
       "      <td>0</td>\n",
       "      <td>M</td>\n",
       "      <td>госслужащий</td>\n",
       "      <td>0</td>\n",
       "      <td>NaN</td>\n",
       "      <td>операции с коммерческой недвижимостью</td>\n",
       "    </tr>\n",
       "    <tr>\n",
       "      <td>82</td>\n",
       "      <td>2</td>\n",
       "      <td>NaN</td>\n",
       "      <td>50</td>\n",
       "      <td>высшее</td>\n",
       "      <td>0</td>\n",
       "      <td>женат / замужем</td>\n",
       "      <td>0</td>\n",
       "      <td>F</td>\n",
       "      <td>сотрудник</td>\n",
       "      <td>0</td>\n",
       "      <td>NaN</td>\n",
       "      <td>жилье</td>\n",
       "    </tr>\n",
       "    <tr>\n",
       "      <td>83</td>\n",
       "      <td>0</td>\n",
       "      <td>NaN</td>\n",
       "      <td>52</td>\n",
       "      <td>среднее</td>\n",
       "      <td>1</td>\n",
       "      <td>женат / замужем</td>\n",
       "      <td>0</td>\n",
       "      <td>M</td>\n",
       "      <td>сотрудник</td>\n",
       "      <td>0</td>\n",
       "      <td>NaN</td>\n",
       "      <td>жилье</td>\n",
       "    </tr>\n",
       "  </tbody>\n",
       "</table>\n",
       "</div>"
      ],
      "text/plain": [
       "    children  days_employed  dob_years education  education_id  \\\n",
       "12         0            NaN         65   среднее             1   \n",
       "26         0            NaN         41   среднее             1   \n",
       "29         0            NaN         63   среднее             1   \n",
       "41         0            NaN         50   среднее             1   \n",
       "55         0            NaN         54   среднее             1   \n",
       "65         0            NaN         21   среднее             1   \n",
       "67         0            NaN         52    высшее             0   \n",
       "72         1            NaN         32    высшее             0   \n",
       "82         2            NaN         50    высшее             0   \n",
       "83         0            NaN         52   среднее             1   \n",
       "\n",
       "            family_status  family_status_id gender  income_type  debt  \\\n",
       "12       гражданский брак                 1      M    пенсионер     0   \n",
       "26        женат / замужем                 0      M  госслужащий     0   \n",
       "29  Не женат / не замужем                 4      F    пенсионер     0   \n",
       "41        женат / замужем                 0      F  госслужащий     0   \n",
       "55       гражданский брак                 1      F    пенсионер     1   \n",
       "65  Не женат / не замужем                 4      M    компаньон     0   \n",
       "67        женат / замужем                 0      F    пенсионер     0   \n",
       "72        женат / замужем                 0      M  госслужащий     0   \n",
       "82        женат / замужем                 0      F    сотрудник     0   \n",
       "83        женат / замужем                 0      M    сотрудник     0   \n",
       "\n",
       "    total_income                                purpose  \n",
       "12           NaN                        сыграть свадьбу  \n",
       "26           NaN                            образование  \n",
       "29           NaN       строительство жилой недвижимости  \n",
       "41           NaN       сделка с подержанным автомобилем  \n",
       "55           NaN                        сыграть свадьбу  \n",
       "65           NaN  операции с коммерческой недвижимостью  \n",
       "67           NaN                покупка жилья для семьи  \n",
       "72           NaN  операции с коммерческой недвижимостью  \n",
       "82           NaN                                  жилье  \n",
       "83           NaN                                  жилье  "
      ]
     },
     "metadata": {},
     "output_type": "display_data"
    }
   ],
   "source": [
    "display(data[data['days_employed'].isna() == True].head(10)) #сначала поищем в столбце 'days_employed'"
   ]
  },
  {
   "cell_type": "markdown",
   "id": "f34f894a",
   "metadata": {},
   "source": [
    "Обнаружены пропуски типа NaN, причём видно что, в строке с пропуском days_employed также присутствует пропуск в total_income. Из общей информации о датафрейме видно, что количество пропусков в двух столбцах одинаковое, поэтому считаю, что они встречаются в одних и тех же строках и причина их появления одна и та же.\n",
    "\n",
    "**По моему мнению, подобное возможно, если пользователь при вводе данных не указал трудовой стаж или ежемесячный доход. В таком случае обе строки заполняются NaN. Или это ошибка выгрузки**\n",
    "\n",
    "В строках с пропусками встречаются разные значения по остальным столбцам, поэтому считаю, что появление пропусков с ними не связано.\n",
    "\n",
    "Нужно принять решение об удалении строк с пропусками или их заполнении. Для этого посчитаем долю пропусков в обоих столбцах."
   ]
  },
  {
   "cell_type": "code",
   "execution_count": 24,
   "id": "5b11c5c9",
   "metadata": {},
   "outputs": [
    {
     "data": {
      "text/plain": [
       "0.10099883855981417"
      ]
     },
     "execution_count": 24,
     "metadata": {},
     "output_type": "execute_result"
    }
   ],
   "source": [
    "entries = data['dob_years'].count()\n",
    "entries_nan = entries - data['days_employed'].count()\n",
    "entries_nan / entries"
   ]
  },
  {
   "cell_type": "markdown",
   "id": "dc530caa",
   "metadata": {},
   "source": [
    "10% пропусков это много. Их лучше заполнить медианным значением - оно не окажет критического влияния на правдивость исследования, т.к. в отличие от среднего значения, медиана не подвержена влиянию аномально больших/маленьких значений.\n",
    "\n",
    "Кроме того, уже видно, что в столбцах с пропусками есть некорректные значения, поэтому считаю, что лучше сначала разобраться с ними, а потом заполнять пропуски"
   ]
  },
  {
   "cell_type": "markdown",
   "id": "646cde91",
   "metadata": {},
   "source": [
    "## Предобработка данных"
   ]
  },
  {
   "cell_type": "markdown",
   "id": "c1d3796e",
   "metadata": {},
   "source": [
    "В ходе размышлений над алгоритмом предобработки было принято решение сначала обрабатывать по очереди столбцы по всем возможным проблемам и артефактам: \n",
    "\n",
    "- пропуски\n",
    "- неявные дубликаты\n",
    "- аномальные значения\n",
    "- некорректный/неудобный тип данных\n",
    "\n",
    "Таким образом мы подготовим датафрейм к быстрому удалению дублирующих друг друга данных (ведь, к примеру, разный регистр может помешать распознать дубликат). Для этого понадобится всего одна строка кода."
   ]
  },
  {
   "cell_type": "markdown",
   "id": "8b94bd0e",
   "metadata": {},
   "source": [
    "### Работа со столбцами days_employed и total_income"
   ]
  },
  {
   "cell_type": "markdown",
   "id": "0c1c7d28",
   "metadata": {},
   "source": [
    "При первом взгляде на данные таблицы мы уже увидели некоторые аномалии, которые было бы полезно исправить для дальнейшего исследования. Это отрицательные значения и аномально большие значения трудового стажа. Думаю, что оптимально будет сразу перевести их в целые положительные числа для удобства восприятия. А заодно переведем в int значения столбца total_income\t"
   ]
  },
  {
   "cell_type": "code",
   "execution_count": 25,
   "id": "4f0b8c26",
   "metadata": {},
   "outputs": [
    {
     "data": {
      "text/html": [
       "<div>\n",
       "<style scoped>\n",
       "    .dataframe tbody tr th:only-of-type {\n",
       "        vertical-align: middle;\n",
       "    }\n",
       "\n",
       "    .dataframe tbody tr th {\n",
       "        vertical-align: top;\n",
       "    }\n",
       "\n",
       "    .dataframe thead th {\n",
       "        text-align: right;\n",
       "    }\n",
       "</style>\n",
       "<table border=\"1\" class=\"dataframe\">\n",
       "  <thead>\n",
       "    <tr style=\"text-align: right;\">\n",
       "      <th></th>\n",
       "      <th>children</th>\n",
       "      <th>days_employed</th>\n",
       "      <th>dob_years</th>\n",
       "      <th>education</th>\n",
       "      <th>education_id</th>\n",
       "      <th>family_status</th>\n",
       "      <th>family_status_id</th>\n",
       "      <th>gender</th>\n",
       "      <th>income_type</th>\n",
       "      <th>debt</th>\n",
       "      <th>total_income</th>\n",
       "      <th>purpose</th>\n",
       "    </tr>\n",
       "  </thead>\n",
       "  <tbody>\n",
       "    <tr>\n",
       "      <td>0</td>\n",
       "      <td>1</td>\n",
       "      <td>8437</td>\n",
       "      <td>42</td>\n",
       "      <td>высшее</td>\n",
       "      <td>0</td>\n",
       "      <td>женат / замужем</td>\n",
       "      <td>0</td>\n",
       "      <td>F</td>\n",
       "      <td>сотрудник</td>\n",
       "      <td>0</td>\n",
       "      <td>253875</td>\n",
       "      <td>покупка жилья</td>\n",
       "    </tr>\n",
       "    <tr>\n",
       "      <td>1</td>\n",
       "      <td>1</td>\n",
       "      <td>4024</td>\n",
       "      <td>36</td>\n",
       "      <td>среднее</td>\n",
       "      <td>1</td>\n",
       "      <td>женат / замужем</td>\n",
       "      <td>0</td>\n",
       "      <td>F</td>\n",
       "      <td>сотрудник</td>\n",
       "      <td>0</td>\n",
       "      <td>112080</td>\n",
       "      <td>приобретение автомобиля</td>\n",
       "    </tr>\n",
       "    <tr>\n",
       "      <td>2</td>\n",
       "      <td>0</td>\n",
       "      <td>5623</td>\n",
       "      <td>33</td>\n",
       "      <td>Среднее</td>\n",
       "      <td>1</td>\n",
       "      <td>женат / замужем</td>\n",
       "      <td>0</td>\n",
       "      <td>M</td>\n",
       "      <td>сотрудник</td>\n",
       "      <td>0</td>\n",
       "      <td>145885</td>\n",
       "      <td>покупка жилья</td>\n",
       "    </tr>\n",
       "    <tr>\n",
       "      <td>3</td>\n",
       "      <td>3</td>\n",
       "      <td>4124</td>\n",
       "      <td>32</td>\n",
       "      <td>среднее</td>\n",
       "      <td>1</td>\n",
       "      <td>женат / замужем</td>\n",
       "      <td>0</td>\n",
       "      <td>M</td>\n",
       "      <td>сотрудник</td>\n",
       "      <td>0</td>\n",
       "      <td>267628</td>\n",
       "      <td>дополнительное образование</td>\n",
       "    </tr>\n",
       "    <tr>\n",
       "      <td>4</td>\n",
       "      <td>0</td>\n",
       "      <td>340266</td>\n",
       "      <td>53</td>\n",
       "      <td>среднее</td>\n",
       "      <td>1</td>\n",
       "      <td>гражданский брак</td>\n",
       "      <td>1</td>\n",
       "      <td>F</td>\n",
       "      <td>пенсионер</td>\n",
       "      <td>0</td>\n",
       "      <td>158616</td>\n",
       "      <td>сыграть свадьбу</td>\n",
       "    </tr>\n",
       "    <tr>\n",
       "      <td>5</td>\n",
       "      <td>0</td>\n",
       "      <td>926</td>\n",
       "      <td>27</td>\n",
       "      <td>высшее</td>\n",
       "      <td>0</td>\n",
       "      <td>гражданский брак</td>\n",
       "      <td>1</td>\n",
       "      <td>M</td>\n",
       "      <td>компаньон</td>\n",
       "      <td>0</td>\n",
       "      <td>255763</td>\n",
       "      <td>покупка жилья</td>\n",
       "    </tr>\n",
       "    <tr>\n",
       "      <td>6</td>\n",
       "      <td>0</td>\n",
       "      <td>2879</td>\n",
       "      <td>43</td>\n",
       "      <td>высшее</td>\n",
       "      <td>0</td>\n",
       "      <td>женат / замужем</td>\n",
       "      <td>0</td>\n",
       "      <td>F</td>\n",
       "      <td>компаньон</td>\n",
       "      <td>0</td>\n",
       "      <td>240525</td>\n",
       "      <td>операции с жильем</td>\n",
       "    </tr>\n",
       "    <tr>\n",
       "      <td>7</td>\n",
       "      <td>0</td>\n",
       "      <td>152</td>\n",
       "      <td>50</td>\n",
       "      <td>СРЕДНЕЕ</td>\n",
       "      <td>1</td>\n",
       "      <td>женат / замужем</td>\n",
       "      <td>0</td>\n",
       "      <td>M</td>\n",
       "      <td>сотрудник</td>\n",
       "      <td>0</td>\n",
       "      <td>135823</td>\n",
       "      <td>образование</td>\n",
       "    </tr>\n",
       "    <tr>\n",
       "      <td>8</td>\n",
       "      <td>2</td>\n",
       "      <td>6929</td>\n",
       "      <td>35</td>\n",
       "      <td>ВЫСШЕЕ</td>\n",
       "      <td>0</td>\n",
       "      <td>гражданский брак</td>\n",
       "      <td>1</td>\n",
       "      <td>F</td>\n",
       "      <td>сотрудник</td>\n",
       "      <td>0</td>\n",
       "      <td>95856</td>\n",
       "      <td>на проведение свадьбы</td>\n",
       "    </tr>\n",
       "    <tr>\n",
       "      <td>9</td>\n",
       "      <td>0</td>\n",
       "      <td>2188</td>\n",
       "      <td>41</td>\n",
       "      <td>среднее</td>\n",
       "      <td>1</td>\n",
       "      <td>женат / замужем</td>\n",
       "      <td>0</td>\n",
       "      <td>M</td>\n",
       "      <td>сотрудник</td>\n",
       "      <td>0</td>\n",
       "      <td>144425</td>\n",
       "      <td>покупка жилья для семьи</td>\n",
       "    </tr>\n",
       "  </tbody>\n",
       "</table>\n",
       "</div>"
      ],
      "text/plain": [
       "   children  days_employed  dob_years education  education_id  \\\n",
       "0         1           8437         42    высшее             0   \n",
       "1         1           4024         36   среднее             1   \n",
       "2         0           5623         33   Среднее             1   \n",
       "3         3           4124         32   среднее             1   \n",
       "4         0         340266         53   среднее             1   \n",
       "5         0            926         27    высшее             0   \n",
       "6         0           2879         43    высшее             0   \n",
       "7         0            152         50   СРЕДНЕЕ             1   \n",
       "8         2           6929         35    ВЫСШЕЕ             0   \n",
       "9         0           2188         41   среднее             1   \n",
       "\n",
       "      family_status  family_status_id gender income_type  debt  total_income  \\\n",
       "0   женат / замужем                 0      F   сотрудник     0        253875   \n",
       "1   женат / замужем                 0      F   сотрудник     0        112080   \n",
       "2   женат / замужем                 0      M   сотрудник     0        145885   \n",
       "3   женат / замужем                 0      M   сотрудник     0        267628   \n",
       "4  гражданский брак                 1      F   пенсионер     0        158616   \n",
       "5  гражданский брак                 1      M   компаньон     0        255763   \n",
       "6   женат / замужем                 0      F   компаньон     0        240525   \n",
       "7   женат / замужем                 0      M   сотрудник     0        135823   \n",
       "8  гражданский брак                 1      F   сотрудник     0         95856   \n",
       "9   женат / замужем                 0      M   сотрудник     0        144425   \n",
       "\n",
       "                      purpose  \n",
       "0               покупка жилья  \n",
       "1     приобретение автомобиля  \n",
       "2               покупка жилья  \n",
       "3  дополнительное образование  \n",
       "4             сыграть свадьбу  \n",
       "5               покупка жилья  \n",
       "6           операции с жильем  \n",
       "7                 образование  \n",
       "8       на проведение свадьбы  \n",
       "9     покупка жилья для семьи  "
      ]
     },
     "execution_count": 25,
     "metadata": {},
     "output_type": "execute_result"
    }
   ],
   "source": [
    "columns = ['days_employed', 'total_income']\n",
    "for column in columns:\n",
    "    data[column] = data[column].fillna(0) #заполним пропуски нулём для избежания ошибок при переводе значений столбцов в int\n",
    "    data[column] = abs(data[column].astype('int')) #функция abs превратит минус в плюс :-)\n",
    "data.head(10)"
   ]
  },
  {
   "cell_type": "markdown",
   "id": "66c5fc9f",
   "metadata": {},
   "source": [
    "Как видим, что код сработал и данные в таблице читаются лучше.\n",
    "\n",
    "Поищем аномально большие значения трудового стажа. \"Границу аномальности\" выберем равную 60 годам и посчитаем количество аномальных значений"
   ]
  },
  {
   "cell_type": "code",
   "execution_count": 26,
   "id": "96a57b4d",
   "metadata": {},
   "outputs": [
    {
     "data": {
      "text/plain": [
       "3445"
      ]
     },
     "execution_count": 26,
     "metadata": {},
     "output_type": "execute_result"
    }
   ],
   "source": [
    "data[data['days_employed'] > 60*365]['days_employed'].count()"
   ]
  },
  {
   "cell_type": "markdown",
   "id": "7bf56623",
   "metadata": {},
   "source": [
    "Большое количество подобных значений может быть связано с ошибочно написанной функцией, переводящей годы и месяцы трудового стажа из лет и месяцев в дни.\n",
    "\n",
    "Заменим аномально большие значения медианным значением по этому столбцу и проверим пезультат"
   ]
  },
  {
   "cell_type": "code",
   "execution_count": 27,
   "id": "3e644547",
   "metadata": {},
   "outputs": [
    {
     "data": {
      "text/plain": [
       "0"
      ]
     },
     "execution_count": 27,
     "metadata": {},
     "output_type": "execute_result"
    }
   ],
   "source": [
    "days_employed_median = int(data['days_employed'].median())\n",
    "data.loc[(data['days_employed'] > 60*365), 'days_employed'] = days_employed_median\n",
    "data[data['days_employed'] > 60*365]['days_employed'].count()"
   ]
  },
  {
   "cell_type": "markdown",
   "id": "369086e0",
   "metadata": {},
   "source": [
    "Аномально больших значений в столбце days_employed больше нет.\n",
    "Теперь заменим нулевые значения на медиану и проверим результат"
   ]
  },
  {
   "cell_type": "code",
   "execution_count": 28,
   "id": "f774d78f",
   "metadata": {},
   "outputs": [
    {
     "data": {
      "text/plain": [
       "0"
      ]
     },
     "execution_count": 28,
     "metadata": {},
     "output_type": "execute_result"
    }
   ],
   "source": [
    "data.loc[(data['days_employed'] == 0), 'days_employed'] = days_employed_median\n",
    "data[data['days_employed'] == 0]['days_employed'].count()"
   ]
  },
  {
   "cell_type": "markdown",
   "id": "41fa49fd",
   "metadata": {},
   "source": [
    "Вот и нулевых значений больше нет.\n",
    "Переходим к замене нулевых значений в столбце total_income"
   ]
  },
  {
   "cell_type": "code",
   "execution_count": 29,
   "id": "7f554245",
   "metadata": {},
   "outputs": [
    {
     "data": {
      "text/plain": [
       "0"
      ]
     },
     "execution_count": 29,
     "metadata": {},
     "output_type": "execute_result"
    }
   ],
   "source": [
    "total_income_median = int(data['total_income'].median())\n",
    "data.loc[(data['total_income'] == 0), 'total_income'] = total_income_median\n",
    "data[data['total_income'] == 0]['total_income'].count()"
   ]
  },
  {
   "cell_type": "markdown",
   "id": "c36bfa0a",
   "metadata": {},
   "source": [
    "Нулевых значений в столбце total_income больше нет"
   ]
  },
  {
   "cell_type": "markdown",
   "id": "219b3192",
   "metadata": {},
   "source": [
    "### Работа со столбцом children"
   ]
  },
  {
   "cell_type": "markdown",
   "id": "c58641e6",
   "metadata": {},
   "source": [
    "Выявим аномальные значения в столбце children. С помощью метода value_counts(), т.к. не ожидается большое количество уникальных значений, а информация по частоте появления даст понят, насколько данные пригодны для анализа."
   ]
  },
  {
   "cell_type": "code",
   "execution_count": 30,
   "id": "59a38bdf",
   "metadata": {},
   "outputs": [
    {
     "data": {
      "text/plain": [
       " 0     14149\n",
       " 1      4818\n",
       " 2      2055\n",
       " 3       330\n",
       " 20       76\n",
       "-1        47\n",
       " 4        41\n",
       " 5         9\n",
       "Name: children, dtype: int64"
      ]
     },
     "execution_count": 30,
     "metadata": {},
     "output_type": "execute_result"
    }
   ],
   "source": [
    "data['children'].value_counts()"
   ]
  },
  {
   "cell_type": "markdown",
   "id": "478fe9dc",
   "metadata": {},
   "source": [
    "Видим, что есть отрицательное значение \"-1\" и значение \"20\" вряд ли соответствующее действительности.\n",
    "Скорее всего в обоих случаях имеет место ошибка ввода - случайный ввод лишнего знака, т.к. количество таких значений мало. Но на всякий случай просмотрим строки с этими значениям"
   ]
  },
  {
   "cell_type": "code",
   "execution_count": 31,
   "id": "e581d98d",
   "metadata": {},
   "outputs": [
    {
     "data": {
      "text/html": [
       "<div>\n",
       "<style scoped>\n",
       "    .dataframe tbody tr th:only-of-type {\n",
       "        vertical-align: middle;\n",
       "    }\n",
       "\n",
       "    .dataframe tbody tr th {\n",
       "        vertical-align: top;\n",
       "    }\n",
       "\n",
       "    .dataframe thead th {\n",
       "        text-align: right;\n",
       "    }\n",
       "</style>\n",
       "<table border=\"1\" class=\"dataframe\">\n",
       "  <thead>\n",
       "    <tr style=\"text-align: right;\">\n",
       "      <th></th>\n",
       "      <th>children</th>\n",
       "      <th>days_employed</th>\n",
       "      <th>dob_years</th>\n",
       "      <th>education</th>\n",
       "      <th>education_id</th>\n",
       "      <th>family_status</th>\n",
       "      <th>family_status_id</th>\n",
       "      <th>gender</th>\n",
       "      <th>income_type</th>\n",
       "      <th>debt</th>\n",
       "      <th>total_income</th>\n",
       "      <th>purpose</th>\n",
       "    </tr>\n",
       "  </thead>\n",
       "  <tbody>\n",
       "    <tr>\n",
       "      <td>606</td>\n",
       "      <td>20</td>\n",
       "      <td>880</td>\n",
       "      <td>21</td>\n",
       "      <td>среднее</td>\n",
       "      <td>1</td>\n",
       "      <td>женат / замужем</td>\n",
       "      <td>0</td>\n",
       "      <td>M</td>\n",
       "      <td>компаньон</td>\n",
       "      <td>0</td>\n",
       "      <td>145334</td>\n",
       "      <td>покупка жилья</td>\n",
       "    </tr>\n",
       "    <tr>\n",
       "      <td>720</td>\n",
       "      <td>20</td>\n",
       "      <td>855</td>\n",
       "      <td>44</td>\n",
       "      <td>среднее</td>\n",
       "      <td>1</td>\n",
       "      <td>женат / замужем</td>\n",
       "      <td>0</td>\n",
       "      <td>F</td>\n",
       "      <td>компаньон</td>\n",
       "      <td>0</td>\n",
       "      <td>112998</td>\n",
       "      <td>покупка недвижимости</td>\n",
       "    </tr>\n",
       "    <tr>\n",
       "      <td>1074</td>\n",
       "      <td>20</td>\n",
       "      <td>3310</td>\n",
       "      <td>56</td>\n",
       "      <td>среднее</td>\n",
       "      <td>1</td>\n",
       "      <td>женат / замужем</td>\n",
       "      <td>0</td>\n",
       "      <td>F</td>\n",
       "      <td>сотрудник</td>\n",
       "      <td>1</td>\n",
       "      <td>229518</td>\n",
       "      <td>получение образования</td>\n",
       "    </tr>\n",
       "    <tr>\n",
       "      <td>2510</td>\n",
       "      <td>20</td>\n",
       "      <td>2714</td>\n",
       "      <td>59</td>\n",
       "      <td>высшее</td>\n",
       "      <td>0</td>\n",
       "      <td>вдовец / вдова</td>\n",
       "      <td>2</td>\n",
       "      <td>F</td>\n",
       "      <td>сотрудник</td>\n",
       "      <td>0</td>\n",
       "      <td>264474</td>\n",
       "      <td>операции с коммерческой недвижимостью</td>\n",
       "    </tr>\n",
       "    <tr>\n",
       "      <td>2941</td>\n",
       "      <td>20</td>\n",
       "      <td>2161</td>\n",
       "      <td>0</td>\n",
       "      <td>среднее</td>\n",
       "      <td>1</td>\n",
       "      <td>женат / замужем</td>\n",
       "      <td>0</td>\n",
       "      <td>F</td>\n",
       "      <td>сотрудник</td>\n",
       "      <td>0</td>\n",
       "      <td>199739</td>\n",
       "      <td>на покупку автомобиля</td>\n",
       "    </tr>\n",
       "    <tr>\n",
       "      <td>3302</td>\n",
       "      <td>20</td>\n",
       "      <td>1808</td>\n",
       "      <td>35</td>\n",
       "      <td>среднее</td>\n",
       "      <td>1</td>\n",
       "      <td>Не женат / не замужем</td>\n",
       "      <td>4</td>\n",
       "      <td>F</td>\n",
       "      <td>госслужащий</td>\n",
       "      <td>0</td>\n",
       "      <td>135514</td>\n",
       "      <td>профильное образование</td>\n",
       "    </tr>\n",
       "    <tr>\n",
       "      <td>3396</td>\n",
       "      <td>20</td>\n",
       "      <td>1808</td>\n",
       "      <td>56</td>\n",
       "      <td>высшее</td>\n",
       "      <td>0</td>\n",
       "      <td>женат / замужем</td>\n",
       "      <td>0</td>\n",
       "      <td>F</td>\n",
       "      <td>компаньон</td>\n",
       "      <td>0</td>\n",
       "      <td>135514</td>\n",
       "      <td>высшее образование</td>\n",
       "    </tr>\n",
       "    <tr>\n",
       "      <td>3671</td>\n",
       "      <td>20</td>\n",
       "      <td>913</td>\n",
       "      <td>23</td>\n",
       "      <td>среднее</td>\n",
       "      <td>1</td>\n",
       "      <td>Не женат / не замужем</td>\n",
       "      <td>4</td>\n",
       "      <td>F</td>\n",
       "      <td>сотрудник</td>\n",
       "      <td>0</td>\n",
       "      <td>101255</td>\n",
       "      <td>на покупку подержанного автомобиля</td>\n",
       "    </tr>\n",
       "    <tr>\n",
       "      <td>3697</td>\n",
       "      <td>20</td>\n",
       "      <td>2907</td>\n",
       "      <td>40</td>\n",
       "      <td>среднее</td>\n",
       "      <td>1</td>\n",
       "      <td>гражданский брак</td>\n",
       "      <td>1</td>\n",
       "      <td>M</td>\n",
       "      <td>сотрудник</td>\n",
       "      <td>0</td>\n",
       "      <td>115380</td>\n",
       "      <td>на покупку подержанного автомобиля</td>\n",
       "    </tr>\n",
       "    <tr>\n",
       "      <td>3735</td>\n",
       "      <td>20</td>\n",
       "      <td>805</td>\n",
       "      <td>26</td>\n",
       "      <td>высшее</td>\n",
       "      <td>0</td>\n",
       "      <td>Не женат / не замужем</td>\n",
       "      <td>4</td>\n",
       "      <td>M</td>\n",
       "      <td>сотрудник</td>\n",
       "      <td>0</td>\n",
       "      <td>137200</td>\n",
       "      <td>ремонт жилью</td>\n",
       "    </tr>\n",
       "  </tbody>\n",
       "</table>\n",
       "</div>"
      ],
      "text/plain": [
       "      children  days_employed  dob_years education  education_id  \\\n",
       "606         20            880         21   среднее             1   \n",
       "720         20            855         44   среднее             1   \n",
       "1074        20           3310         56   среднее             1   \n",
       "2510        20           2714         59    высшее             0   \n",
       "2941        20           2161          0   среднее             1   \n",
       "3302        20           1808         35   среднее             1   \n",
       "3396        20           1808         56    высшее             0   \n",
       "3671        20            913         23   среднее             1   \n",
       "3697        20           2907         40   среднее             1   \n",
       "3735        20            805         26    высшее             0   \n",
       "\n",
       "              family_status  family_status_id gender  income_type  debt  \\\n",
       "606         женат / замужем                 0      M    компаньон     0   \n",
       "720         женат / замужем                 0      F    компаньон     0   \n",
       "1074        женат / замужем                 0      F    сотрудник     1   \n",
       "2510         вдовец / вдова                 2      F    сотрудник     0   \n",
       "2941        женат / замужем                 0      F    сотрудник     0   \n",
       "3302  Не женат / не замужем                 4      F  госслужащий     0   \n",
       "3396        женат / замужем                 0      F    компаньон     0   \n",
       "3671  Не женат / не замужем                 4      F    сотрудник     0   \n",
       "3697       гражданский брак                 1      M    сотрудник     0   \n",
       "3735  Не женат / не замужем                 4      M    сотрудник     0   \n",
       "\n",
       "      total_income                                purpose  \n",
       "606         145334                          покупка жилья  \n",
       "720         112998                   покупка недвижимости  \n",
       "1074        229518                  получение образования  \n",
       "2510        264474  операции с коммерческой недвижимостью  \n",
       "2941        199739                  на покупку автомобиля  \n",
       "3302        135514                 профильное образование  \n",
       "3396        135514                     высшее образование  \n",
       "3671        101255     на покупку подержанного автомобиля  \n",
       "3697        115380     на покупку подержанного автомобиля  \n",
       "3735        137200                           ремонт жилью  "
      ]
     },
     "execution_count": 31,
     "metadata": {},
     "output_type": "execute_result"
    }
   ],
   "source": [
    "data[data['children'] == 20].head(10)"
   ]
  },
  {
   "cell_type": "markdown",
   "id": "2375eec1",
   "metadata": {},
   "source": [
    "Какой-то корреляции с данными из других столбцов не видно. Кстати, видим, теперь уже визуально, что заполнение пропусков в столбцах days_employed и total_income прошло успешно"
   ]
  },
  {
   "cell_type": "code",
   "execution_count": 32,
   "id": "ec20e1fd",
   "metadata": {},
   "outputs": [
    {
     "data": {
      "text/html": [
       "<div>\n",
       "<style scoped>\n",
       "    .dataframe tbody tr th:only-of-type {\n",
       "        vertical-align: middle;\n",
       "    }\n",
       "\n",
       "    .dataframe tbody tr th {\n",
       "        vertical-align: top;\n",
       "    }\n",
       "\n",
       "    .dataframe thead th {\n",
       "        text-align: right;\n",
       "    }\n",
       "</style>\n",
       "<table border=\"1\" class=\"dataframe\">\n",
       "  <thead>\n",
       "    <tr style=\"text-align: right;\">\n",
       "      <th></th>\n",
       "      <th>children</th>\n",
       "      <th>days_employed</th>\n",
       "      <th>dob_years</th>\n",
       "      <th>education</th>\n",
       "      <th>education_id</th>\n",
       "      <th>family_status</th>\n",
       "      <th>family_status_id</th>\n",
       "      <th>gender</th>\n",
       "      <th>income_type</th>\n",
       "      <th>debt</th>\n",
       "      <th>total_income</th>\n",
       "      <th>purpose</th>\n",
       "    </tr>\n",
       "  </thead>\n",
       "  <tbody>\n",
       "    <tr>\n",
       "      <td>291</td>\n",
       "      <td>-1</td>\n",
       "      <td>4417</td>\n",
       "      <td>46</td>\n",
       "      <td>среднее</td>\n",
       "      <td>1</td>\n",
       "      <td>гражданский брак</td>\n",
       "      <td>1</td>\n",
       "      <td>F</td>\n",
       "      <td>сотрудник</td>\n",
       "      <td>0</td>\n",
       "      <td>102816</td>\n",
       "      <td>профильное образование</td>\n",
       "    </tr>\n",
       "    <tr>\n",
       "      <td>705</td>\n",
       "      <td>-1</td>\n",
       "      <td>902</td>\n",
       "      <td>50</td>\n",
       "      <td>среднее</td>\n",
       "      <td>1</td>\n",
       "      <td>женат / замужем</td>\n",
       "      <td>0</td>\n",
       "      <td>F</td>\n",
       "      <td>госслужащий</td>\n",
       "      <td>0</td>\n",
       "      <td>137882</td>\n",
       "      <td>приобретение автомобиля</td>\n",
       "    </tr>\n",
       "    <tr>\n",
       "      <td>742</td>\n",
       "      <td>-1</td>\n",
       "      <td>3174</td>\n",
       "      <td>57</td>\n",
       "      <td>среднее</td>\n",
       "      <td>1</td>\n",
       "      <td>женат / замужем</td>\n",
       "      <td>0</td>\n",
       "      <td>F</td>\n",
       "      <td>сотрудник</td>\n",
       "      <td>0</td>\n",
       "      <td>64268</td>\n",
       "      <td>дополнительное образование</td>\n",
       "    </tr>\n",
       "    <tr>\n",
       "      <td>800</td>\n",
       "      <td>-1</td>\n",
       "      <td>1808</td>\n",
       "      <td>54</td>\n",
       "      <td>среднее</td>\n",
       "      <td>1</td>\n",
       "      <td>Не женат / не замужем</td>\n",
       "      <td>4</td>\n",
       "      <td>F</td>\n",
       "      <td>пенсионер</td>\n",
       "      <td>0</td>\n",
       "      <td>86293</td>\n",
       "      <td>дополнительное образование</td>\n",
       "    </tr>\n",
       "    <tr>\n",
       "      <td>941</td>\n",
       "      <td>-1</td>\n",
       "      <td>1808</td>\n",
       "      <td>57</td>\n",
       "      <td>Среднее</td>\n",
       "      <td>1</td>\n",
       "      <td>женат / замужем</td>\n",
       "      <td>0</td>\n",
       "      <td>F</td>\n",
       "      <td>пенсионер</td>\n",
       "      <td>0</td>\n",
       "      <td>135514</td>\n",
       "      <td>на покупку своего автомобиля</td>\n",
       "    </tr>\n",
       "    <tr>\n",
       "      <td>1363</td>\n",
       "      <td>-1</td>\n",
       "      <td>1195</td>\n",
       "      <td>55</td>\n",
       "      <td>СРЕДНЕЕ</td>\n",
       "      <td>1</td>\n",
       "      <td>женат / замужем</td>\n",
       "      <td>0</td>\n",
       "      <td>F</td>\n",
       "      <td>компаньон</td>\n",
       "      <td>0</td>\n",
       "      <td>69550</td>\n",
       "      <td>профильное образование</td>\n",
       "    </tr>\n",
       "    <tr>\n",
       "      <td>1929</td>\n",
       "      <td>-1</td>\n",
       "      <td>1461</td>\n",
       "      <td>38</td>\n",
       "      <td>среднее</td>\n",
       "      <td>1</td>\n",
       "      <td>Не женат / не замужем</td>\n",
       "      <td>4</td>\n",
       "      <td>M</td>\n",
       "      <td>сотрудник</td>\n",
       "      <td>0</td>\n",
       "      <td>109121</td>\n",
       "      <td>покупка жилья</td>\n",
       "    </tr>\n",
       "    <tr>\n",
       "      <td>2073</td>\n",
       "      <td>-1</td>\n",
       "      <td>2539</td>\n",
       "      <td>42</td>\n",
       "      <td>среднее</td>\n",
       "      <td>1</td>\n",
       "      <td>в разводе</td>\n",
       "      <td>3</td>\n",
       "      <td>F</td>\n",
       "      <td>компаньон</td>\n",
       "      <td>0</td>\n",
       "      <td>162638</td>\n",
       "      <td>покупка жилья</td>\n",
       "    </tr>\n",
       "    <tr>\n",
       "      <td>3814</td>\n",
       "      <td>-1</td>\n",
       "      <td>3045</td>\n",
       "      <td>26</td>\n",
       "      <td>Среднее</td>\n",
       "      <td>1</td>\n",
       "      <td>гражданский брак</td>\n",
       "      <td>1</td>\n",
       "      <td>F</td>\n",
       "      <td>госслужащий</td>\n",
       "      <td>0</td>\n",
       "      <td>131892</td>\n",
       "      <td>на проведение свадьбы</td>\n",
       "    </tr>\n",
       "    <tr>\n",
       "      <td>4201</td>\n",
       "      <td>-1</td>\n",
       "      <td>901</td>\n",
       "      <td>41</td>\n",
       "      <td>среднее</td>\n",
       "      <td>1</td>\n",
       "      <td>женат / замужем</td>\n",
       "      <td>0</td>\n",
       "      <td>F</td>\n",
       "      <td>госслужащий</td>\n",
       "      <td>0</td>\n",
       "      <td>226375</td>\n",
       "      <td>операции со своей недвижимостью</td>\n",
       "    </tr>\n",
       "  </tbody>\n",
       "</table>\n",
       "</div>"
      ],
      "text/plain": [
       "      children  days_employed  dob_years education  education_id  \\\n",
       "291         -1           4417         46   среднее             1   \n",
       "705         -1            902         50   среднее             1   \n",
       "742         -1           3174         57   среднее             1   \n",
       "800         -1           1808         54   среднее             1   \n",
       "941         -1           1808         57   Среднее             1   \n",
       "1363        -1           1195         55   СРЕДНЕЕ             1   \n",
       "1929        -1           1461         38   среднее             1   \n",
       "2073        -1           2539         42   среднее             1   \n",
       "3814        -1           3045         26   Среднее             1   \n",
       "4201        -1            901         41   среднее             1   \n",
       "\n",
       "              family_status  family_status_id gender  income_type  debt  \\\n",
       "291        гражданский брак                 1      F    сотрудник     0   \n",
       "705         женат / замужем                 0      F  госслужащий     0   \n",
       "742         женат / замужем                 0      F    сотрудник     0   \n",
       "800   Не женат / не замужем                 4      F    пенсионер     0   \n",
       "941         женат / замужем                 0      F    пенсионер     0   \n",
       "1363        женат / замужем                 0      F    компаньон     0   \n",
       "1929  Не женат / не замужем                 4      M    сотрудник     0   \n",
       "2073              в разводе                 3      F    компаньон     0   \n",
       "3814       гражданский брак                 1      F  госслужащий     0   \n",
       "4201        женат / замужем                 0      F  госслужащий     0   \n",
       "\n",
       "      total_income                          purpose  \n",
       "291         102816           профильное образование  \n",
       "705         137882          приобретение автомобиля  \n",
       "742          64268       дополнительное образование  \n",
       "800          86293       дополнительное образование  \n",
       "941         135514     на покупку своего автомобиля  \n",
       "1363         69550           профильное образование  \n",
       "1929        109121                    покупка жилья  \n",
       "2073        162638                    покупка жилья  \n",
       "3814        131892            на проведение свадьбы  \n",
       "4201        226375  операции со своей недвижимостью  "
      ]
     },
     "execution_count": 32,
     "metadata": {},
     "output_type": "execute_result"
    }
   ],
   "source": [
    "data[data['children'] == -1].head(10)"
   ]
  },
  {
   "cell_type": "markdown",
   "id": "155ffb06",
   "metadata": {},
   "source": [
    "Аналогично: корреляции с данными из других столбцов нет. \n",
    "\n",
    "Заменим аномальные значения:\n",
    "- -1 на 1\n",
    "- 20 на 2\n",
    "\n",
    "Думаю именно так ошиблись люди при вводе"
   ]
  },
  {
   "cell_type": "code",
   "execution_count": 33,
   "id": "8c9a31c7",
   "metadata": {},
   "outputs": [],
   "source": [
    "data[data['children'] == -1] = data[data['children'] == -1].replace(-1, 1)\n",
    "data[data['children'] == 20] = data[data['children'] == 20].replace(20, 2)"
   ]
  },
  {
   "cell_type": "markdown",
   "id": "660434f5",
   "metadata": {},
   "source": [
    "Проверим успешность замены"
   ]
  },
  {
   "cell_type": "code",
   "execution_count": 37,
   "id": "8443b985",
   "metadata": {},
   "outputs": [
    {
     "data": {
      "text/plain": [
       "0"
      ]
     },
     "execution_count": 37,
     "metadata": {},
     "output_type": "execute_result"
    }
   ],
   "source": [
    "data[data['children'] == -1]['children'].count()"
   ]
  },
  {
   "cell_type": "markdown",
   "id": "9d5e50c7",
   "metadata": {},
   "source": [
    "Значений -1 нет"
   ]
  },
  {
   "cell_type": "code",
   "execution_count": 38,
   "id": "60107c68",
   "metadata": {},
   "outputs": [
    {
     "data": {
      "text/plain": [
       "0"
      ]
     },
     "execution_count": 38,
     "metadata": {},
     "output_type": "execute_result"
    }
   ],
   "source": [
    "data[data['children'] == 20]['children'].count()"
   ]
  },
  {
   "cell_type": "markdown",
   "id": "9b918dfc",
   "metadata": {},
   "source": [
    "Значний 20 тоже нет. Замена прошла успешно"
   ]
  },
  {
   "cell_type": "markdown",
   "id": "a0779419",
   "metadata": {},
   "source": [
    "### Работа со столбцом dob_years"
   ]
  },
  {
   "cell_type": "code",
   "execution_count": 16,
   "id": "9458b69b",
   "metadata": {},
   "outputs": [
    {
     "data": {
      "text/plain": [
       "array([42, 36, 33, 32, 53, 27, 43, 50, 35, 41, 40, 65, 54, 56, 26, 48, 24,\n",
       "       21, 57, 67, 28, 63, 62, 47, 34, 68, 25, 31, 30, 20, 49, 37, 45, 61,\n",
       "       64, 44, 52, 46, 23, 38, 39, 51,  0, 59, 29, 60, 55, 58, 71, 22, 73,\n",
       "       66, 69, 19, 72, 70, 74, 75])"
      ]
     },
     "execution_count": 16,
     "metadata": {},
     "output_type": "execute_result"
    }
   ],
   "source": [
    "data['dob_years'].unique()"
   ]
  },
  {
   "cell_type": "markdown",
   "id": "35644ba4",
   "metadata": {},
   "source": [
    "Аномальное значение \"0\". Просмотрим эти строки:"
   ]
  },
  {
   "cell_type": "code",
   "execution_count": 17,
   "id": "a7ac2ff4",
   "metadata": {},
   "outputs": [
    {
     "data": {
      "text/html": [
       "<div>\n",
       "<style scoped>\n",
       "    .dataframe tbody tr th:only-of-type {\n",
       "        vertical-align: middle;\n",
       "    }\n",
       "\n",
       "    .dataframe tbody tr th {\n",
       "        vertical-align: top;\n",
       "    }\n",
       "\n",
       "    .dataframe thead th {\n",
       "        text-align: right;\n",
       "    }\n",
       "</style>\n",
       "<table border=\"1\" class=\"dataframe\">\n",
       "  <thead>\n",
       "    <tr style=\"text-align: right;\">\n",
       "      <th></th>\n",
       "      <th>children</th>\n",
       "      <th>days_employed</th>\n",
       "      <th>dob_years</th>\n",
       "      <th>education</th>\n",
       "      <th>education_id</th>\n",
       "      <th>family_status</th>\n",
       "      <th>family_status_id</th>\n",
       "      <th>gender</th>\n",
       "      <th>income_type</th>\n",
       "      <th>debt</th>\n",
       "      <th>total_income</th>\n",
       "      <th>purpose</th>\n",
       "    </tr>\n",
       "  </thead>\n",
       "  <tbody>\n",
       "    <tr>\n",
       "      <td>99</td>\n",
       "      <td>0</td>\n",
       "      <td>1808</td>\n",
       "      <td>0</td>\n",
       "      <td>Среднее</td>\n",
       "      <td>1</td>\n",
       "      <td>женат / замужем</td>\n",
       "      <td>0</td>\n",
       "      <td>F</td>\n",
       "      <td>пенсионер</td>\n",
       "      <td>0</td>\n",
       "      <td>71291</td>\n",
       "      <td>автомобиль</td>\n",
       "    </tr>\n",
       "    <tr>\n",
       "      <td>149</td>\n",
       "      <td>0</td>\n",
       "      <td>2664</td>\n",
       "      <td>0</td>\n",
       "      <td>среднее</td>\n",
       "      <td>1</td>\n",
       "      <td>в разводе</td>\n",
       "      <td>3</td>\n",
       "      <td>F</td>\n",
       "      <td>сотрудник</td>\n",
       "      <td>0</td>\n",
       "      <td>70176</td>\n",
       "      <td>операции с жильем</td>\n",
       "    </tr>\n",
       "    <tr>\n",
       "      <td>270</td>\n",
       "      <td>3</td>\n",
       "      <td>1872</td>\n",
       "      <td>0</td>\n",
       "      <td>среднее</td>\n",
       "      <td>1</td>\n",
       "      <td>женат / замужем</td>\n",
       "      <td>0</td>\n",
       "      <td>F</td>\n",
       "      <td>сотрудник</td>\n",
       "      <td>0</td>\n",
       "      <td>102166</td>\n",
       "      <td>ремонт жилью</td>\n",
       "    </tr>\n",
       "    <tr>\n",
       "      <td>578</td>\n",
       "      <td>0</td>\n",
       "      <td>1808</td>\n",
       "      <td>0</td>\n",
       "      <td>среднее</td>\n",
       "      <td>1</td>\n",
       "      <td>женат / замужем</td>\n",
       "      <td>0</td>\n",
       "      <td>F</td>\n",
       "      <td>пенсионер</td>\n",
       "      <td>0</td>\n",
       "      <td>97620</td>\n",
       "      <td>строительство собственной недвижимости</td>\n",
       "    </tr>\n",
       "    <tr>\n",
       "      <td>1040</td>\n",
       "      <td>0</td>\n",
       "      <td>1158</td>\n",
       "      <td>0</td>\n",
       "      <td>высшее</td>\n",
       "      <td>0</td>\n",
       "      <td>в разводе</td>\n",
       "      <td>3</td>\n",
       "      <td>F</td>\n",
       "      <td>компаньон</td>\n",
       "      <td>0</td>\n",
       "      <td>303994</td>\n",
       "      <td>свой автомобиль</td>\n",
       "    </tr>\n",
       "    <tr>\n",
       "      <td>1149</td>\n",
       "      <td>0</td>\n",
       "      <td>934</td>\n",
       "      <td>0</td>\n",
       "      <td>среднее</td>\n",
       "      <td>1</td>\n",
       "      <td>женат / замужем</td>\n",
       "      <td>0</td>\n",
       "      <td>F</td>\n",
       "      <td>компаньон</td>\n",
       "      <td>0</td>\n",
       "      <td>201852</td>\n",
       "      <td>покупка недвижимости</td>\n",
       "    </tr>\n",
       "    <tr>\n",
       "      <td>1175</td>\n",
       "      <td>0</td>\n",
       "      <td>1808</td>\n",
       "      <td>0</td>\n",
       "      <td>среднее</td>\n",
       "      <td>1</td>\n",
       "      <td>женат / замужем</td>\n",
       "      <td>0</td>\n",
       "      <td>F</td>\n",
       "      <td>пенсионер</td>\n",
       "      <td>0</td>\n",
       "      <td>313949</td>\n",
       "      <td>получение дополнительного образования</td>\n",
       "    </tr>\n",
       "    <tr>\n",
       "      <td>1386</td>\n",
       "      <td>0</td>\n",
       "      <td>5043</td>\n",
       "      <td>0</td>\n",
       "      <td>высшее</td>\n",
       "      <td>0</td>\n",
       "      <td>женат / замужем</td>\n",
       "      <td>0</td>\n",
       "      <td>M</td>\n",
       "      <td>госслужащий</td>\n",
       "      <td>0</td>\n",
       "      <td>240523</td>\n",
       "      <td>сделка с автомобилем</td>\n",
       "    </tr>\n",
       "    <tr>\n",
       "      <td>1890</td>\n",
       "      <td>0</td>\n",
       "      <td>1808</td>\n",
       "      <td>0</td>\n",
       "      <td>высшее</td>\n",
       "      <td>0</td>\n",
       "      <td>Не женат / не замужем</td>\n",
       "      <td>4</td>\n",
       "      <td>F</td>\n",
       "      <td>сотрудник</td>\n",
       "      <td>0</td>\n",
       "      <td>135514</td>\n",
       "      <td>жилье</td>\n",
       "    </tr>\n",
       "    <tr>\n",
       "      <td>1898</td>\n",
       "      <td>0</td>\n",
       "      <td>1808</td>\n",
       "      <td>0</td>\n",
       "      <td>среднее</td>\n",
       "      <td>1</td>\n",
       "      <td>вдовец / вдова</td>\n",
       "      <td>2</td>\n",
       "      <td>F</td>\n",
       "      <td>пенсионер</td>\n",
       "      <td>0</td>\n",
       "      <td>127400</td>\n",
       "      <td>на покупку автомобиля</td>\n",
       "    </tr>\n",
       "  </tbody>\n",
       "</table>\n",
       "</div>"
      ],
      "text/plain": [
       "      children  days_employed  dob_years education  education_id  \\\n",
       "99           0           1808          0   Среднее             1   \n",
       "149          0           2664          0   среднее             1   \n",
       "270          3           1872          0   среднее             1   \n",
       "578          0           1808          0   среднее             1   \n",
       "1040         0           1158          0    высшее             0   \n",
       "1149         0            934          0   среднее             1   \n",
       "1175         0           1808          0   среднее             1   \n",
       "1386         0           5043          0    высшее             0   \n",
       "1890         0           1808          0    высшее             0   \n",
       "1898         0           1808          0   среднее             1   \n",
       "\n",
       "              family_status  family_status_id gender  income_type  debt  \\\n",
       "99          женат / замужем                 0      F    пенсионер     0   \n",
       "149               в разводе                 3      F    сотрудник     0   \n",
       "270         женат / замужем                 0      F    сотрудник     0   \n",
       "578         женат / замужем                 0      F    пенсионер     0   \n",
       "1040              в разводе                 3      F    компаньон     0   \n",
       "1149        женат / замужем                 0      F    компаньон     0   \n",
       "1175        женат / замужем                 0      F    пенсионер     0   \n",
       "1386        женат / замужем                 0      M  госслужащий     0   \n",
       "1890  Не женат / не замужем                 4      F    сотрудник     0   \n",
       "1898         вдовец / вдова                 2      F    пенсионер     0   \n",
       "\n",
       "      total_income                                 purpose  \n",
       "99           71291                              автомобиль  \n",
       "149          70176                       операции с жильем  \n",
       "270         102166                            ремонт жилью  \n",
       "578          97620  строительство собственной недвижимости  \n",
       "1040        303994                         свой автомобиль  \n",
       "1149        201852                    покупка недвижимости  \n",
       "1175        313949   получение дополнительного образования  \n",
       "1386        240523                    сделка с автомобилем  \n",
       "1890        135514                                   жилье  \n",
       "1898        127400                   на покупку автомобиля  "
      ]
     },
     "execution_count": 17,
     "metadata": {},
     "output_type": "execute_result"
    }
   ],
   "source": [
    "data[data['dob_years'] == 0].head(10)"
   ]
  },
  {
   "cell_type": "markdown",
   "id": "368697b6",
   "metadata": {},
   "source": [
    "Какой-либо корреляции с данными из других столбцов нет.\n",
    "\n",
    "Посчитаем количество аномалий"
   ]
  },
  {
   "cell_type": "code",
   "execution_count": 18,
   "id": "b04494bf",
   "metadata": {},
   "outputs": [
    {
     "data": {
      "text/plain": [
       "101"
      ]
     },
     "execution_count": 18,
     "metadata": {},
     "output_type": "execute_result"
    }
   ],
   "source": [
    "data[data['dob_years'] == 0]['dob_years'].count()"
   ]
  },
  {
   "cell_type": "markdown",
   "id": "e20f762c",
   "metadata": {},
   "source": [
    "На весь датафрейм в 21000 с лишним строк, всего 101 такая запись. Кроме того, исходя из постановки задачи выяснить влияет ли семейное положение и количество детей клиента на факт погашения кредита в срок, думаю, что можно не менять эти значения сейчас."
   ]
  },
  {
   "cell_type": "markdown",
   "id": "8a3aef43",
   "metadata": {},
   "source": [
    "### Работа со столбцом education и education_id"
   ]
  },
  {
   "cell_type": "markdown",
   "id": "f6afe4f7",
   "metadata": {},
   "source": [
    "Выявим уникальные значения в столбце education"
   ]
  },
  {
   "cell_type": "code",
   "execution_count": 19,
   "id": "a418a208",
   "metadata": {},
   "outputs": [
    {
     "data": {
      "text/plain": [
       "среднее                13750\n",
       "высшее                  4718\n",
       "СРЕДНЕЕ                  772\n",
       "Среднее                  711\n",
       "неоконченное высшее      668\n",
       "ВЫСШЕЕ                   274\n",
       "Высшее                   268\n",
       "начальное                250\n",
       "Неоконченное высшее       47\n",
       "НЕОКОНЧЕННОЕ ВЫСШЕЕ       29\n",
       "НАЧАЛЬНОЕ                 17\n",
       "Начальное                 15\n",
       "ученая степень             4\n",
       "УЧЕНАЯ СТЕПЕНЬ             1\n",
       "Ученая степень             1\n",
       "Name: education, dtype: int64"
      ]
     },
     "execution_count": 19,
     "metadata": {},
     "output_type": "execute_result"
    }
   ],
   "source": [
    "data['education'].value_counts()"
   ]
  },
  {
   "cell_type": "markdown",
   "id": "40e44a37",
   "metadata": {},
   "source": [
    "Видно, что есть неявные дубликаты, отличающиеся регистром. Исправим это и проверим результат:"
   ]
  },
  {
   "cell_type": "markdown",
   "id": "6443d741",
   "metadata": {},
   "source": [
    "#### Приведение к нижнему регистру"
   ]
  },
  {
   "cell_type": "code",
   "execution_count": 20,
   "id": "5a45f92f",
   "metadata": {},
   "outputs": [
    {
     "data": {
      "text/plain": [
       "среднее                15233\n",
       "высшее                  5260\n",
       "неоконченное высшее      744\n",
       "начальное                282\n",
       "ученая степень             6\n",
       "Name: education, dtype: int64"
      ]
     },
     "execution_count": 20,
     "metadata": {},
     "output_type": "execute_result"
    }
   ],
   "source": [
    "data['education'] = data['education'].str.lower()\n",
    "data['education'].value_counts()"
   ]
  },
  {
   "cell_type": "markdown",
   "id": "6b4c7d3c",
   "metadata": {},
   "source": [
    "Работа с образованием закончена"
   ]
  },
  {
   "cell_type": "markdown",
   "id": "2bdc344b",
   "metadata": {},
   "source": [
    "### Работа со столбцом family_status и family_status_id"
   ]
  },
  {
   "cell_type": "markdown",
   "id": "3614c11c",
   "metadata": {},
   "source": [
    "Проверим уникальные значения в столбце"
   ]
  },
  {
   "cell_type": "code",
   "execution_count": 21,
   "id": "413540ef",
   "metadata": {},
   "outputs": [
    {
     "data": {
      "text/plain": [
       "женат / замужем          12380\n",
       "гражданский брак          4177\n",
       "Не женат / не замужем     2813\n",
       "в разводе                 1195\n",
       "вдовец / вдова             960\n",
       "Name: family_status, dtype: int64"
      ]
     },
     "execution_count": 21,
     "metadata": {},
     "output_type": "execute_result"
    }
   ],
   "source": [
    "data['family_status'].value_counts()"
   ]
  },
  {
   "cell_type": "markdown",
   "id": "ff564116",
   "metadata": {},
   "source": [
    "Дубликатов нет, но эстетическое удовольствие портит заглавная буква. Исправим это заодно и проверим результат"
   ]
  },
  {
   "cell_type": "code",
   "execution_count": 22,
   "id": "97bc853d",
   "metadata": {},
   "outputs": [
    {
     "data": {
      "text/plain": [
       "женат / замужем          12380\n",
       "гражданский брак          4177\n",
       "не женат / не замужем     2813\n",
       "в разводе                 1195\n",
       "вдовец / вдова             960\n",
       "Name: family_status, dtype: int64"
      ]
     },
     "execution_count": 22,
     "metadata": {},
     "output_type": "execute_result"
    }
   ],
   "source": [
    "data['family_status'] = data['family_status'].str.lower()\n",
    "data['family_status'].value_counts()"
   ]
  },
  {
   "cell_type": "markdown",
   "id": "804d8b7a",
   "metadata": {},
   "source": [
    "Теперь порядок!"
   ]
  },
  {
   "cell_type": "markdown",
   "id": "1de90c80",
   "metadata": {},
   "source": [
    "Проверим столбец family_status_id"
   ]
  },
  {
   "cell_type": "code",
   "execution_count": 23,
   "id": "a7fed009",
   "metadata": {},
   "outputs": [
    {
     "data": {
      "text/plain": [
       "0    12380\n",
       "1     4177\n",
       "4     2813\n",
       "3     1195\n",
       "2      960\n",
       "Name: family_status_id, dtype: int64"
      ]
     },
     "execution_count": 23,
     "metadata": {},
     "output_type": "execute_result"
    }
   ],
   "source": [
    "data['family_status_id'].value_counts()"
   ]
  },
  {
   "cell_type": "markdown",
   "id": "c6501eb1",
   "metadata": {},
   "source": [
    "Порядок! id категорий тоже пять и по количеству всё сходится"
   ]
  },
  {
   "cell_type": "markdown",
   "id": "4c406301",
   "metadata": {},
   "source": [
    "### Работа со столбцами gender, income_type, debt"
   ]
  },
  {
   "cell_type": "markdown",
   "id": "8277df51",
   "metadata": {},
   "source": [
    "Проверим на аномалии столбец gender"
   ]
  },
  {
   "cell_type": "code",
   "execution_count": 24,
   "id": "d9383daf",
   "metadata": {},
   "outputs": [
    {
     "data": {
      "text/plain": [
       "F      14236\n",
       "M       7288\n",
       "XNA        1\n",
       "Name: gender, dtype: int64"
      ]
     },
     "execution_count": 24,
     "metadata": {},
     "output_type": "execute_result"
    }
   ],
   "source": [
    "data['gender'].value_counts()"
   ]
  },
  {
   "cell_type": "markdown",
   "id": "ad296af7",
   "metadata": {},
   "source": [
    "Интересный пол какой попался. Посмотрим на эту строку"
   ]
  },
  {
   "cell_type": "code",
   "execution_count": 25,
   "id": "55c0776a",
   "metadata": {},
   "outputs": [
    {
     "data": {
      "text/html": [
       "<div>\n",
       "<style scoped>\n",
       "    .dataframe tbody tr th:only-of-type {\n",
       "        vertical-align: middle;\n",
       "    }\n",
       "\n",
       "    .dataframe tbody tr th {\n",
       "        vertical-align: top;\n",
       "    }\n",
       "\n",
       "    .dataframe thead th {\n",
       "        text-align: right;\n",
       "    }\n",
       "</style>\n",
       "<table border=\"1\" class=\"dataframe\">\n",
       "  <thead>\n",
       "    <tr style=\"text-align: right;\">\n",
       "      <th></th>\n",
       "      <th>children</th>\n",
       "      <th>days_employed</th>\n",
       "      <th>dob_years</th>\n",
       "      <th>education</th>\n",
       "      <th>education_id</th>\n",
       "      <th>family_status</th>\n",
       "      <th>family_status_id</th>\n",
       "      <th>gender</th>\n",
       "      <th>income_type</th>\n",
       "      <th>debt</th>\n",
       "      <th>total_income</th>\n",
       "      <th>purpose</th>\n",
       "    </tr>\n",
       "  </thead>\n",
       "  <tbody>\n",
       "    <tr>\n",
       "      <td>10701</td>\n",
       "      <td>0</td>\n",
       "      <td>2358</td>\n",
       "      <td>24</td>\n",
       "      <td>неоконченное высшее</td>\n",
       "      <td>2</td>\n",
       "      <td>гражданский брак</td>\n",
       "      <td>1</td>\n",
       "      <td>XNA</td>\n",
       "      <td>компаньон</td>\n",
       "      <td>0</td>\n",
       "      <td>203905</td>\n",
       "      <td>покупка недвижимости</td>\n",
       "    </tr>\n",
       "  </tbody>\n",
       "</table>\n",
       "</div>"
      ],
      "text/plain": [
       "       children  days_employed  dob_years            education  education_id  \\\n",
       "10701         0           2358         24  неоконченное высшее             2   \n",
       "\n",
       "          family_status  family_status_id gender income_type  debt  \\\n",
       "10701  гражданский брак                 1    XNA   компаньон     0   \n",
       "\n",
       "       total_income               purpose  \n",
       "10701        203905  покупка недвижимости  "
      ]
     },
     "execution_count": 25,
     "metadata": {},
     "output_type": "execute_result"
    }
   ],
   "source": [
    "data.loc[data['gender'] == 'XNA']"
   ]
  },
  {
   "cell_type": "markdown",
   "id": "7e7dc02e",
   "metadata": {},
   "source": [
    "В контексте предстоящего исследования пол не важен. Просто будем знать что в одной строке пол неизвестен\n",
    "\n",
    "Проверим столбец income_type"
   ]
  },
  {
   "cell_type": "code",
   "execution_count": 26,
   "id": "54f82685",
   "metadata": {},
   "outputs": [
    {
     "data": {
      "text/plain": [
       "сотрудник          11119\n",
       "компаньон           5085\n",
       "пенсионер           3856\n",
       "госслужащий         1459\n",
       "предприниматель        2\n",
       "безработный            2\n",
       "студент                1\n",
       "в декрете              1\n",
       "Name: income_type, dtype: int64"
      ]
     },
     "execution_count": 26,
     "metadata": {},
     "output_type": "execute_result"
    }
   ],
   "source": [
    "data['income_type'].value_counts()"
   ]
  },
  {
   "cell_type": "markdown",
   "id": "b090f1ac",
   "metadata": {},
   "source": [
    "Дубликатов не видно.\n",
    "\n",
    "Проверим столбец debt"
   ]
  },
  {
   "cell_type": "code",
   "execution_count": 27,
   "id": "d8feaa9d",
   "metadata": {},
   "outputs": [
    {
     "data": {
      "text/plain": [
       "0    19784\n",
       "1     1741\n",
       "Name: debt, dtype: int64"
      ]
     },
     "execution_count": 27,
     "metadata": {},
     "output_type": "execute_result"
    }
   ],
   "source": [
    "data['debt'].value_counts()"
   ]
  },
  {
   "cell_type": "markdown",
   "id": "a98e1109",
   "metadata": {},
   "source": [
    "Аномалий нет."
   ]
  },
  {
   "cell_type": "markdown",
   "id": "7f7d5936",
   "metadata": {},
   "source": [
    "Посмотрим на общую информацию о получившемся датафреме"
   ]
  },
  {
   "cell_type": "code",
   "execution_count": 28,
   "id": "1db66e0f",
   "metadata": {},
   "outputs": [
    {
     "name": "stdout",
     "output_type": "stream",
     "text": [
      "<class 'pandas.core.frame.DataFrame'>\n",
      "RangeIndex: 21525 entries, 0 to 21524\n",
      "Data columns (total 12 columns):\n",
      "children            21525 non-null int64\n",
      "days_employed       21525 non-null int64\n",
      "dob_years           21525 non-null int64\n",
      "education           21525 non-null object\n",
      "education_id        21525 non-null int64\n",
      "family_status       21525 non-null object\n",
      "family_status_id    21525 non-null int64\n",
      "gender              21525 non-null object\n",
      "income_type         21525 non-null object\n",
      "debt                21525 non-null int64\n",
      "total_income        21525 non-null int64\n",
      "purpose             21525 non-null object\n",
      "dtypes: int64(7), object(5)\n",
      "memory usage: 2.0+ MB\n"
     ]
    }
   ],
   "source": [
    "data.info()"
   ]
  },
  {
   "cell_type": "markdown",
   "id": "887a4f18",
   "metadata": {},
   "source": [
    "Как видим из общей информации, пропусков нет. Визуально оценим получившийся датафрейм (на этот раз с конца)"
   ]
  },
  {
   "cell_type": "code",
   "execution_count": 29,
   "id": "6cc488ad",
   "metadata": {},
   "outputs": [
    {
     "data": {
      "text/html": [
       "<div>\n",
       "<style scoped>\n",
       "    .dataframe tbody tr th:only-of-type {\n",
       "        vertical-align: middle;\n",
       "    }\n",
       "\n",
       "    .dataframe tbody tr th {\n",
       "        vertical-align: top;\n",
       "    }\n",
       "\n",
       "    .dataframe thead th {\n",
       "        text-align: right;\n",
       "    }\n",
       "</style>\n",
       "<table border=\"1\" class=\"dataframe\">\n",
       "  <thead>\n",
       "    <tr style=\"text-align: right;\">\n",
       "      <th></th>\n",
       "      <th>children</th>\n",
       "      <th>days_employed</th>\n",
       "      <th>dob_years</th>\n",
       "      <th>education</th>\n",
       "      <th>education_id</th>\n",
       "      <th>family_status</th>\n",
       "      <th>family_status_id</th>\n",
       "      <th>gender</th>\n",
       "      <th>income_type</th>\n",
       "      <th>debt</th>\n",
       "      <th>total_income</th>\n",
       "      <th>purpose</th>\n",
       "    </tr>\n",
       "  </thead>\n",
       "  <tbody>\n",
       "    <tr>\n",
       "      <td>21515</td>\n",
       "      <td>1</td>\n",
       "      <td>467</td>\n",
       "      <td>28</td>\n",
       "      <td>среднее</td>\n",
       "      <td>1</td>\n",
       "      <td>женат / замужем</td>\n",
       "      <td>0</td>\n",
       "      <td>F</td>\n",
       "      <td>сотрудник</td>\n",
       "      <td>1</td>\n",
       "      <td>109486</td>\n",
       "      <td>заняться образованием</td>\n",
       "    </tr>\n",
       "    <tr>\n",
       "      <td>21516</td>\n",
       "      <td>0</td>\n",
       "      <td>914</td>\n",
       "      <td>42</td>\n",
       "      <td>высшее</td>\n",
       "      <td>0</td>\n",
       "      <td>женат / замужем</td>\n",
       "      <td>0</td>\n",
       "      <td>F</td>\n",
       "      <td>компаньон</td>\n",
       "      <td>0</td>\n",
       "      <td>322807</td>\n",
       "      <td>покупка своего жилья</td>\n",
       "    </tr>\n",
       "    <tr>\n",
       "      <td>21517</td>\n",
       "      <td>0</td>\n",
       "      <td>404</td>\n",
       "      <td>42</td>\n",
       "      <td>высшее</td>\n",
       "      <td>0</td>\n",
       "      <td>гражданский брак</td>\n",
       "      <td>1</td>\n",
       "      <td>F</td>\n",
       "      <td>компаньон</td>\n",
       "      <td>0</td>\n",
       "      <td>178059</td>\n",
       "      <td>на покупку своего автомобиля</td>\n",
       "    </tr>\n",
       "    <tr>\n",
       "      <td>21518</td>\n",
       "      <td>0</td>\n",
       "      <td>1808</td>\n",
       "      <td>59</td>\n",
       "      <td>среднее</td>\n",
       "      <td>1</td>\n",
       "      <td>женат / замужем</td>\n",
       "      <td>0</td>\n",
       "      <td>F</td>\n",
       "      <td>пенсионер</td>\n",
       "      <td>0</td>\n",
       "      <td>153864</td>\n",
       "      <td>сделка с автомобилем</td>\n",
       "    </tr>\n",
       "    <tr>\n",
       "      <td>21519</td>\n",
       "      <td>1</td>\n",
       "      <td>2351</td>\n",
       "      <td>37</td>\n",
       "      <td>ученая степень</td>\n",
       "      <td>4</td>\n",
       "      <td>в разводе</td>\n",
       "      <td>3</td>\n",
       "      <td>M</td>\n",
       "      <td>сотрудник</td>\n",
       "      <td>0</td>\n",
       "      <td>115949</td>\n",
       "      <td>покупка коммерческой недвижимости</td>\n",
       "    </tr>\n",
       "    <tr>\n",
       "      <td>21520</td>\n",
       "      <td>1</td>\n",
       "      <td>4529</td>\n",
       "      <td>43</td>\n",
       "      <td>среднее</td>\n",
       "      <td>1</td>\n",
       "      <td>гражданский брак</td>\n",
       "      <td>1</td>\n",
       "      <td>F</td>\n",
       "      <td>компаньон</td>\n",
       "      <td>0</td>\n",
       "      <td>224791</td>\n",
       "      <td>операции с жильем</td>\n",
       "    </tr>\n",
       "    <tr>\n",
       "      <td>21521</td>\n",
       "      <td>0</td>\n",
       "      <td>1808</td>\n",
       "      <td>67</td>\n",
       "      <td>среднее</td>\n",
       "      <td>1</td>\n",
       "      <td>женат / замужем</td>\n",
       "      <td>0</td>\n",
       "      <td>F</td>\n",
       "      <td>пенсионер</td>\n",
       "      <td>0</td>\n",
       "      <td>155999</td>\n",
       "      <td>сделка с автомобилем</td>\n",
       "    </tr>\n",
       "    <tr>\n",
       "      <td>21522</td>\n",
       "      <td>1</td>\n",
       "      <td>2113</td>\n",
       "      <td>38</td>\n",
       "      <td>среднее</td>\n",
       "      <td>1</td>\n",
       "      <td>гражданский брак</td>\n",
       "      <td>1</td>\n",
       "      <td>M</td>\n",
       "      <td>сотрудник</td>\n",
       "      <td>1</td>\n",
       "      <td>89672</td>\n",
       "      <td>недвижимость</td>\n",
       "    </tr>\n",
       "    <tr>\n",
       "      <td>21523</td>\n",
       "      <td>3</td>\n",
       "      <td>3112</td>\n",
       "      <td>38</td>\n",
       "      <td>среднее</td>\n",
       "      <td>1</td>\n",
       "      <td>женат / замужем</td>\n",
       "      <td>0</td>\n",
       "      <td>M</td>\n",
       "      <td>сотрудник</td>\n",
       "      <td>1</td>\n",
       "      <td>244093</td>\n",
       "      <td>на покупку своего автомобиля</td>\n",
       "    </tr>\n",
       "    <tr>\n",
       "      <td>21524</td>\n",
       "      <td>2</td>\n",
       "      <td>1984</td>\n",
       "      <td>40</td>\n",
       "      <td>среднее</td>\n",
       "      <td>1</td>\n",
       "      <td>женат / замужем</td>\n",
       "      <td>0</td>\n",
       "      <td>F</td>\n",
       "      <td>сотрудник</td>\n",
       "      <td>0</td>\n",
       "      <td>82047</td>\n",
       "      <td>на покупку автомобиля</td>\n",
       "    </tr>\n",
       "  </tbody>\n",
       "</table>\n",
       "</div>"
      ],
      "text/plain": [
       "       children  days_employed  dob_years       education  education_id  \\\n",
       "21515         1            467         28         среднее             1   \n",
       "21516         0            914         42          высшее             0   \n",
       "21517         0            404         42          высшее             0   \n",
       "21518         0           1808         59         среднее             1   \n",
       "21519         1           2351         37  ученая степень             4   \n",
       "21520         1           4529         43         среднее             1   \n",
       "21521         0           1808         67         среднее             1   \n",
       "21522         1           2113         38         среднее             1   \n",
       "21523         3           3112         38         среднее             1   \n",
       "21524         2           1984         40         среднее             1   \n",
       "\n",
       "          family_status  family_status_id gender income_type  debt  \\\n",
       "21515   женат / замужем                 0      F   сотрудник     1   \n",
       "21516   женат / замужем                 0      F   компаньон     0   \n",
       "21517  гражданский брак                 1      F   компаньон     0   \n",
       "21518   женат / замужем                 0      F   пенсионер     0   \n",
       "21519         в разводе                 3      M   сотрудник     0   \n",
       "21520  гражданский брак                 1      F   компаньон     0   \n",
       "21521   женат / замужем                 0      F   пенсионер     0   \n",
       "21522  гражданский брак                 1      M   сотрудник     1   \n",
       "21523   женат / замужем                 0      M   сотрудник     1   \n",
       "21524   женат / замужем                 0      F   сотрудник     0   \n",
       "\n",
       "       total_income                            purpose  \n",
       "21515        109486              заняться образованием  \n",
       "21516        322807               покупка своего жилья  \n",
       "21517        178059       на покупку своего автомобиля  \n",
       "21518        153864               сделка с автомобилем  \n",
       "21519        115949  покупка коммерческой недвижимости  \n",
       "21520        224791                  операции с жильем  \n",
       "21521        155999               сделка с автомобилем  \n",
       "21522         89672                       недвижимость  \n",
       "21523        244093       на покупку своего автомобиля  \n",
       "21524         82047              на покупку автомобиля  "
      ]
     },
     "execution_count": 29,
     "metadata": {},
     "output_type": "execute_result"
    }
   ],
   "source": [
    "data.tail(10)"
   ]
  },
  {
   "cell_type": "markdown",
   "id": "f08054ef",
   "metadata": {},
   "source": [
    "Читаемость таблицы на высоте."
   ]
  },
  {
   "cell_type": "markdown",
   "id": "4ca127ed",
   "metadata": {},
   "source": [
    "### Поиск и удаление явных дубликатов"
   ]
  },
  {
   "cell_type": "markdown",
   "id": "0bd1e38d",
   "metadata": {},
   "source": [
    "Проверим наличие явных дубликатов"
   ]
  },
  {
   "cell_type": "code",
   "execution_count": 30,
   "id": "4477c7d8",
   "metadata": {},
   "outputs": [
    {
     "data": {
      "text/plain": [
       "71"
      ]
     },
     "execution_count": 30,
     "metadata": {},
     "output_type": "execute_result"
    }
   ],
   "source": [
    "data[data.duplicated() == True]['children'].count()"
   ]
  },
  {
   "cell_type": "markdown",
   "id": "e2ea9d65",
   "metadata": {},
   "source": [
    "71 дубликат необходимо удалить. Займемся этим и проверим результат"
   ]
  },
  {
   "cell_type": "code",
   "execution_count": 31,
   "id": "7542b94a",
   "metadata": {},
   "outputs": [
    {
     "data": {
      "text/plain": [
       "0"
      ]
     },
     "execution_count": 31,
     "metadata": {},
     "output_type": "execute_result"
    }
   ],
   "source": [
    "data = data.drop_duplicates().reset_index(drop=True)\n",
    "data[data.duplicated() == True]['children'].count()"
   ]
  },
  {
   "cell_type": "markdown",
   "id": "b5f225e3",
   "metadata": {},
   "source": [
    "Дубликаты удалены"
   ]
  },
  {
   "cell_type": "markdown",
   "id": "4d8d8ee4",
   "metadata": {},
   "source": [
    "### Итоги предобработки"
   ]
  },
  {
   "cell_type": "markdown",
   "id": "d46b4df6",
   "metadata": {},
   "source": [
    "Были выявлены проблемы в виде отрицательных значений, \n",
    "аномально больших значений, пропусков, неявных и явных дубликатов. \n",
    "\n",
    "Что было сделано:\n",
    "- пропуски были заменены нулевыми значениями, чтобы будущая смена типа сработала без ошибок\n",
    "- Тип **float** был сменен на тип **int**, для улучшения читаемости таблицы\n",
    "- Отрицательные значения были заменены положительными\n",
    "- **Аномально большие и нулевые значения** заменены медианами по соответствующему столбцу, т.к. именно такая замена внесет **наименьшие искажения** в результат исследования.\n",
    "- Выявлены неявные дубликаты в столбцах с категориальными переменными. Записи приведены к единому регистру, что избавило нас от неявных дубликатов\n",
    "- После такой \"приборки\" были выявлены и удалены явные дубликаты\n",
    "\n",
    "При поиске неявных дубликатов в столбцах с небольшим для визуального восприятия количеством уникальных значений, применялся метод **value_counts()**. Результат применения выглядит, как Series, что проще воспринимается. Метод **unique()** применялся для поиска аномалий в столбце с возрастом, т.к. уникальных значений в нем больше и все они числовые - в виде списка вполне читается."
   ]
  },
  {
   "cell_type": "markdown",
   "id": "d6e47e7c",
   "metadata": {},
   "source": [
    "## Оптимизация датафрейма и анализ данных"
   ]
  },
  {
   "cell_type": "markdown",
   "id": "36bb584f",
   "metadata": {},
   "source": [
    "### Формирование дополнительных датафреймов словарей, декомпозиция исходного датафрейма."
   ]
  },
  {
   "cell_type": "markdown",
   "id": "98ecf725",
   "metadata": {},
   "source": [
    "Создадим \"словари\" с категориями образования и семейного положения и проверим результат работы кода, выведя на экран значения созданных для \"словарей\" переменных"
   ]
  },
  {
   "cell_type": "code",
   "execution_count": 32,
   "id": "a705adbc",
   "metadata": {},
   "outputs": [
    {
     "data": {
      "text/html": [
       "<div>\n",
       "<style scoped>\n",
       "    .dataframe tbody tr th:only-of-type {\n",
       "        vertical-align: middle;\n",
       "    }\n",
       "\n",
       "    .dataframe tbody tr th {\n",
       "        vertical-align: top;\n",
       "    }\n",
       "\n",
       "    .dataframe thead th {\n",
       "        text-align: right;\n",
       "    }\n",
       "</style>\n",
       "<table border=\"1\" class=\"dataframe\">\n",
       "  <thead>\n",
       "    <tr style=\"text-align: right;\">\n",
       "      <th></th>\n",
       "      <th>education_id</th>\n",
       "      <th>education</th>\n",
       "    </tr>\n",
       "  </thead>\n",
       "  <tbody>\n",
       "    <tr>\n",
       "      <td>0</td>\n",
       "      <td>0</td>\n",
       "      <td>высшее</td>\n",
       "    </tr>\n",
       "    <tr>\n",
       "      <td>1</td>\n",
       "      <td>1</td>\n",
       "      <td>среднее</td>\n",
       "    </tr>\n",
       "    <tr>\n",
       "      <td>2</td>\n",
       "      <td>2</td>\n",
       "      <td>неоконченное высшее</td>\n",
       "    </tr>\n",
       "    <tr>\n",
       "      <td>3</td>\n",
       "      <td>3</td>\n",
       "      <td>начальное</td>\n",
       "    </tr>\n",
       "    <tr>\n",
       "      <td>4</td>\n",
       "      <td>4</td>\n",
       "      <td>ученая степень</td>\n",
       "    </tr>\n",
       "  </tbody>\n",
       "</table>\n",
       "</div>"
      ],
      "text/plain": [
       "   education_id            education\n",
       "0             0               высшее\n",
       "1             1              среднее\n",
       "2             2  неоконченное высшее\n",
       "3             3            начальное\n",
       "4             4       ученая степень"
      ]
     },
     "execution_count": 32,
     "metadata": {},
     "output_type": "execute_result"
    }
   ],
   "source": [
    "education_dict = data[['education_id', 'education']]\n",
    "education_dict = education_dict.drop_duplicates().reset_index(drop=True)\n",
    "education_dict"
   ]
  },
  {
   "cell_type": "code",
   "execution_count": 33,
   "id": "995cb250",
   "metadata": {},
   "outputs": [
    {
     "data": {
      "text/html": [
       "<div>\n",
       "<style scoped>\n",
       "    .dataframe tbody tr th:only-of-type {\n",
       "        vertical-align: middle;\n",
       "    }\n",
       "\n",
       "    .dataframe tbody tr th {\n",
       "        vertical-align: top;\n",
       "    }\n",
       "\n",
       "    .dataframe thead th {\n",
       "        text-align: right;\n",
       "    }\n",
       "</style>\n",
       "<table border=\"1\" class=\"dataframe\">\n",
       "  <thead>\n",
       "    <tr style=\"text-align: right;\">\n",
       "      <th></th>\n",
       "      <th>family_status_id</th>\n",
       "      <th>family_status</th>\n",
       "    </tr>\n",
       "  </thead>\n",
       "  <tbody>\n",
       "    <tr>\n",
       "      <td>0</td>\n",
       "      <td>0</td>\n",
       "      <td>женат / замужем</td>\n",
       "    </tr>\n",
       "    <tr>\n",
       "      <td>1</td>\n",
       "      <td>1</td>\n",
       "      <td>гражданский брак</td>\n",
       "    </tr>\n",
       "    <tr>\n",
       "      <td>2</td>\n",
       "      <td>2</td>\n",
       "      <td>вдовец / вдова</td>\n",
       "    </tr>\n",
       "    <tr>\n",
       "      <td>3</td>\n",
       "      <td>3</td>\n",
       "      <td>в разводе</td>\n",
       "    </tr>\n",
       "    <tr>\n",
       "      <td>4</td>\n",
       "      <td>4</td>\n",
       "      <td>не женат / не замужем</td>\n",
       "    </tr>\n",
       "  </tbody>\n",
       "</table>\n",
       "</div>"
      ],
      "text/plain": [
       "   family_status_id          family_status\n",
       "0                 0        женат / замужем\n",
       "1                 1       гражданский брак\n",
       "2                 2         вдовец / вдова\n",
       "3                 3              в разводе\n",
       "4                 4  не женат / не замужем"
      ]
     },
     "execution_count": 33,
     "metadata": {},
     "output_type": "execute_result"
    }
   ],
   "source": [
    "family_status_dict = data[['family_status_id', 'family_status']]\n",
    "family_status_dict = family_status_dict.drop_duplicates().reset_index(drop=True)\n",
    "family_status_dict"
   ]
  },
  {
   "cell_type": "markdown",
   "id": "8718f7cc",
   "metadata": {},
   "source": [
    "Порядок. Теперь удалим столбцы с категориями семейного положения и образования и проверим результат"
   ]
  },
  {
   "cell_type": "code",
   "execution_count": 34,
   "id": "9071a241",
   "metadata": {},
   "outputs": [
    {
     "data": {
      "text/plain": [
       "Index(['children', 'days_employed', 'dob_years', 'education_id',\n",
       "       'family_status_id', 'gender', 'income_type', 'debt', 'total_income',\n",
       "       'purpose'],\n",
       "      dtype='object')"
      ]
     },
     "execution_count": 34,
     "metadata": {},
     "output_type": "execute_result"
    }
   ],
   "source": [
    "data = data.drop(['family_status', 'education'], axis=1)\n",
    "data.columns"
   ]
  },
  {
   "cell_type": "markdown",
   "id": "0c107ae3",
   "metadata": {},
   "source": [
    "Выбранные столбцы удалены"
   ]
  },
  {
   "cell_type": "markdown",
   "id": "021b6ecf",
   "metadata": {},
   "source": [
    "### Категоризация дохода."
   ]
  },
  {
   "cell_type": "markdown",
   "id": "bbd2a55b",
   "metadata": {},
   "source": [
    "Напишем код функции для категоризации дохода и проверим её работу"
   ]
  },
  {
   "cell_type": "code",
   "execution_count": 35,
   "id": "a45b4339",
   "metadata": {},
   "outputs": [
    {
     "name": "stdout",
     "output_type": "stream",
     "text": [
      "E\n",
      "D\n",
      "C\n",
      "B\n",
      "A\n"
     ]
    }
   ],
   "source": [
    "def income_id(income):\n",
    "    if income <= 30000:\n",
    "        return 'E'\n",
    "    elif 30001 <= income <= 50000:\n",
    "        return 'D'\n",
    "    elif 50001 <= income <= 200000:\n",
    "        return 'C'\n",
    "    elif 200001 <= income <= 1000000:\n",
    "        return 'B'\n",
    "    else:\n",
    "        return 'A'\n",
    "\n",
    "test_income = [200, 35000, 55000, 250000, 1100000]\n",
    "for income in test_income:\n",
    "    print(income_id(income))"
   ]
  },
  {
   "cell_type": "markdown",
   "id": "2d26a24e",
   "metadata": {},
   "source": [
    "Функция работает корректно.\n",
    "\n",
    "Теперь создадим отдельный столбец с категориями дохода и проверим результат визуально"
   ]
  },
  {
   "cell_type": "code",
   "execution_count": 36,
   "id": "591f558c",
   "metadata": {},
   "outputs": [
    {
     "data": {
      "text/html": [
       "<div>\n",
       "<style scoped>\n",
       "    .dataframe tbody tr th:only-of-type {\n",
       "        vertical-align: middle;\n",
       "    }\n",
       "\n",
       "    .dataframe tbody tr th {\n",
       "        vertical-align: top;\n",
       "    }\n",
       "\n",
       "    .dataframe thead th {\n",
       "        text-align: right;\n",
       "    }\n",
       "</style>\n",
       "<table border=\"1\" class=\"dataframe\">\n",
       "  <thead>\n",
       "    <tr style=\"text-align: right;\">\n",
       "      <th></th>\n",
       "      <th>children</th>\n",
       "      <th>days_employed</th>\n",
       "      <th>dob_years</th>\n",
       "      <th>education_id</th>\n",
       "      <th>family_status_id</th>\n",
       "      <th>gender</th>\n",
       "      <th>income_type</th>\n",
       "      <th>debt</th>\n",
       "      <th>total_income</th>\n",
       "      <th>purpose</th>\n",
       "      <th>income_id</th>\n",
       "    </tr>\n",
       "  </thead>\n",
       "  <tbody>\n",
       "    <tr>\n",
       "      <td>0</td>\n",
       "      <td>1</td>\n",
       "      <td>8437</td>\n",
       "      <td>42</td>\n",
       "      <td>0</td>\n",
       "      <td>0</td>\n",
       "      <td>F</td>\n",
       "      <td>сотрудник</td>\n",
       "      <td>0</td>\n",
       "      <td>253875</td>\n",
       "      <td>покупка жилья</td>\n",
       "      <td>B</td>\n",
       "    </tr>\n",
       "    <tr>\n",
       "      <td>1</td>\n",
       "      <td>1</td>\n",
       "      <td>4024</td>\n",
       "      <td>36</td>\n",
       "      <td>1</td>\n",
       "      <td>0</td>\n",
       "      <td>F</td>\n",
       "      <td>сотрудник</td>\n",
       "      <td>0</td>\n",
       "      <td>112080</td>\n",
       "      <td>приобретение автомобиля</td>\n",
       "      <td>C</td>\n",
       "    </tr>\n",
       "    <tr>\n",
       "      <td>2</td>\n",
       "      <td>0</td>\n",
       "      <td>5623</td>\n",
       "      <td>33</td>\n",
       "      <td>1</td>\n",
       "      <td>0</td>\n",
       "      <td>M</td>\n",
       "      <td>сотрудник</td>\n",
       "      <td>0</td>\n",
       "      <td>145885</td>\n",
       "      <td>покупка жилья</td>\n",
       "      <td>C</td>\n",
       "    </tr>\n",
       "    <tr>\n",
       "      <td>3</td>\n",
       "      <td>3</td>\n",
       "      <td>4124</td>\n",
       "      <td>32</td>\n",
       "      <td>1</td>\n",
       "      <td>0</td>\n",
       "      <td>M</td>\n",
       "      <td>сотрудник</td>\n",
       "      <td>0</td>\n",
       "      <td>267628</td>\n",
       "      <td>дополнительное образование</td>\n",
       "      <td>B</td>\n",
       "    </tr>\n",
       "    <tr>\n",
       "      <td>4</td>\n",
       "      <td>0</td>\n",
       "      <td>1808</td>\n",
       "      <td>53</td>\n",
       "      <td>1</td>\n",
       "      <td>1</td>\n",
       "      <td>F</td>\n",
       "      <td>пенсионер</td>\n",
       "      <td>0</td>\n",
       "      <td>158616</td>\n",
       "      <td>сыграть свадьбу</td>\n",
       "      <td>C</td>\n",
       "    </tr>\n",
       "  </tbody>\n",
       "</table>\n",
       "</div>"
      ],
      "text/plain": [
       "   children  days_employed  dob_years  education_id  family_status_id gender  \\\n",
       "0         1           8437         42             0                 0      F   \n",
       "1         1           4024         36             1                 0      F   \n",
       "2         0           5623         33             1                 0      M   \n",
       "3         3           4124         32             1                 0      M   \n",
       "4         0           1808         53             1                 1      F   \n",
       "\n",
       "  income_type  debt  total_income                     purpose income_id  \n",
       "0   сотрудник     0        253875               покупка жилья         B  \n",
       "1   сотрудник     0        112080     приобретение автомобиля         C  \n",
       "2   сотрудник     0        145885               покупка жилья         C  \n",
       "3   сотрудник     0        267628  дополнительное образование         B  \n",
       "4   пенсионер     0        158616             сыграть свадьбу         C  "
      ]
     },
     "execution_count": 36,
     "metadata": {},
     "output_type": "execute_result"
    }
   ],
   "source": [
    "data['income_id'] = data['total_income'].apply(income_id)\n",
    "data.head(5)"
   ]
  },
  {
   "cell_type": "markdown",
   "id": "0cb697df",
   "metadata": {},
   "source": [
    "### Категоризация целей кредита."
   ]
  },
  {
   "cell_type": "markdown",
   "id": "8d5ee321",
   "metadata": {},
   "source": [
    "Проверим уникальные значения в столбце с целями кредита для выявления признаков, по которым будем присваивать категорию"
   ]
  },
  {
   "cell_type": "code",
   "execution_count": 37,
   "id": "dba151ed",
   "metadata": {},
   "outputs": [
    {
     "data": {
      "text/plain": [
       "свадьба                                   791\n",
       "на проведение свадьбы                     768\n",
       "сыграть свадьбу                           765\n",
       "операции с недвижимостью                  675\n",
       "покупка коммерческой недвижимости         661\n",
       "операции с жильем                         652\n",
       "покупка жилья для сдачи                   651\n",
       "операции с коммерческой недвижимостью     650\n",
       "покупка жилья                             646\n",
       "жилье                                     646\n",
       "покупка жилья для семьи                   638\n",
       "строительство собственной недвижимости    635\n",
       "недвижимость                              633\n",
       "операции со своей недвижимостью           627\n",
       "строительство жилой недвижимости          624\n",
       "покупка недвижимости                      621\n",
       "покупка своего жилья                      620\n",
       "строительство недвижимости                619\n",
       "ремонт жилью                              607\n",
       "покупка жилой недвижимости                606\n",
       "на покупку своего автомобиля              505\n",
       "заняться высшим образованием              496\n",
       "автомобиль                                494\n",
       "сделка с подержанным автомобилем          486\n",
       "свой автомобиль                           478\n",
       "на покупку подержанного автомобиля        478\n",
       "автомобили                                478\n",
       "на покупку автомобиля                     471\n",
       "приобретение автомобиля                   461\n",
       "дополнительное образование                460\n",
       "сделка с автомобилем                      455\n",
       "высшее образование                        452\n",
       "образование                               447\n",
       "получение дополнительного образования     446\n",
       "получение образования                     442\n",
       "профильное образование                    436\n",
       "получение высшего образования             426\n",
       "заняться образованием                     408\n",
       "Name: purpose, dtype: int64"
      ]
     },
     "execution_count": 37,
     "metadata": {},
     "output_type": "execute_result"
    }
   ],
   "source": [
    "data['purpose'].value_counts()"
   ]
  },
  {
   "cell_type": "markdown",
   "id": "76db78bd",
   "metadata": {},
   "source": [
    "После анализа всех уникальных значений выявил следующий характерные строки, которые позволят присвоить категорию всем значениям столбца с целями кредита:\n",
    "\n",
    "- \"авто\"\n",
    "- \"недвиж\"\n",
    "- \"жиль\"\n",
    "- \"свадьб\"\n",
    "- \"образ\"\n",
    "\n",
    "Напишем функцию для присвоения категорий, создадим новый столбец с ними и проверим результат:"
   ]
  },
  {
   "cell_type": "code",
   "execution_count": 38,
   "id": "b4d33f35",
   "metadata": {},
   "outputs": [
    {
     "name": "stdout",
     "output_type": "stream",
     "text": [
      "операции с недвижимостью    10811\n",
      "операции с автомобилем       4306\n",
      "получение образования        4013\n",
      "проведение свадьбы           2324\n",
      "Name: purpose_id, dtype: int64\n"
     ]
    }
   ],
   "source": [
    "def purpose_id(purpose):\n",
    "    if purpose.find('авто') != -1:\n",
    "        return 'операции с автомобилем'\n",
    "    elif purpose.find('недвиж') != -1:\n",
    "        return 'операции с недвижимостью'\n",
    "    elif purpose.find('свадьб') != -1:\n",
    "        return 'проведение свадьбы'\n",
    "    elif purpose.find('образ') != -1:\n",
    "        return 'получение образования'\n",
    "    else:\n",
    "        return 'операции с недвижимостью'\n",
    "\n",
    "data['purpose_id'] = data['purpose'].apply(purpose_id)\n",
    "print(data['purpose_id'].value_counts())"
   ]
  },
  {
   "cell_type": "markdown",
   "id": "57219db0",
   "metadata": {},
   "source": [
    "Как видим, категории присвоены. На всякий пожарный проверим наличие пропусков в новом столбце с категориями:"
   ]
  },
  {
   "cell_type": "code",
   "execution_count": 39,
   "id": "c6d69ecf",
   "metadata": {},
   "outputs": [
    {
     "data": {
      "text/plain": [
       "0"
      ]
     },
     "execution_count": 39,
     "metadata": {},
     "output_type": "execute_result"
    }
   ],
   "source": [
    "data[data['purpose_id'].isna() == True]['purpose_id'].count()"
   ]
  },
  {
   "cell_type": "markdown",
   "id": "3365b0ae",
   "metadata": {},
   "source": [
    "Категоризация проведена успешно"
   ]
  },
  {
   "cell_type": "markdown",
   "id": "5e5b72dd",
   "metadata": {},
   "source": [
    "### Анализ данных. Ответы на вопросы."
   ]
  },
  {
   "cell_type": "markdown",
   "id": "c9fd634c",
   "metadata": {},
   "source": [
    "Для ответов на поставленные вопросы будем использовать сводные таблицы по соответствующим столбцам и функцию mean() для нахождения процента невозвращённых кредитов по каждой группе."
   ]
  },
  {
   "cell_type": "markdown",
   "id": "6ed459c6",
   "metadata": {},
   "source": [
    "#### Есть ли зависимость между количеством детей и возвратом кредита в срок?"
   ]
  },
  {
   "cell_type": "markdown",
   "id": "7b27a770",
   "metadata": {},
   "source": [
    "Гипотеза, соответствующая данному вопросу звучит так: чем больше детей, тем больший процент невозврата кредита. Выведем сводную таблицу и проверим гипотезу:"
   ]
  },
  {
   "cell_type": "code",
   "execution_count": 40,
   "id": "67374b48",
   "metadata": {},
   "outputs": [
    {
     "data": {
      "text/html": [
       "<div>\n",
       "<style scoped>\n",
       "    .dataframe tbody tr th:only-of-type {\n",
       "        vertical-align: middle;\n",
       "    }\n",
       "\n",
       "    .dataframe tbody tr th {\n",
       "        vertical-align: top;\n",
       "    }\n",
       "\n",
       "    .dataframe thead th {\n",
       "        text-align: right;\n",
       "    }\n",
       "</style>\n",
       "<table border=\"1\" class=\"dataframe\">\n",
       "  <thead>\n",
       "    <tr style=\"text-align: right;\">\n",
       "      <th></th>\n",
       "      <th>debt</th>\n",
       "    </tr>\n",
       "    <tr>\n",
       "      <th>children</th>\n",
       "      <th></th>\n",
       "    </tr>\n",
       "  </thead>\n",
       "  <tbody>\n",
       "    <tr>\n",
       "      <td>0</td>\n",
       "      <td>0.075438</td>\n",
       "    </tr>\n",
       "    <tr>\n",
       "      <td>1</td>\n",
       "      <td>0.091658</td>\n",
       "    </tr>\n",
       "    <tr>\n",
       "      <td>2</td>\n",
       "      <td>0.094925</td>\n",
       "    </tr>\n",
       "    <tr>\n",
       "      <td>3</td>\n",
       "      <td>0.081818</td>\n",
       "    </tr>\n",
       "    <tr>\n",
       "      <td>4</td>\n",
       "      <td>0.097561</td>\n",
       "    </tr>\n",
       "    <tr>\n",
       "      <td>5</td>\n",
       "      <td>0.000000</td>\n",
       "    </tr>\n",
       "  </tbody>\n",
       "</table>\n",
       "</div>"
      ],
      "text/plain": [
       "              debt\n",
       "children          \n",
       "0         0.075438\n",
       "1         0.091658\n",
       "2         0.094925\n",
       "3         0.081818\n",
       "4         0.097561\n",
       "5         0.000000"
      ]
     },
     "execution_count": 40,
     "metadata": {},
     "output_type": "execute_result"
    }
   ],
   "source": [
    "children_pivot = pd.pivot_table(data, index='children', values='debt', aggfunc='mean')\n",
    "children_pivot"
   ]
  },
  {
   "cell_type": "markdown",
   "id": "648ad406",
   "metadata": {},
   "source": [
    "Как видим значительный рост (почти 2%) невозвратов есть между группой заёмщиков без детей и с одним ребенком. В остальных случаях при увеличении количества детей идёт либо незначительный рост, либо снижение процента невозвратов. Более того нужно учитывать, что объёмы выборки по каждому количеству детей разные. Поэтому нулевой процент невозврата у заёмщиков с 5 детьми не говорит о том, что всем им нужно выдать, да побольше. Просто объём выборки маленький.\n",
    "\n",
    "**Вывод**: гипотеза не подтвердилась **количество** детей **не влияет** на процент невозврата кредита. \n",
    "\n",
    "**Влияет наличие детей:**\n",
    "- **есть дети - процент невозврата выше;**\n",
    "- **нет детей - процент невозврата ниже;**"
   ]
  },
  {
   "cell_type": "markdown",
   "id": "ae72bb84",
   "metadata": {},
   "source": [
    "#### Есть ли зависимость между семейным положением и возвратом кредита в срок?"
   ]
  },
  {
   "cell_type": "markdown",
   "id": "4be474b4",
   "metadata": {},
   "source": [
    "Гипотеза такая: люди в официальном браке более надежные заёмщики (что логично, нечужие люди друг другу помогают)\n",
    "\n",
    "Выведем сводную таблицу по семейному положению и невозврату кредита. Также, для удобства интерпретации присоединим столбец с расшифровкой идентификаторов семейного положения."
   ]
  },
  {
   "cell_type": "code",
   "execution_count": 42,
   "id": "85b73343",
   "metadata": {},
   "outputs": [
    {
     "data": {
      "text/html": [
       "<div>\n",
       "<style scoped>\n",
       "    .dataframe tbody tr th:only-of-type {\n",
       "        vertical-align: middle;\n",
       "    }\n",
       "\n",
       "    .dataframe tbody tr th {\n",
       "        vertical-align: top;\n",
       "    }\n",
       "\n",
       "    .dataframe thead th {\n",
       "        text-align: right;\n",
       "    }\n",
       "</style>\n",
       "<table border=\"1\" class=\"dataframe\">\n",
       "  <thead>\n",
       "    <tr style=\"text-align: right;\">\n",
       "      <th></th>\n",
       "      <th>family_status_id</th>\n",
       "      <th>debt</th>\n",
       "      <th>family_status</th>\n",
       "    </tr>\n",
       "  </thead>\n",
       "  <tbody>\n",
       "    <tr>\n",
       "      <td>0</td>\n",
       "      <td>0</td>\n",
       "      <td>7.55%</td>\n",
       "      <td>женат / замужем</td>\n",
       "    </tr>\n",
       "    <tr>\n",
       "      <td>1</td>\n",
       "      <td>1</td>\n",
       "      <td>9.35%</td>\n",
       "      <td>гражданский брак</td>\n",
       "    </tr>\n",
       "    <tr>\n",
       "      <td>2</td>\n",
       "      <td>2</td>\n",
       "      <td>6.57%</td>\n",
       "      <td>вдовец / вдова</td>\n",
       "    </tr>\n",
       "    <tr>\n",
       "      <td>3</td>\n",
       "      <td>3</td>\n",
       "      <td>7.11%</td>\n",
       "      <td>в разводе</td>\n",
       "    </tr>\n",
       "    <tr>\n",
       "      <td>4</td>\n",
       "      <td>4</td>\n",
       "      <td>9.75%</td>\n",
       "      <td>не женат / не замужем</td>\n",
       "    </tr>\n",
       "  </tbody>\n",
       "</table>\n",
       "</div>"
      ],
      "text/plain": [
       "   family_status_id    debt          family_status\n",
       "0                 0  7.55%         женат / замужем\n",
       "1                 1  9.35%        гражданский брак\n",
       "2                 2  6.57%          вдовец / вдова\n",
       "3                 3  7.11%               в разводе\n",
       "4                 4  9.75%   не женат / не замужем"
      ]
     },
     "execution_count": 42,
     "metadata": {},
     "output_type": "execute_result"
    }
   ],
   "source": [
    "family_status_pivot = pd.pivot_table(data, index='family_status_id', values='debt', aggfunc=my_mean)\n",
    "family_status_pivot = family_status_pivot.merge(family_status_dict, on='family_status_id', how='left')\n",
    "family_status_pivot"
   ]
  },
  {
   "cell_type": "markdown",
   "id": "a9e0e2ca",
   "metadata": {},
   "source": [
    "По представленным данным выделил бы низкие показания значений \"в разводе\", \"женат / замужем\", \"вдовец / вдова\".\n",
    "\n",
    "**Вывод:**\n",
    "гипотеза подтверждена. Более того, судя по этим данным, **более надежны люди, когда-либо состоявшие в официальном браке**, а не только состоящие в таковом на момент подачи заявки. Значит готовность оформить отношения официально характеризует человека, как более надежного."
   ]
  },
  {
   "cell_type": "markdown",
   "id": "0e9f1f1b",
   "metadata": {},
   "source": [
    "#### Есть ли зависимость между уровнем дохода и возвратом кредита в срок?"
   ]
  },
  {
   "cell_type": "markdown",
   "id": "72fe0f94",
   "metadata": {},
   "source": [
    "Гипотеза по этому вопросу: чем выше доход, тем меньше процент невозврата.\n",
    "\n",
    "Словарь присоединять в данном случае нет необходимости. Закономерность простая: \n",
    "- категория \"А\" - максимальный доход;\n",
    "- категория \"E\" - минимальный доход;"
   ]
  },
  {
   "cell_type": "code",
   "execution_count": 43,
   "id": "be94f568",
   "metadata": {},
   "outputs": [
    {
     "data": {
      "text/html": [
       "<div>\n",
       "<style scoped>\n",
       "    .dataframe tbody tr th:only-of-type {\n",
       "        vertical-align: middle;\n",
       "    }\n",
       "\n",
       "    .dataframe tbody tr th {\n",
       "        vertical-align: top;\n",
       "    }\n",
       "\n",
       "    .dataframe thead th {\n",
       "        text-align: right;\n",
       "    }\n",
       "</style>\n",
       "<table border=\"1\" class=\"dataframe\">\n",
       "  <thead>\n",
       "    <tr style=\"text-align: right;\">\n",
       "      <th></th>\n",
       "      <th>debt</th>\n",
       "    </tr>\n",
       "    <tr>\n",
       "      <th>income_id</th>\n",
       "      <th></th>\n",
       "    </tr>\n",
       "  </thead>\n",
       "  <tbody>\n",
       "    <tr>\n",
       "      <td>A</td>\n",
       "      <td>8.00%</td>\n",
       "    </tr>\n",
       "    <tr>\n",
       "      <td>B</td>\n",
       "      <td>7.06%</td>\n",
       "    </tr>\n",
       "    <tr>\n",
       "      <td>C</td>\n",
       "      <td>8.49%</td>\n",
       "    </tr>\n",
       "    <tr>\n",
       "      <td>D</td>\n",
       "      <td>6.00%</td>\n",
       "    </tr>\n",
       "    <tr>\n",
       "      <td>E</td>\n",
       "      <td>9.09%</td>\n",
       "    </tr>\n",
       "  </tbody>\n",
       "</table>\n",
       "</div>"
      ],
      "text/plain": [
       "             debt\n",
       "income_id        \n",
       "A          8.00% \n",
       "B          7.06% \n",
       "C          8.49% \n",
       "D          6.00% \n",
       "E          9.09% "
      ]
     },
     "execution_count": 43,
     "metadata": {},
     "output_type": "execute_result"
    }
   ],
   "source": [
    "pd.pivot_table(data, index='income_id', values='debt', aggfunc=my_mean)"
   ]
  },
  {
   "cell_type": "markdown",
   "id": "1c415a2f",
   "metadata": {},
   "source": [
    "Гипотеза явно не подтвердилась, даже с учётом разного объёма выборок. Хотя люди с минимальным доходом не возвращают деньги чаще, чем все остальные. \n",
    "\n",
    "**Вывод:** Прямой закономерности процента невозврата и уровня дохода нет, но есть более надёжные категории \"D\" и \"B\""
   ]
  },
  {
   "cell_type": "markdown",
   "id": "61950d0a",
   "metadata": {},
   "source": [
    "#### Как разные цели кредита влияют на его возврат в срок?"
   ]
  },
  {
   "cell_type": "markdown",
   "id": "4ef61806",
   "metadata": {},
   "source": [
    "Гипотеза: более дорогие покупки провоцируют больший процент невозврата"
   ]
  },
  {
   "cell_type": "code",
   "execution_count": 44,
   "id": "ff94ff5e",
   "metadata": {},
   "outputs": [
    {
     "data": {
      "text/html": [
       "<div>\n",
       "<style scoped>\n",
       "    .dataframe tbody tr th:only-of-type {\n",
       "        vertical-align: middle;\n",
       "    }\n",
       "\n",
       "    .dataframe tbody tr th {\n",
       "        vertical-align: top;\n",
       "    }\n",
       "\n",
       "    .dataframe thead th {\n",
       "        text-align: right;\n",
       "    }\n",
       "</style>\n",
       "<table border=\"1\" class=\"dataframe\">\n",
       "  <thead>\n",
       "    <tr style=\"text-align: right;\">\n",
       "      <th></th>\n",
       "      <th>debt</th>\n",
       "    </tr>\n",
       "    <tr>\n",
       "      <th>purpose_id</th>\n",
       "      <th></th>\n",
       "    </tr>\n",
       "  </thead>\n",
       "  <tbody>\n",
       "    <tr>\n",
       "      <td>операции с автомобилем</td>\n",
       "      <td>9.36%</td>\n",
       "    </tr>\n",
       "    <tr>\n",
       "      <td>операции с недвижимостью</td>\n",
       "      <td>7.23%</td>\n",
       "    </tr>\n",
       "    <tr>\n",
       "      <td>получение образования</td>\n",
       "      <td>9.22%</td>\n",
       "    </tr>\n",
       "    <tr>\n",
       "      <td>проведение свадьбы</td>\n",
       "      <td>8.00%</td>\n",
       "    </tr>\n",
       "  </tbody>\n",
       "</table>\n",
       "</div>"
      ],
      "text/plain": [
       "                            debt\n",
       "purpose_id                      \n",
       "операции с автомобилем    9.36% \n",
       "операции с недвижимостью  7.23% \n",
       "получение образования     9.22% \n",
       "проведение свадьбы        8.00% "
      ]
     },
     "execution_count": 44,
     "metadata": {},
     "output_type": "execute_result"
    }
   ],
   "source": [
    "pd.pivot_table(data, index='purpose_id', values='debt', aggfunc=my_mean)"
   ]
  },
  {
   "cell_type": "markdown",
   "id": "f058aee4",
   "metadata": {},
   "source": [
    "Недвижимость в данной выборке наиболее дорогостоящая, а процент невозврата самый низкий. Также низкий процент имеет категория \"проведение свадьбы\".\n",
    "\n",
    "**Вывод:** гипотеза опровергнута, скорее нужно говорить о более надёжных категориях целей, которые подразумевают ответственность нескольких людей. Недвижимость в одиночку тяжеловато купить, да и чаще всего это кредит с поручительством, а свадьба - это вступление в официальный брак, что, как мы выяснили выше характеризует заёмщиков, как более надёжных."
   ]
  },
  {
   "cell_type": "markdown",
   "id": "e71059c2",
   "metadata": {},
   "source": [
    "## Общий вывод:"
   ]
  },
  {
   "cell_type": "markdown",
   "id": "8b573575",
   "metadata": {},
   "source": [
    "Анализируя **проблемы**, которые были выявлены в ходе предобработки исходных данных, думаю, что большинство из них **вводятся вручную** человеком. Отсюда разный регистр, и опечатки. Для предотвращения подобного в будущем, предложил бы максимально **сократить ручной ввод с клавиатуры** и пользоваться, например, **выпадающими списками**, в полях анкеты, в которых может быть небольшое количество уникальных значений.\n",
    "\n",
    "Отдельно стоит сказать о столбце со стажем работы. Так как он посчитан в днях, а ни один здравомыслящий банковский сотрудник не будет спрашивать/вводить стаж в днях, предполагаю, что существует какая-то **функция**, которая принимает дату начала трудовой деятельности, затем с помощью текущей даты вычисляет стаж и переводит его в дни. **Ошибки в работе этой функции** и являются причиной некорректных данных в исходном файле. Для повышения качества данных для анализа вдальнейшем, очень нужно исправить эти ошибки\n",
    "\n",
    "По итогам же анализа данных получился **портрет идеального заёмщика** по четырём критериям:\n",
    "\n",
    "- **Нет детей.** Процент невозврата - 7.54 %\n",
    "- **Вдовец/вдова.** Процент невозврата - 6.57 %\n",
    "- **Цель кредита: операции с недвижимостью.** Процент невозврата - 7.23 %\n",
    "- **Доход: от 30001 до 50000.** Процент невозврата - 6.00 %\n",
    "\n",
    "**Худший заёмщик** имеет следующие характеристики:\n",
    "\n",
    "- **4 ребенка.** Процент невозврата - 9.76 %\n",
    "- **Не женат/не замужем.** Процент невозврата - 9.75 %\n",
    "- **Цель кредита: операции с автомобилем.** Процент невозврата - 9.36 %\n",
    "- **Доход: менее 30 000.** Процент невозврата - 9.09 %"
   ]
  }
 ],
 "metadata": {
  "ExecuteTimeLog": [
   {
    "duration": 641,
    "start_time": "2022-02-19T05:43:29.267Z"
   },
   {
    "duration": 19,
    "start_time": "2022-02-19T05:49:17.070Z"
   },
   {
    "duration": 23,
    "start_time": "2022-02-19T06:11:41.172Z"
   },
   {
    "duration": 14,
    "start_time": "2022-02-19T06:12:03.852Z"
   },
   {
    "duration": 3,
    "start_time": "2022-02-19T06:35:05.587Z"
   },
   {
    "duration": 5,
    "start_time": "2022-02-19T06:35:23.610Z"
   },
   {
    "duration": 5,
    "start_time": "2022-02-19T06:38:22.322Z"
   },
   {
    "duration": 64,
    "start_time": "2022-02-19T06:59:50.558Z"
   },
   {
    "duration": 5,
    "start_time": "2022-02-19T07:04:02.770Z"
   },
   {
    "duration": 6,
    "start_time": "2022-02-19T07:04:03.799Z"
   },
   {
    "duration": 4,
    "start_time": "2022-02-19T07:04:06.894Z"
   },
   {
    "duration": 222,
    "start_time": "2022-02-19T07:07:55.944Z"
   },
   {
    "duration": 5,
    "start_time": "2022-02-19T07:08:14.979Z"
   },
   {
    "duration": 256,
    "start_time": "2022-02-19T07:10:15.140Z"
   },
   {
    "duration": 60,
    "start_time": "2022-02-19T07:10:38.653Z"
   },
   {
    "duration": 60,
    "start_time": "2022-02-19T07:11:46.551Z"
   },
   {
    "duration": 204,
    "start_time": "2022-02-19T07:15:50.350Z"
   },
   {
    "duration": 5,
    "start_time": "2022-02-19T07:18:53.361Z"
   },
   {
    "duration": 14,
    "start_time": "2022-02-19T07:19:21.354Z"
   },
   {
    "duration": 16,
    "start_time": "2022-02-19T07:31:43.404Z"
   },
   {
    "duration": 14,
    "start_time": "2022-02-19T07:33:42.694Z"
   },
   {
    "duration": 19,
    "start_time": "2022-02-19T07:47:04.246Z"
   },
   {
    "duration": 8,
    "start_time": "2022-02-19T07:50:33.119Z"
   },
   {
    "duration": 7,
    "start_time": "2022-02-19T07:51:07.013Z"
   },
   {
    "duration": 5,
    "start_time": "2022-02-19T11:07:03.806Z"
   },
   {
    "duration": 6,
    "start_time": "2022-02-19T11:11:17.988Z"
   },
   {
    "duration": 20,
    "start_time": "2022-02-19T11:13:36.242Z"
   },
   {
    "duration": 14,
    "start_time": "2022-02-19T11:14:14.112Z"
   },
   {
    "duration": 14,
    "start_time": "2022-02-19T11:14:26.380Z"
   },
   {
    "duration": 14,
    "start_time": "2022-02-19T11:16:48.139Z"
   },
   {
    "duration": 6,
    "start_time": "2022-02-19T11:20:54.947Z"
   },
   {
    "duration": 192,
    "start_time": "2022-02-19T11:21:55.792Z"
   },
   {
    "duration": 6,
    "start_time": "2022-02-19T11:22:34.447Z"
   },
   {
    "duration": 12,
    "start_time": "2022-02-19T11:23:21.663Z"
   },
   {
    "duration": 201,
    "start_time": "2022-02-19T11:23:44.699Z"
   },
   {
    "duration": 203,
    "start_time": "2022-02-19T11:23:52.630Z"
   },
   {
    "duration": 4,
    "start_time": "2022-02-19T11:25:04.755Z"
   },
   {
    "duration": 5,
    "start_time": "2022-02-19T11:26:24.141Z"
   },
   {
    "duration": 4,
    "start_time": "2022-02-19T11:26:47.357Z"
   },
   {
    "duration": 3,
    "start_time": "2022-02-19T11:26:50.525Z"
   },
   {
    "duration": 3,
    "start_time": "2022-02-19T11:28:29.459Z"
   },
   {
    "duration": 8,
    "start_time": "2022-02-19T11:29:35.129Z"
   },
   {
    "duration": 4,
    "start_time": "2022-02-19T11:31:52.022Z"
   },
   {
    "duration": 14,
    "start_time": "2022-02-19T11:34:04.660Z"
   },
   {
    "duration": 94,
    "start_time": "2022-02-19T12:02:57.364Z"
   },
   {
    "duration": 20,
    "start_time": "2022-02-19T12:04:23.832Z"
   },
   {
    "duration": 26,
    "start_time": "2022-02-19T12:04:37.333Z"
   },
   {
    "duration": 23,
    "start_time": "2022-02-19T12:05:15.861Z"
   },
   {
    "duration": 19,
    "start_time": "2022-02-19T12:05:39.527Z"
   },
   {
    "duration": 18,
    "start_time": "2022-02-19T12:06:09.017Z"
   },
   {
    "duration": 35,
    "start_time": "2022-02-19T12:06:22.152Z"
   },
   {
    "duration": 19,
    "start_time": "2022-02-19T12:07:38.787Z"
   },
   {
    "duration": 62,
    "start_time": "2022-02-19T12:16:07.996Z"
   },
   {
    "duration": 209,
    "start_time": "2022-02-19T12:16:14.782Z"
   },
   {
    "duration": 19,
    "start_time": "2022-02-19T12:19:11.128Z"
   },
   {
    "duration": 53,
    "start_time": "2022-02-19T12:19:31.426Z"
   },
   {
    "duration": 53,
    "start_time": "2022-02-19T12:19:32.509Z"
   },
   {
    "duration": 45,
    "start_time": "2022-02-19T12:19:33.139Z"
   },
   {
    "duration": 14,
    "start_time": "2022-02-19T12:19:38.506Z"
   },
   {
    "duration": 15,
    "start_time": "2022-02-19T12:19:42.496Z"
   },
   {
    "duration": 6,
    "start_time": "2022-02-19T12:19:45.002Z"
   },
   {
    "duration": 16,
    "start_time": "2022-02-19T12:19:47.609Z"
   },
   {
    "duration": 6,
    "start_time": "2022-02-19T12:20:13.876Z"
   },
   {
    "duration": 16,
    "start_time": "2022-02-19T12:20:20.088Z"
   },
   {
    "duration": 11,
    "start_time": "2022-02-19T12:41:31.709Z"
   },
   {
    "duration": 11,
    "start_time": "2022-02-19T12:41:48.322Z"
   },
   {
    "duration": 7,
    "start_time": "2022-02-19T12:43:58.021Z"
   },
   {
    "duration": 8,
    "start_time": "2022-02-19T12:44:03.447Z"
   },
   {
    "duration": 9,
    "start_time": "2022-02-19T12:44:34.469Z"
   },
   {
    "duration": 10,
    "start_time": "2022-02-19T12:49:03.016Z"
   },
   {
    "duration": 6,
    "start_time": "2022-02-19T13:04:03.177Z"
   },
   {
    "duration": 15,
    "start_time": "2022-02-19T13:04:09.471Z"
   },
   {
    "duration": 14,
    "start_time": "2022-02-19T13:06:01.077Z"
   },
   {
    "duration": 16,
    "start_time": "2022-02-19T13:11:01.844Z"
   },
   {
    "duration": 26,
    "start_time": "2022-02-19T13:11:39.996Z"
   },
   {
    "duration": 7,
    "start_time": "2022-02-19T13:12:36.437Z"
   },
   {
    "duration": 7,
    "start_time": "2022-02-19T13:13:05.127Z"
   },
   {
    "duration": 6,
    "start_time": "2022-02-19T13:14:12.938Z"
   },
   {
    "duration": 6,
    "start_time": "2022-02-19T13:14:15.816Z"
   },
   {
    "duration": 5,
    "start_time": "2022-02-19T13:16:17.876Z"
   },
   {
    "duration": 15,
    "start_time": "2022-02-19T13:16:21.361Z"
   },
   {
    "duration": 193,
    "start_time": "2022-02-19T13:17:34.228Z"
   },
   {
    "duration": 4,
    "start_time": "2022-02-19T13:17:44.248Z"
   },
   {
    "duration": 7,
    "start_time": "2022-02-19T13:20:19.979Z"
   },
   {
    "duration": 6,
    "start_time": "2022-02-19T13:20:41.195Z"
   },
   {
    "duration": 8,
    "start_time": "2022-02-19T13:38:47.555Z"
   },
   {
    "duration": 21,
    "start_time": "2022-02-19T13:41:34.386Z"
   },
   {
    "duration": 6,
    "start_time": "2022-02-19T13:44:49.970Z"
   },
   {
    "duration": 6,
    "start_time": "2022-02-19T13:48:14.265Z"
   },
   {
    "duration": 10,
    "start_time": "2022-02-19T13:49:34.247Z"
   },
   {
    "duration": 10,
    "start_time": "2022-02-19T13:54:07.927Z"
   },
   {
    "duration": 10,
    "start_time": "2022-02-19T13:54:14.585Z"
   },
   {
    "duration": 11,
    "start_time": "2022-02-19T13:54:49.442Z"
   },
   {
    "duration": 23,
    "start_time": "2022-02-19T13:57:39.660Z"
   },
   {
    "duration": 24,
    "start_time": "2022-02-19T13:58:07.916Z"
   },
   {
    "duration": 27,
    "start_time": "2022-02-19T13:59:15.737Z"
   },
   {
    "duration": 8,
    "start_time": "2022-02-19T14:00:45.607Z"
   },
   {
    "duration": 55,
    "start_time": "2022-02-19T14:01:10.370Z"
   },
   {
    "duration": 14,
    "start_time": "2022-02-19T14:01:10.427Z"
   },
   {
    "duration": 30,
    "start_time": "2022-02-19T14:01:10.443Z"
   },
   {
    "duration": 18,
    "start_time": "2022-02-19T14:01:10.475Z"
   },
   {
    "duration": 32,
    "start_time": "2022-02-19T14:01:10.495Z"
   },
   {
    "duration": 6,
    "start_time": "2022-02-19T14:01:10.530Z"
   },
   {
    "duration": 26,
    "start_time": "2022-02-19T14:01:10.538Z"
   },
   {
    "duration": 24,
    "start_time": "2022-02-19T14:01:10.565Z"
   },
   {
    "duration": 22,
    "start_time": "2022-02-19T14:01:10.592Z"
   },
   {
    "duration": 22,
    "start_time": "2022-02-19T14:01:10.616Z"
   },
   {
    "duration": 25,
    "start_time": "2022-02-19T14:01:10.639Z"
   },
   {
    "duration": 25,
    "start_time": "2022-02-19T14:01:10.666Z"
   },
   {
    "duration": 60,
    "start_time": "2022-02-19T14:01:10.693Z"
   },
   {
    "duration": 10,
    "start_time": "2022-02-19T14:01:10.755Z"
   },
   {
    "duration": 30,
    "start_time": "2022-02-19T14:01:10.767Z"
   },
   {
    "duration": 15,
    "start_time": "2022-02-19T14:01:10.799Z"
   },
   {
    "duration": 39,
    "start_time": "2022-02-19T14:01:10.815Z"
   },
   {
    "duration": 37,
    "start_time": "2022-02-19T14:01:10.856Z"
   },
   {
    "duration": 34,
    "start_time": "2022-02-19T14:01:10.895Z"
   },
   {
    "duration": 30,
    "start_time": "2022-02-19T14:01:10.931Z"
   },
   {
    "duration": 10,
    "start_time": "2022-02-19T14:01:10.963Z"
   },
   {
    "duration": 50,
    "start_time": "2022-02-19T14:03:37.164Z"
   },
   {
    "duration": 13,
    "start_time": "2022-02-19T14:03:37.216Z"
   },
   {
    "duration": 36,
    "start_time": "2022-02-19T14:03:37.232Z"
   },
   {
    "duration": 6,
    "start_time": "2022-02-19T14:03:37.271Z"
   },
   {
    "duration": 24,
    "start_time": "2022-02-19T14:03:37.279Z"
   },
   {
    "duration": 8,
    "start_time": "2022-02-19T14:03:37.305Z"
   },
   {
    "duration": 12,
    "start_time": "2022-02-19T14:03:37.315Z"
   },
   {
    "duration": 41,
    "start_time": "2022-02-19T14:03:37.329Z"
   },
   {
    "duration": 12,
    "start_time": "2022-02-19T14:03:37.373Z"
   },
   {
    "duration": 7,
    "start_time": "2022-02-19T14:03:37.387Z"
   },
   {
    "duration": 20,
    "start_time": "2022-02-19T14:03:37.396Z"
   },
   {
    "duration": 47,
    "start_time": "2022-02-19T14:03:37.418Z"
   },
   {
    "duration": 23,
    "start_time": "2022-02-19T14:03:37.467Z"
   },
   {
    "duration": 5,
    "start_time": "2022-02-19T14:03:37.492Z"
   },
   {
    "duration": 9,
    "start_time": "2022-02-19T14:03:37.499Z"
   },
   {
    "duration": 19,
    "start_time": "2022-02-19T14:03:37.510Z"
   },
   {
    "duration": 41,
    "start_time": "2022-02-19T14:03:37.531Z"
   },
   {
    "duration": 7,
    "start_time": "2022-02-19T14:03:37.574Z"
   },
   {
    "duration": 10,
    "start_time": "2022-02-19T14:03:37.583Z"
   },
   {
    "duration": 14,
    "start_time": "2022-02-19T14:03:49.049Z"
   },
   {
    "duration": 17,
    "start_time": "2022-02-19T14:04:10.557Z"
   },
   {
    "duration": 10,
    "start_time": "2022-02-19T14:07:35.259Z"
   },
   {
    "duration": 60,
    "start_time": "2022-02-19T14:07:52.307Z"
   },
   {
    "duration": 14,
    "start_time": "2022-02-19T14:07:52.369Z"
   },
   {
    "duration": 17,
    "start_time": "2022-02-19T14:07:52.385Z"
   },
   {
    "duration": 5,
    "start_time": "2022-02-19T14:07:52.404Z"
   },
   {
    "duration": 20,
    "start_time": "2022-02-19T14:07:52.410Z"
   },
   {
    "duration": 33,
    "start_time": "2022-02-19T14:07:52.431Z"
   },
   {
    "duration": 11,
    "start_time": "2022-02-19T14:07:52.465Z"
   },
   {
    "duration": 9,
    "start_time": "2022-02-19T14:07:52.477Z"
   },
   {
    "duration": 17,
    "start_time": "2022-02-19T14:07:52.488Z"
   },
   {
    "duration": 6,
    "start_time": "2022-02-19T14:07:52.507Z"
   },
   {
    "duration": 54,
    "start_time": "2022-02-19T14:07:52.515Z"
   },
   {
    "duration": 14,
    "start_time": "2022-02-19T14:07:52.571Z"
   },
   {
    "duration": 25,
    "start_time": "2022-02-19T14:07:52.587Z"
   },
   {
    "duration": 6,
    "start_time": "2022-02-19T14:07:52.614Z"
   },
   {
    "duration": 9,
    "start_time": "2022-02-19T14:07:52.621Z"
   },
   {
    "duration": 4,
    "start_time": "2022-02-19T14:07:52.660Z"
   },
   {
    "duration": 23,
    "start_time": "2022-02-19T14:07:52.667Z"
   },
   {
    "duration": 6,
    "start_time": "2022-02-19T14:07:52.692Z"
   },
   {
    "duration": 10,
    "start_time": "2022-02-19T14:07:52.700Z"
   },
   {
    "duration": 13,
    "start_time": "2022-02-19T14:07:56.168Z"
   },
   {
    "duration": 13,
    "start_time": "2022-02-19T14:08:23.666Z"
   },
   {
    "duration": 241,
    "start_time": "2022-02-19T14:09:42.467Z"
   },
   {
    "duration": 191,
    "start_time": "2022-02-19T14:09:58.119Z"
   },
   {
    "duration": 13,
    "start_time": "2022-02-19T14:10:27.752Z"
   },
   {
    "duration": 14,
    "start_time": "2022-02-19T14:11:35.281Z"
   },
   {
    "duration": 17,
    "start_time": "2022-02-19T14:16:47.671Z"
   },
   {
    "duration": 60,
    "start_time": "2022-02-19T14:18:00.159Z"
   },
   {
    "duration": 38,
    "start_time": "2022-02-19T14:18:00.221Z"
   },
   {
    "duration": 16,
    "start_time": "2022-02-19T14:18:00.261Z"
   },
   {
    "duration": 6,
    "start_time": "2022-02-19T14:18:00.279Z"
   },
   {
    "duration": 21,
    "start_time": "2022-02-19T14:18:00.287Z"
   },
   {
    "duration": 9,
    "start_time": "2022-02-19T14:18:00.310Z"
   },
   {
    "duration": 48,
    "start_time": "2022-02-19T14:18:00.320Z"
   },
   {
    "duration": 9,
    "start_time": "2022-02-19T14:18:00.371Z"
   },
   {
    "duration": 15,
    "start_time": "2022-02-19T14:18:00.382Z"
   },
   {
    "duration": 8,
    "start_time": "2022-02-19T14:18:00.399Z"
   },
   {
    "duration": 15,
    "start_time": "2022-02-19T14:18:00.409Z"
   },
   {
    "duration": 14,
    "start_time": "2022-02-19T14:18:00.458Z"
   },
   {
    "duration": 32,
    "start_time": "2022-02-19T14:18:00.474Z"
   },
   {
    "duration": 6,
    "start_time": "2022-02-19T14:18:00.508Z"
   },
   {
    "duration": 14,
    "start_time": "2022-02-19T14:18:00.516Z"
   },
   {
    "duration": 9,
    "start_time": "2022-02-19T14:18:00.532Z"
   },
   {
    "duration": 30,
    "start_time": "2022-02-19T14:18:00.542Z"
   },
   {
    "duration": 6,
    "start_time": "2022-02-19T14:18:00.573Z"
   },
   {
    "duration": 13,
    "start_time": "2022-02-19T14:18:00.580Z"
   },
   {
    "duration": 21,
    "start_time": "2022-02-19T14:18:00.595Z"
   },
   {
    "duration": 17,
    "start_time": "2022-02-19T14:18:00.617Z"
   },
   {
    "duration": 20,
    "start_time": "2022-02-19T14:18:16.007Z"
   },
   {
    "duration": 7,
    "start_time": "2022-02-19T14:23:25.668Z"
   },
   {
    "duration": 20,
    "start_time": "2022-02-19T14:26:05.560Z"
   },
   {
    "duration": 10,
    "start_time": "2022-02-19T14:29:20.833Z"
   },
   {
    "duration": 7,
    "start_time": "2022-02-19T14:29:30.297Z"
   },
   {
    "duration": 11,
    "start_time": "2022-02-19T14:33:32.368Z"
   },
   {
    "duration": 10,
    "start_time": "2022-02-19T14:35:30.964Z"
   },
   {
    "duration": 11,
    "start_time": "2022-02-19T14:35:49.459Z"
   },
   {
    "duration": 7,
    "start_time": "2022-02-19T14:40:33.894Z"
   },
   {
    "duration": 6,
    "start_time": "2022-02-19T14:43:16.894Z"
   },
   {
    "duration": 7,
    "start_time": "2022-02-19T14:45:46.592Z"
   },
   {
    "duration": 19,
    "start_time": "2022-02-19T15:05:52.068Z"
   },
   {
    "duration": 51,
    "start_time": "2022-02-19T15:07:00.302Z"
   },
   {
    "duration": 61,
    "start_time": "2022-02-19T15:07:51.433Z"
   },
   {
    "duration": 12,
    "start_time": "2022-02-19T15:09:18.823Z"
   },
   {
    "duration": 12,
    "start_time": "2022-02-19T15:13:55.875Z"
   },
   {
    "duration": 49,
    "start_time": "2022-02-19T15:14:26.515Z"
   },
   {
    "duration": 13,
    "start_time": "2022-02-19T15:14:26.567Z"
   },
   {
    "duration": 15,
    "start_time": "2022-02-19T15:14:26.582Z"
   },
   {
    "duration": 5,
    "start_time": "2022-02-19T15:14:26.599Z"
   },
   {
    "duration": 15,
    "start_time": "2022-02-19T15:14:26.606Z"
   },
   {
    "duration": 8,
    "start_time": "2022-02-19T15:14:26.660Z"
   },
   {
    "duration": 17,
    "start_time": "2022-02-19T15:14:26.670Z"
   },
   {
    "duration": 8,
    "start_time": "2022-02-19T15:14:26.690Z"
   },
   {
    "duration": 14,
    "start_time": "2022-02-19T15:14:26.700Z"
   },
   {
    "duration": 6,
    "start_time": "2022-02-19T15:14:26.715Z"
   },
   {
    "duration": 41,
    "start_time": "2022-02-19T15:14:26.723Z"
   },
   {
    "duration": 14,
    "start_time": "2022-02-19T15:14:26.766Z"
   },
   {
    "duration": 25,
    "start_time": "2022-02-19T15:14:26.782Z"
   },
   {
    "duration": 5,
    "start_time": "2022-02-19T15:14:26.809Z"
   },
   {
    "duration": 7,
    "start_time": "2022-02-19T15:14:26.815Z"
   },
   {
    "duration": 10,
    "start_time": "2022-02-19T15:14:26.823Z"
   },
   {
    "duration": 14,
    "start_time": "2022-02-19T15:14:26.859Z"
   },
   {
    "duration": 9,
    "start_time": "2022-02-19T15:14:26.874Z"
   },
   {
    "duration": 14,
    "start_time": "2022-02-19T15:14:26.885Z"
   },
   {
    "duration": 15,
    "start_time": "2022-02-19T15:14:26.901Z"
   },
   {
    "duration": 14,
    "start_time": "2022-02-19T15:14:26.918Z"
   },
   {
    "duration": 36,
    "start_time": "2022-02-19T15:14:26.933Z"
   },
   {
    "duration": 7,
    "start_time": "2022-02-19T15:14:26.972Z"
   },
   {
    "duration": 19,
    "start_time": "2022-02-19T15:14:26.981Z"
   },
   {
    "duration": 5,
    "start_time": "2022-02-19T15:14:27.002Z"
   },
   {
    "duration": 8,
    "start_time": "2022-02-19T15:14:27.009Z"
   },
   {
    "duration": 12,
    "start_time": "2022-02-19T15:14:27.019Z"
   },
   {
    "duration": 7,
    "start_time": "2022-02-19T15:14:27.059Z"
   },
   {
    "duration": 8,
    "start_time": "2022-02-19T15:14:27.068Z"
   },
   {
    "duration": 7,
    "start_time": "2022-02-19T15:14:27.078Z"
   },
   {
    "duration": 78,
    "start_time": "2022-02-19T15:14:27.086Z"
   },
   {
    "duration": 11,
    "start_time": "2022-02-19T15:14:27.165Z"
   },
   {
    "duration": 12,
    "start_time": "2022-02-19T15:14:32.775Z"
   },
   {
    "duration": 18,
    "start_time": "2022-02-19T15:18:24.656Z"
   },
   {
    "duration": 52,
    "start_time": "2022-02-19T15:19:52.386Z"
   },
   {
    "duration": 13,
    "start_time": "2022-02-19T15:19:52.440Z"
   },
   {
    "duration": 17,
    "start_time": "2022-02-19T15:19:52.455Z"
   },
   {
    "duration": 4,
    "start_time": "2022-02-19T15:19:52.474Z"
   },
   {
    "duration": 19,
    "start_time": "2022-02-19T15:19:52.480Z"
   },
   {
    "duration": 7,
    "start_time": "2022-02-19T15:19:52.501Z"
   },
   {
    "duration": 10,
    "start_time": "2022-02-19T15:19:52.510Z"
   },
   {
    "duration": 38,
    "start_time": "2022-02-19T15:19:52.522Z"
   },
   {
    "duration": 10,
    "start_time": "2022-02-19T15:19:52.563Z"
   },
   {
    "duration": 5,
    "start_time": "2022-02-19T15:19:52.575Z"
   },
   {
    "duration": 13,
    "start_time": "2022-02-19T15:19:52.582Z"
   },
   {
    "duration": 18,
    "start_time": "2022-02-19T15:19:52.596Z"
   },
   {
    "duration": 54,
    "start_time": "2022-02-19T15:19:52.616Z"
   },
   {
    "duration": 5,
    "start_time": "2022-02-19T15:19:52.672Z"
   },
   {
    "duration": 21,
    "start_time": "2022-02-19T15:19:52.679Z"
   },
   {
    "duration": 9,
    "start_time": "2022-02-19T15:19:52.701Z"
   },
   {
    "duration": 16,
    "start_time": "2022-02-19T15:19:52.712Z"
   },
   {
    "duration": 9,
    "start_time": "2022-02-19T15:19:52.729Z"
   },
   {
    "duration": 22,
    "start_time": "2022-02-19T15:19:52.740Z"
   },
   {
    "duration": 22,
    "start_time": "2022-02-19T15:19:52.764Z"
   },
   {
    "duration": 20,
    "start_time": "2022-02-19T15:19:52.788Z"
   },
   {
    "duration": 22,
    "start_time": "2022-02-19T15:19:52.810Z"
   },
   {
    "duration": 32,
    "start_time": "2022-02-19T15:19:52.834Z"
   },
   {
    "duration": 8,
    "start_time": "2022-02-19T15:19:52.868Z"
   },
   {
    "duration": 27,
    "start_time": "2022-02-19T15:19:52.878Z"
   },
   {
    "duration": 6,
    "start_time": "2022-02-19T15:19:52.906Z"
   },
   {
    "duration": 12,
    "start_time": "2022-02-19T15:19:52.915Z"
   },
   {
    "duration": 31,
    "start_time": "2022-02-19T15:19:52.929Z"
   },
   {
    "duration": 8,
    "start_time": "2022-02-19T15:19:52.961Z"
   },
   {
    "duration": 21,
    "start_time": "2022-02-19T15:19:52.971Z"
   },
   {
    "duration": 32,
    "start_time": "2022-02-19T15:19:52.993Z"
   },
   {
    "duration": 80,
    "start_time": "2022-02-19T15:19:53.027Z"
   },
   {
    "duration": 11,
    "start_time": "2022-02-19T15:19:53.108Z"
   },
   {
    "duration": 12,
    "start_time": "2022-02-19T15:19:57.648Z"
   },
   {
    "duration": 24,
    "start_time": "2022-02-20T08:07:58.857Z"
   },
   {
    "duration": 58,
    "start_time": "2022-02-20T08:08:59.490Z"
   },
   {
    "duration": 23,
    "start_time": "2022-02-20T08:09:04.428Z"
   },
   {
    "duration": 18,
    "start_time": "2022-02-20T08:09:16.693Z"
   },
   {
    "duration": 23,
    "start_time": "2022-02-20T08:09:58.600Z"
   },
   {
    "duration": 19,
    "start_time": "2022-02-20T08:11:52.520Z"
   },
   {
    "duration": 18,
    "start_time": "2022-02-20T08:12:26.792Z"
   },
   {
    "duration": 17,
    "start_time": "2022-02-20T08:20:33.518Z"
   },
   {
    "duration": 27,
    "start_time": "2022-02-20T08:21:04.620Z"
   },
   {
    "duration": 32,
    "start_time": "2022-02-20T08:23:55.037Z"
   },
   {
    "duration": 67,
    "start_time": "2022-02-20T08:24:23.030Z"
   },
   {
    "duration": 9,
    "start_time": "2022-02-20T09:36:35.652Z"
   },
   {
    "duration": 12,
    "start_time": "2022-02-20T09:39:00.659Z"
   },
   {
    "duration": 11,
    "start_time": "2022-02-20T09:40:17.145Z"
   },
   {
    "duration": 12,
    "start_time": "2022-02-20T09:40:30.651Z"
   },
   {
    "duration": 11,
    "start_time": "2022-02-20T09:40:33.612Z"
   },
   {
    "duration": 12,
    "start_time": "2022-02-20T09:40:51.792Z"
   },
   {
    "duration": 6,
    "start_time": "2022-02-20T09:48:47.102Z"
   },
   {
    "duration": 177,
    "start_time": "2022-02-20T09:48:59.172Z"
   },
   {
    "duration": 174,
    "start_time": "2022-02-20T09:49:13.280Z"
   },
   {
    "duration": 56,
    "start_time": "2022-02-20T09:49:19.065Z"
   },
   {
    "duration": 179,
    "start_time": "2022-02-20T09:49:24.911Z"
   },
   {
    "duration": 171,
    "start_time": "2022-02-20T09:50:07.472Z"
   },
   {
    "duration": 185,
    "start_time": "2022-02-20T09:50:45.315Z"
   },
   {
    "duration": 5,
    "start_time": "2022-02-20T09:51:10.235Z"
   },
   {
    "duration": 53,
    "start_time": "2022-02-20T09:51:26.020Z"
   },
   {
    "duration": 14,
    "start_time": "2022-02-20T09:51:26.075Z"
   },
   {
    "duration": 17,
    "start_time": "2022-02-20T09:51:26.092Z"
   },
   {
    "duration": 5,
    "start_time": "2022-02-20T09:51:26.111Z"
   },
   {
    "duration": 42,
    "start_time": "2022-02-20T09:51:26.118Z"
   },
   {
    "duration": 8,
    "start_time": "2022-02-20T09:51:26.162Z"
   },
   {
    "duration": 11,
    "start_time": "2022-02-20T09:51:26.172Z"
   },
   {
    "duration": 11,
    "start_time": "2022-02-20T09:51:26.185Z"
   },
   {
    "duration": 12,
    "start_time": "2022-02-20T09:51:26.198Z"
   },
   {
    "duration": 7,
    "start_time": "2022-02-20T09:51:26.212Z"
   },
   {
    "duration": 15,
    "start_time": "2022-02-20T09:51:26.259Z"
   },
   {
    "duration": 16,
    "start_time": "2022-02-20T09:51:26.276Z"
   },
   {
    "duration": 23,
    "start_time": "2022-02-20T09:51:26.294Z"
   },
   {
    "duration": 5,
    "start_time": "2022-02-20T09:51:26.319Z"
   },
   {
    "duration": 34,
    "start_time": "2022-02-20T09:51:26.326Z"
   },
   {
    "duration": 4,
    "start_time": "2022-02-20T09:51:26.363Z"
   },
   {
    "duration": 17,
    "start_time": "2022-02-20T09:51:26.369Z"
   },
   {
    "duration": 6,
    "start_time": "2022-02-20T09:51:26.388Z"
   },
   {
    "duration": 9,
    "start_time": "2022-02-20T09:51:26.395Z"
   },
   {
    "duration": 15,
    "start_time": "2022-02-20T09:51:26.406Z"
   },
   {
    "duration": 41,
    "start_time": "2022-02-20T09:51:26.423Z"
   },
   {
    "duration": 18,
    "start_time": "2022-02-20T09:51:26.466Z"
   },
   {
    "duration": 16,
    "start_time": "2022-02-20T09:51:26.487Z"
   },
   {
    "duration": 9,
    "start_time": "2022-02-20T09:51:26.505Z"
   },
   {
    "duration": 19,
    "start_time": "2022-02-20T09:51:26.516Z"
   },
   {
    "duration": 7,
    "start_time": "2022-02-20T09:51:26.560Z"
   },
   {
    "duration": 11,
    "start_time": "2022-02-20T09:51:26.568Z"
   },
   {
    "duration": 14,
    "start_time": "2022-02-20T09:51:26.581Z"
   },
   {
    "duration": 7,
    "start_time": "2022-02-20T09:51:26.597Z"
   },
   {
    "duration": 6,
    "start_time": "2022-02-20T09:51:26.606Z"
   },
   {
    "duration": 9,
    "start_time": "2022-02-20T09:51:26.614Z"
   },
   {
    "duration": 91,
    "start_time": "2022-02-20T09:51:26.624Z"
   },
   {
    "duration": 9,
    "start_time": "2022-02-20T09:51:26.717Z"
   },
   {
    "duration": 12,
    "start_time": "2022-02-20T09:51:26.728Z"
   },
   {
    "duration": 21,
    "start_time": "2022-02-20T09:51:26.759Z"
   },
   {
    "duration": 30,
    "start_time": "2022-02-20T09:51:26.782Z"
   },
   {
    "duration": 13,
    "start_time": "2022-02-20T09:51:26.814Z"
   },
   {
    "duration": 41,
    "start_time": "2022-02-20T09:51:26.828Z"
   },
   {
    "duration": 7,
    "start_time": "2022-02-20T09:51:32.563Z"
   },
   {
    "duration": 4,
    "start_time": "2022-02-20T10:02:31.734Z"
   },
   {
    "duration": 5,
    "start_time": "2022-02-20T10:02:41.971Z"
   },
   {
    "duration": 18,
    "start_time": "2022-02-20T10:05:55.536Z"
   },
   {
    "duration": 51,
    "start_time": "2022-02-20T10:15:02.874Z"
   },
   {
    "duration": 11,
    "start_time": "2022-02-20T10:15:02.927Z"
   },
   {
    "duration": 19,
    "start_time": "2022-02-20T10:15:02.941Z"
   },
   {
    "duration": 5,
    "start_time": "2022-02-20T10:15:02.961Z"
   },
   {
    "duration": 23,
    "start_time": "2022-02-20T10:15:02.968Z"
   },
   {
    "duration": 14,
    "start_time": "2022-02-20T10:15:02.992Z"
   },
   {
    "duration": 10,
    "start_time": "2022-02-20T10:15:03.008Z"
   },
   {
    "duration": 13,
    "start_time": "2022-02-20T10:15:03.020Z"
   },
   {
    "duration": 10,
    "start_time": "2022-02-20T10:15:03.060Z"
   },
   {
    "duration": 5,
    "start_time": "2022-02-20T10:15:03.073Z"
   },
   {
    "duration": 18,
    "start_time": "2022-02-20T10:15:03.079Z"
   },
   {
    "duration": 17,
    "start_time": "2022-02-20T10:15:03.099Z"
   },
   {
    "duration": 43,
    "start_time": "2022-02-20T10:15:03.119Z"
   },
   {
    "duration": 5,
    "start_time": "2022-02-20T10:15:03.164Z"
   },
   {
    "duration": 10,
    "start_time": "2022-02-20T10:15:03.171Z"
   },
   {
    "duration": 9,
    "start_time": "2022-02-20T10:15:03.183Z"
   },
   {
    "duration": 15,
    "start_time": "2022-02-20T10:15:03.194Z"
   },
   {
    "duration": 11,
    "start_time": "2022-02-20T10:15:03.211Z"
   },
   {
    "duration": 11,
    "start_time": "2022-02-20T10:15:03.223Z"
   },
   {
    "duration": 30,
    "start_time": "2022-02-20T10:15:03.235Z"
   },
   {
    "duration": 15,
    "start_time": "2022-02-20T10:15:03.266Z"
   },
   {
    "duration": 25,
    "start_time": "2022-02-20T10:15:03.283Z"
   },
   {
    "duration": 17,
    "start_time": "2022-02-20T10:15:03.309Z"
   },
   {
    "duration": 31,
    "start_time": "2022-02-20T10:15:03.328Z"
   },
   {
    "duration": 19,
    "start_time": "2022-02-20T10:15:03.361Z"
   },
   {
    "duration": 9,
    "start_time": "2022-02-20T10:15:03.382Z"
   },
   {
    "duration": 8,
    "start_time": "2022-02-20T10:15:03.395Z"
   },
   {
    "duration": 15,
    "start_time": "2022-02-20T10:15:03.404Z"
   },
   {
    "duration": 38,
    "start_time": "2022-02-20T10:15:03.421Z"
   },
   {
    "duration": 10,
    "start_time": "2022-02-20T10:15:03.461Z"
   },
   {
    "duration": 13,
    "start_time": "2022-02-20T10:15:03.473Z"
   },
   {
    "duration": 12,
    "start_time": "2022-02-20T10:15:03.488Z"
   },
   {
    "duration": 29,
    "start_time": "2022-02-20T10:15:03.502Z"
   },
   {
    "duration": 47,
    "start_time": "2022-02-20T10:15:03.533Z"
   },
   {
    "duration": 11,
    "start_time": "2022-02-20T10:15:03.582Z"
   },
   {
    "duration": 11,
    "start_time": "2022-02-20T10:15:03.595Z"
   },
   {
    "duration": 7,
    "start_time": "2022-02-20T10:15:03.608Z"
   },
   {
    "duration": 6,
    "start_time": "2022-02-20T10:15:03.616Z"
   },
   {
    "duration": 49,
    "start_time": "2022-02-20T10:15:03.623Z"
   },
   {
    "duration": 8,
    "start_time": "2022-02-20T10:15:32.874Z"
   },
   {
    "duration": 1026,
    "start_time": "2022-02-20T10:24:44.984Z"
   },
   {
    "duration": 866,
    "start_time": "2022-02-20T10:26:12.332Z"
   },
   {
    "duration": 22,
    "start_time": "2022-02-20T10:27:32.893Z"
   },
   {
    "duration": 23,
    "start_time": "2022-02-20T10:29:31.824Z"
   },
   {
    "duration": 14,
    "start_time": "2022-02-20T10:30:05.394Z"
   },
   {
    "duration": 16,
    "start_time": "2022-02-20T10:33:09.578Z"
   },
   {
    "duration": 60,
    "start_time": "2022-02-20T10:33:30.122Z"
   },
   {
    "duration": 14,
    "start_time": "2022-02-20T10:33:30.184Z"
   },
   {
    "duration": 22,
    "start_time": "2022-02-20T10:33:30.200Z"
   },
   {
    "duration": 5,
    "start_time": "2022-02-20T10:33:30.224Z"
   },
   {
    "duration": 42,
    "start_time": "2022-02-20T10:33:30.231Z"
   },
   {
    "duration": 9,
    "start_time": "2022-02-20T10:33:30.276Z"
   },
   {
    "duration": 19,
    "start_time": "2022-02-20T10:33:30.288Z"
   },
   {
    "duration": 10,
    "start_time": "2022-02-20T10:33:30.311Z"
   },
   {
    "duration": 41,
    "start_time": "2022-02-20T10:33:30.323Z"
   },
   {
    "duration": 8,
    "start_time": "2022-02-20T10:33:30.366Z"
   },
   {
    "duration": 19,
    "start_time": "2022-02-20T10:33:30.376Z"
   },
   {
    "duration": 14,
    "start_time": "2022-02-20T10:33:30.397Z"
   },
   {
    "duration": 57,
    "start_time": "2022-02-20T10:33:30.413Z"
   },
   {
    "duration": 6,
    "start_time": "2022-02-20T10:33:30.472Z"
   },
   {
    "duration": 9,
    "start_time": "2022-02-20T10:33:30.480Z"
   },
   {
    "duration": 9,
    "start_time": "2022-02-20T10:33:30.491Z"
   },
   {
    "duration": 17,
    "start_time": "2022-02-20T10:33:30.502Z"
   },
   {
    "duration": 8,
    "start_time": "2022-02-20T10:33:30.521Z"
   },
   {
    "duration": 33,
    "start_time": "2022-02-20T10:33:30.531Z"
   },
   {
    "duration": 16,
    "start_time": "2022-02-20T10:33:30.566Z"
   },
   {
    "duration": 14,
    "start_time": "2022-02-20T10:33:30.584Z"
   },
   {
    "duration": 23,
    "start_time": "2022-02-20T10:33:30.600Z"
   },
   {
    "duration": 37,
    "start_time": "2022-02-20T10:33:30.626Z"
   },
   {
    "duration": 7,
    "start_time": "2022-02-20T10:33:30.665Z"
   },
   {
    "duration": 26,
    "start_time": "2022-02-20T10:33:30.674Z"
   },
   {
    "duration": 15,
    "start_time": "2022-02-20T10:33:30.702Z"
   },
   {
    "duration": 11,
    "start_time": "2022-02-20T10:33:30.719Z"
   },
   {
    "duration": 28,
    "start_time": "2022-02-20T10:33:30.732Z"
   },
   {
    "duration": 9,
    "start_time": "2022-02-20T10:33:30.761Z"
   },
   {
    "duration": 13,
    "start_time": "2022-02-20T10:33:30.771Z"
   },
   {
    "duration": 12,
    "start_time": "2022-02-20T10:33:30.786Z"
   },
   {
    "duration": 16,
    "start_time": "2022-02-20T10:33:30.800Z"
   },
   {
    "duration": 45,
    "start_time": "2022-02-20T10:33:30.818Z"
   },
   {
    "duration": 32,
    "start_time": "2022-02-20T10:33:30.865Z"
   },
   {
    "duration": 12,
    "start_time": "2022-02-20T10:33:30.898Z"
   },
   {
    "duration": 19,
    "start_time": "2022-02-20T10:33:30.911Z"
   },
   {
    "duration": 31,
    "start_time": "2022-02-20T10:33:30.932Z"
   },
   {
    "duration": 39,
    "start_time": "2022-02-20T10:33:30.965Z"
   },
   {
    "duration": 33,
    "start_time": "2022-02-20T10:33:31.006Z"
   },
   {
    "duration": 14,
    "start_time": "2022-02-20T10:33:31.041Z"
   },
   {
    "duration": 26,
    "start_time": "2022-02-20T10:34:53.151Z"
   },
   {
    "duration": 52,
    "start_time": "2022-02-20T10:35:31.699Z"
   },
   {
    "duration": 13,
    "start_time": "2022-02-20T10:35:31.753Z"
   },
   {
    "duration": 20,
    "start_time": "2022-02-20T10:35:31.769Z"
   },
   {
    "duration": 5,
    "start_time": "2022-02-20T10:35:31.790Z"
   },
   {
    "duration": 16,
    "start_time": "2022-02-20T10:35:31.797Z"
   },
   {
    "duration": 8,
    "start_time": "2022-02-20T10:35:31.814Z"
   },
   {
    "duration": 43,
    "start_time": "2022-02-20T10:35:31.824Z"
   },
   {
    "duration": 36,
    "start_time": "2022-02-20T10:35:31.870Z"
   },
   {
    "duration": 23,
    "start_time": "2022-02-20T10:35:31.908Z"
   },
   {
    "duration": 14,
    "start_time": "2022-02-20T10:35:31.933Z"
   },
   {
    "duration": 32,
    "start_time": "2022-02-20T10:35:31.949Z"
   },
   {
    "duration": 21,
    "start_time": "2022-02-20T10:35:31.982Z"
   },
   {
    "duration": 34,
    "start_time": "2022-02-20T10:35:32.005Z"
   },
   {
    "duration": 17,
    "start_time": "2022-02-20T10:35:32.041Z"
   },
   {
    "duration": 26,
    "start_time": "2022-02-20T10:35:32.059Z"
   },
   {
    "duration": 19,
    "start_time": "2022-02-20T10:35:32.086Z"
   },
   {
    "duration": 28,
    "start_time": "2022-02-20T10:35:32.107Z"
   },
   {
    "duration": 18,
    "start_time": "2022-02-20T10:35:32.137Z"
   },
   {
    "duration": 19,
    "start_time": "2022-02-20T10:35:32.157Z"
   },
   {
    "duration": 29,
    "start_time": "2022-02-20T10:35:32.177Z"
   },
   {
    "duration": 34,
    "start_time": "2022-02-20T10:35:32.208Z"
   },
   {
    "duration": 49,
    "start_time": "2022-02-20T10:35:32.244Z"
   },
   {
    "duration": 22,
    "start_time": "2022-02-20T10:35:32.296Z"
   },
   {
    "duration": 9,
    "start_time": "2022-02-20T10:35:32.321Z"
   },
   {
    "duration": 43,
    "start_time": "2022-02-20T10:35:32.332Z"
   },
   {
    "duration": 13,
    "start_time": "2022-02-20T10:35:32.377Z"
   },
   {
    "duration": 29,
    "start_time": "2022-02-20T10:35:32.392Z"
   },
   {
    "duration": 17,
    "start_time": "2022-02-20T10:35:32.423Z"
   },
   {
    "duration": 17,
    "start_time": "2022-02-20T10:35:32.442Z"
   },
   {
    "duration": 29,
    "start_time": "2022-02-20T10:35:32.460Z"
   },
   {
    "duration": 14,
    "start_time": "2022-02-20T10:35:32.491Z"
   },
   {
    "duration": 33,
    "start_time": "2022-02-20T10:35:32.506Z"
   },
   {
    "duration": 25,
    "start_time": "2022-02-20T10:35:32.540Z"
   },
   {
    "duration": 30,
    "start_time": "2022-02-20T10:35:32.567Z"
   },
   {
    "duration": 11,
    "start_time": "2022-02-20T10:35:32.598Z"
   },
   {
    "duration": 12,
    "start_time": "2022-02-20T10:35:32.611Z"
   },
   {
    "duration": 11,
    "start_time": "2022-02-20T10:35:32.624Z"
   },
   {
    "duration": 5,
    "start_time": "2022-02-20T10:35:32.659Z"
   },
   {
    "duration": 19,
    "start_time": "2022-02-20T10:35:32.665Z"
   },
   {
    "duration": 8,
    "start_time": "2022-02-20T10:35:32.686Z"
   },
   {
    "duration": 25,
    "start_time": "2022-02-20T10:35:50.354Z"
   },
   {
    "duration": 7,
    "start_time": "2022-02-20T10:38:12.346Z"
   },
   {
    "duration": 8,
    "start_time": "2022-02-20T10:38:44.222Z"
   },
   {
    "duration": 7,
    "start_time": "2022-02-20T10:38:59.275Z"
   },
   {
    "duration": 188,
    "start_time": "2022-02-20T10:53:49.995Z"
   },
   {
    "duration": 181,
    "start_time": "2022-02-20T10:56:46.119Z"
   },
   {
    "duration": 282,
    "start_time": "2022-02-20T10:56:55.736Z"
   },
   {
    "duration": 30,
    "start_time": "2022-02-20T10:58:52.070Z"
   },
   {
    "duration": 32,
    "start_time": "2022-02-20T10:59:34.154Z"
   },
   {
    "duration": 15,
    "start_time": "2022-02-20T11:02:11.841Z"
   },
   {
    "duration": 14,
    "start_time": "2022-02-20T11:02:47.552Z"
   },
   {
    "duration": 14,
    "start_time": "2022-02-20T11:03:28.792Z"
   },
   {
    "duration": 19,
    "start_time": "2022-02-20T11:05:54.042Z"
   },
   {
    "duration": 14,
    "start_time": "2022-02-20T11:09:03.332Z"
   },
   {
    "duration": 23,
    "start_time": "2022-02-20T11:09:29.851Z"
   },
   {
    "duration": 14,
    "start_time": "2022-02-20T11:09:41.540Z"
   },
   {
    "duration": 14,
    "start_time": "2022-02-20T11:11:14.041Z"
   },
   {
    "duration": 13,
    "start_time": "2022-02-20T11:11:49.801Z"
   },
   {
    "duration": 14,
    "start_time": "2022-02-20T11:14:00.844Z"
   },
   {
    "duration": 14,
    "start_time": "2022-02-20T11:15:58.190Z"
   },
   {
    "duration": 15,
    "start_time": "2022-02-20T11:16:32.551Z"
   },
   {
    "duration": 14,
    "start_time": "2022-02-20T11:22:52.922Z"
   },
   {
    "duration": 20,
    "start_time": "2022-02-20T11:36:01.902Z"
   },
   {
    "duration": 18,
    "start_time": "2022-02-20T11:36:15.411Z"
   },
   {
    "duration": 19,
    "start_time": "2022-02-20T11:38:42.173Z"
   },
   {
    "duration": 9,
    "start_time": "2022-02-20T11:39:07.747Z"
   },
   {
    "duration": 14,
    "start_time": "2022-02-20T11:39:16.883Z"
   },
   {
    "duration": 652,
    "start_time": "2022-02-20T12:05:24.040Z"
   },
   {
    "duration": 19,
    "start_time": "2022-02-20T12:05:24.694Z"
   },
   {
    "duration": 21,
    "start_time": "2022-02-20T12:05:24.715Z"
   },
   {
    "duration": 6,
    "start_time": "2022-02-20T12:05:24.739Z"
   },
   {
    "duration": 17,
    "start_time": "2022-02-20T12:05:24.758Z"
   },
   {
    "duration": 11,
    "start_time": "2022-02-20T12:05:24.778Z"
   },
   {
    "duration": 11,
    "start_time": "2022-02-20T12:05:24.792Z"
   },
   {
    "duration": 17,
    "start_time": "2022-02-20T12:05:24.804Z"
   },
   {
    "duration": 45,
    "start_time": "2022-02-20T12:05:24.823Z"
   },
   {
    "duration": 5,
    "start_time": "2022-02-20T12:05:24.870Z"
   },
   {
    "duration": 35,
    "start_time": "2022-02-20T12:05:24.876Z"
   },
   {
    "duration": 16,
    "start_time": "2022-02-20T12:05:24.913Z"
   },
   {
    "duration": 28,
    "start_time": "2022-02-20T12:05:24.931Z"
   },
   {
    "duration": 6,
    "start_time": "2022-02-20T12:05:24.960Z"
   },
   {
    "duration": 10,
    "start_time": "2022-02-20T12:05:24.968Z"
   },
   {
    "duration": 12,
    "start_time": "2022-02-20T12:05:24.980Z"
   },
   {
    "duration": 2037,
    "start_time": "2022-02-20T12:05:24.993Z"
   },
   {
    "duration": 459,
    "start_time": "2022-02-20T12:05:27.032Z"
   },
   {
    "duration": 89,
    "start_time": "2022-02-20T12:05:27.493Z"
   },
   {
    "duration": 17,
    "start_time": "2022-02-20T12:05:27.585Z"
   },
   {
    "duration": 12,
    "start_time": "2022-02-20T12:05:27.603Z"
   },
   {
    "duration": 20,
    "start_time": "2022-02-20T12:05:27.617Z"
   },
   {
    "duration": 27,
    "start_time": "2022-02-20T12:05:27.639Z"
   },
   {
    "duration": 8,
    "start_time": "2022-02-20T12:05:27.667Z"
   },
   {
    "duration": 22,
    "start_time": "2022-02-20T12:05:27.676Z"
   },
   {
    "duration": 7,
    "start_time": "2022-02-20T12:05:27.700Z"
   },
   {
    "duration": 14,
    "start_time": "2022-02-20T12:05:27.710Z"
   },
   {
    "duration": 33,
    "start_time": "2022-02-20T12:05:27.727Z"
   },
   {
    "duration": 25,
    "start_time": "2022-02-20T12:05:27.762Z"
   },
   {
    "duration": 9,
    "start_time": "2022-02-20T12:05:27.789Z"
   },
   {
    "duration": 9,
    "start_time": "2022-02-20T12:05:27.800Z"
   },
   {
    "duration": 13,
    "start_time": "2022-02-20T12:05:27.811Z"
   },
   {
    "duration": 23,
    "start_time": "2022-02-20T12:05:27.826Z"
   },
   {
    "duration": 36,
    "start_time": "2022-02-20T12:05:27.859Z"
   },
   {
    "duration": 11,
    "start_time": "2022-02-20T12:05:27.896Z"
   },
   {
    "duration": 11,
    "start_time": "2022-02-20T12:05:27.909Z"
   },
   {
    "duration": 7,
    "start_time": "2022-02-20T12:05:27.921Z"
   },
   {
    "duration": 34,
    "start_time": "2022-02-20T12:05:27.930Z"
   },
   {
    "duration": 23,
    "start_time": "2022-02-20T12:05:27.965Z"
   },
   {
    "duration": 8,
    "start_time": "2022-02-20T12:05:27.990Z"
   },
   {
    "duration": 24,
    "start_time": "2022-02-20T12:05:28.000Z"
   },
   {
    "duration": 9,
    "start_time": "2022-02-20T12:05:28.026Z"
   },
   {
    "duration": 35,
    "start_time": "2022-02-20T12:05:28.037Z"
   },
   {
    "duration": 16,
    "start_time": "2022-02-20T12:05:28.074Z"
   },
   {
    "duration": 13,
    "start_time": "2022-02-20T12:05:28.092Z"
   },
   {
    "duration": 14,
    "start_time": "2022-02-20T12:05:28.106Z"
   },
   {
    "duration": 840,
    "start_time": "2022-03-01T20:33:30.322Z"
   },
   {
    "duration": 32,
    "start_time": "2022-03-01T20:33:31.165Z"
   },
   {
    "duration": 58,
    "start_time": "2022-03-01T20:33:31.201Z"
   },
   {
    "duration": 9,
    "start_time": "2022-03-01T20:33:31.263Z"
   },
   {
    "duration": 48,
    "start_time": "2022-03-01T20:33:31.275Z"
   },
   {
    "duration": 29,
    "start_time": "2022-03-01T20:33:31.327Z"
   },
   {
    "duration": 19,
    "start_time": "2022-03-01T20:33:31.359Z"
   },
   {
    "duration": 16,
    "start_time": "2022-03-01T20:33:31.383Z"
   },
   {
    "duration": 54,
    "start_time": "2022-03-01T20:33:31.403Z"
   },
   {
    "duration": 10,
    "start_time": "2022-03-01T20:33:31.460Z"
   },
   {
    "duration": 30,
    "start_time": "2022-03-01T20:33:31.473Z"
   },
   {
    "duration": 59,
    "start_time": "2022-03-01T20:33:31.506Z"
   },
   {
    "duration": 51,
    "start_time": "2022-03-01T20:33:31.568Z"
   },
   {
    "duration": 33,
    "start_time": "2022-03-01T20:33:31.622Z"
   },
   {
    "duration": 12,
    "start_time": "2022-03-01T20:33:31.658Z"
   },
   {
    "duration": 11,
    "start_time": "2022-03-01T20:33:31.673Z"
   },
   {
    "duration": 24,
    "start_time": "2022-03-01T20:33:31.686Z"
   },
   {
    "duration": 7,
    "start_time": "2022-03-01T20:33:31.713Z"
   },
   {
    "duration": 10,
    "start_time": "2022-03-01T20:33:31.751Z"
   },
   {
    "duration": 21,
    "start_time": "2022-03-01T20:33:31.763Z"
   },
   {
    "duration": 20,
    "start_time": "2022-03-01T20:33:31.787Z"
   },
   {
    "duration": 61,
    "start_time": "2022-03-01T20:33:31.809Z"
   },
   {
    "duration": 36,
    "start_time": "2022-03-01T20:33:31.879Z"
   },
   {
    "duration": 38,
    "start_time": "2022-03-01T20:33:31.919Z"
   },
   {
    "duration": 38,
    "start_time": "2022-03-01T20:33:31.960Z"
   },
   {
    "duration": 9,
    "start_time": "2022-03-01T20:33:32.001Z"
   },
   {
    "duration": 48,
    "start_time": "2022-03-01T20:33:32.013Z"
   },
   {
    "duration": 17,
    "start_time": "2022-03-01T20:33:32.064Z"
   },
   {
    "duration": 11,
    "start_time": "2022-03-01T20:33:32.084Z"
   },
   {
    "duration": 8,
    "start_time": "2022-03-01T20:33:32.098Z"
   },
   {
    "duration": 50,
    "start_time": "2022-03-01T20:33:32.108Z"
   },
   {
    "duration": 19,
    "start_time": "2022-03-01T20:33:32.160Z"
   },
   {
    "duration": 71,
    "start_time": "2022-03-01T20:33:32.182Z"
   },
   {
    "duration": 45,
    "start_time": "2022-03-01T20:33:32.256Z"
   },
   {
    "duration": 16,
    "start_time": "2022-03-01T20:33:32.304Z"
   },
   {
    "duration": 42,
    "start_time": "2022-03-01T20:33:32.322Z"
   },
   {
    "duration": 32,
    "start_time": "2022-03-01T20:33:32.366Z"
   },
   {
    "duration": 25,
    "start_time": "2022-03-01T20:33:32.400Z"
   },
   {
    "duration": 47,
    "start_time": "2022-03-01T20:33:32.427Z"
   },
   {
    "duration": 10,
    "start_time": "2022-03-01T20:33:32.477Z"
   },
   {
    "duration": 36,
    "start_time": "2022-03-01T20:33:32.489Z"
   },
   {
    "duration": 28,
    "start_time": "2022-03-01T20:33:32.528Z"
   },
   {
    "duration": 18,
    "start_time": "2022-03-01T20:33:32.559Z"
   },
   {
    "duration": 25,
    "start_time": "2022-03-01T20:33:32.579Z"
   },
   {
    "duration": 56,
    "start_time": "2022-03-01T20:33:32.606Z"
   },
   {
    "duration": 20,
    "start_time": "2022-03-01T20:33:32.665Z"
   },
   {
    "duration": 22,
    "start_time": "2022-03-01T20:38:27.729Z"
   },
   {
    "duration": 5,
    "start_time": "2022-03-01T20:40:35.247Z"
   },
   {
    "duration": 5,
    "start_time": "2022-03-01T20:40:46.326Z"
   },
   {
    "duration": 19,
    "start_time": "2022-03-01T20:41:38.550Z"
   },
   {
    "duration": 642,
    "start_time": "2022-03-01T21:11:22.655Z"
   },
   {
    "duration": 19,
    "start_time": "2022-03-01T21:11:23.299Z"
   },
   {
    "duration": 14,
    "start_time": "2022-03-01T21:11:23.320Z"
   },
   {
    "duration": 5,
    "start_time": "2022-03-01T21:11:23.336Z"
   },
   {
    "duration": 15,
    "start_time": "2022-03-01T21:11:23.359Z"
   },
   {
    "duration": 7,
    "start_time": "2022-03-01T21:11:23.376Z"
   },
   {
    "duration": 27,
    "start_time": "2022-03-01T21:11:23.384Z"
   },
   {
    "duration": 12,
    "start_time": "2022-03-01T21:11:23.413Z"
   },
   {
    "duration": 20,
    "start_time": "2022-03-01T21:11:23.427Z"
   },
   {
    "duration": 14,
    "start_time": "2022-03-01T21:11:23.449Z"
   },
   {
    "duration": 36,
    "start_time": "2022-03-01T21:11:23.465Z"
   },
   {
    "duration": 25,
    "start_time": "2022-03-01T21:11:23.503Z"
   },
   {
    "duration": 18,
    "start_time": "2022-03-01T21:11:23.530Z"
   },
   {
    "duration": 15,
    "start_time": "2022-03-01T21:11:23.550Z"
   },
   {
    "duration": 17,
    "start_time": "2022-03-01T21:11:23.566Z"
   },
   {
    "duration": 26,
    "start_time": "2022-03-01T21:11:23.584Z"
   },
   {
    "duration": 19,
    "start_time": "2022-03-01T21:11:23.613Z"
   },
   {
    "duration": 7,
    "start_time": "2022-03-01T21:11:23.634Z"
   },
   {
    "duration": 9,
    "start_time": "2022-03-01T21:11:23.643Z"
   },
   {
    "duration": 24,
    "start_time": "2022-03-01T21:11:23.654Z"
   },
   {
    "duration": 11,
    "start_time": "2022-03-01T21:11:23.680Z"
   },
   {
    "duration": 52,
    "start_time": "2022-03-01T21:14:01.226Z"
   },
   {
    "duration": 13,
    "start_time": "2022-03-01T21:14:01.280Z"
   },
   {
    "duration": 17,
    "start_time": "2022-03-01T21:14:01.295Z"
   },
   {
    "duration": 5,
    "start_time": "2022-03-01T21:14:01.314Z"
   },
   {
    "duration": 39,
    "start_time": "2022-03-01T21:14:01.321Z"
   },
   {
    "duration": 7,
    "start_time": "2022-03-01T21:14:01.362Z"
   },
   {
    "duration": 10,
    "start_time": "2022-03-01T21:14:01.370Z"
   },
   {
    "duration": 22,
    "start_time": "2022-03-01T21:14:01.381Z"
   },
   {
    "duration": 10,
    "start_time": "2022-03-01T21:14:01.405Z"
   },
   {
    "duration": 5,
    "start_time": "2022-03-01T21:14:01.417Z"
   },
   {
    "duration": 40,
    "start_time": "2022-03-01T21:14:01.423Z"
   },
   {
    "duration": 13,
    "start_time": "2022-03-01T21:14:01.464Z"
   },
   {
    "duration": 39,
    "start_time": "2022-03-01T21:14:01.478Z"
   },
   {
    "duration": 50,
    "start_time": "2022-03-01T21:16:35.516Z"
   },
   {
    "duration": 13,
    "start_time": "2022-03-01T21:16:35.568Z"
   },
   {
    "duration": 15,
    "start_time": "2022-03-01T21:16:35.583Z"
   },
   {
    "duration": 4,
    "start_time": "2022-03-01T21:16:35.600Z"
   },
   {
    "duration": 15,
    "start_time": "2022-03-01T21:16:35.605Z"
   },
   {
    "duration": 39,
    "start_time": "2022-03-01T21:16:35.622Z"
   },
   {
    "duration": 10,
    "start_time": "2022-03-01T21:16:35.663Z"
   },
   {
    "duration": 9,
    "start_time": "2022-03-01T21:16:35.674Z"
   },
   {
    "duration": 9,
    "start_time": "2022-03-01T21:16:35.686Z"
   },
   {
    "duration": 5,
    "start_time": "2022-03-01T21:16:35.697Z"
   },
   {
    "duration": 13,
    "start_time": "2022-03-01T21:16:35.704Z"
   },
   {
    "duration": 53,
    "start_time": "2022-03-01T21:16:35.718Z"
   },
   {
    "duration": 22,
    "start_time": "2022-03-01T21:16:35.773Z"
   },
   {
    "duration": 4,
    "start_time": "2022-03-01T21:16:35.797Z"
   },
   {
    "duration": 5,
    "start_time": "2022-03-01T21:16:35.803Z"
   },
   {
    "duration": 9,
    "start_time": "2022-03-01T21:16:35.810Z"
   },
   {
    "duration": 47,
    "start_time": "2022-03-01T21:16:35.821Z"
   },
   {
    "duration": 6,
    "start_time": "2022-03-01T21:16:35.870Z"
   },
   {
    "duration": 9,
    "start_time": "2022-03-01T21:16:35.877Z"
   },
   {
    "duration": 9,
    "start_time": "2022-03-01T21:16:35.888Z"
   },
   {
    "duration": 9,
    "start_time": "2022-03-01T21:16:35.898Z"
   },
   {
    "duration": 57,
    "start_time": "2022-03-01T21:18:25.455Z"
   },
   {
    "duration": 13,
    "start_time": "2022-03-01T21:18:25.514Z"
   },
   {
    "duration": 36,
    "start_time": "2022-03-01T21:18:25.529Z"
   },
   {
    "duration": 5,
    "start_time": "2022-03-01T21:18:25.567Z"
   },
   {
    "duration": 17,
    "start_time": "2022-03-01T21:18:25.573Z"
   },
   {
    "duration": 6,
    "start_time": "2022-03-01T21:18:25.591Z"
   },
   {
    "duration": 10,
    "start_time": "2022-03-01T21:18:25.599Z"
   },
   {
    "duration": 8,
    "start_time": "2022-03-01T21:18:25.610Z"
   },
   {
    "duration": 42,
    "start_time": "2022-03-01T21:18:25.621Z"
   },
   {
    "duration": 6,
    "start_time": "2022-03-01T21:18:25.665Z"
   },
   {
    "duration": 14,
    "start_time": "2022-03-01T21:18:25.672Z"
   },
   {
    "duration": 16,
    "start_time": "2022-03-01T21:18:25.688Z"
   },
   {
    "duration": 54,
    "start_time": "2022-03-01T21:18:25.705Z"
   },
   {
    "duration": 5,
    "start_time": "2022-03-01T21:18:25.761Z"
   },
   {
    "duration": 7,
    "start_time": "2022-03-01T21:18:25.768Z"
   },
   {
    "duration": 4,
    "start_time": "2022-03-01T21:18:25.777Z"
   },
   {
    "duration": 13,
    "start_time": "2022-03-01T21:18:25.783Z"
   },
   {
    "duration": 5,
    "start_time": "2022-03-01T21:18:25.798Z"
   },
   {
    "duration": 8,
    "start_time": "2022-03-01T21:18:25.805Z"
   },
   {
    "duration": 58,
    "start_time": "2022-03-01T21:18:25.814Z"
   },
   {
    "duration": 52,
    "start_time": "2022-03-01T21:19:19.633Z"
   },
   {
    "duration": 13,
    "start_time": "2022-03-01T21:19:19.688Z"
   },
   {
    "duration": 15,
    "start_time": "2022-03-01T21:19:19.703Z"
   },
   {
    "duration": 5,
    "start_time": "2022-03-01T21:19:19.720Z"
   },
   {
    "duration": 41,
    "start_time": "2022-03-01T21:19:19.727Z"
   },
   {
    "duration": 7,
    "start_time": "2022-03-01T21:19:19.769Z"
   },
   {
    "duration": 10,
    "start_time": "2022-03-01T21:19:19.777Z"
   },
   {
    "duration": 8,
    "start_time": "2022-03-01T21:19:19.790Z"
   },
   {
    "duration": 9,
    "start_time": "2022-03-01T21:19:19.800Z"
   },
   {
    "duration": 49,
    "start_time": "2022-03-01T21:19:19.811Z"
   },
   {
    "duration": 13,
    "start_time": "2022-03-01T21:19:19.861Z"
   },
   {
    "duration": 13,
    "start_time": "2022-03-01T21:19:19.876Z"
   },
   {
    "duration": 23,
    "start_time": "2022-03-01T21:19:19.891Z"
   },
   {
    "duration": 5,
    "start_time": "2022-03-01T21:19:19.916Z"
   },
   {
    "duration": 37,
    "start_time": "2022-03-01T21:19:19.922Z"
   },
   {
    "duration": 4,
    "start_time": "2022-03-01T21:19:19.961Z"
   },
   {
    "duration": 15,
    "start_time": "2022-03-01T21:19:19.967Z"
   },
   {
    "duration": 5,
    "start_time": "2022-03-01T21:19:19.984Z"
   },
   {
    "duration": 8,
    "start_time": "2022-03-01T21:19:19.990Z"
   },
   {
    "duration": 29,
    "start_time": "2022-03-01T21:19:19.999Z"
   },
   {
    "duration": 30,
    "start_time": "2022-03-01T21:19:20.030Z"
   },
   {
    "duration": 20,
    "start_time": "2022-03-01T21:19:20.062Z"
   },
   {
    "duration": 6,
    "start_time": "2022-03-01T21:19:20.085Z"
   },
   {
    "duration": 7,
    "start_time": "2022-03-01T21:19:20.093Z"
   },
   {
    "duration": 16,
    "start_time": "2022-03-01T21:19:20.102Z"
   },
   {
    "duration": 10,
    "start_time": "2022-03-01T21:19:20.119Z"
   },
   {
    "duration": 6,
    "start_time": "2022-03-01T21:19:20.160Z"
   },
   {
    "duration": 13,
    "start_time": "2022-03-01T21:19:20.167Z"
   },
   {
    "duration": 12,
    "start_time": "2022-03-01T21:19:20.182Z"
   },
   {
    "duration": 21,
    "start_time": "2022-03-01T21:19:45.486Z"
   },
   {
    "duration": 276,
    "start_time": "2022-03-01T21:35:03.396Z"
   },
   {
    "duration": 199,
    "start_time": "2022-03-01T21:35:10.785Z"
   },
   {
    "duration": 67,
    "start_time": "2022-03-01T21:35:40.864Z"
   },
   {
    "duration": 12,
    "start_time": "2022-03-01T21:35:40.933Z"
   },
   {
    "duration": 21,
    "start_time": "2022-03-01T21:35:40.947Z"
   },
   {
    "duration": 4,
    "start_time": "2022-03-01T21:35:40.970Z"
   },
   {
    "duration": 18,
    "start_time": "2022-03-01T21:35:40.976Z"
   },
   {
    "duration": 8,
    "start_time": "2022-03-01T21:35:40.996Z"
   },
   {
    "duration": 10,
    "start_time": "2022-03-01T21:35:41.005Z"
   },
   {
    "duration": 48,
    "start_time": "2022-03-01T21:35:41.018Z"
   },
   {
    "duration": 9,
    "start_time": "2022-03-01T21:35:41.068Z"
   },
   {
    "duration": 5,
    "start_time": "2022-03-01T21:35:41.079Z"
   },
   {
    "duration": 14,
    "start_time": "2022-03-01T21:35:41.085Z"
   },
   {
    "duration": 15,
    "start_time": "2022-03-01T21:35:41.100Z"
   },
   {
    "duration": 56,
    "start_time": "2022-03-01T21:35:41.116Z"
   },
   {
    "duration": 5,
    "start_time": "2022-03-01T21:35:41.174Z"
   },
   {
    "duration": 8,
    "start_time": "2022-03-01T21:35:41.180Z"
   },
   {
    "duration": 5,
    "start_time": "2022-03-01T21:35:41.190Z"
   },
   {
    "duration": 13,
    "start_time": "2022-03-01T21:35:41.196Z"
   },
   {
    "duration": 6,
    "start_time": "2022-03-01T21:35:41.211Z"
   },
   {
    "duration": 42,
    "start_time": "2022-03-01T21:35:41.218Z"
   },
   {
    "duration": 16,
    "start_time": "2022-03-01T21:35:41.262Z"
   },
   {
    "duration": 8,
    "start_time": "2022-03-01T21:35:41.280Z"
   },
   {
    "duration": 18,
    "start_time": "2022-03-01T21:35:41.289Z"
   },
   {
    "duration": 5,
    "start_time": "2022-03-01T21:35:41.311Z"
   },
   {
    "duration": 7,
    "start_time": "2022-03-01T21:35:41.319Z"
   },
   {
    "duration": 12,
    "start_time": "2022-03-01T21:35:41.360Z"
   },
   {
    "duration": 7,
    "start_time": "2022-03-01T21:35:41.374Z"
   },
   {
    "duration": 5,
    "start_time": "2022-03-01T21:35:41.383Z"
   },
   {
    "duration": 10,
    "start_time": "2022-03-01T21:35:41.390Z"
   },
   {
    "duration": 11,
    "start_time": "2022-03-01T21:35:41.402Z"
   },
   {
    "duration": 57,
    "start_time": "2022-03-01T21:35:41.415Z"
   },
   {
    "duration": 29,
    "start_time": "2022-03-01T21:35:41.474Z"
   },
   {
    "duration": 10,
    "start_time": "2022-03-01T21:35:41.505Z"
   },
   {
    "duration": 11,
    "start_time": "2022-03-01T21:35:41.517Z"
   },
   {
    "duration": 34,
    "start_time": "2022-03-01T21:35:41.529Z"
   },
   {
    "duration": 6,
    "start_time": "2022-03-01T21:35:41.565Z"
   },
   {
    "duration": 17,
    "start_time": "2022-03-01T21:35:41.573Z"
   },
   {
    "duration": 8,
    "start_time": "2022-03-01T21:35:41.591Z"
   },
   {
    "duration": 19,
    "start_time": "2022-03-01T21:35:41.600Z"
   },
   {
    "duration": 42,
    "start_time": "2022-03-01T21:35:41.621Z"
   },
   {
    "duration": 12,
    "start_time": "2022-03-01T21:35:41.665Z"
   },
   {
    "duration": 13,
    "start_time": "2022-03-01T21:35:41.679Z"
   },
   {
    "duration": 185,
    "start_time": "2022-03-01T21:35:41.694Z"
   },
   {
    "duration": 21,
    "start_time": "2022-03-01T21:35:52.135Z"
   },
   {
    "duration": 36,
    "start_time": "2022-03-01T21:39:21.296Z"
   },
   {
    "duration": 52,
    "start_time": "2022-03-01T21:40:11.339Z"
   },
   {
    "duration": 13,
    "start_time": "2022-03-01T21:40:11.393Z"
   },
   {
    "duration": 15,
    "start_time": "2022-03-01T21:40:11.408Z"
   },
   {
    "duration": 5,
    "start_time": "2022-03-01T21:40:11.424Z"
   },
   {
    "duration": 41,
    "start_time": "2022-03-01T21:40:11.431Z"
   },
   {
    "duration": 6,
    "start_time": "2022-03-01T21:40:11.474Z"
   },
   {
    "duration": 10,
    "start_time": "2022-03-01T21:40:11.481Z"
   },
   {
    "duration": 8,
    "start_time": "2022-03-01T21:40:11.494Z"
   },
   {
    "duration": 9,
    "start_time": "2022-03-01T21:40:11.504Z"
   },
   {
    "duration": 49,
    "start_time": "2022-03-01T21:40:11.515Z"
   },
   {
    "duration": 13,
    "start_time": "2022-03-01T21:40:11.566Z"
   },
   {
    "duration": 14,
    "start_time": "2022-03-01T21:40:11.581Z"
   },
   {
    "duration": 63,
    "start_time": "2022-03-01T21:40:11.597Z"
   },
   {
    "duration": 5,
    "start_time": "2022-03-01T21:40:11.662Z"
   },
   {
    "duration": 7,
    "start_time": "2022-03-01T21:40:11.669Z"
   },
   {
    "duration": 5,
    "start_time": "2022-03-01T21:40:11.677Z"
   },
   {
    "duration": 14,
    "start_time": "2022-03-01T21:40:11.684Z"
   },
   {
    "duration": 5,
    "start_time": "2022-03-01T21:40:11.700Z"
   },
   {
    "duration": 10,
    "start_time": "2022-03-01T21:40:11.707Z"
   },
   {
    "duration": 50,
    "start_time": "2022-03-01T21:40:11.718Z"
   },
   {
    "duration": 7,
    "start_time": "2022-03-01T21:40:11.770Z"
   },
   {
    "duration": 20,
    "start_time": "2022-03-01T21:40:11.778Z"
   },
   {
    "duration": 11,
    "start_time": "2022-03-01T21:40:11.800Z"
   },
   {
    "duration": 20,
    "start_time": "2022-03-01T21:40:11.812Z"
   },
   {
    "duration": 26,
    "start_time": "2022-03-01T21:40:11.834Z"
   },
   {
    "duration": 26,
    "start_time": "2022-03-01T21:40:11.862Z"
   },
   {
    "duration": 17,
    "start_time": "2022-03-01T21:40:11.890Z"
   },
   {
    "duration": 23,
    "start_time": "2022-03-01T21:40:11.909Z"
   },
   {
    "duration": 18,
    "start_time": "2022-03-01T21:40:11.934Z"
   },
   {
    "duration": 24,
    "start_time": "2022-03-01T21:40:11.954Z"
   },
   {
    "duration": 35,
    "start_time": "2022-03-01T21:40:11.980Z"
   },
   {
    "duration": 10,
    "start_time": "2022-03-01T21:40:12.017Z"
   },
   {
    "duration": 13,
    "start_time": "2022-03-01T21:40:12.029Z"
   },
   {
    "duration": 23,
    "start_time": "2022-03-01T21:40:12.043Z"
   },
   {
    "duration": 4,
    "start_time": "2022-03-01T21:40:12.068Z"
   },
   {
    "duration": 30,
    "start_time": "2022-03-01T21:40:12.074Z"
   },
   {
    "duration": 11,
    "start_time": "2022-03-01T21:40:12.106Z"
   },
   {
    "duration": 24,
    "start_time": "2022-03-01T21:40:12.119Z"
   },
   {
    "duration": 21,
    "start_time": "2022-03-01T21:40:12.144Z"
   },
   {
    "duration": 17,
    "start_time": "2022-03-01T21:40:12.167Z"
   },
   {
    "duration": 24,
    "start_time": "2022-03-01T21:41:22.383Z"
   },
   {
    "duration": 58,
    "start_time": "2022-03-01T21:41:44.413Z"
   },
   {
    "duration": 13,
    "start_time": "2022-03-01T21:41:44.472Z"
   },
   {
    "duration": 17,
    "start_time": "2022-03-01T21:41:44.487Z"
   },
   {
    "duration": 4,
    "start_time": "2022-03-01T21:41:44.506Z"
   },
   {
    "duration": 14,
    "start_time": "2022-03-01T21:41:44.512Z"
   },
   {
    "duration": 37,
    "start_time": "2022-03-01T21:41:44.528Z"
   },
   {
    "duration": 9,
    "start_time": "2022-03-01T21:41:44.567Z"
   },
   {
    "duration": 8,
    "start_time": "2022-03-01T21:41:44.578Z"
   },
   {
    "duration": 9,
    "start_time": "2022-03-01T21:41:44.588Z"
   },
   {
    "duration": 5,
    "start_time": "2022-03-01T21:41:44.599Z"
   },
   {
    "duration": 55,
    "start_time": "2022-03-01T21:41:44.605Z"
   },
   {
    "duration": 14,
    "start_time": "2022-03-01T21:41:44.662Z"
   },
   {
    "duration": 26,
    "start_time": "2022-03-01T21:41:44.677Z"
   },
   {
    "duration": 5,
    "start_time": "2022-03-01T21:41:44.705Z"
   },
   {
    "duration": 6,
    "start_time": "2022-03-01T21:41:44.711Z"
   },
   {
    "duration": 6,
    "start_time": "2022-03-01T21:41:44.718Z"
   },
   {
    "duration": 45,
    "start_time": "2022-03-01T21:41:44.726Z"
   },
   {
    "duration": 6,
    "start_time": "2022-03-01T21:41:44.772Z"
   },
   {
    "duration": 6,
    "start_time": "2022-03-01T21:41:44.780Z"
   },
   {
    "duration": 17,
    "start_time": "2022-03-01T21:41:44.788Z"
   },
   {
    "duration": 7,
    "start_time": "2022-03-01T21:41:44.807Z"
   },
   {
    "duration": 54,
    "start_time": "2022-03-01T21:41:44.816Z"
   },
   {
    "duration": 7,
    "start_time": "2022-03-01T21:41:44.872Z"
   },
   {
    "duration": 9,
    "start_time": "2022-03-01T21:41:44.880Z"
   },
   {
    "duration": 14,
    "start_time": "2022-03-01T21:41:44.891Z"
   },
   {
    "duration": 9,
    "start_time": "2022-03-01T21:41:44.907Z"
   },
   {
    "duration": 46,
    "start_time": "2022-03-01T21:41:44.920Z"
   },
   {
    "duration": 12,
    "start_time": "2022-03-01T21:41:44.968Z"
   },
   {
    "duration": 13,
    "start_time": "2022-03-01T21:41:44.982Z"
   },
   {
    "duration": 23,
    "start_time": "2022-03-01T21:41:44.997Z"
   },
   {
    "duration": 35,
    "start_time": "2022-03-01T21:41:45.060Z"
   },
   {
    "duration": 12,
    "start_time": "2022-03-01T21:41:45.098Z"
   },
   {
    "duration": 14,
    "start_time": "2022-03-01T21:41:45.112Z"
   },
   {
    "duration": 7,
    "start_time": "2022-03-01T21:41:45.160Z"
   },
   {
    "duration": 13,
    "start_time": "2022-03-01T21:41:45.168Z"
   },
   {
    "duration": 19,
    "start_time": "2022-03-01T21:41:45.183Z"
   },
   {
    "duration": 8,
    "start_time": "2022-03-01T21:41:45.204Z"
   },
   {
    "duration": 51,
    "start_time": "2022-03-01T21:41:45.214Z"
   },
   {
    "duration": 9,
    "start_time": "2022-03-01T21:41:45.267Z"
   },
   {
    "duration": 14,
    "start_time": "2022-03-01T21:41:45.278Z"
   },
   {
    "duration": 13,
    "start_time": "2022-03-01T21:43:57.156Z"
   },
   {
    "duration": 51,
    "start_time": "2022-03-01T21:45:41.884Z"
   },
   {
    "duration": 12,
    "start_time": "2022-03-01T21:45:41.937Z"
   },
   {
    "duration": 14,
    "start_time": "2022-03-01T21:45:41.951Z"
   },
   {
    "duration": 4,
    "start_time": "2022-03-01T21:45:41.966Z"
   },
   {
    "duration": 15,
    "start_time": "2022-03-01T21:45:41.972Z"
   },
   {
    "duration": 7,
    "start_time": "2022-03-01T21:45:41.988Z"
   },
   {
    "duration": 10,
    "start_time": "2022-03-01T21:45:41.996Z"
   },
   {
    "duration": 9,
    "start_time": "2022-03-01T21:45:42.008Z"
   },
   {
    "duration": 47,
    "start_time": "2022-03-01T21:45:42.019Z"
   },
   {
    "duration": 5,
    "start_time": "2022-03-01T21:45:42.068Z"
   },
   {
    "duration": 13,
    "start_time": "2022-03-01T21:45:42.075Z"
   },
   {
    "duration": 12,
    "start_time": "2022-03-01T21:45:42.090Z"
   },
   {
    "duration": 65,
    "start_time": "2022-03-01T21:45:42.103Z"
   },
   {
    "duration": 5,
    "start_time": "2022-03-01T21:45:42.170Z"
   },
   {
    "duration": 13,
    "start_time": "2022-03-01T21:45:42.176Z"
   },
   {
    "duration": 7,
    "start_time": "2022-03-01T21:45:42.190Z"
   },
   {
    "duration": 12,
    "start_time": "2022-03-01T21:45:42.199Z"
   },
   {
    "duration": 7,
    "start_time": "2022-03-01T21:45:42.212Z"
   },
   {
    "duration": 6,
    "start_time": "2022-03-01T21:45:42.221Z"
   },
   {
    "duration": 42,
    "start_time": "2022-03-01T21:45:42.229Z"
   },
   {
    "duration": 7,
    "start_time": "2022-03-01T21:45:42.273Z"
   },
   {
    "duration": 18,
    "start_time": "2022-03-01T21:45:42.282Z"
   },
   {
    "duration": 5,
    "start_time": "2022-03-01T21:45:42.303Z"
   },
   {
    "duration": 7,
    "start_time": "2022-03-01T21:45:42.310Z"
   },
   {
    "duration": 44,
    "start_time": "2022-03-01T21:45:42.318Z"
   },
   {
    "duration": 8,
    "start_time": "2022-03-01T21:45:42.363Z"
   },
   {
    "duration": 5,
    "start_time": "2022-03-01T21:45:42.373Z"
   },
   {
    "duration": 12,
    "start_time": "2022-03-01T21:45:42.379Z"
   },
   {
    "duration": 13,
    "start_time": "2022-03-01T21:45:42.393Z"
   },
   {
    "duration": 53,
    "start_time": "2022-03-01T21:45:42.407Z"
   },
   {
    "duration": 34,
    "start_time": "2022-03-01T21:45:42.462Z"
   },
   {
    "duration": 11,
    "start_time": "2022-03-01T21:45:42.498Z"
   },
   {
    "duration": 11,
    "start_time": "2022-03-01T21:45:42.511Z"
   },
   {
    "duration": 40,
    "start_time": "2022-03-01T21:45:42.524Z"
   },
   {
    "duration": 6,
    "start_time": "2022-03-01T21:45:42.566Z"
   },
   {
    "duration": 17,
    "start_time": "2022-03-01T21:45:42.574Z"
   },
   {
    "duration": 8,
    "start_time": "2022-03-01T21:45:42.593Z"
   },
   {
    "duration": 20,
    "start_time": "2022-03-01T21:45:42.602Z"
   },
   {
    "duration": 40,
    "start_time": "2022-03-01T21:45:42.624Z"
   },
   {
    "duration": 14,
    "start_time": "2022-03-01T21:45:42.665Z"
   },
   {
    "duration": 13,
    "start_time": "2022-03-01T21:45:42.680Z"
   },
   {
    "duration": 18,
    "start_time": "2022-03-01T21:45:42.695Z"
   },
   {
    "duration": 52,
    "start_time": "2022-03-01T21:45:42.715Z"
   },
   {
    "duration": 16,
    "start_time": "2022-03-01T21:45:42.768Z"
   },
   {
    "duration": 26,
    "start_time": "2022-03-01T21:46:37.536Z"
   },
   {
    "duration": 21,
    "start_time": "2022-03-01T21:48:09.104Z"
   },
   {
    "duration": 17,
    "start_time": "2022-03-01T21:48:31.376Z"
   },
   {
    "duration": 660,
    "start_time": "2022-03-01T22:06:47.835Z"
   },
   {
    "duration": 19,
    "start_time": "2022-03-01T22:06:48.497Z"
   },
   {
    "duration": 14,
    "start_time": "2022-03-01T22:06:48.518Z"
   },
   {
    "duration": 5,
    "start_time": "2022-03-01T22:06:48.534Z"
   },
   {
    "duration": 31,
    "start_time": "2022-03-01T22:06:48.540Z"
   },
   {
    "duration": 6,
    "start_time": "2022-03-01T22:06:48.573Z"
   },
   {
    "duration": 9,
    "start_time": "2022-03-01T22:06:48.581Z"
   },
   {
    "duration": 8,
    "start_time": "2022-03-01T22:06:48.591Z"
   },
   {
    "duration": 8,
    "start_time": "2022-03-01T22:06:48.602Z"
   },
   {
    "duration": 5,
    "start_time": "2022-03-01T22:06:48.612Z"
   },
   {
    "duration": 52,
    "start_time": "2022-03-01T22:06:48.619Z"
   },
   {
    "duration": 14,
    "start_time": "2022-03-01T22:06:48.672Z"
   },
   {
    "duration": 25,
    "start_time": "2022-03-01T22:06:48.687Z"
   },
   {
    "duration": 5,
    "start_time": "2022-03-01T22:06:48.714Z"
   },
   {
    "duration": 8,
    "start_time": "2022-03-01T22:06:48.720Z"
   },
   {
    "duration": 33,
    "start_time": "2022-03-01T22:06:48.730Z"
   },
   {
    "duration": 13,
    "start_time": "2022-03-01T22:06:48.765Z"
   },
   {
    "duration": 5,
    "start_time": "2022-03-01T22:06:48.780Z"
   },
   {
    "duration": 6,
    "start_time": "2022-03-01T22:06:48.787Z"
   },
   {
    "duration": 17,
    "start_time": "2022-03-01T22:06:48.795Z"
   },
   {
    "duration": 7,
    "start_time": "2022-03-01T22:06:48.813Z"
   },
   {
    "duration": 19,
    "start_time": "2022-03-01T22:06:48.860Z"
   },
   {
    "duration": 5,
    "start_time": "2022-03-01T22:06:48.881Z"
   },
   {
    "duration": 7,
    "start_time": "2022-03-01T22:06:48.887Z"
   },
   {
    "duration": 11,
    "start_time": "2022-03-01T22:06:48.895Z"
   },
   {
    "duration": 7,
    "start_time": "2022-03-01T22:06:48.908Z"
   },
   {
    "duration": 41,
    "start_time": "2022-03-01T22:06:48.918Z"
   },
   {
    "duration": 11,
    "start_time": "2022-03-01T22:06:48.961Z"
   },
   {
    "duration": 11,
    "start_time": "2022-03-01T22:06:48.973Z"
   },
   {
    "duration": 19,
    "start_time": "2022-03-01T22:06:48.986Z"
   },
   {
    "duration": 55,
    "start_time": "2022-03-01T22:06:49.007Z"
   },
   {
    "duration": 11,
    "start_time": "2022-03-01T22:06:49.064Z"
   },
   {
    "duration": 11,
    "start_time": "2022-03-01T22:06:49.076Z"
   },
   {
    "duration": 6,
    "start_time": "2022-03-01T22:06:49.088Z"
   },
   {
    "duration": 4,
    "start_time": "2022-03-01T22:06:49.096Z"
   },
   {
    "duration": 17,
    "start_time": "2022-03-01T22:06:49.102Z"
   },
   {
    "duration": 42,
    "start_time": "2022-03-01T22:06:49.121Z"
   },
   {
    "duration": 20,
    "start_time": "2022-03-01T22:06:49.164Z"
   },
   {
    "duration": 8,
    "start_time": "2022-03-01T22:06:49.186Z"
   },
   {
    "duration": 13,
    "start_time": "2022-03-01T22:06:49.195Z"
   },
   {
    "duration": 12,
    "start_time": "2022-03-01T22:06:49.209Z"
   },
   {
    "duration": 52,
    "start_time": "2022-03-01T22:06:49.222Z"
   },
   {
    "duration": 15,
    "start_time": "2022-03-01T22:06:49.276Z"
   },
   {
    "duration": 16,
    "start_time": "2022-03-01T22:06:49.292Z"
   },
   {
    "duration": 635,
    "start_time": "2022-03-02T17:50:39.067Z"
   },
   {
    "duration": 16,
    "start_time": "2022-03-02T17:50:39.704Z"
   },
   {
    "duration": 15,
    "start_time": "2022-03-02T17:50:39.722Z"
   },
   {
    "duration": 8,
    "start_time": "2022-03-02T17:50:39.738Z"
   },
   {
    "duration": 20,
    "start_time": "2022-03-02T17:50:39.747Z"
   },
   {
    "duration": 6,
    "start_time": "2022-03-02T17:50:39.768Z"
   },
   {
    "duration": 26,
    "start_time": "2022-03-02T17:50:39.775Z"
   },
   {
    "duration": 9,
    "start_time": "2022-03-02T17:50:39.803Z"
   },
   {
    "duration": 13,
    "start_time": "2022-03-02T17:50:39.813Z"
   },
   {
    "duration": 5,
    "start_time": "2022-03-02T17:50:39.827Z"
   },
   {
    "duration": 26,
    "start_time": "2022-03-02T17:50:39.833Z"
   },
   {
    "duration": 20,
    "start_time": "2022-03-02T17:50:39.861Z"
   },
   {
    "duration": 30,
    "start_time": "2022-03-02T17:50:39.883Z"
   },
   {
    "duration": 7,
    "start_time": "2022-03-02T17:50:41.023Z"
   },
   {
    "duration": 18,
    "start_time": "2022-03-02T17:50:44.225Z"
   },
   {
    "duration": 7,
    "start_time": "2022-03-02T17:51:20.895Z"
   },
   {
    "duration": 7020,
    "start_time": "2022-03-02T17:51:29.763Z"
   },
   {
    "duration": 8,
    "start_time": "2022-03-02T17:51:39.334Z"
   },
   {
    "duration": 21,
    "start_time": "2022-03-02T17:51:43.794Z"
   },
   {
    "duration": 10,
    "start_time": "2022-03-02T17:52:44.018Z"
   },
   {
    "duration": 52,
    "start_time": "2022-03-02T17:52:49.735Z"
   },
   {
    "duration": 11,
    "start_time": "2022-03-02T17:52:49.789Z"
   },
   {
    "duration": 14,
    "start_time": "2022-03-02T17:52:49.801Z"
   },
   {
    "duration": 4,
    "start_time": "2022-03-02T17:52:49.816Z"
   },
   {
    "duration": 12,
    "start_time": "2022-03-02T17:52:49.822Z"
   },
   {
    "duration": 6,
    "start_time": "2022-03-02T17:52:49.836Z"
   },
   {
    "duration": 8,
    "start_time": "2022-03-02T17:52:49.843Z"
   },
   {
    "duration": 7,
    "start_time": "2022-03-02T17:52:49.853Z"
   },
   {
    "duration": 45,
    "start_time": "2022-03-02T17:52:49.862Z"
   },
   {
    "duration": 5,
    "start_time": "2022-03-02T17:52:49.909Z"
   },
   {
    "duration": 11,
    "start_time": "2022-03-02T17:52:49.916Z"
   },
   {
    "duration": 11,
    "start_time": "2022-03-02T17:52:49.929Z"
   },
   {
    "duration": 23,
    "start_time": "2022-03-02T17:52:49.941Z"
   },
   {
    "duration": 42,
    "start_time": "2022-03-02T17:52:49.965Z"
   },
   {
    "duration": 6,
    "start_time": "2022-03-02T17:52:50.008Z"
   },
   {
    "duration": 20,
    "start_time": "2022-03-02T17:52:50.015Z"
   },
   {
    "duration": 5,
    "start_time": "2022-03-02T17:52:50.037Z"
   },
   {
    "duration": 8,
    "start_time": "2022-03-02T17:52:50.044Z"
   },
   {
    "duration": 11,
    "start_time": "2022-03-02T17:52:51.546Z"
   },
   {
    "duration": 7,
    "start_time": "2022-03-02T17:54:10.231Z"
   },
   {
    "duration": 17,
    "start_time": "2022-03-02T17:55:28.892Z"
   }
  ],
  "kernelspec": {
   "display_name": "Python 3 (ipykernel)",
   "language": "python",
   "name": "python3"
  },
  "language_info": {
   "codemirror_mode": {
    "name": "ipython",
    "version": 3
   },
   "file_extension": ".py",
   "mimetype": "text/x-python",
   "name": "python",
   "nbconvert_exporter": "python",
   "pygments_lexer": "ipython3",
   "version": "3.9.13"
  },
  "toc": {
   "base_numbering": 1,
   "nav_menu": {
    "height": "355px",
    "width": "768px"
   },
   "number_sections": true,
   "sideBar": true,
   "skip_h1_title": true,
   "title_cell": "Table of Contents",
   "title_sidebar": "Contents",
   "toc_cell": false,
   "toc_position": {
    "height": "calc(100% - 180px)",
    "left": "10px",
    "top": "150px",
    "width": "291.797px"
   },
   "toc_section_display": true,
   "toc_window_display": true
  }
 },
 "nbformat": 4,
 "nbformat_minor": 5
}
