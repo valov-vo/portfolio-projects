{
 "cells": [
  {
   "cell_type": "markdown",
   "metadata": {},
   "source": [
    "## Описание проекта"
   ]
  },
  {
   "cell_type": "markdown",
   "metadata": {},
   "source": [
    "### Общая информация"
   ]
  },
  {
   "cell_type": "markdown",
   "metadata": {},
   "source": [
    "Клиентам компании «Мегалайн» (федерального оператора сотовой связи) предлагают два тарифных плана: «Смарт» и «Ультра». \n",
    "\n",
    "Чтобы скорректировать рекламный бюджет, коммерческий департамент хочет понять, **какой тариф приносит больше денег**.\n",
    "\n",
    "В нашем распоряжении данные 500 пользователей «Мегалайна»: кто они, откуда, каким тарифом пользуются, сколько звонков и сообщений каждый отправил за 2018 год. Нужно проанализировать поведение клиентов и сделать вывод — какой тариф лучше.\n",
    "\n",
    "**Описание тарифов**\n",
    "\n",
    "**Тариф «Смарт»**\n",
    "\n",
    "Ежемесячная плата: 550 рублей\n",
    "\n",
    "Включено 500 минут разговора, 50 сообщений и 15 Гб интернет-трафика\n",
    "\n",
    "Стоимость услуг сверх тарифного пакета:\n",
    "\n",
    "минута разговора: 3 рубля\n",
    "\n",
    "сообщение: 3 рубля\n",
    "\n",
    "1 Гб интернет-трафика: 200 рублей\n",
    "\n",
    "**Тариф «Ультра»**\n",
    "\n",
    "Ежемесячная плата: 1950 рублей\n",
    "\n",
    "Включено 3000 минут разговора, 1000 сообщений и 30 Гб интернет-трафика\n",
    "\n",
    "Стоимость услуг сверх тарифного пакета:\n",
    "\n",
    "минута разговора: 1 рубль\n",
    "\n",
    "сообщение: 1 рубль\n",
    "\n",
    "1 Гб интернет-трафика: 150 рублей\n",
    "\n",
    "**Примечание**\n",
    "\n",
    "«Мегалайн» всегда округляет секунды до минут, а мегабайты — до гигабайт. Каждый звонок округляется отдельно: даже если он длился всего 1 секунду, будет засчитан как 1 минута.\n",
    "\n",
    "Для веб-трафика отдельные сессии не считаются. Вместо этого общая сумма за месяц округляется в бо́льшую сторону. Если абонент использует 1025 мегабайт в этом месяце, с него возьмут плату за 2 гигабайта. Неиспользованные за предыдущий месяц звонки, смс, интернет на следующий месяц не переносятся."
   ]
  },
  {
   "cell_type": "markdown",
   "metadata": {},
   "source": [
    "### Описание данных"
   ]
  },
  {
   "cell_type": "markdown",
   "metadata": {},
   "source": [
    "**Таблица users** (информация о пользователях):\n",
    "- *user_id* — уникальный идентификатор пользователя\n",
    "- *first_name* — имя пользователя\n",
    "- *last_name* — фамилия пользователя\n",
    "- *age* — возраст пользователя (годы)\n",
    "- *reg_date* — дата подключения тарифа (день, месяц, год)\n",
    "- *churn_date* — дата прекращения пользования тарифом (если значение пропущено, то тариф ещё действовал на момент выгрузки данных)\n",
    "- *city* — город проживания пользователя\n",
    "- *tariff* — название тарифного плана\n",
    "\n",
    "**Таблица calls** (информация о звонках):\n",
    "- *id* — уникальный номер звонка\n",
    "- *call_date* — дата звонка\n",
    "- *duration* — длительность звонка в минутах\n",
    "- *user_id* — идентификатор пользователя, сделавшего звонок\n",
    "\n",
    "**Таблица messages** (информация о сообщениях):\n",
    "- *id* — уникальный номер сообщения\n",
    "- *message_date* — дата сообщения\n",
    "- *user_id* — идентификатор пользователя, отправившего сообщение\n",
    "\n",
    "**Таблица internet** (информация об интернет-сессиях):\n",
    "- *id* — уникальный номер сессии\n",
    "- *mb_used* — объём потраченного за сессию интернет-трафика (в мегабайтах)\n",
    "- *session_date* — дата интернет-сессии\n",
    "- *user_id* — идентификатор пользователя\n",
    "\n",
    "**Таблица tariffs** (информация о тарифах):\n",
    "- *tariff_name* — название тарифа\n",
    "- *rub_monthly_fee* — ежемесячная абонентская плата в рублях\n",
    "- *minutes_included* — количество минут разговора в месяц, включённых в абонентскую плату\n",
    "- *messages_included* — количество сообщений в месяц, включённых в абонентскую плату\n",
    "- *mb_per_month_included* — объём интернет-трафика, включённого в абонентскую плату (в мегабайтах)\n",
    "- *rub_per_minute* — стоимость минуты разговора сверх тарифного пакета (например, если в тарифе 100 минут разговора в месяц, то со 101 минуты будет взиматься плата)\n",
    "- *rub_per_message* — стоимость отправки сообщения сверх тарифного пакета\n",
    "- *rub_per_gb* — стоимость дополнительного гигабайта интернет-трафика сверх тарифного пакета (1 гигабайт = 1024 мегабайта)"
   ]
  },
  {
   "cell_type": "markdown",
   "metadata": {},
   "source": [
    "## Предобработка"
   ]
  },
  {
   "cell_type": "markdown",
   "metadata": {},
   "source": [
    "Загружаем нужные библиотеки"
   ]
  },
  {
   "cell_type": "code",
   "execution_count": 1,
   "metadata": {},
   "outputs": [],
   "source": [
    "import pandas as pd\n",
    "import math\n",
    "import numpy as np\n",
    "from scipy import stats as st\n",
    "import matplotlib.pyplot as plt"
   ]
  },
  {
   "cell_type": "markdown",
   "metadata": {},
   "source": [
    "Создаём датафреймы из csv-файлов с данными"
   ]
  },
  {
   "cell_type": "code",
   "execution_count": 2,
   "metadata": {},
   "outputs": [],
   "source": [
    "try:\n",
    "    users = pd.read_csv('users.csv')\n",
    "    calls = pd.read_csv('calls.csv')\n",
    "    internet = pd.read_csv('internet.csv')\n",
    "    messages = pd.read_csv('messages.csv')\n",
    "    tariffs = pd.read_csv('tariffs.csv')\n",
    "except:\n",
    "    users = pd.read_csv('/datasets/users.csv')\n",
    "    calls = pd.read_csv('/datasets/calls.csv')\n",
    "    internet = pd.read_csv('/datasets/internet.csv')\n",
    "    messages = pd.read_csv('/datasets/messages.csv')\n",
    "    tariffs = pd.read_csv('/datasets/tariffs.csv')"
   ]
  },
  {
   "cell_type": "markdown",
   "metadata": {},
   "source": [
    "### Знакомство с данными и поиск проблем"
   ]
  },
  {
   "cell_type": "markdown",
   "metadata": {},
   "source": [
    "Рассмотрим каждый датафрейм с помощью метода **info()** и взглянем визуально на 10 случайных строк из него. Проверим на дубликаты там, где они могут быть."
   ]
  },
  {
   "cell_type": "markdown",
   "metadata": {},
   "source": [
    "#### Датафрейм *users*"
   ]
  },
  {
   "cell_type": "markdown",
   "metadata": {},
   "source": [
    "Кроме общих действий, полезно узнать, повторяются ли значения в столбце *user_id* и в столбцах с возрастом, городом, фамилией и именем. Это нужно, чтобы исключить запись одного и того же человека под разными id"
   ]
  },
  {
   "cell_type": "code",
   "execution_count": 3,
   "metadata": {
    "scrolled": false
   },
   "outputs": [
    {
     "name": "stdout",
     "output_type": "stream",
     "text": [
      "<class 'pandas.core.frame.DataFrame'>\n",
      "RangeIndex: 500 entries, 0 to 499\n",
      "Data columns (total 8 columns):\n",
      " #   Column      Non-Null Count  Dtype \n",
      "---  ------      --------------  ----- \n",
      " 0   user_id     500 non-null    int64 \n",
      " 1   age         500 non-null    int64 \n",
      " 2   churn_date  38 non-null     object\n",
      " 3   city        500 non-null    object\n",
      " 4   first_name  500 non-null    object\n",
      " 5   last_name   500 non-null    object\n",
      " 6   reg_date    500 non-null    object\n",
      " 7   tariff      500 non-null    object\n",
      "dtypes: int64(2), object(6)\n",
      "memory usage: 31.4+ KB\n"
     ]
    },
    {
     "data": {
      "text/html": [
       "<div>\n",
       "<style scoped>\n",
       "    .dataframe tbody tr th:only-of-type {\n",
       "        vertical-align: middle;\n",
       "    }\n",
       "\n",
       "    .dataframe tbody tr th {\n",
       "        vertical-align: top;\n",
       "    }\n",
       "\n",
       "    .dataframe thead th {\n",
       "        text-align: right;\n",
       "    }\n",
       "</style>\n",
       "<table border=\"1\" class=\"dataframe\">\n",
       "  <thead>\n",
       "    <tr style=\"text-align: right;\">\n",
       "      <th></th>\n",
       "      <th>user_id</th>\n",
       "      <th>age</th>\n",
       "      <th>churn_date</th>\n",
       "      <th>city</th>\n",
       "      <th>first_name</th>\n",
       "      <th>last_name</th>\n",
       "      <th>reg_date</th>\n",
       "      <th>tariff</th>\n",
       "    </tr>\n",
       "  </thead>\n",
       "  <tbody>\n",
       "    <tr>\n",
       "      <th>336</th>\n",
       "      <td>1336</td>\n",
       "      <td>27</td>\n",
       "      <td>NaN</td>\n",
       "      <td>Уфа</td>\n",
       "      <td>Авксентий</td>\n",
       "      <td>Алексеичев</td>\n",
       "      <td>2018-12-31</td>\n",
       "      <td>ultra</td>\n",
       "    </tr>\n",
       "    <tr>\n",
       "      <th>440</th>\n",
       "      <td>1440</td>\n",
       "      <td>51</td>\n",
       "      <td>NaN</td>\n",
       "      <td>Москва</td>\n",
       "      <td>Арсений</td>\n",
       "      <td>Матвеев</td>\n",
       "      <td>2018-05-28</td>\n",
       "      <td>ultra</td>\n",
       "    </tr>\n",
       "    <tr>\n",
       "      <th>39</th>\n",
       "      <td>1039</td>\n",
       "      <td>40</td>\n",
       "      <td>NaN</td>\n",
       "      <td>Ярославль</td>\n",
       "      <td>Агнесса</td>\n",
       "      <td>Андреенко</td>\n",
       "      <td>2018-06-21</td>\n",
       "      <td>ultra</td>\n",
       "    </tr>\n",
       "    <tr>\n",
       "      <th>77</th>\n",
       "      <td>1077</td>\n",
       "      <td>18</td>\n",
       "      <td>NaN</td>\n",
       "      <td>Москва</td>\n",
       "      <td>Марица</td>\n",
       "      <td>Кольцова</td>\n",
       "      <td>2018-10-23</td>\n",
       "      <td>smart</td>\n",
       "    </tr>\n",
       "    <tr>\n",
       "      <th>485</th>\n",
       "      <td>1485</td>\n",
       "      <td>34</td>\n",
       "      <td>NaN</td>\n",
       "      <td>Киров</td>\n",
       "      <td>Таисия</td>\n",
       "      <td>Сухова</td>\n",
       "      <td>2018-12-29</td>\n",
       "      <td>ultra</td>\n",
       "    </tr>\n",
       "    <tr>\n",
       "      <th>275</th>\n",
       "      <td>1275</td>\n",
       "      <td>48</td>\n",
       "      <td>NaN</td>\n",
       "      <td>Москва</td>\n",
       "      <td>Семён</td>\n",
       "      <td>Елизаров</td>\n",
       "      <td>2018-04-24</td>\n",
       "      <td>smart</td>\n",
       "    </tr>\n",
       "    <tr>\n",
       "      <th>439</th>\n",
       "      <td>1439</td>\n",
       "      <td>62</td>\n",
       "      <td>NaN</td>\n",
       "      <td>Орёл</td>\n",
       "      <td>Евгения</td>\n",
       "      <td>Афонина</td>\n",
       "      <td>2018-06-30</td>\n",
       "      <td>smart</td>\n",
       "    </tr>\n",
       "    <tr>\n",
       "      <th>8</th>\n",
       "      <td>1008</td>\n",
       "      <td>63</td>\n",
       "      <td>NaN</td>\n",
       "      <td>Челябинск</td>\n",
       "      <td>Рустэм</td>\n",
       "      <td>Пономарёв</td>\n",
       "      <td>2018-12-19</td>\n",
       "      <td>smart</td>\n",
       "    </tr>\n",
       "    <tr>\n",
       "      <th>316</th>\n",
       "      <td>1316</td>\n",
       "      <td>42</td>\n",
       "      <td>NaN</td>\n",
       "      <td>Улан-Удэ</td>\n",
       "      <td>Аурелия</td>\n",
       "      <td>Алымова</td>\n",
       "      <td>2018-11-29</td>\n",
       "      <td>smart</td>\n",
       "    </tr>\n",
       "    <tr>\n",
       "      <th>181</th>\n",
       "      <td>1181</td>\n",
       "      <td>37</td>\n",
       "      <td>NaN</td>\n",
       "      <td>Омск</td>\n",
       "      <td>Рем</td>\n",
       "      <td>Аврорин</td>\n",
       "      <td>2018-11-23</td>\n",
       "      <td>smart</td>\n",
       "    </tr>\n",
       "  </tbody>\n",
       "</table>\n",
       "</div>"
      ],
      "text/plain": [
       "     user_id  age churn_date       city first_name   last_name    reg_date  \\\n",
       "336     1336   27        NaN        Уфа  Авксентий  Алексеичев  2018-12-31   \n",
       "440     1440   51        NaN     Москва    Арсений     Матвеев  2018-05-28   \n",
       "39      1039   40        NaN  Ярославль    Агнесса   Андреенко  2018-06-21   \n",
       "77      1077   18        NaN     Москва     Марица    Кольцова  2018-10-23   \n",
       "485     1485   34        NaN      Киров     Таисия      Сухова  2018-12-29   \n",
       "275     1275   48        NaN     Москва      Семён    Елизаров  2018-04-24   \n",
       "439     1439   62        NaN       Орёл    Евгения     Афонина  2018-06-30   \n",
       "8       1008   63        NaN  Челябинск     Рустэм   Пономарёв  2018-12-19   \n",
       "316     1316   42        NaN   Улан-Удэ    Аурелия     Алымова  2018-11-29   \n",
       "181     1181   37        NaN       Омск        Рем     Аврорин  2018-11-23   \n",
       "\n",
       "    tariff  \n",
       "336  ultra  \n",
       "440  ultra  \n",
       "39   ultra  \n",
       "77   smart  \n",
       "485  ultra  \n",
       "275  smart  \n",
       "439  smart  \n",
       "8    smart  \n",
       "316  smart  \n",
       "181  smart  "
      ]
     },
     "metadata": {},
     "output_type": "display_data"
    },
    {
     "name": "stdout",
     "output_type": "stream",
     "text": [
      "Количество явных дубликатов в столбце user_id: 0\n",
      "Количество явных дубликатов в датафрейме users: 0\n"
     ]
    }
   ],
   "source": [
    "users.info()\n",
    "display(users.sample(10))\n",
    "# посчитаем дубликаты в отдельной переменной, для удобства использования f-строки\n",
    "users_id_duplicated = users.duplicated(subset='user_id').sum()\n",
    "print(f'Количество явных дубликатов в столбце user_id: {users_id_duplicated}')\n",
    "users_duplicated = users.duplicated(subset=['age', 'city', 'first_name', 'last_name']).sum()\n",
    "print(f'Количество явных дубликатов в датафрейме users: {users_duplicated}')"
   ]
  },
  {
   "cell_type": "markdown",
   "metadata": {},
   "source": [
    "Учитывая, что задача стоит определить более выгодный тариф, думаю, что информация из столбца *churn_date* нам не понадобится. Как и ФИО пользователя. Поэтому из этого датафрейма будем использовать только информацию из столбцов *user_id, city, tariff*, в которых пропусков нет.\n",
    "\n",
    "Также думаю, что дата регистрации не понадобится, так как судя по описанию данных, в других таблицах есть дата использования элементов тарифа, которая нам и подскажет, когда пользователь начал пользоваться им. \n",
    "\n",
    "Да возможна ситуация, в которой человек подключив тариф, не успел чем-либо воспользоваться в конкретном месяце, но не думаю, что это будет слишком часто, чтобы поставить под сомнение результат исследования.\n",
    "\n",
    "Дубликатов в столбце *user_id* нет, как и во всём датафрейме. Вцелом отличный исходник ведь! :-)"
   ]
  },
  {
   "cell_type": "markdown",
   "metadata": {},
   "source": [
    "#### Датафрейм *calls*"
   ]
  },
  {
   "cell_type": "markdown",
   "metadata": {},
   "source": [
    "В данном случае кроме общих действий, поищем явные дубликаты"
   ]
  },
  {
   "cell_type": "code",
   "execution_count": 4,
   "metadata": {},
   "outputs": [
    {
     "name": "stdout",
     "output_type": "stream",
     "text": [
      "<class 'pandas.core.frame.DataFrame'>\n",
      "RangeIndex: 202607 entries, 0 to 202606\n",
      "Data columns (total 4 columns):\n",
      " #   Column     Non-Null Count   Dtype  \n",
      "---  ------     --------------   -----  \n",
      " 0   id         202607 non-null  object \n",
      " 1   call_date  202607 non-null  object \n",
      " 2   duration   202607 non-null  float64\n",
      " 3   user_id    202607 non-null  int64  \n",
      "dtypes: float64(1), int64(1), object(2)\n",
      "memory usage: 6.2+ MB\n"
     ]
    },
    {
     "data": {
      "text/html": [
       "<div>\n",
       "<style scoped>\n",
       "    .dataframe tbody tr th:only-of-type {\n",
       "        vertical-align: middle;\n",
       "    }\n",
       "\n",
       "    .dataframe tbody tr th {\n",
       "        vertical-align: top;\n",
       "    }\n",
       "\n",
       "    .dataframe thead th {\n",
       "        text-align: right;\n",
       "    }\n",
       "</style>\n",
       "<table border=\"1\" class=\"dataframe\">\n",
       "  <thead>\n",
       "    <tr style=\"text-align: right;\">\n",
       "      <th></th>\n",
       "      <th>id</th>\n",
       "      <th>call_date</th>\n",
       "      <th>duration</th>\n",
       "      <th>user_id</th>\n",
       "    </tr>\n",
       "  </thead>\n",
       "  <tbody>\n",
       "    <tr>\n",
       "      <th>131870</th>\n",
       "      <td>1339_199</td>\n",
       "      <td>2018-09-07</td>\n",
       "      <td>9.91</td>\n",
       "      <td>1339</td>\n",
       "    </tr>\n",
       "    <tr>\n",
       "      <th>110878</th>\n",
       "      <td>1284_476</td>\n",
       "      <td>2018-05-25</td>\n",
       "      <td>13.58</td>\n",
       "      <td>1284</td>\n",
       "    </tr>\n",
       "    <tr>\n",
       "      <th>106211</th>\n",
       "      <td>1274_207</td>\n",
       "      <td>2018-05-13</td>\n",
       "      <td>1.15</td>\n",
       "      <td>1274</td>\n",
       "    </tr>\n",
       "    <tr>\n",
       "      <th>159903</th>\n",
       "      <td>1394_308</td>\n",
       "      <td>2018-02-16</td>\n",
       "      <td>16.24</td>\n",
       "      <td>1394</td>\n",
       "    </tr>\n",
       "    <tr>\n",
       "      <th>5163</th>\n",
       "      <td>1014_155</td>\n",
       "      <td>2018-08-25</td>\n",
       "      <td>9.56</td>\n",
       "      <td>1014</td>\n",
       "    </tr>\n",
       "    <tr>\n",
       "      <th>21919</th>\n",
       "      <td>1057_368</td>\n",
       "      <td>2018-10-21</td>\n",
       "      <td>3.91</td>\n",
       "      <td>1057</td>\n",
       "    </tr>\n",
       "    <tr>\n",
       "      <th>1696</th>\n",
       "      <td>1005_293</td>\n",
       "      <td>2018-03-08</td>\n",
       "      <td>10.29</td>\n",
       "      <td>1005</td>\n",
       "    </tr>\n",
       "    <tr>\n",
       "      <th>54777</th>\n",
       "      <td>1138_202</td>\n",
       "      <td>2018-07-14</td>\n",
       "      <td>14.34</td>\n",
       "      <td>1138</td>\n",
       "    </tr>\n",
       "    <tr>\n",
       "      <th>6107</th>\n",
       "      <td>1017_303</td>\n",
       "      <td>2018-06-21</td>\n",
       "      <td>0.00</td>\n",
       "      <td>1017</td>\n",
       "    </tr>\n",
       "    <tr>\n",
       "      <th>77000</th>\n",
       "      <td>1193_262</td>\n",
       "      <td>2018-12-16</td>\n",
       "      <td>0.10</td>\n",
       "      <td>1193</td>\n",
       "    </tr>\n",
       "  </tbody>\n",
       "</table>\n",
       "</div>"
      ],
      "text/plain": [
       "              id   call_date  duration  user_id\n",
       "131870  1339_199  2018-09-07      9.91     1339\n",
       "110878  1284_476  2018-05-25     13.58     1284\n",
       "106211  1274_207  2018-05-13      1.15     1274\n",
       "159903  1394_308  2018-02-16     16.24     1394\n",
       "5163    1014_155  2018-08-25      9.56     1014\n",
       "21919   1057_368  2018-10-21      3.91     1057\n",
       "1696    1005_293  2018-03-08     10.29     1005\n",
       "54777   1138_202  2018-07-14     14.34     1138\n",
       "6107    1017_303  2018-06-21      0.00     1017\n",
       "77000   1193_262  2018-12-16      0.10     1193"
      ]
     },
     "metadata": {},
     "output_type": "display_data"
    },
    {
     "name": "stdout",
     "output_type": "stream",
     "text": [
      "Количество явных дубликатов в датафрейме calls: 0\n"
     ]
    }
   ],
   "source": [
    "calls.info()\n",
    "display(calls.sample(10))\n",
    "print(f'Количество явных дубликатов в датафрейме calls: {calls.duplicated().sum()}')"
   ]
  },
  {
   "cell_type": "markdown",
   "metadata": {},
   "source": [
    "В данном датафрейме нет пропущенных значений и дубликатов. Согласно описанию тарифов необходимо округлить длительность звонка в большую сторону, а также привести даты к соответствующему типу."
   ]
  },
  {
   "cell_type": "markdown",
   "metadata": {},
   "source": [
    "#### Датафрейм *internet*"
   ]
  },
  {
   "cell_type": "code",
   "execution_count": 5,
   "metadata": {},
   "outputs": [
    {
     "name": "stdout",
     "output_type": "stream",
     "text": [
      "<class 'pandas.core.frame.DataFrame'>\n",
      "RangeIndex: 149396 entries, 0 to 149395\n",
      "Data columns (total 5 columns):\n",
      " #   Column        Non-Null Count   Dtype  \n",
      "---  ------        --------------   -----  \n",
      " 0   Unnamed: 0    149396 non-null  int64  \n",
      " 1   id            149396 non-null  object \n",
      " 2   mb_used       149396 non-null  float64\n",
      " 3   session_date  149396 non-null  object \n",
      " 4   user_id       149396 non-null  int64  \n",
      "dtypes: float64(1), int64(2), object(2)\n",
      "memory usage: 5.7+ MB\n"
     ]
    },
    {
     "data": {
      "text/html": [
       "<div>\n",
       "<style scoped>\n",
       "    .dataframe tbody tr th:only-of-type {\n",
       "        vertical-align: middle;\n",
       "    }\n",
       "\n",
       "    .dataframe tbody tr th {\n",
       "        vertical-align: top;\n",
       "    }\n",
       "\n",
       "    .dataframe thead th {\n",
       "        text-align: right;\n",
       "    }\n",
       "</style>\n",
       "<table border=\"1\" class=\"dataframe\">\n",
       "  <thead>\n",
       "    <tr style=\"text-align: right;\">\n",
       "      <th></th>\n",
       "      <th>Unnamed: 0</th>\n",
       "      <th>id</th>\n",
       "      <th>mb_used</th>\n",
       "      <th>session_date</th>\n",
       "      <th>user_id</th>\n",
       "    </tr>\n",
       "  </thead>\n",
       "  <tbody>\n",
       "    <tr>\n",
       "      <th>147517</th>\n",
       "      <td>147517</td>\n",
       "      <td>1493_56</td>\n",
       "      <td>1099.98</td>\n",
       "      <td>2018-11-26</td>\n",
       "      <td>1493</td>\n",
       "    </tr>\n",
       "    <tr>\n",
       "      <th>27713</th>\n",
       "      <td>27713</td>\n",
       "      <td>1097_19</td>\n",
       "      <td>428.17</td>\n",
       "      <td>2018-08-31</td>\n",
       "      <td>1097</td>\n",
       "    </tr>\n",
       "    <tr>\n",
       "      <th>94981</th>\n",
       "      <td>94981</td>\n",
       "      <td>1321_245</td>\n",
       "      <td>181.81</td>\n",
       "      <td>2018-04-21</td>\n",
       "      <td>1321</td>\n",
       "    </tr>\n",
       "    <tr>\n",
       "      <th>107875</th>\n",
       "      <td>107875</td>\n",
       "      <td>1367_50</td>\n",
       "      <td>786.11</td>\n",
       "      <td>2018-11-11</td>\n",
       "      <td>1367</td>\n",
       "    </tr>\n",
       "    <tr>\n",
       "      <th>26470</th>\n",
       "      <td>26470</td>\n",
       "      <td>1092_136</td>\n",
       "      <td>516.72</td>\n",
       "      <td>2018-11-22</td>\n",
       "      <td>1092</td>\n",
       "    </tr>\n",
       "    <tr>\n",
       "      <th>94664</th>\n",
       "      <td>94664</td>\n",
       "      <td>1320_82</td>\n",
       "      <td>755.92</td>\n",
       "      <td>2018-10-17</td>\n",
       "      <td>1320</td>\n",
       "    </tr>\n",
       "    <tr>\n",
       "      <th>104698</th>\n",
       "      <td>104698</td>\n",
       "      <td>1354_213</td>\n",
       "      <td>534.31</td>\n",
       "      <td>2018-10-19</td>\n",
       "      <td>1354</td>\n",
       "    </tr>\n",
       "    <tr>\n",
       "      <th>113966</th>\n",
       "      <td>113966</td>\n",
       "      <td>1385_174</td>\n",
       "      <td>219.24</td>\n",
       "      <td>2018-01-20</td>\n",
       "      <td>1385</td>\n",
       "    </tr>\n",
       "    <tr>\n",
       "      <th>13996</th>\n",
       "      <td>13996</td>\n",
       "      <td>1048_64</td>\n",
       "      <td>491.94</td>\n",
       "      <td>2018-08-19</td>\n",
       "      <td>1048</td>\n",
       "    </tr>\n",
       "    <tr>\n",
       "      <th>144174</th>\n",
       "      <td>144174</td>\n",
       "      <td>1481_528</td>\n",
       "      <td>281.92</td>\n",
       "      <td>2018-05-26</td>\n",
       "      <td>1481</td>\n",
       "    </tr>\n",
       "  </tbody>\n",
       "</table>\n",
       "</div>"
      ],
      "text/plain": [
       "        Unnamed: 0        id  mb_used session_date  user_id\n",
       "147517      147517   1493_56  1099.98   2018-11-26     1493\n",
       "27713        27713   1097_19   428.17   2018-08-31     1097\n",
       "94981        94981  1321_245   181.81   2018-04-21     1321\n",
       "107875      107875   1367_50   786.11   2018-11-11     1367\n",
       "26470        26470  1092_136   516.72   2018-11-22     1092\n",
       "94664        94664   1320_82   755.92   2018-10-17     1320\n",
       "104698      104698  1354_213   534.31   2018-10-19     1354\n",
       "113966      113966  1385_174   219.24   2018-01-20     1385\n",
       "13996        13996   1048_64   491.94   2018-08-19     1048\n",
       "144174      144174  1481_528   281.92   2018-05-26     1481"
      ]
     },
     "metadata": {},
     "output_type": "display_data"
    },
    {
     "name": "stdout",
     "output_type": "stream",
     "text": [
      "Количество явных дубликатов в датафрейме internet: 0\n"
     ]
    }
   ],
   "source": [
    "internet.info()\n",
    "display(internet.sample(10))\n",
    "print(f'Количество явных дубликатов в датафрейме internet: {internet.duplicated().sum()}')"
   ]
  },
  {
   "cell_type": "markdown",
   "metadata": {},
   "source": [
    "В датафрейме есть лишний столбец, которого нет в описании даных. Надо бы его удалить. Также приведём данные в столбце с датами к соответствующему типу. Использованые за сессию мегабайты пока округлять не будем - сделаем это при расчёте трафика за месяц.\n",
    "\n",
    "Пропусков и дубликатов не обнаружено."
   ]
  },
  {
   "cell_type": "markdown",
   "metadata": {},
   "source": [
    "#### Датафрейм *messages*"
   ]
  },
  {
   "cell_type": "code",
   "execution_count": 6,
   "metadata": {},
   "outputs": [
    {
     "name": "stdout",
     "output_type": "stream",
     "text": [
      "<class 'pandas.core.frame.DataFrame'>\n",
      "RangeIndex: 123036 entries, 0 to 123035\n",
      "Data columns (total 3 columns):\n",
      " #   Column        Non-Null Count   Dtype \n",
      "---  ------        --------------   ----- \n",
      " 0   id            123036 non-null  object\n",
      " 1   message_date  123036 non-null  object\n",
      " 2   user_id       123036 non-null  int64 \n",
      "dtypes: int64(1), object(2)\n",
      "memory usage: 2.8+ MB\n"
     ]
    },
    {
     "data": {
      "text/html": [
       "<div>\n",
       "<style scoped>\n",
       "    .dataframe tbody tr th:only-of-type {\n",
       "        vertical-align: middle;\n",
       "    }\n",
       "\n",
       "    .dataframe tbody tr th {\n",
       "        vertical-align: top;\n",
       "    }\n",
       "\n",
       "    .dataframe thead th {\n",
       "        text-align: right;\n",
       "    }\n",
       "</style>\n",
       "<table border=\"1\" class=\"dataframe\">\n",
       "  <thead>\n",
       "    <tr style=\"text-align: right;\">\n",
       "      <th></th>\n",
       "      <th>id</th>\n",
       "      <th>message_date</th>\n",
       "      <th>user_id</th>\n",
       "    </tr>\n",
       "  </thead>\n",
       "  <tbody>\n",
       "    <tr>\n",
       "      <th>22341</th>\n",
       "      <td>1093_223</td>\n",
       "      <td>2018-09-01</td>\n",
       "      <td>1093</td>\n",
       "    </tr>\n",
       "    <tr>\n",
       "      <th>95880</th>\n",
       "      <td>1393_454</td>\n",
       "      <td>2018-03-16</td>\n",
       "      <td>1393</td>\n",
       "    </tr>\n",
       "    <tr>\n",
       "      <th>68968</th>\n",
       "      <td>1295_62</td>\n",
       "      <td>2018-12-23</td>\n",
       "      <td>1295</td>\n",
       "    </tr>\n",
       "    <tr>\n",
       "      <th>94693</th>\n",
       "      <td>1386_22</td>\n",
       "      <td>2018-12-16</td>\n",
       "      <td>1386</td>\n",
       "    </tr>\n",
       "    <tr>\n",
       "      <th>66592</th>\n",
       "      <td>1284_180</td>\n",
       "      <td>2018-12-05</td>\n",
       "      <td>1284</td>\n",
       "    </tr>\n",
       "    <tr>\n",
       "      <th>28821</th>\n",
       "      <td>1124_284</td>\n",
       "      <td>2018-11-09</td>\n",
       "      <td>1124</td>\n",
       "    </tr>\n",
       "    <tr>\n",
       "      <th>52501</th>\n",
       "      <td>1231_1122</td>\n",
       "      <td>2018-08-30</td>\n",
       "      <td>1231</td>\n",
       "    </tr>\n",
       "    <tr>\n",
       "      <th>42426</th>\n",
       "      <td>1183_69</td>\n",
       "      <td>2018-08-19</td>\n",
       "      <td>1183</td>\n",
       "    </tr>\n",
       "    <tr>\n",
       "      <th>88638</th>\n",
       "      <td>1372_58</td>\n",
       "      <td>2018-12-26</td>\n",
       "      <td>1372</td>\n",
       "    </tr>\n",
       "    <tr>\n",
       "      <th>60551</th>\n",
       "      <td>1266_159</td>\n",
       "      <td>2018-08-20</td>\n",
       "      <td>1266</td>\n",
       "    </tr>\n",
       "  </tbody>\n",
       "</table>\n",
       "</div>"
      ],
      "text/plain": [
       "              id message_date  user_id\n",
       "22341   1093_223   2018-09-01     1093\n",
       "95880   1393_454   2018-03-16     1393\n",
       "68968    1295_62   2018-12-23     1295\n",
       "94693    1386_22   2018-12-16     1386\n",
       "66592   1284_180   2018-12-05     1284\n",
       "28821   1124_284   2018-11-09     1124\n",
       "52501  1231_1122   2018-08-30     1231\n",
       "42426    1183_69   2018-08-19     1183\n",
       "88638    1372_58   2018-12-26     1372\n",
       "60551   1266_159   2018-08-20     1266"
      ]
     },
     "metadata": {},
     "output_type": "display_data"
    },
    {
     "name": "stdout",
     "output_type": "stream",
     "text": [
      "Количество явных дубликатов в датафрейме messages: 0\n"
     ]
    }
   ],
   "source": [
    "messages.info()\n",
    "display(messages.sample(10))\n",
    "print(f'Количество явных дубликатов в датафрейме messages: {messages.duplicated().sum()}')"
   ]
  },
  {
   "cell_type": "markdown",
   "metadata": {},
   "source": [
    "В этом датафрейме достаточно привести даты к соответствующему типу. Пропусков и дубликатов не обнаружено."
   ]
  },
  {
   "cell_type": "markdown",
   "metadata": {},
   "source": [
    "#### Датафрейм tariffs"
   ]
  },
  {
   "cell_type": "markdown",
   "metadata": {},
   "source": [
    "Судя по описанию данных мы спокойно визуально можем определить наличие проблем."
   ]
  },
  {
   "cell_type": "code",
   "execution_count": 7,
   "metadata": {},
   "outputs": [
    {
     "name": "stdout",
     "output_type": "stream",
     "text": [
      "<class 'pandas.core.frame.DataFrame'>\n",
      "RangeIndex: 2 entries, 0 to 1\n",
      "Data columns (total 8 columns):\n",
      " #   Column                 Non-Null Count  Dtype \n",
      "---  ------                 --------------  ----- \n",
      " 0   messages_included      2 non-null      int64 \n",
      " 1   mb_per_month_included  2 non-null      int64 \n",
      " 2   minutes_included       2 non-null      int64 \n",
      " 3   rub_monthly_fee        2 non-null      int64 \n",
      " 4   rub_per_gb             2 non-null      int64 \n",
      " 5   rub_per_message        2 non-null      int64 \n",
      " 6   rub_per_minute         2 non-null      int64 \n",
      " 7   tariff_name            2 non-null      object\n",
      "dtypes: int64(7), object(1)\n",
      "memory usage: 256.0+ bytes\n"
     ]
    },
    {
     "data": {
      "text/html": [
       "<div>\n",
       "<style scoped>\n",
       "    .dataframe tbody tr th:only-of-type {\n",
       "        vertical-align: middle;\n",
       "    }\n",
       "\n",
       "    .dataframe tbody tr th {\n",
       "        vertical-align: top;\n",
       "    }\n",
       "\n",
       "    .dataframe thead th {\n",
       "        text-align: right;\n",
       "    }\n",
       "</style>\n",
       "<table border=\"1\" class=\"dataframe\">\n",
       "  <thead>\n",
       "    <tr style=\"text-align: right;\">\n",
       "      <th></th>\n",
       "      <th>messages_included</th>\n",
       "      <th>mb_per_month_included</th>\n",
       "      <th>minutes_included</th>\n",
       "      <th>rub_monthly_fee</th>\n",
       "      <th>rub_per_gb</th>\n",
       "      <th>rub_per_message</th>\n",
       "      <th>rub_per_minute</th>\n",
       "      <th>tariff_name</th>\n",
       "    </tr>\n",
       "  </thead>\n",
       "  <tbody>\n",
       "    <tr>\n",
       "      <th>0</th>\n",
       "      <td>50</td>\n",
       "      <td>15360</td>\n",
       "      <td>500</td>\n",
       "      <td>550</td>\n",
       "      <td>200</td>\n",
       "      <td>3</td>\n",
       "      <td>3</td>\n",
       "      <td>smart</td>\n",
       "    </tr>\n",
       "    <tr>\n",
       "      <th>1</th>\n",
       "      <td>1000</td>\n",
       "      <td>30720</td>\n",
       "      <td>3000</td>\n",
       "      <td>1950</td>\n",
       "      <td>150</td>\n",
       "      <td>1</td>\n",
       "      <td>1</td>\n",
       "      <td>ultra</td>\n",
       "    </tr>\n",
       "  </tbody>\n",
       "</table>\n",
       "</div>"
      ],
      "text/plain": [
       "   messages_included  mb_per_month_included  minutes_included  \\\n",
       "0                 50                  15360               500   \n",
       "1               1000                  30720              3000   \n",
       "\n",
       "   rub_monthly_fee  rub_per_gb  rub_per_message  rub_per_minute tariff_name  \n",
       "0              550         200                3               3       smart  \n",
       "1             1950         150                1               1       ultra  "
      ]
     },
     "metadata": {},
     "output_type": "display_data"
    }
   ],
   "source": [
    "tariffs.info()\n",
    "display(tariffs)"
   ]
  },
  {
   "cell_type": "markdown",
   "metadata": {},
   "source": [
    "Все хорошо. Даже данные нужных нам типов :-)"
   ]
  },
  {
   "cell_type": "markdown",
   "metadata": {},
   "source": [
    "### Изменение типов данных. Таблица соответствия тарифа, города и user_id"
   ]
  },
  {
   "cell_type": "markdown",
   "metadata": {},
   "source": [
    "Приведём даты в датафреймах **calls, messages, internet** к соответствующему типу и для контроля применим метод info() к одному из датафреймов"
   ]
  },
  {
   "cell_type": "code",
   "execution_count": 8,
   "metadata": {},
   "outputs": [
    {
     "name": "stdout",
     "output_type": "stream",
     "text": [
      "<class 'pandas.core.frame.DataFrame'>\n",
      "RangeIndex: 149396 entries, 0 to 149395\n",
      "Data columns (total 5 columns):\n",
      " #   Column        Non-Null Count   Dtype         \n",
      "---  ------        --------------   -----         \n",
      " 0   Unnamed: 0    149396 non-null  int64         \n",
      " 1   id            149396 non-null  object        \n",
      " 2   mb_used       149396 non-null  float64       \n",
      " 3   session_date  149396 non-null  datetime64[ns]\n",
      " 4   user_id       149396 non-null  int64         \n",
      "dtypes: datetime64[ns](1), float64(1), int64(2), object(1)\n",
      "memory usage: 5.7+ MB\n"
     ]
    }
   ],
   "source": [
    "calls['call_date'] = pd.to_datetime(calls['call_date'], format='%Y-%m-%d')\n",
    "messages['message_date'] = pd.to_datetime(messages['message_date'], format='%Y-%m-%d')\n",
    "internet['session_date'] = pd.to_datetime(internet['session_date'], format='%Y-%m-%d')\n",
    "internet.info()"
   ]
  },
  {
   "cell_type": "markdown",
   "metadata": {},
   "source": [
    "Как видим, даты приведены к нужному типу данных"
   ]
  },
  {
   "cell_type": "markdown",
   "metadata": {},
   "source": [
    "Создадим датафрейм для будущих расчётов и анализа тарифов. Для этого из датафрейма **users** оставим только нужные для анализа столбцы, а также переименуем столбец с тарифами, чтобы он соответствовал названию столбца из датафрейма **tariffs**. Это позволит избежать проблем со слиянием таблиц в будущем"
   ]
  },
  {
   "cell_type": "code",
   "execution_count": 9,
   "metadata": {},
   "outputs": [
    {
     "data": {
      "text/html": [
       "<div>\n",
       "<style scoped>\n",
       "    .dataframe tbody tr th:only-of-type {\n",
       "        vertical-align: middle;\n",
       "    }\n",
       "\n",
       "    .dataframe tbody tr th {\n",
       "        vertical-align: top;\n",
       "    }\n",
       "\n",
       "    .dataframe thead th {\n",
       "        text-align: right;\n",
       "    }\n",
       "</style>\n",
       "<table border=\"1\" class=\"dataframe\">\n",
       "  <thead>\n",
       "    <tr style=\"text-align: right;\">\n",
       "      <th></th>\n",
       "      <th>user_id</th>\n",
       "      <th>city</th>\n",
       "      <th>tariff_name</th>\n",
       "    </tr>\n",
       "  </thead>\n",
       "  <tbody>\n",
       "    <tr>\n",
       "      <th>0</th>\n",
       "      <td>1000</td>\n",
       "      <td>Краснодар</td>\n",
       "      <td>ultra</td>\n",
       "    </tr>\n",
       "    <tr>\n",
       "      <th>1</th>\n",
       "      <td>1001</td>\n",
       "      <td>Москва</td>\n",
       "      <td>smart</td>\n",
       "    </tr>\n",
       "    <tr>\n",
       "      <th>2</th>\n",
       "      <td>1002</td>\n",
       "      <td>Стерлитамак</td>\n",
       "      <td>smart</td>\n",
       "    </tr>\n",
       "    <tr>\n",
       "      <th>3</th>\n",
       "      <td>1003</td>\n",
       "      <td>Москва</td>\n",
       "      <td>ultra</td>\n",
       "    </tr>\n",
       "    <tr>\n",
       "      <th>4</th>\n",
       "      <td>1004</td>\n",
       "      <td>Новокузнецк</td>\n",
       "      <td>ultra</td>\n",
       "    </tr>\n",
       "  </tbody>\n",
       "</table>\n",
       "</div>"
      ],
      "text/plain": [
       "   user_id         city tariff_name\n",
       "0     1000    Краснодар       ultra\n",
       "1     1001       Москва       smart\n",
       "2     1002  Стерлитамак       smart\n",
       "3     1003       Москва       ultra\n",
       "4     1004  Новокузнецк       ultra"
      ]
     },
     "metadata": {},
     "output_type": "display_data"
    }
   ],
   "source": [
    "users_narrow = users[['user_id', 'city', 'tariff']]\n",
    "users_narrow = users_narrow.rename(columns={'tariff': 'tariff_name'})\n",
    "\n",
    "display(users_narrow.head(5))"
   ]
  },
  {
   "cell_type": "markdown",
   "metadata": {},
   "source": [
    "Отличный короткий \"словарик\" получился."
   ]
  },
  {
   "cell_type": "markdown",
   "metadata": {},
   "source": [
    "### Расчёты"
   ]
  },
  {
   "cell_type": "markdown",
   "metadata": {},
   "source": [
    "#### Количество сделанных звонков и израсходованных минут по месяцам"
   ]
  },
  {
   "cell_type": "markdown",
   "metadata": {},
   "source": [
    "Расчёты в нужном нам формате будем производить в отдельном датафрейме, чтобы сохранить исходные данные в первозданном виде (на всякий случай)"
   ]
  },
  {
   "cell_type": "code",
   "execution_count": 10,
   "metadata": {
    "scrolled": true
   },
   "outputs": [
    {
     "data": {
      "text/html": [
       "<div>\n",
       "<style scoped>\n",
       "    .dataframe tbody tr th:only-of-type {\n",
       "        vertical-align: middle;\n",
       "    }\n",
       "\n",
       "    .dataframe tbody tr th {\n",
       "        vertical-align: top;\n",
       "    }\n",
       "\n",
       "    .dataframe thead th {\n",
       "        text-align: right;\n",
       "    }\n",
       "</style>\n",
       "<table border=\"1\" class=\"dataframe\">\n",
       "  <thead>\n",
       "    <tr style=\"text-align: right;\">\n",
       "      <th></th>\n",
       "      <th>id</th>\n",
       "      <th>call_date</th>\n",
       "      <th>duration</th>\n",
       "      <th>user_id</th>\n",
       "    </tr>\n",
       "  </thead>\n",
       "  <tbody>\n",
       "    <tr>\n",
       "      <th>4489</th>\n",
       "      <td>1011_583</td>\n",
       "      <td>8</td>\n",
       "      <td>14.0</td>\n",
       "      <td>1011</td>\n",
       "    </tr>\n",
       "    <tr>\n",
       "      <th>94185</th>\n",
       "      <td>1239_154</td>\n",
       "      <td>9</td>\n",
       "      <td>0.0</td>\n",
       "      <td>1239</td>\n",
       "    </tr>\n",
       "    <tr>\n",
       "      <th>50809</th>\n",
       "      <td>1126_372</td>\n",
       "      <td>4</td>\n",
       "      <td>11.0</td>\n",
       "      <td>1126</td>\n",
       "    </tr>\n",
       "    <tr>\n",
       "      <th>83572</th>\n",
       "      <td>1208_424</td>\n",
       "      <td>6</td>\n",
       "      <td>7.0</td>\n",
       "      <td>1208</td>\n",
       "    </tr>\n",
       "    <tr>\n",
       "      <th>16097</th>\n",
       "      <td>1044_203</td>\n",
       "      <td>12</td>\n",
       "      <td>12.0</td>\n",
       "      <td>1044</td>\n",
       "    </tr>\n",
       "    <tr>\n",
       "      <th>48081</th>\n",
       "      <td>1120_182</td>\n",
       "      <td>11</td>\n",
       "      <td>13.0</td>\n",
       "      <td>1120</td>\n",
       "    </tr>\n",
       "    <tr>\n",
       "      <th>45379</th>\n",
       "      <td>1113_795</td>\n",
       "      <td>1</td>\n",
       "      <td>0.0</td>\n",
       "      <td>1113</td>\n",
       "    </tr>\n",
       "    <tr>\n",
       "      <th>77648</th>\n",
       "      <td>1195_63</td>\n",
       "      <td>12</td>\n",
       "      <td>7.0</td>\n",
       "      <td>1195</td>\n",
       "    </tr>\n",
       "    <tr>\n",
       "      <th>43768</th>\n",
       "      <td>1110_50</td>\n",
       "      <td>12</td>\n",
       "      <td>3.0</td>\n",
       "      <td>1110</td>\n",
       "    </tr>\n",
       "    <tr>\n",
       "      <th>105894</th>\n",
       "      <td>1273_210</td>\n",
       "      <td>12</td>\n",
       "      <td>0.0</td>\n",
       "      <td>1273</td>\n",
       "    </tr>\n",
       "  </tbody>\n",
       "</table>\n",
       "</div>"
      ],
      "text/plain": [
       "              id  call_date  duration  user_id\n",
       "4489    1011_583          8      14.0     1011\n",
       "94185   1239_154          9       0.0     1239\n",
       "50809   1126_372          4      11.0     1126\n",
       "83572   1208_424          6       7.0     1208\n",
       "16097   1044_203         12      12.0     1044\n",
       "48081   1120_182         11      13.0     1120\n",
       "45379   1113_795          1       0.0     1113\n",
       "77648    1195_63         12       7.0     1195\n",
       "43768    1110_50         12       3.0     1110\n",
       "105894  1273_210         12       0.0     1273"
      ]
     },
     "metadata": {},
     "output_type": "display_data"
    }
   ],
   "source": [
    "calls_count = calls\n",
    "calls_count['duration'] = calls_count['duration'].apply('ceil') # округляем в большую сторону - особенность тарифа\n",
    "calls_count['call_date'] = calls_count['call_date'].dt.month # оставляем от дат только месяцы\n",
    "display(calls_count.sample(10))"
   ]
  },
  {
   "cell_type": "markdown",
   "metadata": {},
   "source": [
    "Всё получилось, как нужно. Проблем не обнаружено.\n",
    "\n",
    "Создадим сводную таблицу, содержащую общее количество минут по месяцам для каждого пользователя, с указанием данных тарифа и города. Также заполним пропуски по месяцам нулями, приведем к целым числам"
   ]
  },
  {
   "cell_type": "markdown",
   "metadata": {},
   "source": [
    "Сгруппируем данные о звонках по пользователе-месяцам"
   ]
  },
  {
   "cell_type": "code",
   "execution_count": 11,
   "metadata": {},
   "outputs": [
    {
     "data": {
      "text/html": [
       "<div>\n",
       "<style scoped>\n",
       "    .dataframe tbody tr th:only-of-type {\n",
       "        vertical-align: middle;\n",
       "    }\n",
       "\n",
       "    .dataframe tbody tr th {\n",
       "        vertical-align: top;\n",
       "    }\n",
       "\n",
       "    .dataframe thead th {\n",
       "        text-align: right;\n",
       "    }\n",
       "</style>\n",
       "<table border=\"1\" class=\"dataframe\">\n",
       "  <thead>\n",
       "    <tr style=\"text-align: right;\">\n",
       "      <th></th>\n",
       "      <th>user_id</th>\n",
       "      <th>month</th>\n",
       "      <th>calls</th>\n",
       "      <th>minutes</th>\n",
       "    </tr>\n",
       "  </thead>\n",
       "  <tbody>\n",
       "    <tr>\n",
       "      <th>0</th>\n",
       "      <td>1000</td>\n",
       "      <td>5</td>\n",
       "      <td>22</td>\n",
       "      <td>159.0</td>\n",
       "    </tr>\n",
       "    <tr>\n",
       "      <th>1</th>\n",
       "      <td>1000</td>\n",
       "      <td>6</td>\n",
       "      <td>43</td>\n",
       "      <td>172.0</td>\n",
       "    </tr>\n",
       "    <tr>\n",
       "      <th>2</th>\n",
       "      <td>1000</td>\n",
       "      <td>7</td>\n",
       "      <td>47</td>\n",
       "      <td>340.0</td>\n",
       "    </tr>\n",
       "    <tr>\n",
       "      <th>3</th>\n",
       "      <td>1000</td>\n",
       "      <td>8</td>\n",
       "      <td>52</td>\n",
       "      <td>408.0</td>\n",
       "    </tr>\n",
       "    <tr>\n",
       "      <th>4</th>\n",
       "      <td>1000</td>\n",
       "      <td>9</td>\n",
       "      <td>58</td>\n",
       "      <td>466.0</td>\n",
       "    </tr>\n",
       "    <tr>\n",
       "      <th>5</th>\n",
       "      <td>1000</td>\n",
       "      <td>10</td>\n",
       "      <td>57</td>\n",
       "      <td>350.0</td>\n",
       "    </tr>\n",
       "    <tr>\n",
       "      <th>6</th>\n",
       "      <td>1000</td>\n",
       "      <td>11</td>\n",
       "      <td>43</td>\n",
       "      <td>338.0</td>\n",
       "    </tr>\n",
       "    <tr>\n",
       "      <th>7</th>\n",
       "      <td>1000</td>\n",
       "      <td>12</td>\n",
       "      <td>46</td>\n",
       "      <td>333.0</td>\n",
       "    </tr>\n",
       "    <tr>\n",
       "      <th>8</th>\n",
       "      <td>1001</td>\n",
       "      <td>11</td>\n",
       "      <td>59</td>\n",
       "      <td>430.0</td>\n",
       "    </tr>\n",
       "    <tr>\n",
       "      <th>9</th>\n",
       "      <td>1001</td>\n",
       "      <td>12</td>\n",
       "      <td>63</td>\n",
       "      <td>414.0</td>\n",
       "    </tr>\n",
       "  </tbody>\n",
       "</table>\n",
       "</div>"
      ],
      "text/plain": [
       "   user_id  month  calls  minutes\n",
       "0     1000      5     22    159.0\n",
       "1     1000      6     43    172.0\n",
       "2     1000      7     47    340.0\n",
       "3     1000      8     52    408.0\n",
       "4     1000      9     58    466.0\n",
       "5     1000     10     57    350.0\n",
       "6     1000     11     43    338.0\n",
       "7     1000     12     46    333.0\n",
       "8     1001     11     59    430.0\n",
       "9     1001     12     63    414.0"
      ]
     },
     "metadata": {},
     "output_type": "display_data"
    }
   ],
   "source": [
    "calls_duration = calls_count.pivot_table(index=['user_id', 'call_date'], \n",
    "                                               values='duration',\n",
    "                                               aggfunc=['count', 'sum']).reset_index()\n",
    "\n",
    "# приведем в порядок индексы и названия столбцов для дальнейшей общей группировки\n",
    "calls_duration.columns = calls_duration.columns.droplevel(1)\n",
    "calls_duration = calls_duration.rename(columns={'call_date':'month', 'sum':'minutes', 'count':'calls'})\n",
    "\n",
    "display(calls_duration.head(10))"
   ]
  },
  {
   "cell_type": "markdown",
   "metadata": {},
   "source": [
    "Визуально порядок."
   ]
  },
  {
   "cell_type": "markdown",
   "metadata": {},
   "source": [
    "#### Количество отправленных сообщений по месяцам"
   ]
  },
  {
   "cell_type": "markdown",
   "metadata": {},
   "source": [
    "Создадим переменную для хранения данных по количеству сообщений по месяцам, от дат оставим только месяцы и переименуем столбцы для лучшего восприятия."
   ]
  },
  {
   "cell_type": "code",
   "execution_count": 12,
   "metadata": {},
   "outputs": [
    {
     "data": {
      "text/html": [
       "<div>\n",
       "<style scoped>\n",
       "    .dataframe tbody tr th:only-of-type {\n",
       "        vertical-align: middle;\n",
       "    }\n",
       "\n",
       "    .dataframe tbody tr th {\n",
       "        vertical-align: top;\n",
       "    }\n",
       "\n",
       "    .dataframe thead th {\n",
       "        text-align: right;\n",
       "    }\n",
       "</style>\n",
       "<table border=\"1\" class=\"dataframe\">\n",
       "  <thead>\n",
       "    <tr style=\"text-align: right;\">\n",
       "      <th></th>\n",
       "      <th>user_id</th>\n",
       "      <th>month</th>\n",
       "      <th>messages</th>\n",
       "    </tr>\n",
       "  </thead>\n",
       "  <tbody>\n",
       "    <tr>\n",
       "      <th>0</th>\n",
       "      <td>1000</td>\n",
       "      <td>5</td>\n",
       "      <td>22</td>\n",
       "    </tr>\n",
       "    <tr>\n",
       "      <th>1</th>\n",
       "      <td>1000</td>\n",
       "      <td>6</td>\n",
       "      <td>60</td>\n",
       "    </tr>\n",
       "    <tr>\n",
       "      <th>2</th>\n",
       "      <td>1000</td>\n",
       "      <td>7</td>\n",
       "      <td>75</td>\n",
       "    </tr>\n",
       "    <tr>\n",
       "      <th>3</th>\n",
       "      <td>1000</td>\n",
       "      <td>8</td>\n",
       "      <td>81</td>\n",
       "    </tr>\n",
       "    <tr>\n",
       "      <th>4</th>\n",
       "      <td>1000</td>\n",
       "      <td>9</td>\n",
       "      <td>57</td>\n",
       "    </tr>\n",
       "    <tr>\n",
       "      <th>5</th>\n",
       "      <td>1000</td>\n",
       "      <td>10</td>\n",
       "      <td>73</td>\n",
       "    </tr>\n",
       "    <tr>\n",
       "      <th>6</th>\n",
       "      <td>1000</td>\n",
       "      <td>11</td>\n",
       "      <td>58</td>\n",
       "    </tr>\n",
       "    <tr>\n",
       "      <th>7</th>\n",
       "      <td>1000</td>\n",
       "      <td>12</td>\n",
       "      <td>70</td>\n",
       "    </tr>\n",
       "    <tr>\n",
       "      <th>8</th>\n",
       "      <td>1002</td>\n",
       "      <td>6</td>\n",
       "      <td>4</td>\n",
       "    </tr>\n",
       "    <tr>\n",
       "      <th>9</th>\n",
       "      <td>1002</td>\n",
       "      <td>7</td>\n",
       "      <td>11</td>\n",
       "    </tr>\n",
       "  </tbody>\n",
       "</table>\n",
       "</div>"
      ],
      "text/plain": [
       "   user_id  month  messages\n",
       "0     1000      5        22\n",
       "1     1000      6        60\n",
       "2     1000      7        75\n",
       "3     1000      8        81\n",
       "4     1000      9        57\n",
       "5     1000     10        73\n",
       "6     1000     11        58\n",
       "7     1000     12        70\n",
       "8     1002      6         4\n",
       "9     1002      7        11"
      ]
     },
     "metadata": {},
     "output_type": "display_data"
    }
   ],
   "source": [
    "messages_count = messages\n",
    "messages_count['message_date'] = messages_count['message_date'].dt.month\n",
    "messages_count = messages_count.pivot_table(index=['user_id', 'message_date'],\n",
    "                                            values='id', \n",
    "                                            aggfunc='count').reset_index()\n",
    "\n",
    "# приведем в порядок названия столбцов для дальнейшей общей группировки\n",
    "messages_count = messages_count.rename(columns={'message_date' : 'month', 'id' : 'messages'})\n",
    "display(messages_count.head(10))"
   ]
  },
  {
   "cell_type": "markdown",
   "metadata": {},
   "source": [
    "Порядок."
   ]
  },
  {
   "cell_type": "markdown",
   "metadata": {},
   "source": [
    "#### Объём израсходованного интернет-трафика по месяцам"
   ]
  },
  {
   "cell_type": "markdown",
   "metadata": {},
   "source": [
    "Аналогично действуем с интернет-трафиком, не забывая переводить мегабайты в гигабайты и округлять согласно особенностям тарифа."
   ]
  },
  {
   "cell_type": "code",
   "execution_count": 13,
   "metadata": {},
   "outputs": [
    {
     "data": {
      "text/html": [
       "<div>\n",
       "<style scoped>\n",
       "    .dataframe tbody tr th:only-of-type {\n",
       "        vertical-align: middle;\n",
       "    }\n",
       "\n",
       "    .dataframe tbody tr th {\n",
       "        vertical-align: top;\n",
       "    }\n",
       "\n",
       "    .dataframe thead th {\n",
       "        text-align: right;\n",
       "    }\n",
       "</style>\n",
       "<table border=\"1\" class=\"dataframe\">\n",
       "  <thead>\n",
       "    <tr style=\"text-align: right;\">\n",
       "      <th></th>\n",
       "      <th>user_id</th>\n",
       "      <th>month</th>\n",
       "      <th>gb_used</th>\n",
       "    </tr>\n",
       "  </thead>\n",
       "  <tbody>\n",
       "    <tr>\n",
       "      <th>0</th>\n",
       "      <td>1000</td>\n",
       "      <td>5</td>\n",
       "      <td>3.0</td>\n",
       "    </tr>\n",
       "    <tr>\n",
       "      <th>1</th>\n",
       "      <td>1000</td>\n",
       "      <td>6</td>\n",
       "      <td>23.0</td>\n",
       "    </tr>\n",
       "    <tr>\n",
       "      <th>2</th>\n",
       "      <td>1000</td>\n",
       "      <td>7</td>\n",
       "      <td>14.0</td>\n",
       "    </tr>\n",
       "    <tr>\n",
       "      <th>3</th>\n",
       "      <td>1000</td>\n",
       "      <td>8</td>\n",
       "      <td>14.0</td>\n",
       "    </tr>\n",
       "    <tr>\n",
       "      <th>4</th>\n",
       "      <td>1000</td>\n",
       "      <td>9</td>\n",
       "      <td>15.0</td>\n",
       "    </tr>\n",
       "    <tr>\n",
       "      <th>5</th>\n",
       "      <td>1000</td>\n",
       "      <td>10</td>\n",
       "      <td>15.0</td>\n",
       "    </tr>\n",
       "    <tr>\n",
       "      <th>6</th>\n",
       "      <td>1000</td>\n",
       "      <td>11</td>\n",
       "      <td>15.0</td>\n",
       "    </tr>\n",
       "    <tr>\n",
       "      <th>7</th>\n",
       "      <td>1000</td>\n",
       "      <td>12</td>\n",
       "      <td>10.0</td>\n",
       "    </tr>\n",
       "    <tr>\n",
       "      <th>8</th>\n",
       "      <td>1001</td>\n",
       "      <td>11</td>\n",
       "      <td>18.0</td>\n",
       "    </tr>\n",
       "    <tr>\n",
       "      <th>9</th>\n",
       "      <td>1001</td>\n",
       "      <td>12</td>\n",
       "      <td>14.0</td>\n",
       "    </tr>\n",
       "  </tbody>\n",
       "</table>\n",
       "</div>"
      ],
      "text/plain": [
       "   user_id  month  gb_used\n",
       "0     1000      5      3.0\n",
       "1     1000      6     23.0\n",
       "2     1000      7     14.0\n",
       "3     1000      8     14.0\n",
       "4     1000      9     15.0\n",
       "5     1000     10     15.0\n",
       "6     1000     11     15.0\n",
       "7     1000     12     10.0\n",
       "8     1001     11     18.0\n",
       "9     1001     12     14.0"
      ]
     },
     "metadata": {},
     "output_type": "display_data"
    }
   ],
   "source": [
    "internet_count = internet\n",
    "internet_count['session_date'] = internet_count['session_date'].dt.month\n",
    "internet_count = internet_count.pivot_table(index=['user_id', 'session_date'],\n",
    "                                            values='mb_used', \n",
    "                                            aggfunc='sum').fillna(0).reset_index()\n",
    "\n",
    "# переводим в гигабайты и округляем\n",
    "internet_count['mb_used'] = (internet_count['mb_used'] / 1024).apply('ceil')\n",
    "internet_count = internet_count.rename(columns={'session_date' : 'month', 'mb_used' : 'gb_used'})\n",
    "display(internet_count.head(10))"
   ]
  },
  {
   "cell_type": "markdown",
   "metadata": {},
   "source": [
    "#### Объединение таблиц по звонкам, сообщениям и интернету"
   ]
  },
  {
   "cell_type": "markdown",
   "metadata": {},
   "source": [
    "Создадим переменную для хранения статистики использования всех услуг, взяв за основу ранее созданную таблицу со статистикой по звокам и последовательно присоеденим таблицы с другими услугами, сопоставляя пользователей и месяцы. Чтобы не терять данные, применяем параметр *how='outer'*"
   ]
  },
  {
   "cell_type": "code",
   "execution_count": 14,
   "metadata": {
    "scrolled": true
   },
   "outputs": [
    {
     "data": {
      "text/html": [
       "<div>\n",
       "<style scoped>\n",
       "    .dataframe tbody tr th:only-of-type {\n",
       "        vertical-align: middle;\n",
       "    }\n",
       "\n",
       "    .dataframe tbody tr th {\n",
       "        vertical-align: top;\n",
       "    }\n",
       "\n",
       "    .dataframe thead th {\n",
       "        text-align: right;\n",
       "    }\n",
       "</style>\n",
       "<table border=\"1\" class=\"dataframe\">\n",
       "  <thead>\n",
       "    <tr style=\"text-align: right;\">\n",
       "      <th></th>\n",
       "      <th>user_id</th>\n",
       "      <th>month</th>\n",
       "      <th>calls</th>\n",
       "      <th>minutes</th>\n",
       "      <th>messages</th>\n",
       "      <th>gb_used</th>\n",
       "      <th>city</th>\n",
       "      <th>tariff_name</th>\n",
       "    </tr>\n",
       "  </thead>\n",
       "  <tbody>\n",
       "    <tr>\n",
       "      <th>0</th>\n",
       "      <td>1000</td>\n",
       "      <td>5</td>\n",
       "      <td>22</td>\n",
       "      <td>159</td>\n",
       "      <td>22</td>\n",
       "      <td>3</td>\n",
       "      <td>Краснодар</td>\n",
       "      <td>ultra</td>\n",
       "    </tr>\n",
       "    <tr>\n",
       "      <th>1</th>\n",
       "      <td>1000</td>\n",
       "      <td>6</td>\n",
       "      <td>43</td>\n",
       "      <td>172</td>\n",
       "      <td>60</td>\n",
       "      <td>23</td>\n",
       "      <td>Краснодар</td>\n",
       "      <td>ultra</td>\n",
       "    </tr>\n",
       "    <tr>\n",
       "      <th>2</th>\n",
       "      <td>1000</td>\n",
       "      <td>7</td>\n",
       "      <td>47</td>\n",
       "      <td>340</td>\n",
       "      <td>75</td>\n",
       "      <td>14</td>\n",
       "      <td>Краснодар</td>\n",
       "      <td>ultra</td>\n",
       "    </tr>\n",
       "    <tr>\n",
       "      <th>3</th>\n",
       "      <td>1000</td>\n",
       "      <td>8</td>\n",
       "      <td>52</td>\n",
       "      <td>408</td>\n",
       "      <td>81</td>\n",
       "      <td>14</td>\n",
       "      <td>Краснодар</td>\n",
       "      <td>ultra</td>\n",
       "    </tr>\n",
       "    <tr>\n",
       "      <th>4</th>\n",
       "      <td>1000</td>\n",
       "      <td>9</td>\n",
       "      <td>58</td>\n",
       "      <td>466</td>\n",
       "      <td>57</td>\n",
       "      <td>15</td>\n",
       "      <td>Краснодар</td>\n",
       "      <td>ultra</td>\n",
       "    </tr>\n",
       "    <tr>\n",
       "      <th>5</th>\n",
       "      <td>1000</td>\n",
       "      <td>10</td>\n",
       "      <td>57</td>\n",
       "      <td>350</td>\n",
       "      <td>73</td>\n",
       "      <td>15</td>\n",
       "      <td>Краснодар</td>\n",
       "      <td>ultra</td>\n",
       "    </tr>\n",
       "    <tr>\n",
       "      <th>6</th>\n",
       "      <td>1000</td>\n",
       "      <td>11</td>\n",
       "      <td>43</td>\n",
       "      <td>338</td>\n",
       "      <td>58</td>\n",
       "      <td>15</td>\n",
       "      <td>Краснодар</td>\n",
       "      <td>ultra</td>\n",
       "    </tr>\n",
       "    <tr>\n",
       "      <th>7</th>\n",
       "      <td>1000</td>\n",
       "      <td>12</td>\n",
       "      <td>46</td>\n",
       "      <td>333</td>\n",
       "      <td>70</td>\n",
       "      <td>10</td>\n",
       "      <td>Краснодар</td>\n",
       "      <td>ultra</td>\n",
       "    </tr>\n",
       "    <tr>\n",
       "      <th>8</th>\n",
       "      <td>1001</td>\n",
       "      <td>11</td>\n",
       "      <td>59</td>\n",
       "      <td>430</td>\n",
       "      <td>0</td>\n",
       "      <td>18</td>\n",
       "      <td>Москва</td>\n",
       "      <td>smart</td>\n",
       "    </tr>\n",
       "    <tr>\n",
       "      <th>9</th>\n",
       "      <td>1001</td>\n",
       "      <td>12</td>\n",
       "      <td>63</td>\n",
       "      <td>414</td>\n",
       "      <td>0</td>\n",
       "      <td>14</td>\n",
       "      <td>Москва</td>\n",
       "      <td>smart</td>\n",
       "    </tr>\n",
       "  </tbody>\n",
       "</table>\n",
       "</div>"
      ],
      "text/plain": [
       "   user_id  month  calls  minutes  messages  gb_used       city tariff_name\n",
       "0     1000      5     22      159        22        3  Краснодар       ultra\n",
       "1     1000      6     43      172        60       23  Краснодар       ultra\n",
       "2     1000      7     47      340        75       14  Краснодар       ultra\n",
       "3     1000      8     52      408        81       14  Краснодар       ultra\n",
       "4     1000      9     58      466        57       15  Краснодар       ultra\n",
       "5     1000     10     57      350        73       15  Краснодар       ultra\n",
       "6     1000     11     43      338        58       15  Краснодар       ultra\n",
       "7     1000     12     46      333        70       10  Краснодар       ultra\n",
       "8     1001     11     59      430         0       18     Москва       smart\n",
       "9     1001     12     63      414         0       14     Москва       smart"
      ]
     },
     "metadata": {},
     "output_type": "display_data"
    },
    {
     "data": {
      "text/plain": [
       "500"
      ]
     },
     "execution_count": 14,
     "metadata": {},
     "output_type": "execute_result"
    }
   ],
   "source": [
    "user_stats = calls_duration.merge(messages_count, on=['user_id', 'month'], how='outer').fillna(0)\n",
    "user_stats = user_stats.merge(internet_count, on=['user_id', 'month'], how='outer').fillna(0)\n",
    "user_stats = user_stats.merge(users_narrow, on=['user_id'], how='outer').fillna(0)\n",
    "\n",
    "# для лучшего восприятия переведем значения столбцов в целые числа\n",
    "for column in ['month', 'calls', 'minutes', 'messages', 'gb_used']:\n",
    "    user_stats[column] = user_stats[column].astype('int')\n",
    "    \n",
    "display(user_stats.head(10))\n",
    "# проконтролируем количество пользователей\n",
    "len(user_stats['user_id'].unique())"
   ]
  },
  {
   "cell_type": "markdown",
   "metadata": {},
   "source": [
    "Никого не потеряли, но хотелось бы узнать, кто ничего не использовал."
   ]
  },
  {
   "cell_type": "code",
   "execution_count": 15,
   "metadata": {},
   "outputs": [
    {
     "data": {
      "text/html": [
       "<div>\n",
       "<style scoped>\n",
       "    .dataframe tbody tr th:only-of-type {\n",
       "        vertical-align: middle;\n",
       "    }\n",
       "\n",
       "    .dataframe tbody tr th {\n",
       "        vertical-align: top;\n",
       "    }\n",
       "\n",
       "    .dataframe thead th {\n",
       "        text-align: right;\n",
       "    }\n",
       "</style>\n",
       "<table border=\"1\" class=\"dataframe\">\n",
       "  <thead>\n",
       "    <tr style=\"text-align: right;\">\n",
       "      <th></th>\n",
       "      <th>user_id</th>\n",
       "      <th>age</th>\n",
       "      <th>churn_date</th>\n",
       "      <th>city</th>\n",
       "      <th>first_name</th>\n",
       "      <th>last_name</th>\n",
       "      <th>reg_date</th>\n",
       "      <th>tariff</th>\n",
       "    </tr>\n",
       "  </thead>\n",
       "  <tbody>\n",
       "    <tr>\n",
       "      <th>128</th>\n",
       "      <td>1128</td>\n",
       "      <td>51</td>\n",
       "      <td>2018-12-23</td>\n",
       "      <td>Волжский</td>\n",
       "      <td>Ксения</td>\n",
       "      <td>Агаева</td>\n",
       "      <td>2018-12-15</td>\n",
       "      <td>ultra</td>\n",
       "    </tr>\n",
       "    <tr>\n",
       "      <th>371</th>\n",
       "      <td>1371</td>\n",
       "      <td>50</td>\n",
       "      <td>2018-12-30</td>\n",
       "      <td>Омск</td>\n",
       "      <td>Ириней</td>\n",
       "      <td>Трофимов</td>\n",
       "      <td>2018-12-25</td>\n",
       "      <td>smart</td>\n",
       "    </tr>\n",
       "  </tbody>\n",
       "</table>\n",
       "</div>"
      ],
      "text/plain": [
       "     user_id  age  churn_date      city first_name last_name    reg_date  \\\n",
       "128     1128   51  2018-12-23  Волжский     Ксения    Агаева  2018-12-15   \n",
       "371     1371   50  2018-12-30      Омск     Ириней  Трофимов  2018-12-25   \n",
       "\n",
       "    tariff  \n",
       "128  ultra  \n",
       "371  smart  "
      ]
     },
     "metadata": {},
     "output_type": "display_data"
    }
   ],
   "source": [
    "# формируем список id пользователей, у которых никаких услуг не посчиталось\n",
    "missing_user = user_stats[user_stats['month'] == 0]['user_id'].tolist()\n",
    "# находим в списке пользователей этих людей\n",
    "display(users.query('user_id in @missing_user'))"
   ]
  },
  {
   "cell_type": "markdown",
   "metadata": {},
   "source": [
    "Оказалось, Ксения и Ириней подключились в декабре и на момент выгрузки базы не успели хоть что-нибудь использовать. Но наверняка заплатили абонентскую плату. С прицелом на возможные будущие исследования присвоим им номер соответствующего месяца."
   ]
  },
  {
   "cell_type": "code",
   "execution_count": 16,
   "metadata": {},
   "outputs": [
    {
     "data": {
      "text/html": [
       "<div>\n",
       "<style scoped>\n",
       "    .dataframe tbody tr th:only-of-type {\n",
       "        vertical-align: middle;\n",
       "    }\n",
       "\n",
       "    .dataframe tbody tr th {\n",
       "        vertical-align: top;\n",
       "    }\n",
       "\n",
       "    .dataframe thead th {\n",
       "        text-align: right;\n",
       "    }\n",
       "</style>\n",
       "<table border=\"1\" class=\"dataframe\">\n",
       "  <thead>\n",
       "    <tr style=\"text-align: right;\">\n",
       "      <th></th>\n",
       "      <th>user_id</th>\n",
       "      <th>month</th>\n",
       "      <th>calls</th>\n",
       "      <th>minutes</th>\n",
       "      <th>messages</th>\n",
       "      <th>gb_used</th>\n",
       "      <th>city</th>\n",
       "      <th>tariff_name</th>\n",
       "    </tr>\n",
       "  </thead>\n",
       "  <tbody>\n",
       "    <tr>\n",
       "      <th>3214</th>\n",
       "      <td>1128</td>\n",
       "      <td>12</td>\n",
       "      <td>0</td>\n",
       "      <td>0</td>\n",
       "      <td>0</td>\n",
       "      <td>0</td>\n",
       "      <td>Волжский</td>\n",
       "      <td>ultra</td>\n",
       "    </tr>\n",
       "    <tr>\n",
       "      <th>3215</th>\n",
       "      <td>1371</td>\n",
       "      <td>12</td>\n",
       "      <td>0</td>\n",
       "      <td>0</td>\n",
       "      <td>0</td>\n",
       "      <td>0</td>\n",
       "      <td>Омск</td>\n",
       "      <td>smart</td>\n",
       "    </tr>\n",
       "  </tbody>\n",
       "</table>\n",
       "</div>"
      ],
      "text/plain": [
       "      user_id  month  calls  minutes  messages  gb_used      city tariff_name\n",
       "3214     1128     12      0        0         0        0  Волжский       ultra\n",
       "3215     1371     12      0        0         0        0      Омск       smart"
      ]
     },
     "metadata": {},
     "output_type": "display_data"
    }
   ],
   "source": [
    "for user in missing_user:\n",
    "    user_stats.loc[user_stats['user_id'] == user, 'month'] = 12\n",
    "display(user_stats.query('user_id in @missing_user'))"
   ]
  },
  {
   "cell_type": "markdown",
   "metadata": {},
   "source": [
    "Порядок."
   ]
  },
  {
   "cell_type": "markdown",
   "metadata": {},
   "source": [
    "#### Выручка по месяцам"
   ]
  },
  {
   "cell_type": "markdown",
   "metadata": {},
   "source": [
    "Создадим переменную для хранения данных об услугах, использованных сверх лимита и хранения данных о суммах доплат и общей суммы оплаты за месяц. Затем посчитаем объём услуг сверх лимита и прибавим их к абонентской плате за месяц. Особенность алгоритма расчётов подразумевает отрицательные значения выручки. Это будет означать, что сверх лимита услуга не была потреблена. У значит отрицательную доплату нужно превратить в ноль. Для этого напишем функцию с соответствующим условием и применим метод **apply()."
   ]
  },
  {
   "cell_type": "code",
   "execution_count": 17,
   "metadata": {},
   "outputs": [
    {
     "data": {
      "text/html": [
       "<div>\n",
       "<style scoped>\n",
       "    .dataframe tbody tr th:only-of-type {\n",
       "        vertical-align: middle;\n",
       "    }\n",
       "\n",
       "    .dataframe tbody tr th {\n",
       "        vertical-align: top;\n",
       "    }\n",
       "\n",
       "    .dataframe thead th {\n",
       "        text-align: right;\n",
       "    }\n",
       "</style>\n",
       "<table border=\"1\" class=\"dataframe\">\n",
       "  <thead>\n",
       "    <tr style=\"text-align: right;\">\n",
       "      <th></th>\n",
       "      <th>user_id</th>\n",
       "      <th>month</th>\n",
       "      <th>calls</th>\n",
       "      <th>minutes</th>\n",
       "      <th>messages</th>\n",
       "      <th>gb_used</th>\n",
       "      <th>city</th>\n",
       "      <th>tariff_name</th>\n",
       "      <th>rub_monthly_fee</th>\n",
       "    </tr>\n",
       "  </thead>\n",
       "  <tbody>\n",
       "    <tr>\n",
       "      <th>185</th>\n",
       "      <td>1028</td>\n",
       "      <td>12</td>\n",
       "      <td>143</td>\n",
       "      <td>0</td>\n",
       "      <td>0</td>\n",
       "      <td>0.0</td>\n",
       "      <td>Тверь</td>\n",
       "      <td>ultra</td>\n",
       "      <td>1950.0</td>\n",
       "    </tr>\n",
       "    <tr>\n",
       "      <th>1290</th>\n",
       "      <td>1204</td>\n",
       "      <td>3</td>\n",
       "      <td>64</td>\n",
       "      <td>150</td>\n",
       "      <td>0</td>\n",
       "      <td>1400.0</td>\n",
       "      <td>Москва</td>\n",
       "      <td>smart</td>\n",
       "      <td>2100.0</td>\n",
       "    </tr>\n",
       "    <tr>\n",
       "      <th>1671</th>\n",
       "      <td>1268</td>\n",
       "      <td>9</td>\n",
       "      <td>42</td>\n",
       "      <td>0</td>\n",
       "      <td>0</td>\n",
       "      <td>0.0</td>\n",
       "      <td>Москва</td>\n",
       "      <td>smart</td>\n",
       "      <td>550.0</td>\n",
       "    </tr>\n",
       "    <tr>\n",
       "      <th>64</th>\n",
       "      <td>1009</td>\n",
       "      <td>4</td>\n",
       "      <td>39</td>\n",
       "      <td>0</td>\n",
       "      <td>0</td>\n",
       "      <td>0.0</td>\n",
       "      <td>Пермь</td>\n",
       "      <td>smart</td>\n",
       "      <td>550.0</td>\n",
       "    </tr>\n",
       "    <tr>\n",
       "      <th>3210</th>\n",
       "      <td>1489</td>\n",
       "      <td>9</td>\n",
       "      <td>0</td>\n",
       "      <td>0</td>\n",
       "      <td>0</td>\n",
       "      <td>400.0</td>\n",
       "      <td>Санкт-Петербург</td>\n",
       "      <td>smart</td>\n",
       "      <td>950.0</td>\n",
       "    </tr>\n",
       "    <tr>\n",
       "      <th>922</th>\n",
       "      <td>1148</td>\n",
       "      <td>10</td>\n",
       "      <td>108</td>\n",
       "      <td>0</td>\n",
       "      <td>0</td>\n",
       "      <td>300.0</td>\n",
       "      <td>Тольятти</td>\n",
       "      <td>ultra</td>\n",
       "      <td>2250.0</td>\n",
       "    </tr>\n",
       "    <tr>\n",
       "      <th>2576</th>\n",
       "      <td>1405</td>\n",
       "      <td>11</td>\n",
       "      <td>42</td>\n",
       "      <td>0</td>\n",
       "      <td>0</td>\n",
       "      <td>0.0</td>\n",
       "      <td>Набережные Челны</td>\n",
       "      <td>ultra</td>\n",
       "      <td>1950.0</td>\n",
       "    </tr>\n",
       "    <tr>\n",
       "      <th>608</th>\n",
       "      <td>1097</td>\n",
       "      <td>12</td>\n",
       "      <td>80</td>\n",
       "      <td>0</td>\n",
       "      <td>0</td>\n",
       "      <td>0.0</td>\n",
       "      <td>Краснодар</td>\n",
       "      <td>ultra</td>\n",
       "      <td>1950.0</td>\n",
       "    </tr>\n",
       "    <tr>\n",
       "      <th>445</th>\n",
       "      <td>1070</td>\n",
       "      <td>9</td>\n",
       "      <td>61</td>\n",
       "      <td>42</td>\n",
       "      <td>0</td>\n",
       "      <td>0.0</td>\n",
       "      <td>Химки</td>\n",
       "      <td>smart</td>\n",
       "      <td>592.0</td>\n",
       "    </tr>\n",
       "    <tr>\n",
       "      <th>367</th>\n",
       "      <td>1057</td>\n",
       "      <td>10</td>\n",
       "      <td>130</td>\n",
       "      <td>0</td>\n",
       "      <td>0</td>\n",
       "      <td>0.0</td>\n",
       "      <td>Москва</td>\n",
       "      <td>ultra</td>\n",
       "      <td>1950.0</td>\n",
       "    </tr>\n",
       "  </tbody>\n",
       "</table>\n",
       "</div>"
      ],
      "text/plain": [
       "      user_id  month  calls  minutes  messages  gb_used              city  \\\n",
       "185      1028     12    143        0         0      0.0             Тверь   \n",
       "1290     1204      3     64      150         0   1400.0            Москва   \n",
       "1671     1268      9     42        0         0      0.0            Москва   \n",
       "64       1009      4     39        0         0      0.0             Пермь   \n",
       "3210     1489      9      0        0         0    400.0   Санкт-Петербург   \n",
       "922      1148     10    108        0         0    300.0          Тольятти   \n",
       "2576     1405     11     42        0         0      0.0  Набережные Челны   \n",
       "608      1097     12     80        0         0      0.0         Краснодар   \n",
       "445      1070      9     61       42         0      0.0             Химки   \n",
       "367      1057     10    130        0         0      0.0            Москва   \n",
       "\n",
       "     tariff_name  rub_monthly_fee  \n",
       "185        ultra           1950.0  \n",
       "1290       smart           2100.0  \n",
       "1671       smart            550.0  \n",
       "64         smart            550.0  \n",
       "3210       smart            950.0  \n",
       "922        ultra           2250.0  \n",
       "2576       ultra           1950.0  \n",
       "608        ultra           1950.0  \n",
       "445        smart            592.0  \n",
       "367        ultra           1950.0  "
      ]
     },
     "metadata": {},
     "output_type": "display_data"
    }
   ],
   "source": [
    "# пишем функцию\n",
    "def fee(fee):\n",
    "    if fee < 0:\n",
    "        fee = 0\n",
    "    return fee\n",
    "\n",
    "# присоединяем тарифы\n",
    "user_stats_fee = user_stats.merge(tariffs, on='tariff_name', how='left')\n",
    "# считаем сверхлимит по минутам\n",
    "user_stats_fee['minutes'] = (user_stats_fee['minutes'] - user_stats_fee['minutes_included']) * user_stats_fee['rub_per_minute']\n",
    "# отрицательные значения оплат заменяем нулями\n",
    "user_stats_fee['minutes'] = user_stats_fee['minutes'].apply(fee)\n",
    "\n",
    "# аналогично поступаем с сообщениями и гигабайтами\n",
    "user_stats_fee['messages'] = (user_stats_fee['messages'] - user_stats_fee['messages_included']) * user_stats_fee['rub_per_message']\n",
    "user_stats_fee['messages'] = user_stats_fee['messages'].apply(fee)\n",
    "user_stats_fee['gb_used'] = (user_stats_fee['gb_used'] - (user_stats_fee['mb_per_month_included'] / 1024)) * user_stats_fee['rub_per_gb']\n",
    "user_stats_fee['gb_used'] = user_stats_fee['gb_used'].apply(fee)\n",
    "\n",
    "# циклом прибавим доплаты к абонентской плате\n",
    "for column in ['minutes', 'messages', 'gb_used']:\n",
    "    user_stats_fee['rub_monthly_fee'] += user_stats_fee[column]\n",
    "\n",
    "# удалим лишние столбцы, чтобы не загромождать таблицу лишними данными\n",
    "user_stats_fee = user_stats_fee.drop(\n",
    "    columns=['minutes_included', 'messages_included', 'mb_per_month_included', 'rub_per_minute', 'rub_per_message', 'rub_per_gb'])\n",
    "\n",
    "#контроль\n",
    "display(user_stats_fee.sample(10))"
   ]
  },
  {
   "cell_type": "markdown",
   "metadata": {},
   "source": [
    "Порядок. Ручные расчёты для user_id 1110 и 1251 подтверждают правильность результата"
   ]
  },
  {
   "cell_type": "markdown",
   "metadata": {},
   "source": [
    "### Итог предобработки"
   ]
  },
  {
   "cell_type": "markdown",
   "metadata": {},
   "source": [
    "Первичное знакомство с данными показало, что исходная информация предоставлена в отличном состоянии. Исправить пришлось только типы данных по большому счёту.\n",
    "Тем не менее данный в разных таблицах заставили изрядно поработать над расчётами. Интересные выводы можно сделать о том, что за 2018 год наиболее популярная среди пользователей услуга - это интернет. На втором месте звонки, а почётное третье место занимают сообщения. Что в общем-то логично, учитывая обилие интернет-мессенджеров и уровня развития интернет-инфраструктуры вцелом.\n",
    "\n",
    "Чтож, таблицы для анализа готовы - приступаем."
   ]
  },
  {
   "cell_type": "markdown",
   "metadata": {},
   "source": [
    "## Анализ данных"
   ]
  },
  {
   "cell_type": "markdown",
   "metadata": {},
   "source": [
    "Определим среднее, дисперсию, стандартное отклонение количества сообщений, минут разговора и объёма интернет-трафика. Построим  гистограммы для этих величин и опишем распределения для каждого тарифа. Это позволит определить, насколько востребованы услуги по тарифам и как часто на разных тарифах пользователи доплачивают за сверхлимит."
   ]
  },
  {
   "cell_type": "markdown",
   "metadata": {},
   "source": [
    "### Сравнение тарифов по количеству минут разговора"
   ]
  },
  {
   "cell_type": "markdown",
   "metadata": {},
   "source": [
    "Займёмся анализом: метод describe() даст нам море информации, отдельно посчитаем дисперсию соответствующим методом. Хотя зачем она в данном случае - непонятно. Метод выше даст нам всё необходимое, а гистограмма позволит визуально подтвердить выводы."
   ]
  },
  {
   "cell_type": "markdown",
   "metadata": {},
   "source": [
    "Для удобства сравнения поместим результаты применения метода describe по обоим тарифам в одну таблицу."
   ]
  },
  {
   "cell_type": "code",
   "execution_count": 18,
   "metadata": {},
   "outputs": [
    {
     "data": {
      "text/html": [
       "<div>\n",
       "<style scoped>\n",
       "    .dataframe tbody tr th:only-of-type {\n",
       "        vertical-align: middle;\n",
       "    }\n",
       "\n",
       "    .dataframe tbody tr th {\n",
       "        vertical-align: top;\n",
       "    }\n",
       "\n",
       "    .dataframe thead tr th {\n",
       "        text-align: left;\n",
       "    }\n",
       "\n",
       "    .dataframe thead tr:last-of-type th {\n",
       "        text-align: right;\n",
       "    }\n",
       "</style>\n",
       "<table border=\"1\" class=\"dataframe\">\n",
       "  <thead>\n",
       "    <tr>\n",
       "      <th></th>\n",
       "      <th colspan=\"8\" halign=\"left\">minutes</th>\n",
       "    </tr>\n",
       "    <tr>\n",
       "      <th></th>\n",
       "      <th colspan=\"8\" halign=\"left\">describe</th>\n",
       "    </tr>\n",
       "    <tr>\n",
       "      <th></th>\n",
       "      <th>count</th>\n",
       "      <th>mean</th>\n",
       "      <th>std</th>\n",
       "      <th>min</th>\n",
       "      <th>25%</th>\n",
       "      <th>50%</th>\n",
       "      <th>75%</th>\n",
       "      <th>max</th>\n",
       "    </tr>\n",
       "    <tr>\n",
       "      <th>tariff_name</th>\n",
       "      <th></th>\n",
       "      <th></th>\n",
       "      <th></th>\n",
       "      <th></th>\n",
       "      <th></th>\n",
       "      <th></th>\n",
       "      <th></th>\n",
       "      <th></th>\n",
       "    </tr>\n",
       "  </thead>\n",
       "  <tbody>\n",
       "    <tr>\n",
       "      <th>smart</th>\n",
       "      <td>2230.0</td>\n",
       "      <td>417.75</td>\n",
       "      <td>190.48</td>\n",
       "      <td>0.0</td>\n",
       "      <td>282.0</td>\n",
       "      <td>421.5</td>\n",
       "      <td>545.00</td>\n",
       "      <td>1435.0</td>\n",
       "    </tr>\n",
       "    <tr>\n",
       "      <th>ultra</th>\n",
       "      <td>986.0</td>\n",
       "      <td>526.09</td>\n",
       "      <td>317.89</td>\n",
       "      <td>0.0</td>\n",
       "      <td>282.5</td>\n",
       "      <td>518.0</td>\n",
       "      <td>751.75</td>\n",
       "      <td>1673.0</td>\n",
       "    </tr>\n",
       "  </tbody>\n",
       "</table>\n",
       "</div>"
      ],
      "text/plain": [
       "             minutes                                                   \n",
       "            describe                                                   \n",
       "               count    mean     std  min    25%    50%     75%     max\n",
       "tariff_name                                                            \n",
       "smart         2230.0  417.75  190.48  0.0  282.0  421.5  545.00  1435.0\n",
       "ultra          986.0  526.09  317.89  0.0  282.5  518.0  751.75  1673.0"
      ]
     },
     "metadata": {},
     "output_type": "display_data"
    },
    {
     "name": "stdout",
     "output_type": "stream",
     "text": [
      "Дисперсия по количеству минут в месяц на тарифе \"Смарт\": 36281.39\n",
      "Дисперсия по количеству минут в месяц на тарифе \"Ультра\": 101052.49\n"
     ]
    }
   ],
   "source": [
    "agg_func_describe = {'minutes': ['describe']}\n",
    "display(user_stats.groupby(['tariff_name']).agg(agg_func_describe).round(2))\n",
    "\n",
    "minutes_smart_var = user_stats.query('tariff_name == \"smart\"')['minutes'].var().round(2)\n",
    "minutes_ultra_var = user_stats.query('tariff_name == \"ultra\"')['minutes'].var().round(2)\n",
    "print(f'Дисперсия по количеству минут в месяц на тарифе \"Смарт\": {minutes_smart_var}')\n",
    "print(f'Дисперсия по количеству минут в месяц на тарифе \"Ультра\": {minutes_ultra_var}')"
   ]
  },
  {
   "cell_type": "markdown",
   "metadata": {},
   "source": [
    "- Мы видим 2230 месяцев использования абонентами тарифа \"Смарт\" - это в два с лишним раза больше, чем месяцев использования абонентами тарифа \"Ультра\".\n",
    "- Стандартное отклонение в **190 минут** тарифа \"Смарт\" относительно среднего значения в **418 минут** меньше, чем старндартное отклонение в **318 минут** на тарифе \"Ультра\" относительно среднего значения в **526 минут** значит значения количества минут разговора в месяц на тарифе \"Смарт\" расположены плотнее. \n",
    "- Оба распределения близки к нормальному, что показывает близость среднего к медиане.\n",
    "\n",
    "Относительно скошенности распределений будем делать выводы по гистограммам. Построим обе гистограммы на одной рабочей области для сравнения распределений:"
   ]
  },
  {
   "cell_type": "code",
   "execution_count": 19,
   "metadata": {},
   "outputs": [
    {
     "data": {
      "text/plain": [
       "<matplotlib.legend.Legend at 0x7f944d0db1f0>"
      ]
     },
     "execution_count": 19,
     "metadata": {},
     "output_type": "execute_result"
    },
    {
     "data": {
      "image/png": "[encoded data removed]",
      "text/plain": [
       "<Figure size 720x432 with 1 Axes>"
      ]
     },
     "metadata": {
      "needs_background": "light"
     },
     "output_type": "display_data"
    }
   ],
   "source": [
    "plt.figure(figsize=(10, 6))\n",
    "user_stats.query('tariff_name == \"smart\"')['minutes'].plot(\n",
    "    kind='hist',\n",
    "    label='smart',\n",
    "    bins=24)\n",
    "user_stats.query('tariff_name == \"ultra\"')['minutes'].plot(\n",
    "    kind='hist',\n",
    "    label='ultra',\n",
    "    alpha=0.5,\n",
    "    bins=32)\n",
    "\n",
    "plt.title('Распределения тарифов по минутам')\n",
    "plt.xlabel('Количество минут в месяц')\n",
    "plt.ylabel('Количество значений')\n",
    "plt.legend()"
   ]
  },
  {
   "cell_type": "markdown",
   "metadata": {},
   "source": [
    "Обе гистограммы скошены влево. На тарифе \"Ультра\" скошенность более выраженная, несмотря на большее среднее значение в **526 минут** по сравнению с медианным в **518 минут**. Гистограмма поясняет почему: значимое количество месяцев на тарифе \"Ульра\" имеют в активе более 1000 минут разговора. А как мы знаем, среднее чувствительно к большим значениям. Также видим всплеск в районе нулевых значений, что означает большое количество \"нулевых\" по минутам месяцев на тарифе \"Ультра\".\n",
    "\n",
    "Таким образом на обоих тарифах пользователи предпочитают говорить меньше среднего значения. Особенно на тарифе \"Ультра\""
   ]
  },
  {
   "cell_type": "markdown",
   "metadata": {},
   "source": [
    "#### Итоги сравнения по количеству минут разговора"
   ]
  },
  {
   "cell_type": "markdown",
   "metadata": {},
   "source": [
    "- В среднем пользователи \"Ультра\" говорят больше на 108 минут, чем пользователи на тарифе \"Смарт\".\n",
    "- На тарифе \"Ультра\" пользователи в среднем очень далеки от того, чтобы \"выговорить\" пакет включенных минут **(526 из 3000)**, в отличие от пользователей \"Смарт\". В среднем они близки к регулярному исчерпанию минут, включенных в абонентскую плату **(418 из 500)** и наверняка часто используют больше.\n",
    "- Среднее время разговора пользователей в месяц на \"Ультра\" более разбросано относительно общего среднего: стандартное отклонение **318** при среднем **526**. Для сравнения тариф \"Смарт\": стандартное отклонение **190** при среднем **418**\n",
    "- На обоих тарифах большее количество пользователей предпочитает говорить меньше среднего."
   ]
  },
  {
   "cell_type": "markdown",
   "metadata": {},
   "source": [
    "### Сравнение тарифов по количеству сообщений"
   ]
  },
  {
   "cell_type": "code",
   "execution_count": 20,
   "metadata": {},
   "outputs": [
    {
     "data": {
      "text/html": [
       "<div>\n",
       "<style scoped>\n",
       "    .dataframe tbody tr th:only-of-type {\n",
       "        vertical-align: middle;\n",
       "    }\n",
       "\n",
       "    .dataframe tbody tr th {\n",
       "        vertical-align: top;\n",
       "    }\n",
       "\n",
       "    .dataframe thead tr th {\n",
       "        text-align: left;\n",
       "    }\n",
       "\n",
       "    .dataframe thead tr:last-of-type th {\n",
       "        text-align: right;\n",
       "    }\n",
       "</style>\n",
       "<table border=\"1\" class=\"dataframe\">\n",
       "  <thead>\n",
       "    <tr>\n",
       "      <th></th>\n",
       "      <th colspan=\"8\" halign=\"left\">messages</th>\n",
       "    </tr>\n",
       "    <tr>\n",
       "      <th></th>\n",
       "      <th colspan=\"8\" halign=\"left\">describe</th>\n",
       "    </tr>\n",
       "    <tr>\n",
       "      <th></th>\n",
       "      <th>count</th>\n",
       "      <th>mean</th>\n",
       "      <th>std</th>\n",
       "      <th>min</th>\n",
       "      <th>25%</th>\n",
       "      <th>50%</th>\n",
       "      <th>75%</th>\n",
       "      <th>max</th>\n",
       "    </tr>\n",
       "    <tr>\n",
       "      <th>tariff_name</th>\n",
       "      <th></th>\n",
       "      <th></th>\n",
       "      <th></th>\n",
       "      <th></th>\n",
       "      <th></th>\n",
       "      <th></th>\n",
       "      <th></th>\n",
       "      <th></th>\n",
       "    </tr>\n",
       "  </thead>\n",
       "  <tbody>\n",
       "    <tr>\n",
       "      <th>smart</th>\n",
       "      <td>2230.0</td>\n",
       "      <td>33.37</td>\n",
       "      <td>28.23</td>\n",
       "      <td>0.0</td>\n",
       "      <td>10.0</td>\n",
       "      <td>28.0</td>\n",
       "      <td>51.00</td>\n",
       "      <td>143.0</td>\n",
       "    </tr>\n",
       "    <tr>\n",
       "      <th>ultra</th>\n",
       "      <td>986.0</td>\n",
       "      <td>49.31</td>\n",
       "      <td>47.81</td>\n",
       "      <td>0.0</td>\n",
       "      <td>6.0</td>\n",
       "      <td>38.0</td>\n",
       "      <td>78.75</td>\n",
       "      <td>224.0</td>\n",
       "    </tr>\n",
       "  </tbody>\n",
       "</table>\n",
       "</div>"
      ],
      "text/plain": [
       "            messages                                             \n",
       "            describe                                             \n",
       "               count   mean    std  min   25%   50%    75%    max\n",
       "tariff_name                                                      \n",
       "smart         2230.0  33.37  28.23  0.0  10.0  28.0  51.00  143.0\n",
       "ultra          986.0  49.31  47.81  0.0   6.0  38.0  78.75  224.0"
      ]
     },
     "metadata": {},
     "output_type": "display_data"
    },
    {
     "name": "stdout",
     "output_type": "stream",
     "text": [
      "Дисперсия по количеству сообщений в месяц на тарифе \"Смарт\": 796.96\n",
      "Дисперсия по количеству сообщений в месяц на тарифе \"Ультра\": 2285.42\n"
     ]
    }
   ],
   "source": [
    "agg_func_describe = {'messages': ['describe']}\n",
    "display(user_stats.groupby(['tariff_name']).agg(agg_func_describe).round(2))\n",
    "\n",
    "messages_smart_var = user_stats.query('tariff_name == \"smart\"')['messages'].var().round(2)\n",
    "messages_ultra_var = user_stats.query('tariff_name == \"ultra\"')['messages'].var().round(2)\n",
    "print(f'Дисперсия по количеству сообщений в месяц на тарифе \"Смарт\": {messages_smart_var}')\n",
    "print(f'Дисперсия по количеству сообщений в месяц на тарифе \"Ультра\": {messages_ultra_var}')"
   ]
  },
  {
   "cell_type": "markdown",
   "metadata": {},
   "source": [
    "- Среднее количество сообщений: \"Смарт\" - 33; \"Ультра\" - 49. \n",
    "- Стандартное отклонение: \"Смарт\" - 28; \"Ультра\" - 47. По степени разброса количества сообщений относительно среднего на обоих тарифах сопоставимое. \n",
    "\n",
    "Взглянем на гистограммы:"
   ]
  },
  {
   "cell_type": "code",
   "execution_count": 21,
   "metadata": {},
   "outputs": [
    {
     "data": {
      "text/plain": [
       "<matplotlib.legend.Legend at 0x7f944cf96c10>"
      ]
     },
     "execution_count": 21,
     "metadata": {},
     "output_type": "execute_result"
    },
    {
     "data": {
      "image/png": "[encoded data removed]",
      "text/plain": [
       "<Figure size 720x432 with 1 Axes>"
      ]
     },
     "metadata": {
      "needs_background": "light"
     },
     "output_type": "display_data"
    }
   ],
   "source": [
    "plt.figure(figsize=(10, 6))\n",
    "user_stats.query('tariff_name == \"smart\"')['messages'].plot(\n",
    "    kind='hist',\n",
    "    label='smart',\n",
    "    bins=14)\n",
    "user_stats.query('tariff_name == \"ultra\"')['messages'].plot(\n",
    "    kind='hist',\n",
    "    label='ultra',\n",
    "    alpha=0.5,\n",
    "    bins=22)\n",
    "\n",
    "plt.title('Распределения тарифов по количеству сообщений')\n",
    "plt.xlabel('Количество сообщений в месяц')\n",
    "plt.ylabel('Количество значений')\n",
    "plt.legend()"
   ]
  },
  {
   "cell_type": "markdown",
   "metadata": {},
   "source": [
    "Гистограммы похожи на нормальное распределение сдвинутое влево. Подавляющее большинство пользователей отправляют ежемесячно 100 сообщений и меньше. Ярковыраженный пик в районе нулевых значений на обоих тарифах - услуга непопулярна. Особенно на тарифе \"Ультра\""
   ]
  },
  {
   "cell_type": "markdown",
   "metadata": {},
   "source": [
    "#### Сравнение тарифов по количеству сообщений"
   ]
  },
  {
   "cell_type": "markdown",
   "metadata": {},
   "source": [
    "- В среднем больше сообщений отправляется пользователями тарифа \"Ультра\" **(49 против 33 на \"Смарт\")**. Но если на \"Ультра\" ни разу за год не превышли предоставленный лимит в 1000 сообщений, то на \"Смарт\" достаточно часто больше 50 смс отправляется. Это подтверждает гистограмма.\n",
    "- Данные в одинаковой степени разбросаны от среднего, а гистограммы сдвинуты влево с пиком в районе нулевых значений. Услуга непопулярна, особенно на тарифе \"Ультра\""
   ]
  },
  {
   "cell_type": "markdown",
   "metadata": {},
   "source": [
    "### Сравнение тарифов по объёму интернет-трафика"
   ]
  },
  {
   "cell_type": "code",
   "execution_count": 22,
   "metadata": {},
   "outputs": [
    {
     "data": {
      "text/html": [
       "<div>\n",
       "<style scoped>\n",
       "    .dataframe tbody tr th:only-of-type {\n",
       "        vertical-align: middle;\n",
       "    }\n",
       "\n",
       "    .dataframe tbody tr th {\n",
       "        vertical-align: top;\n",
       "    }\n",
       "\n",
       "    .dataframe thead tr th {\n",
       "        text-align: left;\n",
       "    }\n",
       "\n",
       "    .dataframe thead tr:last-of-type th {\n",
       "        text-align: right;\n",
       "    }\n",
       "</style>\n",
       "<table border=\"1\" class=\"dataframe\">\n",
       "  <thead>\n",
       "    <tr>\n",
       "      <th></th>\n",
       "      <th colspan=\"8\" halign=\"left\">gb_used</th>\n",
       "    </tr>\n",
       "    <tr>\n",
       "      <th></th>\n",
       "      <th colspan=\"8\" halign=\"left\">describe</th>\n",
       "    </tr>\n",
       "    <tr>\n",
       "      <th></th>\n",
       "      <th>count</th>\n",
       "      <th>mean</th>\n",
       "      <th>std</th>\n",
       "      <th>min</th>\n",
       "      <th>25%</th>\n",
       "      <th>50%</th>\n",
       "      <th>75%</th>\n",
       "      <th>max</th>\n",
       "    </tr>\n",
       "    <tr>\n",
       "      <th>tariff_name</th>\n",
       "      <th></th>\n",
       "      <th></th>\n",
       "      <th></th>\n",
       "      <th></th>\n",
       "      <th></th>\n",
       "      <th></th>\n",
       "      <th></th>\n",
       "      <th></th>\n",
       "    </tr>\n",
       "  </thead>\n",
       "  <tbody>\n",
       "    <tr>\n",
       "      <th>smart</th>\n",
       "      <td>2230.0</td>\n",
       "      <td>16.32</td>\n",
       "      <td>5.76</td>\n",
       "      <td>0.0</td>\n",
       "      <td>13.0</td>\n",
       "      <td>17.0</td>\n",
       "      <td>20.0</td>\n",
       "      <td>38.0</td>\n",
       "    </tr>\n",
       "    <tr>\n",
       "      <th>ultra</th>\n",
       "      <td>986.0</td>\n",
       "      <td>19.47</td>\n",
       "      <td>9.87</td>\n",
       "      <td>0.0</td>\n",
       "      <td>12.0</td>\n",
       "      <td>19.0</td>\n",
       "      <td>27.0</td>\n",
       "      <td>49.0</td>\n",
       "    </tr>\n",
       "  </tbody>\n",
       "</table>\n",
       "</div>"
      ],
      "text/plain": [
       "             gb_used                                          \n",
       "            describe                                          \n",
       "               count   mean   std  min   25%   50%   75%   max\n",
       "tariff_name                                                   \n",
       "smart         2230.0  16.32  5.76  0.0  13.0  17.0  20.0  38.0\n",
       "ultra          986.0  19.47  9.87  0.0  12.0  19.0  27.0  49.0"
      ]
     },
     "metadata": {},
     "output_type": "display_data"
    },
    {
     "name": "stdout",
     "output_type": "stream",
     "text": [
      "Дисперсия по количеству Гб интернета в месяц на тарифе \"Смарт\": 33.13\n",
      "Дисперсия по количеству Гб интернета в месяц на тарифе \"Ультра\": 97.38\n"
     ]
    }
   ],
   "source": [
    "agg_func_describe = {'gb_used': ['describe']}\n",
    "display(user_stats.groupby(['tariff_name']).agg(agg_func_describe).round(2))\n",
    "\n",
    "gb_used_smart_var = user_stats.query('tariff_name == \"smart\"')['gb_used'].var().round(2)\n",
    "gb_used_ultra_var = user_stats.query('tariff_name == \"ultra\"')['gb_used'].var().round(2)\n",
    "print(f'Дисперсия по количеству Гб интернета в месяц на тарифе \"Смарт\": {gb_used_smart_var}')\n",
    "print(f'Дисперсия по количеству Гб интернета в месяц на тарифе \"Ультра\": {gb_used_ultra_var}')"
   ]
  },
  {
   "cell_type": "markdown",
   "metadata": {},
   "source": [
    "- Среднее на тарифе \"Смарт\" - **16 Гб**. Это выше предоставленного **лимита в 15 Гб**. Это означает, что лимит превышается чаще, чем не превышается, а значит чаще доплачивают сверх тарифа.\n",
    "- Среднее на тарифе \"Ультра\" - **19 Гб**. Это прилично меньше предоставленного **лимита в 30 Гб**.\n",
    "- Стандартное отклонение на \"Смарт\" небольшое - **6 Гб** (примерно треть от среднего). А вот на \"Ультра\" - **10 Гб** (больше половины от среднего). То есть разброс значений на более дорогом тарифе бОльший.\n",
    "\n",
    "Взглянем на гистограммы:"
   ]
  },
  {
   "cell_type": "code",
   "execution_count": 23,
   "metadata": {},
   "outputs": [
    {
     "data": {
      "text/plain": [
       "<matplotlib.legend.Legend at 0x7f944cf4beb0>"
      ]
     },
     "execution_count": 23,
     "metadata": {},
     "output_type": "execute_result"
    },
    {
     "data": {
      "image/png": "[encoded data removed]",
      "text/plain": [
       "<Figure size 720x432 with 1 Axes>"
      ]
     },
     "metadata": {
      "needs_background": "light"
     },
     "output_type": "display_data"
    }
   ],
   "source": [
    "plt.figure(figsize=(10, 6))\n",
    "user_stats.query('tariff_name == \"smart\"')['gb_used'].plot(\n",
    "    kind='hist',\n",
    "    label='smart',\n",
    "    bins=19)\n",
    "user_stats.query('tariff_name == \"ultra\"')['gb_used'].plot(\n",
    "    kind='hist',\n",
    "    label='ultra',\n",
    "    alpha=0.5,\n",
    "    bins=25)\n",
    "\n",
    "plt.title('Распределения тарифов по количеству Гб интернета')\n",
    "plt.xlabel('Количество Гб в месяц')\n",
    "plt.ylabel('Количество значений')\n",
    "plt.legend()"
   ]
  },
  {
   "cell_type": "markdown",
   "metadata": {},
   "source": [
    "- Гистограммы похожи на нормальные распределения.\n",
    "- Гистограмма по тарифу \"Смарт\" чуть скошена вправо. Большее количество месяцев включают в себя оплату за доп. мегабайты.\n",
    "- Гистограмма по тарифу \"Ультра\" скошена влево. Большее количество месяцев **не** включают в себя оплату за доп. мегабайты. Кроме того, наблюдается всплеск прямо перед значением лимита в 30 Гб. Значит на \"Ультра\" стараются лимит не превышать."
   ]
  },
  {
   "cell_type": "markdown",
   "metadata": {},
   "source": [
    "#### Итоги сравнения тарифов по объёму интернет-трафика"
   ]
  },
  {
   "cell_type": "markdown",
   "metadata": {},
   "source": [
    "- Пользователи тарифа \"Смарт\" в среднем меньше пользуются интернетом (16 Гб против 19 Гб на \"Смарт), но гораздо чаще вылазят за рамки оплаченного пакета и платят дополнительно.\n",
    "- Пользователи обоих тарифов стремятся остаться в пределах предоставленного пакета гигабайт. Правда на \"Смарте\" не очень получается - об этом говорит среднее больше лимита в 15 Гб. Пользователи же \"Ультра\" гораздо реже вылезают за пределы лимита."
   ]
  },
  {
   "cell_type": "markdown",
   "metadata": {},
   "source": [
    "### Общие итоги анализа"
   ]
  },
  {
   "cell_type": "markdown",
   "metadata": {},
   "source": [
    "- Мы видим, что наиболее популярная услуга - интернет. Наименее полпулярная - смс.\n",
    "- Пользователи \"Ультра\" используют на 108 минут разговора больше, на 16 сообщений больше и на 3 гигабайта интернет-трафика больше, но редко исчерпывают предоставленные лимиты\n",
    "- Пользователи обоих тарифов следят за соблюдением лимитов, но пользователи \"Смарт\" чаще вылазят за предоставленные лимиты и гораздо чаще доплачивают сверх абонентской платы. Особенно за интернет."
   ]
  },
  {
   "cell_type": "markdown",
   "metadata": {},
   "source": [
    "## Проверка гипотез"
   ]
  },
  {
   "cell_type": "markdown",
   "metadata": {},
   "source": [
    "### Выручка пользователей \"Ультра\" и \"Смарт\""
   ]
  },
  {
   "cell_type": "markdown",
   "metadata": {},
   "source": [
    "Сформулируем нулевую гипотезу (она должна подразумевать некое равенство):\n",
    "**Средняя выручка от пользователей тарифа \"Ультра\" равна средней выручке от пользователей тарифа \"Смарт\"**.\n",
    "\n",
    "Проверим её и другие гипотезы с помощью st.ttest_ind, т.к. будем сравнивать выборочные средние двух независимых выборок:"
   ]
  },
  {
   "cell_type": "code",
   "execution_count": 24,
   "metadata": {},
   "outputs": [
    {
     "name": "stdout",
     "output_type": "stream",
     "text": [
      "p-значение: 8.081909555489933e-161\n",
      "Отвергаем предположение, что средние выручки тарифов равны\n"
     ]
    }
   ],
   "source": [
    "# Формируем выборки по тарифам\n",
    "fee_ultra = user_stats_fee.query('tariff_name == \"ultra\"')['rub_monthly_fee']\n",
    "fee_smart = user_stats_fee.query('tariff_name == \"smart\"')['rub_monthly_fee']\n",
    "\n",
    "\n",
    "alpha = .01 # критический уровень статистической значимости в один процент для точности\n",
    "            \n",
    "\n",
    "results = st.ttest_ind(\n",
    "    fee_smart, \n",
    "    fee_ultra)\n",
    "\n",
    "print('p-значение:', results.pvalue)\n",
    "\n",
    "if results.pvalue < alpha:\n",
    "    print(\"Отвергаем предположение, что средние выручки тарифов равны\")\n",
    "else:\n",
    "    print(\"Вполне вероятно, что средние выручки тарифов равны\")"
   ]
  },
  {
   "cell_type": "markdown",
   "metadata": {},
   "source": [
    "Нулевая гипотеза опровергнута. Проверим одностороннюю альтернативную гипотезу, чтобы определить, какой тариф лучше для оператора:\n",
    "**Средняя выручка от пользователя тарифа \"Смарт\" меньше выручки от пользователя тарифа \"Ультра\"**"
   ]
  },
  {
   "cell_type": "code",
   "execution_count": 25,
   "metadata": {},
   "outputs": [
    {
     "name": "stdout",
     "output_type": "stream",
     "text": [
      "p-значение: 4.0409547777449665e-161\n",
      "Выручка по тарифу \"Смарт\" значимо меньше выручки по тарифу \"Ультра\"\n"
     ]
    }
   ],
   "source": [
    "results = st.ttest_ind(\n",
    "    fee_smart, \n",
    "    fee_ultra)\n",
    "\n",
    "print('p-значение:', results.pvalue / 2) #уменьшаем p-значение в 2 раза т.к. альтернаивная гипотеза односторонняя\n",
    "\n",
    "# кроме сравнения р-значения с уровнем статистической значимости сравниваем средние по выборкам\n",
    "if (results.pvalue / 2 < alpha) and (fee_smart.mean() < fee_ultra.mean()):\n",
    "    print('Выручка по тарифу \"Смарт\" значимо меньше выручки по тарифу \"Ультра\"')\n",
    "else:\n",
    "    print(\"Вполне вероятно, что средние выручки тарифов равны\")"
   ]
  },
  {
   "cell_type": "markdown",
   "metadata": {},
   "source": [
    "По выручке тариф \"Ультра\" лучше \"Смарта\""
   ]
  },
  {
   "cell_type": "markdown",
   "metadata": {},
   "source": [
    "### Выручка пользователей из Москвы и других регионов"
   ]
  },
  {
   "cell_type": "markdown",
   "metadata": {},
   "source": [
    "Сформулируем нулевую гипотезу: **средняя выручка пользователей из Москвы равна средней выручке пользователей из других регионов.**"
   ]
  },
  {
   "cell_type": "code",
   "execution_count": 26,
   "metadata": {},
   "outputs": [
    {
     "name": "stdout",
     "output_type": "stream",
     "text": [
      "p-значение: 0.5400751614511182\n",
      "Вполне вероятно, что средние выручки в Москве и регионах равны\n"
     ]
    }
   ],
   "source": [
    "# формируем выборки по Москве и регионам\n",
    "fee_moscow = user_stats_fee.query('city == \"Москва\"')['rub_monthly_fee']\n",
    "fee_region = user_stats_fee.query('city != \"Москва\"')['rub_monthly_fee']\n",
    "\n",
    "alpha = .01 # точность наше всё            \n",
    "\n",
    "results = st.ttest_ind(\n",
    "    fee_moscow, \n",
    "    fee_region)\n",
    "\n",
    "print('p-значение:', results.pvalue)\n",
    "\n",
    "if results.pvalue < alpha:\n",
    "    print(\"Отвергаем предположение, что средняя выручка по Москве равна средней выручке в регионах\")\n",
    "else:\n",
    "    print(\"Вполне вероятно, что средние выручки в Москве и регионах равны\")"
   ]
  },
  {
   "cell_type": "markdown",
   "metadata": {},
   "source": [
    "Отвергнуть нулевую гипотезу мы не можем."
   ]
  },
  {
   "cell_type": "markdown",
   "metadata": {},
   "source": [
    "## Общий вывод"
   ]
  },
  {
   "cell_type": "markdown",
   "metadata": {},
   "source": [
    "Первичное знакомство с данными показало, что исходная информация предоставлена в отличном состоянии. Исправить пришлось только типы данных по большому счёту. Тем не менее данные в разных таблицах заставили изрядно поработать над расчётами. \n",
    "\n",
    "**Анализ показал:**\n",
    "- наиболее популярная услуга - интернет.\n",
    "- в среднем пользователи \"Ультра\" используют на 108 минут разговора больше, на 16 сообщений больше и на 3 гигабайта интернет-трафика больше, но редко исчерпывают предоставленные лимиты\n",
    "- пользователи \"Смарт\" чаще вылазят за предоставленные лимиты и гораздо чаще доплачивают сверх абонентской платы. Особенно за интернет.\n",
    "\n",
    "**Проверка гипотез дала следующие результаты:**\n",
    "- средняя выручка пользователей тарифов «Ультра» и «Смарт» различаются - **подтверждена**.\n",
    "- средняя выручка пользователей тарифа «Смарт» меньше, чем «Ультра» - **подтверждена**.\n",
    "- средняя выручка пользователей из Москвы отличается от выручки пользователей из других регионов - **опровергнута**\n",
    "\n",
    "Таким образом, **лучший тариф \"Ультра\"**, но вцелом по РФ среднемесячная выручка от \"Смарт\" сопоставима с \"Ультра\" и в связке эти тарифы добавляют стабильности прибылей. Отказываться от \"умных\" не стоит.\n",
    "Значит, логично скорректировать рекламный бюджет в сторону размещения предложений тарифа \"Ультра\" по РФ."
   ]
  }
 ],
 "metadata": {
  "ExecuteTimeLog": [
   {
    "duration": 3,
    "start_time": "2022-06-01T19:32:20.465Z"
   },
   {
    "duration": 158,
    "start_time": "2022-06-01T19:33:23.334Z"
   },
   {
    "duration": 151,
    "start_time": "2022-06-01T19:33:41.187Z"
   },
   {
    "duration": 77,
    "start_time": "2022-06-01T19:34:23.987Z"
   },
   {
    "duration": 40,
    "start_time": "2022-06-01T19:34:59.343Z"
   },
   {
    "duration": 759,
    "start_time": "2022-06-01T19:36:55.023Z"
   },
   {
    "duration": 374,
    "start_time": "2022-06-01T19:38:23.602Z"
   },
   {
    "duration": 358,
    "start_time": "2022-06-01T19:40:03.776Z"
   },
   {
    "duration": 7,
    "start_time": "2022-06-01T19:41:58.322Z"
   },
   {
    "duration": 6,
    "start_time": "2022-06-01T19:42:08.796Z"
   },
   {
    "duration": 14,
    "start_time": "2022-06-01T19:43:23.372Z"
   },
   {
    "duration": 11,
    "start_time": "2022-06-01T19:43:52.785Z"
   },
   {
    "duration": 8,
    "start_time": "2022-06-01T19:44:30.087Z"
   },
   {
    "duration": 249,
    "start_time": "2022-06-01T19:45:04.424Z"
   },
   {
    "duration": 5,
    "start_time": "2022-06-01T19:45:11.733Z"
   },
   {
    "duration": 16,
    "start_time": "2022-06-01T19:52:25.292Z"
   },
   {
    "duration": 12,
    "start_time": "2022-06-01T19:52:49.230Z"
   },
   {
    "duration": 41,
    "start_time": "2022-06-01T19:53:49.865Z"
   },
   {
    "duration": 28,
    "start_time": "2022-06-01T19:55:06.830Z"
   },
   {
    "duration": 20,
    "start_time": "2022-06-01T19:56:11.039Z"
   },
   {
    "duration": 52,
    "start_time": "2022-06-02T03:55:04.027Z"
   },
   {
    "duration": 47,
    "start_time": "2022-06-02T03:55:18.286Z"
   },
   {
    "duration": 625,
    "start_time": "2022-06-02T03:55:48.863Z"
   },
   {
    "duration": 853,
    "start_time": "2022-06-02T03:55:49.491Z"
   },
   {
    "duration": 15,
    "start_time": "2022-06-02T03:55:50.346Z"
   },
   {
    "duration": 28,
    "start_time": "2022-06-02T03:55:50.363Z"
   },
   {
    "duration": 24,
    "start_time": "2022-06-02T03:55:50.392Z"
   },
   {
    "duration": 21,
    "start_time": "2022-06-02T03:55:50.417Z"
   },
   {
    "duration": 4,
    "start_time": "2022-06-02T03:55:50.440Z"
   },
   {
    "duration": 28,
    "start_time": "2022-06-02T03:55:54.634Z"
   },
   {
    "duration": 47,
    "start_time": "2022-06-02T03:59:08.931Z"
   },
   {
    "duration": 258,
    "start_time": "2022-06-02T04:02:23.074Z"
   },
   {
    "duration": 44,
    "start_time": "2022-06-02T04:02:42.426Z"
   },
   {
    "duration": 60,
    "start_time": "2022-06-02T04:03:49.513Z"
   },
   {
    "duration": 57,
    "start_time": "2022-06-02T04:04:18.089Z"
   },
   {
    "duration": 52,
    "start_time": "2022-06-02T04:06:06.071Z"
   },
   {
    "duration": 6,
    "start_time": "2022-06-02T04:15:59.380Z"
   },
   {
    "duration": 50,
    "start_time": "2022-06-02T05:00:00.120Z"
   },
   {
    "duration": 110,
    "start_time": "2022-06-02T05:00:21.539Z"
   },
   {
    "duration": 139,
    "start_time": "2022-06-02T05:00:28.570Z"
   },
   {
    "duration": 2,
    "start_time": "2022-06-02T05:01:03.438Z"
   },
   {
    "duration": 366,
    "start_time": "2022-06-02T05:01:03.442Z"
   },
   {
    "duration": 11,
    "start_time": "2022-06-02T05:01:03.810Z"
   },
   {
    "duration": 29,
    "start_time": "2022-06-02T05:01:03.823Z"
   },
   {
    "duration": 23,
    "start_time": "2022-06-02T05:01:03.854Z"
   },
   {
    "duration": 22,
    "start_time": "2022-06-02T05:01:03.891Z"
   },
   {
    "duration": 5,
    "start_time": "2022-06-02T05:01:03.915Z"
   },
   {
    "duration": 98,
    "start_time": "2022-06-02T05:01:03.921Z"
   },
   {
    "duration": 3,
    "start_time": "2022-06-02T05:01:04.021Z"
   },
   {
    "duration": 75,
    "start_time": "2022-06-02T05:01:37.199Z"
   },
   {
    "duration": 3,
    "start_time": "2022-06-02T05:03:25.082Z"
   },
   {
    "duration": 392,
    "start_time": "2022-06-02T05:03:25.087Z"
   },
   {
    "duration": 12,
    "start_time": "2022-06-02T05:03:25.481Z"
   },
   {
    "duration": 34,
    "start_time": "2022-06-02T05:03:25.495Z"
   },
   {
    "duration": 23,
    "start_time": "2022-06-02T05:03:25.530Z"
   },
   {
    "duration": 38,
    "start_time": "2022-06-02T05:03:25.554Z"
   },
   {
    "duration": 5,
    "start_time": "2022-06-02T05:03:25.593Z"
   },
   {
    "duration": 77,
    "start_time": "2022-06-02T05:03:25.599Z"
   },
   {
    "duration": 3,
    "start_time": "2022-06-02T05:03:25.692Z"
   },
   {
    "duration": 7,
    "start_time": "2022-06-02T05:06:12.961Z"
   },
   {
    "duration": 3,
    "start_time": "2022-06-02T05:06:23.766Z"
   },
   {
    "duration": 394,
    "start_time": "2022-06-02T05:06:23.771Z"
   },
   {
    "duration": 15,
    "start_time": "2022-06-02T05:06:24.167Z"
   },
   {
    "duration": 34,
    "start_time": "2022-06-02T05:06:24.183Z"
   },
   {
    "duration": 26,
    "start_time": "2022-06-02T05:06:24.218Z"
   },
   {
    "duration": 21,
    "start_time": "2022-06-02T05:06:24.245Z"
   },
   {
    "duration": 25,
    "start_time": "2022-06-02T05:06:24.268Z"
   },
   {
    "duration": 97,
    "start_time": "2022-06-02T05:06:24.295Z"
   },
   {
    "duration": 4,
    "start_time": "2022-06-02T05:06:24.393Z"
   },
   {
    "duration": 71,
    "start_time": "2022-06-02T05:06:24.399Z"
   },
   {
    "duration": 8,
    "start_time": "2022-06-02T05:06:28.490Z"
   },
   {
    "duration": 3,
    "start_time": "2022-06-02T05:09:06.733Z"
   },
   {
    "duration": 363,
    "start_time": "2022-06-02T05:09:06.738Z"
   },
   {
    "duration": 12,
    "start_time": "2022-06-02T05:09:07.102Z"
   },
   {
    "duration": 29,
    "start_time": "2022-06-02T05:09:07.116Z"
   },
   {
    "duration": 24,
    "start_time": "2022-06-02T05:09:07.147Z"
   },
   {
    "duration": 37,
    "start_time": "2022-06-02T05:09:07.173Z"
   },
   {
    "duration": 4,
    "start_time": "2022-06-02T05:09:07.212Z"
   },
   {
    "duration": 98,
    "start_time": "2022-06-02T05:09:07.218Z"
   },
   {
    "duration": 3,
    "start_time": "2022-06-02T05:09:07.318Z"
   },
   {
    "duration": 83,
    "start_time": "2022-06-02T05:09:07.322Z"
   },
   {
    "duration": 7,
    "start_time": "2022-06-02T05:09:09.798Z"
   },
   {
    "duration": 7,
    "start_time": "2022-06-02T05:13:13.122Z"
   },
   {
    "duration": 11,
    "start_time": "2022-06-02T05:13:19.825Z"
   },
   {
    "duration": 8,
    "start_time": "2022-06-02T05:13:39.457Z"
   },
   {
    "duration": 12,
    "start_time": "2022-06-02T05:13:45.273Z"
   },
   {
    "duration": 10,
    "start_time": "2022-06-02T05:17:38.429Z"
   },
   {
    "duration": 10,
    "start_time": "2022-06-02T05:17:44.324Z"
   },
   {
    "duration": 34,
    "start_time": "2022-06-02T05:18:14.476Z"
   },
   {
    "duration": 420,
    "start_time": "2022-06-02T05:25:04.124Z"
   },
   {
    "duration": 35,
    "start_time": "2022-06-02T05:26:27.266Z"
   },
   {
    "duration": 26,
    "start_time": "2022-06-02T05:28:36.400Z"
   },
   {
    "duration": 26,
    "start_time": "2022-06-02T05:28:45.831Z"
   },
   {
    "duration": 27,
    "start_time": "2022-06-02T05:30:06.166Z"
   },
   {
    "duration": 24,
    "start_time": "2022-06-02T05:32:46.491Z"
   },
   {
    "duration": 22,
    "start_time": "2022-06-02T05:33:43.849Z"
   },
   {
    "duration": 40,
    "start_time": "2022-06-02T05:35:49.359Z"
   },
   {
    "duration": 25,
    "start_time": "2022-06-02T05:36:01.887Z"
   },
   {
    "duration": 28,
    "start_time": "2022-06-02T05:36:34.626Z"
   },
   {
    "duration": 37,
    "start_time": "2022-06-02T05:37:30.414Z"
   },
   {
    "duration": 26,
    "start_time": "2022-06-02T05:38:54.901Z"
   },
   {
    "duration": 38,
    "start_time": "2022-06-02T05:39:15.347Z"
   },
   {
    "duration": 31,
    "start_time": "2022-06-02T05:46:44.038Z"
   },
   {
    "duration": 3,
    "start_time": "2022-06-02T05:47:02.275Z"
   },
   {
    "duration": 385,
    "start_time": "2022-06-02T05:47:02.279Z"
   },
   {
    "duration": 12,
    "start_time": "2022-06-02T05:47:02.666Z"
   },
   {
    "duration": 45,
    "start_time": "2022-06-02T05:47:02.679Z"
   },
   {
    "duration": 23,
    "start_time": "2022-06-02T05:47:02.727Z"
   },
   {
    "duration": 20,
    "start_time": "2022-06-02T05:47:02.751Z"
   },
   {
    "duration": 9,
    "start_time": "2022-06-02T05:47:02.791Z"
   },
   {
    "duration": 94,
    "start_time": "2022-06-02T05:47:02.804Z"
   },
   {
    "duration": 6,
    "start_time": "2022-06-02T05:47:02.900Z"
   },
   {
    "duration": 46,
    "start_time": "2022-06-02T05:47:02.909Z"
   },
   {
    "duration": 10,
    "start_time": "2022-06-02T05:47:02.957Z"
   },
   {
    "duration": 27,
    "start_time": "2022-06-02T05:49:30.201Z"
   },
   {
    "duration": 2,
    "start_time": "2022-06-02T05:53:04.619Z"
   },
   {
    "duration": 379,
    "start_time": "2022-06-02T05:53:04.623Z"
   },
   {
    "duration": 15,
    "start_time": "2022-06-02T05:53:05.004Z"
   },
   {
    "duration": 42,
    "start_time": "2022-06-02T05:53:05.021Z"
   },
   {
    "duration": 37,
    "start_time": "2022-06-02T05:53:05.064Z"
   },
   {
    "duration": 27,
    "start_time": "2022-06-02T05:53:05.103Z"
   },
   {
    "duration": 4,
    "start_time": "2022-06-02T05:53:05.132Z"
   },
   {
    "duration": 106,
    "start_time": "2022-06-02T05:53:05.138Z"
   },
   {
    "duration": 3,
    "start_time": "2022-06-02T05:53:05.247Z"
   },
   {
    "duration": 21,
    "start_time": "2022-06-02T05:53:05.252Z"
   },
   {
    "duration": 40,
    "start_time": "2022-06-02T05:53:05.294Z"
   },
   {
    "duration": 29,
    "start_time": "2022-06-02T05:53:28.471Z"
   },
   {
    "duration": 44,
    "start_time": "2022-06-02T05:54:25.380Z"
   },
   {
    "duration": 43,
    "start_time": "2022-06-02T06:02:41.659Z"
   },
   {
    "duration": 86,
    "start_time": "2022-06-02T15:43:08.720Z"
   },
   {
    "duration": 3,
    "start_time": "2022-06-02T15:43:18.534Z"
   },
   {
    "duration": 411,
    "start_time": "2022-06-02T15:43:18.539Z"
   },
   {
    "duration": 14,
    "start_time": "2022-06-02T15:43:18.951Z"
   },
   {
    "duration": 42,
    "start_time": "2022-06-02T15:43:18.966Z"
   },
   {
    "duration": 24,
    "start_time": "2022-06-02T15:43:19.010Z"
   },
   {
    "duration": 31,
    "start_time": "2022-06-02T15:43:19.036Z"
   },
   {
    "duration": 6,
    "start_time": "2022-06-02T15:43:19.069Z"
   },
   {
    "duration": 105,
    "start_time": "2022-06-02T15:43:19.077Z"
   },
   {
    "duration": 4,
    "start_time": "2022-06-02T15:43:19.184Z"
   },
   {
    "duration": 20,
    "start_time": "2022-06-02T15:43:19.189Z"
   },
   {
    "duration": 47,
    "start_time": "2022-06-02T15:43:19.210Z"
   },
   {
    "duration": 34,
    "start_time": "2022-06-02T15:43:19.259Z"
   },
   {
    "duration": 67,
    "start_time": "2022-06-02T15:43:19.295Z"
   },
   {
    "duration": 42,
    "start_time": "2022-06-02T15:43:19.364Z"
   },
   {
    "duration": 31,
    "start_time": "2022-06-02T15:43:27.395Z"
   },
   {
    "duration": 403,
    "start_time": "2022-06-02T15:44:08.433Z"
   },
   {
    "duration": 34,
    "start_time": "2022-06-02T15:44:52.563Z"
   },
   {
    "duration": 60,
    "start_time": "2022-06-02T15:46:28.405Z"
   },
   {
    "duration": 3,
    "start_time": "2022-06-02T15:47:23.444Z"
   },
   {
    "duration": 400,
    "start_time": "2022-06-02T15:47:23.448Z"
   },
   {
    "duration": 14,
    "start_time": "2022-06-02T15:47:23.850Z"
   },
   {
    "duration": 30,
    "start_time": "2022-06-02T15:47:23.865Z"
   },
   {
    "duration": 27,
    "start_time": "2022-06-02T15:47:23.896Z"
   },
   {
    "duration": 37,
    "start_time": "2022-06-02T15:47:23.925Z"
   },
   {
    "duration": 5,
    "start_time": "2022-06-02T15:47:23.963Z"
   },
   {
    "duration": 92,
    "start_time": "2022-06-02T15:47:23.969Z"
   },
   {
    "duration": 3,
    "start_time": "2022-06-02T15:47:24.063Z"
   },
   {
    "duration": 18,
    "start_time": "2022-06-02T15:47:24.067Z"
   },
   {
    "duration": 30,
    "start_time": "2022-06-02T15:47:24.087Z"
   },
   {
    "duration": 51,
    "start_time": "2022-06-02T15:47:24.119Z"
   },
   {
    "duration": 43,
    "start_time": "2022-06-02T15:47:24.172Z"
   },
   {
    "duration": 64,
    "start_time": "2022-06-02T15:47:24.216Z"
   },
   {
    "duration": 55,
    "start_time": "2022-06-02T15:47:29.994Z"
   },
   {
    "duration": 49,
    "start_time": "2022-06-02T15:48:20.384Z"
   },
   {
    "duration": 56,
    "start_time": "2022-06-02T15:53:34.194Z"
   },
   {
    "duration": 18,
    "start_time": "2022-06-02T15:56:54.504Z"
   },
   {
    "duration": 58,
    "start_time": "2022-06-02T15:57:14.975Z"
   },
   {
    "duration": 52,
    "start_time": "2022-06-02T16:01:52.495Z"
   },
   {
    "duration": 11,
    "start_time": "2022-06-02T16:02:19.356Z"
   },
   {
    "duration": 10,
    "start_time": "2022-06-02T16:02:52.232Z"
   },
   {
    "duration": 3,
    "start_time": "2022-06-02T16:02:59.894Z"
   },
   {
    "duration": 447,
    "start_time": "2022-06-02T16:02:59.899Z"
   },
   {
    "duration": 14,
    "start_time": "2022-06-02T16:03:00.348Z"
   },
   {
    "duration": 50,
    "start_time": "2022-06-02T16:03:00.363Z"
   },
   {
    "duration": 28,
    "start_time": "2022-06-02T16:03:00.416Z"
   },
   {
    "duration": 36,
    "start_time": "2022-06-02T16:03:00.446Z"
   },
   {
    "duration": 5,
    "start_time": "2022-06-02T16:03:00.483Z"
   },
   {
    "duration": 103,
    "start_time": "2022-06-02T16:03:00.489Z"
   },
   {
    "duration": 4,
    "start_time": "2022-06-02T16:03:00.593Z"
   },
   {
    "duration": 26,
    "start_time": "2022-06-02T16:03:00.598Z"
   },
   {
    "duration": 39,
    "start_time": "2022-06-02T16:03:00.625Z"
   },
   {
    "duration": 36,
    "start_time": "2022-06-02T16:03:00.666Z"
   },
   {
    "duration": 72,
    "start_time": "2022-06-02T16:03:00.703Z"
   },
   {
    "duration": 44,
    "start_time": "2022-06-02T16:03:00.777Z"
   },
   {
    "duration": 54,
    "start_time": "2022-06-02T16:03:04.744Z"
   },
   {
    "duration": 8,
    "start_time": "2022-06-02T16:27:40.436Z"
   },
   {
    "duration": 8,
    "start_time": "2022-06-02T16:27:54.696Z"
   },
   {
    "duration": 2,
    "start_time": "2022-06-02T16:30:31.114Z"
   },
   {
    "duration": 425,
    "start_time": "2022-06-02T16:30:31.118Z"
   },
   {
    "duration": 15,
    "start_time": "2022-06-02T16:30:31.546Z"
   },
   {
    "duration": 42,
    "start_time": "2022-06-02T16:30:31.563Z"
   },
   {
    "duration": 49,
    "start_time": "2022-06-02T16:30:31.607Z"
   },
   {
    "duration": 27,
    "start_time": "2022-06-02T16:30:31.658Z"
   },
   {
    "duration": 11,
    "start_time": "2022-06-02T16:30:31.687Z"
   },
   {
    "duration": 97,
    "start_time": "2022-06-02T16:30:31.699Z"
   },
   {
    "duration": 7,
    "start_time": "2022-06-02T16:30:31.798Z"
   },
   {
    "duration": 16,
    "start_time": "2022-06-02T16:30:31.807Z"
   },
   {
    "duration": 52,
    "start_time": "2022-06-02T16:30:31.825Z"
   },
   {
    "duration": 43,
    "start_time": "2022-06-02T16:30:36.751Z"
   },
   {
    "duration": 3,
    "start_time": "2022-06-02T16:38:15.426Z"
   },
   {
    "duration": 410,
    "start_time": "2022-06-02T16:38:15.430Z"
   },
   {
    "duration": 13,
    "start_time": "2022-06-02T16:38:15.842Z"
   },
   {
    "duration": 32,
    "start_time": "2022-06-02T16:38:15.856Z"
   },
   {
    "duration": 23,
    "start_time": "2022-06-02T16:38:15.889Z"
   },
   {
    "duration": 40,
    "start_time": "2022-06-02T16:38:15.914Z"
   },
   {
    "duration": 4,
    "start_time": "2022-06-02T16:38:15.956Z"
   },
   {
    "duration": 76,
    "start_time": "2022-06-02T16:38:15.961Z"
   },
   {
    "duration": 21,
    "start_time": "2022-06-02T16:38:16.038Z"
   },
   {
    "duration": 15,
    "start_time": "2022-06-02T16:38:16.060Z"
   },
   {
    "duration": 28,
    "start_time": "2022-06-02T16:38:16.077Z"
   },
   {
    "duration": 65,
    "start_time": "2022-06-02T16:38:16.107Z"
   },
   {
    "duration": 47,
    "start_time": "2022-06-02T16:38:16.173Z"
   },
   {
    "duration": 70,
    "start_time": "2022-06-02T16:38:16.222Z"
   },
   {
    "duration": 49,
    "start_time": "2022-06-02T16:38:26.351Z"
   },
   {
    "duration": 11,
    "start_time": "2022-06-02T16:39:06.776Z"
   },
   {
    "duration": 3,
    "start_time": "2022-06-02T16:39:30.713Z"
   },
   {
    "duration": 404,
    "start_time": "2022-06-02T16:39:30.718Z"
   },
   {
    "duration": 14,
    "start_time": "2022-06-02T16:39:31.124Z"
   },
   {
    "duration": 39,
    "start_time": "2022-06-02T16:39:31.139Z"
   },
   {
    "duration": 25,
    "start_time": "2022-06-02T16:39:31.180Z"
   },
   {
    "duration": 21,
    "start_time": "2022-06-02T16:39:31.207Z"
   },
   {
    "duration": 26,
    "start_time": "2022-06-02T16:39:31.229Z"
   },
   {
    "duration": 89,
    "start_time": "2022-06-02T16:39:31.257Z"
   },
   {
    "duration": 12,
    "start_time": "2022-06-02T16:39:31.355Z"
   },
   {
    "duration": 39,
    "start_time": "2022-06-02T16:39:31.368Z"
   },
   {
    "duration": 47,
    "start_time": "2022-06-02T16:39:31.409Z"
   },
   {
    "duration": 45,
    "start_time": "2022-06-02T16:39:31.457Z"
   },
   {
    "duration": 58,
    "start_time": "2022-06-02T16:39:31.504Z"
   },
   {
    "duration": 51,
    "start_time": "2022-06-02T16:39:31.564Z"
   },
   {
    "duration": 60,
    "start_time": "2022-06-02T16:39:34.663Z"
   },
   {
    "duration": 1040,
    "start_time": "2022-06-02T16:48:51.990Z"
   },
   {
    "duration": 4,
    "start_time": "2022-06-02T16:55:16.902Z"
   },
   {
    "duration": 18,
    "start_time": "2022-06-02T16:55:56.118Z"
   },
   {
    "duration": 3,
    "start_time": "2022-06-02T17:00:39.838Z"
   },
   {
    "duration": 457,
    "start_time": "2022-06-02T17:00:39.843Z"
   },
   {
    "duration": 14,
    "start_time": "2022-06-02T17:00:40.302Z"
   },
   {
    "duration": 35,
    "start_time": "2022-06-02T17:00:40.318Z"
   },
   {
    "duration": 39,
    "start_time": "2022-06-02T17:00:40.357Z"
   },
   {
    "duration": 20,
    "start_time": "2022-06-02T17:00:40.398Z"
   },
   {
    "duration": 5,
    "start_time": "2022-06-02T17:00:40.419Z"
   },
   {
    "duration": 106,
    "start_time": "2022-06-02T17:00:40.454Z"
   },
   {
    "duration": 17,
    "start_time": "2022-06-02T17:00:40.563Z"
   },
   {
    "duration": 16,
    "start_time": "2022-06-02T17:00:40.582Z"
   },
   {
    "duration": 55,
    "start_time": "2022-06-02T17:00:40.600Z"
   },
   {
    "duration": 50,
    "start_time": "2022-06-02T17:00:40.657Z"
   },
   {
    "duration": 72,
    "start_time": "2022-06-02T17:00:40.708Z"
   },
   {
    "duration": 48,
    "start_time": "2022-06-02T17:00:40.782Z"
   },
   {
    "duration": 79,
    "start_time": "2022-06-02T17:00:40.832Z"
   },
   {
    "duration": 18,
    "start_time": "2022-06-02T17:17:34.142Z"
   },
   {
    "duration": 32,
    "start_time": "2022-06-02T17:17:37.340Z"
   },
   {
    "duration": 3,
    "start_time": "2022-06-02T17:19:01.732Z"
   },
   {
    "duration": 543,
    "start_time": "2022-06-02T17:19:01.737Z"
   },
   {
    "duration": 15,
    "start_time": "2022-06-02T17:19:02.282Z"
   },
   {
    "duration": 190,
    "start_time": "2022-06-02T17:19:02.299Z"
   },
   {
    "duration": 139,
    "start_time": "2022-06-02T17:19:02.492Z"
   },
   {
    "duration": 104,
    "start_time": "2022-06-02T17:19:02.632Z"
   },
   {
    "duration": 107,
    "start_time": "2022-06-02T17:19:02.738Z"
   },
   {
    "duration": 197,
    "start_time": "2022-06-02T17:19:02.846Z"
   },
   {
    "duration": 59,
    "start_time": "2022-06-02T17:19:03.045Z"
   },
   {
    "duration": 34,
    "start_time": "2022-06-02T17:19:03.105Z"
   },
   {
    "duration": 34,
    "start_time": "2022-06-02T17:19:03.140Z"
   },
   {
    "duration": 39,
    "start_time": "2022-06-02T17:19:03.175Z"
   },
   {
    "duration": 64,
    "start_time": "2022-06-02T17:19:03.216Z"
   },
   {
    "duration": 50,
    "start_time": "2022-06-02T17:19:03.282Z"
   },
   {
    "duration": 77,
    "start_time": "2022-06-02T17:19:03.333Z"
   },
   {
    "duration": 16,
    "start_time": "2022-06-02T17:19:09.881Z"
   },
   {
    "duration": 18,
    "start_time": "2022-06-02T17:19:13.901Z"
   },
   {
    "duration": 21,
    "start_time": "2022-06-02T17:20:07.345Z"
   },
   {
    "duration": 34,
    "start_time": "2022-06-02T17:26:31.140Z"
   },
   {
    "duration": 10,
    "start_time": "2022-06-02T17:35:43.093Z"
   },
   {
    "duration": 42,
    "start_time": "2022-06-02T17:36:42.331Z"
   },
   {
    "duration": 3,
    "start_time": "2022-06-02T19:39:35.452Z"
   },
   {
    "duration": 418,
    "start_time": "2022-06-02T19:39:35.459Z"
   },
   {
    "duration": 18,
    "start_time": "2022-06-02T19:39:35.879Z"
   },
   {
    "duration": 31,
    "start_time": "2022-06-02T19:39:35.899Z"
   },
   {
    "duration": 34,
    "start_time": "2022-06-02T19:39:35.932Z"
   },
   {
    "duration": 23,
    "start_time": "2022-06-02T19:39:35.967Z"
   },
   {
    "duration": 4,
    "start_time": "2022-06-02T19:39:35.992Z"
   },
   {
    "duration": 99,
    "start_time": "2022-06-02T19:39:35.997Z"
   },
   {
    "duration": 7,
    "start_time": "2022-06-02T19:39:36.098Z"
   },
   {
    "duration": 25,
    "start_time": "2022-06-02T19:39:36.107Z"
   },
   {
    "duration": 43,
    "start_time": "2022-06-02T19:39:36.133Z"
   },
   {
    "duration": 41,
    "start_time": "2022-06-02T19:39:36.179Z"
   },
   {
    "duration": 77,
    "start_time": "2022-06-02T19:39:36.222Z"
   },
   {
    "duration": 74,
    "start_time": "2022-06-02T19:39:36.302Z"
   },
   {
    "duration": 55,
    "start_time": "2022-06-02T19:39:36.378Z"
   },
   {
    "duration": 31,
    "start_time": "2022-06-02T19:39:36.435Z"
   },
   {
    "duration": 15,
    "start_time": "2022-06-02T19:39:36.468Z"
   },
   {
    "duration": 28,
    "start_time": "2022-06-02T19:39:36.484Z"
   },
   {
    "duration": 89,
    "start_time": "2022-06-02T19:39:36.513Z"
   },
   {
    "duration": 3,
    "start_time": "2022-06-02T19:44:16.843Z"
   },
   {
    "duration": 422,
    "start_time": "2022-06-02T19:44:16.848Z"
   },
   {
    "duration": 17,
    "start_time": "2022-06-02T19:44:17.274Z"
   },
   {
    "duration": 31,
    "start_time": "2022-06-02T19:44:17.293Z"
   },
   {
    "duration": 35,
    "start_time": "2022-06-02T19:44:17.325Z"
   },
   {
    "duration": 28,
    "start_time": "2022-06-02T19:44:17.361Z"
   },
   {
    "duration": 5,
    "start_time": "2022-06-02T19:44:17.391Z"
   },
   {
    "duration": 110,
    "start_time": "2022-06-02T19:44:17.397Z"
   },
   {
    "duration": 10,
    "start_time": "2022-06-02T19:44:17.509Z"
   },
   {
    "duration": 31,
    "start_time": "2022-06-02T19:44:17.521Z"
   },
   {
    "duration": 43,
    "start_time": "2022-06-02T19:44:17.555Z"
   },
   {
    "duration": 58,
    "start_time": "2022-06-02T19:44:17.600Z"
   },
   {
    "duration": 47,
    "start_time": "2022-06-02T19:44:17.661Z"
   },
   {
    "duration": 76,
    "start_time": "2022-06-02T19:44:17.710Z"
   },
   {
    "duration": 71,
    "start_time": "2022-06-02T19:44:17.788Z"
   },
   {
    "duration": 21,
    "start_time": "2022-06-02T19:44:17.861Z"
   },
   {
    "duration": 18,
    "start_time": "2022-06-02T19:44:17.884Z"
   },
   {
    "duration": 59,
    "start_time": "2022-06-02T19:44:17.903Z"
   },
   {
    "duration": 18,
    "start_time": "2022-06-02T19:44:17.964Z"
   },
   {
    "duration": 3,
    "start_time": "2022-06-02T19:45:39.202Z"
   },
   {
    "duration": 441,
    "start_time": "2022-06-02T19:45:39.207Z"
   },
   {
    "duration": 14,
    "start_time": "2022-06-02T19:45:39.650Z"
   },
   {
    "duration": 37,
    "start_time": "2022-06-02T19:45:39.667Z"
   },
   {
    "duration": 24,
    "start_time": "2022-06-02T19:45:39.706Z"
   },
   {
    "duration": 41,
    "start_time": "2022-06-02T19:45:39.732Z"
   },
   {
    "duration": 6,
    "start_time": "2022-06-02T19:45:39.775Z"
   },
   {
    "duration": 109,
    "start_time": "2022-06-02T19:45:39.782Z"
   },
   {
    "duration": 8,
    "start_time": "2022-06-02T19:45:39.893Z"
   },
   {
    "duration": 14,
    "start_time": "2022-06-02T19:45:39.903Z"
   },
   {
    "duration": 63,
    "start_time": "2022-06-02T19:45:39.920Z"
   },
   {
    "duration": 37,
    "start_time": "2022-06-02T19:45:39.984Z"
   },
   {
    "duration": 62,
    "start_time": "2022-06-02T19:45:40.022Z"
   },
   {
    "duration": 47,
    "start_time": "2022-06-02T19:45:40.086Z"
   },
   {
    "duration": 74,
    "start_time": "2022-06-02T19:45:40.135Z"
   },
   {
    "duration": 18,
    "start_time": "2022-06-02T19:45:40.211Z"
   },
   {
    "duration": 35,
    "start_time": "2022-06-02T19:45:40.230Z"
   },
   {
    "duration": 29,
    "start_time": "2022-06-02T19:45:40.267Z"
   },
   {
    "duration": 56,
    "start_time": "2022-06-02T19:45:40.298Z"
   },
   {
    "duration": 2,
    "start_time": "2022-06-02T19:48:33.311Z"
   },
   {
    "duration": 442,
    "start_time": "2022-06-02T19:48:33.319Z"
   },
   {
    "duration": 26,
    "start_time": "2022-06-02T19:48:33.763Z"
   },
   {
    "duration": 31,
    "start_time": "2022-06-02T19:48:33.790Z"
   },
   {
    "duration": 53,
    "start_time": "2022-06-02T19:48:33.823Z"
   },
   {
    "duration": 23,
    "start_time": "2022-06-02T19:48:33.879Z"
   },
   {
    "duration": 5,
    "start_time": "2022-06-02T19:48:33.904Z"
   },
   {
    "duration": 120,
    "start_time": "2022-06-02T19:48:33.911Z"
   },
   {
    "duration": 8,
    "start_time": "2022-06-02T19:48:34.033Z"
   },
   {
    "duration": 23,
    "start_time": "2022-06-02T19:48:34.056Z"
   },
   {
    "duration": 28,
    "start_time": "2022-06-02T19:48:34.081Z"
   },
   {
    "duration": 76,
    "start_time": "2022-06-02T19:48:34.111Z"
   },
   {
    "duration": 43,
    "start_time": "2022-06-02T19:48:34.188Z"
   },
   {
    "duration": 71,
    "start_time": "2022-06-02T19:48:34.232Z"
   },
   {
    "duration": 87,
    "start_time": "2022-06-02T19:48:34.306Z"
   },
   {
    "duration": 17,
    "start_time": "2022-06-02T19:48:34.394Z"
   },
   {
    "duration": 15,
    "start_time": "2022-06-02T19:48:34.412Z"
   },
   {
    "duration": 58,
    "start_time": "2022-06-02T19:48:34.428Z"
   },
   {
    "duration": 39,
    "start_time": "2022-06-02T19:48:34.487Z"
   },
   {
    "duration": 12,
    "start_time": "2022-06-02T20:38:23.037Z"
   },
   {
    "duration": 20,
    "start_time": "2022-06-02T20:46:36.984Z"
   },
   {
    "duration": 98,
    "start_time": "2022-06-02T20:51:33.214Z"
   },
   {
    "duration": 17,
    "start_time": "2022-06-02T20:53:56.604Z"
   },
   {
    "duration": 394,
    "start_time": "2022-06-02T20:54:45.935Z"
   },
   {
    "duration": 300,
    "start_time": "2022-06-02T20:55:52.944Z"
   },
   {
    "duration": 339,
    "start_time": "2022-06-02T21:03:55.977Z"
   },
   {
    "duration": 2,
    "start_time": "2022-06-02T21:04:21.611Z"
   },
   {
    "duration": 395,
    "start_time": "2022-06-02T21:04:21.619Z"
   },
   {
    "duration": 13,
    "start_time": "2022-06-02T21:04:22.016Z"
   },
   {
    "duration": 33,
    "start_time": "2022-06-02T21:04:22.031Z"
   },
   {
    "duration": 24,
    "start_time": "2022-06-02T21:04:22.065Z"
   },
   {
    "duration": 20,
    "start_time": "2022-06-02T21:04:22.091Z"
   },
   {
    "duration": 4,
    "start_time": "2022-06-02T21:04:22.113Z"
   },
   {
    "duration": 100,
    "start_time": "2022-06-02T21:04:22.119Z"
   },
   {
    "duration": 8,
    "start_time": "2022-06-02T21:04:22.220Z"
   },
   {
    "duration": 28,
    "start_time": "2022-06-02T21:04:22.229Z"
   },
   {
    "duration": 30,
    "start_time": "2022-06-02T21:04:22.258Z"
   },
   {
    "duration": 37,
    "start_time": "2022-06-02T21:04:22.289Z"
   },
   {
    "duration": 68,
    "start_time": "2022-06-02T21:04:22.327Z"
   },
   {
    "duration": 61,
    "start_time": "2022-06-02T21:04:22.396Z"
   },
   {
    "duration": 55,
    "start_time": "2022-06-02T21:04:22.459Z"
   },
   {
    "duration": 39,
    "start_time": "2022-06-02T21:04:22.515Z"
   },
   {
    "duration": 11,
    "start_time": "2022-06-02T21:04:22.556Z"
   },
   {
    "duration": 34,
    "start_time": "2022-06-02T21:04:22.568Z"
   },
   {
    "duration": 37,
    "start_time": "2022-06-02T21:04:22.603Z"
   },
   {
    "duration": 303,
    "start_time": "2022-06-02T21:04:22.654Z"
   },
   {
    "duration": 4,
    "start_time": "2022-06-02T21:05:25.022Z"
   },
   {
    "duration": 396,
    "start_time": "2022-06-02T21:05:25.028Z"
   },
   {
    "duration": 13,
    "start_time": "2022-06-02T21:05:25.425Z"
   },
   {
    "duration": 33,
    "start_time": "2022-06-02T21:05:25.439Z"
   },
   {
    "duration": 24,
    "start_time": "2022-06-02T21:05:25.474Z"
   },
   {
    "duration": 20,
    "start_time": "2022-06-02T21:05:25.500Z"
   },
   {
    "duration": 4,
    "start_time": "2022-06-02T21:05:25.522Z"
   },
   {
    "duration": 99,
    "start_time": "2022-06-02T21:05:25.527Z"
   },
   {
    "duration": 8,
    "start_time": "2022-06-02T21:05:25.627Z"
   },
   {
    "duration": 28,
    "start_time": "2022-06-02T21:05:25.636Z"
   },
   {
    "duration": 28,
    "start_time": "2022-06-02T21:05:25.665Z"
   },
   {
    "duration": 59,
    "start_time": "2022-06-02T21:05:25.695Z"
   },
   {
    "duration": 44,
    "start_time": "2022-06-02T21:05:25.756Z"
   },
   {
    "duration": 71,
    "start_time": "2022-06-02T21:05:25.803Z"
   },
   {
    "duration": 55,
    "start_time": "2022-06-02T21:05:25.875Z"
   },
   {
    "duration": 33,
    "start_time": "2022-06-02T21:05:25.932Z"
   },
   {
    "duration": 11,
    "start_time": "2022-06-02T21:05:25.967Z"
   },
   {
    "duration": 24,
    "start_time": "2022-06-02T21:05:25.979Z"
   },
   {
    "duration": 58,
    "start_time": "2022-06-02T21:05:26.005Z"
   },
   {
    "duration": 390,
    "start_time": "2022-06-02T21:05:26.065Z"
   },
   {
    "duration": 3,
    "start_time": "2022-06-02T21:07:19.124Z"
   },
   {
    "duration": 412,
    "start_time": "2022-06-02T21:07:19.129Z"
   },
   {
    "duration": 13,
    "start_time": "2022-06-02T21:07:19.543Z"
   },
   {
    "duration": 29,
    "start_time": "2022-06-02T21:07:19.557Z"
   },
   {
    "duration": 25,
    "start_time": "2022-06-02T21:07:19.588Z"
   },
   {
    "duration": 47,
    "start_time": "2022-06-02T21:07:19.615Z"
   },
   {
    "duration": 5,
    "start_time": "2022-06-02T21:07:19.664Z"
   },
   {
    "duration": 87,
    "start_time": "2022-06-02T21:07:19.670Z"
   },
   {
    "duration": 7,
    "start_time": "2022-06-02T21:07:19.759Z"
   },
   {
    "duration": 16,
    "start_time": "2022-06-02T21:07:19.767Z"
   },
   {
    "duration": 29,
    "start_time": "2022-06-02T21:07:19.784Z"
   },
   {
    "duration": 60,
    "start_time": "2022-06-02T21:07:19.815Z"
   },
   {
    "duration": 44,
    "start_time": "2022-06-02T21:07:19.877Z"
   },
   {
    "duration": 67,
    "start_time": "2022-06-02T21:07:19.922Z"
   },
   {
    "duration": 67,
    "start_time": "2022-06-02T21:07:19.991Z"
   },
   {
    "duration": 15,
    "start_time": "2022-06-02T21:07:20.060Z"
   },
   {
    "duration": 12,
    "start_time": "2022-06-02T21:07:20.076Z"
   },
   {
    "duration": 27,
    "start_time": "2022-06-02T21:07:20.089Z"
   },
   {
    "duration": 69,
    "start_time": "2022-06-02T21:07:20.118Z"
   },
   {
    "duration": 335,
    "start_time": "2022-06-02T21:07:20.188Z"
   },
   {
    "duration": 2,
    "start_time": "2022-06-02T21:08:56.144Z"
   },
   {
    "duration": 388,
    "start_time": "2022-06-02T21:08:56.148Z"
   },
   {
    "duration": 12,
    "start_time": "2022-06-02T21:08:56.538Z"
   },
   {
    "duration": 32,
    "start_time": "2022-06-02T21:08:56.552Z"
   },
   {
    "duration": 25,
    "start_time": "2022-06-02T21:08:56.585Z"
   },
   {
    "duration": 21,
    "start_time": "2022-06-02T21:08:56.611Z"
   },
   {
    "duration": 5,
    "start_time": "2022-06-02T21:08:56.654Z"
   },
   {
    "duration": 75,
    "start_time": "2022-06-02T21:08:56.661Z"
   },
   {
    "duration": 8,
    "start_time": "2022-06-02T21:08:56.755Z"
   },
   {
    "duration": 23,
    "start_time": "2022-06-02T21:08:56.764Z"
   },
   {
    "duration": 42,
    "start_time": "2022-06-02T21:08:56.789Z"
   },
   {
    "duration": 43,
    "start_time": "2022-06-02T21:08:56.832Z"
   },
   {
    "duration": 44,
    "start_time": "2022-06-02T21:08:56.876Z"
   },
   {
    "duration": 69,
    "start_time": "2022-06-02T21:08:56.921Z"
   },
   {
    "duration": 64,
    "start_time": "2022-06-02T21:08:56.991Z"
   },
   {
    "duration": 18,
    "start_time": "2022-06-02T21:08:57.056Z"
   },
   {
    "duration": 11,
    "start_time": "2022-06-02T21:08:57.075Z"
   },
   {
    "duration": 23,
    "start_time": "2022-06-02T21:08:57.088Z"
   },
   {
    "duration": 69,
    "start_time": "2022-06-02T21:08:57.112Z"
   },
   {
    "duration": 478,
    "start_time": "2022-06-02T21:08:57.182Z"
   },
   {
    "duration": 3,
    "start_time": "2022-06-02T21:09:37.672Z"
   },
   {
    "duration": 399,
    "start_time": "2022-06-02T21:09:37.677Z"
   },
   {
    "duration": 15,
    "start_time": "2022-06-02T21:09:38.077Z"
   },
   {
    "duration": 33,
    "start_time": "2022-06-02T21:09:38.093Z"
   },
   {
    "duration": 27,
    "start_time": "2022-06-02T21:09:38.128Z"
   },
   {
    "duration": 20,
    "start_time": "2022-06-02T21:09:38.156Z"
   },
   {
    "duration": 5,
    "start_time": "2022-06-02T21:09:38.177Z"
   },
   {
    "duration": 98,
    "start_time": "2022-06-02T21:09:38.183Z"
   },
   {
    "duration": 7,
    "start_time": "2022-06-02T21:09:38.283Z"
   },
   {
    "duration": 15,
    "start_time": "2022-06-02T21:09:38.292Z"
   },
   {
    "duration": 49,
    "start_time": "2022-06-02T21:09:38.308Z"
   },
   {
    "duration": 37,
    "start_time": "2022-06-02T21:09:38.359Z"
   },
   {
    "duration": 61,
    "start_time": "2022-06-02T21:09:38.398Z"
   },
   {
    "duration": 49,
    "start_time": "2022-06-02T21:09:38.461Z"
   },
   {
    "duration": 75,
    "start_time": "2022-06-02T21:09:38.512Z"
   },
   {
    "duration": 16,
    "start_time": "2022-06-02T21:09:38.589Z"
   },
   {
    "duration": 13,
    "start_time": "2022-06-02T21:09:38.607Z"
   },
   {
    "duration": 47,
    "start_time": "2022-06-02T21:09:38.621Z"
   },
   {
    "duration": 39,
    "start_time": "2022-06-02T21:09:38.669Z"
   },
   {
    "duration": 692,
    "start_time": "2022-06-02T21:09:38.709Z"
   },
   {
    "duration": 2,
    "start_time": "2022-06-02T21:12:04.735Z"
   },
   {
    "duration": 410,
    "start_time": "2022-06-02T21:12:04.739Z"
   },
   {
    "duration": 13,
    "start_time": "2022-06-02T21:12:05.150Z"
   },
   {
    "duration": 32,
    "start_time": "2022-06-02T21:12:05.164Z"
   },
   {
    "duration": 23,
    "start_time": "2022-06-02T21:12:05.198Z"
   },
   {
    "duration": 43,
    "start_time": "2022-06-02T21:12:05.222Z"
   },
   {
    "duration": 4,
    "start_time": "2022-06-02T21:12:05.267Z"
   },
   {
    "duration": 102,
    "start_time": "2022-06-02T21:12:05.272Z"
   },
   {
    "duration": 9,
    "start_time": "2022-06-02T21:12:05.375Z"
   },
   {
    "duration": 20,
    "start_time": "2022-06-02T21:12:05.386Z"
   },
   {
    "duration": 28,
    "start_time": "2022-06-02T21:12:05.408Z"
   },
   {
    "duration": 36,
    "start_time": "2022-06-02T21:12:05.455Z"
   },
   {
    "duration": 62,
    "start_time": "2022-06-02T21:12:05.493Z"
   },
   {
    "duration": 49,
    "start_time": "2022-06-02T21:12:05.558Z"
   },
   {
    "duration": 72,
    "start_time": "2022-06-02T21:12:05.609Z"
   },
   {
    "duration": 16,
    "start_time": "2022-06-02T21:12:05.683Z"
   },
   {
    "duration": 15,
    "start_time": "2022-06-02T21:12:05.701Z"
   },
   {
    "duration": 49,
    "start_time": "2022-06-02T21:12:05.717Z"
   },
   {
    "duration": 43,
    "start_time": "2022-06-02T21:12:05.767Z"
   },
   {
    "duration": 614,
    "start_time": "2022-06-02T21:12:05.812Z"
   },
   {
    "duration": 2,
    "start_time": "2022-06-02T21:13:00.195Z"
   },
   {
    "duration": 417,
    "start_time": "2022-06-02T21:13:00.199Z"
   },
   {
    "duration": 13,
    "start_time": "2022-06-02T21:13:00.618Z"
   },
   {
    "duration": 41,
    "start_time": "2022-06-02T21:13:00.633Z"
   },
   {
    "duration": 25,
    "start_time": "2022-06-02T21:13:00.676Z"
   },
   {
    "duration": 21,
    "start_time": "2022-06-02T21:13:00.702Z"
   },
   {
    "duration": 30,
    "start_time": "2022-06-02T21:13:00.725Z"
   },
   {
    "duration": 78,
    "start_time": "2022-06-02T21:13:00.757Z"
   },
   {
    "duration": 19,
    "start_time": "2022-06-02T21:13:00.836Z"
   },
   {
    "duration": 13,
    "start_time": "2022-06-02T21:13:00.857Z"
   },
   {
    "duration": 32,
    "start_time": "2022-06-02T21:13:00.872Z"
   },
   {
    "duration": 67,
    "start_time": "2022-06-02T21:13:00.905Z"
   },
   {
    "duration": 45,
    "start_time": "2022-06-02T21:13:00.974Z"
   },
   {
    "duration": 66,
    "start_time": "2022-06-02T21:13:01.022Z"
   },
   {
    "duration": 69,
    "start_time": "2022-06-02T21:13:01.089Z"
   },
   {
    "duration": 17,
    "start_time": "2022-06-02T21:13:01.159Z"
   },
   {
    "duration": 20,
    "start_time": "2022-06-02T21:13:01.177Z"
   },
   {
    "duration": 41,
    "start_time": "2022-06-02T21:13:01.198Z"
   },
   {
    "duration": 51,
    "start_time": "2022-06-02T21:13:01.240Z"
   },
   {
    "duration": 742,
    "start_time": "2022-06-02T21:13:01.292Z"
   },
   {
    "duration": 3,
    "start_time": "2022-06-02T21:14:04.326Z"
   },
   {
    "duration": 402,
    "start_time": "2022-06-02T21:14:04.330Z"
   },
   {
    "duration": 13,
    "start_time": "2022-06-02T21:14:04.734Z"
   },
   {
    "duration": 31,
    "start_time": "2022-06-02T21:14:04.749Z"
   },
   {
    "duration": 23,
    "start_time": "2022-06-02T21:14:04.782Z"
   },
   {
    "duration": 20,
    "start_time": "2022-06-02T21:14:04.806Z"
   },
   {
    "duration": 5,
    "start_time": "2022-06-02T21:14:04.827Z"
   },
   {
    "duration": 104,
    "start_time": "2022-06-02T21:14:04.833Z"
   },
   {
    "duration": 21,
    "start_time": "2022-06-02T21:14:04.938Z"
   },
   {
    "duration": 14,
    "start_time": "2022-06-02T21:14:04.960Z"
   },
   {
    "duration": 29,
    "start_time": "2022-06-02T21:14:04.976Z"
   },
   {
    "duration": 69,
    "start_time": "2022-06-02T21:14:05.007Z"
   },
   {
    "duration": 50,
    "start_time": "2022-06-02T21:14:05.078Z"
   },
   {
    "duration": 70,
    "start_time": "2022-06-02T21:14:05.130Z"
   },
   {
    "duration": 75,
    "start_time": "2022-06-02T21:14:05.202Z"
   },
   {
    "duration": 18,
    "start_time": "2022-06-02T21:14:05.278Z"
   },
   {
    "duration": 16,
    "start_time": "2022-06-02T21:14:05.297Z"
   },
   {
    "duration": 41,
    "start_time": "2022-06-02T21:14:05.314Z"
   },
   {
    "duration": 39,
    "start_time": "2022-06-02T21:14:05.357Z"
   },
   {
    "duration": 390,
    "start_time": "2022-06-02T21:14:05.397Z"
   },
   {
    "duration": 2,
    "start_time": "2022-06-02T21:25:52.877Z"
   },
   {
    "duration": 408,
    "start_time": "2022-06-02T21:25:52.881Z"
   },
   {
    "duration": 13,
    "start_time": "2022-06-02T21:25:53.291Z"
   },
   {
    "duration": 35,
    "start_time": "2022-06-02T21:25:53.305Z"
   },
   {
    "duration": 23,
    "start_time": "2022-06-02T21:25:53.342Z"
   },
   {
    "duration": 20,
    "start_time": "2022-06-02T21:25:53.367Z"
   },
   {
    "duration": 5,
    "start_time": "2022-06-02T21:25:53.388Z"
   },
   {
    "duration": 92,
    "start_time": "2022-06-02T21:25:53.394Z"
   },
   {
    "duration": 8,
    "start_time": "2022-06-02T21:25:53.488Z"
   },
   {
    "duration": 20,
    "start_time": "2022-06-02T21:25:53.497Z"
   },
   {
    "duration": 41,
    "start_time": "2022-06-02T21:25:53.519Z"
   },
   {
    "duration": 39,
    "start_time": "2022-06-02T21:25:53.561Z"
   },
   {
    "duration": 65,
    "start_time": "2022-06-02T21:25:53.602Z"
   },
   {
    "duration": 47,
    "start_time": "2022-06-02T21:25:53.669Z"
   },
   {
    "duration": 75,
    "start_time": "2022-06-02T21:25:53.718Z"
   },
   {
    "duration": 16,
    "start_time": "2022-06-02T21:25:53.794Z"
   },
   {
    "duration": 15,
    "start_time": "2022-06-02T21:25:53.812Z"
   },
   {
    "duration": 44,
    "start_time": "2022-06-02T21:25:53.828Z"
   },
   {
    "duration": 38,
    "start_time": "2022-06-02T21:25:53.873Z"
   },
   {
    "duration": 11,
    "start_time": "2022-06-02T21:25:53.912Z"
   },
   {
    "duration": 6,
    "start_time": "2022-06-02T21:26:10.406Z"
   },
   {
    "duration": 9,
    "start_time": "2022-06-02T21:29:45.976Z"
   },
   {
    "duration": 10,
    "start_time": "2022-06-02T21:31:02.981Z"
   },
   {
    "duration": 12,
    "start_time": "2022-06-02T21:31:42.776Z"
   },
   {
    "duration": 15,
    "start_time": "2022-06-02T21:45:17.193Z"
   },
   {
    "duration": 4,
    "start_time": "2022-06-02T21:46:00.183Z"
   },
   {
    "duration": 9,
    "start_time": "2022-06-02T21:48:36.803Z"
   },
   {
    "duration": 9,
    "start_time": "2022-06-02T21:50:29.242Z"
   },
   {
    "duration": 448,
    "start_time": "2022-06-05T11:07:57.459Z"
   },
   {
    "duration": 1050,
    "start_time": "2022-06-05T11:07:57.909Z"
   },
   {
    "duration": 19,
    "start_time": "2022-06-05T11:07:58.960Z"
   },
   {
    "duration": 32,
    "start_time": "2022-06-05T11:07:58.981Z"
   },
   {
    "duration": 34,
    "start_time": "2022-06-05T11:07:59.015Z"
   },
   {
    "duration": 24,
    "start_time": "2022-06-05T11:07:59.051Z"
   },
   {
    "duration": 6,
    "start_time": "2022-06-05T11:07:59.077Z"
   },
   {
    "duration": 113,
    "start_time": "2022-06-05T11:07:59.085Z"
   },
   {
    "duration": 14,
    "start_time": "2022-06-05T11:07:59.199Z"
   },
   {
    "duration": 11,
    "start_time": "2022-06-05T11:07:59.216Z"
   },
   {
    "duration": 36,
    "start_time": "2022-06-05T11:07:59.241Z"
   },
   {
    "duration": 64,
    "start_time": "2022-06-05T11:07:59.278Z"
   },
   {
    "duration": 50,
    "start_time": "2022-06-05T11:07:59.344Z"
   },
   {
    "duration": 70,
    "start_time": "2022-06-05T11:07:59.396Z"
   },
   {
    "duration": 74,
    "start_time": "2022-06-05T11:07:59.468Z"
   },
   {
    "duration": 20,
    "start_time": "2022-06-05T11:07:59.543Z"
   },
   {
    "duration": 13,
    "start_time": "2022-06-05T11:07:59.565Z"
   },
   {
    "duration": 31,
    "start_time": "2022-06-05T11:07:59.580Z"
   },
   {
    "duration": 73,
    "start_time": "2022-06-05T11:07:59.612Z"
   },
   {
    "duration": 7,
    "start_time": "2022-06-05T11:07:59.686Z"
   },
   {
    "duration": 22,
    "start_time": "2022-06-05T11:07:59.694Z"
   },
   {
    "duration": 94,
    "start_time": "2022-06-05T11:31:17.864Z"
   },
   {
    "duration": 11,
    "start_time": "2022-06-05T11:31:41.750Z"
   },
   {
    "duration": 31,
    "start_time": "2022-06-05T12:25:40.566Z"
   },
   {
    "duration": 30,
    "start_time": "2022-06-05T12:26:04.052Z"
   },
   {
    "duration": 22,
    "start_time": "2022-06-05T12:26:49.982Z"
   },
   {
    "duration": 31,
    "start_time": "2022-06-05T12:27:40.050Z"
   },
   {
    "duration": 3,
    "start_time": "2022-06-05T12:33:46.830Z"
   },
   {
    "duration": 428,
    "start_time": "2022-06-05T12:33:46.835Z"
   },
   {
    "duration": 15,
    "start_time": "2022-06-05T12:33:47.265Z"
   },
   {
    "duration": 44,
    "start_time": "2022-06-05T12:33:47.282Z"
   },
   {
    "duration": 32,
    "start_time": "2022-06-05T12:33:47.328Z"
   },
   {
    "duration": 41,
    "start_time": "2022-06-05T12:33:47.363Z"
   },
   {
    "duration": 7,
    "start_time": "2022-06-05T12:33:47.406Z"
   },
   {
    "duration": 138,
    "start_time": "2022-06-05T12:33:47.415Z"
   },
   {
    "duration": 10,
    "start_time": "2022-06-05T12:33:47.555Z"
   },
   {
    "duration": 17,
    "start_time": "2022-06-05T12:33:47.567Z"
   },
   {
    "duration": 54,
    "start_time": "2022-06-05T12:33:47.587Z"
   },
   {
    "duration": 55,
    "start_time": "2022-06-05T12:33:47.643Z"
   },
   {
    "duration": 63,
    "start_time": "2022-06-05T12:33:47.699Z"
   },
   {
    "duration": 66,
    "start_time": "2022-06-05T12:33:47.764Z"
   },
   {
    "duration": 85,
    "start_time": "2022-06-05T12:33:47.842Z"
   },
   {
    "duration": 24,
    "start_time": "2022-06-05T12:33:47.942Z"
   },
   {
    "duration": 30,
    "start_time": "2022-06-05T12:33:47.969Z"
   },
   {
    "duration": 43,
    "start_time": "2022-06-05T12:33:48.001Z"
   },
   {
    "duration": 78,
    "start_time": "2022-06-05T12:33:48.046Z"
   },
   {
    "duration": 8,
    "start_time": "2022-06-05T12:33:48.127Z"
   },
   {
    "duration": 30,
    "start_time": "2022-06-05T12:33:48.140Z"
   },
   {
    "duration": 80,
    "start_time": "2022-06-05T12:33:48.173Z"
   },
   {
    "duration": 8,
    "start_time": "2022-06-05T12:34:14.016Z"
   },
   {
    "duration": 425,
    "start_time": "2022-06-05T12:34:14.027Z"
   },
   {
    "duration": 14,
    "start_time": "2022-06-05T12:34:14.454Z"
   },
   {
    "duration": 34,
    "start_time": "2022-06-05T12:34:14.470Z"
   },
   {
    "duration": 42,
    "start_time": "2022-06-05T12:34:14.506Z"
   },
   {
    "duration": 24,
    "start_time": "2022-06-05T12:34:14.549Z"
   },
   {
    "duration": 7,
    "start_time": "2022-06-05T12:34:14.575Z"
   },
   {
    "duration": 115,
    "start_time": "2022-06-05T12:34:14.584Z"
   },
   {
    "duration": 9,
    "start_time": "2022-06-05T12:34:14.700Z"
   },
   {
    "duration": 17,
    "start_time": "2022-06-05T12:34:14.710Z"
   },
   {
    "duration": 44,
    "start_time": "2022-06-05T12:34:14.729Z"
   },
   {
    "duration": 40,
    "start_time": "2022-06-05T12:34:14.775Z"
   },
   {
    "duration": 58,
    "start_time": "2022-06-05T12:34:14.817Z"
   },
   {
    "duration": 69,
    "start_time": "2022-06-05T12:34:14.878Z"
   },
   {
    "duration": 75,
    "start_time": "2022-06-05T12:34:14.950Z"
   },
   {
    "duration": 42,
    "start_time": "2022-06-05T12:34:15.027Z"
   },
   {
    "duration": 15,
    "start_time": "2022-06-05T12:34:15.071Z"
   },
   {
    "duration": 62,
    "start_time": "2022-06-05T12:34:15.088Z"
   },
   {
    "duration": 51,
    "start_time": "2022-06-05T12:34:15.152Z"
   },
   {
    "duration": 7,
    "start_time": "2022-06-05T12:34:15.204Z"
   },
   {
    "duration": 44,
    "start_time": "2022-06-05T12:34:15.213Z"
   },
   {
    "duration": 47,
    "start_time": "2022-06-05T12:34:15.259Z"
   },
   {
    "duration": 53,
    "start_time": "2022-06-05T12:39:18.114Z"
   },
   {
    "duration": 17,
    "start_time": "2022-06-05T12:40:50.288Z"
   },
   {
    "duration": 3,
    "start_time": "2022-06-05T12:56:28.611Z"
   },
   {
    "duration": 423,
    "start_time": "2022-06-05T12:56:28.616Z"
   },
   {
    "duration": 14,
    "start_time": "2022-06-05T12:56:29.041Z"
   },
   {
    "duration": 37,
    "start_time": "2022-06-05T12:56:29.056Z"
   },
   {
    "duration": 26,
    "start_time": "2022-06-05T12:56:29.095Z"
   },
   {
    "duration": 24,
    "start_time": "2022-06-05T12:56:29.140Z"
   },
   {
    "duration": 5,
    "start_time": "2022-06-05T12:56:29.165Z"
   },
   {
    "duration": 98,
    "start_time": "2022-06-05T12:56:29.171Z"
   },
   {
    "duration": 9,
    "start_time": "2022-06-05T12:56:29.271Z"
   },
   {
    "duration": 19,
    "start_time": "2022-06-05T12:56:29.281Z"
   },
   {
    "duration": 47,
    "start_time": "2022-06-05T12:56:29.302Z"
   },
   {
    "duration": 8,
    "start_time": "2022-06-05T12:56:29.351Z"
   },
   {
    "duration": 58,
    "start_time": "2022-06-05T12:56:52.913Z"
   },
   {
    "duration": 823,
    "start_time": "2022-06-13T14:24:23.608Z"
   },
   {
    "duration": 85,
    "start_time": "2022-06-13T14:24:24.432Z"
   },
   {
    "duration": 0,
    "start_time": "2022-06-13T14:24:24.527Z"
   },
   {
    "duration": 0,
    "start_time": "2022-06-13T14:24:24.528Z"
   },
   {
    "duration": 0,
    "start_time": "2022-06-13T14:24:24.529Z"
   },
   {
    "duration": 0,
    "start_time": "2022-06-13T14:24:24.530Z"
   },
   {
    "duration": 0,
    "start_time": "2022-06-13T14:24:24.531Z"
   },
   {
    "duration": 0,
    "start_time": "2022-06-13T14:24:24.532Z"
   },
   {
    "duration": 0,
    "start_time": "2022-06-13T14:24:24.532Z"
   },
   {
    "duration": 0,
    "start_time": "2022-06-13T14:24:24.533Z"
   },
   {
    "duration": 0,
    "start_time": "2022-06-13T14:24:24.534Z"
   },
   {
    "duration": 0,
    "start_time": "2022-06-13T14:24:24.535Z"
   },
   {
    "duration": 0,
    "start_time": "2022-06-13T14:24:24.536Z"
   },
   {
    "duration": 0,
    "start_time": "2022-06-13T14:24:24.537Z"
   },
   {
    "duration": 0,
    "start_time": "2022-06-13T14:24:24.538Z"
   },
   {
    "duration": 0,
    "start_time": "2022-06-13T14:24:24.539Z"
   },
   {
    "duration": 0,
    "start_time": "2022-06-13T14:24:24.539Z"
   },
   {
    "duration": 0,
    "start_time": "2022-06-13T14:24:24.540Z"
   },
   {
    "duration": 0,
    "start_time": "2022-06-13T14:24:24.542Z"
   },
   {
    "duration": 0,
    "start_time": "2022-06-13T14:24:24.543Z"
   },
   {
    "duration": 0,
    "start_time": "2022-06-13T14:24:24.544Z"
   },
   {
    "duration": 0,
    "start_time": "2022-06-13T14:24:24.545Z"
   },
   {
    "duration": 0,
    "start_time": "2022-06-13T14:24:24.546Z"
   },
   {
    "duration": 0,
    "start_time": "2022-06-13T14:24:24.546Z"
   },
   {
    "duration": 0,
    "start_time": "2022-06-13T14:24:24.547Z"
   },
   {
    "duration": 0,
    "start_time": "2022-06-13T14:24:24.549Z"
   },
   {
    "duration": 0,
    "start_time": "2022-06-13T14:24:24.550Z"
   },
   {
    "duration": 0,
    "start_time": "2022-06-13T14:24:24.550Z"
   },
   {
    "duration": 0,
    "start_time": "2022-06-13T14:24:24.551Z"
   },
   {
    "duration": 0,
    "start_time": "2022-06-13T14:24:24.552Z"
   },
   {
    "duration": 0,
    "start_time": "2022-06-13T14:24:24.553Z"
   },
   {
    "duration": 0,
    "start_time": "2022-06-13T14:24:24.554Z"
   },
   {
    "duration": 0,
    "start_time": "2022-06-13T14:24:24.555Z"
   },
   {
    "duration": 0,
    "start_time": "2022-06-13T14:24:24.556Z"
   },
   {
    "duration": 0,
    "start_time": "2022-06-13T14:24:24.556Z"
   },
   {
    "duration": 0,
    "start_time": "2022-06-13T14:24:24.557Z"
   },
   {
    "duration": 0,
    "start_time": "2022-06-13T14:24:24.558Z"
   },
   {
    "duration": 0,
    "start_time": "2022-06-13T14:24:24.559Z"
   },
   {
    "duration": 0,
    "start_time": "2022-06-13T14:24:24.560Z"
   },
   {
    "duration": 765,
    "start_time": "2022-06-13T14:33:50.667Z"
   },
   {
    "duration": 381,
    "start_time": "2022-06-13T14:33:51.434Z"
   },
   {
    "duration": 27,
    "start_time": "2022-06-13T14:33:51.817Z"
   },
   {
    "duration": 141,
    "start_time": "2022-06-13T14:33:51.846Z"
   },
   {
    "duration": 101,
    "start_time": "2022-06-13T14:33:51.989Z"
   },
   {
    "duration": 77,
    "start_time": "2022-06-13T14:33:52.091Z"
   },
   {
    "duration": 16,
    "start_time": "2022-06-13T14:33:52.170Z"
   },
   {
    "duration": 102,
    "start_time": "2022-06-13T14:33:52.187Z"
   },
   {
    "duration": 8,
    "start_time": "2022-06-13T14:33:52.291Z"
   },
   {
    "duration": 47,
    "start_time": "2022-06-13T14:33:52.301Z"
   },
   {
    "duration": 51,
    "start_time": "2022-06-13T14:33:52.349Z"
   },
   {
    "duration": 66,
    "start_time": "2022-06-13T14:33:52.403Z"
   },
   {
    "duration": 68,
    "start_time": "2022-06-13T14:33:52.471Z"
   },
   {
    "duration": 58,
    "start_time": "2022-06-13T14:33:52.541Z"
   },
   {
    "duration": 37,
    "start_time": "2022-06-13T14:33:52.600Z"
   },
   {
    "duration": 10,
    "start_time": "2022-06-13T14:33:52.639Z"
   },
   {
    "duration": 32,
    "start_time": "2022-06-13T14:33:52.650Z"
   },
   {
    "duration": 50,
    "start_time": "2022-06-13T14:33:52.683Z"
   },
   {
    "duration": 4,
    "start_time": "2022-06-13T14:33:52.735Z"
   },
   {
    "duration": 48,
    "start_time": "2022-06-13T14:33:52.740Z"
   },
   {
    "duration": 15,
    "start_time": "2022-06-13T14:33:52.790Z"
   },
   {
    "duration": 25,
    "start_time": "2022-06-13T14:33:52.807Z"
   },
   {
    "duration": 11,
    "start_time": "2022-06-13T14:33:52.834Z"
   },
   {
    "duration": 13,
    "start_time": "2022-06-13T14:33:52.847Z"
   },
   {
    "duration": 938,
    "start_time": "2022-06-13T14:33:52.861Z"
   },
   {
    "duration": 347,
    "start_time": "2022-06-13T14:33:53.801Z"
   },
   {
    "duration": 139,
    "start_time": "2022-06-13T14:33:54.150Z"
   },
   {
    "duration": 886,
    "start_time": "2022-06-13T14:33:54.292Z"
   },
   {
    "duration": 136,
    "start_time": "2022-06-13T14:33:55.180Z"
   },
   {
    "duration": 128,
    "start_time": "2022-06-13T14:33:55.318Z"
   },
   {
    "duration": 986,
    "start_time": "2022-06-13T14:33:55.448Z"
   },
   {
    "duration": 148,
    "start_time": "2022-06-13T14:33:56.436Z"
   },
   {
    "duration": 130,
    "start_time": "2022-06-13T14:33:56.585Z"
   },
   {
    "duration": 969,
    "start_time": "2022-06-13T14:33:56.717Z"
   },
   {
    "duration": 10,
    "start_time": "2022-06-13T14:33:57.687Z"
   },
   {
    "duration": 11,
    "start_time": "2022-06-13T14:33:57.699Z"
   },
   {
    "duration": 19,
    "start_time": "2022-06-13T14:33:57.711Z"
   },
   {
    "duration": 23,
    "start_time": "2022-06-13T14:33:57.732Z"
   },
   {
    "duration": 24,
    "start_time": "2022-06-13T14:33:57.757Z"
   },
   {
    "duration": 49,
    "start_time": "2022-06-13T15:19:09.743Z"
   },
   {
    "duration": 780,
    "start_time": "2022-06-13T15:19:27.241Z"
   },
   {
    "duration": 1151,
    "start_time": "2022-06-13T15:19:30.747Z"
   },
   {
    "duration": 819,
    "start_time": "2022-06-13T15:22:12.626Z"
   },
   {
    "duration": 415,
    "start_time": "2022-06-13T15:22:13.447Z"
   },
   {
    "duration": 28,
    "start_time": "2022-06-13T15:22:13.863Z"
   },
   {
    "duration": 164,
    "start_time": "2022-06-13T15:22:13.892Z"
   },
   {
    "duration": 123,
    "start_time": "2022-06-13T15:22:14.059Z"
   },
   {
    "duration": 73,
    "start_time": "2022-06-13T15:22:14.184Z"
   },
   {
    "duration": 13,
    "start_time": "2022-06-13T15:22:14.259Z"
   },
   {
    "duration": 92,
    "start_time": "2022-06-13T15:22:14.273Z"
   },
   {
    "duration": 8,
    "start_time": "2022-06-13T15:22:14.366Z"
   },
   {
    "duration": 36,
    "start_time": "2022-06-13T15:22:14.376Z"
   },
   {
    "duration": 61,
    "start_time": "2022-06-13T15:22:14.413Z"
   },
   {
    "duration": 68,
    "start_time": "2022-06-13T15:22:14.475Z"
   },
   {
    "duration": 52,
    "start_time": "2022-06-13T15:22:14.544Z"
   },
   {
    "duration": 69,
    "start_time": "2022-06-13T15:22:14.598Z"
   },
   {
    "duration": 18,
    "start_time": "2022-06-13T15:22:14.668Z"
   },
   {
    "duration": 10,
    "start_time": "2022-06-13T15:22:14.687Z"
   },
   {
    "duration": 51,
    "start_time": "2022-06-13T15:22:14.698Z"
   },
   {
    "duration": 46,
    "start_time": "2022-06-13T15:22:14.750Z"
   },
   {
    "duration": 3,
    "start_time": "2022-06-13T15:22:14.798Z"
   },
   {
    "duration": 53,
    "start_time": "2022-06-13T15:22:14.803Z"
   },
   {
    "duration": 9,
    "start_time": "2022-06-13T15:22:14.858Z"
   },
   {
    "duration": 14,
    "start_time": "2022-06-13T15:22:14.868Z"
   },
   {
    "duration": 11,
    "start_time": "2022-06-13T15:22:14.883Z"
   },
   {
    "duration": 36,
    "start_time": "2022-06-13T15:22:14.896Z"
   },
   {
    "duration": 947,
    "start_time": "2022-06-13T15:22:14.934Z"
   },
   {
    "duration": 493,
    "start_time": "2022-06-13T15:22:15.883Z"
   },
   {
    "duration": 162,
    "start_time": "2022-06-13T15:22:16.378Z"
   },
   {
    "duration": 868,
    "start_time": "2022-06-13T15:22:16.543Z"
   },
   {
    "duration": 133,
    "start_time": "2022-06-13T15:22:17.413Z"
   },
   {
    "duration": 134,
    "start_time": "2022-06-13T15:22:17.547Z"
   },
   {
    "duration": 959,
    "start_time": "2022-06-13T15:22:17.683Z"
   },
   {
    "duration": 137,
    "start_time": "2022-06-13T15:22:18.644Z"
   },
   {
    "duration": 159,
    "start_time": "2022-06-13T15:22:18.784Z"
   },
   {
    "duration": 998,
    "start_time": "2022-06-13T15:22:18.944Z"
   },
   {
    "duration": 11,
    "start_time": "2022-06-13T15:22:19.943Z"
   },
   {
    "duration": 16,
    "start_time": "2022-06-13T15:22:19.956Z"
   },
   {
    "duration": 10,
    "start_time": "2022-06-13T15:22:19.973Z"
   },
   {
    "duration": 6,
    "start_time": "2022-06-13T15:22:19.984Z"
   },
   {
    "duration": 12,
    "start_time": "2022-06-13T15:22:19.991Z"
   },
   {
    "duration": 3,
    "start_time": "2022-06-13T15:28:42.081Z"
   },
   {
    "duration": 443,
    "start_time": "2022-06-13T15:28:42.086Z"
   },
   {
    "duration": 35,
    "start_time": "2022-06-13T15:28:42.531Z"
   },
   {
    "duration": 120,
    "start_time": "2022-06-13T15:28:42.567Z"
   },
   {
    "duration": 104,
    "start_time": "2022-06-13T15:28:42.689Z"
   },
   {
    "duration": 76,
    "start_time": "2022-06-13T15:28:42.795Z"
   },
   {
    "duration": 17,
    "start_time": "2022-06-13T15:28:42.873Z"
   },
   {
    "duration": 93,
    "start_time": "2022-06-13T15:28:42.891Z"
   },
   {
    "duration": 8,
    "start_time": "2022-06-13T15:28:42.985Z"
   },
   {
    "duration": 41,
    "start_time": "2022-06-13T15:28:42.994Z"
   },
   {
    "duration": 87,
    "start_time": "2022-06-13T15:36:38.321Z"
   },
   {
    "duration": 39,
    "start_time": "2022-06-13T15:36:54.508Z"
   },
   {
    "duration": 2,
    "start_time": "2022-06-13T15:37:45.021Z"
   },
   {
    "duration": 404,
    "start_time": "2022-06-13T15:37:45.033Z"
   },
   {
    "duration": 21,
    "start_time": "2022-06-13T15:37:45.439Z"
   },
   {
    "duration": 115,
    "start_time": "2022-06-13T15:37:45.461Z"
   },
   {
    "duration": 87,
    "start_time": "2022-06-13T15:37:45.578Z"
   },
   {
    "duration": 77,
    "start_time": "2022-06-13T15:37:45.666Z"
   },
   {
    "duration": 15,
    "start_time": "2022-06-13T15:37:45.745Z"
   },
   {
    "duration": 81,
    "start_time": "2022-06-13T15:37:45.761Z"
   },
   {
    "duration": 8,
    "start_time": "2022-06-13T15:37:45.844Z"
   },
   {
    "duration": 42,
    "start_time": "2022-06-13T15:37:45.853Z"
   },
   {
    "duration": 37,
    "start_time": "2022-06-13T15:37:45.897Z"
   },
   {
    "duration": 2,
    "start_time": "2022-06-13T15:39:42.310Z"
   },
   {
    "duration": 401,
    "start_time": "2022-06-13T15:39:42.315Z"
   },
   {
    "duration": 30,
    "start_time": "2022-06-13T15:39:42.718Z"
   },
   {
    "duration": 121,
    "start_time": "2022-06-13T15:39:42.749Z"
   },
   {
    "duration": 89,
    "start_time": "2022-06-13T15:39:42.872Z"
   },
   {
    "duration": 75,
    "start_time": "2022-06-13T15:39:42.963Z"
   },
   {
    "duration": 14,
    "start_time": "2022-06-13T15:39:43.040Z"
   },
   {
    "duration": 82,
    "start_time": "2022-06-13T15:39:43.055Z"
   },
   {
    "duration": 8,
    "start_time": "2022-06-13T15:39:43.140Z"
   },
   {
    "duration": 39,
    "start_time": "2022-06-13T15:39:43.149Z"
   },
   {
    "duration": 21,
    "start_time": "2022-06-13T15:39:43.190Z"
   },
   {
    "duration": 884,
    "start_time": "2022-06-13T21:45:42.100Z"
   },
   {
    "duration": 432,
    "start_time": "2022-06-13T21:45:42.985Z"
   },
   {
    "duration": 29,
    "start_time": "2022-06-13T21:45:43.418Z"
   },
   {
    "duration": 155,
    "start_time": "2022-06-13T21:45:43.450Z"
   },
   {
    "duration": 120,
    "start_time": "2022-06-13T21:45:43.607Z"
   },
   {
    "duration": 81,
    "start_time": "2022-06-13T21:45:43.729Z"
   },
   {
    "duration": 15,
    "start_time": "2022-06-13T21:45:43.811Z"
   },
   {
    "duration": 103,
    "start_time": "2022-06-13T21:45:43.828Z"
   },
   {
    "duration": 9,
    "start_time": "2022-06-13T21:45:43.932Z"
   },
   {
    "duration": 49,
    "start_time": "2022-06-13T21:45:43.944Z"
   },
   {
    "duration": 53,
    "start_time": "2022-06-13T21:45:43.995Z"
   },
   {
    "duration": 67,
    "start_time": "2022-06-13T21:45:44.050Z"
   },
   {
    "duration": 95,
    "start_time": "2022-06-13T21:45:44.119Z"
   },
   {
    "duration": 68,
    "start_time": "2022-06-13T21:45:44.216Z"
   },
   {
    "duration": 19,
    "start_time": "2022-06-13T21:45:44.286Z"
   },
   {
    "duration": 16,
    "start_time": "2022-06-13T21:45:44.307Z"
   },
   {
    "duration": 45,
    "start_time": "2022-06-13T21:45:44.325Z"
   },
   {
    "duration": 40,
    "start_time": "2022-06-13T21:45:44.372Z"
   },
   {
    "duration": 3,
    "start_time": "2022-06-13T21:45:44.414Z"
   },
   {
    "duration": 70,
    "start_time": "2022-06-13T21:45:44.419Z"
   },
   {
    "duration": 13,
    "start_time": "2022-06-13T21:45:44.491Z"
   },
   {
    "duration": 17,
    "start_time": "2022-06-13T21:45:44.506Z"
   },
   {
    "duration": 12,
    "start_time": "2022-06-13T21:45:44.525Z"
   },
   {
    "duration": 36,
    "start_time": "2022-06-13T21:45:44.539Z"
   },
   {
    "duration": 1051,
    "start_time": "2022-06-13T21:45:44.577Z"
   },
   {
    "duration": 379,
    "start_time": "2022-06-13T21:45:45.630Z"
   },
   {
    "duration": 159,
    "start_time": "2022-06-13T21:45:46.010Z"
   },
   {
    "duration": 820,
    "start_time": "2022-06-13T21:45:46.172Z"
   },
   {
    "duration": 153,
    "start_time": "2022-06-13T21:45:46.994Z"
   },
   {
    "duration": 141,
    "start_time": "2022-06-13T21:45:47.148Z"
   },
   {
    "duration": 969,
    "start_time": "2022-06-13T21:45:47.290Z"
   },
   {
    "duration": 151,
    "start_time": "2022-06-13T21:45:48.260Z"
   },
   {
    "duration": 152,
    "start_time": "2022-06-13T21:45:48.413Z"
   },
   {
    "duration": 1057,
    "start_time": "2022-06-13T21:45:48.568Z"
   },
   {
    "duration": 10,
    "start_time": "2022-06-13T21:45:49.627Z"
   },
   {
    "duration": 27,
    "start_time": "2022-06-13T21:45:49.638Z"
   },
   {
    "duration": 17,
    "start_time": "2022-06-13T21:45:49.667Z"
   },
   {
    "duration": 22,
    "start_time": "2022-06-13T21:45:49.685Z"
   },
   {
    "duration": 40,
    "start_time": "2022-06-13T21:45:49.708Z"
   },
   {
    "duration": 5,
    "start_time": "2022-06-13T21:45:57.052Z"
   },
   {
    "duration": 15,
    "start_time": "2022-06-13T21:59:30.288Z"
   },
   {
    "duration": 5,
    "start_time": "2022-06-13T22:00:17.920Z"
   },
   {
    "duration": 4,
    "start_time": "2022-06-13T22:00:24.057Z"
   },
   {
    "duration": 15,
    "start_time": "2022-06-13T22:00:29.239Z"
   },
   {
    "duration": 19,
    "start_time": "2022-06-13T22:01:13.758Z"
   },
   {
    "duration": 22,
    "start_time": "2022-06-13T22:01:41.902Z"
   },
   {
    "duration": 20,
    "start_time": "2022-06-13T22:02:03.780Z"
   },
   {
    "duration": 16,
    "start_time": "2022-06-13T22:04:16.729Z"
   },
   {
    "duration": 16,
    "start_time": "2022-06-13T22:04:37.080Z"
   },
   {
    "duration": 19,
    "start_time": "2022-06-13T22:04:44.428Z"
   },
   {
    "duration": 21,
    "start_time": "2022-06-13T22:05:58.635Z"
   },
   {
    "duration": 14,
    "start_time": "2022-06-13T22:06:17.297Z"
   },
   {
    "duration": 11,
    "start_time": "2022-06-13T22:06:26.670Z"
   },
   {
    "duration": 18,
    "start_time": "2022-06-13T22:06:31.235Z"
   },
   {
    "duration": 18,
    "start_time": "2022-06-13T22:08:09.219Z"
   },
   {
    "duration": 11,
    "start_time": "2022-06-13T22:08:59.979Z"
   },
   {
    "duration": 16,
    "start_time": "2022-06-13T22:09:56.580Z"
   },
   {
    "duration": 16,
    "start_time": "2022-06-13T22:10:20.581Z"
   },
   {
    "duration": 28,
    "start_time": "2022-06-13T22:10:28.439Z"
   },
   {
    "duration": 27,
    "start_time": "2022-06-13T22:12:03.553Z"
   },
   {
    "duration": 103,
    "start_time": "2022-06-13T22:12:13.862Z"
   },
   {
    "duration": 26,
    "start_time": "2022-06-13T22:12:18.910Z"
   },
   {
    "duration": 14,
    "start_time": "2022-06-13T22:12:52.009Z"
   },
   {
    "duration": 22,
    "start_time": "2022-06-13T22:13:06.267Z"
   },
   {
    "duration": 16,
    "start_time": "2022-06-13T22:13:25.038Z"
   },
   {
    "duration": 12,
    "start_time": "2022-06-13T22:14:08.252Z"
   },
   {
    "duration": 10,
    "start_time": "2022-06-13T22:14:56.055Z"
   },
   {
    "duration": 11,
    "start_time": "2022-06-13T22:15:16.167Z"
   },
   {
    "duration": 12,
    "start_time": "2022-06-13T22:15:25.167Z"
   },
   {
    "duration": 15,
    "start_time": "2022-06-13T22:15:44.490Z"
   },
   {
    "duration": 12,
    "start_time": "2022-06-13T22:15:46.114Z"
   },
   {
    "duration": 12,
    "start_time": "2022-06-13T22:15:54.106Z"
   },
   {
    "duration": 12,
    "start_time": "2022-06-13T22:23:06.255Z"
   },
   {
    "duration": 17,
    "start_time": "2022-06-13T22:25:50.001Z"
   },
   {
    "duration": 15,
    "start_time": "2022-06-13T22:32:54.130Z"
   },
   {
    "duration": 21,
    "start_time": "2022-06-13T22:33:14.792Z"
   },
   {
    "duration": 39,
    "start_time": "2022-06-13T22:33:49.641Z"
   },
   {
    "duration": 55,
    "start_time": "2022-06-13T22:33:52.728Z"
   },
   {
    "duration": 14,
    "start_time": "2022-06-13T22:34:22.431Z"
   },
   {
    "duration": 13,
    "start_time": "2022-06-13T22:34:37.287Z"
   },
   {
    "duration": 9,
    "start_time": "2022-06-13T22:34:51.493Z"
   },
   {
    "duration": 17,
    "start_time": "2022-06-13T22:43:48.450Z"
   },
   {
    "duration": 45,
    "start_time": "2022-06-13T22:44:39.886Z"
   },
   {
    "duration": 45,
    "start_time": "2022-06-13T22:46:01.656Z"
   },
   {
    "duration": 51,
    "start_time": "2022-06-13T22:46:47.695Z"
   },
   {
    "duration": 41,
    "start_time": "2022-06-13T22:47:12.437Z"
   },
   {
    "duration": 16,
    "start_time": "2022-06-13T22:47:36.943Z"
   },
   {
    "duration": 6,
    "start_time": "2022-06-13T22:47:55.483Z"
   },
   {
    "duration": 20,
    "start_time": "2022-06-13T22:48:04.756Z"
   },
   {
    "duration": 6,
    "start_time": "2022-06-13T22:48:22.074Z"
   },
   {
    "duration": 20,
    "start_time": "2022-06-13T22:48:39.601Z"
   },
   {
    "duration": 35,
    "start_time": "2022-06-13T22:49:25.599Z"
   },
   {
    "duration": 7,
    "start_time": "2022-06-13T22:49:35.838Z"
   },
   {
    "duration": 16,
    "start_time": "2022-06-13T23:01:20.316Z"
   },
   {
    "duration": 8,
    "start_time": "2022-06-13T23:21:52.668Z"
   },
   {
    "duration": 5,
    "start_time": "2022-06-13T23:29:52.304Z"
   },
   {
    "duration": 877,
    "start_time": "2022-06-15T13:33:54.353Z"
   },
   {
    "duration": 1116,
    "start_time": "2022-06-15T13:33:55.232Z"
   },
   {
    "duration": 28,
    "start_time": "2022-06-15T13:33:56.349Z"
   },
   {
    "duration": 150,
    "start_time": "2022-06-15T13:33:56.379Z"
   },
   {
    "duration": 141,
    "start_time": "2022-06-15T13:33:56.532Z"
   },
   {
    "duration": 119,
    "start_time": "2022-06-15T13:33:56.675Z"
   },
   {
    "duration": 30,
    "start_time": "2022-06-15T13:33:56.796Z"
   },
   {
    "duration": 109,
    "start_time": "2022-06-15T13:33:56.828Z"
   },
   {
    "duration": 10,
    "start_time": "2022-06-15T13:33:56.939Z"
   },
   {
    "duration": 46,
    "start_time": "2022-06-15T13:33:56.951Z"
   },
   {
    "duration": 4,
    "start_time": "2022-06-15T13:34:01.627Z"
   },
   {
    "duration": 4,
    "start_time": "2022-06-15T13:34:52.607Z"
   },
   {
    "duration": 228,
    "start_time": "2022-06-15T13:35:08.089Z"
   },
   {
    "duration": 130,
    "start_time": "2022-06-15T13:35:44.320Z"
   },
   {
    "duration": 51,
    "start_time": "2022-06-15T13:36:21.909Z"
   },
   {
    "duration": 66,
    "start_time": "2022-06-15T13:42:53.778Z"
   },
   {
    "duration": 46,
    "start_time": "2022-06-15T13:45:24.187Z"
   },
   {
    "duration": 53,
    "start_time": "2022-06-15T13:47:08.970Z"
   },
   {
    "duration": 93,
    "start_time": "2022-06-15T13:47:18.867Z"
   },
   {
    "duration": 3,
    "start_time": "2022-06-15T13:47:42.738Z"
   },
   {
    "duration": 509,
    "start_time": "2022-06-15T13:47:42.744Z"
   },
   {
    "duration": 23,
    "start_time": "2022-06-15T13:47:43.255Z"
   },
   {
    "duration": 140,
    "start_time": "2022-06-15T13:47:43.280Z"
   },
   {
    "duration": 85,
    "start_time": "2022-06-15T13:47:43.425Z"
   },
   {
    "duration": 82,
    "start_time": "2022-06-15T13:47:43.512Z"
   },
   {
    "duration": 37,
    "start_time": "2022-06-15T13:47:43.596Z"
   },
   {
    "duration": 83,
    "start_time": "2022-06-15T13:47:43.635Z"
   },
   {
    "duration": 14,
    "start_time": "2022-06-15T13:47:43.720Z"
   },
   {
    "duration": 56,
    "start_time": "2022-06-15T13:47:43.736Z"
   },
   {
    "duration": 62,
    "start_time": "2022-06-15T13:47:43.795Z"
   },
   {
    "duration": 46,
    "start_time": "2022-06-15T13:47:43.859Z"
   },
   {
    "duration": 45,
    "start_time": "2022-06-15T13:47:47.608Z"
   },
   {
    "duration": 19,
    "start_time": "2022-06-15T13:57:42.041Z"
   },
   {
    "duration": 25,
    "start_time": "2022-06-15T13:59:34.130Z"
   },
   {
    "duration": 17,
    "start_time": "2022-06-15T13:59:57.398Z"
   },
   {
    "duration": 17,
    "start_time": "2022-06-15T14:00:20.120Z"
   },
   {
    "duration": 2,
    "start_time": "2022-06-15T14:00:30.126Z"
   },
   {
    "duration": 429,
    "start_time": "2022-06-15T14:00:30.138Z"
   },
   {
    "duration": 22,
    "start_time": "2022-06-15T14:00:30.569Z"
   },
   {
    "duration": 158,
    "start_time": "2022-06-15T14:00:30.593Z"
   },
   {
    "duration": 110,
    "start_time": "2022-06-15T14:00:30.754Z"
   },
   {
    "duration": 86,
    "start_time": "2022-06-15T14:00:30.866Z"
   },
   {
    "duration": 17,
    "start_time": "2022-06-15T14:00:30.953Z"
   },
   {
    "duration": 99,
    "start_time": "2022-06-15T14:00:30.972Z"
   },
   {
    "duration": 8,
    "start_time": "2022-06-15T14:00:31.073Z"
   },
   {
    "duration": 48,
    "start_time": "2022-06-15T14:00:31.083Z"
   },
   {
    "duration": 51,
    "start_time": "2022-06-15T14:00:31.134Z"
   },
   {
    "duration": 74,
    "start_time": "2022-06-15T14:00:31.188Z"
   },
   {
    "duration": 79,
    "start_time": "2022-06-15T14:00:31.264Z"
   },
   {
    "duration": 22,
    "start_time": "2022-06-15T14:00:31.345Z"
   },
   {
    "duration": 2,
    "start_time": "2022-06-15T14:01:28.231Z"
   },
   {
    "duration": 416,
    "start_time": "2022-06-15T14:01:28.244Z"
   },
   {
    "duration": 22,
    "start_time": "2022-06-15T14:01:28.662Z"
   },
   {
    "duration": 147,
    "start_time": "2022-06-15T14:01:28.686Z"
   },
   {
    "duration": 113,
    "start_time": "2022-06-15T14:01:28.836Z"
   },
   {
    "duration": 78,
    "start_time": "2022-06-15T14:01:28.951Z"
   },
   {
    "duration": 16,
    "start_time": "2022-06-15T14:01:29.031Z"
   },
   {
    "duration": 95,
    "start_time": "2022-06-15T14:01:29.049Z"
   },
   {
    "duration": 9,
    "start_time": "2022-06-15T14:01:29.146Z"
   },
   {
    "duration": 38,
    "start_time": "2022-06-15T14:01:29.157Z"
   },
   {
    "duration": 60,
    "start_time": "2022-06-15T14:01:29.197Z"
   },
   {
    "duration": 4,
    "start_time": "2022-06-15T14:01:46.078Z"
   },
   {
    "duration": 414,
    "start_time": "2022-06-15T14:01:46.087Z"
   },
   {
    "duration": 39,
    "start_time": "2022-06-15T14:01:46.503Z"
   },
   {
    "duration": 227,
    "start_time": "2022-06-15T14:01:46.544Z"
   },
   {
    "duration": 124,
    "start_time": "2022-06-15T14:01:46.774Z"
   },
   {
    "duration": 98,
    "start_time": "2022-06-15T14:01:46.900Z"
   },
   {
    "duration": 31,
    "start_time": "2022-06-15T14:01:47.000Z"
   },
   {
    "duration": 94,
    "start_time": "2022-06-15T14:01:47.032Z"
   },
   {
    "duration": 11,
    "start_time": "2022-06-15T14:01:47.128Z"
   },
   {
    "duration": 44,
    "start_time": "2022-06-15T14:01:47.141Z"
   },
   {
    "duration": 65,
    "start_time": "2022-06-15T14:01:47.187Z"
   },
   {
    "duration": 3,
    "start_time": "2022-06-15T14:02:09.358Z"
   },
   {
    "duration": 430,
    "start_time": "2022-06-15T14:02:09.363Z"
   },
   {
    "duration": 25,
    "start_time": "2022-06-15T14:02:09.795Z"
   },
   {
    "duration": 143,
    "start_time": "2022-06-15T14:02:09.821Z"
   },
   {
    "duration": 101,
    "start_time": "2022-06-15T14:02:09.966Z"
   },
   {
    "duration": 76,
    "start_time": "2022-06-15T14:02:10.068Z"
   },
   {
    "duration": 15,
    "start_time": "2022-06-15T14:02:10.146Z"
   },
   {
    "duration": 94,
    "start_time": "2022-06-15T14:02:10.163Z"
   },
   {
    "duration": 9,
    "start_time": "2022-06-15T14:02:10.259Z"
   },
   {
    "duration": 50,
    "start_time": "2022-06-15T14:02:10.270Z"
   },
   {
    "duration": 41,
    "start_time": "2022-06-15T14:02:10.326Z"
   },
   {
    "duration": 3,
    "start_time": "2022-06-15T14:06:43.075Z"
   },
   {
    "duration": 389,
    "start_time": "2022-06-15T14:06:43.082Z"
   },
   {
    "duration": 23,
    "start_time": "2022-06-15T14:06:43.473Z"
   },
   {
    "duration": 132,
    "start_time": "2022-06-15T14:06:43.498Z"
   },
   {
    "duration": 98,
    "start_time": "2022-06-15T14:06:43.633Z"
   },
   {
    "duration": 71,
    "start_time": "2022-06-15T14:06:43.733Z"
   },
   {
    "duration": 28,
    "start_time": "2022-06-15T14:06:43.805Z"
   },
   {
    "duration": 76,
    "start_time": "2022-06-15T14:06:43.834Z"
   },
   {
    "duration": 8,
    "start_time": "2022-06-15T14:06:43.926Z"
   },
   {
    "duration": 43,
    "start_time": "2022-06-15T14:06:43.935Z"
   },
   {
    "duration": 65,
    "start_time": "2022-06-15T14:06:43.980Z"
   },
   {
    "duration": 43,
    "start_time": "2022-06-15T14:08:42.369Z"
   },
   {
    "duration": 40,
    "start_time": "2022-06-15T14:09:09.739Z"
   },
   {
    "duration": 38,
    "start_time": "2022-06-15T14:09:18.499Z"
   },
   {
    "duration": 2,
    "start_time": "2022-06-15T14:10:35.246Z"
   },
   {
    "duration": 466,
    "start_time": "2022-06-15T14:10:35.253Z"
   },
   {
    "duration": 29,
    "start_time": "2022-06-15T14:10:35.721Z"
   },
   {
    "duration": 163,
    "start_time": "2022-06-15T14:10:35.752Z"
   },
   {
    "duration": 110,
    "start_time": "2022-06-15T14:10:35.918Z"
   },
   {
    "duration": 67,
    "start_time": "2022-06-15T14:10:36.030Z"
   },
   {
    "duration": 38,
    "start_time": "2022-06-15T14:10:36.099Z"
   },
   {
    "duration": 90,
    "start_time": "2022-06-15T14:10:36.139Z"
   },
   {
    "duration": 9,
    "start_time": "2022-06-15T14:10:36.231Z"
   },
   {
    "duration": 40,
    "start_time": "2022-06-15T14:10:36.241Z"
   },
   {
    "duration": 61,
    "start_time": "2022-06-15T14:10:36.283Z"
   },
   {
    "duration": 47,
    "start_time": "2022-06-15T14:10:36.346Z"
   },
   {
    "duration": 59,
    "start_time": "2022-06-15T14:10:36.394Z"
   },
   {
    "duration": 16,
    "start_time": "2022-06-15T14:10:36.454Z"
   },
   {
    "duration": 14,
    "start_time": "2022-06-15T14:12:10.494Z"
   },
   {
    "duration": 15,
    "start_time": "2022-06-15T14:12:17.096Z"
   },
   {
    "duration": 14,
    "start_time": "2022-06-15T14:12:47.426Z"
   },
   {
    "duration": 21,
    "start_time": "2022-06-15T14:13:59.073Z"
   },
   {
    "duration": 22,
    "start_time": "2022-06-15T14:18:52.749Z"
   },
   {
    "duration": 3,
    "start_time": "2022-06-15T14:41:07.808Z"
   },
   {
    "duration": 403,
    "start_time": "2022-06-15T14:41:07.813Z"
   },
   {
    "duration": 22,
    "start_time": "2022-06-15T14:41:08.218Z"
   },
   {
    "duration": 126,
    "start_time": "2022-06-15T14:41:08.242Z"
   },
   {
    "duration": 92,
    "start_time": "2022-06-15T14:41:08.370Z"
   },
   {
    "duration": 69,
    "start_time": "2022-06-15T14:41:08.464Z"
   },
   {
    "duration": 14,
    "start_time": "2022-06-15T14:41:08.534Z"
   },
   {
    "duration": 91,
    "start_time": "2022-06-15T14:41:08.549Z"
   },
   {
    "duration": 8,
    "start_time": "2022-06-15T14:41:08.642Z"
   },
   {
    "duration": 41,
    "start_time": "2022-06-15T14:41:08.651Z"
   },
   {
    "duration": 53,
    "start_time": "2022-06-15T14:41:08.694Z"
   },
   {
    "duration": 47,
    "start_time": "2022-06-15T14:41:08.749Z"
   },
   {
    "duration": 77,
    "start_time": "2022-06-15T14:41:08.798Z"
   },
   {
    "duration": 33,
    "start_time": "2022-06-15T14:41:08.877Z"
   },
   {
    "duration": 39,
    "start_time": "2022-06-15T14:41:23.152Z"
   },
   {
    "duration": 29,
    "start_time": "2022-06-15T14:43:25.678Z"
   },
   {
    "duration": 34,
    "start_time": "2022-06-15T14:45:54.629Z"
   },
   {
    "duration": 32,
    "start_time": "2022-06-15T14:46:26.260Z"
   },
   {
    "duration": 30,
    "start_time": "2022-06-15T14:46:40.160Z"
   },
   {
    "duration": 29,
    "start_time": "2022-06-15T14:49:08.679Z"
   },
   {
    "duration": 29,
    "start_time": "2022-06-15T14:51:43.561Z"
   },
   {
    "duration": 33,
    "start_time": "2022-06-15T14:52:40.867Z"
   },
   {
    "duration": 38,
    "start_time": "2022-06-15T14:53:53.189Z"
   },
   {
    "duration": 42,
    "start_time": "2022-06-15T14:55:52.165Z"
   },
   {
    "duration": 213,
    "start_time": "2022-06-15T14:57:22.357Z"
   },
   {
    "duration": 5,
    "start_time": "2022-06-15T14:58:04.709Z"
   },
   {
    "duration": 6,
    "start_time": "2022-06-15T14:58:18.139Z"
   },
   {
    "duration": 5,
    "start_time": "2022-06-15T14:58:44.606Z"
   },
   {
    "duration": 4,
    "start_time": "2022-06-15T14:59:01.088Z"
   },
   {
    "duration": 14,
    "start_time": "2022-06-15T15:01:26.897Z"
   },
   {
    "duration": 21,
    "start_time": "2022-06-15T15:04:23.698Z"
   },
   {
    "duration": 14,
    "start_time": "2022-06-15T15:05:06.871Z"
   },
   {
    "duration": 14,
    "start_time": "2022-06-15T15:06:42.062Z"
   },
   {
    "duration": 13,
    "start_time": "2022-06-15T15:07:48.158Z"
   },
   {
    "duration": 16,
    "start_time": "2022-06-15T15:09:07.654Z"
   },
   {
    "duration": 13,
    "start_time": "2022-06-15T15:10:29.668Z"
   },
   {
    "duration": 14,
    "start_time": "2022-06-15T15:10:52.009Z"
   },
   {
    "duration": 7,
    "start_time": "2022-06-15T15:13:16.959Z"
   },
   {
    "duration": 17,
    "start_time": "2022-06-15T15:14:53.858Z"
   },
   {
    "duration": 2,
    "start_time": "2022-06-15T16:04:14.120Z"
   },
   {
    "duration": 390,
    "start_time": "2022-06-15T16:04:14.141Z"
   },
   {
    "duration": 23,
    "start_time": "2022-06-15T16:04:14.533Z"
   },
   {
    "duration": 131,
    "start_time": "2022-06-15T16:04:14.557Z"
   },
   {
    "duration": 84,
    "start_time": "2022-06-15T16:04:14.690Z"
   },
   {
    "duration": 75,
    "start_time": "2022-06-15T16:04:14.775Z"
   },
   {
    "duration": 14,
    "start_time": "2022-06-15T16:04:14.851Z"
   },
   {
    "duration": 84,
    "start_time": "2022-06-15T16:04:14.866Z"
   },
   {
    "duration": 8,
    "start_time": "2022-06-15T16:04:14.952Z"
   },
   {
    "duration": 38,
    "start_time": "2022-06-15T16:04:14.961Z"
   },
   {
    "duration": 56,
    "start_time": "2022-06-15T16:04:15.001Z"
   },
   {
    "duration": 40,
    "start_time": "2022-06-15T16:04:15.058Z"
   },
   {
    "duration": 67,
    "start_time": "2022-06-15T16:04:15.099Z"
   },
   {
    "duration": 30,
    "start_time": "2022-06-15T16:04:15.168Z"
   },
   {
    "duration": 2,
    "start_time": "2022-06-15T16:05:10.728Z"
   },
   {
    "duration": 392,
    "start_time": "2022-06-15T16:05:10.736Z"
   },
   {
    "duration": 24,
    "start_time": "2022-06-15T16:05:11.130Z"
   },
   {
    "duration": 156,
    "start_time": "2022-06-15T16:05:11.156Z"
   },
   {
    "duration": 80,
    "start_time": "2022-06-15T16:05:11.314Z"
   },
   {
    "duration": 78,
    "start_time": "2022-06-15T16:05:11.396Z"
   },
   {
    "duration": 15,
    "start_time": "2022-06-15T16:05:11.475Z"
   },
   {
    "duration": 90,
    "start_time": "2022-06-15T16:05:11.491Z"
   },
   {
    "duration": 8,
    "start_time": "2022-06-15T16:05:11.583Z"
   },
   {
    "duration": 51,
    "start_time": "2022-06-15T16:05:11.592Z"
   },
   {
    "duration": 37,
    "start_time": "2022-06-15T16:05:11.644Z"
   },
   {
    "duration": 54,
    "start_time": "2022-06-15T16:05:11.683Z"
   },
   {
    "duration": 46,
    "start_time": "2022-06-15T16:05:11.740Z"
   },
   {
    "duration": 49,
    "start_time": "2022-06-15T16:05:11.788Z"
   },
   {
    "duration": 46,
    "start_time": "2022-06-15T16:09:26.481Z"
   },
   {
    "duration": 11,
    "start_time": "2022-06-15T16:12:12.048Z"
   },
   {
    "duration": 3,
    "start_time": "2022-06-15T16:12:25.111Z"
   },
   {
    "duration": 430,
    "start_time": "2022-06-15T16:12:25.118Z"
   },
   {
    "duration": 21,
    "start_time": "2022-06-15T16:12:25.550Z"
   },
   {
    "duration": 172,
    "start_time": "2022-06-15T16:12:25.573Z"
   },
   {
    "duration": 100,
    "start_time": "2022-06-15T16:12:25.747Z"
   },
   {
    "duration": 80,
    "start_time": "2022-06-15T16:12:25.849Z"
   },
   {
    "duration": 16,
    "start_time": "2022-06-15T16:12:25.930Z"
   },
   {
    "duration": 94,
    "start_time": "2022-06-15T16:12:25.948Z"
   },
   {
    "duration": 9,
    "start_time": "2022-06-15T16:12:26.044Z"
   },
   {
    "duration": 43,
    "start_time": "2022-06-15T16:12:26.054Z"
   },
   {
    "duration": 55,
    "start_time": "2022-06-15T16:12:26.099Z"
   },
   {
    "duration": 38,
    "start_time": "2022-06-15T16:12:26.155Z"
   },
   {
    "duration": 2,
    "start_time": "2022-06-15T16:12:49.036Z"
   },
   {
    "duration": 406,
    "start_time": "2022-06-15T16:12:49.042Z"
   },
   {
    "duration": 22,
    "start_time": "2022-06-15T16:12:49.449Z"
   },
   {
    "duration": 154,
    "start_time": "2022-06-15T16:12:49.472Z"
   },
   {
    "duration": 83,
    "start_time": "2022-06-15T16:12:49.628Z"
   },
   {
    "duration": 83,
    "start_time": "2022-06-15T16:12:49.712Z"
   },
   {
    "duration": 32,
    "start_time": "2022-06-15T16:12:49.797Z"
   },
   {
    "duration": 80,
    "start_time": "2022-06-15T16:12:49.832Z"
   },
   {
    "duration": 10,
    "start_time": "2022-06-15T16:12:49.926Z"
   },
   {
    "duration": 45,
    "start_time": "2022-06-15T16:12:49.938Z"
   },
   {
    "duration": 74,
    "start_time": "2022-06-15T16:12:49.986Z"
   },
   {
    "duration": 35,
    "start_time": "2022-06-15T16:12:50.061Z"
   },
   {
    "duration": 11,
    "start_time": "2022-06-15T16:13:21.756Z"
   },
   {
    "duration": 2,
    "start_time": "2022-06-15T16:13:49.535Z"
   },
   {
    "duration": 438,
    "start_time": "2022-06-15T16:13:49.543Z"
   },
   {
    "duration": 24,
    "start_time": "2022-06-15T16:13:49.983Z"
   },
   {
    "duration": 145,
    "start_time": "2022-06-15T16:13:50.009Z"
   },
   {
    "duration": 110,
    "start_time": "2022-06-15T16:13:50.156Z"
   },
   {
    "duration": 89,
    "start_time": "2022-06-15T16:13:50.268Z"
   },
   {
    "duration": 17,
    "start_time": "2022-06-15T16:13:50.359Z"
   },
   {
    "duration": 95,
    "start_time": "2022-06-15T16:13:50.378Z"
   },
   {
    "duration": 9,
    "start_time": "2022-06-15T16:13:50.474Z"
   },
   {
    "duration": 54,
    "start_time": "2022-06-15T16:13:50.485Z"
   },
   {
    "duration": 40,
    "start_time": "2022-06-15T16:13:50.541Z"
   },
   {
    "duration": 2,
    "start_time": "2022-06-15T16:14:28.692Z"
   },
   {
    "duration": 406,
    "start_time": "2022-06-15T16:14:28.699Z"
   },
   {
    "duration": 22,
    "start_time": "2022-06-15T16:14:29.106Z"
   },
   {
    "duration": 157,
    "start_time": "2022-06-15T16:14:29.130Z"
   },
   {
    "duration": 97,
    "start_time": "2022-06-15T16:14:29.289Z"
   },
   {
    "duration": 76,
    "start_time": "2022-06-15T16:14:29.387Z"
   },
   {
    "duration": 16,
    "start_time": "2022-06-15T16:14:29.464Z"
   },
   {
    "duration": 102,
    "start_time": "2022-06-15T16:14:29.482Z"
   },
   {
    "duration": 9,
    "start_time": "2022-06-15T16:14:29.585Z"
   },
   {
    "duration": 53,
    "start_time": "2022-06-15T16:14:29.596Z"
   },
   {
    "duration": 43,
    "start_time": "2022-06-15T16:14:29.652Z"
   },
   {
    "duration": 47,
    "start_time": "2022-06-15T16:14:29.697Z"
   },
   {
    "duration": 38,
    "start_time": "2022-06-15T16:14:29.746Z"
   },
   {
    "duration": 48,
    "start_time": "2022-06-15T16:14:29.786Z"
   },
   {
    "duration": 12,
    "start_time": "2022-06-15T16:14:29.835Z"
   },
   {
    "duration": 12,
    "start_time": "2022-06-15T16:14:29.849Z"
   },
   {
    "duration": 9,
    "start_time": "2022-06-15T16:35:37.871Z"
   },
   {
    "duration": 23,
    "start_time": "2022-06-15T16:35:52.004Z"
   },
   {
    "duration": 29,
    "start_time": "2022-06-15T16:36:39.549Z"
   },
   {
    "duration": 2,
    "start_time": "2022-06-15T16:37:50.160Z"
   },
   {
    "duration": 431,
    "start_time": "2022-06-15T16:37:50.164Z"
   },
   {
    "duration": 32,
    "start_time": "2022-06-15T16:37:50.597Z"
   },
   {
    "duration": 161,
    "start_time": "2022-06-15T16:37:50.630Z"
   },
   {
    "duration": 107,
    "start_time": "2022-06-15T16:37:50.794Z"
   },
   {
    "duration": 98,
    "start_time": "2022-06-15T16:37:50.904Z"
   },
   {
    "duration": 36,
    "start_time": "2022-06-15T16:37:51.004Z"
   },
   {
    "duration": 108,
    "start_time": "2022-06-15T16:37:51.042Z"
   },
   {
    "duration": 11,
    "start_time": "2022-06-15T16:37:51.152Z"
   },
   {
    "duration": 49,
    "start_time": "2022-06-15T16:37:51.165Z"
   },
   {
    "duration": 55,
    "start_time": "2022-06-15T16:37:51.228Z"
   },
   {
    "duration": 57,
    "start_time": "2022-06-15T16:37:51.285Z"
   },
   {
    "duration": 46,
    "start_time": "2022-06-15T16:37:51.344Z"
   },
   {
    "duration": 50,
    "start_time": "2022-06-15T16:37:51.392Z"
   },
   {
    "duration": 13,
    "start_time": "2022-06-15T16:37:51.443Z"
   },
   {
    "duration": 12,
    "start_time": "2022-06-15T16:37:51.457Z"
   },
   {
    "duration": 20,
    "start_time": "2022-06-15T16:37:51.471Z"
   },
   {
    "duration": 29,
    "start_time": "2022-06-15T16:41:25.461Z"
   },
   {
    "duration": 25,
    "start_time": "2022-06-15T16:43:57.690Z"
   },
   {
    "duration": 8,
    "start_time": "2022-06-15T16:47:50.940Z"
   },
   {
    "duration": 7,
    "start_time": "2022-06-15T16:48:53.844Z"
   },
   {
    "duration": 507,
    "start_time": "2022-06-15T16:49:22.879Z"
   },
   {
    "duration": 187,
    "start_time": "2022-06-15T16:52:04.620Z"
   },
   {
    "duration": 24,
    "start_time": "2022-06-15T17:08:36.939Z"
   },
   {
    "duration": 3,
    "start_time": "2022-06-15T17:13:13.117Z"
   },
   {
    "duration": 123,
    "start_time": "2022-06-15T17:19:59.357Z"
   },
   {
    "duration": 131,
    "start_time": "2022-06-15T17:22:22.429Z"
   },
   {
    "duration": 131,
    "start_time": "2022-06-15T17:23:39.540Z"
   },
   {
    "duration": 131,
    "start_time": "2022-06-15T17:25:35.082Z"
   },
   {
    "duration": 133,
    "start_time": "2022-06-15T17:25:50.788Z"
   },
   {
    "duration": 160,
    "start_time": "2022-06-15T17:26:13.452Z"
   },
   {
    "duration": 204,
    "start_time": "2022-06-15T17:27:35.328Z"
   },
   {
    "duration": 168,
    "start_time": "2022-06-15T17:34:16.718Z"
   },
   {
    "duration": 179,
    "start_time": "2022-06-15T17:34:50.389Z"
   },
   {
    "duration": 15,
    "start_time": "2022-06-15T17:35:46.870Z"
   },
   {
    "duration": 200,
    "start_time": "2022-06-15T17:36:02.270Z"
   },
   {
    "duration": 202,
    "start_time": "2022-06-15T17:37:24.984Z"
   },
   {
    "duration": 234,
    "start_time": "2022-06-15T17:38:59.051Z"
   },
   {
    "duration": 294,
    "start_time": "2022-06-15T17:40:03.166Z"
   },
   {
    "duration": 226,
    "start_time": "2022-06-15T17:40:44.211Z"
   },
   {
    "duration": 345,
    "start_time": "2022-06-15T17:42:55.562Z"
   },
   {
    "duration": 285,
    "start_time": "2022-06-15T17:43:10.774Z"
   },
   {
    "duration": 463,
    "start_time": "2022-06-15T17:43:20.483Z"
   },
   {
    "duration": 328,
    "start_time": "2022-06-15T17:44:34.387Z"
   },
   {
    "duration": 259,
    "start_time": "2022-06-15T17:44:48.860Z"
   },
   {
    "duration": 288,
    "start_time": "2022-06-15T17:44:56.829Z"
   },
   {
    "duration": 224,
    "start_time": "2022-06-15T17:45:38.179Z"
   },
   {
    "duration": 204,
    "start_time": "2022-06-15T17:52:46.255Z"
   },
   {
    "duration": 251,
    "start_time": "2022-06-15T17:53:30.178Z"
   },
   {
    "duration": 256,
    "start_time": "2022-06-15T18:07:15.449Z"
   },
   {
    "duration": 278,
    "start_time": "2022-06-15T18:07:31.270Z"
   },
   {
    "duration": 24,
    "start_time": "2022-06-15T18:24:04.957Z"
   },
   {
    "duration": 305,
    "start_time": "2022-06-15T18:30:15.958Z"
   },
   {
    "duration": 25,
    "start_time": "2022-06-15T18:36:38.397Z"
   },
   {
    "duration": 274,
    "start_time": "2022-06-15T18:45:04.808Z"
   },
   {
    "duration": 29,
    "start_time": "2022-06-15T19:04:35.269Z"
   },
   {
    "duration": 27,
    "start_time": "2022-06-15T19:04:55.550Z"
   },
   {
    "duration": 22,
    "start_time": "2022-06-15T19:05:11.970Z"
   },
   {
    "duration": 38,
    "start_time": "2022-06-15T19:05:36.259Z"
   },
   {
    "duration": 31,
    "start_time": "2022-06-15T19:07:13.557Z"
   },
   {
    "duration": 29,
    "start_time": "2022-06-15T19:09:19.029Z"
   },
   {
    "duration": 16,
    "start_time": "2022-06-15T19:23:16.118Z"
   },
   {
    "duration": 8,
    "start_time": "2022-06-15T19:25:17.692Z"
   },
   {
    "duration": 46,
    "start_time": "2022-06-15T19:26:36.570Z"
   },
   {
    "duration": 12,
    "start_time": "2022-06-15T19:26:44.198Z"
   },
   {
    "duration": 2,
    "start_time": "2022-06-15T19:27:49.406Z"
   },
   {
    "duration": 416,
    "start_time": "2022-06-15T19:27:49.411Z"
   },
   {
    "duration": 28,
    "start_time": "2022-06-15T19:27:49.829Z"
   },
   {
    "duration": 137,
    "start_time": "2022-06-15T19:27:49.858Z"
   },
   {
    "duration": 102,
    "start_time": "2022-06-15T19:27:49.997Z"
   },
   {
    "duration": 76,
    "start_time": "2022-06-15T19:27:50.101Z"
   },
   {
    "duration": 15,
    "start_time": "2022-06-15T19:27:50.179Z"
   },
   {
    "duration": 98,
    "start_time": "2022-06-15T19:27:50.195Z"
   },
   {
    "duration": 9,
    "start_time": "2022-06-15T19:27:50.295Z"
   },
   {
    "duration": 50,
    "start_time": "2022-06-15T19:27:50.306Z"
   },
   {
    "duration": 46,
    "start_time": "2022-06-15T19:27:50.359Z"
   },
   {
    "duration": 51,
    "start_time": "2022-06-15T19:27:50.407Z"
   },
   {
    "duration": 37,
    "start_time": "2022-06-15T19:27:50.460Z"
   },
   {
    "duration": 50,
    "start_time": "2022-06-15T19:27:50.499Z"
   },
   {
    "duration": 15,
    "start_time": "2022-06-15T19:27:50.551Z"
   },
   {
    "duration": 19,
    "start_time": "2022-06-15T19:27:50.568Z"
   },
   {
    "duration": 55,
    "start_time": "2022-06-15T19:27:50.589Z"
   },
   {
    "duration": 37,
    "start_time": "2022-06-15T19:27:50.646Z"
   },
   {
    "duration": 302,
    "start_time": "2022-06-15T19:27:50.684Z"
   },
   {
    "duration": 39,
    "start_time": "2022-06-15T19:27:50.988Z"
   },
   {
    "duration": 235,
    "start_time": "2022-06-15T19:27:51.029Z"
   },
   {
    "duration": 29,
    "start_time": "2022-06-15T19:27:51.265Z"
   },
   {
    "duration": 257,
    "start_time": "2022-06-15T19:27:51.296Z"
   },
   {
    "duration": 11,
    "start_time": "2022-06-15T19:27:51.555Z"
   },
   {
    "duration": 10,
    "start_time": "2022-06-15T19:27:51.568Z"
   },
   {
    "duration": 12,
    "start_time": "2022-06-15T19:27:51.580Z"
   },
   {
    "duration": 23,
    "start_time": "2022-06-15T19:29:06.266Z"
   },
   {
    "duration": 5,
    "start_time": "2022-06-15T19:35:34.445Z"
   },
   {
    "duration": 960,
    "start_time": "2022-06-15T20:18:23.610Z"
   },
   {
    "duration": 429,
    "start_time": "2022-06-15T20:18:24.572Z"
   },
   {
    "duration": 28,
    "start_time": "2022-06-15T20:18:25.002Z"
   },
   {
    "duration": 140,
    "start_time": "2022-06-15T20:18:25.032Z"
   },
   {
    "duration": 100,
    "start_time": "2022-06-15T20:18:25.175Z"
   },
   {
    "duration": 70,
    "start_time": "2022-06-15T20:18:25.277Z"
   },
   {
    "duration": 15,
    "start_time": "2022-06-15T20:18:25.349Z"
   },
   {
    "duration": 90,
    "start_time": "2022-06-15T20:18:25.365Z"
   },
   {
    "duration": 9,
    "start_time": "2022-06-15T20:18:25.456Z"
   },
   {
    "duration": 40,
    "start_time": "2022-06-15T20:18:25.466Z"
   },
   {
    "duration": 56,
    "start_time": "2022-06-15T20:18:25.507Z"
   },
   {
    "duration": 33,
    "start_time": "2022-06-15T20:18:25.564Z"
   },
   {
    "duration": 55,
    "start_time": "2022-06-15T20:18:25.598Z"
   },
   {
    "duration": 24,
    "start_time": "2022-06-15T20:18:25.655Z"
   },
   {
    "duration": 10,
    "start_time": "2022-06-15T20:18:25.680Z"
   },
   {
    "duration": 41,
    "start_time": "2022-06-15T20:18:25.692Z"
   },
   {
    "duration": 29,
    "start_time": "2022-06-15T20:18:25.739Z"
   },
   {
    "duration": 38,
    "start_time": "2022-06-15T20:18:25.770Z"
   },
   {
    "duration": 269,
    "start_time": "2022-06-15T20:18:25.809Z"
   },
   {
    "duration": 46,
    "start_time": "2022-06-15T20:18:26.080Z"
   },
   {
    "duration": 247,
    "start_time": "2022-06-15T20:18:26.128Z"
   },
   {
    "duration": 32,
    "start_time": "2022-06-15T20:18:26.376Z"
   },
   {
    "duration": 273,
    "start_time": "2022-06-15T20:18:26.426Z"
   },
   {
    "duration": 10,
    "start_time": "2022-06-15T20:18:26.700Z"
   },
   {
    "duration": 97,
    "start_time": "2022-06-15T20:18:26.712Z"
   },
   {
    "duration": 42,
    "start_time": "2022-06-15T20:18:26.811Z"
   },
   {
    "duration": 19,
    "start_time": "2022-06-15T20:18:26.854Z"
   },
   {
    "duration": 1094,
    "start_time": "2022-06-16T08:16:16.641Z"
   },
   {
    "duration": 1140,
    "start_time": "2022-06-16T08:16:17.737Z"
   },
   {
    "duration": 26,
    "start_time": "2022-06-16T08:16:18.880Z"
   },
   {
    "duration": 148,
    "start_time": "2022-06-16T08:16:18.908Z"
   },
   {
    "duration": 97,
    "start_time": "2022-06-16T08:16:19.058Z"
   },
   {
    "duration": 78,
    "start_time": "2022-06-16T08:16:19.157Z"
   },
   {
    "duration": 21,
    "start_time": "2022-06-16T08:16:19.237Z"
   },
   {
    "duration": 100,
    "start_time": "2022-06-16T08:16:19.278Z"
   },
   {
    "duration": 10,
    "start_time": "2022-06-16T08:16:19.381Z"
   },
   {
    "duration": 40,
    "start_time": "2022-06-16T08:16:19.393Z"
   },
   {
    "duration": 66,
    "start_time": "2022-06-16T08:16:19.435Z"
   },
   {
    "duration": 34,
    "start_time": "2022-06-16T08:16:19.502Z"
   },
   {
    "duration": 61,
    "start_time": "2022-06-16T08:16:19.538Z"
   },
   {
    "duration": 25,
    "start_time": "2022-06-16T08:16:19.601Z"
   },
   {
    "duration": 12,
    "start_time": "2022-06-16T08:16:19.628Z"
   },
   {
    "duration": 37,
    "start_time": "2022-06-16T08:16:19.642Z"
   },
   {
    "duration": 35,
    "start_time": "2022-06-16T08:16:19.681Z"
   },
   {
    "duration": 31,
    "start_time": "2022-06-16T08:16:19.717Z"
   },
   {
    "duration": 282,
    "start_time": "2022-06-16T08:16:19.749Z"
   },
   {
    "duration": 30,
    "start_time": "2022-06-16T08:16:20.032Z"
   },
   {
    "duration": 237,
    "start_time": "2022-06-16T08:16:20.064Z"
   },
   {
    "duration": 30,
    "start_time": "2022-06-16T08:16:20.303Z"
   },
   {
    "duration": 260,
    "start_time": "2022-06-16T08:16:20.335Z"
   },
   {
    "duration": 10,
    "start_time": "2022-06-16T08:16:20.597Z"
   },
   {
    "duration": 13,
    "start_time": "2022-06-16T08:16:20.609Z"
   },
   {
    "duration": 11,
    "start_time": "2022-06-16T08:16:20.623Z"
   },
   {
    "duration": 5,
    "start_time": "2022-06-16T08:16:20.637Z"
   },
   {
    "duration": 11,
    "start_time": "2022-06-16T08:19:14.162Z"
   },
   {
    "duration": 12,
    "start_time": "2022-06-16T08:21:44.936Z"
   },
   {
    "duration": 7,
    "start_time": "2022-06-16T08:22:07.412Z"
   },
   {
    "duration": 6,
    "start_time": "2022-06-16T08:23:02.399Z"
   },
   {
    "duration": 7,
    "start_time": "2022-06-16T08:23:29.328Z"
   },
   {
    "duration": 13,
    "start_time": "2022-06-16T08:23:38.057Z"
   },
   {
    "duration": 20,
    "start_time": "2022-06-16T08:39:40.844Z"
   },
   {
    "duration": 20,
    "start_time": "2022-06-16T08:39:50.798Z"
   },
   {
    "duration": 36,
    "start_time": "2022-06-16T08:40:44.116Z"
   },
   {
    "duration": 136,
    "start_time": "2022-06-16T08:43:01.994Z"
   },
   {
    "duration": 135,
    "start_time": "2022-06-16T08:43:11.768Z"
   },
   {
    "duration": 979,
    "start_time": "2022-06-16T08:43:30.802Z"
   },
   {
    "duration": 537,
    "start_time": "2022-06-16T08:43:31.783Z"
   },
   {
    "duration": 29,
    "start_time": "2022-06-16T08:43:32.321Z"
   },
   {
    "duration": 150,
    "start_time": "2022-06-16T08:43:32.352Z"
   },
   {
    "duration": 147,
    "start_time": "2022-06-16T08:43:32.504Z"
   },
   {
    "duration": 103,
    "start_time": "2022-06-16T08:43:32.653Z"
   },
   {
    "duration": 36,
    "start_time": "2022-06-16T08:43:32.757Z"
   },
   {
    "duration": 122,
    "start_time": "2022-06-16T08:43:32.795Z"
   },
   {
    "duration": 10,
    "start_time": "2022-06-16T08:43:32.919Z"
   },
   {
    "duration": 54,
    "start_time": "2022-06-16T08:43:32.932Z"
   },
   {
    "duration": 64,
    "start_time": "2022-06-16T08:43:32.988Z"
   },
   {
    "duration": 46,
    "start_time": "2022-06-16T08:43:33.055Z"
   },
   {
    "duration": 42,
    "start_time": "2022-06-16T08:43:33.103Z"
   },
   {
    "duration": 50,
    "start_time": "2022-06-16T08:43:33.146Z"
   },
   {
    "duration": 16,
    "start_time": "2022-06-16T08:43:33.198Z"
   },
   {
    "duration": 16,
    "start_time": "2022-06-16T08:43:33.216Z"
   },
   {
    "duration": 46,
    "start_time": "2022-06-16T08:43:33.233Z"
   },
   {
    "duration": 31,
    "start_time": "2022-06-16T08:43:33.281Z"
   },
   {
    "duration": 311,
    "start_time": "2022-06-16T08:43:33.314Z"
   },
   {
    "duration": 52,
    "start_time": "2022-06-16T08:43:33.627Z"
   },
   {
    "duration": 270,
    "start_time": "2022-06-16T08:43:33.681Z"
   },
   {
    "duration": 48,
    "start_time": "2022-06-16T08:43:33.953Z"
   },
   {
    "duration": 282,
    "start_time": "2022-06-16T08:43:34.002Z"
   },
   {
    "duration": 12,
    "start_time": "2022-06-16T08:43:34.287Z"
   },
   {
    "duration": 63,
    "start_time": "2022-06-16T08:43:34.301Z"
   },
   {
    "duration": 35,
    "start_time": "2022-06-16T08:43:34.366Z"
   },
   {
    "duration": 21,
    "start_time": "2022-06-16T08:43:34.403Z"
   },
   {
    "duration": 109,
    "start_time": "2022-06-16T08:43:59.528Z"
   },
   {
    "duration": 116,
    "start_time": "2022-06-16T08:44:15.576Z"
   },
   {
    "duration": 11,
    "start_time": "2022-06-16T08:52:25.966Z"
   },
   {
    "duration": 7,
    "start_time": "2022-06-16T08:52:43.947Z"
   },
   {
    "duration": 7,
    "start_time": "2022-06-16T08:52:44.944Z"
   },
   {
    "duration": 133,
    "start_time": "2022-06-16T08:55:56.756Z"
   },
   {
    "duration": 173,
    "start_time": "2022-06-16T08:56:07.653Z"
   },
   {
    "duration": 9,
    "start_time": "2022-06-16T08:56:59.579Z"
   },
   {
    "duration": 1299,
    "start_time": "2022-06-16T12:14:56.632Z"
   },
   {
    "duration": 1002,
    "start_time": "2022-06-16T12:14:57.933Z"
   },
   {
    "duration": 41,
    "start_time": "2022-06-16T12:14:58.937Z"
   },
   {
    "duration": 164,
    "start_time": "2022-06-16T12:14:58.980Z"
   },
   {
    "duration": 127,
    "start_time": "2022-06-16T12:14:59.147Z"
   },
   {
    "duration": 91,
    "start_time": "2022-06-16T12:14:59.277Z"
   },
   {
    "duration": 15,
    "start_time": "2022-06-16T12:14:59.369Z"
   },
   {
    "duration": 102,
    "start_time": "2022-06-16T12:14:59.386Z"
   },
   {
    "duration": 11,
    "start_time": "2022-06-16T12:14:59.489Z"
   },
   {
    "duration": 73,
    "start_time": "2022-06-16T12:14:59.502Z"
   },
   {
    "duration": 54,
    "start_time": "2022-06-16T12:14:59.576Z"
   },
   {
    "duration": 38,
    "start_time": "2022-06-16T12:14:59.632Z"
   },
   {
    "duration": 55,
    "start_time": "2022-06-16T12:14:59.672Z"
   },
   {
    "duration": 28,
    "start_time": "2022-06-16T12:14:59.730Z"
   },
   {
    "duration": 12,
    "start_time": "2022-06-16T12:14:59.760Z"
   },
   {
    "duration": 21,
    "start_time": "2022-06-16T12:14:59.774Z"
   },
   {
    "duration": 62,
    "start_time": "2022-06-16T12:14:59.797Z"
   },
   {
    "duration": 39,
    "start_time": "2022-06-16T12:14:59.861Z"
   },
   {
    "duration": 261,
    "start_time": "2022-06-16T12:14:59.901Z"
   },
   {
    "duration": 30,
    "start_time": "2022-06-16T12:15:00.164Z"
   },
   {
    "duration": 242,
    "start_time": "2022-06-16T12:15:00.196Z"
   },
   {
    "duration": 30,
    "start_time": "2022-06-16T12:15:00.439Z"
   },
   {
    "duration": 273,
    "start_time": "2022-06-16T12:15:00.471Z"
   },
   {
    "duration": 14,
    "start_time": "2022-06-16T12:15:00.746Z"
   },
   {
    "duration": 69,
    "start_time": "2022-06-16T12:15:00.762Z"
   },
   {
    "duration": 41,
    "start_time": "2022-06-16T12:15:00.833Z"
   },
   {
    "duration": 36,
    "start_time": "2022-06-16T12:15:00.876Z"
   },
   {
    "duration": 940,
    "start_time": "2022-06-16T20:06:48.572Z"
   },
   {
    "duration": 1225,
    "start_time": "2022-06-16T20:06:49.514Z"
   },
   {
    "duration": 31,
    "start_time": "2022-06-16T20:06:50.740Z"
   },
   {
    "duration": 155,
    "start_time": "2022-06-16T20:06:50.773Z"
   },
   {
    "duration": 109,
    "start_time": "2022-06-16T20:06:50.931Z"
   },
   {
    "duration": 64,
    "start_time": "2022-06-16T20:06:51.041Z"
   },
   {
    "duration": 33,
    "start_time": "2022-06-16T20:06:51.107Z"
   },
   {
    "duration": 92,
    "start_time": "2022-06-16T20:06:51.141Z"
   },
   {
    "duration": 9,
    "start_time": "2022-06-16T20:06:51.238Z"
   },
   {
    "duration": 35,
    "start_time": "2022-06-16T20:06:51.250Z"
   },
   {
    "duration": 60,
    "start_time": "2022-06-16T20:06:51.287Z"
   },
   {
    "duration": 37,
    "start_time": "2022-06-16T20:06:51.349Z"
   },
   {
    "duration": 58,
    "start_time": "2022-06-16T20:06:51.388Z"
   },
   {
    "duration": 26,
    "start_time": "2022-06-16T20:06:51.447Z"
   },
   {
    "duration": 11,
    "start_time": "2022-06-16T20:06:51.475Z"
   },
   {
    "duration": 10,
    "start_time": "2022-06-16T20:06:51.488Z"
   },
   {
    "duration": 56,
    "start_time": "2022-06-16T20:06:51.500Z"
   },
   {
    "duration": 31,
    "start_time": "2022-06-16T20:06:51.557Z"
   },
   {
    "duration": 291,
    "start_time": "2022-06-16T20:06:51.589Z"
   },
   {
    "duration": 30,
    "start_time": "2022-06-16T20:06:51.881Z"
   },
   {
    "duration": 229,
    "start_time": "2022-06-16T20:06:51.912Z"
   },
   {
    "duration": 29,
    "start_time": "2022-06-16T20:06:52.142Z"
   },
   {
    "duration": 248,
    "start_time": "2022-06-16T20:06:52.173Z"
   },
   {
    "duration": 14,
    "start_time": "2022-06-16T20:06:52.426Z"
   },
   {
    "duration": 11,
    "start_time": "2022-06-16T20:06:52.441Z"
   },
   {
    "duration": 10,
    "start_time": "2022-06-16T20:06:52.453Z"
   }
  ],
  "kernelspec": {
   "display_name": "Python 3 (ipykernel)",
   "language": "python",
   "name": "python3"
  },
  "language_info": {
   "codemirror_mode": {
    "name": "ipython",
    "version": 3
   },
   "file_extension": ".py",
   "mimetype": "text/x-python",
   "name": "python",
   "nbconvert_exporter": "python",
   "pygments_lexer": "ipython3",
   "version": "3.9.13"
  },
  "toc": {
   "base_numbering": 1,
   "nav_menu": {},
   "number_sections": true,
   "sideBar": true,
   "skip_h1_title": true,
   "title_cell": "Table of Contents",
   "title_sidebar": "Contents",
   "toc_cell": false,
   "toc_position": {},
   "toc_section_display": true,
   "toc_window_display": true
  }
 },
 "nbformat": 4,
 "nbformat_minor": 2
}
