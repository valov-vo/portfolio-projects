{
 "cells": [
  {
   "cell_type": "markdown",
   "id": "f21fb4f2",
   "metadata": {
    "toc": true
   },
   "source": [
    "<h1>Table of Contents<span class=\"tocSkip\"></span></h1>\n",
    "<div class=\"toc\"><ul class=\"toc-item\"><li><span><a href=\"#Описание-проекта\" data-toc-modified-id=\"Описание-проекта-1\"><span class=\"toc-item-num\">1&nbsp;&nbsp;</span>Описание проекта</a></span><ul class=\"toc-item\"><li><span><a href=\"#Общая-информация\" data-toc-modified-id=\"Общая-информация-1.1\"><span class=\"toc-item-num\">1.1&nbsp;&nbsp;</span>Общая информация</a></span></li><li><span><a href=\"#Описание-данных\" data-toc-modified-id=\"Описание-данных-1.2\"><span class=\"toc-item-num\">1.2&nbsp;&nbsp;</span>Описание данных</a></span></li></ul></li><li><span><a href=\"#Предобработка\" data-toc-modified-id=\"Предобработка-2\"><span class=\"toc-item-num\">2&nbsp;&nbsp;</span>Предобработка</a></span><ul class=\"toc-item\"><li><span><a href=\"#Знакомство-с-данными.-Планирование-предобработки\" data-toc-modified-id=\"Знакомство-с-данными.-Планирование-предобработки-2.1\"><span class=\"toc-item-num\">2.1&nbsp;&nbsp;</span>Знакомство с данными. Планирование предобработки</a></span></li><li><span><a href=\"#Процесс-предобработки\" data-toc-modified-id=\"Процесс-предобработки-2.2\"><span class=\"toc-item-num\">2.2&nbsp;&nbsp;</span>Процесс предобработки</a></span><ul class=\"toc-item\"><li><span><a href=\"#Работа-с-названиями-столбцов-и-столбцом-name\" data-toc-modified-id=\"Работа-с-названиями-столбцов-и-столбцом-name-2.2.1\"><span class=\"toc-item-num\">2.2.1&nbsp;&nbsp;</span>Работа с названиями столбцов и столбцом <em>name</em></a></span></li><li><span><a href=\"#Названия-платформ-и-годы-релиза\" data-toc-modified-id=\"Названия-платформ-и-годы-релиза-2.2.2\"><span class=\"toc-item-num\">2.2.2&nbsp;&nbsp;</span>Названия платформ и годы релиза</a></span></li><li><span><a href=\"#Жанры-и-оценки-пользователей\" data-toc-modified-id=\"Жанры-и-оценки-пользователей-2.2.3\"><span class=\"toc-item-num\">2.2.3&nbsp;&nbsp;</span>Жанры и оценки пользователей</a></span></li><li><span><a href=\"#Рейтинг\" data-toc-modified-id=\"Рейтинг-2.2.4\"><span class=\"toc-item-num\">2.2.4&nbsp;&nbsp;</span>Рейтинг</a></span></li><li><span><a href=\"#Расчёт-суммарных-продаж\" data-toc-modified-id=\"Расчёт-суммарных-продаж-2.2.5\"><span class=\"toc-item-num\">2.2.5&nbsp;&nbsp;</span>Расчёт суммарных продаж</a></span></li></ul></li><li><span><a href=\"#Итоги-предобработки\" data-toc-modified-id=\"Итоги-предобработки-2.3\"><span class=\"toc-item-num\">2.3&nbsp;&nbsp;</span>Итоги предобработки</a></span></li></ul></li><li><span><a href=\"#Анализ-данных\" data-toc-modified-id=\"Анализ-данных-3\"><span class=\"toc-item-num\">3&nbsp;&nbsp;</span>Анализ данных</a></span><ul class=\"toc-item\"><li><span><a href=\"#Количество-игр-в-разные-годы\" data-toc-modified-id=\"Количество-игр-в-разные-годы-3.1\"><span class=\"toc-item-num\">3.1&nbsp;&nbsp;</span>Количество игр в разные годы</a></span></li><li><span><a href=\"#Изменение-суммарных-продаж-на-разных-платформах\" data-toc-modified-id=\"Изменение-суммарных-продаж-на-разных-платформах-3.2\"><span class=\"toc-item-num\">3.2&nbsp;&nbsp;</span>Изменение суммарных продаж на разных платформах</a></span></li><li><span><a href=\"#Лидирующие-по-продажам-платформы\" data-toc-modified-id=\"Лидирующие-по-продажам-платформы-3.3\"><span class=\"toc-item-num\">3.3&nbsp;&nbsp;</span>Лидирующие по продажам платформы</a></span></li><li><span><a href=\"#Диаграмма-размаха-продаж-по-платформам\" data-toc-modified-id=\"Диаграмма-размаха-продаж-по-платформам-3.4\"><span class=\"toc-item-num\">3.4&nbsp;&nbsp;</span>Диаграмма размаха продаж по платформам</a></span></li><li><span><a href=\"#Влияние-отзывов-пользователей-и-критиков\" data-toc-modified-id=\"Влияние-отзывов-пользователей-и-критиков-3.5\"><span class=\"toc-item-num\">3.5&nbsp;&nbsp;</span>Влияние отзывов пользователей и критиков</a></span></li><li><span><a href=\"#Распределение-игр-по-жанрам\" data-toc-modified-id=\"Распределение-игр-по-жанрам-3.6\"><span class=\"toc-item-num\">3.6&nbsp;&nbsp;</span>Распределение игр по жанрам</a></span></li><li><span><a href=\"#Итоги-анализа\" data-toc-modified-id=\"Итоги-анализа-3.7\"><span class=\"toc-item-num\">3.7&nbsp;&nbsp;</span>Итоги анализа</a></span></li></ul></li><li><span><a href=\"#Портреты-пользователей-по-регионам\" data-toc-modified-id=\"Портреты-пользователей-по-регионам-4\"><span class=\"toc-item-num\">4&nbsp;&nbsp;</span>Портреты пользователей по регионам</a></span><ul class=\"toc-item\"><li><span><a href=\"#Топ-5-популярных-платформ\" data-toc-modified-id=\"Топ-5-популярных-платформ-4.1\"><span class=\"toc-item-num\">4.1&nbsp;&nbsp;</span>Топ-5 популярных платформ</a></span></li><li><span><a href=\"#Топ-5-популярных-жанров\" data-toc-modified-id=\"Топ-5-популярных-жанров-4.2\"><span class=\"toc-item-num\">4.2&nbsp;&nbsp;</span>Топ-5 популярных жанров</a></span></li><li><span><a href=\"#Влияние-рейтинга-на-продажи\" data-toc-modified-id=\"Влияние-рейтинга-на-продажи-4.3\"><span class=\"toc-item-num\">4.3&nbsp;&nbsp;</span>Влияние рейтинга на продажи</a></span></li><li><span><a href=\"#Итоговые-портреты-пользователей\" data-toc-modified-id=\"Итоговые-портреты-пользователей-4.4\"><span class=\"toc-item-num\">4.4&nbsp;&nbsp;</span>Итоговые портреты пользователей</a></span></li></ul></li><li><span><a href=\"#Проверка-гипотез\" data-toc-modified-id=\"Проверка-гипотез-5\"><span class=\"toc-item-num\">5&nbsp;&nbsp;</span>Проверка гипотез</a></span></li><li><span><a href=\"#Общий-вывод\" data-toc-modified-id=\"Общий-вывод-6\"><span class=\"toc-item-num\">6&nbsp;&nbsp;</span>Общий вывод</a></span></li></ul></div>"
   ]
  },
  {
   "cell_type": "markdown",
   "id": "856eb1a5",
   "metadata": {},
   "source": [
    "## Описание проекта"
   ]
  },
  {
   "cell_type": "markdown",
   "id": "bde3a4c8",
   "metadata": {},
   "source": [
    "### Общая информация"
   ]
  },
  {
   "cell_type": "markdown",
   "id": "b83cc3b2",
   "metadata": {},
   "source": [
    "Исследуем данные интернет-магазина «Стримчик», который продаёт по всему миру компьютерные игры. Из открытых источников доступны исторические данные о продажах игр, оценки пользователей и экспертов, жанры и платформы (например, Xbox или PlayStation). Нужно **выявить определяющие успешность игры закономерности**. Это позволит сделать ставку на потенциально популярный продукт и спланировать рекламные кампании.\n",
    "\n",
    "В нашем распоряжении данные до 2016 года. Представим, что сейчас декабрь 2016 г., и мы планируем кампанию на 2017-й. Нужно отработать принцип работы с данными. Неважно, прогнозируем ли мы продажи на 2017 год по данным 2016-го или же 2027-й — по данным 2026 года.\n",
    "\n",
    "В наборе данных попадается аббревиатура ESRB (Entertainment Software Rating Board) — это ассоциация, определяющая возрастной рейтинг компьютерных игр. ESRB оценивает игровой контент и присваивает ему подходящую возрастную категорию, например, «Для взрослых», «Для детей младшего возраста» или «Для подростков».\n",
    "\n",
    "**Данные за 2016 год могут быть неполными.**"
   ]
  },
  {
   "cell_type": "markdown",
   "id": "b628ae60",
   "metadata": {},
   "source": [
    "### Описание данных"
   ]
  },
  {
   "cell_type": "markdown",
   "id": "0ecc46b7",
   "metadata": {},
   "source": [
    "- *Name* — название игры\n",
    "- *Platform* — платформа\n",
    "- *Year_of_Release* — год выпуска\n",
    "- *Genre* — жанр игры\n",
    "- *NA_sales* — продажи в Северной Америке (миллионы проданных копий)\n",
    "- *EU_sales* — продажи в Европе (миллионы проданных копий)\n",
    "- *JP_sales* — продажи в Японии (миллионы проданных копий)\n",
    "- *Other_sales* — продажи в других странах (миллионы проданных копий)\n",
    "- *Critic_Score* — оценка критиков (максимум 100)\n",
    "- *User_Score* — оценка пользователей (максимум 10)\n",
    "- *Rating* — рейтинг от организации ESRB (англ. Entertainment Software Rating Board). Эта ассоциация определяет рейтинг компьютерных игр и присваивает им подходящую возрастную категорию."
   ]
  },
  {
   "cell_type": "markdown",
   "id": "27191d05",
   "metadata": {},
   "source": [
    "## Предобработка"
   ]
  },
  {
   "cell_type": "markdown",
   "id": "8a309e35",
   "metadata": {},
   "source": [
    "Импортируем необходимые для работы библиотеки"
   ]
  },
  {
   "cell_type": "code",
   "execution_count": 1,
   "id": "b867e979",
   "metadata": {},
   "outputs": [],
   "source": [
    "import pandas as pd\n",
    "import math\n",
    "import numpy as np\n",
    "from scipy import stats as st\n",
    "import matplotlib.pyplot as plt\n",
    "import seaborn as sns"
   ]
  },
  {
   "cell_type": "markdown",
   "id": "c58aa1af",
   "metadata": {},
   "source": [
    "### Знакомство с данными. Планирование предобработки"
   ]
  },
  {
   "cell_type": "markdown",
   "id": "d709f8ee",
   "metadata": {},
   "source": [
    "Загружаем данные и визуально знакомимся с получившимся датафреймом"
   ]
  },
  {
   "cell_type": "code",
   "execution_count": 2,
   "id": "ba238e30",
   "metadata": {
    "scrolled": false
   },
   "outputs": [
    {
     "name": "stdout",
     "output_type": "stream",
     "text": [
      "<class 'pandas.core.frame.DataFrame'>\n",
      "RangeIndex: 16715 entries, 0 to 16714\n",
      "Data columns (total 11 columns):\n",
      " #   Column           Non-Null Count  Dtype  \n",
      "---  ------           --------------  -----  \n",
      " 0   Name             16713 non-null  object \n",
      " 1   Platform         16715 non-null  object \n",
      " 2   Year_of_Release  16446 non-null  float64\n",
      " 3   Genre            16713 non-null  object \n",
      " 4   NA_sales         16715 non-null  float64\n",
      " 5   EU_sales         16715 non-null  float64\n",
      " 6   JP_sales         16715 non-null  float64\n",
      " 7   Other_sales      16715 non-null  float64\n",
      " 8   Critic_Score     8137 non-null   float64\n",
      " 9   User_Score       10014 non-null  object \n",
      " 10  Rating           9949 non-null   object \n",
      "dtypes: float64(6), object(5)\n",
      "memory usage: 1.4+ MB\n"
     ]
    },
    {
     "data": {
      "text/html": [
       "<div>\n",
       "<style scoped>\n",
       "    .dataframe tbody tr th:only-of-type {\n",
       "        vertical-align: middle;\n",
       "    }\n",
       "\n",
       "    .dataframe tbody tr th {\n",
       "        vertical-align: top;\n",
       "    }\n",
       "\n",
       "    .dataframe thead th {\n",
       "        text-align: right;\n",
       "    }\n",
       "</style>\n",
       "<table border=\"1\" class=\"dataframe\">\n",
       "  <thead>\n",
       "    <tr style=\"text-align: right;\">\n",
       "      <th></th>\n",
       "      <th>Name</th>\n",
       "      <th>Platform</th>\n",
       "      <th>Year_of_Release</th>\n",
       "      <th>Genre</th>\n",
       "      <th>NA_sales</th>\n",
       "      <th>EU_sales</th>\n",
       "      <th>JP_sales</th>\n",
       "      <th>Other_sales</th>\n",
       "      <th>Critic_Score</th>\n",
       "      <th>User_Score</th>\n",
       "      <th>Rating</th>\n",
       "    </tr>\n",
       "  </thead>\n",
       "  <tbody>\n",
       "    <tr>\n",
       "      <th>4784</th>\n",
       "      <td>The Chronicles of Narnia: Prince Caspian</td>\n",
       "      <td>PS2</td>\n",
       "      <td>2008.0</td>\n",
       "      <td>Action</td>\n",
       "      <td>0.20</td>\n",
       "      <td>0.15</td>\n",
       "      <td>0.00</td>\n",
       "      <td>0.05</td>\n",
       "      <td>67.0</td>\n",
       "      <td>7</td>\n",
       "      <td>T</td>\n",
       "    </tr>\n",
       "    <tr>\n",
       "      <th>7626</th>\n",
       "      <td>Front Mission Evolved</td>\n",
       "      <td>X360</td>\n",
       "      <td>2010.0</td>\n",
       "      <td>Shooter</td>\n",
       "      <td>0.10</td>\n",
       "      <td>0.07</td>\n",
       "      <td>0.02</td>\n",
       "      <td>0.02</td>\n",
       "      <td>58.0</td>\n",
       "      <td>6.1</td>\n",
       "      <td>T</td>\n",
       "    </tr>\n",
       "    <tr>\n",
       "      <th>2025</th>\n",
       "      <td>Tom Clancy's Ghost Recon Advanced Warfighter 2</td>\n",
       "      <td>X360</td>\n",
       "      <td>2007.0</td>\n",
       "      <td>Shooter</td>\n",
       "      <td>0.87</td>\n",
       "      <td>0.05</td>\n",
       "      <td>0.02</td>\n",
       "      <td>0.08</td>\n",
       "      <td>86.0</td>\n",
       "      <td>8.1</td>\n",
       "      <td>T</td>\n",
       "    </tr>\n",
       "    <tr>\n",
       "      <th>5025</th>\n",
       "      <td>Phantasy Star Ø</td>\n",
       "      <td>DS</td>\n",
       "      <td>2008.0</td>\n",
       "      <td>Role-Playing</td>\n",
       "      <td>0.16</td>\n",
       "      <td>0.00</td>\n",
       "      <td>0.20</td>\n",
       "      <td>0.01</td>\n",
       "      <td>NaN</td>\n",
       "      <td>NaN</td>\n",
       "      <td>NaN</td>\n",
       "    </tr>\n",
       "    <tr>\n",
       "      <th>6450</th>\n",
       "      <td>Etrian Odyssey II: Heroes of Lagaard</td>\n",
       "      <td>DS</td>\n",
       "      <td>2008.0</td>\n",
       "      <td>Role-Playing</td>\n",
       "      <td>0.09</td>\n",
       "      <td>0.00</td>\n",
       "      <td>0.16</td>\n",
       "      <td>0.01</td>\n",
       "      <td>82.0</td>\n",
       "      <td>8.9</td>\n",
       "      <td>E10+</td>\n",
       "    </tr>\n",
       "    <tr>\n",
       "      <th>15008</th>\n",
       "      <td>DoDonPachi Dai-Oujou: Black Label Extra</td>\n",
       "      <td>X360</td>\n",
       "      <td>2009.0</td>\n",
       "      <td>Shooter</td>\n",
       "      <td>0.00</td>\n",
       "      <td>0.00</td>\n",
       "      <td>0.02</td>\n",
       "      <td>0.00</td>\n",
       "      <td>NaN</td>\n",
       "      <td>NaN</td>\n",
       "      <td>NaN</td>\n",
       "    </tr>\n",
       "    <tr>\n",
       "      <th>13787</th>\n",
       "      <td>Terraria</td>\n",
       "      <td>XOne</td>\n",
       "      <td>2014.0</td>\n",
       "      <td>Action</td>\n",
       "      <td>0.00</td>\n",
       "      <td>0.04</td>\n",
       "      <td>0.00</td>\n",
       "      <td>0.00</td>\n",
       "      <td>84.0</td>\n",
       "      <td>7.7</td>\n",
       "      <td>T</td>\n",
       "    </tr>\n",
       "    <tr>\n",
       "      <th>873</th>\n",
       "      <td>Crash Nitro Kart</td>\n",
       "      <td>PS2</td>\n",
       "      <td>2003.0</td>\n",
       "      <td>Racing</td>\n",
       "      <td>0.74</td>\n",
       "      <td>1.01</td>\n",
       "      <td>0.00</td>\n",
       "      <td>0.20</td>\n",
       "      <td>69.0</td>\n",
       "      <td>7.7</td>\n",
       "      <td>E</td>\n",
       "    </tr>\n",
       "    <tr>\n",
       "      <th>6518</th>\n",
       "      <td>Dungeons &amp; Dragons Heroes</td>\n",
       "      <td>XB</td>\n",
       "      <td>2003.0</td>\n",
       "      <td>Role-Playing</td>\n",
       "      <td>0.19</td>\n",
       "      <td>0.06</td>\n",
       "      <td>0.00</td>\n",
       "      <td>0.01</td>\n",
       "      <td>NaN</td>\n",
       "      <td>NaN</td>\n",
       "      <td>NaN</td>\n",
       "    </tr>\n",
       "    <tr>\n",
       "      <th>4361</th>\n",
       "      <td>Dead or Alive: Dimensions</td>\n",
       "      <td>3DS</td>\n",
       "      <td>2011.0</td>\n",
       "      <td>Fighting</td>\n",
       "      <td>0.13</td>\n",
       "      <td>0.21</td>\n",
       "      <td>0.07</td>\n",
       "      <td>0.03</td>\n",
       "      <td>79.0</td>\n",
       "      <td>8.2</td>\n",
       "      <td>T</td>\n",
       "    </tr>\n",
       "  </tbody>\n",
       "</table>\n",
       "</div>"
      ],
      "text/plain": [
       "                                                 Name Platform  \\\n",
       "4784         The Chronicles of Narnia: Prince Caspian      PS2   \n",
       "7626                            Front Mission Evolved     X360   \n",
       "2025   Tom Clancy's Ghost Recon Advanced Warfighter 2     X360   \n",
       "5025                                  Phantasy Star Ø       DS   \n",
       "6450             Etrian Odyssey II: Heroes of Lagaard       DS   \n",
       "15008         DoDonPachi Dai-Oujou: Black Label Extra     X360   \n",
       "13787                                        Terraria     XOne   \n",
       "873                                  Crash Nitro Kart      PS2   \n",
       "6518                        Dungeons & Dragons Heroes       XB   \n",
       "4361                        Dead or Alive: Dimensions      3DS   \n",
       "\n",
       "       Year_of_Release         Genre  NA_sales  EU_sales  JP_sales  \\\n",
       "4784            2008.0        Action      0.20      0.15      0.00   \n",
       "7626            2010.0       Shooter      0.10      0.07      0.02   \n",
       "2025            2007.0       Shooter      0.87      0.05      0.02   \n",
       "5025            2008.0  Role-Playing      0.16      0.00      0.20   \n",
       "6450            2008.0  Role-Playing      0.09      0.00      0.16   \n",
       "15008           2009.0       Shooter      0.00      0.00      0.02   \n",
       "13787           2014.0        Action      0.00      0.04      0.00   \n",
       "873             2003.0        Racing      0.74      1.01      0.00   \n",
       "6518            2003.0  Role-Playing      0.19      0.06      0.00   \n",
       "4361            2011.0      Fighting      0.13      0.21      0.07   \n",
       "\n",
       "       Other_sales  Critic_Score User_Score Rating  \n",
       "4784          0.05          67.0          7      T  \n",
       "7626          0.02          58.0        6.1      T  \n",
       "2025          0.08          86.0        8.1      T  \n",
       "5025          0.01           NaN        NaN    NaN  \n",
       "6450          0.01          82.0        8.9   E10+  \n",
       "15008         0.00           NaN        NaN    NaN  \n",
       "13787         0.00          84.0        7.7      T  \n",
       "873           0.20          69.0        7.7      E  \n",
       "6518          0.01           NaN        NaN    NaN  \n",
       "4361          0.03          79.0        8.2      T  "
      ]
     },
     "metadata": {},
     "output_type": "display_data"
    }
   ],
   "source": [
    "try:\n",
    "    games_data = pd.read_csv('/datasets/games.csv')\n",
    "except:\n",
    "    games_data = pd.read_csv('games.csv')\n",
    "\n",
    "games_data.info()\n",
    "display(games_data.sample(10))"
   ]
  },
  {
   "cell_type": "markdown",
   "id": "ae922492",
   "metadata": {},
   "source": [
    "По итогам ознакомления планируем предобработку:\n",
    "\n",
    "- Перевести названия столбцов в нижний регистр\n",
    "- Названия игр проверить на дубликаты. Пропуски заполнить словом *unknown*\n",
    "- Названия платформ проверить на неявные дубликаты.\n",
    "- Годы релиза привести к типу **int**, пропуски заполнить нулями, чтобы их отсечь при построении распределений по годам\n",
    "- Жанры проверить на неявные дубликаты\n",
    "- С продажами порядок, пропусков нет, тип данных подходящий\n",
    "- Оценки критиков трогать не будем. Тип данных подходящий, пропуски при расчётах не помешают.\n",
    "- Оценки пользователей к **float**, предварительно заменить tbd (To Be Determined, то есть \"будет определено\") пропуском, чтобы тип данных столбца остался числовым для возможных расчётов.\n",
    "- Рейтинг поискать неявные дубликаты, пропуски заменить словом *unknown*"
   ]
  },
  {
   "cell_type": "markdown",
   "id": "f1a402b7",
   "metadata": {},
   "source": [
    "### Процесс предобработки"
   ]
  },
  {
   "cell_type": "markdown",
   "id": "87e68faa",
   "metadata": {},
   "source": [
    "#### Работа с названиями столбцов и столбцом *name*"
   ]
  },
  {
   "cell_type": "code",
   "execution_count": 3,
   "id": "342f82f4",
   "metadata": {},
   "outputs": [
    {
     "name": "stdout",
     "output_type": "stream",
     "text": [
      "Index(['name', 'platform', 'year_of_release', 'genre', 'na_sales', 'eu_sales',\n",
      "       'jp_sales', 'other_sales', 'critic_score', 'user_score', 'rating'],\n",
      "      dtype='object')\n"
     ]
    }
   ],
   "source": [
    "games_data.columns = games_data.columns.str.lower()\n",
    "print(games_data.columns)"
   ]
  },
  {
   "cell_type": "markdown",
   "id": "af11e0e7",
   "metadata": {},
   "source": [
    "И даже лишних пробелов нет.\n",
    "\n",
    "Проверим на дубликаты в столбце с названиями игр:"
   ]
  },
  {
   "cell_type": "code",
   "execution_count": 4,
   "id": "e9a4b194",
   "metadata": {},
   "outputs": [
    {
     "data": {
      "text/plain": [
       "5154"
      ]
     },
     "execution_count": 4,
     "metadata": {},
     "output_type": "execute_result"
    }
   ],
   "source": [
    "games_data[games_data['name'].duplicated() == True]['name'].count()"
   ]
  },
  {
   "cell_type": "markdown",
   "id": "a61f740f",
   "metadata": {},
   "source": [
    "5154 дубликата, многовато. Проверим визуально, в чём дело:"
   ]
  },
  {
   "cell_type": "code",
   "execution_count": 5,
   "id": "03f69003",
   "metadata": {
    "scrolled": true
   },
   "outputs": [
    {
     "data": {
      "text/html": [
       "<div>\n",
       "<style scoped>\n",
       "    .dataframe tbody tr th:only-of-type {\n",
       "        vertical-align: middle;\n",
       "    }\n",
       "\n",
       "    .dataframe tbody tr th {\n",
       "        vertical-align: top;\n",
       "    }\n",
       "\n",
       "    .dataframe thead th {\n",
       "        text-align: right;\n",
       "    }\n",
       "</style>\n",
       "<table border=\"1\" class=\"dataframe\">\n",
       "  <thead>\n",
       "    <tr style=\"text-align: right;\">\n",
       "      <th></th>\n",
       "      <th>name</th>\n",
       "      <th>platform</th>\n",
       "      <th>year_of_release</th>\n",
       "      <th>genre</th>\n",
       "      <th>na_sales</th>\n",
       "      <th>eu_sales</th>\n",
       "      <th>jp_sales</th>\n",
       "      <th>other_sales</th>\n",
       "      <th>critic_score</th>\n",
       "      <th>user_score</th>\n",
       "      <th>rating</th>\n",
       "    </tr>\n",
       "  </thead>\n",
       "  <tbody>\n",
       "    <tr>\n",
       "      <th>23</th>\n",
       "      <td>Grand Theft Auto V</td>\n",
       "      <td>X360</td>\n",
       "      <td>2013.0</td>\n",
       "      <td>Action</td>\n",
       "      <td>9.66</td>\n",
       "      <td>5.14</td>\n",
       "      <td>0.06</td>\n",
       "      <td>1.41</td>\n",
       "      <td>97.0</td>\n",
       "      <td>8.1</td>\n",
       "      <td>M</td>\n",
       "    </tr>\n",
       "    <tr>\n",
       "      <th>35</th>\n",
       "      <td>Call of Duty: Black Ops II</td>\n",
       "      <td>X360</td>\n",
       "      <td>2012.0</td>\n",
       "      <td>Shooter</td>\n",
       "      <td>8.25</td>\n",
       "      <td>4.24</td>\n",
       "      <td>0.07</td>\n",
       "      <td>1.12</td>\n",
       "      <td>83.0</td>\n",
       "      <td>4.8</td>\n",
       "      <td>M</td>\n",
       "    </tr>\n",
       "    <tr>\n",
       "      <th>37</th>\n",
       "      <td>Call of Duty: Modern Warfare 3</td>\n",
       "      <td>PS3</td>\n",
       "      <td>2011.0</td>\n",
       "      <td>Shooter</td>\n",
       "      <td>5.54</td>\n",
       "      <td>5.73</td>\n",
       "      <td>0.49</td>\n",
       "      <td>1.57</td>\n",
       "      <td>88.0</td>\n",
       "      <td>3.2</td>\n",
       "      <td>M</td>\n",
       "    </tr>\n",
       "    <tr>\n",
       "      <th>41</th>\n",
       "      <td>Call of Duty: Black Ops</td>\n",
       "      <td>PS3</td>\n",
       "      <td>2010.0</td>\n",
       "      <td>Shooter</td>\n",
       "      <td>5.99</td>\n",
       "      <td>4.37</td>\n",
       "      <td>0.48</td>\n",
       "      <td>1.79</td>\n",
       "      <td>88.0</td>\n",
       "      <td>6.4</td>\n",
       "      <td>M</td>\n",
       "    </tr>\n",
       "    <tr>\n",
       "      <th>42</th>\n",
       "      <td>Grand Theft Auto V</td>\n",
       "      <td>PS4</td>\n",
       "      <td>2014.0</td>\n",
       "      <td>Action</td>\n",
       "      <td>3.96</td>\n",
       "      <td>6.31</td>\n",
       "      <td>0.38</td>\n",
       "      <td>1.97</td>\n",
       "      <td>97.0</td>\n",
       "      <td>8.3</td>\n",
       "      <td>M</td>\n",
       "    </tr>\n",
       "  </tbody>\n",
       "</table>\n",
       "</div>"
      ],
      "text/plain": [
       "                              name platform  year_of_release    genre  \\\n",
       "23              Grand Theft Auto V     X360           2013.0   Action   \n",
       "35      Call of Duty: Black Ops II     X360           2012.0  Shooter   \n",
       "37  Call of Duty: Modern Warfare 3      PS3           2011.0  Shooter   \n",
       "41         Call of Duty: Black Ops      PS3           2010.0  Shooter   \n",
       "42              Grand Theft Auto V      PS4           2014.0   Action   \n",
       "\n",
       "    na_sales  eu_sales  jp_sales  other_sales  critic_score user_score rating  \n",
       "23      9.66      5.14      0.06         1.41          97.0        8.1      M  \n",
       "35      8.25      4.24      0.07         1.12          83.0        4.8      M  \n",
       "37      5.54      5.73      0.49         1.57          88.0        3.2      M  \n",
       "41      5.99      4.37      0.48         1.79          88.0        6.4      M  \n",
       "42      3.96      6.31      0.38         1.97          97.0        8.3      M  "
      ]
     },
     "metadata": {},
     "output_type": "display_data"
    }
   ],
   "source": [
    "display(games_data[games_data['name'].duplicated() == True].head(5))"
   ]
  },
  {
   "cell_type": "markdown",
   "id": "177818cf",
   "metadata": {},
   "source": [
    "Так не очень понятно, хотя ГТА 5 встречается дважды. Выведем строки с этой игрой:"
   ]
  },
  {
   "cell_type": "code",
   "execution_count": 6,
   "id": "ca388297",
   "metadata": {},
   "outputs": [
    {
     "data": {
      "text/html": [
       "<div>\n",
       "<style scoped>\n",
       "    .dataframe tbody tr th:only-of-type {\n",
       "        vertical-align: middle;\n",
       "    }\n",
       "\n",
       "    .dataframe tbody tr th {\n",
       "        vertical-align: top;\n",
       "    }\n",
       "\n",
       "    .dataframe thead th {\n",
       "        text-align: right;\n",
       "    }\n",
       "</style>\n",
       "<table border=\"1\" class=\"dataframe\">\n",
       "  <thead>\n",
       "    <tr style=\"text-align: right;\">\n",
       "      <th></th>\n",
       "      <th>name</th>\n",
       "      <th>platform</th>\n",
       "      <th>year_of_release</th>\n",
       "      <th>genre</th>\n",
       "      <th>na_sales</th>\n",
       "      <th>eu_sales</th>\n",
       "      <th>jp_sales</th>\n",
       "      <th>other_sales</th>\n",
       "      <th>critic_score</th>\n",
       "      <th>user_score</th>\n",
       "      <th>rating</th>\n",
       "    </tr>\n",
       "  </thead>\n",
       "  <tbody>\n",
       "    <tr>\n",
       "      <th>16</th>\n",
       "      <td>Grand Theft Auto V</td>\n",
       "      <td>PS3</td>\n",
       "      <td>2013.0</td>\n",
       "      <td>Action</td>\n",
       "      <td>7.02</td>\n",
       "      <td>9.09</td>\n",
       "      <td>0.98</td>\n",
       "      <td>3.96</td>\n",
       "      <td>97.0</td>\n",
       "      <td>8.2</td>\n",
       "      <td>M</td>\n",
       "    </tr>\n",
       "    <tr>\n",
       "      <th>23</th>\n",
       "      <td>Grand Theft Auto V</td>\n",
       "      <td>X360</td>\n",
       "      <td>2013.0</td>\n",
       "      <td>Action</td>\n",
       "      <td>9.66</td>\n",
       "      <td>5.14</td>\n",
       "      <td>0.06</td>\n",
       "      <td>1.41</td>\n",
       "      <td>97.0</td>\n",
       "      <td>8.1</td>\n",
       "      <td>M</td>\n",
       "    </tr>\n",
       "    <tr>\n",
       "      <th>42</th>\n",
       "      <td>Grand Theft Auto V</td>\n",
       "      <td>PS4</td>\n",
       "      <td>2014.0</td>\n",
       "      <td>Action</td>\n",
       "      <td>3.96</td>\n",
       "      <td>6.31</td>\n",
       "      <td>0.38</td>\n",
       "      <td>1.97</td>\n",
       "      <td>97.0</td>\n",
       "      <td>8.3</td>\n",
       "      <td>M</td>\n",
       "    </tr>\n",
       "    <tr>\n",
       "      <th>165</th>\n",
       "      <td>Grand Theft Auto V</td>\n",
       "      <td>XOne</td>\n",
       "      <td>2014.0</td>\n",
       "      <td>Action</td>\n",
       "      <td>2.81</td>\n",
       "      <td>2.19</td>\n",
       "      <td>0.00</td>\n",
       "      <td>0.47</td>\n",
       "      <td>97.0</td>\n",
       "      <td>7.9</td>\n",
       "      <td>M</td>\n",
       "    </tr>\n",
       "    <tr>\n",
       "      <th>1730</th>\n",
       "      <td>Grand Theft Auto V</td>\n",
       "      <td>PC</td>\n",
       "      <td>2015.0</td>\n",
       "      <td>Action</td>\n",
       "      <td>0.39</td>\n",
       "      <td>0.69</td>\n",
       "      <td>0.00</td>\n",
       "      <td>0.09</td>\n",
       "      <td>96.0</td>\n",
       "      <td>7.9</td>\n",
       "      <td>M</td>\n",
       "    </tr>\n",
       "  </tbody>\n",
       "</table>\n",
       "</div>"
      ],
      "text/plain": [
       "                    name platform  year_of_release   genre  na_sales  \\\n",
       "16    Grand Theft Auto V      PS3           2013.0  Action      7.02   \n",
       "23    Grand Theft Auto V     X360           2013.0  Action      9.66   \n",
       "42    Grand Theft Auto V      PS4           2014.0  Action      3.96   \n",
       "165   Grand Theft Auto V     XOne           2014.0  Action      2.81   \n",
       "1730  Grand Theft Auto V       PC           2015.0  Action      0.39   \n",
       "\n",
       "      eu_sales  jp_sales  other_sales  critic_score user_score rating  \n",
       "16        9.09      0.98         3.96          97.0        8.2      M  \n",
       "23        5.14      0.06         1.41          97.0        8.1      M  \n",
       "42        6.31      0.38         1.97          97.0        8.3      M  \n",
       "165       2.19      0.00         0.47          97.0        7.9      M  \n",
       "1730      0.69      0.00         0.09          96.0        7.9      M  "
      ]
     },
     "metadata": {},
     "output_type": "display_data"
    }
   ],
   "source": [
    "display(games_data[games_data['name'] == 'Grand Theft Auto V'])"
   ]
  },
  {
   "cell_type": "markdown",
   "id": "31485fa5",
   "metadata": {},
   "source": [
    "Всё ясно. Дубликаты с названиями игр связаны с их выходом на разных платформах. Убирать их не будем, естесственно.\n",
    "\n",
    "Теперь заполним пропуски и проверим успешность этой операции:"
   ]
  },
  {
   "cell_type": "code",
   "execution_count": 7,
   "id": "028f3f00",
   "metadata": {},
   "outputs": [
    {
     "data": {
      "text/plain": [
       "0"
      ]
     },
     "execution_count": 7,
     "metadata": {},
     "output_type": "execute_result"
    }
   ],
   "source": [
    "games_data['name'] = games_data['name'].fillna('unknown')\n",
    "games_data['name'].isna().sum()"
   ]
  },
  {
   "cell_type": "markdown",
   "id": "4efa40db",
   "metadata": {},
   "source": [
    "Всё в порядке. Количество пропусков равно нулю."
   ]
  },
  {
   "cell_type": "markdown",
   "id": "bd52d960",
   "metadata": {},
   "source": [
    "#### Названия платформ и годы релиза"
   ]
  },
  {
   "cell_type": "markdown",
   "id": "f103231a",
   "metadata": {},
   "source": [
    "Посмотрим, какие платформы фигурируют в соответствующем столбце:"
   ]
  },
  {
   "cell_type": "code",
   "execution_count": 8,
   "id": "1005c3de",
   "metadata": {},
   "outputs": [
    {
     "data": {
      "text/plain": [
       "PS2     2161\n",
       "DS      2151\n",
       "PS3     1331\n",
       "Wii     1320\n",
       "X360    1262\n",
       "PSP     1209\n",
       "PS      1197\n",
       "PC       974\n",
       "XB       824\n",
       "GBA      822\n",
       "GC       556\n",
       "3DS      520\n",
       "PSV      430\n",
       "PS4      392\n",
       "N64      319\n",
       "XOne     247\n",
       "SNES     239\n",
       "SAT      173\n",
       "WiiU     147\n",
       "2600     133\n",
       "GB        98\n",
       "NES       98\n",
       "DC        52\n",
       "GEN       29\n",
       "NG        12\n",
       "SCD        6\n",
       "WS         6\n",
       "3DO        3\n",
       "TG16       2\n",
       "GG         1\n",
       "PCFX       1\n",
       "Name: platform, dtype: int64"
      ]
     },
     "execution_count": 8,
     "metadata": {},
     "output_type": "execute_result"
    }
   ],
   "source": [
    "games_data['platform'].value_counts()"
   ]
  },
  {
   "cell_type": "markdown",
   "id": "7a02b3e0",
   "metadata": {},
   "source": [
    "Порядок. 2600 это Атари 2600. PCFX игровая консоль, а не ошибочно записанный PC. Дубликатов не выявлено. \n",
    "\n",
    "Переходим к годам релиза - преобразуем формат, заполняем пропуски нулями и контролируем результат привычным способом:"
   ]
  },
  {
   "cell_type": "code",
   "execution_count": 9,
   "id": "9f2a046d",
   "metadata": {},
   "outputs": [
    {
     "data": {
      "text/plain": [
       "0"
      ]
     },
     "execution_count": 9,
     "metadata": {},
     "output_type": "execute_result"
    }
   ],
   "source": [
    "games_data['year_of_release'] = games_data['year_of_release'].fillna(0)\n",
    "games_data['year_of_release'] = games_data['year_of_release'].astype('int')\n",
    "games_data['year_of_release'].isna().sum()"
   ]
  },
  {
   "cell_type": "markdown",
   "id": "7778fb8e",
   "metadata": {},
   "source": [
    "Порядок. Переходим к следующему этапу."
   ]
  },
  {
   "cell_type": "markdown",
   "id": "181bbd80",
   "metadata": {},
   "source": [
    "#### Жанры и оценки пользователей"
   ]
  },
  {
   "cell_type": "markdown",
   "id": "28853b77",
   "metadata": {},
   "source": [
    "Заполним пропуски, проверим результат и \"чекнем\" на неявные дубликаты:"
   ]
  },
  {
   "cell_type": "code",
   "execution_count": 10,
   "id": "174b0ea7",
   "metadata": {},
   "outputs": [
    {
     "name": "stdout",
     "output_type": "stream",
     "text": [
      "Количество пропусков в названиях жанров:  0\n"
     ]
    },
    {
     "data": {
      "text/plain": [
       "Action          3369\n",
       "Sports          2348\n",
       "Misc            1750\n",
       "Role-Playing    1498\n",
       "Shooter         1323\n",
       "Adventure       1303\n",
       "Racing          1249\n",
       "Platform         888\n",
       "Simulation       873\n",
       "Fighting         849\n",
       "Strategy         683\n",
       "Puzzle           580\n",
       "unknown            2\n",
       "Name: genre, dtype: int64"
      ]
     },
     "execution_count": 10,
     "metadata": {},
     "output_type": "execute_result"
    }
   ],
   "source": [
    "games_data['genre'] = games_data['genre'].fillna('unknown')\n",
    "print('Количество пропусков в названиях жанров: ', games_data['genre'].isna().sum())\n",
    "games_data['genre'].value_counts()"
   ]
  },
  {
   "cell_type": "markdown",
   "id": "a6a0d95c",
   "metadata": {},
   "source": [
    "Неявных дубликатов не видно. Переходим к оценкам: заменим \"tbd\" пропусками и переведём к типу flost для последующего анализа."
   ]
  },
  {
   "cell_type": "code",
   "execution_count": 11,
   "id": "e9b647a7",
   "metadata": {},
   "outputs": [
    {
     "name": "stdout",
     "output_type": "stream",
     "text": [
      "Количество пропусков в оценках пользователей:  7955\n"
     ]
    }
   ],
   "source": [
    "games_data['user_score'] = games_data['user_score'].replace('tbd', None).astype('float')\n",
    "print('Количество пропусков в оценках пользователей: ', games_data['user_score'].isna().sum())"
   ]
  },
  {
   "cell_type": "markdown",
   "id": "dba1d408",
   "metadata": {},
   "source": [
    "Было около 6700 ненулевых значений, стало 7955. Замена произведена успешно."
   ]
  },
  {
   "cell_type": "markdown",
   "id": "a9e95af4",
   "metadata": {},
   "source": [
    "#### Рейтинг"
   ]
  },
  {
   "cell_type": "markdown",
   "id": "be34f805",
   "metadata": {},
   "source": [
    "Согласно плана, заменим пропуски в рейтинге на слово \"unknown\" и проверим на неявные дубликаты:"
   ]
  },
  {
   "cell_type": "code",
   "execution_count": 12,
   "id": "d83a95f9",
   "metadata": {},
   "outputs": [
    {
     "data": {
      "text/plain": [
       "unknown    6766\n",
       "E          3990\n",
       "T          2961\n",
       "M          1563\n",
       "E10+       1420\n",
       "EC            8\n",
       "RP            3\n",
       "K-A           3\n",
       "AO            1\n",
       "Name: rating, dtype: int64"
      ]
     },
     "execution_count": 12,
     "metadata": {},
     "output_type": "execute_result"
    }
   ],
   "source": [
    "games_data['rating'] = games_data['rating'].fillna('unknown')\n",
    "games_data['rating'].value_counts()"
   ]
  },
  {
   "cell_type": "markdown",
   "id": "8c31e3ab",
   "metadata": {},
   "source": [
    "Есть аббревиатуры, вызывающие сомнения. С помощью гугла выяснил, что это и принял следующие решения: \n",
    "- \"RP\" - \"рейтинг ожидается\", значит, неизвестен. Требуется замена на \"unknown\".\n",
    "\n",
    "- \"K-A\" - это старое название \"E\". Произведем такую замену."
   ]
  },
  {
   "cell_type": "code",
   "execution_count": 13,
   "id": "498b89eb",
   "metadata": {},
   "outputs": [
    {
     "name": "stdout",
     "output_type": "stream",
     "text": [
      "<class 'pandas.core.frame.DataFrame'>\n",
      "RangeIndex: 16715 entries, 0 to 16714\n",
      "Data columns (total 11 columns):\n",
      " #   Column           Non-Null Count  Dtype  \n",
      "---  ------           --------------  -----  \n",
      " 0   name             16715 non-null  object \n",
      " 1   platform         16715 non-null  object \n",
      " 2   year_of_release  16715 non-null  int64  \n",
      " 3   genre            16715 non-null  object \n",
      " 4   na_sales         16715 non-null  float64\n",
      " 5   eu_sales         16715 non-null  float64\n",
      " 6   jp_sales         16715 non-null  float64\n",
      " 7   other_sales      16715 non-null  float64\n",
      " 8   critic_score     8137 non-null   float64\n",
      " 9   user_score       8760 non-null   float64\n",
      " 10  rating           16715 non-null  object \n",
      "dtypes: float64(6), int64(1), object(4)\n",
      "memory usage: 1.4+ MB\n"
     ]
    },
    {
     "data": {
      "text/plain": [
       "unknown    6769\n",
       "E          3993\n",
       "T          2961\n",
       "M          1563\n",
       "E10+       1420\n",
       "EC            8\n",
       "AO            1\n",
       "Name: rating, dtype: int64"
      ]
     },
     "execution_count": 13,
     "metadata": {},
     "output_type": "execute_result"
    }
   ],
   "source": [
    "games_data['rating'] = games_data['rating'].replace('RP', 'unknown')\n",
    "games_data['rating'] = games_data['rating'].replace('K-A', 'E')\n",
    "games_data.info()\n",
    "games_data['rating'].value_counts()"
   ]
  },
  {
   "cell_type": "markdown",
   "id": "281c2a32",
   "metadata": {},
   "source": [
    "Заодно проконтролировали успешность замены пропусков в нужных столбцах. Всё хорошо."
   ]
  },
  {
   "cell_type": "markdown",
   "id": "673af938",
   "metadata": {},
   "source": [
    "#### Расчёт суммарных продаж"
   ]
  },
  {
   "cell_type": "markdown",
   "id": "044135fa",
   "metadata": {},
   "source": [
    "Рассчитаем суммарные продажи с применением цикла:"
   ]
  },
  {
   "cell_type": "code",
   "execution_count": 14,
   "id": "0fa6bbcd",
   "metadata": {},
   "outputs": [
    {
     "data": {
      "text/html": [
       "<div>\n",
       "<style scoped>\n",
       "    .dataframe tbody tr th:only-of-type {\n",
       "        vertical-align: middle;\n",
       "    }\n",
       "\n",
       "    .dataframe tbody tr th {\n",
       "        vertical-align: top;\n",
       "    }\n",
       "\n",
       "    .dataframe thead th {\n",
       "        text-align: right;\n",
       "    }\n",
       "</style>\n",
       "<table border=\"1\" class=\"dataframe\">\n",
       "  <thead>\n",
       "    <tr style=\"text-align: right;\">\n",
       "      <th></th>\n",
       "      <th>name</th>\n",
       "      <th>platform</th>\n",
       "      <th>year_of_release</th>\n",
       "      <th>genre</th>\n",
       "      <th>na_sales</th>\n",
       "      <th>eu_sales</th>\n",
       "      <th>jp_sales</th>\n",
       "      <th>other_sales</th>\n",
       "      <th>critic_score</th>\n",
       "      <th>user_score</th>\n",
       "      <th>rating</th>\n",
       "      <th>sales_sum</th>\n",
       "    </tr>\n",
       "  </thead>\n",
       "  <tbody>\n",
       "    <tr>\n",
       "      <th>14823</th>\n",
       "      <td>Tiger &amp; Bunny: On-Air Jack!</td>\n",
       "      <td>PSP</td>\n",
       "      <td>2012</td>\n",
       "      <td>Action</td>\n",
       "      <td>0.00</td>\n",
       "      <td>0.00</td>\n",
       "      <td>0.03</td>\n",
       "      <td>0.00</td>\n",
       "      <td>NaN</td>\n",
       "      <td>NaN</td>\n",
       "      <td>unknown</td>\n",
       "      <td>0.03</td>\n",
       "    </tr>\n",
       "    <tr>\n",
       "      <th>9484</th>\n",
       "      <td>Persona 4: Arena</td>\n",
       "      <td>X360</td>\n",
       "      <td>2012</td>\n",
       "      <td>Fighting</td>\n",
       "      <td>0.08</td>\n",
       "      <td>0.01</td>\n",
       "      <td>0.03</td>\n",
       "      <td>0.01</td>\n",
       "      <td>83.0</td>\n",
       "      <td>7.3</td>\n",
       "      <td>T</td>\n",
       "      <td>0.13</td>\n",
       "    </tr>\n",
       "    <tr>\n",
       "      <th>9668</th>\n",
       "      <td>DiRT Rally</td>\n",
       "      <td>XOne</td>\n",
       "      <td>2016</td>\n",
       "      <td>Racing</td>\n",
       "      <td>0.04</td>\n",
       "      <td>0.08</td>\n",
       "      <td>0.00</td>\n",
       "      <td>0.01</td>\n",
       "      <td>86.0</td>\n",
       "      <td>8.0</td>\n",
       "      <td>E</td>\n",
       "      <td>0.13</td>\n",
       "    </tr>\n",
       "    <tr>\n",
       "      <th>12617</th>\n",
       "      <td>Mahouka Koukou no Rettousei: Out of Order</td>\n",
       "      <td>PSV</td>\n",
       "      <td>2014</td>\n",
       "      <td>Adventure</td>\n",
       "      <td>0.00</td>\n",
       "      <td>0.00</td>\n",
       "      <td>0.06</td>\n",
       "      <td>0.00</td>\n",
       "      <td>NaN</td>\n",
       "      <td>NaN</td>\n",
       "      <td>unknown</td>\n",
       "      <td>0.06</td>\n",
       "    </tr>\n",
       "    <tr>\n",
       "      <th>4680</th>\n",
       "      <td>Tom Clancy's HAWX 2</td>\n",
       "      <td>PS3</td>\n",
       "      <td>2010</td>\n",
       "      <td>Action</td>\n",
       "      <td>0.21</td>\n",
       "      <td>0.12</td>\n",
       "      <td>0.03</td>\n",
       "      <td>0.05</td>\n",
       "      <td>70.0</td>\n",
       "      <td>6.8</td>\n",
       "      <td>T</td>\n",
       "      <td>0.41</td>\n",
       "    </tr>\n",
       "    <tr>\n",
       "      <th>1873</th>\n",
       "      <td>Yakuza 2</td>\n",
       "      <td>PS2</td>\n",
       "      <td>2006</td>\n",
       "      <td>Adventure</td>\n",
       "      <td>0.05</td>\n",
       "      <td>0.04</td>\n",
       "      <td>0.84</td>\n",
       "      <td>0.16</td>\n",
       "      <td>77.0</td>\n",
       "      <td>8.1</td>\n",
       "      <td>M</td>\n",
       "      <td>1.09</td>\n",
       "    </tr>\n",
       "    <tr>\n",
       "      <th>4319</th>\n",
       "      <td>Yu-Gi-Oh! Destiny Board Traveler</td>\n",
       "      <td>GBA</td>\n",
       "      <td>2004</td>\n",
       "      <td>Misc</td>\n",
       "      <td>0.32</td>\n",
       "      <td>0.12</td>\n",
       "      <td>0.00</td>\n",
       "      <td>0.01</td>\n",
       "      <td>NaN</td>\n",
       "      <td>NaN</td>\n",
       "      <td>unknown</td>\n",
       "      <td>0.45</td>\n",
       "    </tr>\n",
       "    <tr>\n",
       "      <th>2595</th>\n",
       "      <td>Dance Dance Revolution SuperNOVA 2</td>\n",
       "      <td>PS2</td>\n",
       "      <td>2007</td>\n",
       "      <td>Simulation</td>\n",
       "      <td>0.64</td>\n",
       "      <td>0.03</td>\n",
       "      <td>0.02</td>\n",
       "      <td>0.10</td>\n",
       "      <td>70.0</td>\n",
       "      <td>NaN</td>\n",
       "      <td>E10+</td>\n",
       "      <td>0.79</td>\n",
       "    </tr>\n",
       "    <tr>\n",
       "      <th>2651</th>\n",
       "      <td>Need for Speed: Porsche Unleashed</td>\n",
       "      <td>PS</td>\n",
       "      <td>1999</td>\n",
       "      <td>Racing</td>\n",
       "      <td>0.43</td>\n",
       "      <td>0.29</td>\n",
       "      <td>0.00</td>\n",
       "      <td>0.05</td>\n",
       "      <td>78.0</td>\n",
       "      <td>8.5</td>\n",
       "      <td>E</td>\n",
       "      <td>0.77</td>\n",
       "    </tr>\n",
       "    <tr>\n",
       "      <th>16565</th>\n",
       "      <td>Egg Mania: Eggstreme Madness</td>\n",
       "      <td>GC</td>\n",
       "      <td>2002</td>\n",
       "      <td>Puzzle</td>\n",
       "      <td>0.01</td>\n",
       "      <td>0.00</td>\n",
       "      <td>0.00</td>\n",
       "      <td>0.00</td>\n",
       "      <td>64.0</td>\n",
       "      <td>8.0</td>\n",
       "      <td>E</td>\n",
       "      <td>0.01</td>\n",
       "    </tr>\n",
       "  </tbody>\n",
       "</table>\n",
       "</div>"
      ],
      "text/plain": [
       "                                            name platform  year_of_release  \\\n",
       "14823                Tiger & Bunny: On-Air Jack!      PSP             2012   \n",
       "9484                            Persona 4: Arena     X360             2012   \n",
       "9668                                  DiRT Rally     XOne             2016   \n",
       "12617  Mahouka Koukou no Rettousei: Out of Order      PSV             2014   \n",
       "4680                         Tom Clancy's HAWX 2      PS3             2010   \n",
       "1873                                    Yakuza 2      PS2             2006   \n",
       "4319            Yu-Gi-Oh! Destiny Board Traveler      GBA             2004   \n",
       "2595          Dance Dance Revolution SuperNOVA 2      PS2             2007   \n",
       "2651           Need for Speed: Porsche Unleashed       PS             1999   \n",
       "16565               Egg Mania: Eggstreme Madness       GC             2002   \n",
       "\n",
       "            genre  na_sales  eu_sales  jp_sales  other_sales  critic_score  \\\n",
       "14823      Action      0.00      0.00      0.03         0.00           NaN   \n",
       "9484     Fighting      0.08      0.01      0.03         0.01          83.0   \n",
       "9668       Racing      0.04      0.08      0.00         0.01          86.0   \n",
       "12617   Adventure      0.00      0.00      0.06         0.00           NaN   \n",
       "4680       Action      0.21      0.12      0.03         0.05          70.0   \n",
       "1873    Adventure      0.05      0.04      0.84         0.16          77.0   \n",
       "4319         Misc      0.32      0.12      0.00         0.01           NaN   \n",
       "2595   Simulation      0.64      0.03      0.02         0.10          70.0   \n",
       "2651       Racing      0.43      0.29      0.00         0.05          78.0   \n",
       "16565      Puzzle      0.01      0.00      0.00         0.00          64.0   \n",
       "\n",
       "       user_score   rating  sales_sum  \n",
       "14823         NaN  unknown       0.03  \n",
       "9484          7.3        T       0.13  \n",
       "9668          8.0        E       0.13  \n",
       "12617         NaN  unknown       0.06  \n",
       "4680          6.8        T       0.41  \n",
       "1873          8.1        M       1.09  \n",
       "4319          NaN  unknown       0.45  \n",
       "2595          NaN     E10+       0.79  \n",
       "2651          8.5        E       0.77  \n",
       "16565         8.0        E       0.01  "
      ]
     },
     "metadata": {},
     "output_type": "display_data"
    }
   ],
   "source": [
    "# создаём столбец с нулевыми значениями\n",
    "games_data['sales_sum'] = 0\n",
    "\n",
    "# циклом последовательно прибавляем к новому столбу продажи по регионам\n",
    "for region in ['na_sales', 'eu_sales', 'jp_sales', 'other_sales']:\n",
    "    games_data['sales_sum'] += games_data[region]\n",
    "    \n",
    "# контролируем результат по случайным строкам   \n",
    "display(games_data.sample(10))"
   ]
  },
  {
   "cell_type": "markdown",
   "id": "728fc068",
   "metadata": {},
   "source": [
    "Ручные подсчёты указывают на успешность операции :-)"
   ]
  },
  {
   "cell_type": "markdown",
   "id": "eaa96bd7",
   "metadata": {},
   "source": [
    "### Итоги предобработки"
   ]
  },
  {
   "cell_type": "markdown",
   "id": "bea929d3",
   "metadata": {},
   "source": [
    "Были произведены следующие действия:\n",
    "\n",
    "- Переведены названия столбцов в нижний регистр.\n",
    "- Дубликаты в названиях игр связаны с их выходом на разных платформах - действий не потребовалось. Пропуски в этом столбце заполнили словом *unknown*.\n",
    "- В названиях платформ дубликатов не обнаружено.\n",
    "- Годы релиза привели к типу **int**, пропуски заполнили нулями, чтобы их отсечь при построении распределений по годам.\n",
    "- В названиях жанров дубликатов не обнаружено.\n",
    "- Продажи по регионам не трогали - пропусков нет, тип данных подходящий.\n",
    "- Оценки критиков не трогали - тип данных подходящий, пропуски при расчётах не помешают.\n",
    "- Оценки пользователей привели к типу **float**, предварительно заменив \"tbd\" (To Be Determined, то есть \"будет определено\") пропуском, чтобы тип данных столбца остался числовым для возможных расчётов.\n",
    "- С помощью гугла выяснил, что это и принял следующие решения: \n",
    "- В рейтинге обнаружили \"RP\" - \"рейтинг ожидается\", значит, неизвестен. Заменили на \"unknown\". Также нашли \"K-A\" - это старое название \"E\". Произвели и такую замену.\n",
    "- Добавили столбец с глобальными продажами.\n",
    "\n",
    "Вцелом сильно не хватает рейтингов. Причина, на мой взгляд в том, что не каждая игра исторически имела такой рейтинг, но сейчас с этим получше вроде бы как. Рекомендовал бы обратить на это внимание при формировании базы данных. Может стим парсить или что-то вроде того."
   ]
  },
  {
   "cell_type": "markdown",
   "id": "41a51165",
   "metadata": {},
   "source": [
    "## Анализ данных"
   ]
  },
  {
   "cell_type": "markdown",
   "id": "5d2e960a",
   "metadata": {},
   "source": [
    "### Количество игр в разные годы"
   ]
  },
  {
   "cell_type": "markdown",
   "id": "746bae87",
   "metadata": {},
   "source": [
    "Построим распределение выходящих игр по годам:"
   ]
  },
  {
   "cell_type": "code",
   "execution_count": 15,
   "id": "8f77c727",
   "metadata": {
    "scrolled": false
   },
   "outputs": [
    {
     "data": {
      "image/png": "[encoded data removed]",
      "text/plain": [
       "<Figure size 432x288 with 1 Axes>"
      ]
     },
     "metadata": {
      "needs_background": "light"
     },
     "output_type": "display_data"
    }
   ],
   "source": [
    "games_data['year_of_release'].plot(kind='hist', bins=37, range=(1980, 2016))\n",
    "plt.title('Суммарные продажи игр по годам')\n",
    "plt.xlabel('Год')\n",
    "plt.ylabel('Суммарные продажи')\n",
    "plt.show()"
   ]
  },
  {
   "cell_type": "markdown",
   "id": "85a605a2",
   "metadata": {},
   "source": [
    "Вцелом виден резкий всплеск в первые 7-8 лет двадцать первого века и последующий спад. Неужели игровая индустрия обречена?\n",
    "\n",
    "Проверим, как обстоят дела с продажами на разных платформах."
   ]
  },
  {
   "cell_type": "markdown",
   "id": "1519e2cb",
   "metadata": {},
   "source": [
    "### Изменение суммарных продаж на разных платформах"
   ]
  },
  {
   "cell_type": "markdown",
   "id": "340dcb98",
   "metadata": {},
   "source": [
    "Составим рейтинг платформ по продажам за весь период наблюдения: сгруппируем данные по платформам с расчётом суммарных продаж."
   ]
  },
  {
   "cell_type": "code",
   "execution_count": 16,
   "id": "0ca43220",
   "metadata": {},
   "outputs": [
    {
     "data": {
      "text/html": [
       "<div>\n",
       "<style scoped>\n",
       "    .dataframe tbody tr th:only-of-type {\n",
       "        vertical-align: middle;\n",
       "    }\n",
       "\n",
       "    .dataframe tbody tr th {\n",
       "        vertical-align: top;\n",
       "    }\n",
       "\n",
       "    .dataframe thead th {\n",
       "        text-align: right;\n",
       "    }\n",
       "</style>\n",
       "<table border=\"1\" class=\"dataframe\">\n",
       "  <thead>\n",
       "    <tr style=\"text-align: right;\">\n",
       "      <th></th>\n",
       "      <th>platform</th>\n",
       "      <th>sales_sum</th>\n",
       "    </tr>\n",
       "  </thead>\n",
       "  <tbody>\n",
       "    <tr>\n",
       "      <th>16</th>\n",
       "      <td>PS2</td>\n",
       "      <td>1255.77</td>\n",
       "    </tr>\n",
       "    <tr>\n",
       "      <th>28</th>\n",
       "      <td>X360</td>\n",
       "      <td>971.42</td>\n",
       "    </tr>\n",
       "    <tr>\n",
       "      <th>17</th>\n",
       "      <td>PS3</td>\n",
       "      <td>939.65</td>\n",
       "    </tr>\n",
       "    <tr>\n",
       "      <th>26</th>\n",
       "      <td>Wii</td>\n",
       "      <td>907.51</td>\n",
       "    </tr>\n",
       "    <tr>\n",
       "      <th>4</th>\n",
       "      <td>DS</td>\n",
       "      <td>806.12</td>\n",
       "    </tr>\n",
       "  </tbody>\n",
       "</table>\n",
       "</div>"
      ],
      "text/plain": [
       "   platform  sales_sum\n",
       "16      PS2    1255.77\n",
       "28     X360     971.42\n",
       "17      PS3     939.65\n",
       "26      Wii     907.51\n",
       "4        DS     806.12"
      ]
     },
     "metadata": {},
     "output_type": "display_data"
    }
   ],
   "source": [
    "platform_sales = games_data.pivot_table(index='platform', values='sales_sum', aggfunc='sum').reset_index()\n",
    "display(platform_sales.sort_values(by='sales_sum', ascending=False).head(5))"
   ]
  },
  {
   "cell_type": "markdown",
   "id": "2622c94d",
   "metadata": {},
   "source": [
    "Список популярных платформ получен. Проанализируем продажи по годам:"
   ]
  },
  {
   "cell_type": "code",
   "execution_count": 17,
   "id": "d5ca0a6b",
   "metadata": {},
   "outputs": [
    {
     "data": {
      "image/png": "[encoded data removed]",
      "text/plain": [
       "<Figure size 720x432 with 1 Axes>"
      ]
     },
     "metadata": {
      "needs_background": "light"
     },
     "output_type": "display_data"
    }
   ],
   "source": [
    "# группируем данные по платформам и годам\n",
    "platform_sales_year = games_data.pivot_table(\n",
    "    index=['platform', 'year_of_release'], values='sales_sum', aggfunc='sum').reset_index()\n",
    "\n",
    "# создаём рабочую область\n",
    "fig, ax = plt.subplots()\n",
    "plt.title('Суммарные продажи платформы по годам')\n",
    "plt.xlabel('Год')\n",
    "plt.ylabel('Суммарные продажи')\n",
    "\n",
    "# циклом строим на ней графики по пяти полпулярным платформам\n",
    "for platform in ['PS2', 'X360', 'PS3', 'Wii', 'DS']:\n",
    "    platform_sales_year.query('platform == @platform and year_of_release > 0').plot(\n",
    "        x='year_of_release', \n",
    "        y='sales_sum', \n",
    "        ax=ax, \n",
    "        label=platform, \n",
    "        figsize=(10, 6), \n",
    "        grid=True)    "
   ]
  },
  {
   "cell_type": "markdown",
   "id": "869a1da0",
   "metadata": {},
   "source": [
    "Анализируя графики, приходим к выводу, что \"жизненный цикл\" платформы составляет примерно 10 лет. За это время платформа успевает взлететь и упасть по продажам. Исходя из этого, для прогнозирования взял бы **актуальный период в 5 лет**. На таком временном отрезке мы сможем определить на каком этапе цикла находится платформа."
   ]
  },
  {
   "cell_type": "markdown",
   "id": "0ba17878",
   "metadata": {},
   "source": [
    "### Лидирующие по продажам платформы"
   ]
  },
  {
   "cell_type": "markdown",
   "id": "04947ac8",
   "metadata": {},
   "source": [
    "Построим графики для популярных платформ актуального периода:"
   ]
  },
  {
   "cell_type": "code",
   "execution_count": 18,
   "id": "33e2ca4d",
   "metadata": {},
   "outputs": [
    {
     "data": {
      "image/png": "[encoded data removed]",
      "text/plain": [
       "<Figure size 864x432 with 1 Axes>"
      ]
     },
     "metadata": {
      "needs_background": "light"
     },
     "output_type": "display_data"
    }
   ],
   "source": [
    "# группируем исходную таблицу с учётом актуального периода\n",
    "platform_sales_actual = games_data.query('year_of_release > 2011').pivot_table(\n",
    "    index='platform', values='sales_sum', aggfunc='sum').reset_index()\n",
    "# готовим список актуальных платформ\n",
    "platform_actual = platform_sales_actual.sort_values(by='sales_sum', ascending=False).head(5)['platform'].tolist()\n",
    "# считаем продажи по платформам и годам\n",
    "platform_sales_actual_year = games_data.query('year_of_release > 2011').pivot_table(\n",
    "    index=['platform', 'year_of_release'], values='sales_sum', aggfunc='sum').reset_index()\n",
    "\n",
    "# строим графики\n",
    "fig, ax = plt.subplots()\n",
    "plt.title('Суммарные продажи платформы по годам')\n",
    "plt.xlabel('Год')\n",
    "plt.ylabel('Суммарные продажи')\n",
    "for platform in platform_actual:\n",
    "    platform_sales_actual_year.query('platform == @platform').plot(x='year_of_release', y='sales_sum', ax=ax, label=platform, figsize=(12, 6), grid=True)"
   ]
  },
  {
   "cell_type": "markdown",
   "id": "adf156fc",
   "metadata": {},
   "source": [
    "Среди самых популярных платформ последних 5 лет выделяются PS4 и Xbox One, тренды продаж которых положительны. На эти консоли стоит обратить внимание при прогнозировании продаж на 2017 год."
   ]
  },
  {
   "cell_type": "markdown",
   "id": "c111eb99",
   "metadata": {},
   "source": [
    "### Диаграмма размаха продаж по платформам"
   ]
  },
  {
   "cell_type": "markdown",
   "id": "74185000",
   "metadata": {},
   "source": [
    "Построим диаграммы размаха продаж последних 5 лет по платформам:"
   ]
  },
  {
   "cell_type": "code",
   "execution_count": 19,
   "id": "fb79024f",
   "metadata": {},
   "outputs": [
    {
     "data": {
      "image/png": "[encoded data removed]",
      "text/plain": [
       "<Figure size 648x504 with 1 Axes>"
      ]
     },
     "metadata": {
      "needs_background": "light"
     },
     "output_type": "display_data"
    }
   ],
   "source": [
    "plt.figure(figsize=(9, 7))\n",
    "sns.boxplot(data=games_data.query('year_of_release > 2011'), x='platform', y='sales_sum')\n",
    "plt.title('Диаграммы размаха продаж по платформам')\n",
    "plt.xlabel('Платформа')\n",
    "plt.ylabel('Суммарные продажи')\n",
    "plt.show()"
   ]
  },
  {
   "cell_type": "markdown",
   "id": "f8a26f85",
   "metadata": {},
   "source": [
    "Видим, что на графике множество нетипичных значений и \"ящик с усами\" трудно различим. \n",
    "Перестроим график, ограничив значения по вертикали значением, например, 2-мя:"
   ]
  },
  {
   "cell_type": "code",
   "execution_count": 20,
   "id": "5b8738a9",
   "metadata": {},
   "outputs": [
    {
     "data": {
      "image/png": "[encoded data removed]",
      "text/plain": [
       "<Figure size 648x504 with 1 Axes>"
      ]
     },
     "metadata": {
      "needs_background": "light"
     },
     "output_type": "display_data"
    },
    {
     "data": {
      "text/html": [
       "<div>\n",
       "<style scoped>\n",
       "    .dataframe tbody tr th:only-of-type {\n",
       "        vertical-align: middle;\n",
       "    }\n",
       "\n",
       "    .dataframe tbody tr th {\n",
       "        vertical-align: top;\n",
       "    }\n",
       "\n",
       "    .dataframe thead tr th {\n",
       "        text-align: left;\n",
       "    }\n",
       "\n",
       "    .dataframe thead tr:last-of-type th {\n",
       "        text-align: right;\n",
       "    }\n",
       "</style>\n",
       "<table border=\"1\" class=\"dataframe\">\n",
       "  <thead>\n",
       "    <tr>\n",
       "      <th></th>\n",
       "      <th colspan=\"8\" halign=\"left\">sales_sum</th>\n",
       "    </tr>\n",
       "    <tr>\n",
       "      <th></th>\n",
       "      <th colspan=\"8\" halign=\"left\">describe</th>\n",
       "    </tr>\n",
       "    <tr>\n",
       "      <th></th>\n",
       "      <th>count</th>\n",
       "      <th>mean</th>\n",
       "      <th>std</th>\n",
       "      <th>min</th>\n",
       "      <th>25%</th>\n",
       "      <th>50%</th>\n",
       "      <th>75%</th>\n",
       "      <th>max</th>\n",
       "    </tr>\n",
       "    <tr>\n",
       "      <th>platform</th>\n",
       "      <th></th>\n",
       "      <th></th>\n",
       "      <th></th>\n",
       "      <th></th>\n",
       "      <th></th>\n",
       "      <th></th>\n",
       "      <th></th>\n",
       "      <th></th>\n",
       "    </tr>\n",
       "  </thead>\n",
       "  <tbody>\n",
       "    <tr>\n",
       "      <th>3DS</th>\n",
       "      <td>396.0</td>\n",
       "      <td>0.49</td>\n",
       "      <td>1.39</td>\n",
       "      <td>0.01</td>\n",
       "      <td>0.04</td>\n",
       "      <td>0.11</td>\n",
       "      <td>0.31</td>\n",
       "      <td>14.60</td>\n",
       "    </tr>\n",
       "    <tr>\n",
       "      <th>DS</th>\n",
       "      <td>31.0</td>\n",
       "      <td>0.40</td>\n",
       "      <td>1.44</td>\n",
       "      <td>0.01</td>\n",
       "      <td>0.02</td>\n",
       "      <td>0.05</td>\n",
       "      <td>0.18</td>\n",
       "      <td>8.06</td>\n",
       "    </tr>\n",
       "    <tr>\n",
       "      <th>PC</th>\n",
       "      <td>250.0</td>\n",
       "      <td>0.25</td>\n",
       "      <td>0.49</td>\n",
       "      <td>0.01</td>\n",
       "      <td>0.03</td>\n",
       "      <td>0.08</td>\n",
       "      <td>0.24</td>\n",
       "      <td>5.14</td>\n",
       "    </tr>\n",
       "    <tr>\n",
       "      <th>PS3</th>\n",
       "      <td>493.0</td>\n",
       "      <td>0.59</td>\n",
       "      <td>1.46</td>\n",
       "      <td>0.01</td>\n",
       "      <td>0.05</td>\n",
       "      <td>0.20</td>\n",
       "      <td>0.61</td>\n",
       "      <td>21.05</td>\n",
       "    </tr>\n",
       "    <tr>\n",
       "      <th>PS4</th>\n",
       "      <td>392.0</td>\n",
       "      <td>0.80</td>\n",
       "      <td>1.61</td>\n",
       "      <td>0.01</td>\n",
       "      <td>0.06</td>\n",
       "      <td>0.20</td>\n",
       "      <td>0.73</td>\n",
       "      <td>14.63</td>\n",
       "    </tr>\n",
       "    <tr>\n",
       "      <th>PSP</th>\n",
       "      <td>173.0</td>\n",
       "      <td>0.06</td>\n",
       "      <td>0.07</td>\n",
       "      <td>0.01</td>\n",
       "      <td>0.02</td>\n",
       "      <td>0.03</td>\n",
       "      <td>0.09</td>\n",
       "      <td>0.36</td>\n",
       "    </tr>\n",
       "    <tr>\n",
       "      <th>PSV</th>\n",
       "      <td>411.0</td>\n",
       "      <td>0.12</td>\n",
       "      <td>0.20</td>\n",
       "      <td>0.01</td>\n",
       "      <td>0.02</td>\n",
       "      <td>0.05</td>\n",
       "      <td>0.12</td>\n",
       "      <td>1.96</td>\n",
       "    </tr>\n",
       "    <tr>\n",
       "      <th>Wii</th>\n",
       "      <td>54.0</td>\n",
       "      <td>0.65</td>\n",
       "      <td>1.17</td>\n",
       "      <td>0.01</td>\n",
       "      <td>0.06</td>\n",
       "      <td>0.18</td>\n",
       "      <td>0.69</td>\n",
       "      <td>6.76</td>\n",
       "    </tr>\n",
       "    <tr>\n",
       "      <th>WiiU</th>\n",
       "      <td>147.0</td>\n",
       "      <td>0.56</td>\n",
       "      <td>1.06</td>\n",
       "      <td>0.01</td>\n",
       "      <td>0.08</td>\n",
       "      <td>0.22</td>\n",
       "      <td>0.52</td>\n",
       "      <td>7.09</td>\n",
       "    </tr>\n",
       "    <tr>\n",
       "      <th>X360</th>\n",
       "      <td>292.0</td>\n",
       "      <td>0.81</td>\n",
       "      <td>1.71</td>\n",
       "      <td>0.01</td>\n",
       "      <td>0.10</td>\n",
       "      <td>0.31</td>\n",
       "      <td>0.87</td>\n",
       "      <td>16.27</td>\n",
       "    </tr>\n",
       "    <tr>\n",
       "      <th>XOne</th>\n",
       "      <td>247.0</td>\n",
       "      <td>0.65</td>\n",
       "      <td>1.04</td>\n",
       "      <td>0.01</td>\n",
       "      <td>0.06</td>\n",
       "      <td>0.22</td>\n",
       "      <td>0.68</td>\n",
       "      <td>7.39</td>\n",
       "    </tr>\n",
       "  </tbody>\n",
       "</table>\n",
       "</div>"
      ],
      "text/plain": [
       "         sales_sum                                           \n",
       "          describe                                           \n",
       "             count  mean   std   min   25%   50%   75%    max\n",
       "platform                                                     \n",
       "3DS          396.0  0.49  1.39  0.01  0.04  0.11  0.31  14.60\n",
       "DS            31.0  0.40  1.44  0.01  0.02  0.05  0.18   8.06\n",
       "PC           250.0  0.25  0.49  0.01  0.03  0.08  0.24   5.14\n",
       "PS3          493.0  0.59  1.46  0.01  0.05  0.20  0.61  21.05\n",
       "PS4          392.0  0.80  1.61  0.01  0.06  0.20  0.73  14.63\n",
       "PSP          173.0  0.06  0.07  0.01  0.02  0.03  0.09   0.36\n",
       "PSV          411.0  0.12  0.20  0.01  0.02  0.05  0.12   1.96\n",
       "Wii           54.0  0.65  1.17  0.01  0.06  0.18  0.69   6.76\n",
       "WiiU         147.0  0.56  1.06  0.01  0.08  0.22  0.52   7.09\n",
       "X360         292.0  0.81  1.71  0.01  0.10  0.31  0.87  16.27\n",
       "XOne         247.0  0.65  1.04  0.01  0.06  0.22  0.68   7.39"
      ]
     },
     "metadata": {},
     "output_type": "display_data"
    }
   ],
   "source": [
    "plt.figure(figsize=(9, 7))\n",
    "sns.boxplot(data=games_data.query('year_of_release > 2011'), x='platform', y='sales_sum')\n",
    "plt.title('Диаграммы размаха продаж по платформам (ограниченная)')\n",
    "plt.xlabel('Платформа')\n",
    "plt.ylabel('Суммарные продажи')\n",
    "plt.ylim(0, 2)\n",
    "plt.show()\n",
    "\n",
    "# таблицы мне в данном анализе нравятся больше :-) Поэтому отдескрайбим все платформы за актуальный период.\n",
    "agg_func_describe = {'sales_sum': ['describe']}\n",
    "display(games_data.query('year_of_release > 2011').groupby('platform').agg(agg_func_describe).round(2))"
   ]
  },
  {
   "cell_type": "markdown",
   "id": "58688468",
   "metadata": {},
   "source": [
    "Анализируя получившуюся картину делаем следующие выводы:\n",
    "- Максимальное **количество игр** в актуальный период было продано для **PS3 - 493**, минимальное для **DS - 31**\n",
    "- **В среднем** игры продавались лучше всего для **PS4 и Xbox 360 - 0,8 на одну игру**, хуже всего для **PSP - 0,06 на одну игру**\n",
    "- **Наибольший разброс по продажам игр относительно среднего**  наблюдается у **DS** - стандартное отклонение  **1,44 при среднем в 0,4**; наименьший у **PSP** - стандартное отклонение в **0,07 при среднем 0,06**.\n",
    "- Наиболее высокая **25% граница у Xbox 360 - 0,10**; наименее высокие у **DS, PSP и PSV - по 0,02**\n",
    "- Наиболее высокие медианные продажи **у Xbox - 0,31**, наименее высокие у **PSP - 0,03**\n",
    "- Наиболее высокая **75% граница у Xbox 360 - 0,87**; наименее высокие у **PSP - 0,09**\n",
    "- Игра с наибольшими продажами в актуальный период вышла на PS3 - продажи в **21,05**\n",
    "\n",
    "**В сухом остатке перспективные платформы: PS4, Xbox One**, как последователей платформ с максимальным количеством игр и максимальными продажами. Также PS4 и Xbox One имеют положительную динамику продаж в актуальный период."
   ]
  },
  {
   "cell_type": "markdown",
   "id": "a876475f",
   "metadata": {},
   "source": [
    "### Влияние отзывов пользователей и критиков"
   ]
  },
  {
   "cell_type": "markdown",
   "id": "6eeaef8a",
   "metadata": {},
   "source": [
    "Оценим, как влияют отзывы критиков и пользователей на продажи. Согласно предыдущему исследованию, самая популярная платформа по продажам игр это PS4."
   ]
  },
  {
   "cell_type": "code",
   "execution_count": 21,
   "id": "5bc631f0",
   "metadata": {},
   "outputs": [
    {
     "data": {
      "text/html": [
       "<div>\n",
       "<style scoped>\n",
       "    .dataframe tbody tr th:only-of-type {\n",
       "        vertical-align: middle;\n",
       "    }\n",
       "\n",
       "    .dataframe tbody tr th {\n",
       "        vertical-align: top;\n",
       "    }\n",
       "\n",
       "    .dataframe thead th {\n",
       "        text-align: right;\n",
       "    }\n",
       "</style>\n",
       "<table border=\"1\" class=\"dataframe\">\n",
       "  <thead>\n",
       "    <tr style=\"text-align: right;\">\n",
       "      <th></th>\n",
       "      <th></th>\n",
       "      <th>critic_score</th>\n",
       "      <th>user_score</th>\n",
       "      <th>sales_sum</th>\n",
       "    </tr>\n",
       "    <tr>\n",
       "      <th>platform</th>\n",
       "      <th></th>\n",
       "      <th></th>\n",
       "      <th></th>\n",
       "      <th></th>\n",
       "    </tr>\n",
       "  </thead>\n",
       "  <tbody>\n",
       "    <tr>\n",
       "      <th rowspan=\"3\" valign=\"top\">3DS</th>\n",
       "      <th>critic_score</th>\n",
       "      <td>1.00</td>\n",
       "      <td>0.72</td>\n",
       "      <td>0.32</td>\n",
       "    </tr>\n",
       "    <tr>\n",
       "      <th>user_score</th>\n",
       "      <td>0.72</td>\n",
       "      <td>1.00</td>\n",
       "      <td>0.20</td>\n",
       "    </tr>\n",
       "    <tr>\n",
       "      <th>sales_sum</th>\n",
       "      <td>0.32</td>\n",
       "      <td>0.20</td>\n",
       "      <td>1.00</td>\n",
       "    </tr>\n",
       "    <tr>\n",
       "      <th rowspan=\"3\" valign=\"top\">PS3</th>\n",
       "      <th>critic_score</th>\n",
       "      <td>1.00</td>\n",
       "      <td>0.54</td>\n",
       "      <td>0.33</td>\n",
       "    </tr>\n",
       "    <tr>\n",
       "      <th>user_score</th>\n",
       "      <td>0.54</td>\n",
       "      <td>1.00</td>\n",
       "      <td>-0.01</td>\n",
       "    </tr>\n",
       "    <tr>\n",
       "      <th>sales_sum</th>\n",
       "      <td>0.33</td>\n",
       "      <td>-0.01</td>\n",
       "      <td>1.00</td>\n",
       "    </tr>\n",
       "    <tr>\n",
       "      <th rowspan=\"3\" valign=\"top\">PS4</th>\n",
       "      <th>critic_score</th>\n",
       "      <td>1.00</td>\n",
       "      <td>0.56</td>\n",
       "      <td>0.41</td>\n",
       "    </tr>\n",
       "    <tr>\n",
       "      <th>user_score</th>\n",
       "      <td>0.56</td>\n",
       "      <td>1.00</td>\n",
       "      <td>-0.03</td>\n",
       "    </tr>\n",
       "    <tr>\n",
       "      <th>sales_sum</th>\n",
       "      <td>0.41</td>\n",
       "      <td>-0.03</td>\n",
       "      <td>1.00</td>\n",
       "    </tr>\n",
       "    <tr>\n",
       "      <th rowspan=\"3\" valign=\"top\">X360</th>\n",
       "      <th>critic_score</th>\n",
       "      <td>1.00</td>\n",
       "      <td>0.56</td>\n",
       "      <td>0.36</td>\n",
       "    </tr>\n",
       "    <tr>\n",
       "      <th>user_score</th>\n",
       "      <td>0.56</td>\n",
       "      <td>1.00</td>\n",
       "      <td>0.01</td>\n",
       "    </tr>\n",
       "    <tr>\n",
       "      <th>sales_sum</th>\n",
       "      <td>0.36</td>\n",
       "      <td>0.01</td>\n",
       "      <td>1.00</td>\n",
       "    </tr>\n",
       "    <tr>\n",
       "      <th rowspan=\"3\" valign=\"top\">XOne</th>\n",
       "      <th>critic_score</th>\n",
       "      <td>1.00</td>\n",
       "      <td>0.45</td>\n",
       "      <td>0.42</td>\n",
       "    </tr>\n",
       "    <tr>\n",
       "      <th>user_score</th>\n",
       "      <td>0.45</td>\n",
       "      <td>1.00</td>\n",
       "      <td>-0.07</td>\n",
       "    </tr>\n",
       "    <tr>\n",
       "      <th>sales_sum</th>\n",
       "      <td>0.42</td>\n",
       "      <td>-0.07</td>\n",
       "      <td>1.00</td>\n",
       "    </tr>\n",
       "  </tbody>\n",
       "</table>\n",
       "</div>"
      ],
      "text/plain": [
       "                       critic_score  user_score  sales_sum\n",
       "platform                                                  \n",
       "3DS      critic_score          1.00        0.72       0.32\n",
       "         user_score            0.72        1.00       0.20\n",
       "         sales_sum             0.32        0.20       1.00\n",
       "PS3      critic_score          1.00        0.54       0.33\n",
       "         user_score            0.54        1.00      -0.01\n",
       "         sales_sum             0.33       -0.01       1.00\n",
       "PS4      critic_score          1.00        0.56       0.41\n",
       "         user_score            0.56        1.00      -0.03\n",
       "         sales_sum             0.41       -0.03       1.00\n",
       "X360     critic_score          1.00        0.56       0.36\n",
       "         user_score            0.56        1.00       0.01\n",
       "         sales_sum             0.36        0.01       1.00\n",
       "XOne     critic_score          1.00        0.45       0.42\n",
       "         user_score            0.45        1.00      -0.07\n",
       "         sales_sum             0.42       -0.07       1.00"
      ]
     },
     "metadata": {},
     "output_type": "display_data"
    },
    {
     "data": {
      "image/png": "[encoded data removed]",
      "text/plain": [
       "<Figure size 432x288 with 9 Axes>"
      ]
     },
     "metadata": {
      "needs_background": "light"
     },
     "output_type": "display_data"
    }
   ],
   "source": [
    "# запишем данные актуального периода в отдельную переменную\n",
    "games_data_actual = games_data.query('year_of_release > 2011')\n",
    "\n",
    "# построим попарные диаграммы рассеяния на оценках критиков, пользователей и суммах продаж\n",
    "pd.plotting.scatter_matrix(games_data_actual.query('platform == \"PS4\"')[['critic_score', 'user_score', 'sales_sum']])\n",
    "# считаем коэффициенты корелляции по актуальным платформам\n",
    "display(\n",
    "    games_data_actual.query(\n",
    "        'platform in @platform_actual')[['platform', 'critic_score', 'user_score', 'sales_sum']].groupby(\n",
    "        'platform').agg('corr').round(2))"
   ]
  },
  {
   "cell_type": "markdown",
   "id": "a4d4b33f",
   "metadata": {},
   "source": [
    "Соответствующие коэффициенты корелляции говорят о том, что **линейной зависимости продаж от оценок пользователей нет**, зато продажи и оценки критиков связаны достаточно ощутимой прямой зависимостью.\n",
    "\n",
    "При этом диаграмма рассеяния оценок критиков не показывает прямо уж крутого роста продаж при повышении оценки. В общем, **оценки критиков не самый главный показатель успешности. Но на заметку берем.**\n",
    "\n",
    "Аналогичная картина наблюдается и на других актуальных платформах. Исключение: прослеживается слабая прямая зависимость продаж от оценок пользователей для платформы 3DS."
   ]
  },
  {
   "cell_type": "markdown",
   "id": "1ece1859",
   "metadata": {},
   "source": [
    "### Распределение игр по жанрам"
   ]
  },
  {
   "cell_type": "markdown",
   "id": "9ce6757f",
   "metadata": {},
   "source": [
    "Рассмотрим популярность жанров:"
   ]
  },
  {
   "cell_type": "code",
   "execution_count": 22,
   "id": "8a60525e",
   "metadata": {},
   "outputs": [
    {
     "data": {
      "image/png": "[encoded data removed]",
      "text/plain": [
       "<Figure size 576x432 with 1 Axes>"
      ]
     },
     "metadata": {
      "needs_background": "light"
     },
     "output_type": "display_data"
    },
    {
     "data": {
      "text/html": [
       "<div>\n",
       "<style scoped>\n",
       "    .dataframe tbody tr th:only-of-type {\n",
       "        vertical-align: middle;\n",
       "    }\n",
       "\n",
       "    .dataframe tbody tr th {\n",
       "        vertical-align: top;\n",
       "    }\n",
       "\n",
       "    .dataframe thead th {\n",
       "        text-align: right;\n",
       "    }\n",
       "</style>\n",
       "<table border=\"1\" class=\"dataframe\">\n",
       "  <thead>\n",
       "    <tr style=\"text-align: right;\">\n",
       "      <th></th>\n",
       "      <th>genre</th>\n",
       "      <th>count</th>\n",
       "      <th>mean</th>\n",
       "      <th>median</th>\n",
       "      <th>sum</th>\n",
       "    </tr>\n",
       "  </thead>\n",
       "  <tbody>\n",
       "    <tr>\n",
       "      <th>8</th>\n",
       "      <td>Shooter</td>\n",
       "      <td>235</td>\n",
       "      <td>1.296723</td>\n",
       "      <td>0.44</td>\n",
       "      <td>304.73</td>\n",
       "    </tr>\n",
       "    <tr>\n",
       "      <th>10</th>\n",
       "      <td>Sports</td>\n",
       "      <td>268</td>\n",
       "      <td>0.675634</td>\n",
       "      <td>0.24</td>\n",
       "      <td>181.07</td>\n",
       "    </tr>\n",
       "    <tr>\n",
       "      <th>4</th>\n",
       "      <td>Platform</td>\n",
       "      <td>85</td>\n",
       "      <td>0.717647</td>\n",
       "      <td>0.21</td>\n",
       "      <td>61.00</td>\n",
       "    </tr>\n",
       "    <tr>\n",
       "      <th>7</th>\n",
       "      <td>Role-Playing</td>\n",
       "      <td>370</td>\n",
       "      <td>0.521081</td>\n",
       "      <td>0.14</td>\n",
       "      <td>192.80</td>\n",
       "    </tr>\n",
       "    <tr>\n",
       "      <th>6</th>\n",
       "      <td>Racing</td>\n",
       "      <td>115</td>\n",
       "      <td>0.465217</td>\n",
       "      <td>0.14</td>\n",
       "      <td>53.50</td>\n",
       "    </tr>\n",
       "  </tbody>\n",
       "</table>\n",
       "</div>"
      ],
      "text/plain": [
       "           genre  count      mean  median     sum\n",
       "8        Shooter    235  1.296723    0.44  304.73\n",
       "10        Sports    268  0.675634    0.24  181.07\n",
       "4       Platform     85  0.717647    0.21   61.00\n",
       "7   Role-Playing    370  0.521081    0.14  192.80\n",
       "6         Racing    115  0.465217    0.14   53.50"
      ]
     },
     "metadata": {},
     "output_type": "display_data"
    },
    {
     "data": {
      "image/png": "[encoded data removed]",
      "text/plain": [
       "<Figure size 576x432 with 1 Axes>"
      ]
     },
     "metadata": {
      "needs_background": "light"
     },
     "output_type": "display_data"
    }
   ],
   "source": [
    "# построим гистограмму распределения игр по жанрам в актуальном периоде\n",
    "games_data_actual['genre'].hist(bins=23, figsize=(8, 6))\n",
    "plt.xticks(rotation=90)\n",
    "plt.title('Количество игр по жанрам')\n",
    "plt.xlabel('Жанр')\n",
    "plt.ylabel('Количество игр')\n",
    "plt.show()\n",
    "\n",
    "# группируем данные по жанрам с подсчётом суммарных, средних и медианных продаж и количества продаваемых игр\n",
    "games_genre_sales = games_data_actual.pivot_table(index='genre', values='sales_sum', aggfunc={'sum','count','mean','median'}).reset_index()\n",
    "# формируем рейтинг по суммарным продажам\n",
    "display(games_genre_sales.sort_values(by='median', ascending=False).head(5))\n",
    "\n",
    "# строим столбчатый график по средним значениям\n",
    "games_genre_sales.sort_values(by='mean', ascending=False).plot(kind='bar', x='genre', y='mean', figsize=(8, 6))\n",
    "plt.title('Средние продажи по жанрам')\n",
    "plt.xlabel('Жанр')\n",
    "plt.ylabel('Средние продажи')\n",
    "plt.show()"
   ]
  },
  {
   "cell_type": "markdown",
   "id": "a95477e4",
   "metadata": {},
   "source": [
    "Рассматривая полученную таблицу, гистограмму и график делаем следующие выводы:\n",
    "- у игроделов популярны жанры Action, RPG, Sports, Adventure, Shooter (**Самый популярный - Action**)\n",
    "- у игроков по медианным продажам популярны жанры Shooter, Sports, Platform, RPG, Racing (**Самый популярный - Shooter**)\n",
    "- у игроков по средним продажам топ-5 жанров выглядит так: Shooter, Platform, Sports, RPG, Racing (**Самый популярный - Shooter**)"
   ]
  },
  {
   "cell_type": "markdown",
   "id": "e851d506",
   "metadata": {},
   "source": [
    "### Итоги анализа"
   ]
  },
  {
   "cell_type": "markdown",
   "id": "4d339614",
   "metadata": {},
   "source": [
    "Анализируя получившуюся картину по диаграммам размаха делаем следующие выводы:\n",
    "- Максимальное **количество игр** в актуальный период было продано для **PS3 - 493**, минимальное для **DS - 31**\n",
    "- **В среднем** игры продавались лучше всего для **PS4 и Xbox 360 - 0,8 на одну игру**, хуже всего для **PSP - 0,06 на одну игру**\n",
    "- **Наибольший разброс по продажам игр относительно среднего**  наблюдается у **DS** - стандартное отклонение  **1,44 при среднем в 0,4**; наименьший у **PSP** - стандартное отклонение в **0,07 при среднем 0,06**.\n",
    "- Наиболее высокая **25% граница у Xbox 360 - 0,10**; наименее высокие у **DS, PSP и PSV - по 0,02**\n",
    "- Наиболее высокие медианные продажи **у Xbox - 0,31**, наименее высокие у **PSP - 0,03**\n",
    "- Наиболее высокая **75% граница у Xbox 360 - 0,87**; наименее высокие у **PSP - 0,09**\n",
    "- Игра с наибольшими продажами в актуальный период вышла на PS3 - продажи в **21,05**\n",
    "\n",
    "**В сухом остатке перспективные платформы: PS4, Xbox One**, как последователей платформ с максимальным количеством игр и максимальными продажами. Также PS4 и Xbox One имеют положительную динамику продаж в актуальный период.\n",
    "\n",
    "Коэффициенты корелляции говорят о том, что **линейной зависимости продаж от оценок пользователей нет**, зато продажи и оценки критиков связаны достаточно ощутимой прямой зависимостью.\n",
    "\n",
    "При этом диаграмма рассеяния оценок критиков не показывает прямо уж крутого роста продаж при повышении оценки. В общем, **оценки критиков не самый главный показатель успешности. Но на заметку берем.**\n",
    "\n",
    "Исследуя продажи по жанрам, выяснили, что:\n",
    "- у игроделов популярны жанры Action, RPG, Sports, Adventure, Shooter (**Самый популярный - Action**)\n",
    "- у игроков по медианным продажам популярны жанры Shooter, Sports, Platform, RPG, Racing (**Самый популярный - Shooter**)\n",
    "- у игроков по средним продажам топ-5 жанров выглядит так: Shooter, Platform, Sports, RPG, Racing (**Самый популярный - Shooter**)"
   ]
  },
  {
   "cell_type": "markdown",
   "id": "749a83af",
   "metadata": {},
   "source": [
    "## Портреты пользователей по регионам"
   ]
  },
  {
   "cell_type": "markdown",
   "id": "2eb8cb45",
   "metadata": {},
   "source": [
    "### Топ-5 популярных платформ"
   ]
  },
  {
   "cell_type": "markdown",
   "id": "3cced0ee",
   "metadata": {},
   "source": [
    "Определим популярные платформы по регионам:"
   ]
  },
  {
   "cell_type": "code",
   "execution_count": 23,
   "id": "765d3364",
   "metadata": {},
   "outputs": [
    {
     "name": "stdout",
     "output_type": "stream",
     "text": [
      "Популярные платформы в Северной Америке:\n"
     ]
    },
    {
     "data": {
      "text/html": [
       "<div>\n",
       "<style scoped>\n",
       "    .dataframe tbody tr th:only-of-type {\n",
       "        vertical-align: middle;\n",
       "    }\n",
       "\n",
       "    .dataframe tbody tr th {\n",
       "        vertical-align: top;\n",
       "    }\n",
       "\n",
       "    .dataframe thead th {\n",
       "        text-align: right;\n",
       "    }\n",
       "</style>\n",
       "<table border=\"1\" class=\"dataframe\">\n",
       "  <thead>\n",
       "    <tr style=\"text-align: right;\">\n",
       "      <th></th>\n",
       "      <th>platform</th>\n",
       "      <th>na_sales</th>\n",
       "      <th>na_ratio</th>\n",
       "    </tr>\n",
       "  </thead>\n",
       "  <tbody>\n",
       "    <tr>\n",
       "      <th>9</th>\n",
       "      <td>X360</td>\n",
       "      <td>140.05</td>\n",
       "      <td>0.65</td>\n",
       "    </tr>\n",
       "    <tr>\n",
       "      <th>4</th>\n",
       "      <td>PS4</td>\n",
       "      <td>108.74</td>\n",
       "      <td>0.41</td>\n",
       "    </tr>\n",
       "    <tr>\n",
       "      <th>3</th>\n",
       "      <td>PS3</td>\n",
       "      <td>103.38</td>\n",
       "      <td>0.42</td>\n",
       "    </tr>\n",
       "    <tr>\n",
       "      <th>10</th>\n",
       "      <td>XOne</td>\n",
       "      <td>93.12</td>\n",
       "      <td>0.64</td>\n",
       "    </tr>\n",
       "    <tr>\n",
       "      <th>0</th>\n",
       "      <td>3DS</td>\n",
       "      <td>55.31</td>\n",
       "      <td>0.30</td>\n",
       "    </tr>\n",
       "  </tbody>\n",
       "</table>\n",
       "</div>"
      ],
      "text/plain": [
       "   platform  na_sales  na_ratio\n",
       "9      X360    140.05      0.65\n",
       "4       PS4    108.74      0.41\n",
       "3       PS3    103.38      0.42\n",
       "10     XOne     93.12      0.64\n",
       "0       3DS     55.31      0.30"
      ]
     },
     "metadata": {},
     "output_type": "display_data"
    },
    {
     "name": "stdout",
     "output_type": "stream",
     "text": [
      "Популярные платформы в Европе:\n"
     ]
    },
    {
     "data": {
      "text/html": [
       "<div>\n",
       "<style scoped>\n",
       "    .dataframe tbody tr th:only-of-type {\n",
       "        vertical-align: middle;\n",
       "    }\n",
       "\n",
       "    .dataframe tbody tr th {\n",
       "        vertical-align: top;\n",
       "    }\n",
       "\n",
       "    .dataframe thead th {\n",
       "        text-align: right;\n",
       "    }\n",
       "</style>\n",
       "<table border=\"1\" class=\"dataframe\">\n",
       "  <thead>\n",
       "    <tr style=\"text-align: right;\">\n",
       "      <th></th>\n",
       "      <th>platform</th>\n",
       "      <th>eu_sales</th>\n",
       "      <th>eu_ratio</th>\n",
       "    </tr>\n",
       "  </thead>\n",
       "  <tbody>\n",
       "    <tr>\n",
       "      <th>4</th>\n",
       "      <td>PS4</td>\n",
       "      <td>141.09</td>\n",
       "      <td>0.53</td>\n",
       "    </tr>\n",
       "    <tr>\n",
       "      <th>3</th>\n",
       "      <td>PS3</td>\n",
       "      <td>106.86</td>\n",
       "      <td>0.44</td>\n",
       "    </tr>\n",
       "    <tr>\n",
       "      <th>9</th>\n",
       "      <td>X360</td>\n",
       "      <td>74.52</td>\n",
       "      <td>0.34</td>\n",
       "    </tr>\n",
       "    <tr>\n",
       "      <th>10</th>\n",
       "      <td>XOne</td>\n",
       "      <td>51.59</td>\n",
       "      <td>0.36</td>\n",
       "    </tr>\n",
       "    <tr>\n",
       "      <th>0</th>\n",
       "      <td>3DS</td>\n",
       "      <td>42.64</td>\n",
       "      <td>0.23</td>\n",
       "    </tr>\n",
       "  </tbody>\n",
       "</table>\n",
       "</div>"
      ],
      "text/plain": [
       "   platform  eu_sales  eu_ratio\n",
       "4       PS4    141.09      0.53\n",
       "3       PS3    106.86      0.44\n",
       "9      X360     74.52      0.34\n",
       "10     XOne     51.59      0.36\n",
       "0       3DS     42.64      0.23"
      ]
     },
     "metadata": {},
     "output_type": "display_data"
    },
    {
     "name": "stdout",
     "output_type": "stream",
     "text": [
      "Популярные платформы в Японии:\n"
     ]
    },
    {
     "data": {
      "text/html": [
       "<div>\n",
       "<style scoped>\n",
       "    .dataframe tbody tr th:only-of-type {\n",
       "        vertical-align: middle;\n",
       "    }\n",
       "\n",
       "    .dataframe tbody tr th {\n",
       "        vertical-align: top;\n",
       "    }\n",
       "\n",
       "    .dataframe thead th {\n",
       "        text-align: right;\n",
       "    }\n",
       "</style>\n",
       "<table border=\"1\" class=\"dataframe\">\n",
       "  <thead>\n",
       "    <tr style=\"text-align: right;\">\n",
       "      <th></th>\n",
       "      <th>platform</th>\n",
       "      <th>jp_sales</th>\n",
       "      <th>jp_ratio</th>\n",
       "    </tr>\n",
       "  </thead>\n",
       "  <tbody>\n",
       "    <tr>\n",
       "      <th>0</th>\n",
       "      <td>3DS</td>\n",
       "      <td>87.79</td>\n",
       "      <td>0.47</td>\n",
       "    </tr>\n",
       "    <tr>\n",
       "      <th>3</th>\n",
       "      <td>PS3</td>\n",
       "      <td>35.29</td>\n",
       "      <td>0.14</td>\n",
       "    </tr>\n",
       "    <tr>\n",
       "      <th>6</th>\n",
       "      <td>PSV</td>\n",
       "      <td>21.04</td>\n",
       "      <td>0.49</td>\n",
       "    </tr>\n",
       "    <tr>\n",
       "      <th>4</th>\n",
       "      <td>PS4</td>\n",
       "      <td>15.96</td>\n",
       "      <td>0.06</td>\n",
       "    </tr>\n",
       "    <tr>\n",
       "      <th>8</th>\n",
       "      <td>WiiU</td>\n",
       "      <td>13.01</td>\n",
       "      <td>0.17</td>\n",
       "    </tr>\n",
       "  </tbody>\n",
       "</table>\n",
       "</div>"
      ],
      "text/plain": [
       "  platform  jp_sales  jp_ratio\n",
       "0      3DS     87.79      0.47\n",
       "3      PS3     35.29      0.14\n",
       "6      PSV     21.04      0.49\n",
       "4      PS4     15.96      0.06\n",
       "8     WiiU     13.01      0.17"
      ]
     },
     "metadata": {},
     "output_type": "display_data"
    }
   ],
   "source": [
    "# группируем данные по платформам, рассчитывая суммарные продажи по регионам\n",
    "games_regions = games_data_actual.pivot_table(index='platform', values=['na_sales', 'eu_sales', 'jp_sales'], aggfunc='sum').reset_index()\n",
    "\n",
    "# Считаем доли продаж\n",
    "games_regions['eu_ratio'] = (games_regions['eu_sales'] / (\n",
    "    games_regions['eu_sales'] + games_regions['jp_sales'] + games_regions['na_sales'])).round(2)\n",
    "games_regions['jp_ratio'] = (games_regions['jp_sales'] / (\n",
    "    games_regions['eu_sales'] + games_regions['jp_sales'] + games_regions['na_sales'])).round(2)\n",
    "games_regions['na_ratio'] = (games_regions['na_sales'] / (\n",
    "    games_regions['eu_sales'] + games_regions['jp_sales'] + games_regions['na_sales'])).round(2)\n",
    "\n",
    "# Выводим результат\n",
    "print('Популярные платформы в Северной Америке:')\n",
    "display(games_regions[['platform', 'na_sales', 'na_ratio']].sort_values(by='na_sales', ascending=False).head(5))\n",
    "print('Популярные платформы в Европе:')\n",
    "display(games_regions[['platform', 'eu_sales', 'eu_ratio']].sort_values(by='eu_sales', ascending=False).head(5))\n",
    "print('Популярные платформы в Японии:')\n",
    "display(games_regions[['platform', 'jp_sales', 'jp_ratio']].sort_values(by='jp_sales', ascending=False).head(5))"
   ]
  },
  {
   "cell_type": "markdown",
   "id": "5ecd7d17",
   "metadata": {},
   "source": [
    "- **Северная Америка:** лидер по продажам Xbox 360 (**140**). Доли продаж продукции Microsoft внушительные (**свыше 60%**). Основной рынок этих платформ именно в Америке. Но по суммарным продажам PS лишь немного отстаёт в этом регионе (**211 против 233 у Xbox**). Вцелом Америка на первом месте по объёму рынка видеоигр.\n",
    "- **Европа**: лидер по продажам PS4 (**141**). По суммарным продажам Sony явный лидер (**248 против 126 у Microsoft**). Европа второй по объёму рынок после Северной Америки.\n",
    "- **Япония**: Внезапный лидер продаж 3DS (**88**). Microsoft не представлен вовсе. В пятерке лидеров японского рынка игры для PS различных поколений и модификаций."
   ]
  },
  {
   "cell_type": "markdown",
   "id": "eba7803d",
   "metadata": {},
   "source": [
    "### Топ-5 популярных жанров"
   ]
  },
  {
   "cell_type": "markdown",
   "id": "0743fe07",
   "metadata": {},
   "source": [
    "Определим популярные жанры:"
   ]
  },
  {
   "cell_type": "code",
   "execution_count": 24,
   "id": "4cd38927",
   "metadata": {},
   "outputs": [
    {
     "name": "stdout",
     "output_type": "stream",
     "text": [
      "Популярные жанры в Северной Америке:\n"
     ]
    },
    {
     "data": {
      "text/html": [
       "<div>\n",
       "<style scoped>\n",
       "    .dataframe tbody tr th:only-of-type {\n",
       "        vertical-align: middle;\n",
       "    }\n",
       "\n",
       "    .dataframe tbody tr th {\n",
       "        vertical-align: top;\n",
       "    }\n",
       "\n",
       "    .dataframe thead th {\n",
       "        text-align: right;\n",
       "    }\n",
       "</style>\n",
       "<table border=\"1\" class=\"dataframe\">\n",
       "  <thead>\n",
       "    <tr style=\"text-align: right;\">\n",
       "      <th></th>\n",
       "      <th>genre</th>\n",
       "      <th>na_sales</th>\n",
       "      <th>na_ratio</th>\n",
       "    </tr>\n",
       "  </thead>\n",
       "  <tbody>\n",
       "    <tr>\n",
       "      <th>0</th>\n",
       "      <td>Action</td>\n",
       "      <td>177.84</td>\n",
       "      <td>0.46</td>\n",
       "    </tr>\n",
       "    <tr>\n",
       "      <th>8</th>\n",
       "      <td>Shooter</td>\n",
       "      <td>144.77</td>\n",
       "      <td>0.54</td>\n",
       "    </tr>\n",
       "    <tr>\n",
       "      <th>10</th>\n",
       "      <td>Sports</td>\n",
       "      <td>81.53</td>\n",
       "      <td>0.51</td>\n",
       "    </tr>\n",
       "    <tr>\n",
       "      <th>7</th>\n",
       "      <td>Role-Playing</td>\n",
       "      <td>64.00</td>\n",
       "      <td>0.36</td>\n",
       "    </tr>\n",
       "    <tr>\n",
       "      <th>3</th>\n",
       "      <td>Misc</td>\n",
       "      <td>38.19</td>\n",
       "      <td>0.49</td>\n",
       "    </tr>\n",
       "  </tbody>\n",
       "</table>\n",
       "</div>"
      ],
      "text/plain": [
       "           genre  na_sales  na_ratio\n",
       "0         Action    177.84      0.46\n",
       "8        Shooter    144.77      0.54\n",
       "10        Sports     81.53      0.51\n",
       "7   Role-Playing     64.00      0.36\n",
       "3           Misc     38.19      0.49"
      ]
     },
     "metadata": {},
     "output_type": "display_data"
    },
    {
     "name": "stdout",
     "output_type": "stream",
     "text": [
      "Популярные жанры в Европе:\n"
     ]
    },
    {
     "data": {
      "text/html": [
       "<div>\n",
       "<style scoped>\n",
       "    .dataframe tbody tr th:only-of-type {\n",
       "        vertical-align: middle;\n",
       "    }\n",
       "\n",
       "    .dataframe tbody tr th {\n",
       "        vertical-align: top;\n",
       "    }\n",
       "\n",
       "    .dataframe thead th {\n",
       "        text-align: right;\n",
       "    }\n",
       "</style>\n",
       "<table border=\"1\" class=\"dataframe\">\n",
       "  <thead>\n",
       "    <tr style=\"text-align: right;\">\n",
       "      <th></th>\n",
       "      <th>genre</th>\n",
       "      <th>eu_sales</th>\n",
       "      <th>eu_ratio</th>\n",
       "    </tr>\n",
       "  </thead>\n",
       "  <tbody>\n",
       "    <tr>\n",
       "      <th>0</th>\n",
       "      <td>Action</td>\n",
       "      <td>159.34</td>\n",
       "      <td>0.41</td>\n",
       "    </tr>\n",
       "    <tr>\n",
       "      <th>8</th>\n",
       "      <td>Shooter</td>\n",
       "      <td>113.47</td>\n",
       "      <td>0.42</td>\n",
       "    </tr>\n",
       "    <tr>\n",
       "      <th>10</th>\n",
       "      <td>Sports</td>\n",
       "      <td>69.09</td>\n",
       "      <td>0.44</td>\n",
       "    </tr>\n",
       "    <tr>\n",
       "      <th>7</th>\n",
       "      <td>Role-Playing</td>\n",
       "      <td>48.53</td>\n",
       "      <td>0.27</td>\n",
       "    </tr>\n",
       "    <tr>\n",
       "      <th>6</th>\n",
       "      <td>Racing</td>\n",
       "      <td>27.29</td>\n",
       "      <td>0.58</td>\n",
       "    </tr>\n",
       "  </tbody>\n",
       "</table>\n",
       "</div>"
      ],
      "text/plain": [
       "           genre  eu_sales  eu_ratio\n",
       "0         Action    159.34      0.41\n",
       "8        Shooter    113.47      0.42\n",
       "10        Sports     69.09      0.44\n",
       "7   Role-Playing     48.53      0.27\n",
       "6         Racing     27.29      0.58"
      ]
     },
     "metadata": {},
     "output_type": "display_data"
    },
    {
     "name": "stdout",
     "output_type": "stream",
     "text": [
      "Популярные жанры в Японии:\n"
     ]
    },
    {
     "data": {
      "text/html": [
       "<div>\n",
       "<style scoped>\n",
       "    .dataframe tbody tr th:only-of-type {\n",
       "        vertical-align: middle;\n",
       "    }\n",
       "\n",
       "    .dataframe tbody tr th {\n",
       "        vertical-align: top;\n",
       "    }\n",
       "\n",
       "    .dataframe thead th {\n",
       "        text-align: right;\n",
       "    }\n",
       "</style>\n",
       "<table border=\"1\" class=\"dataframe\">\n",
       "  <thead>\n",
       "    <tr style=\"text-align: right;\">\n",
       "      <th></th>\n",
       "      <th>genre</th>\n",
       "      <th>jp_sales</th>\n",
       "      <th>jp_ratio</th>\n",
       "    </tr>\n",
       "  </thead>\n",
       "  <tbody>\n",
       "    <tr>\n",
       "      <th>7</th>\n",
       "      <td>Role-Playing</td>\n",
       "      <td>65.44</td>\n",
       "      <td>0.37</td>\n",
       "    </tr>\n",
       "    <tr>\n",
       "      <th>0</th>\n",
       "      <td>Action</td>\n",
       "      <td>52.80</td>\n",
       "      <td>0.14</td>\n",
       "    </tr>\n",
       "    <tr>\n",
       "      <th>3</th>\n",
       "      <td>Misc</td>\n",
       "      <td>12.86</td>\n",
       "      <td>0.17</td>\n",
       "    </tr>\n",
       "    <tr>\n",
       "      <th>9</th>\n",
       "      <td>Simulation</td>\n",
       "      <td>10.41</td>\n",
       "      <td>0.32</td>\n",
       "    </tr>\n",
       "    <tr>\n",
       "      <th>2</th>\n",
       "      <td>Fighting</td>\n",
       "      <td>9.44</td>\n",
       "      <td>0.24</td>\n",
       "    </tr>\n",
       "  </tbody>\n",
       "</table>\n",
       "</div>"
      ],
      "text/plain": [
       "          genre  jp_sales  jp_ratio\n",
       "7  Role-Playing     65.44      0.37\n",
       "0        Action     52.80      0.14\n",
       "3          Misc     12.86      0.17\n",
       "9    Simulation     10.41      0.32\n",
       "2      Fighting      9.44      0.24"
      ]
     },
     "metadata": {},
     "output_type": "display_data"
    }
   ],
   "source": [
    "# группируем данные по жанрам\n",
    "games_genres_regions = games_data_actual.pivot_table(index='genre', values=['na_sales', 'eu_sales', 'jp_sales'], aggfunc='sum').reset_index()\n",
    "\n",
    "# считаем доли от продаж\n",
    "games_genres_regions['eu_ratio'] = (games_genres_regions['eu_sales'] / (\n",
    "    games_genres_regions['eu_sales'] + games_genres_regions['jp_sales'] + games_genres_regions['na_sales'])).round(2)\n",
    "games_genres_regions['jp_ratio'] = (games_genres_regions['jp_sales'] / (\n",
    "    games_genres_regions['eu_sales'] + games_genres_regions['jp_sales'] + games_genres_regions['na_sales'])).round(2)\n",
    "games_genres_regions['na_ratio'] = (games_genres_regions['na_sales'] / (\n",
    "    games_genres_regions['eu_sales'] + games_genres_regions['jp_sales'] + games_genres_regions['na_sales'])).round(2)\n",
    "\n",
    "print('Популярные жанры в Северной Америке:')\n",
    "display(games_genres_regions[['genre', 'na_sales', 'na_ratio']].sort_values(by='na_sales', ascending=False).head(5))\n",
    "print('Популярные жанры в Европе:')\n",
    "display(games_genres_regions[['genre', 'eu_sales', 'eu_ratio']].sort_values(by='eu_sales', ascending=False).head(5))\n",
    "print('Популярные жанры в Японии:')\n",
    "display(games_genres_regions[['genre', 'jp_sales', 'jp_ratio']].sort_values(by='jp_sales', ascending=False).head(5))"
   ]
  },
  {
   "cell_type": "markdown",
   "id": "4d6440b3",
   "metadata": {},
   "source": [
    "- **Северная Америка**: Самые популярные жанры - Action (**291**) и Shooter(**237**)\n",
    "- **Европа**: Самые популярные жанры - Action (**233**) и Shooter(**171**)\n",
    "- **Япония**: Самые популярные жанры - RPG (**104**) и Action(**72**)"
   ]
  },
  {
   "cell_type": "markdown",
   "id": "3d14e9f0",
   "metadata": {},
   "source": [
    "### Влияние рейтинга на продажи"
   ]
  },
  {
   "cell_type": "markdown",
   "id": "8e800d90",
   "metadata": {},
   "source": [
    "Чтобы отследить зависимость продаж от рейтинга, дополнительно посчитаем средние продажи одной игры соответствующего рейтинга"
   ]
  },
  {
   "cell_type": "code",
   "execution_count": 25,
   "id": "bf6cac03",
   "metadata": {},
   "outputs": [
    {
     "data": {
      "text/html": [
       "<div>\n",
       "<style scoped>\n",
       "    .dataframe tbody tr th:only-of-type {\n",
       "        vertical-align: middle;\n",
       "    }\n",
       "\n",
       "    .dataframe tbody tr th {\n",
       "        vertical-align: top;\n",
       "    }\n",
       "\n",
       "    .dataframe thead th {\n",
       "        text-align: right;\n",
       "    }\n",
       "</style>\n",
       "<table border=\"1\" class=\"dataframe\">\n",
       "  <thead>\n",
       "    <tr style=\"text-align: right;\">\n",
       "      <th></th>\n",
       "      <th>rating</th>\n",
       "      <th>eu_sales</th>\n",
       "      <th>jp_sales</th>\n",
       "      <th>na_sales</th>\n",
       "      <th>games_count</th>\n",
       "      <th>eu_ratio</th>\n",
       "      <th>jp_ratio</th>\n",
       "      <th>na_ratio</th>\n",
       "    </tr>\n",
       "  </thead>\n",
       "  <tbody>\n",
       "    <tr>\n",
       "      <th>0</th>\n",
       "      <td>E</td>\n",
       "      <td>113.03</td>\n",
       "      <td>28.33</td>\n",
       "      <td>114.37</td>\n",
       "      <td>395</td>\n",
       "      <td>0.29</td>\n",
       "      <td>0.072</td>\n",
       "      <td>0.29</td>\n",
       "    </tr>\n",
       "    <tr>\n",
       "      <th>1</th>\n",
       "      <td>E10+</td>\n",
       "      <td>55.37</td>\n",
       "      <td>8.19</td>\n",
       "      <td>75.70</td>\n",
       "      <td>306</td>\n",
       "      <td>0.18</td>\n",
       "      <td>0.027</td>\n",
       "      <td>0.25</td>\n",
       "    </tr>\n",
       "    <tr>\n",
       "      <th>2</th>\n",
       "      <td>M</td>\n",
       "      <td>193.96</td>\n",
       "      <td>21.20</td>\n",
       "      <td>231.57</td>\n",
       "      <td>498</td>\n",
       "      <td>0.39</td>\n",
       "      <td>0.043</td>\n",
       "      <td>0.46</td>\n",
       "    </tr>\n",
       "    <tr>\n",
       "      <th>3</th>\n",
       "      <td>T</td>\n",
       "      <td>52.96</td>\n",
       "      <td>26.02</td>\n",
       "      <td>66.02</td>\n",
       "      <td>412</td>\n",
       "      <td>0.13</td>\n",
       "      <td>0.063</td>\n",
       "      <td>0.16</td>\n",
       "    </tr>\n",
       "    <tr>\n",
       "      <th>4</th>\n",
       "      <td>unknown</td>\n",
       "      <td>91.50</td>\n",
       "      <td>108.84</td>\n",
       "      <td>103.31</td>\n",
       "      <td>1275</td>\n",
       "      <td>0.07</td>\n",
       "      <td>0.085</td>\n",
       "      <td>0.08</td>\n",
       "    </tr>\n",
       "  </tbody>\n",
       "</table>\n",
       "</div>"
      ],
      "text/plain": [
       "    rating  eu_sales  jp_sales  na_sales  games_count  eu_ratio  jp_ratio  \\\n",
       "0        E    113.03     28.33    114.37          395      0.29     0.072   \n",
       "1     E10+     55.37      8.19     75.70          306      0.18     0.027   \n",
       "2        M    193.96     21.20    231.57          498      0.39     0.043   \n",
       "3        T     52.96     26.02     66.02          412      0.13     0.063   \n",
       "4  unknown     91.50    108.84    103.31         1275      0.07     0.085   \n",
       "\n",
       "   na_ratio  \n",
       "0      0.29  \n",
       "1      0.25  \n",
       "2      0.46  \n",
       "3      0.16  \n",
       "4      0.08  "
      ]
     },
     "metadata": {},
     "output_type": "display_data"
    }
   ],
   "source": [
    "# группируем по рейтингу и считаем продажи по регионам\n",
    "games_rating_regions = games_data_actual.pivot_table(\n",
    "    index='rating', values=['na_sales', 'eu_sales', 'jp_sales'], aggfunc='sum').reset_index()\n",
    "# группируем по рейтингу и считаем количество проданных игр\n",
    "ratings_games_sold = games_data_actual.pivot_table(index='rating', values='na_sales', aggfunc='count').reset_index()\n",
    "# формируем общую таблицу и правим названия столбцов\n",
    "games_rating_regions = games_rating_regions.merge(ratings_games_sold, on='rating', how='outer')\n",
    "games_rating_regions = games_rating_regions.rename(columns={'na_sales_x':'na_sales', 'na_sales_y':'games_count'})\n",
    "\n",
    "# считаем средние продажи на одну игру соответствующего рейтинга\n",
    "games_rating_regions['eu_ratio'] = (games_rating_regions['eu_sales'] / games_rating_regions['games_count']).round(2)\n",
    "games_rating_regions['jp_ratio'] = (games_rating_regions['jp_sales'] / games_rating_regions['games_count']).round(3)\n",
    "games_rating_regions['na_ratio'] = (games_rating_regions['na_sales'] / games_rating_regions['games_count']).round(2)\n",
    "\n",
    "display(games_rating_regions)"
   ]
  },
  {
   "cell_type": "markdown",
   "id": "4067f760",
   "metadata": {},
   "source": [
    "Зависимость могла бы быть такой: чем больше целевая аудитория, тем больше продажи. Но мы видим, что игры рейтинга E (\"для всех\") продаются хуже, чем М (18+). Так что такой повсеместной зависимости нет. Теперь по регионам:\n",
    "\n",
    "- **Северная Америка**: популярные рейтинги M и E (**0,46 и 0,29 средних продаж**). Выраженный перекос в сторону жестокой и сексуальной реальности.\n",
    "- **Европа**: популярные рейтинги M и E (**0,39 и 0,29 средних продаж**)\n",
    "- **Япония**: популярные рейтинги E и T (**0,07 и 0,06 средних продаж**). У японцев менее выраженный запрос на \"взрослость. Более миролюбивые там геймеры.\n",
    "- **игры с неизвестным для нас рейтингом** в Северной Америке и Европе составляют примерно четверть всех продаж, а в Японии больше половины. Скорее всего это связано, что в нашей базе рейтинг от компании Entertainment Software Rating Board, основное направление деятельности - определение рейтинга игр и видеоконтента в США и Канаде. Япония уж больно культурно далёкий от них регион."
   ]
  },
  {
   "cell_type": "markdown",
   "id": "458ce715",
   "metadata": {},
   "source": [
    "### Итоговые портреты пользователей"
   ]
  },
  {
   "cell_type": "markdown",
   "id": "2961732f",
   "metadata": {},
   "source": [
    "- **Североамериканский геймер**: Примерно одинаково любит игры для Xbox и PS. Популярные рейтинги игр M и E (**0,46 и 0,29 средних продаж**). Выраженный перекос в сторону жестокой и сексуальной реальности в играх. Предпочитаемые жанры - Action (**291**) и Shooter(**237**)\n",
    "- **Европейский геймер**: Предпочитает платформы от Sony. Популярные рейтинги M и E (**0,39 и 0,29 средних продаж**). К рейтингам чуть более равнодушен. Предпочитаемые жанры - Action (**233**) и Shooter(**171**).\n",
    "- **Японский геймер**: Предпочитает карманные варианты платформ наряду с полноценными консолями от Sony. Сумма продаж игр для 3DS самая высокая в регионе (**88**). Xbox не любит. Популярные рейтинги E и T (**0,07 и 0,06 средних продаж**). Миролюбив, инфантилен. Самые популярные жанры - RPG (**104**) и Action(**72**)\n",
    "- **Отличия в рейтингах** между Японией и Европой (и Северной Америкой) могут быть и скорее всего обусловлены гораздо меньшей долей игр, оцененых ESRB"
   ]
  },
  {
   "cell_type": "markdown",
   "id": "326cf3ab",
   "metadata": {},
   "source": [
    "## Проверка гипотез"
   ]
  },
  {
   "cell_type": "markdown",
   "id": "d96ed218",
   "metadata": {},
   "source": [
    "Сравнивать будем две независимые выборки. Поэтому будем использовать метод st.ttest_ind.\n",
    "\n",
    "Для начала проверим первую **нулевую гипотезу: Средние пользовательские рейтинги платформ Xbox One и PC одинаковые**"
   ]
  },
  {
   "cell_type": "code",
   "execution_count": 26,
   "id": "daf49dff",
   "metadata": {},
   "outputs": [
    {
     "name": "stdout",
     "output_type": "stream",
     "text": [
      "p-значение: 0.5747220188229722\n",
      "Вполне вероятно, что средние пользовательские рейтинги игр на Xbox One и PC равны\n"
     ]
    }
   ],
   "source": [
    "xbox_user_score = games_data_actual.query('platform == \"XOne\" and user_score > 0')['user_score']\n",
    "pc_user_score = games_data_actual.query('platform == \"PC\" and user_score > 0')['user_score']\n",
    "\n",
    "alpha = .01\n",
    "\n",
    "results = st.ttest_ind(\n",
    "    xbox_user_score, \n",
    "    pc_user_score)\n",
    "\n",
    "print('p-значение:', results.pvalue)\n",
    "\n",
    "if results.pvalue < alpha:\n",
    "    print(\"Отвергаем предположение, что средние пользовательские рейтинги игр на Xbox One и PC равны.\")\n",
    "else:\n",
    "    print(\"Вполне вероятно, что средние пользовательские рейтинги игр на Xbox One и PC равны\")"
   ]
  },
  {
   "cell_type": "markdown",
   "id": "f8b26d07",
   "metadata": {},
   "source": [
    "Отвергнуть первую нулевую гипотезу мы не можем.\n",
    "\n",
    "Проверим **вторую нулевую гипотезу**. Она обязательно должна проверять некое равенство, поэтому формулируем так: **Средние пользовательские рейтинги жанров Action и Sports равны.**"
   ]
  },
  {
   "cell_type": "code",
   "execution_count": 27,
   "id": "42dd92e3",
   "metadata": {},
   "outputs": [
    {
     "name": "stdout",
     "output_type": "stream",
     "text": [
      "p-значение: 1.048598937143916e-23\n",
      "Отвергаем предположение, что средние пользовательские рейтинги экшн-игр и спортивных игр равны.\n"
     ]
    }
   ],
   "source": [
    "action_user_score = games_data_actual.query('genre == \"Action\" and user_score > 0')['user_score']\n",
    "sports_user_score = games_data_actual.query('genre == \"Sports\" and user_score > 0')['user_score']\n",
    "\n",
    "alpha = .01\n",
    "\n",
    "results = st.ttest_ind(\n",
    "    action_user_score, \n",
    "    sports_user_score)\n",
    "\n",
    "print('p-значение:', results.pvalue)\n",
    "\n",
    "if results.pvalue < alpha:\n",
    "    print(\"Отвергаем предположение, что средние пользовательские рейтинги экшн-игр и спортивных игр равны.\")\n",
    "else:\n",
    "    print(\"Вполне вероятно, что средние пользовательские рейтинги экшн-игр и спортивных игр равны\")"
   ]
  },
  {
   "cell_type": "markdown",
   "id": "6a4761dc",
   "metadata": {},
   "source": [
    "Экшн игры и спортивные игры скорее всего имеют разные рейтинги."
   ]
  },
  {
   "cell_type": "markdown",
   "id": "02dfa2cd",
   "metadata": {},
   "source": [
    "## Общий вывод"
   ]
  },
  {
   "cell_type": "markdown",
   "id": "981a7e22",
   "metadata": {},
   "source": [
    "В ходе **предобработки** были произведены следующие действия:\n",
    "\n",
    "- Переведены названия столбцов в нижний регистр.\n",
    "- Дубликаты в названиях игр связаны с их выходом на разных платформах - действий не потребовалось. Пропуски в этом столбце заполнили словом *unknown*.\n",
    "- В названиях платформ дубликатов не обнаружено.\n",
    "- Годы релиза привели к типу **int**, пропуски заполнили нулями, чтобы их отсечь при построении распределений по годам.\n",
    "- В названиях жанров дубликатов не обнаружено.\n",
    "- Продажи по регионам не трогали - пропусков нет, тип данных подходящий.\n",
    "- Оценки критиков не трогали - тип данных подходящий, пропуски при расчётах не помешают.\n",
    "- Оценки пользователей привели к типу **float**, предварительно заменив \"tbd\" (To Be Determined, то есть \"будет определено\") пропуском, чтобы тип данных столбца остался числовым для возможных расчётов.\n",
    "- С помощью гугла выяснил, что это и принял следующие решения: \n",
    "- В рейтинге обнаружили \"RP\" - \"рейтинг ожидается\", значит, неизвестен. Заменили на \"unknown\". Также нашли \"K-A\" - это старое название \"E\". Произвели и такую замену.\n",
    "- Добавили столбец с глобальными продажами.\n",
    "\n",
    "Вцелом сильно не хватает рейтингов. Причина, на мой взгляд в том, что не каждая игра исторически имела такой рейтинг, но сейчас с этим получше вроде бы как. Рекомендовал бы обратить на это внимание при формировании базы данных. Может стим парсить или что-то вроде того."
   ]
  },
  {
   "cell_type": "markdown",
   "id": "57d7c06d",
   "metadata": {},
   "source": [
    "Анализируя получившуюся картину по диаграммам размаха делаем следующие выводы:\n",
    "- Максимальное **количество игр** в актуальный период было продано для **PS3 - 493**, минимальное для **DS - 31**\n",
    "- **В среднем** игры продавались лучше всего для **PS4 и Xbox 360 - 0,8 на одну игру**, хуже всего для **PSP - 0,06 на одну игру**\n",
    "- **Наибольший разброс по продажам игр относительно среднего**  наблюдается у **DS** - стандартное отклонение  **1,44 при среднем в 0,4**; наименьший у **PSP** - стандартное отклонение в **0,07 при среднем 0,06**.\n",
    "- Наиболее высокая **25% граница у Xbox 360 - 0,10**; наименее высокие у **DS, PSP и PSV - по 0,02**\n",
    "- Наиболее высокие медианные продажи **у Xbox - 0,31**, наименее высокие у **PSP - 0,03**\n",
    "- Наиболее высокая **75% граница у Xbox 360 - 0,87**; наименее высокие у **PSP - 0,09**\n",
    "- Игра с наибольшими продажами в актуальный период вышла на PS3 - продажи в **21,05**\n",
    "\n",
    "**В сухом остатке перспективные платформы: PS4, Xbox One**, как последователей платформ с максимальным количеством игр и максимальными продажами. Также PS4 и Xbox One имеют положительную динамику продаж в актуальный период.\n",
    "\n",
    "Коэффициенты корелляции говорят о том, что **линейной зависимости продаж от оценок пользователей нет**, зато продажи и оценки критиков связаны достаточно ощутимой прямой зависимостью.\n",
    "\n",
    "При этом диаграмма рассеяния оценок критиков не показывает прямо уж крутого роста продаж при повышении оценки. В общем, **оценки критиков не самый главный показатель успешности. Но на заметку берем.**\n",
    "\n",
    "Исследуя продажи по жанрам, выяснили, что:\n",
    "- у игроделов популярны жанры Action, RPG, Sports, Adventure, Shooter (**Самый популярный - Action**)\n",
    "- у игроков по медианным продажам популярны жанры Shooter, Sports, Platform, RPG, Racing (**Самый популярный - Shooter**)\n",
    "- у игроков по средним продажам топ-5 жанров выглядит так: Shooter, Platform, Sports, RPG, Racing (**Самый популярный - Shooter**)"
   ]
  },
  {
   "cell_type": "markdown",
   "id": "a6a51fb8",
   "metadata": {},
   "source": [
    "Портреты пользователей:\n",
    "- **Североамериканский геймер**: Примерно одинаково любит игры для Xbox и PS. Популярные рейтинги игр M и E (**0,46 и 0,29 средних продаж**). Выраженный перекос в сторону жестокой и сексуальной реальности в играх. Предпочитаемые жанры - Action (**291**) и Shooter(**237**)\n",
    "- **Европейский геймер**: Предпочитает платформы от Sony. Популярные рейтинги M и E (**0,39 и 0,29 средних продаж**). К рейтингам чуть более равнодушен. Предпочитаемые жанры - Action (**233**) и Shooter(**171**).\n",
    "- **Японский геймер**: Предпочитает карманные варианты платформ наряду с полноценными консолями от Sony. Сумма продаж игр для 3DS самая высокая в регионе (**88**). Xbox не любит. Популярные рейтинги E и T (**0,07 и 0,06 средних продаж**). Миролюбив, инфантилен. Самые популярные жанры - RPG (**104**) и Action(**72**)\n",
    "- **Отличия в рейтингах** между Японией и Европой (и Северной Америкой) могут быть и скорее всего обусловлены гораздо меньшей долей игр, оцененых ESRB."
   ]
  },
  {
   "cell_type": "markdown",
   "id": "8eb430b7",
   "metadata": {},
   "source": [
    "Проверенные гипотезы:\n",
    "- Средние пользовательские рейтинги платформ Xbox One и PC одинаковые - **подтверждена**\n",
    "- Средние пользовательские рейтинги жанров Action и Sports разные. - **подтверждена**"
   ]
  },
  {
   "cell_type": "markdown",
   "id": "d18582c6",
   "metadata": {},
   "source": [
    "В конечном итоге я бы так сформулировал, **определяющие успешность игры параметры** (в порядке значимости):\n",
    "- Жанр\n",
    "- Рейтинг\n",
    "- Платформа\n",
    "- Оценки экспертов\n",
    "\n",
    "На какие бы игры обратил внимания для продаж в 2017 году:\n",
    "- Жанр: Shooter, Sports, Platform, RPG, Racing\n",
    "- Рейтинг: М и Е\n",
    "- Платформа: PS4 и Xbox One\n",
    "- Оценки экспертов: от 65*\n",
    "\n",
    "*судя по диаграмме рассеяния после этой границы максимальное количество точек, обозначающих необычно высокие продажи."
   ]
  }
 ],
 "metadata": {
  "ExecuteTimeLog": [
   {
    "duration": 1181,
    "start_time": "2022-06-19T05:11:48.604Z"
   },
   {
    "duration": 159,
    "start_time": "2022-06-19T05:11:49.787Z"
   },
   {
    "duration": 8,
    "start_time": "2022-06-19T05:11:49.952Z"
   },
   {
    "duration": 13,
    "start_time": "2022-06-19T05:11:49.962Z"
   },
   {
    "duration": 16,
    "start_time": "2022-06-19T05:11:49.976Z"
   },
   {
    "duration": 26,
    "start_time": "2022-06-19T05:11:49.994Z"
   },
   {
    "duration": 147,
    "start_time": "2022-06-19T05:11:50.021Z"
   },
   {
    "duration": 0,
    "start_time": "2022-06-19T05:11:50.171Z"
   },
   {
    "duration": 0,
    "start_time": "2022-06-19T05:11:50.172Z"
   },
   {
    "duration": 0,
    "start_time": "2022-06-19T05:11:50.173Z"
   },
   {
    "duration": 0,
    "start_time": "2022-06-19T05:11:50.175Z"
   },
   {
    "duration": 0,
    "start_time": "2022-06-19T05:11:50.176Z"
   },
   {
    "duration": 0,
    "start_time": "2022-06-19T05:11:50.177Z"
   },
   {
    "duration": 0,
    "start_time": "2022-06-19T05:11:50.178Z"
   },
   {
    "duration": 0,
    "start_time": "2022-06-19T05:11:50.179Z"
   },
   {
    "duration": 0,
    "start_time": "2022-06-19T05:11:50.180Z"
   },
   {
    "duration": 0,
    "start_time": "2022-06-19T05:11:50.181Z"
   },
   {
    "duration": 0,
    "start_time": "2022-06-19T05:11:50.182Z"
   },
   {
    "duration": 0,
    "start_time": "2022-06-19T05:11:50.183Z"
   },
   {
    "duration": 0,
    "start_time": "2022-06-19T05:11:50.184Z"
   },
   {
    "duration": 0,
    "start_time": "2022-06-19T05:11:50.185Z"
   },
   {
    "duration": 0,
    "start_time": "2022-06-19T05:11:50.186Z"
   },
   {
    "duration": 0,
    "start_time": "2022-06-19T05:11:50.188Z"
   },
   {
    "duration": 0,
    "start_time": "2022-06-19T05:11:50.189Z"
   },
   {
    "duration": 0,
    "start_time": "2022-06-19T05:11:50.190Z"
   },
   {
    "duration": 0,
    "start_time": "2022-06-19T05:11:50.191Z"
   },
   {
    "duration": 58,
    "start_time": "2022-06-19T05:12:56.825Z"
   },
   {
    "duration": 38,
    "start_time": "2022-06-19T05:17:50.731Z"
   },
   {
    "duration": 1175,
    "start_time": "2022-06-19T05:19:33.155Z"
   },
   {
    "duration": 90,
    "start_time": "2022-06-19T05:19:34.332Z"
   },
   {
    "duration": 4,
    "start_time": "2022-06-19T05:19:34.424Z"
   },
   {
    "duration": 31,
    "start_time": "2022-06-19T05:19:34.430Z"
   },
   {
    "duration": 21,
    "start_time": "2022-06-19T05:19:34.462Z"
   },
   {
    "duration": 22,
    "start_time": "2022-06-19T05:19:34.498Z"
   },
   {
    "duration": 13,
    "start_time": "2022-06-19T05:19:34.521Z"
   },
   {
    "duration": 28,
    "start_time": "2022-06-19T05:19:34.535Z"
   },
   {
    "duration": 100,
    "start_time": "2022-06-19T05:19:34.565Z"
   },
   {
    "duration": 0,
    "start_time": "2022-06-19T05:19:34.667Z"
   },
   {
    "duration": 0,
    "start_time": "2022-06-19T05:19:34.668Z"
   },
   {
    "duration": 0,
    "start_time": "2022-06-19T05:19:34.670Z"
   },
   {
    "duration": 0,
    "start_time": "2022-06-19T05:19:34.671Z"
   },
   {
    "duration": 0,
    "start_time": "2022-06-19T05:19:34.672Z"
   },
   {
    "duration": 0,
    "start_time": "2022-06-19T05:19:34.674Z"
   },
   {
    "duration": 0,
    "start_time": "2022-06-19T05:19:34.675Z"
   },
   {
    "duration": 0,
    "start_time": "2022-06-19T05:19:34.676Z"
   },
   {
    "duration": 0,
    "start_time": "2022-06-19T05:19:34.677Z"
   },
   {
    "duration": 0,
    "start_time": "2022-06-19T05:19:34.678Z"
   },
   {
    "duration": 0,
    "start_time": "2022-06-19T05:19:34.679Z"
   },
   {
    "duration": 0,
    "start_time": "2022-06-19T05:19:34.681Z"
   },
   {
    "duration": 0,
    "start_time": "2022-06-19T05:19:34.682Z"
   },
   {
    "duration": 0,
    "start_time": "2022-06-19T05:19:34.684Z"
   },
   {
    "duration": 0,
    "start_time": "2022-06-19T05:19:34.685Z"
   },
   {
    "duration": 0,
    "start_time": "2022-06-19T05:19:34.687Z"
   },
   {
    "duration": 0,
    "start_time": "2022-06-19T05:19:34.688Z"
   },
   {
    "duration": 29,
    "start_time": "2022-06-19T05:21:07.645Z"
   },
   {
    "duration": 6,
    "start_time": "2022-06-19T05:22:22.501Z"
   },
   {
    "duration": 1043,
    "start_time": "2022-06-19T05:22:48.376Z"
   },
   {
    "duration": 81,
    "start_time": "2022-06-19T05:22:49.421Z"
   },
   {
    "duration": 4,
    "start_time": "2022-06-19T05:22:49.504Z"
   },
   {
    "duration": 10,
    "start_time": "2022-06-19T05:22:49.510Z"
   },
   {
    "duration": 20,
    "start_time": "2022-06-19T05:22:49.522Z"
   },
   {
    "duration": 18,
    "start_time": "2022-06-19T05:22:49.544Z"
   },
   {
    "duration": 6,
    "start_time": "2022-06-19T05:22:49.564Z"
   },
   {
    "duration": 8,
    "start_time": "2022-06-19T05:22:49.572Z"
   },
   {
    "duration": 8,
    "start_time": "2022-06-19T05:22:49.582Z"
   },
   {
    "duration": 121,
    "start_time": "2022-06-19T05:22:49.593Z"
   },
   {
    "duration": 0,
    "start_time": "2022-06-19T05:22:49.716Z"
   },
   {
    "duration": 0,
    "start_time": "2022-06-19T05:22:49.717Z"
   },
   {
    "duration": 0,
    "start_time": "2022-06-19T05:22:49.729Z"
   },
   {
    "duration": 0,
    "start_time": "2022-06-19T05:22:49.730Z"
   },
   {
    "duration": 0,
    "start_time": "2022-06-19T05:22:49.732Z"
   },
   {
    "duration": 0,
    "start_time": "2022-06-19T05:22:49.733Z"
   },
   {
    "duration": 0,
    "start_time": "2022-06-19T05:22:49.734Z"
   },
   {
    "duration": 0,
    "start_time": "2022-06-19T05:22:49.736Z"
   },
   {
    "duration": 0,
    "start_time": "2022-06-19T05:22:49.737Z"
   },
   {
    "duration": 0,
    "start_time": "2022-06-19T05:22:49.738Z"
   },
   {
    "duration": 0,
    "start_time": "2022-06-19T05:22:49.739Z"
   },
   {
    "duration": 0,
    "start_time": "2022-06-19T05:22:49.741Z"
   },
   {
    "duration": 0,
    "start_time": "2022-06-19T05:22:49.742Z"
   },
   {
    "duration": 0,
    "start_time": "2022-06-19T05:22:49.743Z"
   },
   {
    "duration": 0,
    "start_time": "2022-06-19T05:22:49.744Z"
   },
   {
    "duration": 0,
    "start_time": "2022-06-19T05:22:49.746Z"
   },
   {
    "duration": 9,
    "start_time": "2022-06-19T05:23:06.064Z"
   },
   {
    "duration": 1221,
    "start_time": "2022-06-19T05:23:13.613Z"
   },
   {
    "duration": 120,
    "start_time": "2022-06-19T05:23:14.836Z"
   },
   {
    "duration": 5,
    "start_time": "2022-06-19T05:23:14.959Z"
   },
   {
    "duration": 52,
    "start_time": "2022-06-19T05:23:14.967Z"
   },
   {
    "duration": 36,
    "start_time": "2022-06-19T05:23:15.022Z"
   },
   {
    "duration": 23,
    "start_time": "2022-06-19T05:23:15.060Z"
   },
   {
    "duration": 13,
    "start_time": "2022-06-19T05:23:15.085Z"
   },
   {
    "duration": 19,
    "start_time": "2022-06-19T05:23:15.100Z"
   },
   {
    "duration": 13,
    "start_time": "2022-06-19T05:23:15.120Z"
   },
   {
    "duration": 21,
    "start_time": "2022-06-19T05:23:15.136Z"
   },
   {
    "duration": 129,
    "start_time": "2022-06-19T05:23:15.159Z"
   },
   {
    "duration": 0,
    "start_time": "2022-06-19T05:23:15.290Z"
   },
   {
    "duration": 0,
    "start_time": "2022-06-19T05:23:15.295Z"
   },
   {
    "duration": 0,
    "start_time": "2022-06-19T05:23:15.296Z"
   },
   {
    "duration": 0,
    "start_time": "2022-06-19T05:23:15.297Z"
   },
   {
    "duration": 0,
    "start_time": "2022-06-19T05:23:15.298Z"
   },
   {
    "duration": 0,
    "start_time": "2022-06-19T05:23:15.300Z"
   },
   {
    "duration": 0,
    "start_time": "2022-06-19T05:23:15.302Z"
   },
   {
    "duration": 0,
    "start_time": "2022-06-19T05:23:15.304Z"
   },
   {
    "duration": 0,
    "start_time": "2022-06-19T05:23:15.305Z"
   },
   {
    "duration": 0,
    "start_time": "2022-06-19T05:23:15.306Z"
   },
   {
    "duration": 0,
    "start_time": "2022-06-19T05:23:15.308Z"
   },
   {
    "duration": 0,
    "start_time": "2022-06-19T05:23:15.308Z"
   },
   {
    "duration": 0,
    "start_time": "2022-06-19T05:23:15.327Z"
   },
   {
    "duration": 0,
    "start_time": "2022-06-19T05:23:15.329Z"
   },
   {
    "duration": 0,
    "start_time": "2022-06-19T05:23:15.330Z"
   },
   {
    "duration": 7,
    "start_time": "2022-06-19T05:23:41.515Z"
   },
   {
    "duration": 1092,
    "start_time": "2022-06-19T05:23:57.031Z"
   },
   {
    "duration": 79,
    "start_time": "2022-06-19T05:23:58.125Z"
   },
   {
    "duration": 4,
    "start_time": "2022-06-19T05:23:58.205Z"
   },
   {
    "duration": 12,
    "start_time": "2022-06-19T05:23:58.211Z"
   },
   {
    "duration": 16,
    "start_time": "2022-06-19T05:23:58.224Z"
   },
   {
    "duration": 14,
    "start_time": "2022-06-19T05:23:58.241Z"
   },
   {
    "duration": 10,
    "start_time": "2022-06-19T05:23:58.256Z"
   },
   {
    "duration": 18,
    "start_time": "2022-06-19T05:23:58.267Z"
   },
   {
    "duration": 7,
    "start_time": "2022-06-19T05:23:58.287Z"
   },
   {
    "duration": 37,
    "start_time": "2022-06-19T05:23:58.298Z"
   },
   {
    "duration": 15,
    "start_time": "2022-06-19T05:23:58.336Z"
   },
   {
    "duration": 10,
    "start_time": "2022-06-19T05:23:58.353Z"
   },
   {
    "duration": 10,
    "start_time": "2022-06-19T05:23:58.364Z"
   },
   {
    "duration": 27,
    "start_time": "2022-06-19T05:23:58.375Z"
   },
   {
    "duration": 218,
    "start_time": "2022-06-19T05:23:58.403Z"
   },
   {
    "duration": 21,
    "start_time": "2022-06-19T05:23:58.623Z"
   },
   {
    "duration": 260,
    "start_time": "2022-06-19T05:23:58.647Z"
   },
   {
    "duration": 292,
    "start_time": "2022-06-19T05:23:58.909Z"
   },
   {
    "duration": 265,
    "start_time": "2022-06-19T05:23:59.202Z"
   },
   {
    "duration": 467,
    "start_time": "2022-06-19T05:23:59.469Z"
   },
   {
    "duration": 283,
    "start_time": "2022-06-19T05:23:59.938Z"
   },
   {
    "duration": 41,
    "start_time": "2022-06-19T05:24:00.223Z"
   },
   {
    "duration": 79,
    "start_time": "2022-06-19T05:24:00.266Z"
   },
   {
    "duration": 46,
    "start_time": "2022-06-19T05:24:00.347Z"
   },
   {
    "duration": 35,
    "start_time": "2022-06-19T05:24:00.395Z"
   },
   {
    "duration": 27,
    "start_time": "2022-06-19T05:24:00.433Z"
   },
   {
    "duration": 1155,
    "start_time": "2022-06-19T05:32:11.376Z"
   },
   {
    "duration": 84,
    "start_time": "2022-06-19T05:32:12.533Z"
   },
   {
    "duration": 4,
    "start_time": "2022-06-19T05:32:12.619Z"
   },
   {
    "duration": 16,
    "start_time": "2022-06-19T05:32:12.625Z"
   },
   {
    "duration": 17,
    "start_time": "2022-06-19T05:32:12.643Z"
   },
   {
    "duration": 18,
    "start_time": "2022-06-19T05:32:12.662Z"
   },
   {
    "duration": 18,
    "start_time": "2022-06-19T05:32:12.682Z"
   },
   {
    "duration": 27,
    "start_time": "2022-06-19T05:32:12.702Z"
   },
   {
    "duration": 6,
    "start_time": "2022-06-19T05:32:12.731Z"
   },
   {
    "duration": 14,
    "start_time": "2022-06-19T05:32:12.740Z"
   },
   {
    "duration": 17,
    "start_time": "2022-06-19T05:32:12.756Z"
   },
   {
    "duration": 7,
    "start_time": "2022-06-19T05:32:12.774Z"
   },
   {
    "duration": 47,
    "start_time": "2022-06-19T05:32:12.783Z"
   },
   {
    "duration": 12,
    "start_time": "2022-06-19T05:32:12.832Z"
   },
   {
    "duration": 17,
    "start_time": "2022-06-19T05:32:12.845Z"
   },
   {
    "duration": 32,
    "start_time": "2022-06-19T05:32:12.864Z"
   },
   {
    "duration": 233,
    "start_time": "2022-06-19T05:32:12.898Z"
   },
   {
    "duration": 16,
    "start_time": "2022-06-19T05:32:13.133Z"
   },
   {
    "duration": 292,
    "start_time": "2022-06-19T05:32:13.151Z"
   },
   {
    "duration": 302,
    "start_time": "2022-06-19T05:32:13.445Z"
   },
   {
    "duration": 281,
    "start_time": "2022-06-19T05:32:13.749Z"
   },
   {
    "duration": 485,
    "start_time": "2022-06-19T05:32:14.032Z"
   },
   {
    "duration": 308,
    "start_time": "2022-06-19T05:32:14.519Z"
   },
   {
    "duration": 45,
    "start_time": "2022-06-19T05:32:14.830Z"
   },
   {
    "duration": 73,
    "start_time": "2022-06-19T05:32:14.878Z"
   },
   {
    "duration": 31,
    "start_time": "2022-06-19T05:32:14.953Z"
   },
   {
    "duration": 12,
    "start_time": "2022-06-19T05:32:14.985Z"
   },
   {
    "duration": 18,
    "start_time": "2022-06-19T05:32:15.031Z"
   },
   {
    "duration": 13,
    "start_time": "2022-06-19T05:33:23.563Z"
   },
   {
    "duration": 13,
    "start_time": "2022-06-19T05:35:01.498Z"
   },
   {
    "duration": 28,
    "start_time": "2022-06-19T05:37:31.071Z"
   },
   {
    "duration": 16,
    "start_time": "2022-06-19T05:41:23.286Z"
   },
   {
    "duration": 39,
    "start_time": "2022-06-19T05:54:02.777Z"
   },
   {
    "duration": 207,
    "start_time": "2022-06-19T05:56:38.154Z"
   },
   {
    "duration": 209,
    "start_time": "2022-06-19T05:56:46.981Z"
   },
   {
    "duration": 46,
    "start_time": "2022-06-19T05:59:02.107Z"
   },
   {
    "duration": 30,
    "start_time": "2022-06-19T05:59:07.549Z"
   },
   {
    "duration": 31,
    "start_time": "2022-06-19T05:59:11.151Z"
   },
   {
    "duration": 35,
    "start_time": "2022-06-19T05:59:16.267Z"
   },
   {
    "duration": 37,
    "start_time": "2022-06-19T06:00:50.883Z"
   },
   {
    "duration": 40,
    "start_time": "2022-06-19T06:02:53.698Z"
   },
   {
    "duration": 16,
    "start_time": "2022-06-19T06:06:43.579Z"
   },
   {
    "duration": 14,
    "start_time": "2022-06-19T06:08:14.993Z"
   },
   {
    "duration": 1175,
    "start_time": "2022-06-19T06:28:14.891Z"
   },
   {
    "duration": 96,
    "start_time": "2022-06-19T06:28:16.068Z"
   },
   {
    "duration": 5,
    "start_time": "2022-06-19T06:28:16.166Z"
   },
   {
    "duration": 39,
    "start_time": "2022-06-19T06:28:16.173Z"
   },
   {
    "duration": 62,
    "start_time": "2022-06-19T06:28:16.214Z"
   },
   {
    "duration": 32,
    "start_time": "2022-06-19T06:28:16.278Z"
   },
   {
    "duration": 53,
    "start_time": "2022-06-19T06:28:16.312Z"
   },
   {
    "duration": 44,
    "start_time": "2022-06-19T06:28:16.366Z"
   },
   {
    "duration": 182,
    "start_time": "2022-06-19T06:28:16.411Z"
   },
   {
    "duration": 0,
    "start_time": "2022-06-19T06:28:16.595Z"
   },
   {
    "duration": 0,
    "start_time": "2022-06-19T06:28:16.596Z"
   },
   {
    "duration": 0,
    "start_time": "2022-06-19T06:28:16.599Z"
   },
   {
    "duration": 0,
    "start_time": "2022-06-19T06:28:16.601Z"
   },
   {
    "duration": 0,
    "start_time": "2022-06-19T06:28:16.603Z"
   },
   {
    "duration": 0,
    "start_time": "2022-06-19T06:28:16.604Z"
   },
   {
    "duration": 0,
    "start_time": "2022-06-19T06:28:16.606Z"
   },
   {
    "duration": 0,
    "start_time": "2022-06-19T06:28:16.607Z"
   },
   {
    "duration": 0,
    "start_time": "2022-06-19T06:28:16.609Z"
   },
   {
    "duration": 0,
    "start_time": "2022-06-19T06:28:16.628Z"
   },
   {
    "duration": 0,
    "start_time": "2022-06-19T06:28:16.630Z"
   },
   {
    "duration": 0,
    "start_time": "2022-06-19T06:28:16.631Z"
   },
   {
    "duration": 0,
    "start_time": "2022-06-19T06:28:16.633Z"
   },
   {
    "duration": 0,
    "start_time": "2022-06-19T06:28:16.635Z"
   },
   {
    "duration": 0,
    "start_time": "2022-06-19T06:28:16.636Z"
   },
   {
    "duration": 0,
    "start_time": "2022-06-19T06:28:16.637Z"
   },
   {
    "duration": 0,
    "start_time": "2022-06-19T06:28:16.639Z"
   },
   {
    "duration": 1160,
    "start_time": "2022-06-19T10:23:11.915Z"
   },
   {
    "duration": 121,
    "start_time": "2022-06-19T10:23:13.077Z"
   },
   {
    "duration": 3,
    "start_time": "2022-06-19T10:23:13.200Z"
   },
   {
    "duration": 11,
    "start_time": "2022-06-19T10:23:13.205Z"
   },
   {
    "duration": 15,
    "start_time": "2022-06-19T10:23:13.219Z"
   },
   {
    "duration": 15,
    "start_time": "2022-06-19T10:23:13.236Z"
   },
   {
    "duration": 7,
    "start_time": "2022-06-19T10:23:15.648Z"
   },
   {
    "duration": 12,
    "start_time": "2022-06-19T10:24:01.845Z"
   },
   {
    "duration": 12,
    "start_time": "2022-06-19T10:24:09.684Z"
   },
   {
    "duration": 8,
    "start_time": "2022-06-19T10:24:15.346Z"
   },
   {
    "duration": 3,
    "start_time": "2022-06-19T10:26:04.422Z"
   },
   {
    "duration": 90,
    "start_time": "2022-06-19T10:26:04.427Z"
   },
   {
    "duration": 5,
    "start_time": "2022-06-19T10:26:04.519Z"
   },
   {
    "duration": 17,
    "start_time": "2022-06-19T10:26:04.526Z"
   },
   {
    "duration": 23,
    "start_time": "2022-06-19T10:26:04.544Z"
   },
   {
    "duration": 21,
    "start_time": "2022-06-19T10:26:04.569Z"
   },
   {
    "duration": 19,
    "start_time": "2022-06-19T10:26:04.592Z"
   },
   {
    "duration": 14,
    "start_time": "2022-06-19T10:26:04.613Z"
   },
   {
    "duration": 10,
    "start_time": "2022-06-19T10:26:04.629Z"
   },
   {
    "duration": 3,
    "start_time": "2022-06-19T10:27:18.683Z"
   },
   {
    "duration": 87,
    "start_time": "2022-06-19T10:27:18.687Z"
   },
   {
    "duration": 4,
    "start_time": "2022-06-19T10:27:18.776Z"
   },
   {
    "duration": 12,
    "start_time": "2022-06-19T10:27:18.782Z"
   },
   {
    "duration": 19,
    "start_time": "2022-06-19T10:27:18.797Z"
   },
   {
    "duration": 19,
    "start_time": "2022-06-19T10:27:18.818Z"
   },
   {
    "duration": 35,
    "start_time": "2022-06-19T10:27:18.839Z"
   },
   {
    "duration": 17,
    "start_time": "2022-06-19T10:27:18.876Z"
   },
   {
    "duration": 19,
    "start_time": "2022-06-19T10:27:18.895Z"
   },
   {
    "duration": 125,
    "start_time": "2022-06-19T10:27:18.916Z"
   },
   {
    "duration": 0,
    "start_time": "2022-06-19T10:27:19.042Z"
   },
   {
    "duration": 0,
    "start_time": "2022-06-19T10:27:19.043Z"
   },
   {
    "duration": 1,
    "start_time": "2022-06-19T10:27:19.044Z"
   },
   {
    "duration": 0,
    "start_time": "2022-06-19T10:27:19.046Z"
   },
   {
    "duration": 20,
    "start_time": "2022-06-19T10:27:30.372Z"
   },
   {
    "duration": 203,
    "start_time": "2022-06-19T10:29:00.949Z"
   },
   {
    "duration": 176,
    "start_time": "2022-06-19T10:29:22.200Z"
   },
   {
    "duration": 3,
    "start_time": "2022-06-19T10:31:32.071Z"
   },
   {
    "duration": 81,
    "start_time": "2022-06-19T10:31:32.076Z"
   },
   {
    "duration": 3,
    "start_time": "2022-06-19T10:31:32.159Z"
   },
   {
    "duration": 12,
    "start_time": "2022-06-19T10:31:32.164Z"
   },
   {
    "duration": 15,
    "start_time": "2022-06-19T10:31:32.177Z"
   },
   {
    "duration": 13,
    "start_time": "2022-06-19T10:31:32.194Z"
   },
   {
    "duration": 8,
    "start_time": "2022-06-19T10:31:32.209Z"
   },
   {
    "duration": 6,
    "start_time": "2022-06-19T10:31:32.219Z"
   },
   {
    "duration": 9,
    "start_time": "2022-06-19T10:31:32.227Z"
   },
   {
    "duration": 36,
    "start_time": "2022-06-19T10:31:32.238Z"
   },
   {
    "duration": 0,
    "start_time": "2022-06-19T10:31:32.276Z"
   },
   {
    "duration": 0,
    "start_time": "2022-06-19T10:31:32.277Z"
   },
   {
    "duration": 0,
    "start_time": "2022-06-19T10:31:32.279Z"
   },
   {
    "duration": 0,
    "start_time": "2022-06-19T10:31:32.280Z"
   },
   {
    "duration": 0,
    "start_time": "2022-06-19T10:31:32.281Z"
   },
   {
    "duration": 0,
    "start_time": "2022-06-19T10:31:32.282Z"
   },
   {
    "duration": 0,
    "start_time": "2022-06-19T10:31:32.284Z"
   },
   {
    "duration": 0,
    "start_time": "2022-06-19T10:31:32.284Z"
   },
   {
    "duration": 0,
    "start_time": "2022-06-19T10:31:32.285Z"
   },
   {
    "duration": 10,
    "start_time": "2022-06-19T10:31:44.796Z"
   },
   {
    "duration": 20,
    "start_time": "2022-06-19T10:33:33.945Z"
   },
   {
    "duration": 3,
    "start_time": "2022-06-19T10:34:30.443Z"
   },
   {
    "duration": 86,
    "start_time": "2022-06-19T10:34:30.452Z"
   },
   {
    "duration": 4,
    "start_time": "2022-06-19T10:34:30.540Z"
   },
   {
    "duration": 20,
    "start_time": "2022-06-19T10:34:30.546Z"
   },
   {
    "duration": 51,
    "start_time": "2022-06-19T10:34:30.568Z"
   },
   {
    "duration": 29,
    "start_time": "2022-06-19T10:34:30.621Z"
   },
   {
    "duration": 33,
    "start_time": "2022-06-19T10:34:30.652Z"
   },
   {
    "duration": 18,
    "start_time": "2022-06-19T10:34:30.686Z"
   },
   {
    "duration": 28,
    "start_time": "2022-06-19T10:34:30.706Z"
   },
   {
    "duration": 21,
    "start_time": "2022-06-19T10:34:30.736Z"
   },
   {
    "duration": 0,
    "start_time": "2022-06-19T10:34:30.758Z"
   },
   {
    "duration": 0,
    "start_time": "2022-06-19T10:34:30.759Z"
   },
   {
    "duration": 0,
    "start_time": "2022-06-19T10:34:30.760Z"
   },
   {
    "duration": 0,
    "start_time": "2022-06-19T10:34:30.761Z"
   },
   {
    "duration": 0,
    "start_time": "2022-06-19T10:34:30.762Z"
   },
   {
    "duration": 0,
    "start_time": "2022-06-19T10:34:30.763Z"
   },
   {
    "duration": 0,
    "start_time": "2022-06-19T10:34:30.764Z"
   },
   {
    "duration": 0,
    "start_time": "2022-06-19T10:34:30.766Z"
   },
   {
    "duration": 15,
    "start_time": "2022-06-19T10:34:34.910Z"
   },
   {
    "duration": 10,
    "start_time": "2022-06-19T10:35:38.117Z"
   },
   {
    "duration": 3,
    "start_time": "2022-06-19T10:36:46.459Z"
   },
   {
    "duration": 72,
    "start_time": "2022-06-19T10:36:46.473Z"
   },
   {
    "duration": 4,
    "start_time": "2022-06-19T10:36:46.547Z"
   },
   {
    "duration": 14,
    "start_time": "2022-06-19T10:36:46.552Z"
   },
   {
    "duration": 17,
    "start_time": "2022-06-19T10:36:46.567Z"
   },
   {
    "duration": 17,
    "start_time": "2022-06-19T10:36:46.586Z"
   },
   {
    "duration": 13,
    "start_time": "2022-06-19T10:36:46.604Z"
   },
   {
    "duration": 9,
    "start_time": "2022-06-19T10:36:46.618Z"
   },
   {
    "duration": 15,
    "start_time": "2022-06-19T10:36:46.629Z"
   },
   {
    "duration": 33,
    "start_time": "2022-06-19T10:36:46.646Z"
   },
   {
    "duration": 10,
    "start_time": "2022-06-19T10:37:22.140Z"
   },
   {
    "duration": 3,
    "start_time": "2022-06-19T10:38:34.855Z"
   },
   {
    "duration": 83,
    "start_time": "2022-06-19T10:38:34.861Z"
   },
   {
    "duration": 3,
    "start_time": "2022-06-19T10:38:34.946Z"
   },
   {
    "duration": 13,
    "start_time": "2022-06-19T10:38:34.951Z"
   },
   {
    "duration": 21,
    "start_time": "2022-06-19T10:38:34.966Z"
   },
   {
    "duration": 16,
    "start_time": "2022-06-19T10:38:34.989Z"
   },
   {
    "duration": 21,
    "start_time": "2022-06-19T10:38:35.007Z"
   },
   {
    "duration": 15,
    "start_time": "2022-06-19T10:38:35.029Z"
   },
   {
    "duration": 13,
    "start_time": "2022-06-19T10:38:35.045Z"
   },
   {
    "duration": 15,
    "start_time": "2022-06-19T10:38:35.059Z"
   },
   {
    "duration": 23,
    "start_time": "2022-06-19T10:38:35.076Z"
   },
   {
    "duration": 3,
    "start_time": "2022-06-19T10:39:30.144Z"
   },
   {
    "duration": 109,
    "start_time": "2022-06-19T10:39:30.152Z"
   },
   {
    "duration": 3,
    "start_time": "2022-06-19T10:39:30.264Z"
   },
   {
    "duration": 33,
    "start_time": "2022-06-19T10:39:30.268Z"
   },
   {
    "duration": 35,
    "start_time": "2022-06-19T10:39:30.302Z"
   },
   {
    "duration": 24,
    "start_time": "2022-06-19T10:39:30.339Z"
   },
   {
    "duration": 40,
    "start_time": "2022-06-19T10:39:30.365Z"
   },
   {
    "duration": 41,
    "start_time": "2022-06-19T10:39:30.406Z"
   },
   {
    "duration": 46,
    "start_time": "2022-06-19T10:39:30.448Z"
   },
   {
    "duration": 50,
    "start_time": "2022-06-19T10:39:30.495Z"
   },
   {
    "duration": 26,
    "start_time": "2022-06-19T10:39:30.547Z"
   },
   {
    "duration": 9,
    "start_time": "2022-06-19T10:39:45.981Z"
   },
   {
    "duration": 8,
    "start_time": "2022-06-19T10:40:42.706Z"
   },
   {
    "duration": 3,
    "start_time": "2022-06-19T10:40:50.249Z"
   },
   {
    "duration": 92,
    "start_time": "2022-06-19T10:40:50.253Z"
   },
   {
    "duration": 4,
    "start_time": "2022-06-19T10:40:50.347Z"
   },
   {
    "duration": 12,
    "start_time": "2022-06-19T10:40:50.352Z"
   },
   {
    "duration": 26,
    "start_time": "2022-06-19T10:40:50.366Z"
   },
   {
    "duration": 17,
    "start_time": "2022-06-19T10:40:50.393Z"
   },
   {
    "duration": 18,
    "start_time": "2022-06-19T10:40:50.412Z"
   },
   {
    "duration": 17,
    "start_time": "2022-06-19T10:40:50.432Z"
   },
   {
    "duration": 9,
    "start_time": "2022-06-19T10:40:50.450Z"
   },
   {
    "duration": 13,
    "start_time": "2022-06-19T10:40:50.461Z"
   },
   {
    "duration": 18,
    "start_time": "2022-06-19T10:40:50.476Z"
   },
   {
    "duration": 7,
    "start_time": "2022-06-19T10:42:36.053Z"
   },
   {
    "duration": 29,
    "start_time": "2022-06-19T10:42:47.970Z"
   },
   {
    "duration": 1439,
    "start_time": "2022-06-19T12:23:22.483Z"
   },
   {
    "duration": 156,
    "start_time": "2022-06-19T12:23:23.924Z"
   },
   {
    "duration": 6,
    "start_time": "2022-06-19T12:23:24.082Z"
   },
   {
    "duration": 23,
    "start_time": "2022-06-19T12:23:24.090Z"
   },
   {
    "duration": 31,
    "start_time": "2022-06-19T12:23:24.115Z"
   },
   {
    "duration": 31,
    "start_time": "2022-06-19T12:23:24.150Z"
   },
   {
    "duration": 18,
    "start_time": "2022-06-19T12:23:24.183Z"
   },
   {
    "duration": 13,
    "start_time": "2022-06-19T12:23:43.253Z"
   },
   {
    "duration": 15,
    "start_time": "2022-06-19T12:23:54.062Z"
   },
   {
    "duration": 22,
    "start_time": "2022-06-19T12:24:38.055Z"
   },
   {
    "duration": 20,
    "start_time": "2022-06-19T12:25:04.277Z"
   },
   {
    "duration": 7,
    "start_time": "2022-06-19T12:25:21.666Z"
   },
   {
    "duration": 11,
    "start_time": "2022-06-19T12:25:36.736Z"
   },
   {
    "duration": 2,
    "start_time": "2022-06-19T12:27:22.006Z"
   },
   {
    "duration": 106,
    "start_time": "2022-06-19T12:27:22.015Z"
   },
   {
    "duration": 14,
    "start_time": "2022-06-19T12:27:22.123Z"
   },
   {
    "duration": 24,
    "start_time": "2022-06-19T12:27:22.139Z"
   },
   {
    "duration": 18,
    "start_time": "2022-06-19T12:27:22.165Z"
   },
   {
    "duration": 15,
    "start_time": "2022-06-19T12:27:22.186Z"
   },
   {
    "duration": 13,
    "start_time": "2022-06-19T12:27:22.203Z"
   },
   {
    "duration": 33,
    "start_time": "2022-06-19T12:27:22.218Z"
   },
   {
    "duration": 12,
    "start_time": "2022-06-19T12:27:22.253Z"
   },
   {
    "duration": 24,
    "start_time": "2022-06-19T12:27:22.268Z"
   },
   {
    "duration": 17,
    "start_time": "2022-06-19T12:27:22.294Z"
   },
   {
    "duration": 33,
    "start_time": "2022-06-19T12:27:22.313Z"
   },
   {
    "duration": 46,
    "start_time": "2022-06-19T12:27:22.349Z"
   },
   {
    "duration": 41,
    "start_time": "2022-06-19T12:27:22.398Z"
   },
   {
    "duration": 239,
    "start_time": "2022-06-19T12:27:22.447Z"
   },
   {
    "duration": 4,
    "start_time": "2022-06-19T12:27:54.165Z"
   },
   {
    "duration": 90,
    "start_time": "2022-06-19T12:27:54.175Z"
   },
   {
    "duration": 5,
    "start_time": "2022-06-19T12:27:54.267Z"
   },
   {
    "duration": 23,
    "start_time": "2022-06-19T12:27:54.273Z"
   },
   {
    "duration": 50,
    "start_time": "2022-06-19T12:27:54.297Z"
   },
   {
    "duration": 27,
    "start_time": "2022-06-19T12:27:54.351Z"
   },
   {
    "duration": 28,
    "start_time": "2022-06-19T12:27:54.381Z"
   },
   {
    "duration": 63,
    "start_time": "2022-06-19T12:27:54.411Z"
   },
   {
    "duration": 27,
    "start_time": "2022-06-19T12:27:54.476Z"
   },
   {
    "duration": 35,
    "start_time": "2022-06-19T12:27:54.505Z"
   },
   {
    "duration": 32,
    "start_time": "2022-06-19T12:27:54.541Z"
   },
   {
    "duration": 29,
    "start_time": "2022-06-19T12:27:54.575Z"
   },
   {
    "duration": 74,
    "start_time": "2022-06-19T12:27:54.606Z"
   },
   {
    "duration": 54,
    "start_time": "2022-06-19T12:27:54.682Z"
   },
   {
    "duration": 233,
    "start_time": "2022-06-19T12:27:54.740Z"
   },
   {
    "duration": 16,
    "start_time": "2022-06-19T12:27:54.975Z"
   },
   {
    "duration": 302,
    "start_time": "2022-06-19T12:27:54.993Z"
   },
   {
    "duration": 347,
    "start_time": "2022-06-19T12:27:55.297Z"
   },
   {
    "duration": 323,
    "start_time": "2022-06-19T12:27:55.646Z"
   },
   {
    "duration": 373,
    "start_time": "2022-06-19T12:29:20.845Z"
   },
   {
    "duration": 486,
    "start_time": "2022-06-19T12:35:05.189Z"
   },
   {
    "duration": 393,
    "start_time": "2022-06-19T12:35:17.547Z"
   },
   {
    "duration": 449,
    "start_time": "2022-06-19T12:35:57.111Z"
   },
   {
    "duration": 516,
    "start_time": "2022-06-19T12:38:14.289Z"
   },
   {
    "duration": 553,
    "start_time": "2022-06-19T13:42:32.793Z"
   },
   {
    "duration": 796,
    "start_time": "2022-06-19T13:42:54.167Z"
   },
   {
    "duration": 674,
    "start_time": "2022-06-19T13:43:38.168Z"
   },
   {
    "duration": 587,
    "start_time": "2022-06-19T13:44:58.406Z"
   },
   {
    "duration": 649,
    "start_time": "2022-06-19T13:47:00.561Z"
   },
   {
    "duration": 16,
    "start_time": "2022-06-19T14:39:02.242Z"
   },
   {
    "duration": 572,
    "start_time": "2022-06-19T14:40:26.033Z"
   },
   {
    "duration": 735,
    "start_time": "2022-06-19T14:43:24.628Z"
   },
   {
    "duration": 703,
    "start_time": "2022-06-19T14:47:53.820Z"
   },
   {
    "duration": 815,
    "start_time": "2022-06-19T14:48:21.777Z"
   },
   {
    "duration": 1017,
    "start_time": "2022-06-19T14:48:41.501Z"
   },
   {
    "duration": 829,
    "start_time": "2022-06-19T14:51:59.667Z"
   },
   {
    "duration": 250,
    "start_time": "2022-06-19T14:53:30.743Z"
   },
   {
    "duration": 237,
    "start_time": "2022-06-19T14:55:16.848Z"
   },
   {
    "duration": 319,
    "start_time": "2022-06-19T14:56:04.657Z"
   },
   {
    "duration": 329,
    "start_time": "2022-06-19T14:56:32.427Z"
   },
   {
    "duration": 389,
    "start_time": "2022-06-19T14:58:35.048Z"
   },
   {
    "duration": 1193,
    "start_time": "2022-06-19T15:01:57.505Z"
   },
   {
    "duration": 441,
    "start_time": "2022-06-19T15:02:15.358Z"
   },
   {
    "duration": 519,
    "start_time": "2022-06-19T15:02:30.901Z"
   },
   {
    "duration": 569,
    "start_time": "2022-06-19T15:03:25.569Z"
   },
   {
    "duration": 499,
    "start_time": "2022-06-19T15:03:43.909Z"
   },
   {
    "duration": 513,
    "start_time": "2022-06-19T15:04:09.653Z"
   },
   {
    "duration": 3,
    "start_time": "2022-06-19T15:09:31.705Z"
   },
   {
    "duration": 179,
    "start_time": "2022-06-19T15:09:31.711Z"
   },
   {
    "duration": 5,
    "start_time": "2022-06-19T15:09:31.893Z"
   },
   {
    "duration": 20,
    "start_time": "2022-06-19T15:09:31.900Z"
   },
   {
    "duration": 51,
    "start_time": "2022-06-19T15:09:31.922Z"
   },
   {
    "duration": 29,
    "start_time": "2022-06-19T15:09:31.974Z"
   },
   {
    "duration": 13,
    "start_time": "2022-06-19T15:09:32.007Z"
   },
   {
    "duration": 53,
    "start_time": "2022-06-19T15:09:32.022Z"
   },
   {
    "duration": 12,
    "start_time": "2022-06-19T15:09:32.078Z"
   },
   {
    "duration": 13,
    "start_time": "2022-06-19T15:09:32.092Z"
   },
   {
    "duration": 12,
    "start_time": "2022-06-19T15:09:32.109Z"
   },
   {
    "duration": 44,
    "start_time": "2022-06-19T15:09:32.123Z"
   },
   {
    "duration": 23,
    "start_time": "2022-06-19T15:09:32.170Z"
   },
   {
    "duration": 22,
    "start_time": "2022-06-19T15:09:32.195Z"
   },
   {
    "duration": 241,
    "start_time": "2022-06-19T15:09:32.218Z"
   },
   {
    "duration": 25,
    "start_time": "2022-06-19T15:09:32.461Z"
   },
   {
    "duration": 328,
    "start_time": "2022-06-19T15:09:32.488Z"
   },
   {
    "duration": 539,
    "start_time": "2022-06-19T15:09:32.817Z"
   },
   {
    "duration": 338,
    "start_time": "2022-06-19T15:09:33.357Z"
   },
   {
    "duration": 517,
    "start_time": "2022-06-19T15:09:33.698Z"
   },
   {
    "duration": 654,
    "start_time": "2022-06-19T15:09:34.217Z"
   },
   {
    "duration": 564,
    "start_time": "2022-06-19T15:09:34.873Z"
   },
   {
    "duration": 50,
    "start_time": "2022-06-19T15:09:35.442Z"
   },
   {
    "duration": 70,
    "start_time": "2022-06-19T15:09:35.494Z"
   },
   {
    "duration": 73,
    "start_time": "2022-06-19T15:09:35.566Z"
   },
   {
    "duration": 16,
    "start_time": "2022-06-19T15:09:35.641Z"
   },
   {
    "duration": 38,
    "start_time": "2022-06-19T15:09:35.659Z"
   },
   {
    "duration": 1271,
    "start_time": "2022-06-19T15:23:21.790Z"
   },
   {
    "duration": 94,
    "start_time": "2022-06-19T15:23:23.064Z"
   },
   {
    "duration": 5,
    "start_time": "2022-06-19T15:23:23.161Z"
   },
   {
    "duration": 22,
    "start_time": "2022-06-19T15:23:23.168Z"
   },
   {
    "duration": 36,
    "start_time": "2022-06-19T15:23:23.194Z"
   },
   {
    "duration": 45,
    "start_time": "2022-06-19T15:23:23.232Z"
   },
   {
    "duration": 11,
    "start_time": "2022-06-19T15:23:23.280Z"
   },
   {
    "duration": 14,
    "start_time": "2022-06-19T15:23:23.294Z"
   },
   {
    "duration": 15,
    "start_time": "2022-06-19T15:23:23.311Z"
   },
   {
    "duration": 36,
    "start_time": "2022-06-19T15:23:23.328Z"
   },
   {
    "duration": 12,
    "start_time": "2022-06-19T15:23:23.367Z"
   },
   {
    "duration": 11,
    "start_time": "2022-06-19T15:23:23.382Z"
   },
   {
    "duration": 52,
    "start_time": "2022-06-19T15:23:23.395Z"
   },
   {
    "duration": 26,
    "start_time": "2022-06-19T15:23:23.451Z"
   },
   {
    "duration": 234,
    "start_time": "2022-06-19T15:23:23.479Z"
   },
   {
    "duration": 20,
    "start_time": "2022-06-19T15:23:23.725Z"
   },
   {
    "duration": 329,
    "start_time": "2022-06-19T15:23:23.748Z"
   },
   {
    "duration": 362,
    "start_time": "2022-06-19T15:23:24.079Z"
   },
   {
    "duration": 420,
    "start_time": "2022-06-19T15:23:24.443Z"
   },
   {
    "duration": 402,
    "start_time": "2022-06-19T15:23:24.865Z"
   },
   {
    "duration": 713,
    "start_time": "2022-06-19T15:23:25.269Z"
   },
   {
    "duration": 547,
    "start_time": "2022-06-19T15:23:25.984Z"
   },
   {
    "duration": 51,
    "start_time": "2022-06-19T15:23:26.533Z"
   },
   {
    "duration": 71,
    "start_time": "2022-06-19T15:23:26.587Z"
   },
   {
    "duration": 37,
    "start_time": "2022-06-19T15:23:26.661Z"
   },
   {
    "duration": 14,
    "start_time": "2022-06-19T15:23:26.729Z"
   },
   {
    "duration": 41,
    "start_time": "2022-06-19T15:23:26.745Z"
   },
   {
    "duration": 32,
    "start_time": "2022-06-19T17:49:39.020Z"
   },
   {
    "duration": 57,
    "start_time": "2022-06-19T17:53:06.379Z"
   },
   {
    "duration": 660,
    "start_time": "2022-06-19T18:29:08.218Z"
   },
   {
    "duration": 522,
    "start_time": "2022-06-19T18:29:42.514Z"
   },
   {
    "duration": 596,
    "start_time": "2022-06-19T18:29:55.034Z"
   },
   {
    "duration": 511,
    "start_time": "2022-06-19T18:30:15.289Z"
   }
  ],
  "kernelspec": {
   "display_name": "Python 3 (ipykernel)",
   "language": "python",
   "name": "python3"
  },
  "language_info": {
   "codemirror_mode": {
    "name": "ipython",
    "version": 3
   },
   "file_extension": ".py",
   "mimetype": "text/x-python",
   "name": "python",
   "nbconvert_exporter": "python",
   "pygments_lexer": "ipython3",
   "version": "3.9.13"
  },
  "toc": {
   "base_numbering": 1,
   "nav_menu": {},
   "number_sections": true,
   "sideBar": true,
   "skip_h1_title": true,
   "title_cell": "Table of Contents",
   "title_sidebar": "Contents",
   "toc_cell": true,
   "toc_position": {},
   "toc_section_display": true,
   "toc_window_display": true
  }
 },
 "nbformat": 4,
 "nbformat_minor": 5
}
