{
 "cells": [
  {
   "cell_type": "markdown",
   "id": "0237d085",
   "metadata": {
    "toc": true
   },
   "source": [
    "<h1>Table of Contents<span class=\"tocSkip\"></span></h1>\n",
    "<div class=\"toc\"><ul class=\"toc-item\"><li><span><a href=\"#Задача\" data-toc-modified-id=\"Задача-1\"><span class=\"toc-item-num\">1&nbsp;&nbsp;</span>Задача</a></span></li><li><span><a href=\"#Задача\" data-toc-modified-id=\"Задача-2\"><span class=\"toc-item-num\">2&nbsp;&nbsp;</span>Задача</a></span></li><li><span><a href=\"#Задача\" data-toc-modified-id=\"Задача-3\"><span class=\"toc-item-num\">3&nbsp;&nbsp;</span>Задача</a></span></li><li><span><a href=\"#Задача\" data-toc-modified-id=\"Задача-4\"><span class=\"toc-item-num\">4&nbsp;&nbsp;</span>Задача</a></span></li><li><span><a href=\"#Задача\" data-toc-modified-id=\"Задача-5\"><span class=\"toc-item-num\">5&nbsp;&nbsp;</span>Задача</a></span></li><li><span><a href=\"#Задача\" data-toc-modified-id=\"Задача-6\"><span class=\"toc-item-num\">6&nbsp;&nbsp;</span>Задача</a></span></li><li><span><a href=\"#Задача\" data-toc-modified-id=\"Задача-7\"><span class=\"toc-item-num\">7&nbsp;&nbsp;</span>Задача</a></span></li><li><span><a href=\"#Задача\" data-toc-modified-id=\"Задача-8\"><span class=\"toc-item-num\">8&nbsp;&nbsp;</span>Задача</a></span></li><li><span><a href=\"#Задача\" data-toc-modified-id=\"Задача-9\"><span class=\"toc-item-num\">9&nbsp;&nbsp;</span>Задача</a></span></li><li><span><a href=\"#Задача\" data-toc-modified-id=\"Задача-10\"><span class=\"toc-item-num\">10&nbsp;&nbsp;</span>Задача</a></span></li><li><span><a href=\"#Задача\" data-toc-modified-id=\"Задача-11\"><span class=\"toc-item-num\">11&nbsp;&nbsp;</span>Задача</a></span></li><li><span><a href=\"#Задача\" data-toc-modified-id=\"Задача-12\"><span class=\"toc-item-num\">12&nbsp;&nbsp;</span>Задача</a></span></li><li><span><a href=\"#Задача\" data-toc-modified-id=\"Задача-13\"><span class=\"toc-item-num\">13&nbsp;&nbsp;</span>Задача</a></span></li><li><span><a href=\"#Задача\" data-toc-modified-id=\"Задача-14\"><span class=\"toc-item-num\">14&nbsp;&nbsp;</span>Задача</a></span></li><li><span><a href=\"#Задача\" data-toc-modified-id=\"Задача-15\"><span class=\"toc-item-num\">15&nbsp;&nbsp;</span>Задача</a></span></li><li><span><a href=\"#Задача\" data-toc-modified-id=\"Задача-16\"><span class=\"toc-item-num\">16&nbsp;&nbsp;</span>Задача</a></span></li><li><span><a href=\"#Задача\" data-toc-modified-id=\"Задача-17\"><span class=\"toc-item-num\">17&nbsp;&nbsp;</span>Задача</a></span></li><li><span><a href=\"#Задача\" data-toc-modified-id=\"Задача-18\"><span class=\"toc-item-num\">18&nbsp;&nbsp;</span>Задача</a></span></li><li><span><a href=\"#Задача\" data-toc-modified-id=\"Задача-19\"><span class=\"toc-item-num\">19&nbsp;&nbsp;</span>Задача</a></span></li><li><span><a href=\"#Задача\" data-toc-modified-id=\"Задача-20\"><span class=\"toc-item-num\">20&nbsp;&nbsp;</span>Задача</a></span></li><li><span><a href=\"#Задача\" data-toc-modified-id=\"Задача-21\"><span class=\"toc-item-num\">21&nbsp;&nbsp;</span>Задача</a></span></li><li><span><a href=\"#Задача\" data-toc-modified-id=\"Задача-22\"><span class=\"toc-item-num\">22&nbsp;&nbsp;</span>Задача</a></span></li><li><span><a href=\"#Задача\" data-toc-modified-id=\"Задача-23\"><span class=\"toc-item-num\">23&nbsp;&nbsp;</span>Задача</a></span></li></ul></div>"
   ]
  },
  {
   "cell_type": "markdown",
   "id": "d40eae22",
   "metadata": {},
   "source": [
    "# SQL - практика"
   ]
  },
  {
   "cell_type": "markdown",
   "id": "9242bae9",
   "metadata": {},
   "source": [
    "В самостоятельном проекте нужно проанализировать данные о фондах и инвестициях и написать запросы к базе."
   ]
  },
  {
   "cell_type": "markdown",
   "id": "c1034bbe",
   "metadata": {},
   "source": [
    "## Задача"
   ]
  },
  {
   "cell_type": "markdown",
   "id": "91462c43",
   "metadata": {},
   "source": [
    "Посчитайте, сколько компаний закрылось."
   ]
  },
  {
   "cell_type": "code",
   "execution_count": null,
   "id": "39260e94",
   "metadata": {},
   "outputs": [],
   "source": [
    "SELECT COUNT(id)\n",
    "FROM company\n",
    "WHERE status = 'closed'"
   ]
  },
  {
   "cell_type": "markdown",
   "id": "2200045c",
   "metadata": {},
   "source": [
    "## Задача"
   ]
  },
  {
   "cell_type": "markdown",
   "id": "b5b38480",
   "metadata": {},
   "source": [
    "Отобразите количество привлечённых средств для новостных компаний США. Используйте данные из таблицы company. Отсортируйте таблицу по убыванию значений в поле funding_total ."
   ]
  },
  {
   "cell_type": "code",
   "execution_count": null,
   "id": "1350563d",
   "metadata": {},
   "outputs": [],
   "source": [
    "SELECT funding_total\n",
    "FROM company\n",
    "WHERE category_code = 'news'\n",
    "     AND country_code = 'USA'\n",
    "ORDER BY funding_total DESC"
   ]
  },
  {
   "cell_type": "markdown",
   "id": "f037afc1",
   "metadata": {},
   "source": [
    "## Задача"
   ]
  },
  {
   "cell_type": "markdown",
   "id": "9974d27d",
   "metadata": {},
   "source": [
    "Найдите общую сумму сделок по покупке одних компаний другими в долларах. Отберите сделки, которые осуществлялись только за наличные с 2011 по 2013 год включительно."
   ]
  },
  {
   "cell_type": "code",
   "execution_count": null,
   "id": "7e78bcdd",
   "metadata": {},
   "outputs": [],
   "source": [
    "SELECT SUM(price_amount)\n",
    "FROM acquisition\n",
    "WHERE term_code = 'cash'\n",
    "    AND EXTRACT(YEAR FROM acquired_at) BETWEEN '2011' AND '2013'"
   ]
  },
  {
   "cell_type": "markdown",
   "id": "2afaedd6",
   "metadata": {},
   "source": [
    "## Задача"
   ]
  },
  {
   "cell_type": "markdown",
   "id": "fb773200",
   "metadata": {},
   "source": [
    "Отобразите имя, фамилию и названия аккаунтов людей в твиттере, у которых названия аккаунтов начинаются на 'Silver'."
   ]
  },
  {
   "cell_type": "code",
   "execution_count": null,
   "id": "69249b0f",
   "metadata": {},
   "outputs": [],
   "source": [
    "SELECT first_name,\n",
    "       last_name,\n",
    "       twitter_username\n",
    "FROM people\n",
    "WHERE twitter_username LIKE 'Silver%'"
   ]
  },
  {
   "cell_type": "markdown",
   "id": "88ce00a6",
   "metadata": {},
   "source": [
    "## Задача"
   ]
  },
  {
   "cell_type": "markdown",
   "id": "0aa5d9df",
   "metadata": {},
   "source": [
    "Выведите на экран всю информацию о людях, у которых названия аккаунтов в твиттере содержат подстроку 'money', а фамилия начинается на 'K'."
   ]
  },
  {
   "cell_type": "code",
   "execution_count": null,
   "id": "b4d1ebc7",
   "metadata": {},
   "outputs": [],
   "source": [
    "SELECT *\n",
    "FROM people\n",
    "WHERE twitter_username LIKE '%money%'\n",
    "    AND last_name LIKE 'K%'"
   ]
  },
  {
   "cell_type": "markdown",
   "id": "08a88f2a",
   "metadata": {},
   "source": [
    "## Задача"
   ]
  },
  {
   "cell_type": "markdown",
   "id": "7aac93af",
   "metadata": {},
   "source": [
    "Для каждой страны отобразите общую сумму привлечённых инвестиций, которые получили компании, зарегистрированные в этой стране. Страну, в которой зарегистрирована компания, можно определить по коду страны. Отсортируйте данные по убыванию суммы."
   ]
  },
  {
   "cell_type": "code",
   "execution_count": null,
   "id": "79687047",
   "metadata": {},
   "outputs": [],
   "source": [
    "SELECT country_code,\n",
    "       SUM(funding_total) fun\n",
    "FROM company\n",
    "GROUP BY country_code\n",
    "ORDER BY fun DESC"
   ]
  },
  {
   "cell_type": "markdown",
   "id": "ffdd8004",
   "metadata": {},
   "source": [
    "## Задача"
   ]
  },
  {
   "cell_type": "markdown",
   "id": "65a5a88a",
   "metadata": {},
   "source": [
    "Составьте таблицу, в которую войдёт дата проведения раунда, а также минимальное и максимальное значения суммы инвестиций, привлечённых в эту дату.\n",
    "Оставьте в итоговой таблице только те записи, в которых минимальное значение суммы инвестиций не равно нулю и не равно максимальному значению."
   ]
  },
  {
   "cell_type": "code",
   "execution_count": null,
   "id": "41d195ba",
   "metadata": {},
   "outputs": [],
   "source": [
    "SELECT funded_at,\n",
    "       MIN(raised_amount) min_amt,\n",
    "       MAX(raised_amount) max_amt\n",
    "FROM funding_round\n",
    "GROUP BY funded_at\n",
    "HAVING MIN(raised_amount) != 0\n",
    "    AND MIN(raised_amount) != MAX(raised_amount)"
   ]
  },
  {
   "cell_type": "markdown",
   "id": "078b309d",
   "metadata": {},
   "source": [
    "## Задача"
   ]
  },
  {
   "cell_type": "markdown",
   "id": "d80e629a",
   "metadata": {},
   "source": [
    "Создайте поле с категориями:\n",
    "- Для фондов, которые инвестируют в 100 и более компаний, назначьте категорию high_activity.\n",
    "- Для фондов, которые инвестируют в 20 и более компаний до 100, назначьте категорию middle_activity.\n",
    "- Если количество инвестируемых компаний фонда не достигает 20, назначьте категорию low_activity.\n",
    "Отобразите все поля таблицы fund и новое поле с категориями."
   ]
  },
  {
   "cell_type": "code",
   "execution_count": null,
   "id": "f9492f8b",
   "metadata": {},
   "outputs": [],
   "source": [
    "SELECT *,\n",
    "    CASE\n",
    "    WHEN invested_companies >= 100 THEN 'high_activity'\n",
    "    WHEN invested_companies < 20 THEN 'low_activity'\n",
    "    ELSE 'middle_activity'\n",
    "    END\n",
    "FROM fund"
   ]
  },
  {
   "cell_type": "markdown",
   "id": "739f98d5",
   "metadata": {},
   "source": [
    "## Задача"
   ]
  },
  {
   "cell_type": "markdown",
   "id": "9bf47eaa",
   "metadata": {},
   "source": [
    "Для каждой из категорий, назначенных в предыдущем задании, посчитайте округлённое до ближайшего целого числа среднее количество инвестиционных раундов, в которых фонд принимал участие. Выведите на экран категории и среднее число инвестиционных раундов. Отсортируйте таблицу по возрастанию среднего."
   ]
  },
  {
   "cell_type": "code",
   "execution_count": null,
   "id": "1e4611ab",
   "metadata": {},
   "outputs": [],
   "source": [
    "SELECT ROUND(AVG(investment_rounds)) avg_rounds,\n",
    "       CASE\n",
    "           WHEN invested_companies>=100 THEN 'high_activity'\n",
    "           WHEN invested_companies>=20 THEN 'middle_activity'\n",
    "           ELSE 'low_activity'\n",
    "       END AS activity\n",
    "FROM fund\n",
    "GROUP BY activity\n",
    "ORDER BY avg_rounds"
   ]
  },
  {
   "cell_type": "markdown",
   "id": "e5bbc76d",
   "metadata": {},
   "source": [
    "## Задача"
   ]
  },
  {
   "cell_type": "markdown",
   "id": "8c79b6f1",
   "metadata": {},
   "source": [
    "Проанализируйте, в каких странах находятся фонды, которые чаще всего инвестируют в стартапы. \n",
    "\n",
    "Для каждой страны посчитайте минимальное, максимальное и среднее число компаний, в которые инвестировали фонды этой страны, основанные с 2010 по 2012 год включительно. Исключите страны с фондами, у которых минимальное число компаний, получивших инвестиции, равно нулю. \n",
    "\n",
    "Выгрузите десять самых активных стран-инвесторов: отсортируйте таблицу по среднему количеству компаний от большего к меньшему. Затем добавьте сортировку по коду страны в лексикографическом порядке."
   ]
  },
  {
   "cell_type": "code",
   "execution_count": null,
   "id": "905b2d37",
   "metadata": {},
   "outputs": [],
   "source": [
    "WITH\n",
    "tab AS (SELECT country_code,\n",
    "               MIN(invested_companies) min_icom,\n",
    "               MAX(invested_companies) max_icom,\n",
    "               AVG(invested_companies) avg_icom\n",
    "          FROM fund\n",
    "          WHERE EXTRACT(YEAR FROM founded_at) BETWEEN 2010 AND 2012\n",
    "          GROUP BY country_code)\n",
    "\n",
    "SELECT *\n",
    "FROM tab\n",
    "WHERE min_icom > 0 \n",
    "ORDER BY avg_icom DESC, country_code\n",
    "LIMIT 10"
   ]
  },
  {
   "cell_type": "markdown",
   "id": "4a7ad1d4",
   "metadata": {},
   "source": [
    "## Задача"
   ]
  },
  {
   "cell_type": "markdown",
   "id": "31f3d5ee",
   "metadata": {},
   "source": [
    "Отобразите имя и фамилию всех сотрудников стартапов. Добавьте поле с названием учебного заведения, которое окончил сотрудник, если эта информация известна."
   ]
  },
  {
   "cell_type": "code",
   "execution_count": null,
   "id": "b39cb3ef",
   "metadata": {},
   "outputs": [],
   "source": [
    "SELECT p.first_name,\n",
    "       p.last_name,\n",
    "       e.instituition\n",
    "FROM people p\n",
    "LEFT JOIN education AS e ON p.id = e.person_id"
   ]
  },
  {
   "cell_type": "markdown",
   "id": "d530648e",
   "metadata": {},
   "source": [
    "## Задача"
   ]
  },
  {
   "cell_type": "markdown",
   "id": "cf98ab5d",
   "metadata": {},
   "source": [
    "Для каждой компании найдите количество учебных заведений, которые окончили её сотрудники. Выведите название компании и число уникальных названий учебных заведений. Составьте топ-5 компаний по количеству университетов."
   ]
  },
  {
   "cell_type": "code",
   "execution_count": null,
   "id": "44f15920",
   "metadata": {},
   "outputs": [],
   "source": [
    "WITH\n",
    "inst AS (SELECT p.company_id company,\n",
    "                COUNT(DISTINCT(e.instituition)) AS count\n",
    "         FROM people p\n",
    "         LEFT JOIN education AS e ON p.id = e.person_id\n",
    "         WHERE p.company_id IS NOT NULL\n",
    "         GROUP BY company\n",
    "         ORDER BY count DESC\n",
    "         LIMIT 5)\n",
    "         \n",
    "SELECT c.name,\n",
    "       i.count\n",
    "FROM inst i\n",
    "LEFT JOIN company AS c ON i.company = c.id"
   ]
  },
  {
   "cell_type": "markdown",
   "id": "5d5591ae",
   "metadata": {},
   "source": [
    "## Задача"
   ]
  },
  {
   "cell_type": "markdown",
   "id": "beda5f98",
   "metadata": {},
   "source": [
    "Составьте список с уникальными названиями закрытых компаний, для которых первый раунд финансирования оказался последним."
   ]
  },
  {
   "cell_type": "code",
   "execution_count": null,
   "id": "9538bf7b",
   "metadata": {},
   "outputs": [],
   "source": [
    "SELECT DISTINCT(c.name)\n",
    "FROM funding_round fr\n",
    "LEFT JOIN company AS c ON fr.company_id = c.id\n",
    "WHERE fr.is_first_round = 1\n",
    "       AND fr.is_last_round = 1\n",
    "       AND status = 'closed'"
   ]
  },
  {
   "cell_type": "markdown",
   "id": "d08fccd9",
   "metadata": {},
   "source": [
    "## Задача"
   ]
  },
  {
   "cell_type": "markdown",
   "id": "ec63c9f5",
   "metadata": {},
   "source": [
    "Составьте список уникальных номеров сотрудников, которые работают в компаниях, отобранных в предыдущем задании."
   ]
  },
  {
   "cell_type": "code",
   "execution_count": null,
   "id": "8bc119b1",
   "metadata": {},
   "outputs": [],
   "source": [
    "SELECT id\n",
    "FROM people\n",
    "WHERE company_id IN (SELECT DISTINCT(c.id)\n",
    "                FROM funding_round fr\n",
    "                LEFT JOIN company AS c ON fr.company_id = c.id\n",
    "                WHERE fr.is_first_round = 1\n",
    "                       AND fr.is_last_round = 1\n",
    "                       AND status = 'closed')"
   ]
  },
  {
   "cell_type": "markdown",
   "id": "2ed8c6e4",
   "metadata": {},
   "source": [
    "## Задача"
   ]
  },
  {
   "cell_type": "markdown",
   "id": "5adc0ecc",
   "metadata": {},
   "source": [
    "Составьте таблицу, куда войдут уникальные пары с номерами сотрудников из предыдущей задачи и учебным заведением, которое окончил сотрудник."
   ]
  },
  {
   "cell_type": "code",
   "execution_count": null,
   "id": "0b854dcd",
   "metadata": {},
   "outputs": [],
   "source": [
    "SELECT DISTINCT(person_id),\n",
    "       instituition\n",
    "FROM education\n",
    "WHERE person_id IN (SELECT id\n",
    "                    FROM people\n",
    "                    WHERE company_id IN (SELECT DISTINCT(c.id)\n",
    "                                         FROM funding_round fr\n",
    "                                         LEFT JOIN company AS c ON fr.company_id = c.id\n",
    "                                         WHERE fr.is_first_round = 1\n",
    "                                                AND fr.is_last_round = 1\n",
    "                                                AND status = 'closed'))"
   ]
  },
  {
   "cell_type": "markdown",
   "id": "b291c92b",
   "metadata": {},
   "source": [
    "## Задача"
   ]
  },
  {
   "cell_type": "markdown",
   "id": "c845cb1c",
   "metadata": {},
   "source": [
    "Посчитайте количество учебных заведений для каждого сотрудника из предыдущего задания. При подсчёте учитывайте, что некоторые сотрудники могли окончить одно и то же заведение дважды."
   ]
  },
  {
   "cell_type": "code",
   "execution_count": null,
   "id": "7be466c3",
   "metadata": {},
   "outputs": [],
   "source": [
    "WITH\n",
    "p AS (SELECT person_id AS id,\n",
    "       instituition inst\n",
    "      FROM education\n",
    "      WHERE person_id IN (SELECT id\n",
    "                          FROM people\n",
    "                          WHERE company_id IN (SELECT DISTINCT(c.id)\n",
    "                                               FROM funding_round fr\n",
    "                                               LEFT JOIN company AS c ON fr.company_id = c.id\n",
    "                                               WHERE fr.is_first_round = 1\n",
    "                                                      AND fr.is_last_round = 1\n",
    "                                                      AND status = 'closed')))\n",
    "\n",
    "SELECT id,\n",
    "       COUNT(inst)\n",
    "FROM p\n",
    "GROUP BY id"
   ]
  },
  {
   "cell_type": "markdown",
   "id": "af53a057",
   "metadata": {},
   "source": [
    "## Задача"
   ]
  },
  {
   "cell_type": "markdown",
   "id": "a20bcdc1",
   "metadata": {},
   "source": [
    "Дополните предыдущий запрос и выведите среднее число учебных заведений (всех, не только уникальных), которые окончили сотрудники разных компаний. Нужно вывести только одну запись, группировка здесь не понадобится."
   ]
  },
  {
   "cell_type": "code",
   "execution_count": null,
   "id": "fd333acd",
   "metadata": {},
   "outputs": [],
   "source": [
    "WITH\n",
    "p AS (SELECT person_id AS id,\n",
    "       instituition inst\n",
    "      FROM education\n",
    "      WHERE person_id IN (SELECT id\n",
    "                          FROM people\n",
    "                          WHERE company_id IN (SELECT DISTINCT(c.id)\n",
    "                                               FROM funding_round fr\n",
    "                                               LEFT JOIN company AS c ON fr.company_id = c.id\n",
    "                                               WHERE fr.is_first_round = 1\n",
    "                                                      AND fr.is_last_round = 1\n",
    "                                                      AND status = 'closed')))\n",
    "\n",
    "SELECT AVG(co.count_in) \n",
    "FROM (SELECT id,\n",
    "       COUNT(inst) count_in\n",
    "       FROM p\n",
    "       GROUP BY id) AS co"
   ]
  },
  {
   "cell_type": "markdown",
   "id": "e266ef1c",
   "metadata": {},
   "source": [
    "## Задача"
   ]
  },
  {
   "cell_type": "markdown",
   "id": "837b4b7e",
   "metadata": {},
   "source": [
    "Напишите похожий запрос: выведите среднее число учебных заведений (всех, не только уникальных), которые окончили сотрудники Facebook*.\n",
    "\n",
    "*(сервис, запрещённый на территории РФ)"
   ]
  },
  {
   "cell_type": "code",
   "execution_count": null,
   "id": "92389789",
   "metadata": {},
   "outputs": [],
   "source": [
    "WITH\n",
    "p AS (SELECT person_id AS id,\n",
    "       instituition inst\n",
    "      FROM education\n",
    "      WHERE person_id IN (SELECT id\n",
    "                          FROM people\n",
    "                          WHERE company_id IN (SELECT id\n",
    "                                               FROM company\n",
    "                                               WHERE name = 'Facebook')))\n",
    "\n",
    "SELECT AVG(co.count_in)\n",
    "FROM (SELECT id,\n",
    "       COUNT(inst) count_in\n",
    "       FROM p\n",
    "       GROUP BY id) AS co"
   ]
  },
  {
   "cell_type": "markdown",
   "id": "8ed79935",
   "metadata": {},
   "source": [
    "## Задача"
   ]
  },
  {
   "cell_type": "markdown",
   "id": "bd8a0112",
   "metadata": {},
   "source": [
    "Составьте таблицу из полей:\n",
    "- name_of_fund — название фонда;\n",
    "- name_of_company — название компании;\n",
    "- amount — сумма инвестиций, которую привлекла компания в раунде.\n",
    "В таблицу войдут данные о компаниях, в истории которых было больше шести важных этапов, а раунды финансирования проходили с 2012 по 2013 год включительно."
   ]
  },
  {
   "cell_type": "code",
   "execution_count": null,
   "id": "ea7bac96",
   "metadata": {},
   "outputs": [],
   "source": [
    "WITH\n",
    "ra AS (SELECT *\n",
    "       FROM funding_round\n",
    "       WHERE EXTRACT(YEAR FROM funded_at) BETWEEN 2012 AND 2013)\n",
    "\n",
    "SELECT f.name name_of_fund,\n",
    "       c.name name_of_company,\n",
    "       ra.raised_amount amount\n",
    "FROM investment i\n",
    "LEFT JOIN company AS c ON c.id = i.company_id\n",
    "LEFT JOIN fund AS f ON i.fund_id = f.id\n",
    "JOIN ra ON ra.id = i.funding_round_id\n",
    "WHERE c.milestones > 6"
   ]
  },
  {
   "cell_type": "markdown",
   "id": "dbd6006a",
   "metadata": {},
   "source": [
    "## Задача"
   ]
  },
  {
   "cell_type": "markdown",
   "id": "ee5433b5",
   "metadata": {},
   "source": [
    "Выгрузите таблицу, в которой будут такие поля:\n",
    "- название компании-покупателя;\n",
    "- сумма сделки;\n",
    "- название компании, которую купили;\n",
    "- сумма инвестиций, вложенных в купленную компанию;\n",
    "- доля, которая отображает, во сколько раз сумма покупки превысила сумму вложенных в компанию инвестиций, округлённая до ближайшего целого числа.\n",
    "\n",
    "Не учитывайте те сделки, в которых сумма покупки равна нулю. Если сумма инвестиций в компанию равна нулю, исключите такую компанию из таблицы. \n",
    "Отсортируйте таблицу по сумме сделки от большей к меньшей, а затем по названию купленной компании в лексикографическом порядке. Ограничьте таблицу первыми десятью записями."
   ]
  },
  {
   "cell_type": "code",
   "execution_count": null,
   "id": "2799b558",
   "metadata": {},
   "outputs": [],
   "source": [
    "WITH\n",
    "fa AS (SELECT *\n",
    "       FROM acquisition\n",
    "       WHERE price_amount > 0),\n",
    "fc AS (SELECT *\n",
    "       FROM company\n",
    "       WHERE funding_total > 0)\n",
    "\n",
    "SELECT c.name buyer,\n",
    "       fa.price_amount,\n",
    "       fc.name,\n",
    "       fc.funding_total,\n",
    "       ROUND(fa.price_amount/fc.funding_total)\n",
    "       \n",
    "FROM fa\n",
    "JOIN fc ON fa.acquired_company_id = fc.id\n",
    "LEFT JOIN company AS c ON fa.acquiring_company_id = c.id\n",
    "ORDER BY fa.price_amount DESC, fc.name\n",
    "LIMIT 10"
   ]
  },
  {
   "cell_type": "markdown",
   "id": "9857e988",
   "metadata": {},
   "source": [
    "## Задача"
   ]
  },
  {
   "cell_type": "markdown",
   "id": "2200b610",
   "metadata": {},
   "source": [
    "Выгрузите таблицу, в которую войдут названия компаний из категории social, получившие финансирование с 2010 по 2013 год включительно. Проверьте, что сумма инвестиций не равна нулю. Выведите также номер месяца, в котором проходил раунд финансирования."
   ]
  },
  {
   "cell_type": "code",
   "execution_count": null,
   "id": "2091dccf",
   "metadata": {},
   "outputs": [],
   "source": [
    "SELECT  c.name,\n",
    "        EXTRACT(MONTH FROM fr.funded_at)\n",
    "FROM company c\n",
    "LEFT JOIN funding_round AS fr ON c.id = fr.company_id\n",
    "WHERE c.category_code = 'social'\n",
    "        AND fr.funded_at BETWEEN '2010-01-01' AND '2013-12-31'\n",
    "        AND fr.raised_amount != 0"
   ]
  },
  {
   "cell_type": "markdown",
   "id": "88a87702",
   "metadata": {},
   "source": [
    "## Задача"
   ]
  },
  {
   "cell_type": "markdown",
   "id": "5bd8a703",
   "metadata": {},
   "source": [
    "Отберите данные по месяцам с 2010 по 2013 год, когда проходили инвестиционные раунды. Сгруппируйте данные по номеру месяца и получите таблицу, в которой будут поля:\n",
    "- номер месяца, в котором проходили раунды;\n",
    "- количество уникальных названий фондов из США, которые инвестировали в этом месяце;\n",
    "- количество компаний, купленных за этот месяц;\n",
    "- общая сумма сделок по покупкам в этом месяце."
   ]
  },
  {
   "cell_type": "code",
   "execution_count": null,
   "id": "18f31d25",
   "metadata": {},
   "outputs": [],
   "source": [
    "WITH\n",
    "uf AS (SELECT EXTRACT(MONTH FROM funded_at) AS month,\n",
    "              COUNT(DISTINCT(f.name)) fund_count\n",
    "       FROM funding_round AS fr\n",
    "       LEFT JOIN investment AS i ON fr.id = i.funding_round_id\n",
    "       LEFT JOIN fund as f ON i.fund_id = f.id\n",
    "       WHERE EXTRACT(YEAR FROM funded_at) BETWEEN 2010 AND 2013\n",
    "              AND f.country_code = 'USA'\n",
    "       GROUP BY month),\n",
    "       \n",
    "ac AS (SELECT EXTRACT(MONTH FROM acquired_at) AS month,\n",
    "              COUNT(acquired_company_id) comp_count,\n",
    "              SUM(price_amount) amt\n",
    "       FROM acquisition\n",
    "       WHERE EXTRACT(YEAR FROM acquired_at) BETWEEN 2010 AND 2013\n",
    "       GROUP BY month)\n",
    "       \n",
    "SELECT uf.month,\n",
    "       uf.fund_count,\n",
    "       ac.comp_count,\n",
    "       ac.amt\n",
    "FROM uf\n",
    "JOIN ac ON uf.month = ac.month"
   ]
  },
  {
   "cell_type": "markdown",
   "id": "d3c12001",
   "metadata": {},
   "source": [
    "## Задача"
   ]
  },
  {
   "cell_type": "markdown",
   "id": "b74b7fcf",
   "metadata": {},
   "source": [
    "Составьте сводную таблицу и выведите среднюю сумму инвестиций для стран, в которых есть стартапы, зарегистрированные в 2011, 2012 и 2013 годах. Данные за каждый год должны быть в отдельном поле. Отсортируйте таблицу по среднему значению инвестиций за 2011 год от большего к меньшему."
   ]
  },
  {
   "cell_type": "code",
   "execution_count": null,
   "id": "bdd226eb",
   "metadata": {},
   "outputs": [],
   "source": [
    "WITH\n",
    "y11 AS (SELECT country_code,\n",
    "               AVG(funding_total) avg_fund11\n",
    "        FROM company\n",
    "        WHERE EXTRACT(YEAR FROM founded_at) = 2011\n",
    "        GROUP BY country_code),\n",
    "        \n",
    "y12 AS (SELECT country_code,\n",
    "               AVG(funding_total) avg_fund12\n",
    "        FROM company\n",
    "        WHERE EXTRACT(YEAR FROM founded_at) = 2012\n",
    "        GROUP BY country_code),\n",
    "\n",
    "y13 AS (SELECT country_code,\n",
    "               AVG(funding_total) avg_fund13\n",
    "        FROM company\n",
    "        WHERE EXTRACT(YEAR FROM founded_at) = 2013\n",
    "        GROUP BY country_code)\n",
    "        \n",
    "SELECT y11.country_code,\n",
    "       y11.avg_fund11,\n",
    "       y12.avg_fund12,\n",
    "       y13.avg_fund13\n",
    "FROM y11\n",
    "JOIN y12 ON y11.country_code = y12.country_code\n",
    "JOIN y13 ON y11.country_code = y13.country_code\n",
    "ORDER BY y11.avg_fund11 DESC"
   ]
  }
 ],
 "metadata": {
  "kernelspec": {
   "display_name": "Python 3 (ipykernel)",
   "language": "python",
   "name": "python3"
  },
  "language_info": {
   "codemirror_mode": {
    "name": "ipython",
    "version": 3
   },
   "file_extension": ".py",
   "mimetype": "text/x-python",
   "name": "python",
   "nbconvert_exporter": "python",
   "pygments_lexer": "ipython3",
   "version": "3.9.13"
  },
  "toc": {
   "base_numbering": 1,
   "nav_menu": {},
   "number_sections": true,
   "sideBar": true,
   "skip_h1_title": true,
   "title_cell": "Table of Contents",
   "title_sidebar": "Contents",
   "toc_cell": true,
   "toc_position": {},
   "toc_section_display": true,
   "toc_window_display": false
  }
 },
 "nbformat": 4,
 "nbformat_minor": 5
}
